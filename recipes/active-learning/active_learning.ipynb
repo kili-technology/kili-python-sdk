{
 "cells": [
  {
   "cell_type": "markdown",
   "metadata": {
    "colab_type": "text",
    "id": "4Cl_cnU113zs"
   },
   "source": [
    "# Active learning using kili-technology"
   ]
  },
  {
   "cell_type": "markdown",
   "metadata": {
    "colab_type": "text",
    "id": "bRne99kG13zw"
   },
   "source": [
    "In this tutorial, we will see how you can use an active learning framework in conjunction with kili-technology to increase your productivity. \n",
    "\n",
    "It is no secret that machine learning models, especially deep learning models, need lots of training data. In the real world, unsupervised data is plenty while supervised data is rare and costly to obtain. Thus, you may be interested in using active learning : it is the task of choosing well the data samples to annotate to get the best performance given a fixed number of annotations.\n",
    "\n",
    "At kili-technology, we develop the best annotation platform, to quickly get a production ready dataset. One of the features of our python - graphQL API is the ability to order the data samples to annotate, by giving them priority. This allows the use of active learning algorithms. We will show you how to do that here :"
   ]
  },
  {
   "cell_type": "markdown",
   "metadata": {
    "colab_type": "text",
    "id": "ykaXeH0N13zx"
   },
   "source": [
    "## Creating the project"
   ]
  },
  {
   "cell_type": "code",
   "execution_count": 5,
   "metadata": {},
   "outputs": [
    {
     "name": "stdout",
     "output_type": "stream",
     "text": [
      "Requirement already satisfied: kili in /Users/maximeduval/Documents/kili-playground (2.26.0)\n",
      "Requirement already satisfied: pandas in /opt/anaconda3/lib/python3.7/site-packages (from kili) (1.0.1)\n",
      "Requirement already satisfied: requests in /opt/anaconda3/lib/python3.7/site-packages (from kili) (2.22.0)\n",
      "Requirement already satisfied: six in /opt/anaconda3/lib/python3.7/site-packages (from kili) (1.14.0)\n",
      "Requirement already satisfied: tqdm in /opt/anaconda3/lib/python3.7/site-packages (from kili) (4.42.1)\n",
      "Requirement already satisfied: websocket-client in /opt/anaconda3/lib/python3.7/site-packages (from kili) (0.57.0)\n",
      "Requirement already satisfied: pytz>=2017.2 in /opt/anaconda3/lib/python3.7/site-packages (from pandas->kili) (2019.3)\n",
      "Requirement already satisfied: numpy>=1.13.3 in /opt/anaconda3/lib/python3.7/site-packages (from pandas->kili) (1.19.1)\n",
      "Requirement already satisfied: python-dateutil>=2.6.1 in /opt/anaconda3/lib/python3.7/site-packages (from pandas->kili) (2.8.1)\n",
      "Requirement already satisfied: idna<2.9,>=2.5 in /opt/anaconda3/lib/python3.7/site-packages (from requests->kili) (2.8)\n",
      "Requirement already satisfied: urllib3!=1.25.0,!=1.25.1,<1.26,>=1.21.1 in /opt/anaconda3/lib/python3.7/site-packages (from requests->kili) (1.25.8)\n",
      "Requirement already satisfied: chardet<3.1.0,>=3.0.2 in /opt/anaconda3/lib/python3.7/site-packages (from requests->kili) (3.0.4)\n",
      "Requirement already satisfied: certifi>=2017.4.17 in /opt/anaconda3/lib/python3.7/site-packages (from requests->kili) (2019.11.28)\n"
     ]
    }
   ],
   "source": [
    "# Authentication\n",
    "import os\n",
    "\n",
    "!pip install kili # uncomment if you don't have kili installed already\n",
    "from kili.client import Kili\n",
    "\n",
    "api_endpoint = os.getenv('KILI_API_ENDPOINT')# If you use Kili SaaS use 'https://cloud.kili-technology.com/api/label/v2/graphql'\n",
    "\n",
    "kili = Kili(api_endpoint=api_endpoint)"
   ]
  },
  {
   "cell_type": "markdown",
   "metadata": {
    "colab_type": "text",
    "id": "o3aopH-a13z1"
   },
   "source": [
    "Let's set up a project. For this example, we will use the MNIST dataset and digit classification task."
   ]
  },
  {
   "cell_type": "code",
   "execution_count": 8,
   "metadata": {
    "colab": {},
    "colab_type": "code",
    "id": "Z84-QBMF13z2"
   },
   "outputs": [],
   "source": [
    "# JSON interface\n",
    "job_id = 'JOB_0'\n",
    "json_interface = {\n",
    "  \"jobs\": {\n",
    "    job_id: {\n",
    "      \"mlTask\": \"CLASSIFICATION\",\n",
    "      \"content\": {\n",
    "        \"input\": \"radio\",\n",
    "        \"categories\": {\n",
    "          \"0\": {\n",
    "            \"name\": \"0\"\n",
    "          },\n",
    "          \"1\": {\n",
    "            \"name\": \"1\"\n",
    "          },\n",
    "          \"2\": {\n",
    "            \"name\": \"2\"\n",
    "          },\n",
    "          \"3\": {\n",
    "            \"name\": \"3\"\n",
    "          },\n",
    "          \"4\": {\n",
    "            \"name\": \"4\"\n",
    "          },\n",
    "          \"5\": {\n",
    "            \"name\": \"5\"\n",
    "          },\n",
    "          \"6\": {\n",
    "            \"name\": \"6\"\n",
    "          },\n",
    "          \"7\": {\n",
    "            \"name\": \"7\"\n",
    "          },\n",
    "          \"8\": {\n",
    "            \"name\": \"8\"\n",
    "          },\n",
    "          \"9\": {\n",
    "            \"name\": \"9\"\n",
    "          }\n",
    "        }\n",
    "      },\n",
    "      \"required\": True,\n",
    "      \"instruction\": \"Classify following numbers\"\n",
    "    }\n",
    "  }\n",
    "}"
   ]
  },
  {
   "cell_type": "code",
   "execution_count": 9,
   "metadata": {
    "colab": {
     "base_uri": "https://localhost:8080/",
     "height": 34
    },
    "colab_type": "code",
    "id": "3vZRxuHx13z4",
    "outputId": "ab6ac8a6-aceb-4b2a-d697-d6827c0ed4b2"
   },
   "outputs": [],
   "source": [
    "# Create project\n",
    "title = 'Active learning with Kili Technology'\n",
    "description = 'This is a demo project'\n",
    "input_type = 'IMAGE'\n",
    "\n",
    "project = kili.create_project(\n",
    "    description=description,\n",
    "    input_type=input_type,\n",
    "    json_interface=json_interface,\n",
    "    title=title,\n",
    "    user_id=kili.auth.user_id\n",
    ")\n",
    "project_id = project['id']"
   ]
  },
  {
   "cell_type": "markdown",
   "metadata": {
    "colab_type": "text",
    "id": "3QGEIIwo13z7"
   },
   "source": [
    "## Downloading and setting up the dataset"
   ]
  },
  {
   "cell_type": "code",
   "execution_count": 10,
   "metadata": {
    "colab": {
     "base_uri": "https://localhost:8080/",
     "height": 71
    },
    "colab_type": "code",
    "id": "oD9lCmDE13z-",
    "outputId": "b286eba0-1e8f-4cec-d810-abe64e71874d"
   },
   "outputs": [],
   "source": [
    "import os\n",
    "import glob\n",
    "import random\n",
    "from collections import defaultdict\n",
    "\n",
    "import numpy as np\n",
    "import matplotlib.pyplot as plt\n",
    "import seaborn as sns\n",
    "import tqdm\n",
    "\n",
    "import numpy as np\n",
    "import torch\n",
    "import torch.nn as nn\n",
    "import torch.nn.functional as F\n",
    "import torchvision\n",
    "import torchvision.transforms as transforms\n",
    "from torch.utils.data import DataLoader, random_split, TensorDataset"
   ]
  },
  {
   "cell_type": "code",
   "execution_count": 11,
   "metadata": {
    "colab": {},
    "colab_type": "code",
    "id": "xNQlMVG0130B"
   },
   "outputs": [],
   "source": [
    "np.random.seed(42)"
   ]
  },
  {
   "cell_type": "code",
   "execution_count": null,
   "metadata": {},
   "outputs": [],
   "source": [
    "original_mnist = torchvision.datasets.MNIST(\n",
    "    root='data/', train=True, transform=transforms.ToTensor(), download=True\n",
    ")"
   ]
  },
  {
   "cell_type": "markdown",
   "metadata": {
    "colab_type": "text",
    "id": "EonFfqX8130F"
   },
   "source": [
    "I convert images of the dataset into the png format using this script"
   ]
  },
  {
   "cell_type": "code",
   "execution_count": 18,
   "metadata": {},
   "outputs": [
    {
     "name": "stderr",
     "output_type": "stream",
     "text": [
      "60000it [00:44, 1357.56it/s]\n",
      "10000it [00:07, 1372.92it/s]\n"
     ]
    }
   ],
   "source": [
    "# cf !git clone https://github.com/myleott/mnist_png\n",
    "import struct\n",
    "import sys\n",
    "from array import array\n",
    "from os import path\n",
    "\n",
    "# source: http://abel.ee.ucla.edu/cvxopt/_downloads/mnist.py\n",
    "def read(dataset = \"training\", path = \".\"):\n",
    "    if dataset is \"training\":\n",
    "        fname_img = os.path.join(path, 'train-images-idx3-ubyte')\n",
    "        fname_lbl = os.path.join(path, 'train-labels-idx1-ubyte')\n",
    "    elif dataset is \"testing\":\n",
    "        fname_img = os.path.join(path, 't10k-images-idx3-ubyte')\n",
    "        fname_lbl = os.path.join(path, 't10k-labels-idx1-ubyte')\n",
    "    else:\n",
    "        raise ValueError(\"dataset must be 'testing' or 'training'\")\n",
    "\n",
    "    flbl = open(fname_lbl, 'rb')\n",
    "    magic_nr, size = struct.unpack(\">II\", flbl.read(8))\n",
    "    lbl = array(\"b\", flbl.read())\n",
    "    flbl.close()\n",
    "\n",
    "    fimg = open(fname_img, 'rb')\n",
    "    magic_nr, size, rows, cols = struct.unpack(\">IIII\", fimg.read(16))\n",
    "    img = array(\"B\", fimg.read())\n",
    "    fimg.close()\n",
    "\n",
    "    return lbl, img, size, rows, cols\n",
    "\n",
    "def write_dataset(labels, data, size, rows, cols, output_dir):\n",
    "    # create output directories\n",
    "    output_dirs = [\n",
    "        path.join(output_dir, str(i))\n",
    "        for i in range(10)\n",
    "    ]\n",
    "    for dir in output_dirs:\n",
    "        if not path.exists(dir):\n",
    "            os.makedirs(dir)\n",
    "\n",
    "    # write data\n",
    "    for (i, label) in tqdm.tqdm(enumerate(labels), total=len(labels)):\n",
    "        output_filename = path.join(output_dirs[label], str(i) + \".png\")\n",
    "        with open(output_filename, \"wb\") as h:\n",
    "            w = png.Writer(cols, rows, greyscale=True)\n",
    "            data_i = [\n",
    "                data[ (i*rows*cols + j*cols) : (i*rows*cols + (j+1)*cols) ]\n",
    "                for j in range(rows)\n",
    "            ]\n",
    "            w.write(h, data_i)\n",
    "            \n",
    "            \n",
    "input_path = 'data/MNIST/raw/'\n",
    "output_path = 'data/MNIST/png'\n",
    "\n",
    "for dataset in [\"training\", \"testing\"]:\n",
    "    labels, data, size, rows, cols = read(dataset, input_path)\n",
    "    write_dataset(labels, data, size, rows, cols,\n",
    "                  path.join(output_path, dataset))"
   ]
  },
  {
   "cell_type": "markdown",
   "metadata": {
    "colab_type": "text",
    "id": "QJ_atPm6130K"
   },
   "source": [
    "We will use the 5000 first training samples as a validation dataset, and 10000 random samples as training data"
   ]
  },
  {
   "cell_type": "code",
   "execution_count": 19,
   "metadata": {
    "colab": {},
    "colab_type": "code",
    "id": "c5rC8_Bi130L"
   },
   "outputs": [],
   "source": [
    "validation_size = 5000\n",
    "train_size = 10000\n",
    "\n",
    "id_train = np.random.choice(np.arange(validation_size, len(original_mnist)), size=train_size, replace=False)\n",
    "idtrain2range = {v: i for i, v in enumerate(id_train)}\n",
    "range2idtrain = {i: v for i, v in enumerate(id_train)}\n",
    "\n",
    "# Keep some examples as a validation\n",
    "mnist_validation = TensorDataset(\n",
    "    original_mnist.data[:validation_size].float() * 2.0 / 255.0 -1.0,\n",
    "    original_mnist.targets[:validation_size]\n",
    ")"
   ]
  },
  {
   "cell_type": "code",
   "execution_count": null,
   "metadata": {},
   "outputs": [],
   "source": [
    "y_train = original_mnist.targets[id_train].numpy()\n",
    "files2push = []\n",
    "external_ids = []\n",
    "for i, id_ in tqdm.notebook.tqdm(enumerate(id_train)):\n",
    "    y_i = y_train[i]\n",
    "    path_i = f'data/MNIST/png/training/{y_i}/{id_}.png'\n",
    "    files2push.append(path_i)\n",
    "    external_ids.append(id_)"
   ]
  },
  {
   "cell_type": "markdown",
   "metadata": {
    "colab_type": "text",
    "id": "Ydc_WCtc130N"
   },
   "source": [
    "Import images to kili-technology :"
   ]
  },
  {
   "cell_type": "code",
   "execution_count": 29,
   "metadata": {
    "colab": {
     "base_uri": "https://localhost:8080/",
     "height": 34
    },
    "colab_type": "code",
    "id": "16oZ0htlhp7e",
    "outputId": "acae4811-cf3f-423d-9c12-d400e734908e",
    "scrolled": true
   },
   "outputs": [],
   "source": [
    "# kili.append_many_to_dataset(project_id=project_id,\n",
    "#                                  content_array=files2push,\n",
    "#                                  external_id_array=external_ids)"
   ]
  },
  {
   "cell_type": "markdown",
   "metadata": {
    "colab_type": "text",
    "id": "YU7kHSJ8130S"
   },
   "source": [
    "## AL in practice"
   ]
  },
  {
   "cell_type": "code",
   "execution_count": 30,
   "metadata": {
    "colab": {},
    "colab_type": "code",
    "id": "cHxsPsoo130T"
   },
   "outputs": [],
   "source": [
    "# All examples that are not yet labelled have a label set to -1\n",
    "def unlabeled_dataset():\n",
    "    return TensorDataset(\n",
    "        original_mnist.data[id_train].float() * 2.0 / 255.0 -1.0,\n",
    "        torch.zeros_like(original_mnist.targets[id_train])-1\n",
    "    )\n",
    "\n",
    "\n",
    "def process_label(kili_label):\n",
    "    \"\"\"\n",
    "    Transform the label produced by kili technology into the label suited for the task.\n",
    "    \"\"\"\n",
    "    return int(kili_label[0]['jsonResponse']['JOB_0']['categories'][0]['name'])\n",
    "\n",
    "assetId2priority = defaultdict(int)\n",
    "def call_expert(dataset, indices, local=True):\n",
    "    \"\"\"\n",
    "    This function labels the requested examples\n",
    "    \"\"\"\n",
    "    if local:\n",
    "        label_counter = defaultdict(int)\n",
    "        for i in indices:\n",
    "            y_i = original_mnist.targets[range2idtrain[int(i)]]\n",
    "            dataset.tensors[1][i] = y_i\n",
    "            label_counter[int(y_i)] += 1\n",
    "        return label_counter\n",
    "    else:\n",
    "        assets = kili.assets(project_id=project_id, fields=['externalId', 'id'])\n",
    "        extarnalId2asset = {}\n",
    "        for asset in assets:\n",
    "            extarnalId2asset[int(asset['externalId'].split('.')[0])] = asset\n",
    "        # To maintain an ordered dataset, increase the priority of all previous labeled samples, in case\n",
    "        # all queried assets are not yet labeled.\n",
    "        # You can also make sure manually that the queried samples are labeled.\n",
    "        for i in indices:\n",
    "            assetId2priority[i] += 1\n",
    "        for i in assetId2priority.keys():\n",
    "            if i not in indices:\n",
    "                assetId2priority[i] += 1\n",
    "            try:\n",
    "                kili.update_properties_in_assets(asset_ids=[extarnalId2asset[i]['id']],\n",
    "                                                  priorities=[assetId2priority[i]])\n",
    "            except:\n",
    "                raise ValueError(f'Did you upload asset with external id {i} into kili ?')\n",
    "        # Label assets in the application\n",
    "        done = input(\"Did you label the queried inputs ? \")\n",
    "        if done:\n",
    "            external_ids = [f'{i}.png' for i in indices]\n",
    "            labeled_assets = kili.assets(project_id=project_id,\n",
    "                                               external_id_contains=external_ids,\n",
    "                                               fields=['priority', 'labels.jsonResponse', 'externalId'])\n",
    "            external2labeled_assets = {}\n",
    "            for asset in labeled_assets:\n",
    "                external2labeled_assets[int(asset['externalId'].split('.')[0])] = asset\n",
    "            for i in indices:\n",
    "                if len(external2labeled_assets[i]['labels']) > 0:\n",
    "                    dataset.tensors[1][idtrain2range[i]] = process_label(external2labeled_assets[i]['labels'])\n",
    "\n",
    "# Keep 5000 examples as a validation\n",
    "mnist_validation = TensorDataset(\n",
    "    original_mnist.data[:5000].float() * 2.0 / 255.0 -1.0,\n",
    "    original_mnist.targets[:5000]\n",
    ")"
   ]
  },
  {
   "cell_type": "code",
   "execution_count": 33,
   "metadata": {
    "colab": {},
    "colab_type": "code",
    "id": "nHOsW0Ip130V",
    "scrolled": true
   },
   "outputs": [],
   "source": [
    "# Uncomment the following lines to test the query mechanism  :\n",
    "\n",
    "# dataset = unlabeled_dataset()\n",
    "# print(f'Label asset with external id {id_train[0]}')\n",
    "# call_expert(dataset, [id_train[0]], local=False)\n",
    "# assets = kili.assets(project_id=project_id,\n",
    "#                   fields=['priority', 'labels.jsonResponse', 'externalId'],\n",
    "#                   external_id_contains=[f'{id_train[0]}.png'])\n",
    "# asset = assets[0]\n",
    "# label = process_label(asset['labels'])\n",
    "# print('Asset : ', asset, 'label : ', label)"
   ]
  },
  {
   "cell_type": "code",
   "execution_count": 34,
   "metadata": {
    "colab": {},
    "colab_type": "code",
    "id": "BZa0Dk2O130X"
   },
   "outputs": [],
   "source": [
    "class ConvModel(nn.Module):\n",
    "    def __init__(self):\n",
    "        super(ConvModel, self).__init__()\n",
    "        self.conv = nn.Sequential(*[\n",
    "            nn.Conv2d(1, 16, 3, stride=1, padding=1),\n",
    "            nn.ReLU(),\n",
    "            nn.Conv2d(16, 16, 3, stride=1, padding=1),\n",
    "            nn.ReLU(),\n",
    "            nn.MaxPool2d(2, padding=1),\n",
    "            nn.Conv2d(16, 16, 3, stride=1, padding=1),\n",
    "            nn.ReLU(),\n",
    "            nn.MaxPool2d(2),\n",
    "            nn.Conv2d(16, 16, 3, stride=1, padding=1),\n",
    "            nn.ReLU(),\n",
    "            nn.Flatten(),\n",
    "            nn.Linear(7*7*16, 10)\n",
    "        ])\n",
    "    \n",
    "    def forward(self, x):\n",
    "        if x.dim() != 4:\n",
    "            x = x[:, None, :, :]\n",
    "        return self.conv(x)"
   ]
  },
  {
   "cell_type": "code",
   "execution_count": 35,
   "metadata": {
    "colab": {},
    "colab_type": "code",
    "id": "xKErcIQi130Z"
   },
   "outputs": [],
   "source": [
    "# number of training iterations between each expert call\n",
    "# the number of epochs is thus num_iter * batch_size / len(dataset)\n",
    "BATCH_SIZE = 32\n",
    "CRITERION = nn.CrossEntropyLoss()\n",
    "LEARNING_RATE = 0.003"
   ]
  },
  {
   "cell_type": "code",
   "execution_count": 36,
   "metadata": {
    "colab": {},
    "colab_type": "code",
    "id": "-ubD7ffO130c"
   },
   "outputs": [],
   "source": [
    "def get_preds(model, dataset):\n",
    "    loader = DataLoader(dataset, batch_size=512, shuffle=False)\n",
    "    preds = []\n",
    "    with torch.no_grad():\n",
    "        for (data, _) in loader:\n",
    "            data = data\n",
    "            prediction = model(data)\n",
    "            preds.append(prediction.data)\n",
    "    return torch.cat(preds).numpy()"
   ]
  },
  {
   "cell_type": "code",
   "execution_count": 37,
   "metadata": {
    "colab": {},
    "colab_type": "code",
    "id": "-k-LaQ2t130d"
   },
   "outputs": [],
   "source": [
    "def random_strategy(model, dataset, n=100):\n",
    "    # label 100 new examples at random\n",
    "    N = len(dataset)\n",
    "    return torch.tensor(np.random.choice(N, size=n, replace=False)), None\n",
    "    # return torch.randint(0, N, (100,))\n",
    "\n",
    "def uncertainty_sampling(model, dataset, n=100):\n",
    "    \"\"\"\n",
    "    This strategy outputs the samples whose top predictions are the lowest\n",
    "    \"\"\"\n",
    "    preds = get_preds(model, dataset)\n",
    "    probas = np.exp(preds) / np.exp(preds).sum(axis=1)[:, None]\n",
    "    top_pred = np.max(probas, axis=1)\n",
    "    ids = np.argsort(top_pred)[:n]\n",
    "    return torch.LongTensor(ids)\n",
    "    \n",
    "def margin_sampling(model, dataset, n=100):\n",
    "    \"\"\"\n",
    "    This strategy outputs the samples whose difference between the top predicted class\n",
    "    and the second most probable class is the lowest.\n",
    "    This strategy is experimentally the BEST : the fastest to get good results, and with results\n",
    "    that stay above other strategies.\n",
    "    (90.7% acc with 200 samples, 96.2% acc with 700 samples).\n",
    "    \"\"\"\n",
    "    preds = get_preds(model, dataset)\n",
    "    probas = np.exp(preds) / np.exp(preds).sum(axis=1)[:, None]\n",
    "    sorted_preds = np.argsort(probas, axis=1)\n",
    "    top_preds = probas[np.arange(len(probas)), sorted_preds[:, -1]]\n",
    "    second_preds = probas[np.arange(len(probas)), sorted_preds[:, -2]]\n",
    "    diff = top_preds - second_preds\n",
    "    ids = np.argsort(diff)[:n]\n",
    "    return torch.LongTensor(ids), probas[ids]\n",
    "\n",
    "def entropy_sampling(model, dataset, n=100):\n",
    "    \"\"\"\n",
    "    This strategy outputs the samples whose entropy on the predicted class is the largest\n",
    "    (maximum when all classes have equal probability, minimum when one class has probability 1)\n",
    "    \"\"\"\n",
    "    preds = get_preds(model, dataset)\n",
    "    probas = np.exp(preds) / np.exp(preds).sum(axis=1)[:, None]\n",
    "    entropies = -np.sum(probas * np.log(probas), axis=1)\n",
    "    ids = np.argsort(entropies)[-n:]\n",
    "    return torch.LongTensor(ids)\n",
    "\n",
    "def my_awesome_strategy(model, dataset, n=100):\n",
    "    # implement your strategies as new functions here\n",
    "    pass"
   ]
  },
  {
   "cell_type": "code",
   "execution_count": 42,
   "metadata": {
    "colab": {},
    "colab_type": "code",
    "id": "i3k1YHGk130g"
   },
   "outputs": [],
   "source": [
    "def show(img):\n",
    "    npimg = img.numpy()\n",
    "    plt.imshow(np.transpose(npimg, (1,2,0)), interpolation='nearest')\n",
    "\n",
    "def train_model(model, optimizer, loader, epochs):\n",
    "    for _ in range(epochs):\n",
    "        for (data, targets) in loader:\n",
    "            model.zero_grad()\n",
    "            prediction = model(data)\n",
    "            loss = CRITERION(prediction, targets)\n",
    "            loss.backward()\n",
    "            optimizer.step()\n",
    "    \n",
    "def validation_perf(model, dataset):\n",
    "    loader = DataLoader(dataset, batch_size=BATCH_SIZE, shuffle=False)\n",
    "    total_accuracy = 0.0\n",
    "    total_loss = 0.0\n",
    "    with torch.no_grad():\n",
    "        for (data, targets) in loader:\n",
    "            prediction = model(data)\n",
    "            total_loss += CRITERION(prediction, targets).item() * data.size(0)\n",
    "            _, number_predicted = torch.max(prediction.data, 1)\n",
    "            total_accuracy += (number_predicted == targets).sum()\n",
    "    return (total_accuracy / len(dataset), total_loss / len(dataset))\n",
    "\n",
    "class Active_Learner:\n",
    "    \n",
    "    def __init__(self,\n",
    "                 initial_labeling=20,\n",
    "                 stop_labeling=20,\n",
    "                 num_iter=200,\n",
    "                 num_active_runs=20,\n",
    "                 step_labeling=50,\n",
    "                 n_repeats=5):\n",
    "        self.initial_labeling = initial_labeling\n",
    "        self.stop_labeling = stop_labeling\n",
    "        self.num_train_iter = num_iter\n",
    "        self.num_active_runs = num_active_runs\n",
    "        self.step_labeling = step_labeling\n",
    "        self.n_repeats = n_repeats\n",
    "        self.dataset = None\n",
    "        \n",
    "    def _reset(self):\n",
    "        self.dataset = unlabeled_dataset()\n",
    "        to_annotate = np.random.choice(len(self.dataset), size=self.initial_labeling, replace=False)\n",
    "        call_expert(self.dataset, torch.tensor(to_annotate))\n",
    "              \n",
    "    def train_on_labeled(self):\n",
    "        # filter the dataset to only keep labelled examples\n",
    "        labelled_idx = self.dataset.tensors[1] >= 0\n",
    "        filtered_dataset = TensorDataset(*list(t[labelled_idx] for t in self.dataset.tensors))\n",
    "        loader = DataLoader(filtered_dataset, batch_size=BATCH_SIZE, shuffle=True)\n",
    "        # create a new model to train on this dataset\n",
    "        model = ConvModel()\n",
    "        # OPTIMIZER\n",
    "        optimizer = torch.optim.Adam(model.parameters(), lr=LEARNING_RATE)\n",
    "        train_model(model, optimizer, loader, self.num_train_iter // len(loader))\n",
    "        return model, len(filtered_dataset)        \n",
    "            \n",
    "    def run_algorithm(self, strategy):\n",
    "        all_performances = []\n",
    "        labeled = []\n",
    "        total = self.n_repeats * (self.num_active_runs+1)\n",
    "        for a in range(self.n_repeats):\n",
    "            self._reset()\n",
    "            performances = torch.zeros(self.num_active_runs+1, 3)\n",
    "            to_labels = []\n",
    "            for i in range(self.num_active_runs+1):\n",
    "                model, length_labeled = self.train_on_labeled()\n",
    "                (valid_acc, valid_loss) = validation_perf(model, mnist_validation)\n",
    "                performances[i, 0] = length_labeled\n",
    "                performances[i, 1] = valid_acc\n",
    "                performances[i, 2] = valid_loss\n",
    "                # print(\"With {} examples, valid perf is: {:.3f} -- {:.2f}%\".format(length_labeled, valid_loss, valid_acc*100))\n",
    "\n",
    "                unlabelled_idx = self.dataset.tensors[1] < 0\n",
    "                unlabelled_dataset = TensorDataset(*list(t[unlabelled_idx] for t in self.dataset.tensors))\n",
    "                unlabelled2dataset = {}\n",
    "                s = 0\n",
    "                for r, v in enumerate(unlabelled_idx):\n",
    "                    if v:\n",
    "                        unlabelled2dataset[s] = r\n",
    "                        s += 1\n",
    "                print(f'{a*(self.num_active_runs+1)+i+1}/{total}')\n",
    "                unlabeled2label, logs = strategy(model, unlabelled_dataset, self.step_labeling)\n",
    "                if logs is not None:\n",
    "                    pass\n",
    "                to_label = [unlabelled2dataset[int(k)] for k in unlabeled2label]\n",
    "                to_labels.extend(to_label)\n",
    "                label_counter = call_expert(self.dataset, to_label)\n",
    "                \n",
    "                # print({k: v for k, v in sorted(label_counter.items(), key=lambda item: item[1])})\n",
    "            all_performances.append(performances)\n",
    "            labeled.append(to_labels)\n",
    "        return torch.cat(all_performances), labeled"
   ]
  },
  {
   "cell_type": "code",
   "execution_count": 43,
   "metadata": {
    "colab": {
     "base_uri": "https://localhost:8080/",
     "height": 220,
     "referenced_widgets": [
      "72856741c3084245bcb14dddc1383cf8",
      "ffb8edceb5714f31a20c3f8a362cf205",
      "b932e37655c148d098d87ae9d38ff89e",
      "1e774d5d4b62497a8ee3d171c99dcb9c",
      "b15f1baaa6d34a53b8c1df65a062de0e",
      "4b8586de8bdd49c8a25dcf47833c1aee",
      "6c0379e90b5646d5ac19d1792616563b",
      "46a8c63dc7a344afa342e4c397197011",
      "971bc0f20e5a4e379462b2205bffd863",
      "d002e38878454e44b24a179dbe0d21fc",
      "e8a275496e054964838a6dadac672a69",
      "ab7b0c256f834c6b99e4b29f6f89dcd8",
      "a8a48219434144f1a17991b72c84474f",
      "911f87933b224d50ae4893c354d8e782",
      "6903b53c471a42f5ba7913a8a8d5c257",
      "cc8725f4a08d437792fcb2b9350e741b"
     ]
    },
    "colab_type": "code",
    "id": "92ykUhSIKCub",
    "outputId": "bb4da86e-3201-400a-ac49-18a306c148b7",
    "scrolled": true
   },
   "outputs": [
    {
     "name": "stdout",
     "output_type": "stream",
     "text": [
      "Training with strategy: random_strategy\n",
      "1/55\n",
      "2/55\n",
      "3/55\n",
      "4/55\n",
      "5/55\n",
      "6/55\n",
      "7/55\n",
      "8/55\n",
      "9/55\n",
      "10/55\n",
      "11/55\n",
      "12/55\n",
      "13/55\n",
      "14/55\n",
      "15/55\n",
      "16/55\n",
      "17/55\n",
      "18/55\n",
      "19/55\n",
      "20/55\n",
      "21/55\n",
      "22/55\n",
      "23/55\n",
      "24/55\n",
      "25/55\n",
      "26/55\n",
      "27/55\n",
      "28/55\n",
      "29/55\n",
      "30/55\n",
      "31/55\n",
      "32/55\n",
      "33/55\n",
      "34/55\n",
      "35/55\n",
      "36/55\n",
      "37/55\n",
      "38/55\n",
      "39/55\n",
      "40/55\n",
      "41/55\n",
      "42/55\n",
      "43/55\n",
      "44/55\n",
      "45/55\n",
      "46/55\n",
      "47/55\n",
      "48/55\n",
      "49/55\n",
      "50/55\n",
      "51/55\n",
      "52/55\n",
      "53/55\n",
      "54/55\n",
      "55/55\n",
      "Training with strategy: margin_sampling\n",
      "1/55\n",
      "2/55\n",
      "3/55\n",
      "4/55\n",
      "5/55\n",
      "6/55\n",
      "7/55\n",
      "8/55\n",
      "9/55\n",
      "10/55\n",
      "11/55\n",
      "12/55\n",
      "13/55\n",
      "14/55\n",
      "15/55\n",
      "16/55\n",
      "17/55\n",
      "18/55\n",
      "19/55\n",
      "20/55\n",
      "21/55\n",
      "22/55\n",
      "23/55\n",
      "24/55\n",
      "25/55\n",
      "26/55\n",
      "27/55\n",
      "28/55\n",
      "29/55\n",
      "30/55\n",
      "31/55\n",
      "32/55\n",
      "33/55\n",
      "34/55\n",
      "35/55\n",
      "36/55\n",
      "37/55\n",
      "38/55\n",
      "39/55\n",
      "40/55\n",
      "41/55\n",
      "42/55\n",
      "43/55\n",
      "44/55\n",
      "45/55\n",
      "46/55\n",
      "47/55\n",
      "48/55\n",
      "49/55\n",
      "50/55\n",
      "51/55\n",
      "52/55\n",
      "53/55\n",
      "54/55\n",
      "55/55\n",
      "done\n"
     ]
    }
   ],
   "source": [
    "# a list of strategies you want to compare\n",
    "strategies = [random_strategy, margin_sampling] # uncertainty_sampling, margin_sampling\n",
    "# number of examples to label randomly at the start\n",
    "initial_labeling = 100\n",
    "step_labeling = 50\n",
    "n_repeats = 5\n",
    "num_active_runs = 10\n",
    "\n",
    "AL = Active_Learner(initial_labeling=initial_labeling, step_labeling=step_labeling,\n",
    "                    num_active_runs=num_active_runs, n_repeats=n_repeats)\n",
    "performances = []\n",
    "strat2labeled = {}\n",
    "for strat in strategies:\n",
    "    print(\"Training with strategy: {}\".format(strat.__name__))\n",
    "    perf, labeled = AL.run_algorithm(strat)\n",
    "    performances.append((strat.__name__, perf))\n",
    "    strat2labeled[strat.__name__] = labeled\n",
    "print(\"done\")"
   ]
  },
  {
   "cell_type": "code",
   "execution_count": 44,
   "metadata": {
    "colab": {},
    "colab_type": "code",
    "id": "R4STg4vBKEJG"
   },
   "outputs": [],
   "source": [
    "performances = [(name, perf.detach().cpu().numpy()) for (name, perf) in performances]"
   ]
  },
  {
   "cell_type": "markdown",
   "metadata": {
    "colab_type": "text",
    "id": "MTS9p5iYN8D9"
   },
   "source": [
    "## Visualization"
   ]
  },
  {
   "cell_type": "code",
   "execution_count": 45,
   "metadata": {
    "colab": {},
    "colab_type": "code",
    "id": "jCbXOiC6nW4n"
   },
   "outputs": [],
   "source": [
    "def getFinalTopAcc(perf):\n",
    "    nbLabels = perf[1][:, 0]\n",
    "    acc = perf[1][:, 1]\n",
    "    maxLabels = np.max(nbLabels)\n",
    "    meanTopAcc = acc[nbLabels == maxLabels].mean()\n",
    "    return meanTopAcc\n",
    "meanTopAccRandom = getFinalTopAcc(performances[0])\n",
    "meanTopAccMargin = getFinalTopAcc(performances[1])"
   ]
  },
  {
   "cell_type": "markdown",
   "metadata": {
    "colab_type": "text",
    "id": "yN-AZU_Eoe2X"
   },
   "source": [
    "With less than half the number of queried labels, the accuracy using active learning with margin sampling is on average as good, than when not choosing assets to label :  performance is increased !"
   ]
  },
  {
   "cell_type": "code",
   "execution_count": 46,
   "metadata": {
    "colab": {
     "base_uri": "https://localhost:8080/",
     "height": 372
    },
    "colab_type": "code",
    "id": "GWtuFTT-KVg5",
    "outputId": "3a333658-e194-48bf-e6dd-d4f07ce64ff3"
   },
   "outputs": [
    {
     "data": {
      "text/plain": [
       "Text(0, 0.5, 'Accuracy')"
      ]
     },
     "execution_count": 46,
     "metadata": {},
     "output_type": "execute_result"
    },
    {
     "data": {
      "image/png": "[encoded data removed]",
      "text/plain": [
       "<Figure size 864x360 with 1 Axes>"
      ]
     },
     "metadata": {
      "needs_background": "light"
     },
     "output_type": "display_data"
    }
   ],
   "source": [
    "plt.figure(figsize=(12, 5))\n",
    "for (name, perf) in performances:\n",
    "    sns.lineplot(perf[:,0], perf[:,1], label=name)\n",
    "plt.axhline(y=meanTopAccRandom, label=f'max accuracy for random strategy : {meanTopAccRandom:.2%}', linestyle='--', color='black')\n",
    "plt.legend(loc='lower right', fontsize=14)\n",
    "plt.title(\"Compared validation accuracies\", fontsize=14)\n",
    "plt.xlabel(\"Number of labeled examples\", fontsize=14)\n",
    "plt.ylabel(\"Accuracy\", fontsize=14)"
   ]
  },
  {
   "cell_type": "code",
   "execution_count": 47,
   "metadata": {
    "colab": {
     "base_uri": "https://localhost:8080/",
     "height": 355
    },
    "colab_type": "code",
    "id": "CVGtfpSZKm1b",
    "outputId": "40bd4042-4708-4c63-a852-bec2de131c7e"
   },
   "outputs": [
    {
     "data": {
      "image/png": "[encoded data removed]",
      "text/plain": [
       "<Figure size 864x360 with 1 Axes>"
      ]
     },
     "metadata": {
      "needs_background": "light"
     },
     "output_type": "display_data"
    }
   ],
   "source": [
    "plt.figure(figsize=(12, 5))\n",
    "plt.title(\"Compared validation losses\", fontsize=14)\n",
    "plt.xlabel(\"Number of labeled examples\", fontsize=14)\n",
    "plt.ylabel(\"Loss\", fontsize=14)\n",
    "for (name, perf) in performances:\n",
    "    sns.lineplot(perf[:,0], perf[:,2], label=name)\n",
    "plt.legend(loc='upper right', fontsize=14)\n",
    "plt.show()"
   ]
  },
  {
   "cell_type": "markdown",
   "metadata": {
    "colab_type": "text",
    "id": "yIgd0qhTck3M"
   },
   "source": [
    "Queried samples are hard and informative, compared to randomly sampled numbers."
   ]
  },
  {
   "cell_type": "code",
   "execution_count": 48,
   "metadata": {
    "colab": {
     "base_uri": "https://localhost:8080/",
     "height": 765
    },
    "colab_type": "code",
    "id": "Olye8r3QcqA0",
    "outputId": "30398c0e-24e4-41aa-c88e-5f57a4ce11ff"
   },
   "outputs": [
    {
     "data": {
      "image/png": "[encoded data removed]",
      "text/plain": [
       "<Figure size 1440x432 with 1 Axes>"
      ]
     },
     "metadata": {
      "needs_background": "light"
     },
     "output_type": "display_data"
    },
    {
     "data": {
      "image/png": "[encoded data removed]",
      "text/plain": [
       "<Figure size 1440x432 with 1 Axes>"
      ]
     },
     "metadata": {
      "needs_background": "light"
     },
     "output_type": "display_data"
    }
   ],
   "source": [
    "for strat, labeled in strat2labeled.items():\n",
    "    plt.figure(figsize=(20, 6))\n",
    "    show(torchvision.utils.make_grid(original_mnist.data[labeled[0][:32]].unsqueeze(1)))\n",
    "    plt.title(strat, fontsize=14)"
   ]
  },
  {
   "cell_type": "code",
   "execution_count": 49,
   "metadata": {
    "colab": {},
    "colab_type": "code",
    "id": "P0G1iOQnqEp4"
   },
   "outputs": [],
   "source": [
    "assert meanTopAccRandom < meanTopAccMargin"
   ]
  }
 ],
 "metadata": {
  "colab": {
   "collapsed_sections": [],
   "name": "active_learning.ipynb",
   "provenance": []
  },
  "kernelspec": {
   "display_name": "Python 3",
   "language": "python",
   "name": "python3"
  },
  "language_info": {
   "codemirror_mode": {
    "name": "ipython",
    "version": 3
   },
   "file_extension": ".py",
   "mimetype": "text/x-python",
   "name": "python",
   "nbconvert_exporter": "python",
   "pygments_lexer": "ipython3",
   "version": "3.7.6"
  },
  "widgets": {
   "application/vnd.jupyter.widget-state+json": {
    "state": {
     "0296054c36684b7185237402e26bca7d": {
      "model_module": "@jupyter-widgets/controls",
      "model_module_version": "1.5.0",
      "model_name": "ProgressStyleModel",
      "state": {
       "description_width": "initial"
      }
     },
     "07cb03941ce3490bb3ea3d89aa5e43f4": {
      "model_module": "@jupyter-widgets/base",
      "model_module_version": "1.2.0",
      "model_name": "LayoutModel",
      "state": {}
     },
     "0868935d9b714e1f9d5844e4bf0db993": {
      "model_module": "@jupyter-widgets/controls",
      "model_module_version": "1.5.0",
      "model_name": "HTMLModel",
      "state": {
       "layout": "IPY_MODEL_4ee7f0f92322465ba3098660a32cebdd",
       "style": "IPY_MODEL_fd8ed02a288946caadbe368db2ed5800",
       "value": " 32768/? [00:01&lt;00:00, 25077.79it/s]"
      }
     },
     "12331452441147709fa668a248bbac12": {
      "model_module": "@jupyter-widgets/base",
      "model_module_version": "1.2.0",
      "model_name": "LayoutModel",
      "state": {}
     },
     "1d2450cae1ff4803b93abf25e8d26456": {
      "model_module": "@jupyter-widgets/controls",
      "model_module_version": "1.5.0",
      "model_name": "DescriptionStyleModel",
      "state": {
       "description_width": ""
      }
     },
     "21a5c97953f44a48a7629e2d7e491dfb": {
      "model_module": "@jupyter-widgets/controls",
      "model_module_version": "1.5.0",
      "model_name": "HBoxModel",
      "state": {
       "children": [
        "IPY_MODEL_bd7f3762c2be4e50a11a0e8685d84cd5",
        "IPY_MODEL_5c53a45a78484769bc5f05eb3e43c13d"
       ],
       "layout": "IPY_MODEL_12331452441147709fa668a248bbac12"
      }
     },
     "21f1f7d019a54cdf9437c301ec21b280": {
      "model_module": "@jupyter-widgets/base",
      "model_module_version": "1.2.0",
      "model_name": "LayoutModel",
      "state": {}
     },
     "23b721714e8a4bdaa82b89ec17be6793": {
      "model_module": "@jupyter-widgets/controls",
      "model_module_version": "1.5.0",
      "model_name": "HTMLModel",
      "state": {
       "layout": "IPY_MODEL_e59b917fdafb4658a7959ba76dee4351",
       "style": "IPY_MODEL_dc78329b739546f3826e14821dbecb49",
       "value": " 10000/? [00:00&lt;00:00, 229774.52it/s]"
      }
     },
     "2581a2a3d81949c1b9246d14545a8699": {
      "model_module": "@jupyter-widgets/base",
      "model_module_version": "1.2.0",
      "model_name": "LayoutModel",
      "state": {}
     },
     "282818d63390422a89a2cdfd50f31c6f": {
      "model_module": "@jupyter-widgets/controls",
      "model_module_version": "1.5.0",
      "model_name": "ProgressStyleModel",
      "state": {
       "description_width": "initial"
      }
     },
     "2e20c4b95150487ea8e0c0d299121ff4": {
      "model_module": "@jupyter-widgets/controls",
      "model_module_version": "1.5.0",
      "model_name": "HBoxModel",
      "state": {
       "children": [
        "IPY_MODEL_8799d64e6d584bcd95547fb710629ae7",
        "IPY_MODEL_0868935d9b714e1f9d5844e4bf0db993"
       ],
       "layout": "IPY_MODEL_c6c738287d344330a22700755b12ae4b"
      }
     },
     "330fc57a820842a7870f483d3bacec78": {
      "model_module": "@jupyter-widgets/controls",
      "model_module_version": "1.5.0",
      "model_name": "FloatProgressModel",
      "state": {
       "bar_style": "success",
       "layout": "IPY_MODEL_9ecbe13001284f7091c2140566988ad5",
       "max": 1,
       "style": "IPY_MODEL_0296054c36684b7185237402e26bca7d",
       "value": 1
      }
     },
     "35f83b033ab94c3b90d0debd7483dc55": {
      "model_module": "@jupyter-widgets/controls",
      "model_module_version": "1.5.0",
      "model_name": "HBoxModel",
      "state": {
       "children": [
        "IPY_MODEL_f5f020ca44c54062b918222a95ec046a",
        "IPY_MODEL_dd60b0bf6a7d4cbe97f19efd497cbea6"
       ],
       "layout": "IPY_MODEL_367b982797ff4b9d8513e205f656acde"
      }
     },
     "367b982797ff4b9d8513e205f656acde": {
      "model_module": "@jupyter-widgets/base",
      "model_module_version": "1.2.0",
      "model_name": "LayoutModel",
      "state": {}
     },
     "3b30c009d34643cb86c25dacb4bfb074": {
      "model_module": "@jupyter-widgets/controls",
      "model_module_version": "1.5.0",
      "model_name": "FloatProgressModel",
      "state": {
       "bar_style": "info",
       "description": "  0%",
       "layout": "IPY_MODEL_6ff98e7566064eb0a370e1d13a6f654b",
       "max": 1,
       "style": "IPY_MODEL_a634d4f1bd04445eb27f6047c3f5436a"
      }
     },
     "4ee7f0f92322465ba3098660a32cebdd": {
      "model_module": "@jupyter-widgets/base",
      "model_module_version": "1.2.0",
      "model_name": "LayoutModel",
      "state": {}
     },
     "5c53a45a78484769bc5f05eb3e43c13d": {
      "model_module": "@jupyter-widgets/controls",
      "model_module_version": "1.5.0",
      "model_name": "HTMLModel",
      "state": {
       "layout": "IPY_MODEL_c586af0118724ca68a4da4ccef940fef",
       "style": "IPY_MODEL_7d3e62b8f1ee406ab8179a9bae29794a",
       "value": " 10000/? [00:00&lt;00:00, 269278.19it/s]"
      }
     },
     "6ff98e7566064eb0a370e1d13a6f654b": {
      "model_module": "@jupyter-widgets/base",
      "model_module_version": "1.2.0",
      "model_name": "LayoutModel",
      "state": {}
     },
     "74a09c5fe2de4ec398597846dc749d69": {
      "model_module": "@jupyter-widgets/controls",
      "model_module_version": "1.5.0",
      "model_name": "HBoxModel",
      "state": {
       "children": [
        "IPY_MODEL_3b30c009d34643cb86c25dacb4bfb074",
        "IPY_MODEL_ccdc05577ead4cc9a45122e07607041d"
       ],
       "layout": "IPY_MODEL_21f1f7d019a54cdf9437c301ec21b280"
      }
     },
     "759382360a4b47a4ae62bce3fbf05a58": {
      "model_module": "@jupyter-widgets/controls",
      "model_module_version": "1.5.0",
      "model_name": "ProgressStyleModel",
      "state": {
       "description_width": "initial"
      }
     },
     "7bce6a7097934db8bfb6cee88da3bfd7": {
      "model_module": "@jupyter-widgets/base",
      "model_module_version": "1.2.0",
      "model_name": "LayoutModel",
      "state": {}
     },
     "7d3e62b8f1ee406ab8179a9bae29794a": {
      "model_module": "@jupyter-widgets/controls",
      "model_module_version": "1.5.0",
      "model_name": "DescriptionStyleModel",
      "state": {
       "description_width": ""
      }
     },
     "86bb4a9983024c349f7ea17f2681cac9": {
      "model_module": "@jupyter-widgets/controls",
      "model_module_version": "1.5.0",
      "model_name": "HBoxModel",
      "state": {
       "children": [
        "IPY_MODEL_330fc57a820842a7870f483d3bacec78",
        "IPY_MODEL_d6da8a58ca2f4f47a73feb3b4dea5e45"
       ],
       "layout": "IPY_MODEL_8cfe04ac2e3e4b9989ef6e75acfbcf14"
      }
     },
     "8799d64e6d584bcd95547fb710629ae7": {
      "model_module": "@jupyter-widgets/controls",
      "model_module_version": "1.5.0",
      "model_name": "FloatProgressModel",
      "state": {
       "bar_style": "success",
       "layout": "IPY_MODEL_07cb03941ce3490bb3ea3d89aa5e43f4",
       "max": 1,
       "style": "IPY_MODEL_8a77802f08794c5f8b6a6667c0015d41",
       "value": 1
      }
     },
     "8a3d5b99f4df4c87b6062aec40a53247": {
      "model_module": "@jupyter-widgets/base",
      "model_module_version": "1.2.0",
      "model_name": "LayoutModel",
      "state": {}
     },
     "8a77802f08794c5f8b6a6667c0015d41": {
      "model_module": "@jupyter-widgets/controls",
      "model_module_version": "1.5.0",
      "model_name": "ProgressStyleModel",
      "state": {
       "description_width": "initial"
      }
     },
     "8cfe04ac2e3e4b9989ef6e75acfbcf14": {
      "model_module": "@jupyter-widgets/base",
      "model_module_version": "1.2.0",
      "model_name": "LayoutModel",
      "state": {}
     },
     "8e1e4cf2e1594d5885f2ae341cfac1b2": {
      "model_module": "@jupyter-widgets/base",
      "model_module_version": "1.2.0",
      "model_name": "LayoutModel",
      "state": {}
     },
     "9ecbe13001284f7091c2140566988ad5": {
      "model_module": "@jupyter-widgets/base",
      "model_module_version": "1.2.0",
      "model_name": "LayoutModel",
      "state": {}
     },
     "a17cf02336ae4d0f8e8e839050f32391": {
      "model_module": "@jupyter-widgets/base",
      "model_module_version": "1.2.0",
      "model_name": "LayoutModel",
      "state": {}
     },
     "a634d4f1bd04445eb27f6047c3f5436a": {
      "model_module": "@jupyter-widgets/controls",
      "model_module_version": "1.5.0",
      "model_name": "ProgressStyleModel",
      "state": {
       "description_width": "initial"
      }
     },
     "bb3f036e43514dbeab4d8ca98e47e43e": {
      "model_module": "@jupyter-widgets/controls",
      "model_module_version": "1.5.0",
      "model_name": "DescriptionStyleModel",
      "state": {
       "description_width": ""
      }
     },
     "bd7f3762c2be4e50a11a0e8685d84cd5": {
      "model_module": "@jupyter-widgets/controls",
      "model_module_version": "1.5.0",
      "model_name": "FloatProgressModel",
      "state": {
       "bar_style": "success",
       "layout": "IPY_MODEL_8a3d5b99f4df4c87b6062aec40a53247",
       "max": 1,
       "style": "IPY_MODEL_759382360a4b47a4ae62bce3fbf05a58",
       "value": 1
      }
     },
     "c586af0118724ca68a4da4ccef940fef": {
      "model_module": "@jupyter-widgets/base",
      "model_module_version": "1.2.0",
      "model_name": "LayoutModel",
      "state": {}
     },
     "c6c738287d344330a22700755b12ae4b": {
      "model_module": "@jupyter-widgets/base",
      "model_module_version": "1.2.0",
      "model_name": "LayoutModel",
      "state": {}
     },
     "c9a398d02e224c46b843b8100e779848": {
      "model_module": "@jupyter-widgets/controls",
      "model_module_version": "1.5.0",
      "model_name": "DescriptionStyleModel",
      "state": {
       "description_width": ""
      }
     },
     "ccdc05577ead4cc9a45122e07607041d": {
      "model_module": "@jupyter-widgets/controls",
      "model_module_version": "1.5.0",
      "model_name": "HTMLModel",
      "state": {
       "layout": "IPY_MODEL_7bce6a7097934db8bfb6cee88da3bfd7",
       "style": "IPY_MODEL_bb3f036e43514dbeab4d8ca98e47e43e",
       "value": " 0/4542 [00:00&lt;?, ?it/s]"
      }
     },
     "cd8b6b393ada4e06887435a10925a75e": {
      "model_module": "@jupyter-widgets/controls",
      "model_module_version": "1.5.0",
      "model_name": "FloatProgressModel",
      "state": {
       "bar_style": "success",
       "layout": "IPY_MODEL_a17cf02336ae4d0f8e8e839050f32391",
       "max": 1,
       "style": "IPY_MODEL_282818d63390422a89a2cdfd50f31c6f",
       "value": 1
      }
     },
     "d6da8a58ca2f4f47a73feb3b4dea5e45": {
      "model_module": "@jupyter-widgets/controls",
      "model_module_version": "1.5.0",
      "model_name": "HTMLModel",
      "state": {
       "layout": "IPY_MODEL_e95528a05c3c480ab440e8e5a387be03",
       "style": "IPY_MODEL_c9a398d02e224c46b843b8100e779848",
       "value": " 1654784/? [00:00&lt;00:00, 1887791.93it/s]"
      }
     },
     "d7dde8f5887c4e96829197cda5a81c78": {
      "model_module": "@jupyter-widgets/controls",
      "model_module_version": "1.5.0",
      "model_name": "ProgressStyleModel",
      "state": {
       "description_width": "initial"
      }
     },
     "dc78329b739546f3826e14821dbecb49": {
      "model_module": "@jupyter-widgets/controls",
      "model_module_version": "1.5.0",
      "model_name": "DescriptionStyleModel",
      "state": {
       "description_width": ""
      }
     },
     "dd60b0bf6a7d4cbe97f19efd497cbea6": {
      "model_module": "@jupyter-widgets/controls",
      "model_module_version": "1.5.0",
      "model_name": "HTMLModel",
      "state": {
       "layout": "IPY_MODEL_e5afb8dcfa544f5b8708931f9ae68c73",
       "style": "IPY_MODEL_1d2450cae1ff4803b93abf25e8d26456",
       "value": " 9920512/? [00:20&lt;00:00, 845256.26it/s]"
      }
     },
     "e59b917fdafb4658a7959ba76dee4351": {
      "model_module": "@jupyter-widgets/base",
      "model_module_version": "1.2.0",
      "model_name": "LayoutModel",
      "state": {}
     },
     "e5afb8dcfa544f5b8708931f9ae68c73": {
      "model_module": "@jupyter-widgets/base",
      "model_module_version": "1.2.0",
      "model_name": "LayoutModel",
      "state": {}
     },
     "e95528a05c3c480ab440e8e5a387be03": {
      "model_module": "@jupyter-widgets/base",
      "model_module_version": "1.2.0",
      "model_name": "LayoutModel",
      "state": {}
     },
     "f5f020ca44c54062b918222a95ec046a": {
      "model_module": "@jupyter-widgets/controls",
      "model_module_version": "1.5.0",
      "model_name": "FloatProgressModel",
      "state": {
       "bar_style": "info",
       "layout": "IPY_MODEL_2581a2a3d81949c1b9246d14545a8699",
       "max": 1,
       "style": "IPY_MODEL_d7dde8f5887c4e96829197cda5a81c78",
       "value": 1
      }
     },
     "f8dd2b3ebbaa48519a34d0c3df4e7a83": {
      "model_module": "@jupyter-widgets/controls",
      "model_module_version": "1.5.0",
      "model_name": "HBoxModel",
      "state": {
       "children": [
        "IPY_MODEL_cd8b6b393ada4e06887435a10925a75e",
        "IPY_MODEL_23b721714e8a4bdaa82b89ec17be6793"
       ],
       "layout": "IPY_MODEL_8e1e4cf2e1594d5885f2ae341cfac1b2"
      }
     },
     "fd8ed02a288946caadbe368db2ed5800": {
      "model_module": "@jupyter-widgets/controls",
      "model_module_version": "1.5.0",
      "model_name": "DescriptionStyleModel",
      "state": {
       "description_width": ""
      }
     }
    },
    "version_major": 2,
    "version_minor": 0
   }
  }
 },
 "nbformat": 4,
 "nbformat_minor": 1
}
