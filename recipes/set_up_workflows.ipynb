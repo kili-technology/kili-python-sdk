{
 "cells": [
  {
   "attachments": {},
   "cell_type": "markdown",
   "metadata": {},
   "source": [
    "<a href=\"https://colab.research.google.com/github/kili-technology/kili-python-sdk/blob/main/recipes/set_up_workflows.ipynb\" target=\"_parent\"><img src=\"https://colab.research.google.com/assets/colab-badge.svg\" alt=\"Open In Colab\"/></a>"
   ]
  },
  {
   "attachments": {},
   "cell_type": "markdown",
   "metadata": {},
   "source": [
    "# How to set up and manage workflows with Kili"
   ]
  },
  {
   "attachments": {},
   "cell_type": "markdown",
   "metadata": {},
   "source": [
    "In this tutorial, we will learn how to set up basic Kili workflows:\n",
    "\n",
    "1. Managing reviews\n",
    "    1. Placing a specific percentage of project assets in the review queue\n",
    "    1. Placing specific assets in the review queue\n",
    "    1. Sending an asset back to the labeling queue\n",
    "1. Setting up consensus\n",
    "    1. Setting consensus for a specific percentage of project assets\n",
    "    1. Setting consensus for specific assets to compute consensus KPIs\n",
    "1. Setting up honeypot\n",
    "1. Assigning labelers to assets\n",
    "1. Prioritizing assets in the labeling queue"
   ]
  },
  {
   "attachments": {},
   "cell_type": "markdown",
   "metadata": {},
   "source": [
    "To work with this notebook, you will have to install and instantiate Kili."
   ]
  },
  {
   "cell_type": "code",
   "execution_count": null,
   "metadata": {},
   "outputs": [],
   "source": [
    "%pip install kili"
   ]
  },
  {
   "cell_type": "code",
   "execution_count": null,
   "metadata": {},
   "outputs": [],
   "source": [
    "import getpass\n",
    "import os\n",
    "\n",
    "from kili.client import Kili"
   ]
  },
  {
   "cell_type": "code",
   "execution_count": null,
   "metadata": {},
   "outputs": [],
   "source": [
    "if \"KILI_API_KEY\" not in os.environ:\n",
    "    KILI_API_KEY = getpass.getpass(\"Please enter your API key: \")\n",
    "else:\n",
    "    KILI_API_KEY = os.environ[\"KILI_API_KEY\"]"
   ]
  },
  {
   "cell_type": "code",
   "execution_count": null,
   "metadata": {},
   "outputs": [],
   "source": [
    "kili = Kili(\n",
    "    api_key=KILI_API_KEY,  # not needed if KILI_API_KEY is already in environment variables\n",
    "    # api_endpoint=\"https://cloud.kili-technology.com/api/label/v2/graphql\",\n",
    "    # the line above can be uncommented and changed if you are working with an on-premise version of Kili\n",
    ")"
   ]
  },
  {
   "attachments": {},
   "cell_type": "markdown",
   "metadata": {
    "tags": [
     "skip"
    ]
   },
   "source": [
    "## Set up a project"
   ]
  },
  {
   "cell_type": "code",
   "execution_count": null,
   "metadata": {
    "tags": [
     "skip"
    ]
   },
   "outputs": [],
   "source": [
    "# create project\n",
    "json_interface_classification = {\n",
    "    \"jobs\": {\n",
    "        \"JOB_0\": {\n",
    "            \"mlTask\": \"CLASSIFICATION\",\n",
    "            \"required\": 1,\n",
    "            \"content\": {\n",
    "                \"categories\": {\n",
    "                    \"OBJECT_A\": {\n",
    "                        \"name\": \"Object A\",\n",
    "                        \"children\": [],\n",
    "                    },\n",
    "                    \"OBJECT_B\": {\n",
    "                        \"name\": \"Object B\",\n",
    "                        \"children\": [],\n",
    "                    },\n",
    "                },\n",
    "                \"input\": \"radio\",\n",
    "            },\n",
    "            \"isNew\": False,\n",
    "        }\n",
    "    }\n",
    "}\n",
    "project_id = kili.create_project(\n",
    "    input_type=\"IMAGE\",\n",
    "    json_interface=json_interface_classification,\n",
    "    title=\"[Kili SDK Notebook]: setup workflows\",\n",
    ")[\"id\"]\n",
    "\n",
    "# add assets\n",
    "assets = kili.append_many_to_dataset(\n",
    "    project_id=project_id,\n",
    "    content_array=[\n",
    "        \"https://storage.googleapis.com/label-public-staging/car/car_1.jpg\",\n",
    "        \"https://storage.googleapis.com/label-public-staging/car/car_2.jpg\",\n",
    "        \"https://storage.googleapis.com/label-public-staging/recipes/inference/white_car.jpg\",\n",
    "    ],\n",
    "    external_id_array=[\"1.jpg\", \"2.jpg\", \"3.jpg\"],\n",
    "    disable_tqdm=True,\n",
    ")\n",
    "\n",
    "# add members\n",
    "roles = kili.append_to_roles(\n",
    "    project_id=project_id, user_email=\"example1@example.com\", role=\"LABELER\"\n",
    ")\n",
    "roles = kili.append_to_roles(\n",
    "    project_id=project_id, user_email=\"example2@example.com\", role=\"LABELER\"\n",
    ")\n",
    "roles = kili.append_to_roles(\n",
    "    project_id=project_id, user_email=\"example3@example.com\", role=\"LABELER\"\n",
    ")"
   ]
  },
  {
   "attachments": {},
   "cell_type": "markdown",
   "metadata": {},
   "source": [
    "For information on how to set up a Kili project, refer to the [basic project setup](https://python-sdk-docs.kili-technology.com/latest/sdk/tutorials/basic_project_setup/) tutorial."
   ]
  },
  {
   "attachments": {},
   "cell_type": "markdown",
   "metadata": {},
   "source": [
    "## Managing reviews"
   ]
  },
  {
   "attachments": {},
   "cell_type": "markdown",
   "metadata": {},
   "source": [
    "### Placing a specific percentage of project assets in the review queue "
   ]
  },
  {
   "attachments": {},
   "cell_type": "markdown",
   "metadata": {},
   "source": [
    "You can set up the percentage of assets that will automatically appear in the review queue (1-100%)."
   ]
  },
  {
   "cell_type": "code",
   "execution_count": null,
   "metadata": {},
   "outputs": [
    {
     "data": {
      "text/plain": [
       "{'id': 'cld95dpne0n2y0joi6wuq3u6v', 'reviewCoverage': 50}"
      ]
     },
     "execution_count": null,
     "metadata": {},
     "output_type": "execute_result"
    }
   ],
   "source": [
    "kili.update_properties_in_project(project_id=project_id, review_coverage=50)"
   ]
  },
  {
   "attachments": {},
   "cell_type": "markdown",
   "metadata": {},
   "source": [
    "## Setting up consensus"
   ]
  },
  {
   "attachments": {},
   "cell_type": "markdown",
   "metadata": {},
   "source": [
    "Consensus works by having more than one labeler annotate the same asset. When the asset is labeled, a consensus score is calculated to measure the agreement level between the different annotations for a given asset.\n",
    "This is a key measure for controlling label production quality.\n",
    "\n",
    "To set up consensus, you will need to have at least two project members.\n",
    "For information on how to add users and assign them to your project, refer to the [basic project setup](https://python-sdk-docs.kili-technology.com/latest/sdk/tutorials/basic_project_setup/) tutorial."
   ]
  },
  {
   "attachments": {},
   "cell_type": "markdown",
   "metadata": {},
   "source": [
    "### Setting consensus for a specific percentage of project assets"
   ]
  },
  {
   "attachments": {},
   "cell_type": "markdown",
   "metadata": {},
   "source": [
    "Let's set the percentage of the project dataset that will be annotated several times, to enable consensus calculations. We will also set the minimum number of labelers to label each one of these assets."
   ]
  },
  {
   "cell_type": "code",
   "execution_count": null,
   "metadata": {},
   "outputs": [],
   "source": [
    "def set_consensus_coverage(project_id: str, consensus_tot_coverage: int, min_consensus_size: int):\n",
    "    kili.update_properties_in_project(\n",
    "        project_id=project_id,\n",
    "        consensus_tot_coverage=consensus_tot_coverage,\n",
    "        min_consensus_size=min_consensus_size,\n",
    "    )\n",
    "\n",
    "\n",
    "set_consensus_coverage(project_id=project_id, consensus_tot_coverage=50, min_consensus_size=3)"
   ]
  },
  {
   "attachments": {},
   "cell_type": "markdown",
   "metadata": {},
   "source": [
    "### Setting consensus for specific assets to compute consensus KPIs\n",
    "\n",
    "You can manually select specific project assets to be used for computing consensus KPIs."
   ]
  },
  {
   "cell_type": "code",
   "execution_count": null,
   "metadata": {},
   "outputs": [],
   "source": [
    "def set_assets_for_consensus(project_id: str, external_ids: list):\n",
    "    kili.update_properties_in_assets(\n",
    "        project_id=project_id,\n",
    "        external_ids=external_ids,\n",
    "        is_used_for_consensus_array=[True] * len(external_ids),\n",
    "    )\n",
    "\n",
    "\n",
    "external_ids = [\"1.jpg\", \"2.jpg\", \"3.jpg\"]\n",
    "set_assets_for_consensus(project_id=project_id, external_ids=external_ids)"
   ]
  },
  {
   "attachments": {},
   "cell_type": "markdown",
   "metadata": {},
   "source": [
    "For more information on consensus, refer to our [documentation](https://docs.kili-technology.com/docs/consensus-overview)."
   ]
  },
  {
   "attachments": {},
   "cell_type": "markdown",
   "metadata": {},
   "source": [
    "## Setting up honeypot"
   ]
  },
  {
   "attachments": {},
   "cell_type": "markdown",
   "metadata": {},
   "source": [
    "Honeypot (or __gold standard__) is a tool for auditing the work of labelers by measuring the accuracy of their annotations.\n",
    "Honeypot works by interspersing assets with defined ground truth label in the annotation queue. This way you can measure the agreement level between your ground truth and the annotations made by labelers.\n",
    "\n",
    "You can manually select specific project assets to be used as honeypots."
   ]
  },
  {
   "cell_type": "code",
   "execution_count": null,
   "metadata": {},
   "outputs": [],
   "source": [
    "asset_external_id = \"1.jpg\"\n",
    "json_response = {\"JOB_0\": {\"categories\": [{\"confidence\": 100, \"name\": \"OBJECT_B\"}]}}\n",
    "\n",
    "kili.create_honeypot(\n",
    "    project_id=project_id, asset_external_id=asset_external_id, json_response=json_response\n",
    ");"
   ]
  },
  {
   "attachments": {},
   "cell_type": "markdown",
   "metadata": {},
   "source": [
    "For more information on honeypot, refer to our [documentation](https://docs.kili-technology.com/docs/consensus-overview)."
   ]
  },
  {
   "attachments": {},
   "cell_type": "markdown",
   "metadata": {},
   "source": [
    "## Assigning labelers to assets"
   ]
  },
  {
   "attachments": {},
   "cell_type": "markdown",
   "metadata": {},
   "source": [
    "You can assign specific labelers to specific assets in your project. You can do that by assigning users' emails to the selected asset IDs. Remember that you can assign more than one user to a specific asset."
   ]
  },
  {
   "cell_type": "code",
   "execution_count": null,
   "metadata": {},
   "outputs": [],
   "source": [
    "def assign_labelers_to_assets(project_id: str, external_ids: list, to_be_labeled_by_array: list):\n",
    "    kili.update_properties_in_assets(\n",
    "        project_id=project_id,\n",
    "        external_ids=external_ids,\n",
    "        to_be_labeled_by_array=to_be_labeled_by_array,\n",
    "    )\n",
    "\n",
    "\n",
    "external_ids = [\"1.jpg\", \"2.jpg\", \"3.jpg\"]\n",
    "to_be_labeled_by_array = [\n",
    "    [\"example1@example.com\"],\n",
    "    [\"example2@example.com\"],\n",
    "    [\"example3@example.com\"],\n",
    "]\n",
    "\n",
    "assign_labelers_to_assets(\n",
    "    project_id=project_id, external_ids=external_ids, to_be_labeled_by_array=to_be_labeled_by_array\n",
    ")"
   ]
  },
  {
   "attachments": {},
   "cell_type": "markdown",
   "metadata": {},
   "source": [
    "The `to_be_labeled_by_array` argument is a list of lists. Each of the sub-lists can contain several e-mails. This way you can assign several labelers to one asset.\n",
    "\n",
    "For example:\n",
    "\n",
    "`to_be_labeled_by_array = [[\"example1@example.com\"], [\"example1@example.com\", \"example2@example.com\"], [\"example3@example.com\"]]`\n",
    "\n",
    "For information on how to add users and assign them to your project, refer to the [basic project setup](https://python-sdk-docs.kili-technology.com/latest/sdk/tutorials/basic_project_setup/) tutorial.\n",
    "For information on assigning assets to users, refer to our [documentation](https://docs.kili-technology.com/docs/queue-prioritization)."
   ]
  },
  {
   "attachments": {},
   "cell_type": "markdown",
   "metadata": {},
   "source": [
    "## Prioritizing assets in the labeling queue"
   ]
  },
  {
   "attachments": {},
   "cell_type": "markdown",
   "metadata": {},
   "source": [
    "If you have certain assets that you need to have labeled earlier or later than the rest, you can use Kili's asset prioritization methods."
   ]
  },
  {
   "cell_type": "code",
   "execution_count": null,
   "metadata": {},
   "outputs": [],
   "source": [
    "def set_priority_for_assets(project_id: str, external_ids: list, priorities: list):\n",
    "    kili.update_properties_in_assets(\n",
    "        project_id=project_id, external_ids=external_ids, priorities=priorities\n",
    "    )\n",
    "\n",
    "\n",
    "external_ids = [\"1.jpg\", \"2.jpg\", \"3.jpg\"]\n",
    "priorities = [1, 5, 10]\n",
    "set_priority_for_assets(project_id=project_id, external_ids=external_ids, priorities=priorities)"
   ]
  },
  {
   "attachments": {},
   "cell_type": "markdown",
   "metadata": {},
   "source": [
    "For information on setting asset priorities, refer to our [documentation](https://docs.kili-technology.com/docs/queue-prioritization)."
   ]
  },
  {
   "attachments": {},
   "cell_type": "markdown",
   "metadata": {},
   "source": [
    "### Placing specific assets in the review queue"
   ]
  },
  {
   "attachments": {},
   "cell_type": "markdown",
   "metadata": {},
   "source": [
    "When done with your basic workflow setup, you can place specific, labeled assets in the review queue.\n",
    "As this requires the assets to be labeled, first, let's simulate adding labels to some of our assets.\n",
    "The method will return the list of newly-added label IDs."
   ]
  },
  {
   "cell_type": "code",
   "execution_count": null,
   "metadata": {},
   "outputs": [
    {
     "name": "stderr",
     "output_type": "stream",
     "text": [
      "100%|██████████| 3/3 [00:03<00:00,  1.12s/it]\n"
     ]
    },
    {
     "data": {
      "text/plain": [
       "[{'id': 'cld95duf80o3k0jpa5f8bdolk'},\n",
       " {'id': 'cld95duf80o3l0jpa6tkv947s'},\n",
       " {'id': 'cld95duf90o3m0jpaccwo0awt'}]"
      ]
     },
     "execution_count": null,
     "metadata": {},
     "output_type": "execute_result"
    }
   ],
   "source": [
    "json_response_array = [\n",
    "    {\"JOB_0\": {\"categories\": [{\"confidence\": 100, \"name\": \"OBJECT_B\"}]}} for i in range(3)\n",
    "]\n",
    "kili.append_labels(\n",
    "    project_id=project_id,\n",
    "    asset_external_id_array=[\"1.jpg\", \"2.jpg\", \"3.jpg\"],\n",
    "    json_response_array=json_response_array,\n",
    "    label_type=\"DEFAULT\",\n",
    ")"
   ]
  },
  {
   "attachments": {},
   "cell_type": "markdown",
   "metadata": {},
   "source": [
    "Now, let's place some assets in the review queue. The method will return a project ID and a list of asset IDs placed in the review queue."
   ]
  },
  {
   "cell_type": "code",
   "execution_count": null,
   "metadata": {},
   "outputs": [],
   "source": [
    "external_ids = [\"1.jpg\", \"2.jpg\", \"3.jpg\"]\n",
    "kili.add_to_review(project_id=project_id, external_ids=external_ids)"
   ]
  },
  {
   "attachments": {},
   "cell_type": "markdown",
   "metadata": {},
   "source": [
    "For more information on asset statuses, refer to our [documentation](https://docs.kili-technology.com/docs/asset-lifecycle)."
   ]
  },
  {
   "attachments": {},
   "cell_type": "markdown",
   "metadata": {},
   "source": [
    "### Sending an asset back to the labeling queue"
   ]
  },
  {
   "attachments": {},
   "cell_type": "markdown",
   "metadata": {},
   "source": [
    "You can also send specific labeled assets back to the labeling queue.\n",
    "asset_names, first, let's simulate adding labels to some of our assets.\n",
    "The method will return the list of newly-added label IDs."
   ]
  },
  {
   "cell_type": "code",
   "execution_count": null,
   "metadata": {},
   "outputs": [
    {
     "name": "stderr",
     "output_type": "stream",
     "text": [
      "100%|██████████| 3/3 [00:02<00:00,  1.46it/s]\n"
     ]
    },
    {
     "data": {
      "text/plain": [
       "[{'id': 'cld95dy130iss0ko864g7c7hr'},\n",
       " {'id': 'cld95dy130ist0ko8fgokak6h'},\n",
       " {'id': 'cld95dy130isu0ko8gb0s1ckc'}]"
      ]
     },
     "execution_count": null,
     "metadata": {},
     "output_type": "execute_result"
    }
   ],
   "source": [
    "json_response_array = [{\"JOB_0\": {\"categories\": [{\"confidence\": 100, \"name\": \"OBJECT_B\"}]}}] * 3\n",
    "kili.append_labels(\n",
    "    project_id=project_id,\n",
    "    asset_external_id_array=[\"1.jpg\", \"2.jpg\", \"3.jpg\"],\n",
    "    json_response_array=json_response_array,\n",
    "    label_type=\"DEFAULT\",\n",
    ")"
   ]
  },
  {
   "attachments": {},
   "cell_type": "markdown",
   "metadata": {},
   "source": [
    "Now, we will send some of our assets back to the labeling queue. The method will return a project ID and a list of asset IDs that were sent back to the labeling queue."
   ]
  },
  {
   "cell_type": "code",
   "execution_count": null,
   "metadata": {},
   "outputs": [
    {
     "data": {
      "text/plain": [
       "{'id': 'cld95dpne0n2y0joi6wuq3u6v',\n",
       " 'asset_ids': ['cld95dq340006wvszexj8u1uh',\n",
       "  'cld95dq340007wvszoxdhet57',\n",
       "  'cld95dq340008wvszveinxcy2']}"
      ]
     },
     "execution_count": null,
     "metadata": {},
     "output_type": "execute_result"
    }
   ],
   "source": [
    "external_ids = [\"1.jpg\", \"2.jpg\", \"3.jpg\"]\n",
    "kili.send_back_to_queue(project_id=project_id, external_ids=external_ids)"
   ]
  },
  {
   "attachments": {},
   "cell_type": "markdown",
   "metadata": {},
   "source": [
    "For more information on asset statuses, refer to our [documentation](https://docs.kili-technology.com/docs/asset-lifecycle)."
   ]
  },
  {
   "attachments": {},
   "cell_type": "markdown",
   "metadata": {
    "tags": []
   },
   "source": [
    "## Cleanup\n",
    "\n",
    "We can remove the project that we created:"
   ]
  },
  {
   "cell_type": "code",
   "execution_count": null,
   "metadata": {
    "tags": []
   },
   "outputs": [],
   "source": [
    "kili.delete_project(project_id)"
   ]
  },
  {
   "attachments": {},
   "cell_type": "markdown",
   "metadata": {},
   "source": [
    "## Summary"
   ]
  },
  {
   "attachments": {},
   "cell_type": "markdown",
   "metadata": {},
   "source": [
    "Done!\n",
    "\n",
    "We have learned how to handle the review workflow, set up consensus and honeypot in a project, assign specific labelers to specific assets, and how to prioritize assets in the labeling queue."
   ]
  }
 ],
 "metadata": {
  "language_info": {
   "name": "python"
  }
 },
 "nbformat": 4,
 "nbformat_minor": 4
}
