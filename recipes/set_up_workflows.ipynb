{
 "cells": [
  {
   "attachments": {},
   "cell_type": "markdown",
   "metadata": {},
   "source": [
    "<a href=\"https://colab.research.google.com/github/kili-technology/kili-python-sdk/blob/main/recipes/set_up_workflows.ipynb\" target=\"_parent\"><img src=\"https://colab.research.google.com/assets/colab-badge.svg\" alt=\"Open In Colab\"/></a>"
   ]
  },
  {
   "attachments": {},
   "cell_type": "markdown",
   "metadata": {},
   "source": [
    "# How to set up and manage workflows with Kili"
   ]
  },
  {
   "attachments": {},
   "cell_type": "markdown",
   "metadata": {},
   "source": [
    "In this tutorial, we will learn how to set up basic Kili workflows:\n",
    "\n",
    "1. Managing reviews\n",
    "    1. Placing a specific percentage of project assets in the review queue\n",
    "    1. Placing specific assets in the review queue\n",
    "    1. Sending an asset back to the labeling queue\n",
    "1. Setting up consensus\n",
    "    1. Setting consensus for a specific percentage of project assets\n",
    "    1. Setting consensus for specific assets to compute consensus KPIs\n",
    "1. Setting up honeypot\n",
    "1. Assigning labelers to assets\n",
    "1. Prioritizing assets in the labeling queue"
   ]
  },
  {
   "attachments": {},
   "cell_type": "markdown",
   "metadata": {},
   "source": [
    "To work with this notebook, you will have to install and instantiate Kili."
   ]
  },
  {
   "cell_type": "code",
   "execution_count": null,
   "metadata": {},
   "outputs": [],
   "source": [
    "%pip install kili"
   ]
  },
  {
   "cell_type": "code",
   "execution_count": null,
   "metadata": {},
   "outputs": [],
   "source": [
    "import os\n",
    "\n",
    "from kili.client import Kili"
   ]
  },
  {
   "cell_type": "code",
   "execution_count": null,
   "metadata": {},
   "outputs": [],
   "source": [
    "kili = Kili(\n",
    "    # api_endpoint=\"https://cloud.kili-technology.com/api/label/v2/graphql\",\n",
    "    # the line above can be uncommented and changed if you are working with an on-premise version of Kili\n",
    ")"
   ]
  },
  {
   "attachments": {},
   "cell_type": "markdown",
   "metadata": {
    "tags": [
     "skip"
    ]
   },
   "source": [
    "## Set up a project"
   ]
  },
  {
   "cell_type": "code",
   "execution_count": null,
   "metadata": {
    "tags": [
     "skip"
    ]
   },
   "outputs": [],
   "source": [
    "# create project\n",
    "json_interface_classification = {\n",
    "    \"jobs\": {\n",
    "        \"JOB_0\": {\n",
    "            \"mlTask\": \"CLASSIFICATION\",\n",
    "            \"required\": 0,\n",
    "            \"isChild\": False,\n",
    "            \"content\": {\n",
    "                \"categories\": {\n",
    "                    \"OBJECT_A\": {\n",
    "                        \"name\": \"Object A\",\n",
    "                        \"children\": [],\n",
    "                    },\n",
    "                    \"OBJECT_B\": {\n",
    "                        \"name\": \"Object B\",\n",
    "                        \"children\": [],\n",
    "                    },\n",
    "                },\n",
    "                \"input\": \"radio\",\n",
    "            },\n",
    "            \"isNew\": False,\n",
    "        }\n",
    "    }\n",
    "}\n",
    "project_id = kili.create_project(\n",
    "    input_type=\"IMAGE\",\n",
    "    json_interface=json_interface_classification,\n",
    "    title=\"[Kili SDK Notebook]: setup workflows\",\n",
    ")[\"id\"]\n",
    "\n",
    "# add assets\n",
    "assets = kili.append_many_to_dataset(\n",
    "    project_id=project_id,\n",
    "    content_array=[\n",
    "        \"https://storage.googleapis.com/label-public-staging/car/car_1.jpg\",\n",
    "        \"https://storage.googleapis.com/label-public-staging/car/car_2.jpg\",\n",
    "        \"https://storage.googleapis.com/label-public-staging/recipes/inference/white_car.jpg\",\n",
    "        \"https://storage.googleapis.com/label-public-staging/recipes/inference/white_car.jpg\",\n",
    "        \"https://storage.googleapis.com/label-public-staging/recipes/inference/white_car.jpg\",\n",
    "    ],\n",
    "    external_id_array=[\"1.jpg\", \"2.jpg\", \"3.jpg\", \"4.jpg\", \"5.jpg\"],\n",
    "    disable_tqdm=True,\n",
    ")\n",
    "\n",
    "# add members\n",
    "project_user_ids = []\n",
    "for i in range(3):\n",
    "    roles = kili.append_to_roles(\n",
    "        project_id=project_id, user_email=f\"example{i+1}@example.com\", role=\"LABELER\"\n",
    "    )\n",
    "    project_user_ids.append(roles[\"user\"][\"id\"])"
   ]
  },
  {
   "attachments": {},
   "cell_type": "markdown",
   "metadata": {},
   "source": [
    "For information on how to set up a Kili project, refer to the [basic project setup](https://python-sdk-docs.kili-technology.com/latest/sdk/tutorials/basic_project_setup/) tutorial."
   ]
  },
  {
   "attachments": {},
   "cell_type": "markdown",
   "metadata": {},
   "source": [
    "## Managing reviews"
   ]
  },
  {
   "attachments": {},
   "cell_type": "markdown",
   "metadata": {},
   "source": [
    "### Placing a specific percentage of project assets in the review queue "
   ]
  },
  {
   "attachments": {},
   "cell_type": "markdown",
   "metadata": {},
   "source": [
    "You can set up the percentage of assets that will automatically appear in the review queue (1-100%)."
   ]
  },
  {
   "cell_type": "code",
   "execution_count": null,
   "metadata": {},
   "outputs": [
    {
     "data": {
      "text/plain": [
       "{'id': 'clm0sxbgb05hf082tcq813zrc', 'reviewCoverage': 50}"
      ]
     },
     "execution_count": null,
     "metadata": {},
     "output_type": "execute_result"
    }
   ],
   "source": [
    "kili.update_properties_in_project(project_id=project_id, review_coverage=50)"
   ]
  },
  {
   "attachments": {},
   "cell_type": "markdown",
   "metadata": {},
   "source": [
    "## Setting up consensus"
   ]
  },
  {
   "attachments": {},
   "cell_type": "markdown",
   "metadata": {},
   "source": [
    "Consensus works by having more than one labeler annotate the same asset. When the asset is labeled, a consensus score is calculated to measure the agreement level between the different annotations for a given asset.\n",
    "This is a key measure for controlling label production quality.\n",
    "\n",
    "To set up consensus, you will need to have at least two project members.\n",
    "For information on how to add users and assign them to your project, refer to the [basic project setup](https://python-sdk-docs.kili-technology.com/latest/sdk/tutorials/basic_project_setup/) tutorial."
   ]
  },
  {
   "attachments": {},
   "cell_type": "markdown",
   "metadata": {},
   "source": [
    "### Setting consensus for a specific percentage of project assets"
   ]
  },
  {
   "attachments": {},
   "cell_type": "markdown",
   "metadata": {},
   "source": [
    "Let's set the percentage of the project dataset that will be annotated several times, to enable consensus calculations. We will also set the minimum number of labelers to label each one of these assets."
   ]
  },
  {
   "cell_type": "code",
   "execution_count": null,
   "metadata": {},
   "outputs": [
    {
     "data": {
      "text/plain": [
       "{'id': 'clm0sxbgb05hf082tcq813zrc',\n",
       " 'consensusTotCoverage': 1,\n",
       " 'minConsensusSize': 3}"
      ]
     },
     "execution_count": null,
     "metadata": {},
     "output_type": "execute_result"
    }
   ],
   "source": [
    "kili.update_properties_in_project(\n",
    "    project_id=project_id,\n",
    "    consensus_tot_coverage=1,\n",
    "    min_consensus_size=3,\n",
    ")"
   ]
  },
  {
   "attachments": {},
   "cell_type": "markdown",
   "metadata": {},
   "source": [
    "### Setting consensus for specific assets to compute consensus KPIs\n",
    "\n",
    "You can manually select specific project assets to be used for computing consensus KPIs."
   ]
  },
  {
   "cell_type": "code",
   "execution_count": null,
   "metadata": {},
   "outputs": [
    {
     "data": {
      "text/plain": [
       "[{'id': 'clm0sxcpf0000ojvz92wfzxix'},\n",
       " {'id': 'clm0sxcpf0001ojvzocjdx4w1'},\n",
       " {'id': 'clm0sxcpf0002ojvz0oynrshg'}]"
      ]
     },
     "execution_count": null,
     "metadata": {},
     "output_type": "execute_result"
    }
   ],
   "source": [
    "kili.update_properties_in_assets(\n",
    "    project_id=project_id,\n",
    "    external_ids=[\"1.jpg\", \"2.jpg\", \"3.jpg\"],\n",
    "    is_used_for_consensus_array=[True] * 3,\n",
    ")"
   ]
  },
  {
   "attachments": {},
   "cell_type": "markdown",
   "metadata": {},
   "source": [
    "For more information on consensus, refer to our [documentation](https://docs.kili-technology.com/docs/consensus-overview)."
   ]
  },
  {
   "attachments": {},
   "cell_type": "markdown",
   "metadata": {},
   "source": [
    "## Setting up honeypot"
   ]
  },
  {
   "attachments": {},
   "cell_type": "markdown",
   "metadata": {},
   "source": [
    "Honeypot (or __gold standard__) is a tool for auditing the work of labelers by measuring the accuracy of their annotations.\n",
    "Honeypot works by interspersing assets with defined ground truth label in the annotation queue. This way you can measure the agreement level between your ground truth and the annotations made by labelers.\n",
    "\n",
    "You can manually select specific project assets to be used as honeypots."
   ]
  },
  {
   "cell_type": "code",
   "execution_count": null,
   "metadata": {},
   "outputs": [],
   "source": [
    "kili.create_honeypot(\n",
    "    project_id=project_id,\n",
    "    asset_external_id=\"1.jpg\",\n",
    "    json_response={\"JOB_0\": {\"categories\": [{\"confidence\": 100, \"name\": \"OBJECT_B\"}]}},\n",
    ")"
   ]
  },
  {
   "attachments": {},
   "cell_type": "markdown",
   "metadata": {},
   "source": [
    "For more information on honeypot, refer to our [documentation](https://docs.kili-technology.com/docs/consensus-overview)."
   ]
  },
  {
   "attachments": {},
   "cell_type": "markdown",
   "metadata": {},
   "source": [
    "## Assigning labelers to assets"
   ]
  },
  {
   "attachments": {},
   "cell_type": "markdown",
   "metadata": {},
   "source": [
    "You can assign specific labelers to specific assets in your project. You can do that by assigning users' emails to the selected asset IDs. Remember that you can assign more than one user to a specific asset."
   ]
  },
  {
   "cell_type": "code",
   "execution_count": null,
   "metadata": {},
   "outputs": [
    {
     "data": {
      "text/plain": [
       "[{'id': 'clm0sxcpf0000ojvz92wfzxix'},\n",
       " {'id': 'clm0sxcpf0001ojvzocjdx4w1'},\n",
       " {'id': 'clm0sxcpf0002ojvz0oynrshg'}]"
      ]
     },
     "execution_count": null,
     "metadata": {},
     "output_type": "execute_result"
    }
   ],
   "source": [
    "kili.update_properties_in_assets(\n",
    "    project_id=project_id,\n",
    "    external_ids=[\"1.jpg\", \"2.jpg\", \"3.jpg\"],\n",
    "    to_be_labeled_by_array=[\n",
    "        [\"example1@example.com\"],\n",
    "        [\"example2@example.com\"],\n",
    "        [\"example3@example.com\"],\n",
    "    ],\n",
    ")"
   ]
  },
  {
   "attachments": {},
   "cell_type": "markdown",
   "metadata": {},
   "source": [
    "The `to_be_labeled_by_array` argument is a list of lists. Each of the sub-lists can contain several e-mails. This way you can assign several labelers to one asset.\n",
    "\n",
    "For example:\n",
    "\n",
    "`to_be_labeled_by_array = [[\"example1@example.com\"], [\"example1@example.com\", \"example2@example.com\"], [\"example3@example.com\"]]`\n",
    "\n",
    "For information on how to add users and assign them to your project, refer to the [basic project setup](https://python-sdk-docs.kili-technology.com/latest/sdk/tutorials/basic_project_setup/) tutorial.\n",
    "For information on assigning assets to users, refer to our [documentation](https://docs.kili-technology.com/docs/queue-prioritization)."
   ]
  },
  {
   "attachments": {},
   "cell_type": "markdown",
   "metadata": {},
   "source": [
    "## Prioritizing assets in the labeling queue"
   ]
  },
  {
   "attachments": {},
   "cell_type": "markdown",
   "metadata": {},
   "source": [
    "If you have certain assets that you need to have labeled earlier or later than the rest, you can use Kili's asset prioritization methods."
   ]
  },
  {
   "cell_type": "code",
   "execution_count": null,
   "metadata": {},
   "outputs": [
    {
     "data": {
      "text/plain": [
       "[{'id': 'clm0sxcpf0000ojvz92wfzxix'},\n",
       " {'id': 'clm0sxcpf0001ojvzocjdx4w1'},\n",
       " {'id': 'clm0sxcpf0002ojvz0oynrshg'}]"
      ]
     },
     "execution_count": null,
     "metadata": {},
     "output_type": "execute_result"
    }
   ],
   "source": [
    "kili.update_properties_in_assets(\n",
    "    project_id=project_id, external_ids=[\"1.jpg\", \"2.jpg\", \"3.jpg\"], priorities=[1, 5, 10]\n",
    ")"
   ]
  },
  {
   "attachments": {},
   "cell_type": "markdown",
   "metadata": {},
   "source": [
    "For information on setting asset priorities, refer to our [documentation](https://docs.kili-technology.com/docs/queue-prioritization)."
   ]
  },
  {
   "attachments": {},
   "cell_type": "markdown",
   "metadata": {},
   "source": [
    "### Placing specific assets in the review queue"
   ]
  },
  {
   "attachments": {},
   "cell_type": "markdown",
   "metadata": {},
   "source": [
    "When done with your basic workflow setup, you can place specific, labeled assets in the review queue.\n",
    "As this requires the assets to be labeled, first, let's simulate adding labels to some of our assets.\n",
    "The method will return the list of newly-added label IDs."
   ]
  },
  {
   "cell_type": "code",
   "execution_count": null,
   "metadata": {},
   "outputs": [
    {
     "name": "stderr",
     "output_type": "stream",
     "text": [
      "100%|██████████| 1/1 [00:00<00:00,  1.51it/s]\n"
     ]
    },
    {
     "data": {
      "text/plain": [
       "[{'id': 'clm0sxm4g05vi0840gu3iewf2'}]"
      ]
     },
     "execution_count": null,
     "metadata": {},
     "output_type": "execute_result"
    }
   ],
   "source": [
    "kili.append_labels(\n",
    "    project_id=project_id,\n",
    "    asset_external_id_array=[\"4.jpg\"],\n",
    "    json_response_array=[{\"JOB_0\": {\"categories\": [{\"confidence\": 100, \"name\": \"OBJECT_B\"}]}}],\n",
    "    label_type=\"DEFAULT\",\n",
    ")"
   ]
  },
  {
   "attachments": {},
   "cell_type": "markdown",
   "metadata": {},
   "source": [
    "Now, let's place some assets in the review queue. The method will return a project ID and a list of asset IDs placed in the review queue."
   ]
  },
  {
   "cell_type": "code",
   "execution_count": null,
   "metadata": {},
   "outputs": [],
   "source": [
    "kili.add_to_review(project_id=project_id, external_ids=[\"4.jpg\"])"
   ]
  },
  {
   "attachments": {},
   "cell_type": "markdown",
   "metadata": {},
   "source": [
    "For more information on asset statuses, refer to our [documentation](https://docs.kili-technology.com/docs/asset-lifecycle)."
   ]
  },
  {
   "attachments": {},
   "cell_type": "markdown",
   "metadata": {},
   "source": [
    "### Sending an asset back to the labeling queue"
   ]
  },
  {
   "attachments": {},
   "cell_type": "markdown",
   "metadata": {},
   "source": [
    "You can also send specific labeled assets back to the labeling queue."
   ]
  },
  {
   "cell_type": "code",
   "execution_count": null,
   "metadata": {},
   "outputs": [
    {
     "data": {
      "text/plain": [
       "{'id': 'clm0sxbgb05hf082tcq813zrc', 'asset_ids': ['clm0sxcpf0003ojvzcrha754l']}"
      ]
     },
     "execution_count": null,
     "metadata": {},
     "output_type": "execute_result"
    }
   ],
   "source": [
    "kili.send_back_to_queue(project_id=project_id, external_ids=[\"4.jpg\"])"
   ]
  },
  {
   "attachments": {},
   "cell_type": "markdown",
   "metadata": {},
   "source": [
    "For more information on asset statuses, refer to our [documentation](https://docs.kili-technology.com/docs/asset-lifecycle)."
   ]
  },
  {
   "attachments": {},
   "cell_type": "markdown",
   "metadata": {
    "tags": []
   },
   "source": [
    "## Cleanup\n",
    "\n",
    "We can remove the project that we created:"
   ]
  },
  {
   "cell_type": "code",
   "execution_count": null,
   "metadata": {
    "tags": []
   },
   "outputs": [
    {
     "data": {
      "text/plain": [
       "'clm0sxbgb05hf082tcq813zrc'"
      ]
     },
     "execution_count": null,
     "metadata": {},
     "output_type": "execute_result"
    }
   ],
   "source": [
    "kili.delete_project(project_id)"
   ]
  },
  {
   "attachments": {},
   "cell_type": "markdown",
   "metadata": {},
   "source": [
    "## Summary"
   ]
  },
  {
   "attachments": {},
   "cell_type": "markdown",
   "metadata": {},
   "source": [
    "Done!\n",
    "\n",
    "We have learned how to handle the review workflow, set up consensus and honeypot in a project, assign specific labelers to specific assets, and how to prioritize assets in the labeling queue."
   ]
  }
 ],
 "metadata": {
  "language_info": {
   "name": "python"
  }
 },
 "nbformat": 4,
 "nbformat_minor": 4
}
