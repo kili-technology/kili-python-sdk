{
 "cells": [
  {
   "cell_type": "markdown",
   "metadata": {},
   "source": [
    "<a href=\"https://colab.research.google.com/github/kili-technology/kili-python-sdk/blob/master/recipes/plugins_development.ipynb\" target=\"_parent\"><img src=\"https://colab.research.google.com/assets/colab-badge.svg\" alt=\"Open In Colab\"/></a>"
   ]
  },
  {
   "cell_type": "markdown",
   "metadata": {},
   "source": [
    "# Plugins Development"
   ]
  },
  {
   "cell_type": "markdown",
   "metadata": {},
   "source": [
    "## Preliminary\n",
    "\n",
    "This notebook will teach you how to build your first plugin.\n",
    "\n",
    "A plugin is an uploaded Python script triggered by an event that you define.\n",
    "\n",
    "For instance, you can trigger a plugin when a labeler clicks on **Submit** with the `on_submit` handler.\n",
    "\n",
    "The plugin should have different methods for the different types of events:\n",
    "\n",
    "- `on_submit`\n",
    "- `on_review`\n",
    "\n",
    "These methods have a predefined set of parameters:\n",
    "\n",
    "- the `label` submitted\n",
    "- the `asset_id` of the asset labeled\n",
    "\n",
    "Some attributes are available in the class:\n",
    "\n",
    "- `self.kili`\n",
    "- `self.project_id`\n",
    "\n",
    "Therefore, the skeleton of the plugin should look like this:\n",
    "\n",
    "```python\n",
    "from kili.plugins import PluginCore\n",
    "from kili.types import Label\n",
    "import numpy as np\n",
    "\n",
    "class PluginHandler(PluginCore):\n",
    "    \"\"\"Custom plugin\"\"\"\n",
    "\n",
    "    def on_review(self, label: Label, asset_id: str) -> None:\n",
    "        \"\"\"Dedicated handler for Review action\"\"\"\n",
    "        # Do something...\n",
    "\n",
    "    def on_submit(self, label: Label, asset_id: str) -> None:\n",
    "        \"\"\"Dedicated handler for Submit action\"\"\"\n",
    "        # Do something...\n",
    "```\n",
    "\n",
    "Do not hesitate to reach out to us if you need more.\n",
    "\n",
    "**NB: The plugin capabilities of Kili are under active development, and compatible with version 2.125.2 and later of Kili. Don't hesitate to reach out via Github or Kili support to provide feedback.**"
   ]
  },
  {
   "cell_type": "markdown",
   "metadata": {},
   "source": [
    "## Instantiate Kili"
   ]
  },
  {
   "cell_type": "code",
   "execution_count": null,
   "metadata": {},
   "outputs": [],
   "source": [
    "!pip install --upgrade kili"
   ]
  },
  {
   "cell_type": "code",
   "execution_count": null,
   "metadata": {},
   "outputs": [],
   "source": [
    "%load_ext autoreload\n",
    "%autoreload 2\n",
    "\n",
    "from kili.client import Kili\n",
    "import os\n",
    "\n",
    "kili = Kili()"
   ]
  },
  {
   "attachments": {},
   "cell_type": "markdown",
   "metadata": {},
   "source": [
    "## Develop your plugin\n",
    "\n",
    "The first step is to define the functions that will be called when the event is triggered. You will be able to iterate on these functions locally (more on that in the next section).\n",
    "\n",
    "The plugin can be defined in two ways: a single `.py` file with everything inside or a module (folder containing multiple `.py` files). In the case of the module type, a file names `main.py` need to be at the root of the folder and will serve as the entrypoint."
   ]
  },
  {
   "attachments": {},
   "cell_type": "markdown",
   "metadata": {},
   "source": [
    " ### 1. Plugin defined in a single file\n",
    "\n",
    "This cell should be the contents of the `.py` file that you will upload as a plugin at the end.\n",
    "\n",
    "**This file should define the `PluginHandler` class that will contain the proper methods.**\n",
    "\n",
    "We recommend using a modern IDE like VScode to get type hints and autocompletion on the methods."
   ]
  },
  {
   "cell_type": "code",
   "execution_count": null,
   "metadata": {},
   "outputs": [],
   "source": [
    "from kili.plugins import PluginCore\n",
    "from kili.types import Label\n",
    "import numpy as np\n",
    "\n",
    "\n",
    "def custom_function(label: Label):\n",
    "    label_id = label.get(\"id\")\n",
    "    print(f\"My custom function for review of label with id {label_id}\")\n",
    "\n",
    "\n",
    "class PluginHandler(PluginCore):\n",
    "    \"\"\"\n",
    "    Custom plugin instance\n",
    "    \"\"\"\n",
    "\n",
    "    def custom_method(self, project_id, label_id):\n",
    "        print(f\"custom_method called for label {label_id}\")\n",
    "        random_seed = np.random.random(1)[0]\n",
    "        if random_seed > 0.5:\n",
    "            self.logger.warning(\"Generating issue\")\n",
    "            # Use kili for actions with self.kili\n",
    "            self.kili.append_to_issues(\n",
    "                label_id=label_id,\n",
    "                project_id=project_id,\n",
    "                text=\"Random issue generated for this label\",\n",
    "            )\n",
    "\n",
    "    def on_review(self, label: Label, asset_id: str) -> None:\n",
    "        \"\"\"\n",
    "        Dedicated handler for Review action\n",
    "        \"\"\"\n",
    "        custom_function(label)\n",
    "\n",
    "    def on_submit(self, label: Label, asset_id: str) -> None:\n",
    "        \"\"\"\n",
    "        Dedicated handler for Submit action\n",
    "        \"\"\"\n",
    "        print(\"On submit called\")\n",
    "\n",
    "        project_id = self.project_id\n",
    "        label_id = label.get(\"id\")\n",
    "\n",
    "        self.custom_method(project_id, label_id)"
   ]
  },
  {
   "attachments": {},
   "cell_type": "markdown",
   "metadata": {},
   "source": [
    "### 2. Plugin defined in a folder\n",
    "\n",
    "As said previously, the structure of the folder can be the following (the only constraint being the presence of the `main.py` file):\n",
    "```\n",
    "plugin_folder\n",
    "|__ main.py\n",
    "|__ other_file.py\n",
    "|\n",
    "|___helpers\n",
    "    |__ helper.py\n",
    "```\n",
    "\n",
    "**Important: The main.py file need to have the same skeleton as the plugin defined in a single file (presence of the class `PluginHandler`), the difference being that it can import and call functions defined in other files**\n",
    "\n",
    "Depending on where the folder is stored, there are two ways to import the plugin in order to test it:\n",
    "- The first way is to use a relative import (having the plugin folder and the notebook in the same folder). It is simpler and we recommend it as it will also allow the IDE to detect the correct methods and propose hints and autocompletion.\n",
    "- The second was is to use an absolute path to the plugin folder"
   ]
  },
  {
   "attachments": {},
   "cell_type": "markdown",
   "metadata": {},
   "source": [
    "#### 2.1 Relative import"
   ]
  },
  {
   "cell_type": "code",
   "execution_count": null,
   "metadata": {},
   "outputs": [],
   "source": [
    "# Here replace 'plugin_folder' with the actual name of the folder\n",
    "from plugin_folder.main import PluginHandler"
   ]
  },
  {
   "attachments": {},
   "cell_type": "markdown",
   "metadata": {},
   "source": [
    "#### 2.2 Absolute path import"
   ]
  },
  {
   "cell_type": "code",
   "execution_count": null,
   "metadata": {},
   "outputs": [],
   "source": [
    "import os\n",
    "import sys\n",
    "from pathlib import Path\n",
    "\n",
    "# Input the path to the plugin folder (it should include the folder), for example '/path/to/plugin_folder'\n",
    "plugin_path = \"<INSERT PATH TO PLUGIN FOLDER>\"\n",
    "\n",
    "module_path = str(Path(plugin_path).parent.absolute())\n",
    "\n",
    "# We are inserting the path in the system PATH to be able to import the module in the next line\n",
    "sys.path.insert(0, module_path)\n",
    "\n",
    "# Here replace 'plugin_folder' with the actual name of the folder\n",
    "from plugin_folder.main import PluginHandler"
   ]
  },
  {
   "cell_type": "markdown",
   "metadata": {},
   "source": [
    "### Testing the plugin locally\n",
    "\n",
    "In this we will show you how to test your plugin locally before uploading it."
   ]
  },
  {
   "cell_type": "code",
   "execution_count": null,
   "metadata": {},
   "outputs": [],
   "source": [
    "project_id = \"<PROJECT ID>\""
   ]
  },
  {
   "cell_type": "markdown",
   "metadata": {
    "tags": [
     "skip"
    ]
   },
   "source": [
    "## Setup a project"
   ]
  },
  {
   "cell_type": "code",
   "execution_count": null,
   "metadata": {
    "tags": [
     "skip"
    ]
   },
   "outputs": [],
   "source": [
    "# create project\n",
    "json_interface_object_detection = {\n",
    "    \"jobs\": {\n",
    "        \"JOB_0\": {\n",
    "            \"content\": {\n",
    "                \"categories\": {\n",
    "                    \"OBJECT_A\": {\"children\": [], \"name\": \"Object A\", \"color\": \"#733AFB\"},\n",
    "                    \"OBJECT_B\": {\"children\": [], \"name\": \"Object B\", \"color\": \"#3CD876\"},\n",
    "                },\n",
    "                \"input\": \"radio\",\n",
    "            },\n",
    "            \"instruction\": \"Categories\",\n",
    "            \"isChild\": False,\n",
    "            \"tools\": [\"rectangle\"],\n",
    "            \"mlTask\": \"OBJECT_DETECTION\",\n",
    "            \"models\": {},\n",
    "            \"isVisible\": True,\n",
    "            \"required\": 1,\n",
    "        }\n",
    "    }\n",
    "}\n",
    "project_id = kili.create_project(\n",
    "    input_type=\"IMAGE\",\n",
    "    json_interface=json_interface_object_detection,\n",
    "    title=\"export kili project tutorial\",\n",
    ")[\"id\"]"
   ]
  },
  {
   "cell_type": "markdown",
   "metadata": {},
   "source": [
    "Instantiate the plugin:"
   ]
  },
  {
   "cell_type": "code",
   "execution_count": null,
   "metadata": {},
   "outputs": [],
   "source": [
    "my_plugin_instance = PluginHandler(kili, project_id)\n",
    "\n",
    "\n",
    "def get_label(label_id, project_id):\n",
    "    \"\"\"\n",
    "    Function to get the object Label with the same keys as it will be in the plugin\n",
    "    \"\"\"\n",
    "    label = list(\n",
    "        kili.labels(\n",
    "            project_id=project_id,\n",
    "            label_id=label_id,\n",
    "            fields=[\"id\", \"jsonResponse\", \"author.id\", \"labelType\", \"createdAt\", \"secondsToLabel\"],\n",
    "        )\n",
    "    )[0]\n",
    "\n",
    "    label[\"authorId\"] = label[\"author\"][\"id\"]\n",
    "    del label[\"author\"]\n",
    "    return label"
   ]
  },
  {
   "cell_type": "markdown",
   "metadata": {
    "tags": []
   },
   "source": [
    "### Test the plugin run\n",
    "\n",
    "If you already have a test project with labels added, you can directly use the IDs of these labels (see the following cell). Otherwise, you can follow the *plugins_example.ipynb* notebook to create a new project and then upload an asset with an associated label."
   ]
  },
  {
   "cell_type": "code",
   "execution_count": null,
   "metadata": {},
   "outputs": [],
   "source": [
    "asset_id = \"<YOUR_ASSET_ID>\"\n",
    "label_id = \"<YOUR_LABEL_ID>\""
   ]
  },
  {
   "cell_type": "code",
   "execution_count": null,
   "metadata": {
    "tags": [
     "skip"
    ]
   },
   "outputs": [],
   "source": [
    "# add assets\n",
    "assets = kili.append_many_to_dataset(\n",
    "    project_id=project_id,\n",
    "    content_array=[\n",
    "        \"https://storage.googleapis.com/label-public-staging/car/car_1.jpg\",\n",
    "    ],\n",
    "    external_id_array=[\"car_1\"],\n",
    "    disable_tqdm=True,\n",
    ")\n",
    "asset_id = kili.assets(project_id)[0][\"id\"]\n",
    "\n",
    "# add labels\n",
    "json_response = {\n",
    "    \"JOB_0\": {\n",
    "        \"annotations\": [\n",
    "            {\n",
    "                \"boundingPoly\": [\n",
    "                    {\n",
    "                        \"normalizedVertices\": [\n",
    "                            {\"x\": 0.437473570026755, \"y\": 0.662407024077585},\n",
    "                            {\"x\": 0.437473570026755, \"y\": 0.28769191191267807},\n",
    "                            {\"x\": 0.7235387616200971, \"y\": 0.28769191191267807},\n",
    "                            {\"x\": 0.7235387616200971, \"y\": 0.662407024077585},\n",
    "                        ]\n",
    "                    }\n",
    "                ],\n",
    "                \"categories\": [{\"name\": \"OBJECT_A\"}],\n",
    "                \"mid\": \"20230111125258113-44528\",\n",
    "                \"type\": \"rectangle\",\n",
    "                \"children\": {},\n",
    "            }\n",
    "        ]\n",
    "    }\n",
    "}\n",
    "kili.append_labels(\n",
    "    asset_external_id_array=[\"car_1\"],\n",
    "    json_response_array=[json_response],\n",
    "    disable_tqdm=True,\n",
    "    project_id=project_id,\n",
    ")\n",
    "label_id = kili.labels(project_id)[0][\"id\"]"
   ]
  },
  {
   "cell_type": "code",
   "execution_count": null,
   "metadata": {},
   "outputs": [],
   "source": [
    "label = get_label(label_id=label_id, project_id=project_id)\n",
    "\n",
    "my_plugin_instance.on_submit(label=Label(**label), asset_id=asset_id)"
   ]
  },
  {
   "cell_type": "markdown",
   "metadata": {},
   "source": [
    "### Test the plugin run on Kili\n",
    "\n",
    "When you finish debugging the code, you may want to upload it directly into Kili.\n",
    "\n",
    "Note that you might get an error if the plugin name already exists in your Kili organization."
   ]
  },
  {
   "cell_type": "code",
   "execution_count": null,
   "metadata": {},
   "outputs": [],
   "source": [
    "path_to_plugin = \"path/to/my/plugin.py\"\n",
    "plugin_name = \"My first kili plugin\""
   ]
  },
  {
   "cell_type": "code",
   "execution_count": null,
   "metadata": {
    "tags": [
     "skip"
    ]
   },
   "outputs": [],
   "source": [
    "path_to_plugin = \"plugin.py\"\n",
    "plugin_str = '''from kili.plugins import PluginCore\n",
    "from kili.types import Label\n",
    "import numpy as np\n",
    "\n",
    "\n",
    "def custom_function(label: Label):\n",
    "    label_id = label.get(\"id\")\n",
    "    print(f\"My custom function for review of label with id {label_id}\")\n",
    "\n",
    "\n",
    "class PluginHandler(PluginCore):\n",
    "    \"\"\"\n",
    "    Custom plugin instance\n",
    "    \"\"\"\n",
    "\n",
    "    def custom_method(self, project_id, label_id):\n",
    "        print(f\"custom_method called for label {label_id}\")\n",
    "        random_seed = np.random.random(1)[0]\n",
    "        if random_seed > 0.5:\n",
    "            self.logger.warning(\"Generating issue\")\n",
    "            # Use kili for actions with self.kili\n",
    "            self.kili.append_to_issues(\n",
    "                label_id=label_id,\n",
    "                project_id=project_id,\n",
    "                text=\"Random issue generated for this label\",\n",
    "            )\n",
    "\n",
    "    def on_review(self, label: Label, asset_id: str) -> None:\n",
    "        \"\"\"\n",
    "        Dedicated handler for Review action\n",
    "        \"\"\"\n",
    "        custom_function(label)\n",
    "\n",
    "    def on_submit(self, label: Label, asset_id: str) -> None:\n",
    "        \"\"\"\n",
    "        Dedicated handler for Submit action\n",
    "        \"\"\"\n",
    "        print(\"On submit called\")\n",
    "\n",
    "        project_id = self.project_id\n",
    "        label_id = label.get(\"id\")\n",
    "\n",
    "        self.custom_method(project_id, label_id)\n",
    "'''\n",
    "with open(path_to_plugin, \"w\") as file:\n",
    "    file.write(plugin_str)"
   ]
  },
  {
   "cell_type": "code",
   "execution_count": null,
   "metadata": {},
   "outputs": [],
   "source": [
    "from kili.exceptions import GraphQLError\n",
    "\n",
    "try:\n",
    "    kili.upload_plugin(path_to_plugin, plugin_name)\n",
    "except GraphQLError as error:\n",
    "    print(str(error))"
   ]
  },
  {
   "cell_type": "markdown",
   "metadata": {},
   "source": [
    "Plugins must be activated in the project that you want them to run in. Be careful with production projects: your custom workflows or rules will also be applied"
   ]
  },
  {
   "cell_type": "code",
   "execution_count": null,
   "metadata": {},
   "outputs": [],
   "source": [
    "kili.activate_plugin_on_project(plugin_name, project_id=project_id)"
   ]
  },
  {
   "cell_type": "markdown",
   "metadata": {},
   "source": [
    "## Monitoring the plugin\n",
    "\n",
    "Plugin creation takes some time (around 5 minutes). The plugin will begin to run only after it's been fully created (if labeling events are to be triggered on this project).\n",
    "\n",
    "Additionally, you can get the logs of the runs:"
   ]
  },
  {
   "cell_type": "code",
   "execution_count": null,
   "metadata": {},
   "outputs": [],
   "source": [
    "kili.get_plugin_logs(project_id=project_id, plugin_name=plugin_name)"
   ]
  },
  {
   "cell_type": "markdown",
   "metadata": {},
   "source": [
    "You can set custom date rules for filtering your logs:"
   ]
  },
  {
   "cell_type": "code",
   "execution_count": null,
   "metadata": {},
   "outputs": [],
   "source": [
    "from datetime import date\n",
    "from datetime import datetime\n",
    "\n",
    "dt = date.today()  # You can change this date if needed\n",
    "start_date = datetime.combine(dt, datetime.min.time())\n",
    "\n",
    "kili.get_plugin_logs(project_id=project_id, plugin_name=plugin_name, start_date=start_date)"
   ]
  },
  {
   "cell_type": "markdown",
   "metadata": {},
   "source": [
    "## Managing your plugin\n",
    "\n",
    "Here are several other methods to manage your plugins and their lifecycle:"
   ]
  },
  {
   "cell_type": "markdown",
   "metadata": {},
   "source": [
    "Get the list of all uploaded plugins in your organization:"
   ]
  },
  {
   "cell_type": "code",
   "execution_count": null,
   "metadata": {},
   "outputs": [],
   "source": [
    "plugins = kili.list_plugins()\n",
    "print([plugin for plugin in plugins if plugin[\"name\"] == plugin_name])"
   ]
  },
  {
   "cell_type": "markdown",
   "metadata": {},
   "source": [
    "Update a plugin with new source code:"
   ]
  },
  {
   "cell_type": "code",
   "execution_count": null,
   "metadata": {},
   "outputs": [],
   "source": [
    "updated_path = \"plugin.py\""
   ]
  },
  {
   "cell_type": "code",
   "execution_count": null,
   "metadata": {},
   "outputs": [],
   "source": [
    "if updated_path != path_to_plugin:\n",
    "    kili.update_plugin(plugin_name=plugin_name, plugin_path=updated_path)"
   ]
  },
  {
   "cell_type": "markdown",
   "metadata": {},
   "source": [
    "Deactivate the plugin on a certain project (the plugin can still be active for other projects):"
   ]
  },
  {
   "cell_type": "code",
   "execution_count": null,
   "metadata": {},
   "outputs": [],
   "source": [
    "kili.deactivate_plugin_on_project(plugin_name=plugin_name, project_id=project_id);"
   ]
  },
  {
   "cell_type": "markdown",
   "metadata": {},
   "source": [
    "Delete the plugin completely (deactivates automatically the plugin from all projects):"
   ]
  },
  {
   "cell_type": "code",
   "execution_count": null,
   "metadata": {
    "tags": [
     "skip"
    ]
   },
   "outputs": [],
   "source": [
    "delete_plugin_from_org = False"
   ]
  },
  {
   "cell_type": "code",
   "execution_count": null,
   "metadata": {},
   "outputs": [],
   "source": [
    "if delete_plugin_from_org:\n",
    "    kili.delete_plugin(plugin_name=plugin_name)"
   ]
  },
  {
   "cell_type": "code",
   "execution_count": null,
   "metadata": {
    "tags": [
     "skip"
    ]
   },
   "outputs": [],
   "source": [
    "kili.delete_project(project_id)"
   ]
  }
 ],
 "metadata": {
  "kernelspec": {
   "display_name": "python3",
   "language": "python",
   "name": "python3"
  },
  "language_info": {
   "codemirror_mode": {
    "name": "ipython",
    "version": 3
   },
   "file_extension": ".py",
   "mimetype": "text/x-python",
   "name": "python",
   "nbconvert_exporter": "python",
   "pygments_lexer": "ipython3"
  },
  "vscode": {
   "interpreter": {
    "hash": "ea53c95e0226e60024720596fecaafdf2410458bd9b7ff07d6b89a8a369660c5"
   }
  }
 },
 "nbformat": 4,
 "nbformat_minor": 4
}
