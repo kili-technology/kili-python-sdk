{
 "cells": [
  {
   "cell_type": "markdown",
   "metadata": {},
   "source": [
    "## Preliminary\n",
    "\n",
    "This notebook will teach you how to build your first plugin. A plugin is an uploaded Python script triggered by an event that you define. For instance, you can trigger a plugin when a labeler clicks on **Submit** with the `on_submit` handler.\n",
    "The plugin should have different methods for the different types of events: at the moment these are *on_submit* and *on_review*. These methods have a predefined set of parameters: the label submitted & the asset_id of the asset labeled.\n",
    "\n",
    "\n",
    "Therefore, the skeleton of the plugin should look like this:\n",
    "\n",
    "```python\n",
    "from kili.plugins import PluginCore\n",
    "from kili.types import Label\n",
    "import numpy as np\n",
    "\n",
    "def custom_function(label: Label):\n",
    "    label_id = label.get('id')\n",
    "    print(f\"My custom function for review of label with id {label_id}\")\n",
    "\n",
    "class PluginHandler(PluginCore):\n",
    "    \"\"\"\n",
    "    Custom plugin instance\n",
    "    \"\"\"\n",
    "\n",
    "    def custom_method(self, project_id, label_id):\n",
    "        #custom methods \n",
    "        print('Custom method for  label')\n",
    "        # Use kili for actions with self.kili\n",
    "        random_seed = np.random.random(1)[0]\n",
    "        if random_seed > 0.5:\n",
    "            self.logger.warning('Generating issue')\n",
    "            self.kili.append_to_issues(\n",
    "                label_id=label_id,\n",
    "                project_id=project_id,\n",
    "                text='Random issue generated for this label'\n",
    "            )\n",
    "\n",
    "    def on_review(self, label: Label, asset_id: str) -> None:\n",
    "        \"\"\"\n",
    "        Dedicated handler for Review action \n",
    "        \"\"\"\n",
    "        custom_function(label)\n",
    "\n",
    "    def on_submit(self, label: Label, asset_id: str) -> None:\n",
    "        \"\"\"\n",
    "        Dedicated handler for Submit action \n",
    "        \"\"\"\n",
    "        print('On submit called')\n",
    "\n",
    "        project_id = self.project_id\n",
    "        label_id = label.get('id')\n",
    "        \n",
    "        self.custom_method(project_id, label_id)\n",
    "```\n",
    "\n",
    "**IMPORTANT** : Imports of packages inside the plugin are not permitted at the moment (except for `numpy`, & the various kili types).\n",
    "Don't hesitate to reach out to us if you need more.\n",
    "\n",
    "**NB: The plugin capabilities of Kili are under active development, and compatible with version 2.125.2 and later of Kili. Don't hesitate to reach out via Github or Kili support to provide feedback.**"
   ]
  },
  {
   "cell_type": "markdown",
   "metadata": {},
   "source": [
    "## Instantiate Kili with your personal API_KEY"
   ]
  },
  {
   "cell_type": "code",
   "execution_count": null,
   "metadata": {},
   "outputs": [],
   "source": [
    "#%pip install kili\n",
    "\n",
    "from kili.client import Kili\n",
    "import os\n",
    "\n",
    "api_endpoint = os.getenv('KILI_API_ENDPOINT')\n",
    "api_key = os.getenv('KILI_API_KEY')\n",
    "\n",
    "\n",
    "kili = Kili(api_endpoint=api_endpoint, api_key=api_key)"
   ]
  },
  {
   "cell_type": "markdown",
   "metadata": {},
   "source": [
    "## Develop your plugin\n",
    "\n",
    "The first step is to define the functions that will be called when the event is triggered. You will be able to iterate on these functions locally (more on that in the next section).\n",
    " \n",
    "This cell should be the contents of the `.py` file that you will upload as a plugin at the end.\n",
    "**This file should define the `PluginHandler` class that will contain the proper methods.**\n",
    "We recommend using a modern IDE like VScode to get type hints and autocompletion on the methods."
   ]
  },
  {
   "cell_type": "code",
   "execution_count": null,
   "metadata": {},
   "outputs": [],
   "source": [
    "from kili.plugins import PluginCore\n",
    "from kili.types import Label\n",
    "import numpy as np\n",
    "\n",
    "def custom_function(label: Label):\n",
    "    label_id = label.get('id')\n",
    "    print(f\"My custom function for review of label with id {label_id}\")\n",
    "\n",
    "class PluginHandler(PluginCore):\n",
    "    \"\"\"\n",
    "    Custom plugin instance\n",
    "    \"\"\"\n",
    "\n",
    "    def custom_method(self, project_id, label_id):\n",
    "        #custom methods \n",
    "        print('Custom method for  label')\n",
    "        # Use kili for actions with self.kili\n",
    "        random_seed = np.random.random(1)[0]\n",
    "        if random_seed > 0.5:\n",
    "            self.logger.warning('Generating issue')\n",
    "            self.kili.append_to_issues(\n",
    "                label_id=label_id,\n",
    "                project_id=project_id,\n",
    "                text='Random issue generated for this label'\n",
    "            )\n",
    "\n",
    "    def on_review(self, label: Label, asset_id: str) -> None:\n",
    "        \"\"\"\n",
    "        Dedicated handler for Review action \n",
    "        \"\"\"\n",
    "        custom_function(label)\n",
    "\n",
    "    def on_submit(self, label: Label, asset_id: str) -> None:\n",
    "        \"\"\"\n",
    "        Dedicated handler for Submit action \n",
    "        \"\"\"\n",
    "        print('On submit called')\n",
    "\n",
    "        project_id = self.project_id\n",
    "        label_id = label.get('id')\n",
    "        \n",
    "        self.custom_method(project_id, label_id)\n"
   ]
  },
  {
   "cell_type": "markdown",
   "metadata": {},
   "source": [
    "### Testing the plugin locally\n",
    "\n",
    "In this we will show you how to test your plugin locally before uploading it."
   ]
  },
  {
   "cell_type": "code",
   "execution_count": null,
   "metadata": {},
   "outputs": [],
   "source": [
    "project_id = ''\n",
    "\n",
    "# instantiate the plugin\n",
    "my_plugin_instance = PluginHandler(kili, project_id)\n",
    "\n",
    "def get_label(label_id, project_id):\n",
    "    \"\"\"\n",
    "    Function to get the object Label with the same keys as it will be in the plugin\n",
    "    \"\"\"\n",
    "    label = list(kili.labels(\n",
    "            project_id=project_id,\n",
    "            label_id=label_id,\n",
    "            fields=['id', 'jsonResponse', 'author.id', 'labelType', 'createdAt', 'secondsToLabel']\n",
    "        ))[0]\n",
    "\n",
    "    label['authorId'] = label['author']['id']\n",
    "    del label['author']\n",
    "    return label"
   ]
  },
  {
   "cell_type": "markdown",
   "metadata": {},
   "source": [
    "### Test the plugin run\n",
    "\n",
    "If you already have a test project with labels added, you can directly use the IDs of these labels (see the following cell). Otherwise, you can follow the *plugins_example.ipynb* notebook to create a new project and then upload an asset with an associated label."
   ]
  },
  {
   "cell_type": "code",
   "execution_count": null,
   "metadata": {},
   "outputs": [],
   "source": [
    "asset_id = ''\n",
    "label_id = ''\n",
    "project_id = ''\n",
    "\n",
    "label = get_label(label_id=label_id, project_id=project_id)\n",
    "\n",
    "my_plugin_instance.on_submit(label=Label(**label), asset_id=asset_id)"
   ]
  },
  {
   "cell_type": "markdown",
   "metadata": {},
   "source": [
    "### Test the plugin run on Kili\n",
    "When you finish debugging the code, you may want to upload it directly into Kili."
   ]
  },
  {
   "cell_type": "code",
   "execution_count": null,
   "metadata": {},
   "outputs": [],
   "source": [
    "path_to_plugin = 'path/to/my/plugin.py'\n",
    "plugin_name = 'My first kili plugin'\n",
    "\n",
    "kili.upload_plugin(path_to_plugin, plugin_name)"
   ]
  },
  {
   "cell_type": "markdown",
   "metadata": {},
   "source": [
    "Plugins must be activated in the project that you want them to run in. Be careful with production projects: your custom workflows or rules will also be applied"
   ]
  },
  {
   "cell_type": "code",
   "execution_count": null,
   "metadata": {},
   "outputs": [],
   "source": [
    "kili.activate_plugin_on_project(plugin_name, project_id=project_id)"
   ]
  },
  {
   "cell_type": "markdown",
   "metadata": {},
   "source": [
    "## Monitoring the plugin\n",
    "Plugin creation takes some time (around 5 minutes). The plugin will begin to run only after it's been fully created (if labeling events are to be triggered on this project). Additionally, you can get the logs of the runs; to do that, use this code:"
   ]
  },
  {
   "cell_type": "code",
   "execution_count": null,
   "metadata": {},
   "outputs": [],
   "source": [
    "import json\n",
    "\n",
    "logs = kili.get_plugin_logs(project_id=project_id, plugin_name=plugin_name)\n",
    "\n",
    "logs_json = json.loads(logs)\n",
    "print(json.dumps(logs_json, indent=4))"
   ]
  },
  {
   "cell_type": "markdown",
   "metadata": {},
   "source": [
    "You can set custom date rules for filtering your logs:"
   ]
  },
  {
   "cell_type": "code",
   "execution_count": null,
   "metadata": {},
   "outputs": [],
   "source": [
    "from datetime import date\n",
    "from datetime import datetime\n",
    "dt = date.today()  # You can change this date if needed\n",
    "start_date = datetime.combine(dt, datetime.min.time())\n",
    "\n",
    "logs = kili.get_plugin_logs(project_id=project_id, plugin_name=plugin_name, start_date=start_date)"
   ]
  },
  {
   "cell_type": "markdown",
   "metadata": {},
   "source": [
    "## Managing your plugin\n",
    "Here's several other methods to manage your plugins and their lifecycle:"
   ]
  },
  {
   "cell_type": "code",
   "execution_count": null,
   "metadata": {},
   "outputs": [],
   "source": [
    "# Get the list of all uploaded plugins in your organization\n",
    "kili.list_plugins()"
   ]
  },
  {
   "cell_type": "code",
   "execution_count": null,
   "metadata": {},
   "outputs": [],
   "source": [
    "# Update a plugin with new source code\n",
    "updated_path = 'path/to/updated/file.py'\n",
    "kili.update_plugin(plugin_name=plugin_name, file_path=updated_path)"
   ]
  },
  {
   "cell_type": "code",
   "execution_count": null,
   "metadata": {},
   "outputs": [],
   "source": [
    "# Deactivate the plugin on a certain project (the plugin can still be active for other projects)\n",
    "kili.deactivate_plugin_on_project(plugin_name=plugin_name, project_id=project_id)"
   ]
  },
  {
   "cell_type": "code",
   "execution_count": null,
   "metadata": {},
   "outputs": [],
   "source": [
    "# Delete the plugin completely (deactivates automatically the plugin from all projects)\n",
    "kili.delete_plugin(plugin_name=plugin_name)"
   ]
  }
 ],
 "metadata": {
  "kernelspec": {
   "display_name": "Python 3.8.13 ('plugins')",
   "language": "python",
   "name": "python3"
  },
  "language_info": {
   "codemirror_mode": {
    "name": "ipython",
    "version": 3
   },
   "file_extension": ".py",
   "mimetype": "text/x-python",
   "name": "python",
   "nbconvert_exporter": "python",
   "pygments_lexer": "ipython3",
   "version": "3.8.15"
  },
  "vscode": {
   "interpreter": {
    "hash": "4b35b7b18c0ab6f6c98a05129e5c1ef751b6356b18056bdc8c680d7f4a0d63d2"
   }
  }
 },
 "nbformat": 4,
 "nbformat_minor": 2
}
