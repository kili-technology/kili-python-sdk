{
 "cells": [
  {
   "cell_type": "markdown",
   "metadata": {},
   "source": [
    "<a href=\"https://colab.research.google.com/github/kili-technology/kili-python-sdk/blob/master/recipes/plugins_development.ipynb\" target=\"_parent\"><img src=\"https://colab.research.google.com/assets/colab-badge.svg\" alt=\"Open In Colab\"/></a>"
   ]
  },
  {
   "attachments": {},
   "cell_type": "markdown",
   "metadata": {},
   "source": [
    "# How to develop and test a Kili plugin"
   ]
  },
  {
   "attachments": {},
   "cell_type": "markdown",
   "metadata": {},
   "source": [
    "## Preliminary\n",
    "\n",
    "This notebook will teach you how to build your first plugin.\n",
    "\n",
    "A plugin is an uploaded Python script triggered by an event that you define.\n",
    "\n",
    "For instance, you can trigger a plugin when a labeler clicks on **Submit** with the `on_submit` handler.\n",
    "\n",
    "The plugin should have different methods for the different types of events:\n",
    "\n",
    "- `on_submit`\n",
    "- `on_review`\n",
    "\n",
    "These methods have a predefined set of parameters:\n",
    "\n",
    "- the `label` submitted\n",
    "- the `asset_id` of the asset labeled\n",
    "\n",
    "Some attributes are available in the class:\n",
    "\n",
    "- `self.kili`\n",
    "- `self.project_id`\n",
    "\n",
    "Therefore, the skeleton of the plugin should look like this:\n",
    "\n",
    "```python\n",
    "from kili.plugins import PluginCore\n",
    "from typing import Dict\n",
    "import numpy as np\n",
    "\n",
    "class PluginHandler(PluginCore):\n",
    "    \"\"\"Custom plugin\"\"\"\n",
    "\n",
    "    def on_review(self, label: Dict, asset_id: str) -> None:\n",
    "        \"\"\"Dedicated handler for Review action\"\"\"\n",
    "        # Do something...\n",
    "\n",
    "    def on_submit(self, label: Dict, asset_id: str) -> None:\n",
    "        \"\"\"Dedicated handler for Submit action\"\"\"\n",
    "        # Do something...\n",
    "```\n",
    "\n",
    "Do not hesitate to reach out to us if you need more.\n",
    "\n",
    "**NB: The plugin capabilities of Kili are under active development, and compatible with version 2.125.2 and later of Kili. Don't hesitate to reach out via Github or Kili support to provide feedback.**"
   ]
  },
  {
   "cell_type": "markdown",
   "metadata": {},
   "source": [
    "## Instantiate Kili"
   ]
  },
  {
   "cell_type": "code",
   "execution_count": null,
   "metadata": {},
   "outputs": [],
   "source": [
    "!pip install  kili"
   ]
  },
  {
   "cell_type": "code",
   "execution_count": null,
   "metadata": {},
   "outputs": [],
   "source": [
    "%load_ext autoreload\n",
    "%autoreload 2\n",
    "\n",
    "from kili.client import Kili\n",
    "import os\n",
    "\n",
    "api_endpoint = os.getenv(\"KILI_API_ENDPOINT\")\n",
    "api_key = os.getenv(\"KILI_API_KEY\")\n",
    "\n",
    "\n",
    "kili = Kili(api_endpoint=api_endpoint, api_key=api_key)"
   ]
  },
  {
   "cell_type": "markdown",
   "metadata": {},
   "source": [
    "## Develop your plugin\n",
    "\n",
    "The first step is to define the functions that will be called when the event is triggered. You will be able to iterate on these functions locally (more on that in the next section).\n",
    "\n",
    "The plugin can be defined in two ways: a single `.py` file with everything inside or a module (folder containing multiple `.py` files). In the case of the module type, a file named `main.py` needs to be at the root of the folder and will serve as the entrypoint."
   ]
  },
  {
   "attachments": {},
   "cell_type": "markdown",
   "metadata": {},
   "source": [
    "### 1. First option - Plugin defined in a single file\n",
    "\n",
    "This cell should be the contents of the `.py` file that you will upload as a plugin at the end.\n",
    "\n",
    "**This file should define the `PluginHandler` class that will contain the proper methods.**\n",
    "\n",
    "We recommend using a modern IDE like VScode to get type hints and autocompletion on the methods."
   ]
  },
  {
   "cell_type": "code",
   "execution_count": null,
   "metadata": {},
   "outputs": [],
   "source": [
    "from kili.plugins import PluginCore\n",
    "import numpy as np\n",
    "from typing import Dict\n",
    "\n",
    "\n",
    "def custom_function(label: Dict):\n",
    "    label_id = label.get(\"id\")\n",
    "    print(f\"My custom function for review of label with id {label_id}\")\n",
    "\n",
    "\n",
    "class PluginHandler(PluginCore):\n",
    "    \"\"\"\n",
    "    Custom plugin instance\n",
    "    \"\"\"\n",
    "\n",
    "    def custom_method(self, project_id, label_id):\n",
    "        print(f\"custom_method called for label {label_id}\")\n",
    "        random_seed = np.random.random(1)[0]\n",
    "        if random_seed > 0.5:\n",
    "            self.logger.warning(\"Generating issue\")\n",
    "            # Use kili for actions with self.kili\n",
    "            self.kili.append_to_issues(\n",
    "                label_id=label_id,\n",
    "                project_id=project_id,\n",
    "                text=\"Random issue generated for this label\",\n",
    "            )\n",
    "\n",
    "    def on_review(self, label: Dict, asset_id: str) -> None:\n",
    "        \"\"\"\n",
    "        Dedicated handler for Review action\n",
    "        \"\"\"\n",
    "        custom_function(label)\n",
    "\n",
    "    def on_submit(self, label: Dict, asset_id: str) -> None:\n",
    "        \"\"\"\n",
    "        Dedicated handler for Submit action\n",
    "        \"\"\"\n",
    "        print(\"On submit called\")\n",
    "\n",
    "        project_id = self.project_id\n",
    "        label_id = label.get(\"id\")\n",
    "\n",
    "        self.custom_method(project_id, label_id)"
   ]
  },
  {
   "attachments": {},
   "cell_type": "markdown",
   "metadata": {},
   "source": [
    "### 2. Second option - Plugin defined in a folder\n",
    "\n",
    "As said previously, the structure of the folder can be the following (the only constraint being the presence of the `main.py` file):\n",
    "```\n",
    "plugin_folder\n",
    "|__ main.py\n",
    "|__ other_file.py\n",
    "|__ requirements.txt\n",
    "|\n",
    "|___helpers\n",
    "    |__ helper.py\n",
    "```\n",
    "\n",
    "You can notice that you can also include a `requirements.txt` file in the folder and the necessary packages will be installed with your plugin. Don't forget to add them, since the plugin could work on your machine if you have them installed, but it won't be possible to create the plugin if there are missing dependencies.\n",
    "\n",
    "**Important: The main.py file need to have the same skeleton as the plugin defined in a single file (presence of the class `PluginHandler`), the difference being that it can import and call functions defined in other files**\n",
    "\n",
    "Depending on where the folder is stored, there are two ways to import the plugin in order to test it:\n",
    "\n",
    "- The first way is to use a relative import (having the plugin folder and the notebook in the same folder). It is simpler and we recommend it as it will also allow the IDE to detect the correct methods and propose hints and autocompletion.\n",
    "- The second is to use an absolute path to the plugin folder"
   ]
  },
  {
   "cell_type": "markdown",
   "metadata": {},
   "source": [
    "#### 2.1 Relative import"
   ]
  },
  {
   "cell_type": "code",
   "execution_count": null,
   "metadata": {},
   "outputs": [],
   "source": [
    "# Here replace 'plugin_folder' with the actual name of the folder\n",
    "from plugin_folder.main import PluginHandler"
   ]
  },
  {
   "cell_type": "markdown",
   "metadata": {},
   "source": [
    "#### 2.2 Absolute path import"
   ]
  },
  {
   "cell_type": "code",
   "execution_count": null,
   "metadata": {},
   "outputs": [],
   "source": [
    "import os\n",
    "import sys\n",
    "from pathlib import Path\n",
    "\n",
    "# Input the path to the plugin folder (it should include the folder), for example '/path/to/plugin_folder'\n",
    "plugin_path = \"<INSERT PATH TO PLUGIN FOLDER>\"\n",
    "\n",
    "module_path = str(Path(plugin_path).parent.absolute())\n",
    "\n",
    "# We are inserting the path in the system PATH to be able to import the module in the next line\n",
    "sys.path.insert(0, module_path)\n",
    "\n",
    "# In the next line replace 'plugin_folder' with the actual name of the folder\n",
    "from plugin_folder.main import PluginHandler"
   ]
  },
  {
   "cell_type": "markdown",
   "metadata": {},
   "source": [
    "### Testing the plugin locally\n",
    "\n",
    "In this we will show you how to test your plugin locally before uploading it."
   ]
  },
  {
   "cell_type": "code",
   "execution_count": null,
   "metadata": {},
   "outputs": [],
   "source": [
    "project_id = \"<PROJECT ID>\""
   ]
  },
  {
   "cell_type": "markdown",
   "metadata": {},
   "source": [
    "Instantiate the plugin:"
   ]
  },
  {
   "cell_type": "code",
   "execution_count": null,
   "metadata": {},
   "outputs": [],
   "source": [
    "my_plugin_instance = PluginHandler(kili, project_id)\n",
    "\n",
    "\n",
    "def get_label(label_id, project_id):\n",
    "    \"\"\"\n",
    "    Function to get the object Label with the same keys as it will be in the plugin\n",
    "    \"\"\"\n",
    "    label = list(\n",
    "        kili.labels(\n",
    "            project_id=project_id,\n",
    "            label_id=label_id,\n",
    "            fields=[\"id\", \"jsonResponse\", \"author.id\", \"labelType\", \"createdAt\", \"secondsToLabel\"],\n",
    "        )\n",
    "    )[0]\n",
    "\n",
    "    label[\"authorId\"] = label[\"author\"][\"id\"]\n",
    "    del label[\"author\"]\n",
    "    return label"
   ]
  },
  {
   "cell_type": "markdown",
   "metadata": {
    "tags": []
   },
   "source": [
    "### Test the plugin run\n",
    "\n",
    "If you already have a test project with labels added, you can directly use the IDs of these labels (see the following cell). Otherwise, you can follow the *plugins_example.ipynb* notebook to create a new project and then upload an asset with an associated label."
   ]
  },
  {
   "cell_type": "code",
   "execution_count": null,
   "metadata": {},
   "outputs": [],
   "source": [
    "asset_id = \"<YOUR_ASSET_ID>\"\n",
    "label_id = \"<YOUR_LABEL_ID>\""
   ]
  },
  {
   "cell_type": "code",
   "execution_count": null,
   "metadata": {},
   "outputs": [],
   "source": [
    "label = get_label(label_id=label_id, project_id=project_id)\n",
    "\n",
    "my_plugin_instance.on_submit(label=label, asset_id=asset_id)"
   ]
  },
  {
   "cell_type": "markdown",
   "metadata": {},
   "source": [
    "### Test the plugin run on Kili\n",
    "\n",
    "When you finish debugging the code, you may want to upload it directly into Kili.\n",
    "\n",
    "Note that you might get an error if the plugin name already exists in your Kili organization."
   ]
  },
  {
   "cell_type": "code",
   "execution_count": null,
   "metadata": {},
   "outputs": [],
   "source": [
    "path_to_plugin = \"path/to/my/plugin.py\"\n",
    "plugin_name = \"My first kili plugin\""
   ]
  },
  {
   "cell_type": "code",
   "execution_count": null,
   "metadata": {},
   "outputs": [],
   "source": [
    "from kili.exceptions import GraphQLError\n",
    "\n",
    "try:\n",
    "    kili.upload_plugin(path_to_plugin, plugin_name)\n",
    "except GraphQLError as error:\n",
    "    print(str(error))"
   ]
  },
  {
   "cell_type": "markdown",
   "metadata": {},
   "source": [
    "Plugins must be activated in the project that you want them to run in. Be careful with production projects: your custom workflows or rules will also be applied"
   ]
  },
  {
   "cell_type": "code",
   "execution_count": null,
   "metadata": {},
   "outputs": [],
   "source": [
    "kili.activate_plugin_on_project(plugin_name, project_id=project_id)"
   ]
  },
  {
   "cell_type": "markdown",
   "metadata": {},
   "source": [
    "## Monitoring the plugin\n",
    "\n",
    "Plugin creation takes some time (around 5 minutes). The plugin will begin to run only after it's been fully created (if labeling events are to be triggered on this project).\n",
    "\n",
    "Additionally, you can get the logs of the runs:"
   ]
  },
  {
   "cell_type": "code",
   "execution_count": null,
   "metadata": {},
   "outputs": [],
   "source": [
    "kili.get_plugin_logs(project_id=project_id, plugin_name=plugin_name)"
   ]
  },
  {
   "cell_type": "markdown",
   "metadata": {},
   "source": [
    "You can set custom date rules for filtering your logs:"
   ]
  },
  {
   "cell_type": "code",
   "execution_count": null,
   "metadata": {},
   "outputs": [],
   "source": [
    "from datetime import date\n",
    "from datetime import datetime\n",
    "\n",
    "dt = date.today()  # You can change this date if needed\n",
    "start_date = datetime.combine(dt, datetime.min.time())\n",
    "\n",
    "kili.get_plugin_logs(project_id=project_id, plugin_name=plugin_name, start_date=start_date)"
   ]
  },
  {
   "attachments": {},
   "cell_type": "markdown",
   "metadata": {},
   "source": [
    "## Managing your plugin\n",
    "\n",
    "There are several other methods to manage your plugins and their lifecycle. To find out more, check the plugins [tutorials](https://python-sdk-docs.kili-technology.com/latest/tutorials)."
   ]
  }
 ],
 "metadata": {
  "language_info": {
   "name": "python"
  }
 },
 "nbformat": 4,
 "nbformat_minor": 4
}
