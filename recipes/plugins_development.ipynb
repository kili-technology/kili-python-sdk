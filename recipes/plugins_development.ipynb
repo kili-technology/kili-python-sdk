{
 "cells": [
  {
   "cell_type": "markdown",
   "metadata": {},
   "source": [
    "## Preliminary\n",
    "\n",
    "This notebook will teach you how to build your 1st plugin. A plugin is a Python script uploaded which will be triggered based on an event you will define. For instance, you can trigger a plugin each time a labeler clicks on submit with the `on_submit` handler\n",
    "The plugin should have separate methods for the different types of events: at the moment these are *on_submit* and *on_review*. These methods will have a predefined set of parameters : the label submitted & the asset_id of the asset labeled\n",
    "\n",
    "\n",
    "Therefore, the skeleton of the plugin should be :\n",
    "\n",
    "```python\n",
    "from kili.plugins import PluginCore\n",
    "from kili.types import Label\n",
    "\n",
    "def custom_function():\n",
    "    print(\"My custom function\")\n",
    "\n",
    "class PluginHandler(PluginCore):\n",
    "    \"\"\"\n",
    "    Custom plugin instance\n",
    "    \"\"\"\n",
    "\n",
    "    def custom_method(self):\n",
    "        #custom methods \n",
    "        print('Custom method handle label')\n",
    "\n",
    "    def on_review(self, label: Label, asset_id: str) -> None:\n",
    "        \"\"\"\n",
    "        Dedicated handler for Review action \n",
    "        \"\"\"\n",
    "        custom_function()\n",
    "        return super().on_review(label, asset_id)\n",
    "\n",
    "    def on_submit(self, label: Label, asset_id: str) -> None:\n",
    "        \"\"\"\n",
    "        Dedicated handler for Submit action \n",
    "        \"\"\"\n",
    "        # Use kili for actions with self.kili\n",
    "        print(self.kili.count_projects(project_id=self.project_id))\n",
    "        print('On submit called')\n",
    "        self.custom_method()\n",
    "\n",
    "```\n",
    "\n",
    "**IMPORTANT** : Imports of packages inside the plugin are not permitted at the moment (except for `numpy`, & the various kili types).\n",
    "Don't hesitate to reach out to add more !\n",
    "\n",
    "**NB: The plugin capabilities of Kili are under active development, and compatible with version 2.125.2 & superior of kili. don't hesitate to reach out via github or the support to provide feedbacks.**"
   ]
  },
  {
   "cell_type": "markdown",
   "metadata": {},
   "source": [
    "## Instantiate Kili with your personal API_KEY"
   ]
  },
  {
   "cell_type": "code",
   "execution_count": null,
   "metadata": {},
   "outputs": [],
   "source": [
    "#%pip install kili\n",
    "\n",
    "from kili.client import Kili\n",
    "import os\n",
    "\n",
    "api_endpoint = os.getenv('KILI_API_ENDPOINT')\n",
    "# If you use Kili SaaS, use the url 'https://cloud.kili-technology.com/api/label/v2/graphql'\n",
    "api_endpoint = 'https://staging.cloud.kili-technology.com/api/label/v2/graphql'\n",
    "\n",
    "api_key = os.getenv('KILI_ADMIN_API_KEY_STAGING')\n",
    "\n",
    "\n",
    "kili = Kili(api_endpoint=api_endpoint, api_key=api_key)"
   ]
  },
  {
   "cell_type": "markdown",
   "metadata": {},
   "source": [
    "## Develop your future plugin\n",
    "\n",
    "The first step is to define the functions that will be called when the event is triggered. You will be able to iterate on these functions locally with the help of the next section. \n",
    "\n",
    "This cell should be the content of the `.py` file that you will upload as a plugin at the end.\n",
    "**This file should define the class `PluginHandler` that will have the proper methods.**\n",
    "We recommend using a modern IDE like vscode for typehint & autocompletion on the methods"
   ]
  },
  {
   "cell_type": "code",
   "execution_count": null,
   "metadata": {},
   "outputs": [],
   "source": [
    "from kili.plugins import PluginCore\n",
    "from kili.types import Label\n",
    "\n",
    "def custom_function():\n",
    "    print(\"My custom function\")\n",
    "\n",
    "class PluginHandler(PluginCore):\n",
    "    \"\"\"\n",
    "    Custom plugin instance\n",
    "    \"\"\"\n",
    "\n",
    "    def custom_method(self):\n",
    "        #custom methods \n",
    "        print('Custom method handle label')\n",
    "\n",
    "    def on_review(self, label: Label, asset_id: str) -> None:\n",
    "        \"\"\"\n",
    "        Dedicated handler for Review action \n",
    "        \"\"\"\n",
    "        custom_function()\n",
    "        return super().on_review(label, asset_id)\n",
    "\n",
    "    def on_submit(self, label: Label, asset_id: str) -> None:\n",
    "        \"\"\"\n",
    "        Dedicated handler for Submit action \n",
    "        \"\"\"\n",
    "        # Use kili for actions with self.kili\n",
    "        print(self.kili.count_projects(project_id=self.project_id))\n",
    "        print('On submit called')\n",
    "        self.custom_method()"
   ]
  },
  {
   "cell_type": "markdown",
   "metadata": {},
   "source": [
    "### Testing locally the plugin\n",
    "\n",
    "This section will allow you to test your plugin locally before uploading it."
   ]
  },
  {
   "cell_type": "code",
   "execution_count": null,
   "metadata": {},
   "outputs": [],
   "source": [
    "import traceback\n",
    "project_id = ''\n",
    "\n",
    "# instantiate the plugin\n",
    "my_plugin_instance = PluginHandler(kili, project_id)\n",
    "\n",
    "def get_label(label_id, project_id):\n",
    "    \"\"\"\n",
    "    Function to get the object Label with the same keys as it will be in the plugin\n",
    "    \"\"\"\n",
    "    label = kili.labels(\n",
    "            project_id=project_id,\n",
    "            label_id=label_id,\n",
    "            fields=['id', 'jsonResponse', 'author.id', 'labelType', 'createdAt', 'secondsToLabel']\n",
    "        )[0]  # type: ignore\n",
    "\n",
    "    label['authorId'] = label['author']['id']\n",
    "    del label['author']\n",
    "    return label"
   ]
  },
  {
   "cell_type": "markdown",
   "metadata": {},
   "source": [
    "### Test the plugin run\n",
    "\n",
    "If you already have created a project for testing and there are some labels created, you can use directly their ids and use the following cell. Otherwise, you can follow the notebook *plugins_example.ipynb* to create a new project, upload an asset and an associated label."
   ]
  },
  {
   "cell_type": "code",
   "execution_count": null,
   "metadata": {},
   "outputs": [],
   "source": [
    "asset_id = ''\n",
    "label_id = ''\n",
    "project_id = ''\n",
    "\n",
    "label = get_label(label_id=label_id, project_id=project_id)\n",
    "\n",
    "my_plugin_instance.on_submit(label=label, asset_id=asset_id) # type: ignore"
   ]
  },
  {
   "cell_type": "markdown",
   "metadata": {},
   "source": [
    "### Test the plugin run on Kili\n",
    "Once you have debugged your code, you may want to upload it directly onto Kili !!"
   ]
  },
  {
   "cell_type": "code",
   "execution_count": null,
   "metadata": {},
   "outputs": [],
   "source": [
    "path_to_plugin = 'path/to/my/plugin.py'\n",
    "plugin_name = 'My first kili plugin'\n",
    "\n",
    "kili.upload_plugin_beta(path_to_plugin, plugin_name)"
   ]
  },
  {
   "cell_type": "markdown",
   "metadata": {},
   "source": [
    "Plugins needs to be activated on the project you want them to run. Be careful with production project, as your custom workflows or rules will be applied !"
   ]
  },
  {
   "cell_type": "code",
   "execution_count": null,
   "metadata": {},
   "outputs": [],
   "source": [
    "kili.activate_plugin_on_project(plugin_name, project_id=project_id)"
   ]
  },
  {
   "cell_type": "markdown",
   "metadata": {},
   "source": [
    "## Monitoring the plugin\n",
    "Important to know is that the creation of the plugin takes some time (around 5 minutes), so after that time the plugin will begin to be run (if labeling events will be triggered on this project) and you will be able to get the logs of the runs. To do that, you can use:"
   ]
  },
  {
   "cell_type": "code",
   "execution_count": null,
   "metadata": {},
   "outputs": [],
   "source": [
    "import json\n",
    "\n",
    "logs = kili.get_plugin_logs(project_id=project_id, plugin_name=plugin_name)\n",
    "\n",
    "logs_json = json.loads(logs)\n",
    "print(json.dumps(logs_json, indent=4))"
   ]
  },
  {
   "cell_type": "markdown",
   "metadata": {},
   "source": [
    "You are also able to set custom date rules for filtering your logs:"
   ]
  },
  {
   "cell_type": "code",
   "execution_count": null,
   "metadata": {},
   "outputs": [],
   "source": [
    "from datetime import date\n",
    "from datetime import datetime\n",
    "dt = date.today()  # You can change this date if needed\n",
    "start_date = datetime.combine(dt, datetime.min.time())\n",
    "start_date = datetime(2022,11,21)\n",
    "\n",
    "logs = kili.get_plugin_logs(project_id=project_id, plugin_name=plugin_name, start_date=start_date)"
   ]
  },
  {
   "cell_type": "markdown",
   "metadata": {},
   "source": [
    "## Managing your plugin\n",
    "You also have several other methods to manage your plugins and their lifecycle."
   ]
  },
  {
   "cell_type": "code",
   "execution_count": null,
   "metadata": {},
   "outputs": [],
   "source": [
    "# Get the list of all uploaded plugins in your organization\n",
    "kili.list_plugins()"
   ]
  },
  {
   "cell_type": "code",
   "execution_count": null,
   "metadata": {},
   "outputs": [],
   "source": [
    "# Update a plugin with new source code\n",
    "updated_path = 'path/to/updated/file.py'\n",
    "kili.update_plugin(plugin_name=plugin_name, file_path=updated_path)"
   ]
  },
  {
   "cell_type": "code",
   "execution_count": null,
   "metadata": {},
   "outputs": [],
   "source": [
    "# Deactivate the plugin on a certain project (the plugin can still be active for other projects)\n",
    "kili.deactivate_plugin_on_project(plugin_name=plugin_name, project_id=project_id)"
   ]
  },
  {
   "cell_type": "code",
   "execution_count": null,
   "metadata": {},
   "outputs": [],
   "source": [
    "# Delete the plugin completely (deactivates automatically the plugin from all projects)\n",
    "kili.delete_plugin(plugin_name=plugin_name)"
   ]
  }
 ],
 "metadata": {
  "kernelspec": {
   "display_name": "Python 3.8.13 ('plugins')",
   "language": "python",
   "name": "python3"
  },
  "language_info": {
   "codemirror_mode": {
    "name": "ipython",
    "version": 3
   },
   "file_extension": ".py",
   "mimetype": "text/x-python",
   "name": "python",
   "nbconvert_exporter": "python",
   "pygments_lexer": "ipython3",
   "version": "3.8.15"
  },
  "vscode": {
   "interpreter": {
    "hash": "4b35b7b18c0ab6f6c98a05129e5c1ef751b6356b18056bdc8c680d7f4a0d63d2"
   }
  }
 },
 "nbformat": 4,
 "nbformat_minor": 2
}
