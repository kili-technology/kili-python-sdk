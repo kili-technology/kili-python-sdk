{
 "cells": [
  {
   "cell_type": "markdown",
   "metadata": {},
   "source": [
    "# Kili Tutorial: How to query using the API\n",
    "\n",
    "In this tutorial, we will show **query useful information through Kili's API**, interacting directly with the database.\n",
    "\n",
    "There are 6 different types of data you could be interested in querying, and it is higly customizable : \n",
    "1. Your organization's info\n",
    "2. The organization's users\n",
    "3. KPI's and labeling data for different projectUsers\n",
    "4. The whole project or selected parts\n",
    "5. The assets themselves\n",
    "6. Obviously, the labels\n",
    "\n",
    "All those queries request, among other arguments, a `skip` and `first` argument, that control the number of results retrieved. `skip`is the rank at which the result start, and `first` is the extent of the query.\n",
    "\n",
    "Additionally, for an overview of Kili, visit the [website](https://kili-technology.com), you can also check out the Kili [documentation](https://docs.kili-technology.com/docs), or some other recipes."
   ]
  },
  {
   "cell_type": "markdown",
   "metadata": {},
   "source": [
    "For more information, the architecture of our API is available [here](https://docs.kili-technology.com/reference/graphql-api), all fields are precisely detailled and can be queried, except those related to authentication.\n",
    "Let's sign in, [create a project](), [upload some assets](https://github.com/kili-technology/kili-python-sdk/blob/master/recipes/import_assets.ipynb) and [import predictions](https://github.com/kili-technology/kili-python-sdk/blob/master/recipes/import_predictions.ipynb), if you need precisions on the steps carried-out below, you can refer to the mentionned recipes.\n",
    "\n",
    "We now have a project ready, which information is in a `project_example` dictionnary, and which data we are going to query."
   ]
  },
  {
   "cell_type": "code",
   "execution_count": null,
   "metadata": {},
   "outputs": [],
   "source": [
    "#!pip install kili \n",
    "from kili.client import Kili\n",
    "import os\n",
    "\n",
    "api_endpoint = os.getenv('KILI_API_ENDPOINT')\n",
    "kili = Kili(api_endpoint=api_endpoint)\n",
    "\n",
    "project_example = {\n",
    "    'title': 'Porsche or Tesla recognition',\n",
    "    'description': 'Identify and locate cars',\n",
    "    'input_type': 'IMAGE',\n",
    "    'json_interface': {\n",
    "        \"jobs\": {\n",
    "            \"JOB_0\": {\n",
    "                \"mlTask\": \"OBJECT_DETECTION\",\n",
    "                \"tools\": [\n",
    "                    \"rectangle\"\n",
    "                ],\n",
    "                \"instruction\": \"What car brand ?\",\n",
    "                \"required\": 1,\n",
    "                \"isChild\": False,\n",
    "                \"content\": {\n",
    "                    \"categories\": {\n",
    "                        \"TESLA\": {\"name\": \"Tesla\"},\n",
    "                        \"FERRARI\": {\"name\": \"Ferrari\"}\n",
    "                    },\n",
    "                    \"input\": \"radio\"\n",
    "                }\n",
    "            }\n",
    "        }\n",
    "    },\n",
    "\n",
    "    'assets_to_import': [\n",
    "        \"https://images.caradisiac.com/logos/3/8/6/7/253867/S0-tesla-enregistre-d-importantes-pertes-au-premier-trimestre-175948.jpg\",\n",
    "        \"https://img.sportauto.fr/news/2018/11/28/1533574/1920%7C1280%7Cc096243e5460db3e5e70c773.jpg\"],\n",
    "\n",
    "    'json_response': {\n",
    "        \"JOB_0\": {\n",
    "            \"annotations\": [{\n",
    "                \"boundingPoly\": [{\n",
    "                    \"normalizedVertices\": [\n",
    "                        {\"x\": 0.16, \"y\": 0.82},\n",
    "                        {\"x\": 0.16, \"y\": 0.32},\n",
    "                        {\"x\": 0.82, \"y\": 0.32},\n",
    "                        {\"x\": 0.82, \"y\": 0.82}\n",
    "                    ]}\n",
    "                ],\n",
    "                \"categories\": [{\"name\": \"TESLA\", \"confidence\": 100}],\n",
    "            }]\n",
    "        }\n",
    "    },\n",
    "    'model_name': 'car-brand-localisation-v0.0.1'\n",
    "}\n",
    "project = kili.create_project(\n",
    "    title=project_example['title'],\n",
    "    description=project_example['description'],\n",
    "    input_type=project_example['input_type'],\n",
    "    json_interface=project_example['json_interface']\n",
    ")\n",
    "kili.append_many_to_dataset(\n",
    "    project_id=project['id'],\n",
    "    content_array=project_example['assets_to_import'],\n",
    "    external_id_array=['ex1', 'ex2'])\n",
    "kili.create_predictions(\n",
    "    project_id=project['id'],\n",
    "    external_id_array=['ex1'],\n",
    "    model_name_array=[project_example['model_name']],\n",
    "    json_response_array=[project_example['json_response']])"
   ]
  },
  {
   "cell_type": "markdown",
   "metadata": {},
   "source": [
    "## 1. Organization info\n",
    "We can query the information for the organization for specific users, and check that those parameters are correctly configured, either by providing \n",
    "- the `id` of the organization\n",
    "- a specific `email`\n",
    "\n",
    "Another argument is the `fields` that need to be returned, that can be customized using our graphQL doc [here](https://docs.kili-technology.com/reference/graphql-api#organization)"
   ]
  },
  {
   "cell_type": "code",
   "execution_count": null,
   "metadata": {},
   "outputs": [],
   "source": [
    "email = os.getenv('KILI_USER_EMAIL')\n",
    "fields = ['id', 'name','address','country','zipCode','city']\n",
    "kili.organizations(email=email, fields=fields, first=3, skip= 0)"
   ]
  },
  {
   "cell_type": "markdown",
   "metadata": {},
   "source": [
    "## 2. User info\n",
    "We can query the information for an user, and check that those parameters are correctly configured, either by providing \n",
    "- the `email` of the user\n",
    "- the `organization_id` of the users\n",
    "\n",
    "Another argument is the `fields` that need to be returned, that can be customized using our graphQL doc [here](https://docs.kili-technology.com/reference/graphql-api#user). \n",
    "Notice that the **nested requests** are possible, to retrieve the information at the organization's level."
   ]
  },
  {
   "cell_type": "code",
   "execution_count": null,
   "metadata": {},
   "outputs": [],
   "source": [
    "fields =['id','activated','createdAt','email', 'organization.name', 'organization.city','organizationRole','updatedAt']\n",
    "kili.users(email=email, fields=fields, skip=0, first=10)"
   ]
  },
  {
   "cell_type": "markdown",
   "metadata": {},
   "source": [
    "## 3. ProjectUser info\n",
    "We can query the information for a projectUser, and check that those parameters are correctly configured, either by providing \n",
    "- the `email` of the projectUser\n",
    "- the `id` of the organization\n",
    "- the `id` of the project\n",
    "- the `id` of the projectUser\n",
    "\n",
    "Another argument is the `fields` that need to be returned, that can be customized using our graphQL doc [here](https://docs.kili-technology.com/reference/graphql-api#projectuser). \n",
    "Notice that the **nested requests** are possible, to retrieve the information at the user's level, and hence at the organization's level, always with the same syntax :"
   ]
  },
  {
   "cell_type": "code",
   "execution_count": null,
   "metadata": {},
   "outputs": [],
   "source": [
    "fields=['id','activated','consensusMark',\"honeypotMark\",\"numberOfAnnotations\",\"numberOfLabels\",'role',\n",
    "        'user.email', 'user.organization.name', 'user.organization.zipCode']\n",
    "kili.project_users(project_id=project['id'], fields=fields, first=10, skip=0)"
   ]
  },
  {
   "cell_type": "markdown",
   "metadata": {},
   "source": [
    "## 4. Project info\n",
    "We can query the information for a project, and check that those parameters are correctly configured, either by providing \n",
    "- the `email` of the projectUser\n",
    "- a part of the title of the description `search_query`\n",
    "\n",
    "Another argument is the `fields` that need to be returned, that can be customized using our graphQL doc [here](https://docs.kili-technology.com/reference/graphql-api#project). \n",
    "Notice that the **nested requests** are possible, to retrieve the information at the projectUser's level, via the `role subfield`, and hence, once again, at the user or the organization's level. It is also possible to query the information on the `author` of the project, always with the same syntax :"
   ]
  },
  {
   "cell_type": "code",
   "execution_count": null,
   "metadata": {},
   "outputs": [],
   "source": [
    "fields = ['id', 'author.email', 'author.organization.name','consensusMark', 'createdAt',\n",
    "          'description','honeypotMark', 'id', 'inputType', 'jsonInterface', \n",
    "          'minConsensusSize', 'numberOfAssets', 'numberOfRemainingAssets', \n",
    "          'roles.id','roles.consensusMark', 'roles.numberOfAnnotations', 'roles.numberOfLabeledAssets', \n",
    "          'roles.numberOfLabels', 'roles.totalDuration', 'roles.user.email', 'roles.user.id', \n",
    "          'title','useHoneyPot']\n",
    "title = kili.projects(project_id=project['id'], fields=fields, first=10, skip=0)[0]['title']\n",
    "kili.projects(project_id=project['id'], fields=fields, first=10, skip=0)"
   ]
  },
  {
   "cell_type": "markdown",
   "metadata": {},
   "source": [
    "## 5. Labels info\n",
    "We can query the information of labels, in order to use it later in our pipeline, either by providing \n",
    "- the `id`of the label or the asset to query\n",
    "- the `id` of the project\n",
    "- a part of the title or the description `search_query`\n",
    "- many other parameters to filter the list, the details can be found [here](https://docs.kili-technology.com/reference/graphql-api#label), among which a part of the `externalId` of the asset, the status of the asset, the honeypot mark,etc... \n",
    "\n",
    "Another argument is the `fields` that need to be returned, that can be customized using our graphQL doc [here](https://docs.kili-technology.com/reference/graphql-api#label). \n",
    "Notice that the **nested requests** are possible, to retrieve the information at the projectUser's level, via the `role subfield`, and hence, once again, at the user or the organization's level. It is also possible to query the information on the `author` of the project, always with the same syntax :"
   ]
  },
  {
   "cell_type": "code",
   "execution_count": null,
   "metadata": {},
   "outputs": [],
   "source": [
    "fields = ['id','honeypotMark','numberOfAnnotations','jsonResponse','labelType','createdAt',\n",
    "        'author.email', 'author.organization.name', 'author.organization.zipCode']\n",
    "kili.labels(project_id=project['id'], fields=fields, first=10, skip=0)"
   ]
  },
  {
   "cell_type": "markdown",
   "metadata": {},
   "source": [
    "## 6. Assets info\n",
    "We can query the information of assets, along with the labels or more info, either by providing \n",
    "- the `id`of the asset to query\n",
    "- the `id` of the project\n",
    "- a part of the title or the description `search_query`\n",
    "- many other parameters to filter the list, the details can be found [here](https://docs.kili-technology.com/reference/graphql-api#asset), among which a part of the `externalId`, the status, the consensus level,etc... \n",
    "\n",
    "Another argument is the `fields` that need to be returned, that can be customized using our graphQL doc [here](https://docs.kili-technology.com/reference/graphql-api#asset). \n",
    "Notice that the **nested requests** are possible, to retrieve the information at the projectUser's level, via the `role subfield`, and hence, once again, at the user or the organization's level. It is also possible to query the information on the `author` of the project, always with the same syntax :"
   ]
  },
  {
   "cell_type": "code",
   "execution_count": null,
   "metadata": {},
   "outputs": [],
   "source": [
    "fields=['id', 'honeypotMark', 'project.jsonInterface','content', 'createdAt', 'priority',\n",
    "        'project.author.email', 'labels.jsonResponse', 'status',\n",
    "        'labels.author.email', 'labels.author.organization.name', 'project.inputType']\n",
    "kili.assets(project_id=project['id'], fields=fields, first=10, skip=0)"
   ]
  },
  {
   "cell_type": "code",
   "execution_count": null,
   "metadata": {},
   "outputs": [],
   "source": [
    "assert project_example['title'] == title"
   ]
  }
 ],
 "metadata": {
  "kernelspec": {
   "display_name": "Python 3",
   "language": "python",
   "name": "python3"
  },
  "language_info": {
   "codemirror_mode": {
    "name": "ipython",
    "version": 3
   },
   "file_extension": ".py",
   "mimetype": "text/x-python",
   "name": "python",
   "nbconvert_exporter": "python",
   "pygments_lexer": "ipython3",
   "version": "3.7.6"
  }
 },
 "nbformat": 4,
 "nbformat_minor": 4
}
