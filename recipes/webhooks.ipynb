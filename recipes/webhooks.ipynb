{
 "cells": [
  {
   "cell_type": "markdown",
   "metadata": {},
   "source": [
    "# Kili Tutorial: Webhooks\n",
    "\n",
    "In this tutorial, we will show how to use webhooks to monitor actions in Kili, such as a label creation. The goal of this tutorial is to illustrate some basic components and concepts of Kili in a simple way, but also to dive into the actual process of iteratively developing real applications in Kili.\n",
    "\n",
    "Additionally:\n",
    "\n",
    "For an overview of Kili, visit kili-technology.com You can also check out the Kili [documentation](https://docs.kili-technology.com/docs). Our goal is to export labels that can predict whether an image contains a Porsche or a Tesla.\n",
    "\n",
    "The tutorial is divided into two parts:\n",
    "\n",
    "1. Why use webhooks?\n",
    "2. Using Kili's webhook in Python\n",
    "\n",
    "## 1. Why use webhooks?\n",
    "\n",
    "Webhooks allow to react to particular action in Kili's database by triggering a callback whenever an action is completed. For instance, here, every time a label is created in frontend (upper panel), the label can be logged in Python (lower right panel):\n",
    "\n",
    "![gif](./img/websockets.gif)"
   ]
  },
  {
   "cell_type": "markdown",
   "metadata": {},
   "source": [
    "## 2. Using Kili's webhook in Python\n",
    "\n",
    "Kili Python SDK exposes a method `label_created_or_updated` that allows to listen for all actions on labels:\n",
    "\n",
    "- creation of a new label\n",
    "- update of an existing label\n",
    "\n",
    "First of all, you need to authenticate:"
   ]
  },
  {
   "cell_type": "code",
   "execution_count": 4,
   "metadata": {},
   "outputs": [],
   "source": [
    "import os\n",
    "import time\n",
    "\n",
    "from kili.client import Kili\n",
    "\n",
    "\n",
    "api_endpoint = os.getenv(\"KILI_API_ENDPOINT\")\n",
    "\n",
    "kili = Kili(api_endpoint=api_endpoint)"
   ]
  },
  {
   "cell_type": "markdown",
   "metadata": {},
   "source": [
    "Then you can define a callback that will be triggered each time a label gets created/updated:"
   ]
  },
  {
   "cell_type": "code",
   "execution_count": 5,
   "metadata": {},
   "outputs": [
    {
     "name": "stderr",
     "output_type": "stream",
     "text": [
      "100%|████████████████████████████████████████████████████████████████████████████████████████████████████████████████████████████████████████████████████████████████████████████████████████████████████████████████████████████| 1/1 [00:00<00:00, 13.86it/s]\n"
     ]
    }
   ],
   "source": [
    "# Use create_project = False if you want to test it for your own project. create_project = True\n",
    "# is when you want an end to end demo.\n",
    "create_project = True\n",
    "if create_project:\n",
    "    json_interface = {\n",
    "        \"jobs\": {\n",
    "            \"JOB_0\": {\n",
    "                \"mlTask\": \"CLASSIFICATION\",\n",
    "                \"required\": 1,\n",
    "                \"content\": {\n",
    "                    \"categories\": {\n",
    "                        \"OBJECT_A\": {\"name\": \"Object A\", \"children\": []},\n",
    "                        \"OBJECT_B\": {\"name\": \"Object B\", \"children\": []},\n",
    "                    },\n",
    "                    \"input\": \"radio\",\n",
    "                },\n",
    "            }\n",
    "        }\n",
    "    }\n",
    "    project_id = kili.create_project(\n",
    "        input_type=\"IMAGE\", json_interface=json_interface, title=\"Webhook project\"\n",
    "    )[\"id\"]\n",
    "    kili.append_many_to_dataset(\n",
    "        project_id=project_id,\n",
    "        content_array=[\"https://storage.googleapis.com/label-public-staging/car/car_1.jpg\"],\n",
    "        external_id_array=[\"car_1\"],\n",
    "    )\n",
    "    asset_id = kili.assets(project_id=project_id, fields=[\"id\"])[0][\"id\"]\n",
    "else:\n",
    "    project_id = \"CHANGE_ME_FOR_YOUR_PROJECT_ID\"\n",
    "\n",
    "\n",
    "def callback(id, data):\n",
    "    print(f\"New data: {data}\\n\")\n",
    "\n",
    "\n",
    "client = kili.label_created_or_updated(project_id=project_id, callback=callback)"
   ]
  },
  {
   "cell_type": "markdown",
   "metadata": {},
   "source": [
    "The method `label_created_or_updated` returns a client allowing you to manage the webhook. "
   ]
  },
  {
   "cell_type": "code",
   "execution_count": 6,
   "metadata": {},
   "outputs": [
    {
     "name": "stdout",
     "output_type": "stream",
     "text": [
      "New data: {'type': 'data', 'id': 'lLSMLJ', 'payload': {'data': {'data': {'id': 'ckwxo4poz00b8al9k5qii7qih', 'author': {'email': 'your-email'}, 'labelOf': {'id': 'asset_id'}, 'labelType': 'INFERENCE', jsonResponse': '{\"JOB_0\":{\"categories\":[{\"name\":\"OBJECT_A\"}]}}'}}}}\n",
      "\n"
     ]
    }
   ],
   "source": [
    "response = {\"JOB_0\": {\"categories\": [{\"name\": \"OBJECT_A\"}]}}\n",
    "\n",
    "\n",
    "def add_label():\n",
    "    kili.append_labels(\n",
    "        json_response_array=[response], asset_id_array=[asset_id], label_type=\"INFERENCE\"\n",
    "    )\n",
    "\n",
    "\n",
    "if create_project:\n",
    "    add_label()"
   ]
  },
  {
   "cell_type": "markdown",
   "metadata": {},
   "source": [
    "For example, you can pause or unpause the webhook : "
   ]
  },
  {
   "cell_type": "code",
   "execution_count": 7,
   "metadata": {},
   "outputs": [],
   "source": [
    "client.pause()\n",
    "add_label()"
   ]
  },
  {
   "cell_type": "code",
   "execution_count": 8,
   "metadata": {},
   "outputs": [
    {
     "name": "stdout",
     "output_type": "stream",
     "text": [
      "New data: {'type': 'data', 'id': 'lLSMLJ', 'payload': {'data': {'data': {'id': 'ckwxo4r0b00bkal9kce8n7z2w', 'author': {'email': 'your-email'}, 'labelOf': {'id': 'asset_id'}, 'labelType': 'INFERENCE', jsonResponse': '{\"JOB_0\":{\"categories\":[{\"name\":\"OBJECT_A\"}]}}'}}}}\n",
      "\n"
     ]
    }
   ],
   "source": [
    "client.unpause()\n",
    "add_label()"
   ]
  },
  {
   "cell_type": "markdown",
   "metadata": {},
   "source": [
    "Webhooks have a timeout of around 30 days. After this period, the hook is automatically killed. If you need to stop it before, you can call `close`:"
   ]
  },
  {
   "cell_type": "code",
   "execution_count": 9,
   "metadata": {},
   "outputs": [
    {
     "name": "stderr",
     "output_type": "stream",
     "text": [
      "Exception in thread Thread-9:\n",
      "Traceback (most recent call last):\n",
      "  File \"/opt/anaconda3/envs/kili/lib/python3.8/threading.py\", line 932, in _bootstrap_inner\n",
      "    self.run()\n",
      "  File \"/opt/anaconda3/envs/kili/lib/python3.8/threading.py\", line 870, in run\n",
      "    self._target(*self._args, **self._kwargs)\n",
      "  File \"/Users/maximeduval/Documents/kili-playground/kili/graphql_client.py\", line 253, in subs\n",
      "    response = json.loads(self._conn.recv())\n",
      "  File \"/opt/anaconda3/envs/kili/lib/python3.8/json/__init__.py\", line 357, in loads\n",
      "    return _default_decoder.decode(s)\n",
      "  File \"/opt/anaconda3/envs/kili/lib/python3.8/json/decoder.py\", line 337, in decode\n",
      "    obj, end = self.raw_decode(s, idx=_w(s, 0).end())\n",
      "  File \"/opt/anaconda3/envs/kili/lib/python3.8/json/decoder.py\", line 355, in raw_decode\n",
      "    raise JSONDecodeError(\"Expecting value\", s, err.value) from None\n",
      "json.decoder.JSONDecodeError: Expecting value: line 1 column 1 (char 0)\n"
     ]
    }
   ],
   "source": [
    "client.close()\n",
    "add_label()"
   ]
  },
  {
   "cell_type": "markdown",
   "metadata": {},
   "source": [
    "If you need to reset the hook, you can call `reset_timeout`:"
   ]
  },
  {
   "cell_type": "code",
   "execution_count": 10,
   "metadata": {},
   "outputs": [
    {
     "name": "stdout",
     "output_type": "stream",
     "text": [
      "08/12/2021 16:10:37 reconnected\n"
     ]
    }
   ],
   "source": [
    "client.reset_timeout()"
   ]
  },
  {
   "cell_type": "markdown",
   "metadata": {},
   "source": [
    "Finally, you can get the number of seconds the webhook was up with :"
   ]
  },
  {
   "cell_type": "code",
   "execution_count": 11,
   "metadata": {},
   "outputs": [
    {
     "name": "stdout",
     "output_type": "stream",
     "text": [
      "Lifetime: 2\n"
     ]
    }
   ],
   "source": [
    "time.sleep(3)\n",
    "lifetime = client.get_lifetime()\n",
    "print(f\"Lifetime: {lifetime}\")\n",
    "assert lifetime > 0\n",
    "assert len(kili.labels(project_id=project_id)) == 4"
   ]
  },
  {
   "cell_type": "markdown",
   "metadata": {},
   "source": [
    "## Summary\n",
    "In this tutorial, we accomplished the following:\n",
    "\n",
    "We introduced the concept of webhook and we used `label_created_or_updated` to trigger a webhook.\n",
    "\n",
    "You can also visit the Kili [website](https://kili-technology.com/) or Kili [documentation](https://docs.kili-technology.com/docs) for more info!"
   ]
  }
 ],
 "metadata": {
  "kernelspec": {
   "display_name": "Python 3 (ipykernel)",
   "language": "python",
   "name": "python3"
  },
  "language_info": {
   "codemirror_mode": {
    "name": "ipython",
    "version": 3
   },
   "file_extension": ".py",
   "mimetype": "text/x-python",
   "name": "python",
   "nbconvert_exporter": "python",
   "pygments_lexer": "ipython3",
   "version": "3.8.12"
  }
 },
 "nbformat": 4,
 "nbformat_minor": 2
}
