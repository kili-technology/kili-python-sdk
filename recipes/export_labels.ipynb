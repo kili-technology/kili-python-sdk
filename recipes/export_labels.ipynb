{
 "cells": [
  {
   "cell_type": "markdown",
   "metadata": {},
   "source": [
    "# Kili Tutorial: Exporting a training set\n",
    "In this tutorial, we will walk through the process of using Kili to export a training. The goal of this tutorial is to illustrate some basic components and concepts of Kili in a simple way, but also to dive into the actual process of iteratively developing real applications in Kili.\n",
    "\n",
    "Additionally:\n",
    "\n",
    "For an overview of Kili, visit kili-technology.com\n",
    "You can also check out the Kili documentation https://cloud.kili-technology.com/docs.\n",
    "Our goal is to export labels that can predict whether an image contains a Porsche or a Tesla.\n",
    "\n",
    "The tutorial is divided into four parts:\n",
    "\n",
    "1. Creating a project\n",
    "2. Settings up the labeling interface\n",
    "3. Labeling\n",
    "4. Exporting the training set with the API\n",
    "\n",
    "## 1. Creating the project\n",
    "\n",
    "On Kili homepage (https://cloud.kili-technology.com/label/projects), click on the top right button **Create new**.\n",
    "\n",
    "Then enter a project title, project description and project type **Image classification (single-class)** and click on save.\n",
    "\n",
    "![create project](img/export_labels-create_project.png)\n",
    "\n",
    "The project is created with to images by default so you can start playing with Kili.\n",
    "\n",
    "## 2. Settings up the labeling interface\n",
    "\n",
    "When created, click on the project and then on settings.\n",
    "In settings, change to names of the categories to *Porsche* and *Tesla*.\n",
    "\n",
    "![update settings](img/export_labels-update_settings.png)\n",
    "\n",
    "## 3. Labeling\n",
    "\n",
    "Then click on start labeling and label some images.\n",
    "\n",
    "![label images](img/export_labels-label_images.png)\n",
    "\n",
    "## 4. Exporting the training set with the API\n",
    "\n",
    "To export assets you will need the ID of the project. You find it in the url of you browser when you are on this project.\n",
    "\n",
    "![copy project id](img/export_labels-copy_project_id.png)\n",
    "\n",
    "This next cell connect the notebook to the Kili API. You need to update the credentials `email`, `password` and `project_id` before."
   ]
  },
  {
   "cell_type": "code",
   "execution_count": null,
   "metadata": {},
   "outputs": [],
   "source": [
    "import os\n",
    "\n",
    "# !pip install kili # uncomment if you don't have kili installed already\n",
    "from kili.client import Kili\n",
    "\n",
    "api_key = os.getenv('KILI_API_KEY')\n",
    "api_endpoint = os.getenv('KILI_API_ENDPOINT') # If you use Kili SaaS, use the url 'https://cloud.kili-technology.com/api/label/v2/graphql'\n",
    "\n",
    "kili = Kili(api_key=api_key, api_endpoint=api_endpoint)"
   ]
  },
  {
   "cell_type": "markdown",
   "metadata": {},
   "source": [
    "This next cell fetchs the assets. Assets are the piece of information you want to annotate. Here images."
   ]
  },
  {
   "cell_type": "code",
   "execution_count": null,
   "metadata": {},
   "outputs": [],
   "source": [
    "project = kili.create_project(input_type='IMAGE', json_interface={\n",
    "    \"jobs\": {\n",
    "        \"JOB_0\": {\n",
    "            \"mlTask\": \"OBJECT_DETECTION\",\n",
    "            \"tools\": [\n",
    "                \"rectangle\"\n",
    "            ],\n",
    "            \"content\": {\n",
    "                \"categories\": {\n",
    "                    \"OBJECT_A\": {\n",
    "                        \"name\": \"Object A\"\n",
    "                    },\n",
    "                },\n",
    "                \"input\": \"radio\"\n",
    "            }\n",
    "        }\n",
    "    }\n",
    "}, project_type='IMAGE_OBJECT_DETECTION_RECTANGLE', title='Example')\n",
    "project_id = project['id']\n",
    "print(f'Go to https://cloud.kili-technology.com/label/projects/{project_id}/overview')"
   ]
  },
  {
   "cell_type": "markdown",
   "metadata": {},
   "source": [
    "After drawing some labels on the interface, you can launch:"
   ]
  },
  {
   "cell_type": "code",
   "execution_count": null,
   "metadata": {},
   "outputs": [],
   "source": [
    "assets = kili.assets(project_id=project_id, fields=[\n",
    "    'externalId',\n",
    "    'labels.createdAt',\n",
    "    'labels.jsonResponse',\n",
    "    'labels.labelType'\n",
    "])\n",
    "print(len(assets))"
   ]
  },
  {
   "cell_type": "markdown",
   "metadata": {},
   "source": [
    "This next cell lists the assets of your project and the number of labels per asset:"
   ]
  },
  {
   "cell_type": "code",
   "execution_count": null,
   "metadata": {},
   "outputs": [],
   "source": [
    "for asset in assets:\n",
    "    external_id = asset['externalId']\n",
    "    number_of_labels = len(asset['labels'])\n",
    "    print(f'{external_id}: {number_of_labels}')"
   ]
  },
  {
   "cell_type": "markdown",
   "metadata": {},
   "source": [
    "This next cell prints for each asset the most recent label with its `labelType` and its `jsonResponse`:\n",
    "\n",
    "- `labelType`: can be either a REVIEW, a PREDICTION (when produced by a model) or DEFAULT (when produced by a human and not a review).\n",
    "- `jsonResponse`: the annotations I produced on the GUI"
   ]
  },
  {
   "cell_type": "code",
   "execution_count": null,
   "metadata": {},
   "outputs": [],
   "source": [
    "for asset in assets:\n",
    "    no_label_for_this_asset = len(asset['labels']) == 0\n",
    "    if no_label_for_this_asset:\n",
    "        continue\n",
    "    sorted_labels = sorted(asset['labels'],\n",
    "                           key=lambda l: l['createdAt'], reverse=True)\n",
    "    latest_label = sorted_labels[0]\n",
    "    print(asset['externalId'])\n",
    "    print(latest_label['labelType'])\n",
    "    print(latest_label['jsonResponse'])\n",
    "    print()"
   ]
  },
  {
   "cell_type": "markdown",
   "metadata": {},
   "source": [
    "## Simplified format\n",
    "\n",
    "In some very easy projects, Kili API format can seem overwhelming. That is why we also designed formatters. Accepted formats are:\n",
    "\n",
    "- `None`: it is Kili API raw format as extensively described [here](https://cloud.kili-technology.com/docs/data-export/data-format)\n",
    "- `'simple'` or `kili.orm.Annotation.AnnotationFormat.Simple`: it is a reduced format for better readability on simple projects\n",
    "  - For single-class single-job classification projects, you'll only get in JSON responses the chosen class\n",
    "  - For single-class single-job named-entity recognition projects, you'll only get in JSON responses the list of the chosen class and the entity\n",
    "  - For single-class single-job object detection projects, you'll only get in JSON responses the list of the chosen class and the polygon"
   ]
  },
  {
   "cell_type": "code",
   "execution_count": null,
   "metadata": {},
   "outputs": [],
   "source": [
    "for asset in assets:\n",
    "    for label in asset.labels:\n",
    "        print(label.json_response(format='simple'))"
   ]
  },
  {
   "cell_type": "markdown",
   "metadata": {},
   "source": [
    "# Summary\n",
    "\n",
    "In this tutorial, we accomplished the following:\n",
    "\n",
    "We introduced the concept of Kili project and asset and demonstrated how to create, set up and use one.\n",
    "We used the Kili API to extract the labels.\n",
    "We showed that an an asset can have several labels. And that a label is made of a `labelType` and a `jsonResponse` that contains the annotations.\n",
    "If you enjoyed this tutorial, check out the other Recipes for other tutorials that you may find interesting, including demonstrations of how to use Kili.\n",
    "\n",
    "You can also visit the [Kili website](https://kili-technology.com) or [Kili documentation](https://cloud.kili-technology.com/docs) for more info!"
   ]
  },
  {
   "cell_type": "code",
   "execution_count": null,
   "metadata": {},
   "outputs": [],
   "source": []
  }
 ],
 "metadata": {
  "kernelspec": {
   "display_name": "Python 3",
   "language": "python",
   "name": "python3"
  },
  "language_info": {
   "codemirror_mode": {
    "name": "ipython",
    "version": 3
   },
   "file_extension": ".py",
   "mimetype": "text/x-python",
   "name": "python",
   "nbconvert_exporter": "python",
   "pygments_lexer": "ipython3",
   "version": "3.9.1"
  }
 },
 "nbformat": 4,
 "nbformat_minor": 2
}
