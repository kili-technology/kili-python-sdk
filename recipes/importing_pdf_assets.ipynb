{
 "cells": [
  {
   "attachments": {},
   "cell_type": "markdown",
   "metadata": {},
   "source": [
    "<a href=\"https://colab.research.google.com/github/kili-technology/kili-python-sdk/blob/main/recipes/importing_pdf_assets.ipynb\" target=\"_parent\"><img src=\"https://colab.research.google.com/assets/colab-badge.svg\" alt=\"Open In Colab\"/></a>"
   ]
  },
  {
   "attachments": {},
   "cell_type": "markdown",
   "metadata": {},
   "source": [
    "# How to import PDF assets to a Kili project\n",
    "\n",
    "In this tutorial, we will learn how to import PDF assets to your project.\n",
    "\n",
    "Here are the steps that we will follow:\n",
    "\n",
    "1. Setting up a PDF classification project.\n",
    "2. Importing some PDF assets to Kili.\n",
    "3. Adding their resolutions if needed.\n",
    "\n",
    "## Setting up a PDF Kili project to work with\n",
    "\n",
    "### Installing and instantiating Kili\n",
    "\n",
    "First, let's install and import the required modules."
   ]
  },
  {
   "cell_type": "code",
   "execution_count": null,
   "metadata": {},
   "outputs": [],
   "source": [
    "%pip install kili"
   ]
  },
  {
   "cell_type": "code",
   "execution_count": null,
   "metadata": {},
   "outputs": [],
   "source": [
    "from pprint import pprint\n",
    "\n",
    "from kili.client import Kili"
   ]
  },
  {
   "attachments": {},
   "cell_type": "markdown",
   "metadata": {},
   "source": [
    "Now, let's set up variables needed to create an instance of the Kili object.\n",
    "\n",
    "We will need your API key and Kili's API endpoint.\n",
    "\n",
    "If you are unsure how to look up your API key, refer to [https://docs.kili-technology.com/docs/creating-an-api-key](https://docs.kili-technology.com/docs/creating-an-api-key)."
   ]
  },
  {
   "cell_type": "code",
   "execution_count": null,
   "metadata": {},
   "outputs": [],
   "source": [
    "kili = Kili(\n",
    "    # api_endpoint=\"https://cloud.kili-technology.com/api/label/v2/graphql\",\n",
    "    # the line above can be uncommented and changed if you are working with an on-premise version of Kili\n",
    ")"
   ]
  },
  {
   "attachments": {},
   "cell_type": "markdown",
   "metadata": {},
   "source": [
    "### Creating a PDF Kili project\n",
    "\n",
    "To create a PDF Kili project, you must first set up its ontology.\n",
    "\n",
    "Here, we will only add a classification task:"
   ]
  },
  {
   "cell_type": "code",
   "execution_count": null,
   "metadata": {},
   "outputs": [],
   "source": [
    "interface = {\n",
    "    \"jobs\": {\n",
    "        \"CLASSIFICATION_JOB\": {\n",
    "            \"mlTask\": \"CLASSIFICATION\",\n",
    "            \"content\": {\n",
    "                \"categories\": {\n",
    "                    \"RESEARCH\": {\"name\": \"Research\", \"children\": [], \"id\": \"category1\"},\n",
    "                    \"GUIDELINES\": {\"name\": \"Guidelines\", \"children\": [], \"id\": \"category2\"},\n",
    "                    \"TREND_ANALYSIS\": {\"children\": [], \"name\": \"Trend analysis\", \"id\": \"category3\"},\n",
    "                },\n",
    "                \"input\": \"radio\",\n",
    "            },\n",
    "            \"instruction\": \"Classify the document\",\n",
    "            \"required\": 1,\n",
    "            \"isChild\": False,\n",
    "            \"isNew\": False,\n",
    "        },\n",
    "    }\n",
    "}\n",
    "\n",
    "project = kili.create_project(\n",
    "    title=\"[Kili SDK Notebook]: Importing assets with metadata - PDF\",\n",
    "    description=\"Project Description\",\n",
    "    input_type=\"PDF\",\n",
    "    json_interface=interface,\n",
    ")"
   ]
  },
  {
   "attachments": {},
   "cell_type": "markdown",
   "metadata": {},
   "source": [
    "You can now add assets. Here, we will add PDF from public URLs:"
   ]
  },
  {
   "cell_type": "code",
   "execution_count": null,
   "metadata": {},
   "outputs": [
    {
     "name": "stderr",
     "output_type": "stream",
     "text": [
      "100%|██████████| 3/3 [00:01<00:00,  2.92it/s]\n"
     ]
    }
   ],
   "source": [
    "project_id = project[\"id\"]\n",
    "external_ids = [\"2306.17766\", \"2306.17582\", \"2306.17514\"]\n",
    "\n",
    "assets = kili.append_many_to_dataset(\n",
    "    project_id=project_id,\n",
    "    content_array=[\n",
    "        \"https://arxiv.org/pdf/2306.17766\",\n",
    "        \"https://arxiv.org/pdf/2306.17582\",\n",
    "        \"https://arxiv.org/pdf/2306.17514\",\n",
    "    ],\n",
    "    external_id_array=external_ids,\n",
    ")"
   ]
  },
  {
   "attachments": {},
   "cell_type": "markdown",
   "metadata": {},
   "source": [
    "## Update and check the resolutions\n",
    "\n",
    "You can now update and check the resolutions of the pdf assets.\n",
    "\n",
    "⚠️ This step is only necessary for assets that have been annotated before the 2023-07-05. Before this date, the page resolutions were not stored once a label was submitted, so if you need to backfill this value if you need it."
   ]
  },
  {
   "cell_type": "code",
   "execution_count": null,
   "metadata": {},
   "outputs": [],
   "source": [
    "from kili.utils.assets import PageResolution\n",
    "\n",
    "kili.update_properties_in_assets(\n",
    "    project_id=project_id,\n",
    "    external_ids=external_ids,\n",
    "    page_resolutions_array=[\n",
    "        [\n",
    "            PageResolution(page_number=1, height=700, width=500),\n",
    "            PageResolution(page_number=2, height=700, width=500),\n",
    "            PageResolution(page_number=3, height=700, width=500),\n",
    "            PageResolution(page_number=4, height=700, width=500),\n",
    "        ],\n",
    "        [\n",
    "            PageResolution(page_number=1, height=700, width=500),\n",
    "            PageResolution(page_number=2, height=700, width=500),\n",
    "            PageResolution(page_number=3, height=700, width=500),\n",
    "            PageResolution(page_number=4, height=700, width=500),\n",
    "        ],\n",
    "        [\n",
    "            PageResolution(page_number=1, height=700, width=500),\n",
    "            PageResolution(page_number=2, height=700, width=500),\n",
    "            PageResolution(page_number=3, height=700, width=500),\n",
    "            PageResolution(page_number=4, height=700, width=500),\n",
    "        ],\n",
    "    ],\n",
    ")"
   ]
  },
  {
   "attachments": {},
   "cell_type": "markdown",
   "metadata": {},
   "source": [
    "## Fetching the asset resolutions\n",
    "\n",
    "You can fetch the PDF asset resolutions this way:"
   ]
  },
  {
   "cell_type": "code",
   "execution_count": null,
   "metadata": {},
   "outputs": [],
   "source": [
    "assets = kili.assets(\n",
    "    project_id,\n",
    "    fields=[\"id\", \"pageResolutions.height\", \"pageResolutions.width\", \"pageResolutions.pageNumber\"],\n",
    ")"
   ]
  },
  {
   "cell_type": "code",
   "execution_count": null,
   "metadata": {},
   "outputs": [
    {
     "name": "stdout",
     "output_type": "stream",
     "text": [
      "[{'id': 'cljohld0v0000lfvz0ktpb290',\n",
      "  'pageResolutions': [{'height': 700, 'pageNumber': 1, 'width': 500},\n",
      "                      {'height': 700, 'pageNumber': 2, 'width': 500},\n",
      "                      {'height': 700, 'pageNumber': 3, 'width': 500},\n",
      "                      {'height': 700, 'pageNumber': 4, 'width': 500}]},\n",
      " {'id': 'cljohld0v0001lfvzok0h4mlu',\n",
      "  'pageResolutions': [{'height': 700, 'pageNumber': 1, 'width': 500},\n",
      "                      {'height': 700, 'pageNumber': 2, 'width': 500},\n",
      "                      {'height': 700, 'pageNumber': 3, 'width': 500},\n",
      "                      {'height': 700, 'pageNumber': 4, 'width': 500}]},\n",
      " {'id': 'cljohld0v0002lfvz3vid56ha',\n",
      "  'pageResolutions': [{'height': 700, 'pageNumber': 1, 'width': 500},\n",
      "                      {'height': 700, 'pageNumber': 2, 'width': 500},\n",
      "                      {'height': 700, 'pageNumber': 3, 'width': 500},\n",
      "                      {'height': 700, 'pageNumber': 4, 'width': 500}]}]\n"
     ]
    }
   ],
   "source": [
    "pprint(assets)"
   ]
  },
  {
   "attachments": {},
   "cell_type": "markdown",
   "metadata": {},
   "source": [
    "## Cleanup\n",
    "\n",
    "We can remove the project that we created if needed:"
   ]
  },
  {
   "cell_type": "code",
   "execution_count": null,
   "metadata": {},
   "outputs": [],
   "source": [
    "kili.delete_project(project_id)"
   ]
  }
 ],
 "metadata": {
  "language_info": {
   "name": "python"
  }
 },
 "nbformat": 4,
 "nbformat_minor": 2
}
