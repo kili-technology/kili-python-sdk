{
 "cells": [
  {
   "cell_type": "markdown",
   "id": "f7c39767-b41d-4f99-a1fe-a80836b6e6ea",
   "metadata": {
    "tags": []
   },
   "source": [
    "<a href=\"https://colab.research.google.com/github/kili-technology/kili-python-sdk/blob/master/recipes/label_parsing.ipynb\" target=\"_parent\"><img src=\"https://colab.research.google.com/assets/colab-badge.svg\" alt=\"Open In Colab\"/></a>"
   ]
  },
  {
   "cell_type": "markdown",
   "id": "0af86972-b41f-431e-a8a3-126e0e4bc1b9",
   "metadata": {
    "tags": []
   },
   "source": [
    "# How to use the label parser"
   ]
  },
  {
   "attachments": {},
   "cell_type": "markdown",
   "id": "239c105f",
   "metadata": {},
   "source": [
    "This tutorial shows how to use the label parser to easily access labels' content."
   ]
  },
  {
   "cell_type": "markdown",
   "id": "39d39863-f8da-4dd2-b39c-822d175792f2",
   "metadata": {},
   "source": [
    "## Setup"
   ]
  },
  {
   "cell_type": "code",
   "execution_count": null,
   "id": "190987c3-df3b-4239-badf-2922df83791b",
   "metadata": {},
   "outputs": [],
   "source": [
    "%pip install kili"
   ]
  },
  {
   "cell_type": "code",
   "execution_count": null,
   "id": "3477d905-2726-4a7e-8e8b-3f2e5a8734bf",
   "metadata": {
    "tags": []
   },
   "outputs": [],
   "source": [
    "from kili.client import Kili\n",
    "\n",
    "kili = Kili()"
   ]
  },
  {
   "cell_type": "markdown",
   "id": "8214805a-5292-4986-ad9e-316bb08cfff2",
   "metadata": {},
   "source": [
    "## Kili labels\n",
    "\n",
    "In Kili SDK, a label is a dictionary that follows a json structure as described in the [documentation](https://docs.kili-technology.com/docs/data-format):\n",
    "\n",
    "```python\n",
    "my_label = kili.labels(project_id=\"my_project_id\", output_format='dict')[0]\n",
    "\n",
    "print(my_label)\n",
    "```\n",
    "\n",
    "```json\n",
    "{\n",
    "  \"id\": \"abc123\",\n",
    "  \"author\": {\"email\": \"john.doe@kili-techonology.com\", \"id\": \"123456\"},\n",
    "  \"createdAt\": \"2020-02-20T14:00:00.000Z\",\n",
    "  \"labelType\": \"DEFAULT\",\n",
    "  \"secondsToLabel\": 10,\n",
    "  \"jsonResponse\": {},\n",
    "  ...  // many other possible fields!\n",
    "}\n",
    "```\n",
    "\n",
    "The `jsonResponse` field is the one that contains the actual label data, that is the data that the annotator has entered in the interface (the bounding boxes, polygons, text, etc.).\n",
    "\n",
    "Is it however quite difficult to extract the label data from the `jsonResponse` field, as it is a nested dictionary. This is why we have developed a label parser that allows you to extract the label data in a more convenient way."
   ]
  },
  {
   "attachments": {},
   "cell_type": "markdown",
   "id": "38ab3d23",
   "metadata": {},
   "source": [
    "## Parsed Label integration to kili.labels()\n",
    "\n",
    "The `kili.labels()` method has an `output_format` argument that enables automatic label parsing:\n",
    "\n",
    "```python\n",
    "my_label = kili.labels(project_id=\"my_project_id\", output_format='parsed_label')[0]  \n",
    "\n",
    "# example of how to access the category name of the first label\n",
    "# (only for a classification job)\n",
    "my_label.jobs[\"MY_JOB_NAME\"].category.name  \n",
    "```\n",
    "\n",
    "Instead of:\n",
    "\n",
    "```python\n",
    "my_label = kili.labels(project_id=\"my_project_id\", output_format='dict')[0]  \n",
    "\n",
    "my_label[\"jsonResponse\"][\"jobs\"][\"MY_JOB_NAME\"][\"categories\"][0][\"name\"] \n",
    "```\n",
    "\n",
    "As you can see, the parsed label is much easier to use than the raw label, and helps you develop your own scripts faster using your IDE auto-completion, type checking, etc."
   ]
  },
  {
   "attachments": {},
   "cell_type": "markdown",
   "id": "bf147f69",
   "metadata": {},
   "source": [
    "## Parsed Label integration to kili.assets()\n",
    "\n",
    "The `kili.assets()` method has a `label_output_format` argument that enables automatic label parsing:\n",
    "\n",
    "```python\n",
    "my_asset = kili.assets(project_id=\"my_project_id\", label_output_format='parsed_label')[0]\n",
    "\n",
    "# example of how to access the category name of the first label\n",
    "# (only for a classification job)\n",
    "my_asset[\"labels\"][0].jobs[\"MY_JOB_NAME\"].category.name\n",
    "```"
   ]
  },
  {
   "cell_type": "markdown",
   "id": "c9a62300-056d-4028-9dfe-f6b1accdaa40",
   "metadata": {},
   "source": [
    "## ParsedLabel class"
   ]
  },
  {
   "cell_type": "markdown",
   "id": "967b4fb4-65ea-4d2a-961b-50105f0b78d6",
   "metadata": {},
   "source": [
    "The `ParsedLabel` class represents a Kili label with a parsed json response.\n",
    "\n",
    "As we have seen earlier, the `kili.labels(..., output_format='parsed_label')` will automatically return a list of `ParsedLabel` objects, but you can also create a `ParsedLabel` object from a raw dict label."
   ]
  },
  {
   "cell_type": "code",
   "execution_count": null,
   "id": "07f0269c-265b-42d4-8566-3b9fbdae4713",
   "metadata": {
    "tags": []
   },
   "outputs": [],
   "source": [
    "from kili.utils.labels.parsing import ParsedLabel"
   ]
  },
  {
   "cell_type": "markdown",
   "id": "239dfe22-9681-4850-b2ef-b495072d5a70",
   "metadata": {
    "tags": []
   },
   "source": [
    "This class directly inherits from `dict`, and thus behaves like a dictionary."
   ]
  },
  {
   "cell_type": "code",
   "execution_count": null,
   "id": "d1a3afbe-9000-4a71-b8a9-6503a75e1748",
   "metadata": {
    "tags": []
   },
   "outputs": [
    {
     "name": "stdout",
     "output_type": "stream",
     "text": [
      "<class 'dict'>\n"
     ]
    }
   ],
   "source": [
    "print(ParsedLabel.__bases__[0])"
   ]
  },
  {
   "cell_type": "markdown",
   "id": "0d939a75",
   "metadata": {},
   "source": [
    "Converting a label to a `ParsedLabel` is as simple as:"
   ]
  },
  {
   "cell_type": "code",
   "execution_count": null,
   "id": "ec785471-8e12-4f59-a3c5-6921af449ce2",
   "metadata": {
    "tags": [
     "test_cell"
    ]
   },
   "outputs": [],
   "source": [
    "json_interface = {\n",
    "    \"jobs\": {\n",
    "        \"CLASSIFICATION_JOB\": {\n",
    "            \"content\": {\n",
    "                \"categories\": {\n",
    "                    \"A\": {\"children\": [], \"name\": \"A\"},\n",
    "                    \"B\": {\"children\": [], \"name\": \"B\"},\n",
    "                },\n",
    "                \"input\": \"radio\",\n",
    "            },\n",
    "            \"instruction\": \"Class\",\n",
    "            \"mlTask\": \"CLASSIFICATION\",\n",
    "            \"required\": 1,\n",
    "            \"isChild\": False,\n",
    "        }\n",
    "    }\n",
    "}"
   ]
  },
  {
   "cell_type": "code",
   "execution_count": null,
   "id": "daab1ca8",
   "metadata": {
    "tags": []
   },
   "outputs": [],
   "source": [
    "my_label = {\n",
    "    \"author\": {\"email\": \"first.last@kili-technology.com\", \"id\": \"123456\"},\n",
    "    \"id\": \"clh0fsi9u0tli0j666l4sfhpz\",\n",
    "    \"jsonResponse\": {\"CLASSIFICATION_JOB\": {\"categories\": [{\"confidence\": 100, \"name\": \"A\"}]}},\n",
    "    \"labelType\": \"DEFAULT\",\n",
    "    \"secondsToLabel\": 5,\n",
    "}\n",
    "\n",
    "my_parsed_label = ParsedLabel(my_label, json_interface=json_interface, input_type=\"IMAGE\")"
   ]
  },
  {
   "cell_type": "code",
   "execution_count": null,
   "id": "cd7c58ca",
   "metadata": {
    "tags": []
   },
   "outputs": [
    {
     "name": "stdout",
     "output_type": "stream",
     "text": [
      "first.last@kili-technology.com\n"
     ]
    }
   ],
   "source": [
    "print(my_parsed_label[\"author\"][\"email\"])"
   ]
  },
  {
   "cell_type": "markdown",
   "id": "c39c64b7",
   "metadata": {},
   "source": [
    "In a parsed label, the `jsonResponse` dict key is not accessible anymore, since it is parsed and transformed into a `.jobs` object:"
   ]
  },
  {
   "cell_type": "code",
   "execution_count": null,
   "id": "7f9233a1-104e-4e09-8e3e-0496b90e8461",
   "metadata": {
    "tags": []
   },
   "outputs": [
    {
     "name": "stdout",
     "output_type": "stream",
     "text": [
      "The key 'jsonResponse' is not accessible anymore.\n"
     ]
    }
   ],
   "source": [
    "try:\n",
    "    my_parsed_label[\"jsonResponse\"]\n",
    "except KeyError as err:\n",
    "    print(f\"The key {err} is not accessible anymore.\")"
   ]
  },
  {
   "cell_type": "markdown",
   "id": "736c81fe-b686-4967-87a1-3782d3b109c5",
   "metadata": {},
   "source": [
    "## .jobs attribute\n",
    "\n",
    "The `.jobs` attribute of a `ParsedLabel` class is a dictionary-like object that contains the json response data of a parsed label.\n",
    "\n",
    "The keys are the names of the jobs, and the values are the parsed job responses.\n",
    "\n",
    "Let's illustrate this with the previous label."
   ]
  },
  {
   "cell_type": "code",
   "execution_count": null,
   "id": "e8031be5-291d-41a0-8450-14698937163e",
   "metadata": {
    "tags": []
   },
   "outputs": [
    {
     "name": "stdout",
     "output_type": "stream",
     "text": [
      "['CLASSIFICATION_JOB']\n"
     ]
    }
   ],
   "source": [
    "print(list(my_parsed_label.jobs.keys()))"
   ]
  },
  {
   "cell_type": "markdown",
   "id": "8830502b",
   "metadata": {},
   "source": [
    "The values are `ParsedJob` objects, which are also dictionary-like objects that contain the job response data.\n",
    "\n",
    "The available data attributes are specific to the job interface described in the ontology (also called the json interface)."
   ]
  },
  {
   "cell_type": "code",
   "execution_count": null,
   "id": "90ccb58f-3529-42d6-8d5e-f4d4a039a523",
   "metadata": {
    "tags": []
   },
   "outputs": [
    {
     "name": "stdout",
     "output_type": "stream",
     "text": [
      "{'categories': [{'name': 'A', 'confidence': 100}]}\n"
     ]
    }
   ],
   "source": [
    "print(my_parsed_label.jobs[\"CLASSIFICATION_JOB\"])"
   ]
  },
  {
   "cell_type": "markdown",
   "id": "3ff19355",
   "metadata": {},
   "source": [
    "For example, for a classification job, the available data attributes are `categories` or `category`, and a category object can have a `name` and a `confidence` attribute."
   ]
  },
  {
   "cell_type": "code",
   "execution_count": null,
   "id": "fbbe0776-736f-41c7-ab07-cc766750911f",
   "metadata": {
    "tags": []
   },
   "outputs": [
    {
     "name": "stdout",
     "output_type": "stream",
     "text": [
      "A\n"
     ]
    }
   ],
   "source": [
    "print(my_parsed_label.jobs[\"CLASSIFICATION_JOB\"].categories[0].name)"
   ]
  },
  {
   "cell_type": "markdown",
   "id": "77f06703",
   "metadata": {},
   "source": [
    "## Autocomplete\n",
    "\n",
    "The `ParsedLabel` class enables your IDE to explore the possible attributes during development:"
   ]
  },
  {
   "cell_type": "markdown",
   "id": "125cf990",
   "metadata": {},
   "source": [
    "<img src=\"https://raw.githubusercontent.com/kili-technology/kili-python-sdk/master/recipes/img/label_parsing_autocompletion.gif\" width=\"600\">"
   ]
  },
  {
   "cell_type": "markdown",
   "id": "5fd9cf30",
   "metadata": {},
   "source": [
    "Note that some attributes will not be avaible at runtime, since they are specific to the project ontology that will only be known at runtime."
   ]
  },
  {
   "cell_type": "markdown",
   "id": "d1958cc2",
   "metadata": {},
   "source": [
    "## Get the json response from a parsed label\n",
    "\n",
    "If you need to get the json response from a parsed label, you can use the `.json_response` attribute:"
   ]
  },
  {
   "cell_type": "code",
   "execution_count": null,
   "id": "b8f1d154",
   "metadata": {},
   "outputs": [
    {
     "name": "stdout",
     "output_type": "stream",
     "text": [
      "<class 'dict'>\n"
     ]
    }
   ],
   "source": [
    "print(type(my_parsed_label.json_response))"
   ]
  },
  {
   "cell_type": "code",
   "execution_count": null,
   "id": "cb0f6e6b",
   "metadata": {},
   "outputs": [
    {
     "name": "stdout",
     "output_type": "stream",
     "text": [
      "{'CLASSIFICATION_JOB': {'categories': [{'name': 'A', 'confidence': 100}]}}\n"
     ]
    }
   ],
   "source": [
    "print(my_parsed_label.json_response)"
   ]
  },
  {
   "cell_type": "markdown",
   "id": "19567f86-b09d-4429-bd53-d9d36f5ac511",
   "metadata": {},
   "source": [
    "## Convert ParsedLabel to Python dict\n",
    "\n",
    "A `ParsedLabel` is a custom class and is not serializable by default. However, it is possible to convert it to a Python dict using the `to_dict` method:"
   ]
  },
  {
   "cell_type": "code",
   "execution_count": null,
   "id": "7eb76010-fc45-423c-84e4-cf72fc4bfabe",
   "metadata": {
    "tags": []
   },
   "outputs": [
    {
     "name": "stdout",
     "output_type": "stream",
     "text": [
      "<class 'kili.utils.labels.parsing.ParsedLabel'>\n"
     ]
    }
   ],
   "source": [
    "print(type(my_parsed_label))"
   ]
  },
  {
   "cell_type": "code",
   "execution_count": null,
   "id": "38f501f0-5be0-449d-bb46-b513347b86cb",
   "metadata": {
    "tags": []
   },
   "outputs": [],
   "source": [
    "label_as_dict = my_parsed_label.to_dict()"
   ]
  },
  {
   "cell_type": "code",
   "execution_count": null,
   "id": "a98aec6f-d8e8-4565-9e8d-f4dc1a8febce",
   "metadata": {
    "tags": []
   },
   "outputs": [
    {
     "name": "stdout",
     "output_type": "stream",
     "text": [
      "<class 'dict'>\n"
     ]
    }
   ],
   "source": [
    "print(type(label_as_dict))"
   ]
  },
  {
   "cell_type": "code",
   "execution_count": null,
   "id": "5698e8c1-8d94-46b7-9c9e-49b7fe4a7063",
   "metadata": {
    "tags": []
   },
   "outputs": [
    {
     "name": "stdout",
     "output_type": "stream",
     "text": [
      "{'author': {'email': 'first.last@kili-technology.com', 'id': '123456'}, 'id': 'clh0fsi9u0tli0j666l4sfhpz', 'labelType': 'DEFAULT', 'secondsToLabel': 5, 'jsonResponse': {'CLASSIFICATION_JOB': {'categories': [{'name': 'A', 'confidence': 100}]}}}\n"
     ]
    }
   ],
   "source": [
    "print(label_as_dict)"
   ]
  },
  {
   "cell_type": "markdown",
   "id": "ee5ad1ac-00e7-4d57-9c85-356c69b1fb6a",
   "metadata": {
    "tags": []
   },
   "source": [
    "## Task specific attributes"
   ]
  },
  {
   "cell_type": "markdown",
   "id": "c3db3059-92c2-4b51-b173-cce787de23fb",
   "metadata": {},
   "source": [
    "### Classification jobs"
   ]
  },
  {
   "attachments": {},
   "cell_type": "markdown",
   "id": "933e52a2",
   "metadata": {},
   "source": [
    "We define a json interface for two classification jobs:\n",
    "\n",
    "- a single-class classification job, with name `SINGLE_CLASS_JOB` and three categories `A`, `B` and `C`\n",
    "- a multi-class classification job, with name `MULTI_CLASS_JOB` and three categories `D`, `E` and `F`."
   ]
  },
  {
   "cell_type": "code",
   "execution_count": null,
   "id": "3659363f-1a03-402f-9ed6-b993f06b96e2",
   "metadata": {
    "tags": []
   },
   "outputs": [],
   "source": [
    "json_interface = {\n",
    "    \"jobs\": {\n",
    "        \"SINGLE_CLASS_JOB\": {\n",
    "            \"content\": {\n",
    "                \"categories\": {\n",
    "                    \"A\": {\"children\": [], \"name\": \"A\"},\n",
    "                    \"B\": {\"children\": [], \"name\": \"B\"},\n",
    "                    \"C\": {\"children\": [], \"name\": \"C\"},\n",
    "                },\n",
    "                \"input\": \"radio\",\n",
    "            },\n",
    "            \"instruction\": \"Class\",\n",
    "            \"mlTask\": \"CLASSIFICATION\",\n",
    "            \"required\": 1,\n",
    "            \"isChild\": False,\n",
    "        },\n",
    "        \"MULTI_CLASS_JOB\": {\n",
    "            \"content\": {\n",
    "                \"categories\": {\n",
    "                    \"D\": {\"children\": [], \"name\": \"D\"},\n",
    "                    \"E\": {\"children\": [], \"name\": \"E\"},\n",
    "                    \"F\": {\"children\": [], \"name\": \"F\"},\n",
    "                },\n",
    "                \"input\": \"checkbox\",\n",
    "            },\n",
    "            \"instruction\": \"Class\",\n",
    "            \"mlTask\": \"CLASSIFICATION\",\n",
    "            \"required\": 1,\n",
    "            \"isChild\": False,\n",
    "        },\n",
    "    }\n",
    "}"
   ]
  },
  {
   "cell_type": "markdown",
   "id": "cdc461a1",
   "metadata": {},
   "source": [
    "For this tutorial, we will work with already existing labels.\n",
    "\n",
    "Note that those labels could have been downloaded from a real Kili project using the `kili.labels()` method.\n",
    "\n",
    "To learn more about the json response format for classification jobs, please refer to the [documentation](https://docs.kili-technology.com/reference/export-classification)."
   ]
  },
  {
   "cell_type": "code",
   "execution_count": null,
   "id": "5b3a9fe1",
   "metadata": {
    "tags": []
   },
   "outputs": [],
   "source": [
    "json_responses = [\n",
    "    {\n",
    "        \"SINGLE_CLASS_JOB\": {\"categories\": [{\"confidence\": 75, \"name\": \"A\"}]},\n",
    "        \"MULTI_CLASS_JOB\": {\n",
    "            \"categories\": [{\"confidence\": 1, \"name\": \"D\"}, {\"confidence\": 1, \"name\": \"E\"}]\n",
    "        },\n",
    "    },\n",
    "    {\n",
    "        \"SINGLE_CLASS_JOB\": {\"categories\": [{\"confidence\": 50, \"name\": \"B\"}]},\n",
    "        \"MULTI_CLASS_JOB\": {\n",
    "            \"categories\": [{\"confidence\": 2, \"name\": \"E\"}, {\"confidence\": 2, \"name\": \"F\"}]\n",
    "        },\n",
    "    },\n",
    "    {\n",
    "        \"SINGLE_CLASS_JOB\": {\"categories\": [{\"confidence\": 25, \"name\": \"C\"}]},\n",
    "        \"MULTI_CLASS_JOB\": {\n",
    "            \"categories\": [{\"confidence\": 3, \"name\": \"F\"}, {\"confidence\": 3, \"name\": \"D\"}]\n",
    "        },\n",
    "    },\n",
    "]"
   ]
  },
  {
   "cell_type": "code",
   "execution_count": null,
   "id": "9ea0d883-2db8-448e-ad39-7b54ac1e31ae",
   "metadata": {
    "tags": []
   },
   "outputs": [],
   "source": [
    "labels = [\n",
    "    ParsedLabel({\"jsonResponse\": label}, json_interface=json_interface, input_type=\"IMAGE\")\n",
    "    for label in json_responses\n",
    "]"
   ]
  },
  {
   "cell_type": "code",
   "execution_count": null,
   "id": "3d3cb650-43a6-425b-8853-f907b7200c45",
   "metadata": {
    "tags": []
   },
   "outputs": [
    {
     "name": "stdout",
     "output_type": "stream",
     "text": [
      "{'categories': [{'name': 'A', 'confidence': 75}]}\n"
     ]
    }
   ],
   "source": [
    "print(labels[0].jobs[\"SINGLE_CLASS_JOB\"])"
   ]
  },
  {
   "cell_type": "code",
   "execution_count": null,
   "id": "7b32146a-c1e4-4670-8c0c-745b24b71002",
   "metadata": {
    "tags": []
   },
   "outputs": [
    {
     "name": "stdout",
     "output_type": "stream",
     "text": [
      "[{'name': 'A', 'confidence': 75}]\n"
     ]
    }
   ],
   "source": [
    "print(labels[0].jobs[\"SINGLE_CLASS_JOB\"].categories)"
   ]
  },
  {
   "cell_type": "code",
   "execution_count": null,
   "id": "01cd50ef-ccae-4aca-ae1a-2ed7208cc088",
   "metadata": {
    "tags": []
   },
   "outputs": [
    {
     "name": "stdout",
     "output_type": "stream",
     "text": [
      "A\n"
     ]
    }
   ],
   "source": [
    "print(labels[0].jobs[\"SINGLE_CLASS_JOB\"].categories[0].name)"
   ]
  },
  {
   "cell_type": "markdown",
   "id": "8897dcfb-daec-45c6-b7b0-47ee49598f36",
   "metadata": {},
   "source": [
    "Since `SINGLE_CLASS_JOB` is a single-category classification job, the `.category` attribute is available, and is an alias for `.categories[0]`:"
   ]
  },
  {
   "cell_type": "code",
   "execution_count": null,
   "id": "3e9ab315-6551-4e61-b479-abc8c558a606",
   "metadata": {
    "tags": []
   },
   "outputs": [
    {
     "name": "stdout",
     "output_type": "stream",
     "text": [
      "A\n",
      "75\n"
     ]
    }
   ],
   "source": [
    "print(labels[0].jobs[\"SINGLE_CLASS_JOB\"].category.name)\n",
    "print(labels[0].jobs[\"SINGLE_CLASS_JOB\"].category.confidence)"
   ]
  },
  {
   "attachments": {},
   "cell_type": "markdown",
   "id": "f8081f2c-67a0-48de-97d1-6f3ba89255a6",
   "metadata": {},
   "source": [
    "The `.category` attribute is forbidden for multi-category classification jobs:"
   ]
  },
  {
   "cell_type": "code",
   "execution_count": null,
   "id": "17fe3393-8be9-484b-8b37-6bc11be6b96c",
   "metadata": {
    "tags": []
   },
   "outputs": [
    {
     "name": "stdout",
     "output_type": "stream",
     "text": [
      "Error:  The attribute 'category' is not compatible with the job.\n"
     ]
    }
   ],
   "source": [
    "try:\n",
    "    print(labels[0].jobs[\"MULTI_CLASS_JOB\"].category.name)\n",
    "except Exception as err:\n",
    "    print(\"Error: \", err)"
   ]
  },
  {
   "cell_type": "markdown",
   "id": "0c651cc6-1fea-4fd5-8104-38b203d5d67c",
   "metadata": {},
   "source": [
    "It is also possible to iterate over the job names:"
   ]
  },
  {
   "cell_type": "code",
   "execution_count": null,
   "id": "f3804ffa-1e50-4b92-ab78-d79a891bf226",
   "metadata": {
    "tags": []
   },
   "outputs": [
    {
     "name": "stdout",
     "output_type": "stream",
     "text": [
      "\n",
      "Label 0\n",
      "job_name:  SINGLE_CLASS_JOB\n",
      "category:  A 75\n",
      "job_name:  MULTI_CLASS_JOB\n",
      "category:  D 1\n",
      "category:  E 1\n",
      "\n",
      "Label 1\n",
      "job_name:  SINGLE_CLASS_JOB\n",
      "category:  B 50\n",
      "job_name:  MULTI_CLASS_JOB\n",
      "category:  E 2\n",
      "category:  F 2\n",
      "\n",
      "Label 2\n",
      "job_name:  SINGLE_CLASS_JOB\n",
      "category:  C 25\n",
      "job_name:  MULTI_CLASS_JOB\n",
      "category:  F 3\n",
      "category:  D 3\n"
     ]
    }
   ],
   "source": [
    "for i, label in enumerate(labels):\n",
    "    print(f\"\\nLabel {i}\")\n",
    "    for job_name, job_data in label.jobs.items():\n",
    "        print(\"job_name: \", job_name)\n",
    "        for category in job_data.categories:\n",
    "            print(\"category: \", category.name, category.confidence)"
   ]
  },
  {
   "cell_type": "markdown",
   "id": "7429534b-c927-4b29-aa1d-8a0a8821b162",
   "metadata": {
    "tags": []
   },
   "source": [
    "### Transcription jobs"
   ]
  },
  {
   "attachments": {},
   "cell_type": "markdown",
   "id": "7a26bf29-9fdb-43c4-b25c-48474714fee4",
   "metadata": {},
   "source": [
    "For a transcription job, you can access the label data through the `.text` attribute:"
   ]
  },
  {
   "cell_type": "code",
   "execution_count": null,
   "id": "c549a193-3ccc-4e79-b876-0cc9b381ad6a",
   "metadata": {
    "tags": []
   },
   "outputs": [],
   "source": [
    "json_interface = {\n",
    "    \"jobs\": {\"TRANSCRIPTION_JOB\": {\"mlTask\": \"TRANSCRIPTION\", \"required\": 1, \"isChild\": False}}\n",
    "}\n",
    "\n",
    "dict_label = {\n",
    "    \"jsonResponse\": {\"TRANSCRIPTION_JOB\": {\"text\": \"This is a transcription annotation...\"}}\n",
    "}"
   ]
  },
  {
   "cell_type": "code",
   "execution_count": null,
   "id": "8c34583a-5ee7-4911-8588-fcf6cbde7588",
   "metadata": {
    "tags": []
   },
   "outputs": [],
   "source": [
    "label = ParsedLabel(dict_label, json_interface=json_interface, input_type=\"TEXT\")"
   ]
  },
  {
   "cell_type": "code",
   "execution_count": null,
   "id": "d02e4756-a76f-4485-b475-2a8ab313edf7",
   "metadata": {
    "tags": []
   },
   "outputs": [
    {
     "name": "stdout",
     "output_type": "stream",
     "text": [
      "This is a transcription annotation...\n"
     ]
    }
   ],
   "source": [
    "print(label.jobs[\"TRANSCRIPTION_JOB\"].text)"
   ]
  },
  {
   "cell_type": "markdown",
   "id": "cfe6eef3-6a74-42ea-85a9-a20569ef1174",
   "metadata": {
    "tags": []
   },
   "source": [
    "### Object detection jobs"
   ]
  },
  {
   "cell_type": "markdown",
   "id": "07dce55d-6bd9-40a9-b156-7274beecb7af",
   "metadata": {
    "tags": []
   },
   "source": [
    "#### Standard object detection job"
   ]
  },
  {
   "attachments": {},
   "cell_type": "markdown",
   "id": "81912573-bfae-418c-8d52-b2617ff5a7e1",
   "metadata": {
    "tags": []
   },
   "source": [
    "For standard object detection jobs, a parsed label has an `.annotations` attribute:"
   ]
  },
  {
   "cell_type": "code",
   "execution_count": null,
   "id": "0ac58401-751d-40ba-a5bb-8bb7a387a20e",
   "metadata": {
    "tags": []
   },
   "outputs": [],
   "source": [
    "json_interface = {\n",
    "    \"jobs\": {\n",
    "        \"OBJECT_DETECTION_JOB\": {\n",
    "            \"mlTask\": \"OBJECT_DETECTION\",\n",
    "            \"tools\": [\"rectangle\"],\n",
    "            \"required\": 1,\n",
    "            \"isChild\": False,\n",
    "            \"content\": {\"categories\": {\"A\": {}, \"B\": {}}, \"input\": \"radio\"},\n",
    "        }\n",
    "    }\n",
    "}\n",
    "\n",
    "dict_label = {\n",
    "    \"jsonResponse\": {\n",
    "        \"OBJECT_DETECTION_JOB\": {\n",
    "            \"annotations\": [\n",
    "                {\n",
    "                    \"children\": {},\n",
    "                    \"boundingPoly\": [\n",
    "                        {\n",
    "                            \"normalizedVertices\": [\n",
    "                                {\"x\": 0.54, \"y\": 0.52},\n",
    "                                {\"x\": 0.54, \"y\": 0.33},\n",
    "                                {\"x\": 0.70, \"y\": 0.33},\n",
    "                                {\"x\": 0.70, \"y\": 0.52},\n",
    "                            ]\n",
    "                        }\n",
    "                    ],\n",
    "                    \"categories\": [{\"name\": \"B\"}],\n",
    "                    \"mid\": \"20230315142306286-25528\",\n",
    "                    \"type\": \"rectangle\",\n",
    "                }\n",
    "            ]\n",
    "        }\n",
    "    }\n",
    "}"
   ]
  },
  {
   "cell_type": "code",
   "execution_count": null,
   "id": "155adcee-c6ca-4194-be52-23933c1ce1a7",
   "metadata": {
    "tags": []
   },
   "outputs": [],
   "source": [
    "label = ParsedLabel(dict_label, json_interface=json_interface, input_type=\"IMAGE\")"
   ]
  },
  {
   "cell_type": "code",
   "execution_count": null,
   "id": "a2e1da27-aaf7-4022-85a2-719179a96093",
   "metadata": {
    "tags": []
   },
   "outputs": [
    {
     "name": "stdout",
     "output_type": "stream",
     "text": [
      "B\n"
     ]
    }
   ],
   "source": [
    "print(label.jobs[\"OBJECT_DETECTION_JOB\"].annotations[0].category.name)"
   ]
  },
  {
   "cell_type": "code",
   "execution_count": null,
   "id": "58e294d5-adac-4584-a4d5-07b9b3dc2905",
   "metadata": {
    "tags": []
   },
   "outputs": [
    {
     "name": "stdout",
     "output_type": "stream",
     "text": [
      "rectangle\n"
     ]
    }
   ],
   "source": [
    "print(label.jobs[\"OBJECT_DETECTION_JOB\"].annotations[0].type)"
   ]
  },
  {
   "cell_type": "code",
   "execution_count": null,
   "id": "20af0d11-8d6b-4d53-8a46-4e488b79638e",
   "metadata": {
    "tags": []
   },
   "outputs": [
    {
     "name": "stdout",
     "output_type": "stream",
     "text": [
      "[{'normalizedVertices': [{'x': 0.54, 'y': 0.52}, {'x': 0.54, 'y': 0.33}, {'x': 0.7, 'y': 0.33}, {'x': 0.7, 'y': 0.52}]}]\n"
     ]
    }
   ],
   "source": [
    "print(label.jobs[\"OBJECT_DETECTION_JOB\"].annotations[0].bounding_poly)"
   ]
  },
  {
   "cell_type": "code",
   "execution_count": null,
   "id": "9155b358-d494-408a-b699-ba251b6a451c",
   "metadata": {
    "tags": []
   },
   "outputs": [
    {
     "name": "stdout",
     "output_type": "stream",
     "text": [
      "[{'x': 0.54, 'y': 0.52}, {'x': 0.54, 'y': 0.33}, {'x': 0.7, 'y': 0.33}, {'x': 0.7, 'y': 0.52}]\n"
     ]
    }
   ],
   "source": [
    "print(label.jobs[\"OBJECT_DETECTION_JOB\"].annotations[0].bounding_poly[0].normalized_vertices)"
   ]
  },
  {
   "cell_type": "markdown",
   "id": "0d45a082-5368-415d-8343-d3390d1200b3",
   "metadata": {},
   "source": [
    "The `.bounding_poly_annotations` attribute is equivalent to `.annotations`:"
   ]
  },
  {
   "cell_type": "code",
   "execution_count": null,
   "id": "52cb97dd-e638-4cd3-a82f-ba7a92a313ca",
   "metadata": {
    "tags": []
   },
   "outputs": [
    {
     "name": "stdout",
     "output_type": "stream",
     "text": [
      "True\n"
     ]
    }
   ],
   "source": [
    "print(\n",
    "    label.jobs[\"OBJECT_DETECTION_JOB\"].annotations\n",
    "    == label.jobs[\"OBJECT_DETECTION_JOB\"].bounding_poly_annotations\n",
    ")"
   ]
  },
  {
   "cell_type": "markdown",
   "id": "284f40c3-e228-434c-b0c3-e469391ee36e",
   "metadata": {},
   "source": [
    "#### Point detection jobs"
   ]
  },
  {
   "attachments": {},
   "cell_type": "markdown",
   "id": "b4dec345-db1d-40bb-b0f5-9303f8eb6599",
   "metadata": {},
   "source": [
    "The point coordinates of a point detection label are accessible through the `.point` attribute:"
   ]
  },
  {
   "cell_type": "code",
   "execution_count": null,
   "id": "0151fe12-701c-4d29-a3db-f5bdf1752555",
   "metadata": {
    "tags": []
   },
   "outputs": [],
   "source": [
    "json_interface = {\n",
    "    \"jobs\": {\n",
    "        \"OBJECT_DETECTION_JOB\": {\n",
    "            \"content\": {\n",
    "                \"categories\": {\n",
    "                    \"A\": {\"children\": [], \"color\": \"#472CED\", \"name\": \"A\"},\n",
    "                    \"B\": {\"children\": [], \"name\": \"B\", \"color\": \"#5CE7B7\"},\n",
    "                },\n",
    "                \"input\": \"radio\",\n",
    "            },\n",
    "            \"instruction\": \"Class\",\n",
    "            \"mlTask\": \"OBJECT_DETECTION\",\n",
    "            \"required\": 1,\n",
    "            \"tools\": [\"marker\"],\n",
    "            \"isChild\": False,\n",
    "        }\n",
    "    }\n",
    "}\n",
    "\n",
    "dict_label = {\n",
    "    \"jsonResponse\": {\n",
    "        \"OBJECT_DETECTION_JOB\": {\n",
    "            \"annotations\": [\n",
    "                {\n",
    "                    \"children\": {},\n",
    "                    \"point\": {\"x\": 0.10, \"y\": 0.20},\n",
    "                    \"categories\": [{\"name\": \"A\"}],\n",
    "                    \"mid\": \"20230323113855529-11197\",\n",
    "                    \"type\": \"marker\",\n",
    "                },\n",
    "                {\n",
    "                    \"children\": {},\n",
    "                    \"point\": {\"x\": 0.30, \"y\": 0.40},\n",
    "                    \"categories\": [{\"name\": \"B\"}],\n",
    "                    \"mid\": \"20230323113857016-51829\",\n",
    "                    \"type\": \"marker\",\n",
    "                },\n",
    "            ]\n",
    "        }\n",
    "    }\n",
    "}"
   ]
  },
  {
   "cell_type": "code",
   "execution_count": null,
   "id": "d8030a8f-20b0-47e9-aa56-64ac7b529ccf",
   "metadata": {
    "tags": []
   },
   "outputs": [],
   "source": [
    "label = ParsedLabel(dict_label, json_interface=json_interface, input_type=\"IMAGE\")"
   ]
  },
  {
   "cell_type": "code",
   "execution_count": null,
   "id": "42b1e4f1-9279-42cd-8192-f704a083b351",
   "metadata": {
    "tags": []
   },
   "outputs": [
    {
     "name": "stdout",
     "output_type": "stream",
     "text": [
      "marker\n"
     ]
    }
   ],
   "source": [
    "print(label.jobs[\"OBJECT_DETECTION_JOB\"].annotations[1].type)"
   ]
  },
  {
   "cell_type": "code",
   "execution_count": null,
   "id": "f6c0aebf-c3a0-4774-84c6-81b8fe367201",
   "metadata": {
    "tags": []
   },
   "outputs": [
    {
     "name": "stdout",
     "output_type": "stream",
     "text": [
      "{'x': 0.3, 'y': 0.4}\n"
     ]
    }
   ],
   "source": [
    "print(label.jobs[\"OBJECT_DETECTION_JOB\"].annotations[1].point)"
   ]
  },
  {
   "cell_type": "code",
   "execution_count": null,
   "id": "eeb6c38b-b803-4fce-9554-99b8b1598071",
   "metadata": {
    "tags": []
   },
   "outputs": [
    {
     "name": "stdout",
     "output_type": "stream",
     "text": [
      "B\n"
     ]
    }
   ],
   "source": [
    "print(label.jobs[\"OBJECT_DETECTION_JOB\"].annotations[1].category.name)"
   ]
  },
  {
   "cell_type": "markdown",
   "id": "43ecf657-e204-4fae-b1e0-70602bd71e76",
   "metadata": {},
   "source": [
    "#### Line detection jobs"
   ]
  },
  {
   "cell_type": "markdown",
   "id": "1da194b6-084d-4f0a-8126-7fa9e027524b",
   "metadata": {},
   "source": [
    "A polyline parsed label has a `.polyline` attribute."
   ]
  },
  {
   "cell_type": "code",
   "execution_count": null,
   "id": "c88096f2-94bc-4966-be48-c70e8f3c5e64",
   "metadata": {
    "tags": []
   },
   "outputs": [],
   "source": [
    "json_interface = {\n",
    "    \"jobs\": {\n",
    "        \"OBJECT_DETECTION_JOB\": {\n",
    "            \"content\": {\n",
    "                \"categories\": {\n",
    "                    \"A\": {\"children\": [], \"color\": \"#472CED\", \"name\": \"A\"},\n",
    "                    \"B\": {\"children\": [], \"name\": \"B\", \"color\": \"#5CE7B7\"},\n",
    "                },\n",
    "                \"input\": \"radio\",\n",
    "            },\n",
    "            \"instruction\": \"Job name\",\n",
    "            \"mlTask\": \"OBJECT_DETECTION\",\n",
    "            \"required\": 1,\n",
    "            \"tools\": [\"polyline\"],\n",
    "            \"isChild\": False,\n",
    "        }\n",
    "    }\n",
    "}\n",
    "\n",
    "dict_label = {\n",
    "    \"jsonResponse\": {\n",
    "        \"OBJECT_DETECTION_JOB\": {\n",
    "            \"annotations\": [\n",
    "                {\n",
    "                    \"children\": {},\n",
    "                    \"polyline\": [{\"x\": 0.59, \"y\": 0.40}, {\"x\": 0.25, \"y\": 0.30}],\n",
    "                    \"categories\": [{\"name\": \"A\"}],\n",
    "                    \"mid\": \"20230428163557647-23000\",\n",
    "                    \"type\": \"polyline\",\n",
    "                },\n",
    "                {\n",
    "                    \"children\": {},\n",
    "                    \"polyline\": [{\"x\": 0.70, \"y\": 0.50}, {\"x\": 0.40, \"y\": 0.70}],\n",
    "                    \"categories\": [{\"name\": \"B\"}],\n",
    "                    \"mid\": \"20230428163606237-86143\",\n",
    "                    \"type\": \"polyline\",\n",
    "                },\n",
    "            ]\n",
    "        }\n",
    "    }\n",
    "}"
   ]
  },
  {
   "cell_type": "code",
   "execution_count": null,
   "id": "7349a8c7-0a5c-4b29-8f70-79522d838a7a",
   "metadata": {
    "tags": []
   },
   "outputs": [],
   "source": [
    "label = ParsedLabel(dict_label, json_interface=json_interface, input_type=\"IMAGE\")"
   ]
  },
  {
   "cell_type": "code",
   "execution_count": null,
   "id": "047c17a4-3b62-418f-9cd6-29f69bdf69da",
   "metadata": {
    "tags": []
   },
   "outputs": [
    {
     "name": "stdout",
     "output_type": "stream",
     "text": [
      "2\n"
     ]
    }
   ],
   "source": [
    "print(len(label.jobs[\"OBJECT_DETECTION_JOB\"].annotations))"
   ]
  },
  {
   "cell_type": "code",
   "execution_count": null,
   "id": "29a76e4b-b2ba-45bb-8565-59cdb00b459d",
   "metadata": {
    "tags": []
   },
   "outputs": [
    {
     "name": "stdout",
     "output_type": "stream",
     "text": [
      "A\n"
     ]
    }
   ],
   "source": [
    "print(label.jobs[\"OBJECT_DETECTION_JOB\"].annotations[0].category.name)"
   ]
  },
  {
   "cell_type": "code",
   "execution_count": null,
   "id": "85a075e1-7c16-48a6-bca5-698945f3c8d7",
   "metadata": {
    "tags": []
   },
   "outputs": [
    {
     "name": "stdout",
     "output_type": "stream",
     "text": [
      "[{'x': 0.59, 'y': 0.4}, {'x': 0.25, 'y': 0.3}]\n"
     ]
    }
   ],
   "source": [
    "print(label.jobs[\"OBJECT_DETECTION_JOB\"].annotations[0].polyline)"
   ]
  },
  {
   "cell_type": "markdown",
   "id": "7886c411-c8e0-4928-b061-4ddade569ab8",
   "metadata": {},
   "source": [
    "#### Pose estimation jobs"
   ]
  },
  {
   "attachments": {},
   "cell_type": "markdown",
   "id": "ee08dc34-935f-4bd8-8059-d964c1d0139a",
   "metadata": {},
   "source": [
    "A pose estimation parsed label annotation has a `.points` attribute that returns the list of points that make up the annotation.\n",
    "\n",
    "Read more about pose estimation json response in the [documentation](https://docs.kili-technology.com/reference/export-object-entity-detection-and-relation#pose-estimation)."
   ]
  },
  {
   "cell_type": "code",
   "execution_count": null,
   "id": "2bb41c14-9e7d-4ab5-93fe-3a179eaa326b",
   "metadata": {
    "tags": []
   },
   "outputs": [],
   "source": [
    "json_interface = {\n",
    "    \"jobs\": {\n",
    "        \"JOB_0\": {\n",
    "            \"content\": {\n",
    "                \"categories\": {\n",
    "                    \"HEAD\": {\n",
    "                        \"children\": [],\n",
    "                        \"name\": \"Head\",\n",
    "                        \"color\": \"#733AFB\",\n",
    "                        \"points\": [\n",
    "                            {\"code\": \"RIGHT_EARBASE\", \"name\": \"Right earbase\"},\n",
    "                            {\"code\": \"RIGHT_EYE\", \"name\": \"Right eye\"},\n",
    "                            {\"code\": \"NOSE\", \"name\": \"Nose\"},\n",
    "                            {\"code\": \"LEFT_EYE\", \"name\": \"Left eye\"},\n",
    "                            {\"code\": \"LEFT_EARBASE\", \"name\": \"Left earbase\"},\n",
    "                        ],\n",
    "                    },\n",
    "                    \"BODY\": {\n",
    "                        \"children\": [],\n",
    "                        \"name\": \"Body\",\n",
    "                        \"color\": \"#3CD876\",\n",
    "                        \"points\": [\n",
    "                            {\"code\": \"THROAT\", \"name\": \"Throat\"},\n",
    "                            {\"code\": \"WITHERS\", \"name\": \"Withers\"},\n",
    "                            {\"code\": \"TAILBASE\", \"name\": \"Tailbase\"},\n",
    "                        ],\n",
    "                    },\n",
    "                    \"FRONT_RIGHT_LEG\": {\n",
    "                        \"children\": [],\n",
    "                        \"name\": \"Front right leg\",\n",
    "                        \"color\": \"#3BCADB\",\n",
    "                        \"points\": [\n",
    "                            {\"code\": \"PAW\", \"name\": \"Paw\"},\n",
    "                            {\"code\": \"KNEE\", \"name\": \"Knee\"},\n",
    "                            {\"code\": \"ELBOW\", \"name\": \"Elbow\"},\n",
    "                        ],\n",
    "                    },\n",
    "                    \"FRONT_LEFT_LEG\": {\n",
    "                        \"children\": [],\n",
    "                        \"name\": \"Front left leg\",\n",
    "                        \"color\": \"#199CFC\",\n",
    "                        \"points\": [\n",
    "                            {\"code\": \"PAW\", \"name\": \"Paw\"},\n",
    "                            {\"code\": \"KNEE\", \"name\": \"Knee\"},\n",
    "                            {\"code\": \"ELBOW\", \"name\": \"Elbow\"},\n",
    "                        ],\n",
    "                    },\n",
    "                    \"BACK_RIGHT_LEG\": {\n",
    "                        \"children\": [],\n",
    "                        \"name\": \"Back right leg\",\n",
    "                        \"color\": \"#FA484A\",\n",
    "                        \"points\": [\n",
    "                            {\"code\": \"PAW\", \"name\": \"Paw\"},\n",
    "                            {\"code\": \"KNEE\", \"name\": \"Knee\"},\n",
    "                            {\"code\": \"ELBOW\", \"name\": \"Elbow\"},\n",
    "                        ],\n",
    "                    },\n",
    "                    \"BACK_LEFT_LEG\": {\n",
    "                        \"children\": [],\n",
    "                        \"name\": \"Back left leg\",\n",
    "                        \"color\": \"#ECB82A\",\n",
    "                        \"points\": [\n",
    "                            {\"code\": \"PAW\", \"name\": \"Paw\"},\n",
    "                            {\"code\": \"KNEE\", \"name\": \"Knee\"},\n",
    "                            {\"code\": \"ELBOW\", \"name\": \"Elbow\"},\n",
    "                        ],\n",
    "                    },\n",
    "                },\n",
    "                \"input\": \"radio\",\n",
    "            },\n",
    "            \"instruction\": \"Body parts from the animal point of view\",\n",
    "            \"isChild\": False,\n",
    "            \"tools\": [\"pose\"],\n",
    "            \"mlTask\": \"OBJECT_DETECTION\",\n",
    "            \"models\": {},\n",
    "            \"isVisible\": True,\n",
    "            \"required\": 0,\n",
    "        }\n",
    "    }\n",
    "}\n",
    "\n",
    "dict_label = {\n",
    "    \"jsonResponse\": {\n",
    "        \"JOB_0\": {\n",
    "            \"annotations\": [\n",
    "                {\n",
    "                    \"categories\": [{\"name\": \"HEAD\"}],\n",
    "                    \"children\": {},\n",
    "                    \"mid\": \"20230220175803297-40094\",\n",
    "                    \"points\": [\n",
    "                        {\n",
    "                            \"children\": {},\n",
    "                            \"code\": \"RIGHT_EARBASE\",\n",
    "                            \"mid\": \"20230220170039711-76095\",\n",
    "                            \"point\": {\"x\": 0.350897302238901, \"y\": 0.18537832978498114},\n",
    "                            \"type\": \"marker\",\n",
    "                        },\n",
    "                        {\n",
    "                            \"children\": {},\n",
    "                            \"code\": \"RIGHT_EYE\",\n",
    "                            \"mid\": \"20230220170039711-75233\",\n",
    "                            \"point\": {\"x\": 0.3581081932428414, \"y\": 0.2305347416594279},\n",
    "                            \"type\": \"marker\",\n",
    "                        },\n",
    "                        {\n",
    "                            \"children\": {},\n",
    "                            \"code\": \"NOSE\",\n",
    "                            \"mid\": \"20230220170039711-59132\",\n",
    "                            \"point\": {\"x\": 0.38815357242592613, \"y\": 0.32807259130823285},\n",
    "                            \"type\": \"marker\",\n",
    "                        },\n",
    "                        {\n",
    "                            \"children\": {},\n",
    "                            \"code\": \"LEFT_EYE\",\n",
    "                            \"mid\": \"20230220170039711-27852\",\n",
    "                            \"point\": {\"x\": 0.4386476019456967, \"y\": 0.23889914422760516},\n",
    "                            \"type\": \"marker\",\n",
    "                        },\n",
    "                        {\n",
    "                            \"children\": {},\n",
    "                            \"code\": \"LEFT_EARBASE\",\n",
    "                            \"mid\": \"20230220170039711-40802\",\n",
    "                            \"point\": {\"x\": 0.46187314422288966, \"y\": 0.1875659030559057},\n",
    "                            \"type\": \"marker\",\n",
    "                        },\n",
    "                    ],\n",
    "                    \"type\": \"pose\",\n",
    "                },\n",
    "                {\n",
    "                    \"categories\": [{\"name\": \"BODY\"}],\n",
    "                    \"children\": {},\n",
    "                    \"mid\": \"20230220175812521-86245\",\n",
    "                    \"points\": [\n",
    "                        {\n",
    "                            \"children\": {},\n",
    "                            \"code\": \"THROAT\",\n",
    "                            \"mid\": \"20230220170039712-55565\",\n",
    "                            \"point\": {\"x\": 0.41045627160921705, \"y\": 0.3819115257598137},\n",
    "                            \"type\": \"marker\",\n",
    "                        },\n",
    "                        {\n",
    "                            \"children\": {},\n",
    "                            \"code\": \"WITHERS\",\n",
    "                            \"mid\": \"20230220170039712-92408\",\n",
    "                            \"point\": {\"x\": 0.4818714352479842, \"y\": 0.2536057346999746},\n",
    "                            \"type\": \"marker\",\n",
    "                        },\n",
    "                        {\n",
    "                            \"children\": {},\n",
    "                            \"code\": \"TAILBASE\",\n",
    "                            \"mid\": \"20230220170039712-18390\",\n",
    "                            \"point\": {\"x\": 0.6107470753777133, \"y\": 0.17341461528757518},\n",
    "                            \"type\": \"marker\",\n",
    "                        },\n",
    "                    ],\n",
    "                    \"type\": \"pose\",\n",
    "                },\n",
    "                {\n",
    "                    \"categories\": [{\"name\": \"FRONT_RIGHT_LEG\"}],\n",
    "                    \"children\": {},\n",
    "                    \"mid\": \"20230220175821453-77849\",\n",
    "                    \"points\": [\n",
    "                        {\n",
    "                            \"children\": {},\n",
    "                            \"code\": \"PAW\",\n",
    "                            \"mid\": \"20230220170039712-77846\",\n",
    "                            \"point\": {\"x\": 0.3776217136143816, \"y\": 0.9050043662345423},\n",
    "                            \"type\": \"marker\",\n",
    "                        },\n",
    "                        {\n",
    "                            \"children\": {},\n",
    "                            \"code\": \"KNEE\",\n",
    "                            \"mid\": \"20230220170039712-53563\",\n",
    "                            \"point\": {\"x\": 0.4014267681606373, \"y\": 0.7026760034094114},\n",
    "                            \"type\": \"marker\",\n",
    "                        },\n",
    "                        {\n",
    "                            \"children\": {},\n",
    "                            \"code\": \"ELBOW\",\n",
    "                            \"mid\": \"20230220170039712-78929\",\n",
    "                            \"point\": {\"x\": 0.3907555368123158, \"y\": 0.5151521549373389},\n",
    "                            \"type\": \"marker\",\n",
    "                        },\n",
    "                    ],\n",
    "                    \"type\": \"pose\",\n",
    "                },\n",
    "                {\n",
    "                    \"categories\": [{\"name\": \"FRONT_LEFT_LEG\"}],\n",
    "                    \"children\": {},\n",
    "                    \"mid\": \"20230220175828920-37602\",\n",
    "                    \"points\": [\n",
    "                        {\n",
    "                            \"children\": {},\n",
    "                            \"code\": \"PAW\",\n",
    "                            \"mid\": \"20230220170039712-72948\",\n",
    "                            \"point\": {\"x\": 0.46873761205005, \"y\": 0.9148740424699144},\n",
    "                            \"type\": \"marker\",\n",
    "                        },\n",
    "                        {\n",
    "                            \"children\": {},\n",
    "                            \"code\": \"KNEE\",\n",
    "                            \"mid\": \"20230220170039712-67331\",\n",
    "                            \"point\": {\"x\": 0.4695584759999209, \"y\": 0.703909712938833},\n",
    "                            \"type\": \"marker\",\n",
    "                        },\n",
    "                        {\n",
    "                            \"children\": {},\n",
    "                            \"code\": \"ELBOW\",\n",
    "                            \"mid\": \"20230220170039712-86687\",\n",
    "                            \"point\": {\"x\": 0.4958261223957892, \"y\": 0.541060055055191},\n",
    "                            \"type\": \"marker\",\n",
    "                        },\n",
    "                    ],\n",
    "                    \"type\": \"pose\",\n",
    "                },\n",
    "                {\n",
    "                    \"categories\": [{\"name\": \"BACK_RIGHT_LEG\"}],\n",
    "                    \"children\": {},\n",
    "                    \"mid\": \"20230220175834605-4761\",\n",
    "                    \"points\": [\n",
    "                        {\n",
    "                            \"children\": {},\n",
    "                            \"code\": \"PAW\",\n",
    "                            \"mid\": \"20230220170039712-95942\",\n",
    "                            \"point\": {\"x\": 0.5303024082903665, \"y\": 0.7470895464685865},\n",
    "                            \"type\": \"marker\",\n",
    "                        },\n",
    "                        {\n",
    "                            \"children\": {},\n",
    "                            \"code\": \"KNEE\",\n",
    "                            \"mid\": \"20230220170039712-89543\",\n",
    "                            \"point\": {\"x\": 0.5623755076892811, \"y\": 0.5105044952809976},\n",
    "                            \"type\": \"marker\",\n",
    "                        },\n",
    "                        {\n",
    "                            \"children\": {},\n",
    "                            \"code\": \"ELBOW\",\n",
    "                            \"mid\": \"20230220170039712-61950\",\n",
    "                            \"point\": {\"x\": 0.5359355740081666, \"y\": 0.4003228503073476},\n",
    "                            \"type\": \"marker\",\n",
    "                        },\n",
    "                    ],\n",
    "                    \"type\": \"pose\",\n",
    "                },\n",
    "                {\n",
    "                    \"categories\": [{\"name\": \"BACK_LEFT_LEG\"}],\n",
    "                    \"children\": {},\n",
    "                    \"mid\": \"20230220175849088-95977\",\n",
    "                    \"points\": [\n",
    "                        {\n",
    "                            \"children\": {},\n",
    "                            \"code\": \"PAW\",\n",
    "                            \"mid\": \"20230220170039712-40305\",\n",
    "                            \"point\": {\"x\": 0.6741443182503564, \"y\": 0.7362865546532311},\n",
    "                            \"type\": \"marker\",\n",
    "                        },\n",
    "                        {\n",
    "                            \"children\": {},\n",
    "                            \"code\": \"KNEE\",\n",
    "                            \"mid\": \"20230220170039712-36409\",\n",
    "                            \"point\": {\"x\": 0.6753461334176798, \"y\": 0.49605444348117467},\n",
    "                            \"type\": \"marker\",\n",
    "                        },\n",
    "                        {\n",
    "                            \"children\": {},\n",
    "                            \"code\": \"ELBOW\",\n",
    "                            \"mid\": \"20230220170039712-60395\",\n",
    "                            \"point\": {\"x\": 0.6380898632306548, \"y\": 0.38045402908259107},\n",
    "                            \"type\": \"marker\",\n",
    "                        },\n",
    "                    ],\n",
    "                    \"type\": \"pose\",\n",
    "                },\n",
    "            ]\n",
    "        }\n",
    "    }\n",
    "}"
   ]
  },
  {
   "cell_type": "code",
   "execution_count": null,
   "id": "1793d3dd-a0b2-4458-ac29-9b1fb49e2171",
   "metadata": {
    "tags": []
   },
   "outputs": [],
   "source": [
    "label = ParsedLabel(dict_label, json_interface=json_interface, input_type=\"IMAGE\")"
   ]
  },
  {
   "cell_type": "code",
   "execution_count": null,
   "id": "6c752ffa-df89-4169-a690-192013569b4f",
   "metadata": {
    "tags": []
   },
   "outputs": [
    {
     "name": "stdout",
     "output_type": "stream",
     "text": [
      "['JOB_0']\n"
     ]
    }
   ],
   "source": [
    "print(list(label.jobs.keys()))"
   ]
  },
  {
   "cell_type": "code",
   "execution_count": null,
   "id": "eb65f92d-f328-4b32-a32c-e32f88a189db",
   "metadata": {
    "tags": []
   },
   "outputs": [
    {
     "name": "stdout",
     "output_type": "stream",
     "text": [
      "{'name': 'HEAD'}\n"
     ]
    }
   ],
   "source": [
    "print(label.jobs[\"JOB_0\"].annotations[0].category)"
   ]
  },
  {
   "cell_type": "code",
   "execution_count": null,
   "id": "0a91fc47-50d3-466b-a398-115892bc67a7",
   "metadata": {
    "tags": []
   },
   "outputs": [
    {
     "name": "stdout",
     "output_type": "stream",
     "text": [
      "Number of points in this annotation:  5\n"
     ]
    }
   ],
   "source": [
    "print(\"Number of points in this annotation: \", len(label.jobs[\"JOB_0\"].annotations[0].points))"
   ]
  },
  {
   "cell_type": "code",
   "execution_count": null,
   "id": "5d6a5ff7-d38c-4729-8255-d87b67b896ab",
   "metadata": {
    "tags": []
   },
   "outputs": [
    {
     "name": "stdout",
     "output_type": "stream",
     "text": [
      "RIGHT_EARBASE {'x': 0.350897302238901, 'y': 0.18537832978498114}\n",
      "RIGHT_EYE {'x': 0.3581081932428414, 'y': 0.2305347416594279}\n",
      "NOSE {'x': 0.38815357242592613, 'y': 0.32807259130823285}\n",
      "LEFT_EYE {'x': 0.4386476019456967, 'y': 0.23889914422760516}\n",
      "LEFT_EARBASE {'x': 0.46187314422288966, 'y': 0.1875659030559057}\n"
     ]
    }
   ],
   "source": [
    "for point in label.jobs[\"JOB_0\"].annotations[0].points:\n",
    "    print(point.code, point.point)"
   ]
  },
  {
   "cell_type": "markdown",
   "id": "de1e1079-fc62-487b-90c9-959311ee1575",
   "metadata": {},
   "source": [
    "### Video jobs"
   ]
  },
  {
   "cell_type": "markdown",
   "id": "4bcc7595-59e8-4b4a-83f3-6970f9bdb991",
   "metadata": {},
   "source": [
    "A video label has an additional attribute `.frames` that returns the annotations for each frame."
   ]
  },
  {
   "cell_type": "code",
   "execution_count": null,
   "id": "0841f402-c23b-4f52-b924-f1d8719af31a",
   "metadata": {
    "tags": []
   },
   "outputs": [],
   "source": [
    "json_interface = {\n",
    "    \"jobs\": {\n",
    "        \"FRAME_CLASSIF_JOB\": {\n",
    "            \"content\": {\n",
    "                \"categories\": {\n",
    "                    \"OBJECT_A\": {\"children\": [], \"name\": \"Object A\"},\n",
    "                    \"OBJECT_B\": {\"children\": [], \"name\": \"Object B\"},\n",
    "                },\n",
    "                \"input\": \"radio\",\n",
    "            },\n",
    "            \"instruction\": \"Categories\",\n",
    "            \"isChild\": False,\n",
    "            \"mlTask\": \"CLASSIFICATION\",\n",
    "            \"models\": {},\n",
    "            \"isVisible\": False,\n",
    "            \"required\": 1,\n",
    "        }\n",
    "    }\n",
    "}\n",
    "\n",
    "dict_label = {\n",
    "    \"jsonResponse\": {\n",
    "        \"0\": {},\n",
    "        \"1\": {},\n",
    "        \"2\": {},\n",
    "        \"3\": {},\n",
    "        \"4\": {},\n",
    "        \"5\": {\n",
    "            \"FRAME_CLASSIF_JOB\": {\n",
    "                \"categories\": [{\"confidence\": 100, \"name\": \"OBJECT_A\"}],\n",
    "                \"isKeyFrame\": True,\n",
    "                \"annotations\": [],\n",
    "            }\n",
    "        },\n",
    "        \"6\": {\n",
    "            \"FRAME_CLASSIF_JOB\": {\n",
    "                \"categories\": [{\"confidence\": 42, \"name\": \"OBJECT_B\"}],\n",
    "                \"isKeyFrame\": False,\n",
    "                \"annotations\": [],\n",
    "            }\n",
    "        },\n",
    "        \"7\": {},\n",
    "        \"8\": {},\n",
    "    }\n",
    "}"
   ]
  },
  {
   "cell_type": "code",
   "execution_count": null,
   "id": "cb70a788-e227-4dd4-a940-fb5a27f0b695",
   "metadata": {
    "tags": []
   },
   "outputs": [],
   "source": [
    "label = ParsedLabel(dict_label, json_interface=json_interface, input_type=\"VIDEO\")"
   ]
  },
  {
   "cell_type": "code",
   "execution_count": null,
   "id": "1e4f091c-4d12-4a33-97da-b506833df73f",
   "metadata": {
    "tags": []
   },
   "outputs": [
    {
     "name": "stdout",
     "output_type": "stream",
     "text": [
      "Frame 0: {}\n",
      "Frame 1: {}\n",
      "Frame 2: {}\n",
      "Frame 3: {}\n",
      "Frame 4: {}\n",
      "Frame 5: {'isKeyFrame': True, 'categories': [{'name': 'OBJECT_A', 'confidence': 100}], 'annotations': []}\n",
      "Frame 6: {'isKeyFrame': False, 'categories': [{'name': 'OBJECT_B', 'confidence': 42}], 'annotations': []}\n",
      "Frame 7: {}\n",
      "Frame 8: {}\n"
     ]
    }
   ],
   "source": [
    "for i, frame_annotations in enumerate(label.jobs[\"FRAME_CLASSIF_JOB\"].frames):\n",
    "    print(f\"Frame {i}: {frame_annotations}\")"
   ]
  },
  {
   "cell_type": "code",
   "execution_count": null,
   "id": "7df4a886-0ff1-44ac-93bf-e0a865c099b2",
   "metadata": {
    "tags": []
   },
   "outputs": [],
   "source": [
    "frame = label.jobs[\"FRAME_CLASSIF_JOB\"].frames[5]"
   ]
  },
  {
   "cell_type": "code",
   "execution_count": null,
   "id": "a99137d0-4afa-4dc1-8a20-a1689804864c",
   "metadata": {
    "tags": []
   },
   "outputs": [
    {
     "name": "stdout",
     "output_type": "stream",
     "text": [
      "OBJECT_A\n"
     ]
    }
   ],
   "source": [
    "print(frame.category.name)"
   ]
  },
  {
   "cell_type": "markdown",
   "id": "387b05de-39d4-42d3-a7d6-9838990e24aa",
   "metadata": {},
   "source": [
    "The syntax is similar for object detection jobs on video:"
   ]
  },
  {
   "cell_type": "code",
   "execution_count": null,
   "id": "2e4a8411-6a8a-4617-931e-84b44a8332c1",
   "metadata": {
    "tags": []
   },
   "outputs": [],
   "source": [
    "json_interface = {\n",
    "    \"jobs\": {\n",
    "        \"JOB_0\": {\n",
    "            \"content\": {\n",
    "                \"categories\": {\n",
    "                    \"OBJECT_A\": {\"children\": [], \"name\": \"Train\", \"color\": \"#733AFB\"},\n",
    "                    \"OBJECT_B\": {\"children\": [], \"name\": \"Car\", \"color\": \"#3CD876\"},\n",
    "                },\n",
    "                \"input\": \"radio\",\n",
    "            },\n",
    "            \"instruction\": \"Track objects A and B\",\n",
    "            \"isChild\": False,\n",
    "            \"tools\": [\"rectangle\"],\n",
    "            \"mlTask\": \"OBJECT_DETECTION\",\n",
    "            \"models\": {\"tracking\": {}},\n",
    "            \"isVisible\": True,\n",
    "            \"required\": 0,\n",
    "        }\n",
    "    }\n",
    "}\n",
    "\n",
    "dict_label = {\n",
    "    \"jsonResponse\": {\n",
    "        \"0\": {},\n",
    "        \"1\": {\n",
    "            \"JOB_0\": {\n",
    "                \"annotations\": [\n",
    "                    {\n",
    "                        \"children\": {},\n",
    "                        \"boundingPoly\": [\n",
    "                            {\n",
    "                                \"normalizedVertices\": [\n",
    "                                    {\"x\": 0.30, \"y\": 0.63},\n",
    "                                    {\"x\": 0.30, \"y\": 0.55},\n",
    "                                    {\"x\": 0.36, \"y\": 0.55},\n",
    "                                    {\"x\": 0.36, \"y\": 0.63},\n",
    "                                ]\n",
    "                            }\n",
    "                        ],\n",
    "                        \"categories\": [{\"name\": \"OBJECT_B\"}],\n",
    "                        \"mid\": \"20230407140827577-43802\",\n",
    "                        \"type\": \"rectangle\",\n",
    "                        \"isKeyFrame\": True,\n",
    "                    }\n",
    "                ]\n",
    "            }\n",
    "        },\n",
    "    }\n",
    "}"
   ]
  },
  {
   "cell_type": "code",
   "execution_count": null,
   "id": "a824fb14-aaf8-494f-8df4-97d91e1cc192",
   "metadata": {
    "tags": []
   },
   "outputs": [],
   "source": [
    "label = ParsedLabel(dict_label, json_interface=json_interface, input_type=\"VIDEO\")"
   ]
  },
  {
   "cell_type": "code",
   "execution_count": null,
   "id": "aa439899-bee6-4005-9e8e-dbffd942dd87",
   "metadata": {
    "tags": []
   },
   "outputs": [
    {
     "name": "stdout",
     "output_type": "stream",
     "text": [
      "OBJECT_B\n"
     ]
    }
   ],
   "source": [
    "print(label.jobs[\"JOB_0\"].frames[1].annotations[0].category.name)"
   ]
  },
  {
   "cell_type": "markdown",
   "id": "aaf3db05-978e-4702-86f0-2bb92107bf52",
   "metadata": {
    "tags": []
   },
   "source": [
    "### Named entities recognition jobs"
   ]
  },
  {
   "cell_type": "markdown",
   "id": "aae66133-c3cc-41ef-9b69-2e3ae21a5b5d",
   "metadata": {},
   "source": [
    "For NER jobs, the content of the job reponse is a list of annotations.\n",
    "\n",
    "Those annotations can be accessed through the `.annotations` or `.entity_annotations` attributes."
   ]
  },
  {
   "cell_type": "code",
   "execution_count": null,
   "id": "5b2a56de-182c-45c0-a19b-afe456a15067",
   "metadata": {
    "tags": []
   },
   "outputs": [],
   "source": [
    "json_interface = {\n",
    "    \"jobs\": {\n",
    "        \"NER_JOB\": {\n",
    "            \"mlTask\": \"NAMED_ENTITIES_RECOGNITION\",\n",
    "            \"required\": 1,\n",
    "            \"isChild\": False,\n",
    "            \"content\": {\n",
    "                \"categories\": {\"ORG\": {}, \"PERSON\": {}},\n",
    "                \"input\": \"radio\",\n",
    "            },\n",
    "        }\n",
    "    }\n",
    "}\n",
    "dict_label = {\n",
    "    \"jsonResponse\": {\n",
    "        \"NER_JOB\": {\n",
    "            \"annotations\": [\n",
    "                {\n",
    "                    \"categories\": [{\"name\": \"ORG\", \"confidence\": 42}],\n",
    "                    \"beginOffset\": 21,\n",
    "                    \"content\": \"this is the text for Kili\",\n",
    "                    \"mid\": \"mid_a\",\n",
    "                },\n",
    "                {\n",
    "                    \"categories\": [{\"name\": \"PERSON\", \"confidence\": 100}],\n",
    "                    \"beginOffset\": 8,\n",
    "                    \"content\": \"this is Toto's text\",\n",
    "                    \"mid\": \"mid_b\",\n",
    "                },\n",
    "            ]\n",
    "        }\n",
    "    }\n",
    "}"
   ]
  },
  {
   "cell_type": "code",
   "execution_count": null,
   "id": "babf4283-848e-4b0d-885b-3dcf859f8435",
   "metadata": {
    "tags": []
   },
   "outputs": [],
   "source": [
    "label = ParsedLabel(dict_label, json_interface=json_interface, input_type=\"TEXT\")"
   ]
  },
  {
   "cell_type": "code",
   "execution_count": null,
   "id": "49fc06dc-268c-40bc-ba1b-a36a4c633be7",
   "metadata": {
    "tags": []
   },
   "outputs": [
    {
     "name": "stdout",
     "output_type": "stream",
     "text": [
      "Number of annotations in this label:  2\n"
     ]
    }
   ],
   "source": [
    "print(\"Number of annotations in this label: \", len(label.jobs[\"NER_JOB\"].annotations))"
   ]
  },
  {
   "cell_type": "code",
   "execution_count": null,
   "id": "c251c512",
   "metadata": {},
   "outputs": [
    {
     "name": "stdout",
     "output_type": "stream",
     "text": [
      "True\n"
     ]
    }
   ],
   "source": [
    "print(label.jobs[\"NER_JOB\"].annotations == label.jobs[\"NER_JOB\"].entity_annotations)"
   ]
  },
  {
   "cell_type": "code",
   "execution_count": null,
   "id": "98007110-ef20-4583-a752-5275dfd7da7a",
   "metadata": {
    "tags": []
   },
   "outputs": [
    {
     "name": "stdout",
     "output_type": "stream",
     "text": [
      "{'name': 'ORG', 'confidence': 42}\n"
     ]
    }
   ],
   "source": [
    "print(label.jobs[\"NER_JOB\"].annotations[0].category)"
   ]
  },
  {
   "cell_type": "code",
   "execution_count": null,
   "id": "79c32d9a-5211-4a81-8268-7131e8685cde",
   "metadata": {
    "tags": []
   },
   "outputs": [
    {
     "name": "stdout",
     "output_type": "stream",
     "text": [
      "21\n"
     ]
    }
   ],
   "source": [
    "print(label.jobs[\"NER_JOB\"].annotations[0].begin_offset)"
   ]
  },
  {
   "cell_type": "code",
   "execution_count": null,
   "id": "51cac713-8fcd-4ed0-99c5-c8ad872fc0ce",
   "metadata": {
    "tags": []
   },
   "outputs": [
    {
     "name": "stdout",
     "output_type": "stream",
     "text": [
      "this is the text for Kili\n"
     ]
    }
   ],
   "source": [
    "print(label.jobs[\"NER_JOB\"].annotations[0].content)"
   ]
  },
  {
   "cell_type": "code",
   "execution_count": null,
   "id": "7855c824-a0c6-4c2c-bcf9-fc39804e692f",
   "metadata": {
    "tags": []
   },
   "outputs": [
    {
     "name": "stdout",
     "output_type": "stream",
     "text": [
      "mid_a\n"
     ]
    }
   ],
   "source": [
    "print(label.jobs[\"NER_JOB\"].annotations[0].mid)"
   ]
  },
  {
   "cell_type": "markdown",
   "id": "b43010c8-da9c-4c52-9b2f-9768698c6c93",
   "metadata": {},
   "source": [
    "It is also possible to iterate over the annotations of this label:"
   ]
  },
  {
   "cell_type": "code",
   "execution_count": null,
   "id": "fb58179f-6148-4e6b-a9cd-d06d49f00b5f",
   "metadata": {
    "tags": []
   },
   "outputs": [
    {
     "name": "stdout",
     "output_type": "stream",
     "text": [
      "{'categories': [{'name': 'ORG', 'confidence': 42}], 'beginOffset': 21, 'content': 'this is the text for Kili', 'mid': 'mid_a'}\n",
      "{'categories': [{'name': 'PERSON', 'confidence': 100}], 'beginOffset': 8, 'content': \"this is Toto's text\", 'mid': 'mid_b'}\n"
     ]
    }
   ],
   "source": [
    "for annotation in label.jobs[\"NER_JOB\"].annotations:\n",
    "    print(annotation)"
   ]
  },
  {
   "cell_type": "markdown",
   "id": "c4f34eb1-9fc6-48be-8630-d61c5864da42",
   "metadata": {},
   "source": [
    "### Named entities recognition in PDF jobs"
   ]
  },
  {
   "attachments": {},
   "cell_type": "markdown",
   "id": "b5a224d8",
   "metadata": {},
   "source": [
    "For PDF assets, a parsed NER label has a few additional attributes such as `.page_number_array` and `.polys`.\n",
    "\n",
    "The description of those attributes can be found in the [documentation](https://docs.kili-technology.com/reference/export-object-entity-detection-and-relation#ner-in-pdfs)."
   ]
  },
  {
   "cell_type": "code",
   "execution_count": null,
   "id": "6db4377f-8156-4852-8a37-b073bb1e12ac",
   "metadata": {
    "tags": []
   },
   "outputs": [],
   "source": [
    "json_interface = {\n",
    "    \"jobs\": {\n",
    "        \"NAMED_ENTITIES_RECOGNITION_JOB\": {\n",
    "            \"content\": {\n",
    "                \"categories\": {\n",
    "                    \"A\": {\"children\": [], \"color\": \"#472CED\", \"name\": \"A\"},\n",
    "                    \"B\": {\"children\": [], \"name\": \"B\", \"color\": \"#5CE7B7\"},\n",
    "                    \"C\": {\"children\": [], \"name\": \"C\", \"color\": \"#D33BCE\"},\n",
    "                },\n",
    "                \"input\": \"radio\",\n",
    "            },\n",
    "            \"instruction\": \"Job name\",\n",
    "            \"mlTask\": \"NAMED_ENTITIES_RECOGNITION\",\n",
    "            \"required\": 1,\n",
    "            \"isChild\": False,\n",
    "        }\n",
    "    }\n",
    "}\n",
    "\n",
    "dict_label = {\n",
    "    \"jsonResponse\": {\n",
    "        \"NAMED_ENTITIES_RECOGNITION_JOB\": {\n",
    "            \"annotations\": [\n",
    "                {\n",
    "                    \"children\": {},\n",
    "                    \"annotations\": [\n",
    "                        {\n",
    "                            \"boundingPoly\": [\n",
    "                                {\n",
    "                                    \"normalizedVertices\": [\n",
    "                                        [\n",
    "                                            {\"x\": 0.46269795405629893, \"y\": 0.26256487006078677},\n",
    "                                            {\"x\": 0.46269795405629893, \"y\": 0.278286415605941},\n",
    "                                            {\"x\": 0.602529939052542, \"y\": 0.26256487006078677},\n",
    "                                            {\"x\": 0.602529939052542, \"y\": 0.278286415605941},\n",
    "                                        ]\n",
    "                                    ]\n",
    "                                }\n",
    "                            ],\n",
    "                            \"pageNumberArray\": [1],\n",
    "                            \"polys\": [\n",
    "                                {\n",
    "                                    \"normalizedVertices\": [\n",
    "                                        [\n",
    "                                            {\"x\": 0.46269795405629893, \"y\": 0.26256487006078677},\n",
    "                                            {\"x\": 0.46269795405629893, \"y\": 0.278286415605941},\n",
    "                                            {\"x\": 0.602529939052542, \"y\": 0.26256487006078677},\n",
    "                                            {\"x\": 0.602529939052542, \"y\": 0.278286415605941},\n",
    "                                        ]\n",
    "                                    ]\n",
    "                                }\n",
    "                            ],\n",
    "                        }\n",
    "                    ],\n",
    "                    \"categories\": [{\"confidence\": 100, \"name\": \"C\"}],\n",
    "                    \"content\": \"Some content\",\n",
    "                    \"mid\": \"20230502085706687-73004\",\n",
    "                },\n",
    "                {\n",
    "                    \"children\": {},\n",
    "                    \"annotations\": [\n",
    "                        {\n",
    "                            \"boundingPoly\": [\n",
    "                                {\n",
    "                                    \"normalizedVertices\": [\n",
    "                                        [\n",
    "                                            {\"x\": 0.18745653985687646, \"y\": 0.4369143838760365},\n",
    "                                            {\"x\": 0.18745653985687646, \"y\": 0.45263593566837257},\n",
    "                                            {\"x\": 0.4306102589135375, \"y\": 0.4369143838760365},\n",
    "                                            {\"x\": 0.4306102589135375, \"y\": 0.45263593566837257},\n",
    "                                        ]\n",
    "                                    ]\n",
    "                                }\n",
    "                            ],\n",
    "                            \"pageNumberArray\": [1],\n",
    "                            \"polys\": [\n",
    "                                {\n",
    "                                    \"normalizedVertices\": [\n",
    "                                        [\n",
    "                                            {\"x\": 0.18745653985687646, \"y\": 0.4369143838760365},\n",
    "                                            {\"x\": 0.18745653985687646, \"y\": 0.45263593566837257},\n",
    "                                            {\"x\": 0.4306102589135375, \"y\": 0.4369143838760365},\n",
    "                                            {\"x\": 0.4306102589135375, \"y\": 0.45263593566837257},\n",
    "                                        ]\n",
    "                                    ]\n",
    "                                }\n",
    "                            ],\n",
    "                        }\n",
    "                    ],\n",
    "                    \"categories\": [{\"confidence\": 100, \"name\": \"A\"}],\n",
    "                    \"content\": \"chier    compressé   “Coregist\",\n",
    "                    \"mid\": \"20230502085709115-90490\",\n",
    "                },\n",
    "            ]\n",
    "        }\n",
    "    }\n",
    "}"
   ]
  },
  {
   "cell_type": "code",
   "execution_count": null,
   "id": "4e7a2a55-6979-4c1a-8f63-50f5ff125c44",
   "metadata": {
    "tags": []
   },
   "outputs": [],
   "source": [
    "label = ParsedLabel(dict_label, json_interface=json_interface, input_type=\"PDF\")"
   ]
  },
  {
   "cell_type": "code",
   "execution_count": null,
   "id": "6f631795-f508-4876-bcec-9e3da27dc307",
   "metadata": {
    "tags": []
   },
   "outputs": [
    {
     "name": "stdout",
     "output_type": "stream",
     "text": [
      "Number of annotations:  2\n"
     ]
    }
   ],
   "source": [
    "print(\"Number of annotations: \", len(label.jobs[\"NAMED_ENTITIES_RECOGNITION_JOB\"].annotations))"
   ]
  },
  {
   "cell_type": "code",
   "execution_count": null,
   "id": "10ddbf42-6a24-474e-8aa1-ef702183421f",
   "metadata": {
    "tags": []
   },
   "outputs": [],
   "source": [
    "first_ann = label.jobs[\"NAMED_ENTITIES_RECOGNITION_JOB\"].annotations[0]"
   ]
  },
  {
   "cell_type": "code",
   "execution_count": null,
   "id": "ab98cf79-1ec5-46b8-a194-30d19d662408",
   "metadata": {
    "tags": []
   },
   "outputs": [
    {
     "name": "stdout",
     "output_type": "stream",
     "text": [
      "Some content\n"
     ]
    }
   ],
   "source": [
    "print(first_ann.content)"
   ]
  },
  {
   "cell_type": "code",
   "execution_count": null,
   "id": "bfdec976-5241-4f20-9f43-f62767a620d8",
   "metadata": {
    "tags": []
   },
   "outputs": [
    {
     "name": "stdout",
     "output_type": "stream",
     "text": [
      "{'name': 'C', 'confidence': 100}\n"
     ]
    }
   ],
   "source": [
    "print(first_ann.category)"
   ]
  },
  {
   "attachments": {},
   "cell_type": "markdown",
   "id": "2bb4f441",
   "metadata": {},
   "source": [
    "The NER in PDFs json response format is a bit complex, and thus requires to use the `.annotations` attribute a second time. You can read more about it in the [documentation](https://docs.kili-technology.com/reference/export-object-entity-detection-and-relation#ner-in-pdfs)."
   ]
  },
  {
   "cell_type": "code",
   "execution_count": null,
   "id": "702afa91-d3bb-448b-af29-15cd430e69ed",
   "metadata": {
    "tags": []
   },
   "outputs": [
    {
     "name": "stdout",
     "output_type": "stream",
     "text": [
      "[1]\n"
     ]
    }
   ],
   "source": [
    "print(first_ann.annotations[0].page_number_array)"
   ]
  },
  {
   "cell_type": "code",
   "execution_count": null,
   "id": "e1042552-c1c2-4b48-a4e4-469496f13502",
   "metadata": {
    "tags": []
   },
   "outputs": [
    {
     "name": "stdout",
     "output_type": "stream",
     "text": [
      "[{'normalizedVertices': [[{'x': 0.46269795405629893, 'y': 0.26256487006078677}, {'x': 0.46269795405629893, 'y': 0.278286415605941}, {'x': 0.602529939052542, 'y': 0.26256487006078677}, {'x': 0.602529939052542, 'y': 0.278286415605941}]]}]\n"
     ]
    }
   ],
   "source": [
    "print(first_ann.annotations[0].polys)"
   ]
  },
  {
   "cell_type": "code",
   "execution_count": null,
   "id": "bca47699-98f1-4849-88bd-a3777cf6a9ad",
   "metadata": {
    "tags": []
   },
   "outputs": [
    {
     "name": "stdout",
     "output_type": "stream",
     "text": [
      "[{'normalizedVertices': [[{'x': 0.46269795405629893, 'y': 0.26256487006078677}, {'x': 0.46269795405629893, 'y': 0.278286415605941}, {'x': 0.602529939052542, 'y': 0.26256487006078677}, {'x': 0.602529939052542, 'y': 0.278286415605941}]]}]\n"
     ]
    }
   ],
   "source": [
    "print(first_ann.annotations[0].bounding_poly)"
   ]
  },
  {
   "cell_type": "markdown",
   "id": "6196474a-aeb5-4970-a40c-2fb5def15cb7",
   "metadata": {
    "tags": []
   },
   "source": [
    "### Relation jobs"
   ]
  },
  {
   "cell_type": "markdown",
   "id": "c94caeb8",
   "metadata": {},
   "source": [
    "A relation job is a job that links two annotations together. You can read more about it in the [documentation](https://docs.kili-technology.com/reference/json-named_entities_relation-jobs)."
   ]
  },
  {
   "cell_type": "markdown",
   "id": "9e521241-afb3-4002-9e46-30654a69d096",
   "metadata": {},
   "source": [
    "#### Named entities relation jobs\n",
    "\n",
    "A NER relation parsed label has the `.start_entities` and `.end_entities` attributes."
   ]
  },
  {
   "cell_type": "code",
   "execution_count": null,
   "id": "70577d22",
   "metadata": {
    "tags": []
   },
   "outputs": [],
   "source": [
    "json_interface = {\n",
    "    \"jobs\": {\n",
    "        \"NAMED_ENTITIES_RELATION_JOB\": {\n",
    "            \"content\": {\n",
    "                \"categories\": {\n",
    "                    \"RELATION_1\": {\n",
    "                        \"children\": [],\n",
    "                        \"color\": \"#472CED\",\n",
    "                        \"name\": \"Relation 1\",\n",
    "                        \"endEntities\": [\"B\"],\n",
    "                        \"startEntities\": [\"A\"],\n",
    "                    }\n",
    "                },\n",
    "                \"input\": \"radio\",\n",
    "            },\n",
    "            \"mlTask\": \"NAMED_ENTITIES_RELATION\",\n",
    "            \"required\": 1,\n",
    "            \"isChild\": False,\n",
    "        },\n",
    "        \"NAMED_ENTITIES_RECOGNITION_JOB\": {\n",
    "            \"content\": {\n",
    "                \"categories\": {\n",
    "                    \"A\": {\"children\": [], \"color\": \"#5CE7B7\", \"name\": \"A\"},\n",
    "                    \"B\": {\"children\": [], \"name\": \"B\", \"color\": \"#D33BCE\"},\n",
    "                },\n",
    "                \"input\": \"radio\",\n",
    "            },\n",
    "            \"mlTask\": \"NAMED_ENTITIES_RECOGNITION\",\n",
    "            \"required\": 1,\n",
    "            \"isChild\": False,\n",
    "        },\n",
    "    }\n",
    "}\n",
    "\n",
    "dict_label = {\n",
    "    \"jsonResponse\": {\n",
    "        \"NAMED_ENTITIES_RECOGNITION_JOB\": {\n",
    "            \"annotations\": [\n",
    "                {\n",
    "                    \"children\": {},\n",
    "                    \"beginId\": \"main/[0]\",\n",
    "                    \"beginOffset\": 159,\n",
    "                    \"categories\": [{\"name\": \"A\"}],\n",
    "                    \"content\": \"KBDFR\",\n",
    "                    \"endId\": \"main/[0]\",\n",
    "                    \"endOffset\": 164,\n",
    "                    \"mid\": \"123\",\n",
    "                },\n",
    "                {\n",
    "                    \"children\": {},\n",
    "                    \"beginId\": \"main/[0]\",\n",
    "                    \"beginOffset\": 145,\n",
    "                    \"categories\": [{\"name\": \"B\"}],\n",
    "                    \"content\": \"KBDJPN\",\n",
    "                    \"endId\": \"main/[0]\",\n",
    "                    \"endOffset\": 151,\n",
    "                    \"mid\": \"456\",\n",
    "                },\n",
    "            ]\n",
    "        },\n",
    "        \"NAMED_ENTITIES_RELATION_JOB\": {\n",
    "            \"annotations\": [\n",
    "                {\n",
    "                    \"children\": {},\n",
    "                    \"categories\": [{\"name\": \"RELATION_1\"}],\n",
    "                    \"endEntities\": [{\"mid\": \"456\"}],\n",
    "                    \"mid\": \"20230502100607943-6453\",\n",
    "                    \"startEntities\": [{\"mid\": \"123\"}],\n",
    "                }\n",
    "            ]\n",
    "        },\n",
    "    }\n",
    "}"
   ]
  },
  {
   "cell_type": "code",
   "execution_count": null,
   "id": "64bedcbe",
   "metadata": {
    "tags": []
   },
   "outputs": [],
   "source": [
    "label = ParsedLabel(dict_label, json_interface=json_interface, input_type=\"TEXT\")"
   ]
  },
  {
   "cell_type": "code",
   "execution_count": null,
   "id": "3e834386",
   "metadata": {
    "tags": []
   },
   "outputs": [
    {
     "name": "stdout",
     "output_type": "stream",
     "text": [
      "['NAMED_ENTITIES_RELATION_JOB', 'NAMED_ENTITIES_RECOGNITION_JOB']\n"
     ]
    }
   ],
   "source": [
    "print(list(label.jobs.keys()))"
   ]
  },
  {
   "cell_type": "code",
   "execution_count": null,
   "id": "9d562182",
   "metadata": {
    "tags": []
   },
   "outputs": [
    {
     "name": "stdout",
     "output_type": "stream",
     "text": [
      "Annotation content:  KBDFR\n",
      "Category:  A\n",
      "Begin offset:  159\n",
      "End offset:  164\n"
     ]
    }
   ],
   "source": [
    "print(\"Annotation content: \", label.jobs[\"NAMED_ENTITIES_RECOGNITION_JOB\"].annotations[0].content)\n",
    "print(\"Category: \", label.jobs[\"NAMED_ENTITIES_RECOGNITION_JOB\"].annotations[0].category.name)\n",
    "print(\"Begin offset: \", label.jobs[\"NAMED_ENTITIES_RECOGNITION_JOB\"].annotations[0].begin_offset)\n",
    "print(\"End offset: \", label.jobs[\"NAMED_ENTITIES_RECOGNITION_JOB\"].annotations[0].end_offset)"
   ]
  },
  {
   "attachments": {},
   "cell_type": "markdown",
   "id": "2dd5ca1c",
   "metadata": {},
   "source": [
    "Here is how to print the unique IDs and names of the entity recognition annotations:"
   ]
  },
  {
   "cell_type": "code",
   "execution_count": null,
   "id": "31a6386b",
   "metadata": {
    "tags": []
   },
   "outputs": [
    {
     "name": "stdout",
     "output_type": "stream",
     "text": [
      "123 A\n",
      "456 B\n"
     ]
    }
   ],
   "source": [
    "for ann in label.jobs[\"NAMED_ENTITIES_RECOGNITION_JOB\"].annotations:\n",
    "    print(ann.mid, ann.category.name)"
   ]
  },
  {
   "cell_type": "code",
   "execution_count": null,
   "id": "e3c3e912",
   "metadata": {
    "tags": []
   },
   "outputs": [
    {
     "name": "stdout",
     "output_type": "stream",
     "text": [
      "RELATION_1\n",
      "[{'mid': '123'}]\n",
      "[{'mid': '456'}]\n"
     ]
    }
   ],
   "source": [
    "print(label.jobs[\"NAMED_ENTITIES_RELATION_JOB\"].annotations[0].category.name)\n",
    "print(label.jobs[\"NAMED_ENTITIES_RELATION_JOB\"].annotations[0].start_entities)\n",
    "print(label.jobs[\"NAMED_ENTITIES_RELATION_JOB\"].annotations[0].end_entities)"
   ]
  },
  {
   "cell_type": "markdown",
   "id": "3c9bc5c9",
   "metadata": {},
   "source": [
    "We can see that the relation annotation above refers to the entity annotations using their unique IDs."
   ]
  },
  {
   "cell_type": "markdown",
   "id": "ee31c7e5-0090-4065-b3f8-c66418b436f6",
   "metadata": {},
   "source": [
    "#### Object detection relation jobs"
   ]
  },
  {
   "cell_type": "markdown",
   "id": "2e9a233f",
   "metadata": {},
   "source": [
    "For object detection relation jobs, the relation data is accessible through the `.start_objects` and `.end_objects` attributes."
   ]
  },
  {
   "cell_type": "code",
   "execution_count": null,
   "id": "ecfffc74",
   "metadata": {},
   "outputs": [],
   "source": [
    "json_interface = {\n",
    "    \"jobs\": {\n",
    "        \"OBJECT_DETECTION_JOB\": {\n",
    "            \"content\": {\n",
    "                \"categories\": {\n",
    "                    \"A\": {\"children\": [], \"color\": \"#472CED\", \"name\": \"A\"},\n",
    "                    \"B\": {\"children\": [], \"name\": \"B\", \"color\": \"#5CE7B7\"},\n",
    "                },\n",
    "                \"input\": \"radio\",\n",
    "            },\n",
    "            \"instruction\": \"BBOX\",\n",
    "            \"mlTask\": \"OBJECT_DETECTION\",\n",
    "            \"required\": 1,\n",
    "            \"tools\": [\"rectangle\"],\n",
    "            \"isChild\": False,\n",
    "        },\n",
    "        \"OBJECT_RELATION_JOB\": {\n",
    "            \"content\": {\n",
    "                \"categories\": {\n",
    "                    \"RELATION_1\": {\n",
    "                        \"children\": [],\n",
    "                        \"color\": \"#D33BCE\",\n",
    "                        \"name\": \"Relation 1\",\n",
    "                        \"startObjects\": [\"A\"],\n",
    "                        \"endObjects\": [\"B\"],\n",
    "                    }\n",
    "                },\n",
    "                \"input\": \"radio\",\n",
    "            },\n",
    "            \"instruction\": \"Relation job\",\n",
    "            \"mlTask\": \"OBJECT_RELATION\",\n",
    "            \"required\": 1,\n",
    "            \"isChild\": False,\n",
    "        },\n",
    "    }\n",
    "}\n",
    "\n",
    "dict_label = {\n",
    "    \"jsonResponse\": {\n",
    "        \"OBJECT_DETECTION_JOB\": {\n",
    "            \"annotations\": [\n",
    "                {\n",
    "                    \"children\": {},\n",
    "                    \"boundingPoly\": [\n",
    "                        {\n",
    "                            \"normalizedVertices\": [\n",
    "                                {\"x\": 0.11634755020512799, \"y\": 0.49755605764956},\n",
    "                                {\"x\": 0.11634755020512799, \"y\": 0.22714821030828314},\n",
    "                                {\"x\": 0.4035032060305503, \"y\": 0.22714821030828314},\n",
    "                                {\"x\": 0.4035032060305503, \"y\": 0.49755605764956},\n",
    "                            ]\n",
    "                        }\n",
    "                    ],\n",
    "                    \"categories\": [{\"name\": \"A\"}],\n",
    "                    \"mid\": \"20230502102127826-44552\",\n",
    "                    \"type\": \"rectangle\",\n",
    "                },\n",
    "                {\n",
    "                    \"children\": {},\n",
    "                    \"boundingPoly\": [\n",
    "                        {\n",
    "                            \"normalizedVertices\": [\n",
    "                                {\"x\": 0.539654594568466, \"y\": 0.8005026086128164},\n",
    "                                {\"x\": 0.539654594568466, \"y\": 0.5413150038998081},\n",
    "                                {\"x\": 0.7760629146661198, \"y\": 0.5413150038998081},\n",
    "                                {\"x\": 0.7760629146661198, \"y\": 0.8005026086128164},\n",
    "                            ]\n",
    "                        }\n",
    "                    ],\n",
    "                    \"categories\": [{\"name\": \"B\"}],\n",
    "                    \"mid\": \"20230502102129606-15732\",\n",
    "                    \"type\": \"rectangle\",\n",
    "                },\n",
    "            ]\n",
    "        },\n",
    "        \"OBJECT_RELATION_JOB\": {\n",
    "            \"annotations\": [\n",
    "                {\n",
    "                    \"children\": {},\n",
    "                    \"categories\": [{\"name\": \"RELATION_1\"}],\n",
    "                    \"endObjects\": [{\"mid\": \"20230502102129606-15732\"}],\n",
    "                    \"mid\": \"20230502102131372-75485\",\n",
    "                    \"startObjects\": [{\"mid\": \"20230502102127826-44552\"}],\n",
    "                }\n",
    "            ]\n",
    "        },\n",
    "    }\n",
    "}"
   ]
  },
  {
   "cell_type": "code",
   "execution_count": null,
   "id": "5fcd5b79",
   "metadata": {},
   "outputs": [],
   "source": [
    "label = ParsedLabel(dict_label, json_interface=json_interface, input_type=\"IMAGE\")"
   ]
  },
  {
   "cell_type": "code",
   "execution_count": null,
   "id": "79bb81b6",
   "metadata": {},
   "outputs": [
    {
     "name": "stdout",
     "output_type": "stream",
     "text": [
      "['OBJECT_DETECTION_JOB', 'OBJECT_RELATION_JOB']\n"
     ]
    }
   ],
   "source": [
    "print(list(label.jobs.keys()))"
   ]
  },
  {
   "cell_type": "code",
   "execution_count": null,
   "id": "d437fd04",
   "metadata": {},
   "outputs": [
    {
     "name": "stdout",
     "output_type": "stream",
     "text": [
      "20230502102127826-44552 A\n",
      "20230502102129606-15732 B\n"
     ]
    }
   ],
   "source": [
    "for ann in label.jobs[\"OBJECT_DETECTION_JOB\"].annotations:\n",
    "    print(ann.mid, ann.category.name)"
   ]
  },
  {
   "cell_type": "code",
   "execution_count": null,
   "id": "e5ece78b",
   "metadata": {},
   "outputs": [
    {
     "name": "stdout",
     "output_type": "stream",
     "text": [
      "{'name': 'RELATION_1'}\n",
      "[{'mid': '20230502102127826-44552'}]\n",
      "[{'mid': '20230502102129606-15732'}]\n"
     ]
    }
   ],
   "source": [
    "print(label.jobs[\"OBJECT_RELATION_JOB\"].annotations[0].category)\n",
    "print(label.jobs[\"OBJECT_RELATION_JOB\"].annotations[0].start_objects)\n",
    "print(label.jobs[\"OBJECT_RELATION_JOB\"].annotations[0].end_objects)"
   ]
  },
  {
   "attachments": {},
   "cell_type": "markdown",
   "id": "dfb521d2-fe49-4bf6-a845-712656e80f91",
   "metadata": {},
   "source": [
    "### Child jobs"
   ]
  },
  {
   "attachments": {},
   "cell_type": "markdown",
   "id": "1722e7d2",
   "metadata": {},
   "source": [
    "Use the `.children` attribute to access nested (child) labels:"
   ]
  },
  {
   "cell_type": "code",
   "execution_count": null,
   "id": "24de6d8e",
   "metadata": {},
   "outputs": [],
   "source": [
    "json_interface = {\n",
    "    \"jobs\": {\n",
    "        \"OBJECT_DETECTION_JOB\": {\n",
    "            \"content\": {\n",
    "                \"categories\": {\n",
    "                    \"A\": {\"children\": [\"TRANSCRIPTION_JOB\"], \"color\": \"#472CED\", \"name\": \"A\"}\n",
    "                },\n",
    "                \"input\": \"radio\",\n",
    "            },\n",
    "            \"instruction\": \"BBox job\",\n",
    "            \"mlTask\": \"OBJECT_DETECTION\",\n",
    "            \"required\": 1,\n",
    "            \"tools\": [\"rectangle\"],\n",
    "            \"isChild\": False,\n",
    "        },\n",
    "        \"TRANSCRIPTION_JOB\": {\n",
    "            \"content\": {\"input\": \"textField\"},\n",
    "            \"instruction\": \"Transcription\",\n",
    "            \"mlTask\": \"TRANSCRIPTION\",\n",
    "            \"required\": 1,\n",
    "            \"isChild\": True,\n",
    "        },\n",
    "    }\n",
    "}\n",
    "\n",
    "dict_label = {\n",
    "    \"jsonResponse\": {\n",
    "        \"OBJECT_DETECTION_JOB\": {\n",
    "            \"annotations\": [\n",
    "                {\n",
    "                    \"children\": {\n",
    "                        \"TRANSCRIPTION_JOB\": {\"text\": \"This is a transcription of a bbox\"}\n",
    "                    },\n",
    "                    \"boundingPoly\": [\n",
    "                        {\n",
    "                            \"normalizedVertices\": [\n",
    "                                {\"x\": 0.23517058020185444, \"y\": 0.40330601957210255},\n",
    "                                {\"x\": 0.23517058020185444, \"y\": 0.22939225883393688},\n",
    "                                {\"x\": 0.4468241023835235, \"y\": 0.22939225883393688},\n",
    "                                {\"x\": 0.4468241023835235, \"y\": 0.40330601957210255},\n",
    "                            ]\n",
    "                        }\n",
    "                    ],\n",
    "                    \"categories\": [{\"name\": \"A\"}],\n",
    "                    \"mid\": \"20230502102626089-88764\",\n",
    "                    \"type\": \"rectangle\",\n",
    "                }\n",
    "            ]\n",
    "        }\n",
    "    }\n",
    "}"
   ]
  },
  {
   "cell_type": "code",
   "execution_count": null,
   "id": "e92a4129",
   "metadata": {},
   "outputs": [],
   "source": [
    "label = ParsedLabel(dict_label, json_interface=json_interface, input_type=\"IMAGE\")"
   ]
  },
  {
   "cell_type": "code",
   "execution_count": null,
   "id": "1a3eaa10",
   "metadata": {},
   "outputs": [
    {
     "name": "stdout",
     "output_type": "stream",
     "text": [
      "rectangle\n",
      "A\n"
     ]
    }
   ],
   "source": [
    "print(label.jobs[\"OBJECT_DETECTION_JOB\"].annotations[0].type)\n",
    "print(label.jobs[\"OBJECT_DETECTION_JOB\"].annotations[0].category.name)"
   ]
  },
  {
   "cell_type": "code",
   "execution_count": null,
   "id": "8a5f0884",
   "metadata": {
    "tags": []
   },
   "outputs": [
    {
     "name": "stdout",
     "output_type": "stream",
     "text": [
      "This is a transcription of a bbox\n"
     ]
    }
   ],
   "source": [
    "print(label.jobs[\"OBJECT_DETECTION_JOB\"].annotations[0].children[\"TRANSCRIPTION_JOB\"].text)"
   ]
  }
 ],
 "metadata": {
  "language_info": {
   "name": "python"
  }
 },
 "nbformat": 4,
 "nbformat_minor": 5
}
