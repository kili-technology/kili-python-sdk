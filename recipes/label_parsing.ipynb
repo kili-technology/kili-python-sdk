{
 "cells": [
  {
   "cell_type": "markdown",
   "id": "f7c39767-b41d-4f99-a1fe-a80836b6e6ea",
   "metadata": {
    "tags": []
   },
   "source": [
    "<a href=\"https://colab.research.google.com/github/kili-technology/kili-python-sdk/blob/master/recipes/label_parsing.ipynb\" target=\"_parent\"><img src=\"https://colab.research.google.com/assets/colab-badge.svg\" alt=\"Open In Colab\"/></a>"
   ]
  },
  {
   "cell_type": "markdown",
   "id": "0af86972-b41f-431e-a8a3-126e0e4bc1b9",
   "metadata": {
    "tags": []
   },
   "source": [
    "# How to use the label parser"
   ]
  },
  {
   "cell_type": "code",
   "execution_count": null,
   "id": "190987c3-df3b-4239-badf-2922df83791b",
   "metadata": {},
   "outputs": [],
   "source": [
    "%pip install kili"
   ]
  },
  {
   "cell_type": "code",
   "execution_count": null,
   "id": "3477d905-2726-4a7e-8e8b-3f2e5a8734bf",
   "metadata": {
    "tags": []
   },
   "outputs": [],
   "source": [
    "from kili.client import Kili\n",
    "from kili.utils.labels.parsing import ParsedLabel"
   ]
  },
  {
   "cell_type": "code",
   "execution_count": null,
   "id": "7f6418d4",
   "metadata": {
    "tags": []
   },
   "outputs": [],
   "source": [
    "kili = Kili()"
   ]
  },
  {
   "cell_type": "markdown",
   "id": "736c81fe-b686-4967-87a1-3782d3b109c5",
   "metadata": {},
   "source": [
    "## `.jobs` attribute\n",
    "\n",
    "The `.jobs` attribute of a `ParsedLabel` class is a dictionary-like object that contains the parsed labels. The keys are the names of the jobs, and the values are the parsed job responses.\n",
    "\n",
    "Let's create a simple Kili project to illustrate this."
   ]
  },
  {
   "cell_type": "markdown",
   "id": "933e52a2",
   "metadata": {},
   "source": [
    "We define a json interface for a single-class classification job, with name `CLASSIFICATION_JOB` and three categories `A`, `B` and `C`:"
   ]
  },
  {
   "cell_type": "code",
   "execution_count": null,
   "id": "3659363f-1a03-402f-9ed6-b993f06b96e2",
   "metadata": {
    "tags": []
   },
   "outputs": [],
   "source": [
    "json_interface = {\n",
    "    \"jobs\": {\n",
    "        \"CLASSIFICATION_JOB\": {\n",
    "            \"content\": {\n",
    "                \"categories\": {\n",
    "                    \"A\": {\"children\": [], \"name\": \"A\"},\n",
    "                    \"B\": {\"children\": [], \"name\": \"B\"},\n",
    "                    \"C\": {\"children\": [], \"name\": \"C\"},\n",
    "                },\n",
    "                \"input\": \"radio\",\n",
    "            },\n",
    "            \"instruction\": \"Class\",\n",
    "            \"mlTask\": \"CLASSIFICATION\",\n",
    "            \"required\": 1,\n",
    "            \"isChild\": False,\n",
    "        }\n",
    "    }\n",
    "}\n",
    "project_id = kili.create_project(\n",
    "    input_type=\"TEXT\", json_interface=json_interface, title=\"Label parsing tutorial\"\n",
    ")[\"id\"]"
   ]
  },
  {
   "cell_type": "markdown",
   "id": "82d8e18c",
   "metadata": {},
   "source": [
    "We also upload some assets to the project:"
   ]
  },
  {
   "cell_type": "code",
   "execution_count": null,
   "id": "2e563f8b",
   "metadata": {
    "tags": []
   },
   "outputs": [
    {
     "name": "stderr",
     "output_type": "stream",
     "text": [
      "100%|████████████████████████████████████████████████████████████████████████████████████████████████████████████████████████| 3/3 [00:01<00:00,  1.59it/s]\n"
     ]
    },
    {
     "data": {
      "text/plain": [
       "{'id': 'clh0ghbb80xff0j668f3i15lp'}"
      ]
     },
     "execution_count": null,
     "metadata": {},
     "output_type": "execute_result"
    }
   ],
   "source": [
    "kili.append_many_to_dataset(\n",
    "    project_id,\n",
    "    content_array=[\"text1\", \"text2\", \"text3\"],\n",
    "    external_id_array=[\"asset1\", \"asset2\", \"asset3\"],\n",
    ")"
   ]
  },
  {
   "cell_type": "markdown",
   "id": "cdc461a1",
   "metadata": {},
   "source": [
    "Once the assets are uploaded, we can start labeling them manually through the Kili UI.\n",
    "\n",
    "For this tutorial, we will just only upload already existing labels."
   ]
  },
  {
   "cell_type": "code",
   "execution_count": null,
   "id": "5b3a9fe1",
   "metadata": {
    "tags": []
   },
   "outputs": [
    {
     "name": "stderr",
     "output_type": "stream",
     "text": [
      "100%|████████████████████████████████████████████████████████████████████████████████████████████████████████████████████████| 3/3 [00:00<00:00,  4.21it/s]\n"
     ]
    },
    {
     "data": {
      "text/plain": [
       "[{'id': 'clh0gheax0xgs0j66bj9y58lo'},\n",
       " {'id': 'clh0gheax0xgt0j66eohy17op'},\n",
       " {'id': 'clh0gheax0xgu0j66awoz8sfn'}]"
      ]
     },
     "execution_count": null,
     "metadata": {},
     "output_type": "execute_result"
    }
   ],
   "source": [
    "labels_to_upload = [\n",
    "    {\"CLASSIFICATION_JOB\": {\"categories\": [{\"confidence\": 75, \"name\": \"A\"}]}},\n",
    "    {\"CLASSIFICATION_JOB\": {\"categories\": [{\"confidence\": 50, \"name\": \"B\"}]}},\n",
    "    {\"CLASSIFICATION_JOB\": {\"categories\": [{\"confidence\": 25, \"name\": \"C\"}]}},\n",
    "]\n",
    "kili.append_labels(\n",
    "    json_response_array=labels_to_upload,\n",
    "    project_id=project_id,\n",
    "    asset_external_id_array=[\"asset1\", \"asset2\", \"asset3\"],\n",
    ")"
   ]
  },
  {
   "cell_type": "markdown",
   "id": "f0c47a3e-500a-4555-9879-fa7cd7ee67c5",
   "metadata": {},
   "source": [
    "When querying labels using `kili.labels()`, it is possible to automatically parse the labels using the `output_format` argument:"
   ]
  },
  {
   "cell_type": "code",
   "execution_count": null,
   "id": "253f78da-431b-45ec-a80f-b554a02f74b2",
   "metadata": {
    "tags": []
   },
   "outputs": [
    {
     "name": "stderr",
     "output_type": "stream",
     "text": [
      "100%|████████████████████████████████████████████████████████████████████████████████████████████████████████████████████████| 3/3 [00:00<00:00,  4.60it/s]"
     ]
    },
    {
     "name": "stdout",
     "output_type": "stream",
     "text": [
      "3\n",
      "<class 'kili.utils.labels.parsing.ParsedLabel'>\n"
     ]
    },
    {
     "name": "stderr",
     "output_type": "stream",
     "text": [
      "\n"
     ]
    }
   ],
   "source": [
    "labels = kili.labels(\n",
    "    project_id, output_format=\"parsed_label\"\n",
    ")  # labels is a list of ParsedLabel object"
   ]
  },
  {
   "cell_type": "code",
   "execution_count": null,
   "id": "1855c97e-feff-4c76-becc-892303269225",
   "metadata": {
    "tags": []
   },
   "outputs": [
    {
     "name": "stdout",
     "output_type": "stream",
     "text": [
      "3\n"
     ]
    }
   ],
   "source": [
    "print(len(labels))"
   ]
  },
  {
   "cell_type": "code",
   "execution_count": null,
   "id": "b12599aa-73a1-4f7b-bade-40e29727a77e",
   "metadata": {
    "tags": []
   },
   "outputs": [
    {
     "name": "stdout",
     "output_type": "stream",
     "text": [
      "<class 'kili.utils.labels.parsing.ParsedLabel'>\n"
     ]
    }
   ],
   "source": [
    "print(type(labels[0]))"
   ]
  },
  {
   "cell_type": "markdown",
   "id": "397ed779-405e-4b17-91e2-ab0f3d4f0b3c",
   "metadata": {},
   "source": [
    "Using the `.jobs` attribute with the job name, one can access the label's data:"
   ]
  },
  {
   "cell_type": "code",
   "execution_count": null,
   "id": "3d3cb650-43a6-425b-8853-f907b7200c45",
   "metadata": {
    "tags": []
   },
   "outputs": [
    {
     "name": "stdout",
     "output_type": "stream",
     "text": [
      "{'categories': [{'name': 'A', 'confidence': 75}]}\n"
     ]
    }
   ],
   "source": [
    "print(labels[0].jobs[\"CLASSIFICATION_JOB\"])"
   ]
  },
  {
   "cell_type": "code",
   "execution_count": null,
   "id": "7b32146a-c1e4-4670-8c0c-745b24b71002",
   "metadata": {
    "tags": []
   },
   "outputs": [
    {
     "name": "stdout",
     "output_type": "stream",
     "text": [
      "[{'name': 'A', 'confidence': 75}]\n"
     ]
    }
   ],
   "source": [
    "print(labels[0].jobs[\"CLASSIFICATION_JOB\"].categories)"
   ]
  },
  {
   "cell_type": "code",
   "execution_count": null,
   "id": "01cd50ef-ccae-4aca-ae1a-2ed7208cc088",
   "metadata": {
    "tags": []
   },
   "outputs": [
    {
     "name": "stdout",
     "output_type": "stream",
     "text": [
      "A\n"
     ]
    }
   ],
   "source": [
    "print(labels[0].jobs[\"CLASSIFICATION_JOB\"].categories[0].name)"
   ]
  },
  {
   "cell_type": "markdown",
   "id": "8897dcfb-daec-45c6-b7b0-47ee49598f36",
   "metadata": {},
   "source": [
    "Since `CLASSIFICATION_JOB` is a single-category classification job, the `.category` attribute is available, and is an alias for `.categories[0]`:"
   ]
  },
  {
   "cell_type": "code",
   "execution_count": null,
   "id": "3e9ab315-6551-4e61-b479-abc8c558a606",
   "metadata": {
    "tags": []
   },
   "outputs": [
    {
     "name": "stdout",
     "output_type": "stream",
     "text": [
      "A\n",
      "75\n"
     ]
    }
   ],
   "source": [
    "print(labels[0].jobs[\"CLASSIFICATION_JOB\"].category.name)\n",
    "print(labels[0].jobs[\"CLASSIFICATION_JOB\"].category.confidence)"
   ]
  },
  {
   "cell_type": "markdown",
   "id": "19567f86-b09d-4429-bd53-d9d36f5ac511",
   "metadata": {},
   "source": [
    "## Convert to Python dict\n",
    "\n",
    "A `ParsedLabel` is a custom class and is not serializable by default. However, it is possible to convert it to a Python dict using the `to_dict` method:"
   ]
  },
  {
   "cell_type": "code",
   "execution_count": null,
   "id": "7eb76010-fc45-423c-84e4-cf72fc4bfabe",
   "metadata": {},
   "outputs": [],
   "source": [
    "label_as_dict = label.to_dict()\n",
    "print(type(label_as_dict))"
   ]
  },
  {
   "cell_type": "markdown",
   "id": "74dd3baf-2f85-421c-8954-4133e3ef9a60",
   "metadata": {
    "tags": []
   },
   "source": [
    "## Classification job"
   ]
  },
  {
   "cell_type": "markdown",
   "id": "cfe6eef3-6a74-42ea-85a9-a20569ef1174",
   "metadata": {
    "tags": []
   },
   "source": [
    "## Object detection job"
   ]
  },
  {
   "cell_type": "markdown",
   "id": "7429534b-c927-4b29-aa1d-8a0a8821b162",
   "metadata": {
    "tags": []
   },
   "source": [
    "## Transcription job"
   ]
  },
  {
   "cell_type": "markdown",
   "id": "de1e1079-fc62-487b-90c9-959311ee1575",
   "metadata": {},
   "source": [
    "## Video job"
   ]
  },
  {
   "cell_type": "markdown",
   "id": "aaf3db05-978e-4702-86f0-2bb92107bf52",
   "metadata": {
    "tags": []
   },
   "source": [
    "## Named entities recognition job"
   ]
  },
  {
   "cell_type": "markdown",
   "id": "c4f34eb1-9fc6-48be-8630-d61c5864da42",
   "metadata": {},
   "source": [
    "## Named entities recognition in PDF job"
   ]
  },
  {
   "cell_type": "markdown",
   "id": "6196474a-aeb5-4970-a40c-2fb5def15cb7",
   "metadata": {
    "tags": []
   },
   "source": [
    "## Relation job"
   ]
  },
  {
   "cell_type": "markdown",
   "id": "9e521241-afb3-4002-9e46-30654a69d096",
   "metadata": {},
   "source": [
    "### Named entities relation job"
   ]
  },
  {
   "cell_type": "markdown",
   "id": "ee31c7e5-0090-4065-b3f8-c66418b436f6",
   "metadata": {},
   "source": [
    "### Object detection relation job"
   ]
  },
  {
   "cell_type": "markdown",
   "id": "7886c411-c8e0-4928-b061-4ddade569ab8",
   "metadata": {},
   "source": [
    "## Pose estimation job"
   ]
  },
  {
   "cell_type": "markdown",
   "id": "dfb521d2-fe49-4bf6-a845-712656e80f91",
   "metadata": {},
   "source": [
    "## Children jobs"
   ]
  }
 ],
 "metadata": {
  "language_info": {
   "name": "python"
  }
 },
 "nbformat": 4,
 "nbformat_minor": 5
}
