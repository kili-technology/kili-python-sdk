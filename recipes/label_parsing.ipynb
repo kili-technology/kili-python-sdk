{
 "cells": [
  {
   "cell_type": "markdown",
   "id": "f7c39767-b41d-4f99-a1fe-a80836b6e6ea",
   "metadata": {
    "tags": []
   },
   "source": [
    "<a href=\"https://colab.research.google.com/github/kili-technology/kili-python-sdk/blob/master/recipes/label_parsing.ipynb\" target=\"_parent\"><img src=\"https://colab.research.google.com/assets/colab-badge.svg\" alt=\"Open In Colab\"/></a>"
   ]
  },
  {
   "cell_type": "markdown",
   "id": "0af86972-b41f-431e-a8a3-126e0e4bc1b9",
   "metadata": {
    "tags": []
   },
   "source": [
    "# How to use the label parser"
   ]
  },
  {
   "cell_type": "code",
   "execution_count": null,
   "id": "190987c3-df3b-4239-badf-2922df83791b",
   "metadata": {},
   "outputs": [],
   "source": [
    "%pip install kili"
   ]
  },
  {
   "cell_type": "code",
   "execution_count": null,
   "id": "3477d905-2726-4a7e-8e8b-3f2e5a8734bf",
   "metadata": {
    "tags": []
   },
   "outputs": [],
   "source": [
    "from kili.client import Kili\n",
    "from kili.utils.labels.parsing import ParsedLabel"
   ]
  },
  {
   "cell_type": "code",
   "execution_count": null,
   "id": "7f6418d4",
   "metadata": {
    "tags": []
   },
   "outputs": [],
   "source": [
    "kili = Kili()"
   ]
  },
  {
   "cell_type": "markdown",
   "id": "c9a62300-056d-4028-9dfe-f6b1accdaa40",
   "metadata": {},
   "source": [
    "## `ParsedLabel` class"
   ]
  },
  {
   "cell_type": "markdown",
   "id": "967b4fb4-65ea-4d2a-961b-50105f0b78d6",
   "metadata": {},
   "source": [
    "The `ParsedLabel` class represents a Kili label.\n",
    "\n",
    "This class directly inherits from `dict`, and thus behaves like a dictionary."
   ]
  },
  {
   "cell_type": "code",
   "execution_count": null,
   "id": "d1a3afbe-9000-4a71-b8a9-6503a75e1748",
   "metadata": {
    "tags": []
   },
   "outputs": [
    {
     "name": "stdout",
     "output_type": "stream",
     "text": [
      "<class 'dict'>\n"
     ]
    }
   ],
   "source": [
    "print(ParsedLabel.__bases__[0])"
   ]
  },
  {
   "cell_type": "markdown",
   "id": "0d939a75",
   "metadata": {},
   "source": [
    "Converting a label to a `ParsedLabel` is as simple as:"
   ]
  },
  {
   "cell_type": "code",
   "execution_count": null,
   "id": "daab1ca8",
   "metadata": {
    "tags": []
   },
   "outputs": [],
   "source": [
    "json_interface = {\n",
    "    \"jobs\": {\n",
    "        \"CLASSIFICATION_JOB\": {\n",
    "            \"content\": {\n",
    "                \"categories\": {\n",
    "                    \"A\": {\"children\": [], \"name\": \"A\"},\n",
    "                    \"B\": {\"children\": [], \"name\": \"B\"},\n",
    "                },\n",
    "                \"input\": \"radio\",\n",
    "            },\n",
    "            \"instruction\": \"Class\",\n",
    "            \"mlTask\": \"CLASSIFICATION\",\n",
    "            \"required\": 1,\n",
    "            \"isChild\": False,\n",
    "        }\n",
    "    }\n",
    "}\n",
    "\n",
    "my_label = {\n",
    "    \"author\": {\"email\": \"first.last@kili-technology.com\", \"id\": \"123456\"},\n",
    "    \"id\": \"clh0fsi9u0tli0j666l4sfhpz\",\n",
    "    \"jsonResponse\": {\"CLASSIFICATION_JOB\": {\"categories\": [{\"confidence\": 100, \"name\": \"A\"}]}},\n",
    "    \"labelType\": \"DEFAULT\",\n",
    "    \"secondsToLabel\": 5,\n",
    "}\n",
    "\n",
    "my_parsed_label = ParsedLabel(my_label, json_interface=json_interface, input_type=\"IMAGE\")"
   ]
  },
  {
   "cell_type": "code",
   "execution_count": null,
   "id": "cd7c58ca",
   "metadata": {
    "tags": []
   },
   "outputs": [
    {
     "data": {
      "text/plain": [
       "'first.last@kili-technology.com'"
      ]
     },
     "execution_count": null,
     "metadata": {},
     "output_type": "execute_result"
    }
   ],
   "source": [
    "print(my_parsed_label[\"author\"][\"email\"])"
   ]
  },
  {
   "cell_type": "markdown",
   "id": "c39c64b7",
   "metadata": {},
   "source": [
    "The `jsonResponse` dict key is not accessible anymore:"
   ]
  },
  {
   "cell_type": "code",
   "execution_count": null,
   "id": "7f9233a1-104e-4e09-8e3e-0496b90e8461",
   "metadata": {
    "tags": []
   },
   "outputs": [
    {
     "name": "stdout",
     "output_type": "stream",
     "text": [
      "The key 'jsonResponse' is not accessible anymore.\n"
     ]
    }
   ],
   "source": [
    "try:\n",
    "    my_parsed_label[\"jsonResponse\"]\n",
    "except KeyError as err:\n",
    "    print(f\"The key {err} is not accessible anymore.\")"
   ]
  },
  {
   "cell_type": "markdown",
   "id": "3bac29c1-9844-489b-9557-591690706999",
   "metadata": {},
   "source": [
    "It is replaced with the `.jobs` attribute instead."
   ]
  },
  {
   "cell_type": "markdown",
   "id": "736c81fe-b686-4967-87a1-3782d3b109c5",
   "metadata": {},
   "source": [
    "## `.jobs` attribute\n",
    "\n",
    "The `.jobs` attribute of a `ParsedLabel` class is a dictionary-like object that contains the parsed labels.\n",
    "\n",
    "The keys are the names of the jobs, and the values are the parsed job responses.\n",
    "\n",
    "Let's create a simple Kili project to illustrate this."
   ]
  },
  {
   "cell_type": "markdown",
   "id": "c3db3059-92c2-4b51-b173-cce787de23fb",
   "metadata": {},
   "source": [
    "## Classification job"
   ]
  },
  {
   "cell_type": "markdown",
   "id": "933e52a2",
   "metadata": {},
   "source": [
    "We define a json interface for a two classification jobs:\n",
    "\n",
    "- a single-class classification job, with name `SINGLE_CLASS_JOB` and three categories `A`, `B` and `C`\n",
    "- a multi-class classification job, with name `MULTI_CLASS_JOB` and three categories `D`, `E` and `F`."
   ]
  },
  {
   "cell_type": "code",
   "execution_count": null,
   "id": "3659363f-1a03-402f-9ed6-b993f06b96e2",
   "metadata": {
    "tags": []
   },
   "outputs": [],
   "source": [
    "json_interface = {\n",
    "    \"jobs\": {\n",
    "        \"SINGLE_CLASS_JOB\": {\n",
    "            \"content\": {\n",
    "                \"categories\": {\n",
    "                    \"A\": {\"children\": [], \"name\": \"A\"},\n",
    "                    \"B\": {\"children\": [], \"name\": \"B\"},\n",
    "                    \"C\": {\"children\": [], \"name\": \"C\"},\n",
    "                },\n",
    "                \"input\": \"radio\",\n",
    "            },\n",
    "            \"instruction\": \"Class\",\n",
    "            \"mlTask\": \"CLASSIFICATION\",\n",
    "            \"required\": 1,\n",
    "            \"isChild\": False,\n",
    "        },\n",
    "        \"MULTI_CLASS_JOB\": {\n",
    "            \"content\": {\n",
    "                \"categories\": {\n",
    "                    \"D\": {\"children\": [], \"name\": \"D\"},\n",
    "                    \"E\": {\"children\": [], \"name\": \"E\"},\n",
    "                    \"F\": {\"children\": [], \"name\": \"F\"},\n",
    "                },\n",
    "                \"input\": \"checkbox\",\n",
    "            },\n",
    "            \"instruction\": \"Class\",\n",
    "            \"mlTask\": \"CLASSIFICATION\",\n",
    "            \"required\": 1,\n",
    "            \"isChild\": False,\n",
    "        },\n",
    "    }\n",
    "}\n",
    "project_id = kili.create_project(\n",
    "    input_type=\"TEXT\", json_interface=json_interface, title=\"Label parsing tutorial\"\n",
    ")[\"id\"]"
   ]
  },
  {
   "cell_type": "markdown",
   "id": "82d8e18c",
   "metadata": {},
   "source": [
    "We also upload some assets to the project:"
   ]
  },
  {
   "cell_type": "code",
   "execution_count": null,
   "id": "2e563f8b",
   "metadata": {
    "tags": []
   },
   "outputs": [
    {
     "name": "stderr",
     "output_type": "stream",
     "text": [
      "100%|████████████████████████████████████████████████████████████████████████████████████████████████████████████████████████| 3/3 [00:02<00:00,  1.43it/s]\n"
     ]
    },
    {
     "data": {
      "text/plain": [
       "{'id': 'clh0hbf8e12hv0j960bzya8wm'}"
      ]
     },
     "execution_count": null,
     "metadata": {},
     "output_type": "execute_result"
    }
   ],
   "source": [
    "kili.append_many_to_dataset(\n",
    "    project_id,\n",
    "    content_array=[\"text1\", \"text2\", \"text3\"],\n",
    "    external_id_array=[\"asset1\", \"asset2\", \"asset3\"],\n",
    ");"
   ]
  },
  {
   "cell_type": "markdown",
   "id": "cdc461a1",
   "metadata": {},
   "source": [
    "Once the assets are uploaded, we can start labeling them manually through the Kili UI.\n",
    "\n",
    "For this tutorial, we will just only upload already existing labels."
   ]
  },
  {
   "cell_type": "code",
   "execution_count": null,
   "id": "5b3a9fe1",
   "metadata": {
    "tags": []
   },
   "outputs": [
    {
     "name": "stderr",
     "output_type": "stream",
     "text": [
      "100%|████████████████████████████████████████████████████████████████████████████████████████████████████████████████████████| 3/3 [00:00<00:00,  4.54it/s]\n"
     ]
    },
    {
     "data": {
      "text/plain": [
       "[{'id': 'clh0hbi8u12j30j965fe86ss6'},\n",
       " {'id': 'clh0hbi8u12j40j969nvx8vj5'},\n",
       " {'id': 'clh0hbi8u12j50j96holkcb2j'}]"
      ]
     },
     "execution_count": null,
     "metadata": {},
     "output_type": "execute_result"
    }
   ],
   "source": [
    "labels_to_upload = [\n",
    "    {\n",
    "        \"SINGLE_CLASS_JOB\": {\"categories\": [{\"confidence\": 75, \"name\": \"A\"}]},\n",
    "        \"MULTI_CLASS_JOB\": {\n",
    "            \"categories\": [{\"confidence\": 1, \"name\": \"D\"}, {\"confidence\": 1, \"name\": \"E\"}]\n",
    "        },\n",
    "    },\n",
    "    {\n",
    "        \"SINGLE_CLASS_JOB\": {\"categories\": [{\"confidence\": 50, \"name\": \"B\"}]},\n",
    "        \"MULTI_CLASS_JOB\": {\n",
    "            \"categories\": [{\"confidence\": 2, \"name\": \"E\"}, {\"confidence\": 2, \"name\": \"F\"}]\n",
    "        },\n",
    "    },\n",
    "    {\n",
    "        \"SINGLE_CLASS_JOB\": {\"categories\": [{\"confidence\": 25, \"name\": \"C\"}]},\n",
    "        \"MULTI_CLASS_JOB\": {\n",
    "            \"categories\": [{\"confidence\": 3, \"name\": \"F\"}, {\"confidence\": 3, \"name\": \"D\"}]\n",
    "        },\n",
    "    },\n",
    "]\n",
    "kili.append_labels(\n",
    "    json_response_array=labels_to_upload,\n",
    "    project_id=project_id,\n",
    "    asset_external_id_array=[\"asset1\", \"asset2\", \"asset3\"],\n",
    ");"
   ]
  },
  {
   "cell_type": "markdown",
   "id": "f0c47a3e-500a-4555-9879-fa7cd7ee67c5",
   "metadata": {},
   "source": [
    "When querying labels using `kili.labels()`, it is possible to automatically parse the labels using the `output_format` argument:"
   ]
  },
  {
   "cell_type": "code",
   "execution_count": null,
   "id": "3ac9a2f2-5562-48b2-b241-2480acd52e59",
   "metadata": {
    "tags": []
   },
   "outputs": [
    {
     "name": "stderr",
     "output_type": "stream",
     "text": [
      "100%|████████████████████████████████████████████████████████████████████████████████████████████████████████████████████████| 3/3 [00:00<00:00,  3.20it/s]\n"
     ]
    }
   ],
   "source": [
    "# labels is a list of ParsedLabel object\n",
    "labels = kili.labels(project_id, output_format=\"parsed_label\")"
   ]
  },
  {
   "cell_type": "code",
   "execution_count": null,
   "id": "1855c97e-feff-4c76-becc-892303269225",
   "metadata": {
    "tags": []
   },
   "outputs": [
    {
     "name": "stdout",
     "output_type": "stream",
     "text": [
      "3\n"
     ]
    }
   ],
   "source": [
    "print(len(labels))"
   ]
  },
  {
   "cell_type": "code",
   "execution_count": null,
   "id": "b12599aa-73a1-4f7b-bade-40e29727a77e",
   "metadata": {
    "tags": []
   },
   "outputs": [
    {
     "name": "stdout",
     "output_type": "stream",
     "text": [
      "<class 'kili.utils.labels.parsing.ParsedLabel'>\n"
     ]
    }
   ],
   "source": [
    "print(type(labels[0]))"
   ]
  },
  {
   "cell_type": "markdown",
   "id": "397ed779-405e-4b17-91e2-ab0f3d4f0b3c",
   "metadata": {},
   "source": [
    "Using the `.jobs` attribute with the job name, one can access the label's data:"
   ]
  },
  {
   "cell_type": "code",
   "execution_count": null,
   "id": "3d3cb650-43a6-425b-8853-f907b7200c45",
   "metadata": {
    "tags": []
   },
   "outputs": [
    {
     "name": "stdout",
     "output_type": "stream",
     "text": [
      "{'categories': [{'name': 'A', 'confidence': 75}]}\n"
     ]
    }
   ],
   "source": [
    "print(labels[0].jobs[\"SINGLE_CLASS_JOB\"])"
   ]
  },
  {
   "cell_type": "code",
   "execution_count": null,
   "id": "7b32146a-c1e4-4670-8c0c-745b24b71002",
   "metadata": {
    "tags": []
   },
   "outputs": [
    {
     "name": "stdout",
     "output_type": "stream",
     "text": [
      "[{'name': 'A', 'confidence': 75}]\n"
     ]
    }
   ],
   "source": [
    "print(labels[0].jobs[\"SINGLE_CLASS_JOB\"].categories)"
   ]
  },
  {
   "cell_type": "code",
   "execution_count": null,
   "id": "01cd50ef-ccae-4aca-ae1a-2ed7208cc088",
   "metadata": {
    "tags": []
   },
   "outputs": [
    {
     "name": "stdout",
     "output_type": "stream",
     "text": [
      "A\n"
     ]
    }
   ],
   "source": [
    "print(labels[0].jobs[\"SINGLE_CLASS_JOB\"].categories[0].name)"
   ]
  },
  {
   "cell_type": "markdown",
   "id": "8897dcfb-daec-45c6-b7b0-47ee49598f36",
   "metadata": {},
   "source": [
    "Since `SINGLE_CLASS_JOB` is a single-category classification job, the `.category` attribute is available, and is an alias for `.categories[0]`:"
   ]
  },
  {
   "cell_type": "code",
   "execution_count": null,
   "id": "3e9ab315-6551-4e61-b479-abc8c558a606",
   "metadata": {
    "tags": []
   },
   "outputs": [
    {
     "name": "stdout",
     "output_type": "stream",
     "text": [
      "A\n",
      "75\n"
     ]
    }
   ],
   "source": [
    "print(labels[0].jobs[\"SINGLE_CLASS_JOB\"].category.name)\n",
    "print(labels[0].jobs[\"SINGLE_CLASS_JOB\"].category.confidence)"
   ]
  },
  {
   "cell_type": "markdown",
   "id": "f8081f2c-67a0-48de-97d1-6f3ba89255a6",
   "metadata": {},
   "source": [
    "The `.category` attribute is forbidden for multi-categories classification jobs:"
   ]
  },
  {
   "cell_type": "code",
   "execution_count": null,
   "id": "17fe3393-8be9-484b-8b37-6bc11be6b96c",
   "metadata": {
    "tags": []
   },
   "outputs": [
    {
     "name": "stdout",
     "output_type": "stream",
     "text": [
      "Error:  The attribute 'category' is not compatible with the job.\n"
     ]
    }
   ],
   "source": [
    "try:\n",
    "    print(labels[0].jobs[\"MULTI_CLASS_JOB\"].category.name)\n",
    "except Exception as err:\n",
    "    print(\"Error: \", err)"
   ]
  },
  {
   "cell_type": "markdown",
   "id": "0c651cc6-1fea-4fd5-8104-38b203d5d67c",
   "metadata": {},
   "source": [
    "It is also possible to iterate over the job names:"
   ]
  },
  {
   "cell_type": "code",
   "execution_count": null,
   "id": "f3804ffa-1e50-4b92-ab78-d79a891bf226",
   "metadata": {
    "tags": []
   },
   "outputs": [
    {
     "name": "stdout",
     "output_type": "stream",
     "text": [
      "\n",
      "Label 0\n",
      "SINGLE_CLASS_JOB :  [{'name': 'A', 'confidence': 75}]\n",
      "MULTI_CLASS_JOB :  [{'name': 'D', 'confidence': 1}, {'name': 'E', 'confidence': 1}]\n",
      "\n",
      "Label 1\n",
      "SINGLE_CLASS_JOB :  [{'name': 'B', 'confidence': 50}]\n",
      "MULTI_CLASS_JOB :  [{'name': 'E', 'confidence': 2}, {'name': 'F', 'confidence': 2}]\n",
      "\n",
      "Label 2\n",
      "SINGLE_CLASS_JOB :  [{'name': 'C', 'confidence': 25}]\n",
      "MULTI_CLASS_JOB :  [{'name': 'F', 'confidence': 3}, {'name': 'D', 'confidence': 3}]\n"
     ]
    }
   ],
   "source": [
    "for i, label in enumerate(labels):\n",
    "    print(f\"\\nLabel {i}\")\n",
    "    for job_name, job_data in label.jobs.items():\n",
    "        print(job_name, \": \", job_data.categories)"
   ]
  },
  {
   "cell_type": "markdown",
   "id": "19567f86-b09d-4429-bd53-d9d36f5ac511",
   "metadata": {},
   "source": [
    "## Convert to Python dict\n",
    "\n",
    "A `ParsedLabel` is a custom class and is not serializable by default. However, it is possible to convert it to a Python dict using the `to_dict` method:"
   ]
  },
  {
   "cell_type": "code",
   "execution_count": null,
   "id": "7eb76010-fc45-423c-84e4-cf72fc4bfabe",
   "metadata": {
    "tags": []
   },
   "outputs": [
    {
     "name": "stdout",
     "output_type": "stream",
     "text": [
      "<class 'kili.utils.labels.parsing.ParsedLabel'>\n"
     ]
    }
   ],
   "source": [
    "label = labels[0]\n",
    "print(type(label))"
   ]
  },
  {
   "cell_type": "code",
   "execution_count": null,
   "id": "38f501f0-5be0-449d-bb46-b513347b86cb",
   "metadata": {
    "tags": []
   },
   "outputs": [
    {
     "name": "stdout",
     "output_type": "stream",
     "text": [
      "<class 'dict'>\n"
     ]
    }
   ],
   "source": [
    "label_as_dict = label.to_dict()\n",
    "print(type(label_as_dict))"
   ]
  },
  {
   "cell_type": "markdown",
   "id": "cfe6eef3-6a74-42ea-85a9-a20569ef1174",
   "metadata": {
    "tags": []
   },
   "source": [
    "## Object detection job"
   ]
  },
  {
   "cell_type": "markdown",
   "id": "7429534b-c927-4b29-aa1d-8a0a8821b162",
   "metadata": {
    "tags": []
   },
   "source": [
    "## Transcription job"
   ]
  },
  {
   "cell_type": "markdown",
   "id": "de1e1079-fc62-487b-90c9-959311ee1575",
   "metadata": {},
   "source": [
    "## Video job"
   ]
  },
  {
   "cell_type": "markdown",
   "id": "aaf3db05-978e-4702-86f0-2bb92107bf52",
   "metadata": {
    "tags": []
   },
   "source": [
    "## Named entities recognition job"
   ]
  },
  {
   "cell_type": "markdown",
   "id": "c4f34eb1-9fc6-48be-8630-d61c5864da42",
   "metadata": {},
   "source": [
    "## Named entities recognition in PDF job"
   ]
  },
  {
   "cell_type": "markdown",
   "id": "6196474a-aeb5-4970-a40c-2fb5def15cb7",
   "metadata": {
    "tags": []
   },
   "source": [
    "## Relation job"
   ]
  },
  {
   "cell_type": "markdown",
   "id": "9e521241-afb3-4002-9e46-30654a69d096",
   "metadata": {},
   "source": [
    "### Named entities relation job"
   ]
  },
  {
   "cell_type": "markdown",
   "id": "ee31c7e5-0090-4065-b3f8-c66418b436f6",
   "metadata": {},
   "source": [
    "### Object detection relation job"
   ]
  },
  {
   "cell_type": "markdown",
   "id": "7886c411-c8e0-4928-b061-4ddade569ab8",
   "metadata": {},
   "source": [
    "## Pose estimation job"
   ]
  },
  {
   "cell_type": "markdown",
   "id": "dfb521d2-fe49-4bf6-a845-712656e80f91",
   "metadata": {},
   "source": [
    "## Children jobs"
   ]
  }
 ],
 "metadata": {
  "language_info": {
   "name": "python"
  }
 },
 "nbformat": 4,
 "nbformat_minor": 5
}
