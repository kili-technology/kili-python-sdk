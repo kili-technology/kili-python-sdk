{
 "cells": [
  {
   "cell_type": "markdown",
   "id": "f7c39767-b41d-4f99-a1fe-a80836b6e6ea",
   "metadata": {
    "tags": []
   },
   "source": [
    "<a href=\"https://colab.research.google.com/github/kili-technology/kili-python-sdk/blob/master/recipes/label_parsing.ipynb\" target=\"_parent\"><img src=\"https://colab.research.google.com/assets/colab-badge.svg\" alt=\"Open In Colab\"/></a>"
   ]
  },
  {
   "cell_type": "markdown",
   "id": "0af86972-b41f-431e-a8a3-126e0e4bc1b9",
   "metadata": {
    "tags": []
   },
   "source": [
    "# How to use the label parser"
   ]
  },
  {
   "cell_type": "code",
   "execution_count": null,
   "id": "190987c3-df3b-4239-badf-2922df83791b",
   "metadata": {},
   "outputs": [],
   "source": [
    "%pip install kili"
   ]
  },
  {
   "cell_type": "code",
   "execution_count": null,
   "id": "3477d905-2726-4a7e-8e8b-3f2e5a8734bf",
   "metadata": {
    "tags": []
   },
   "outputs": [],
   "source": [
    "from kili.client import Kili\n",
    "from kili.utils.labels.parsing import ParsedLabel"
   ]
  },
  {
   "cell_type": "code",
   "execution_count": null,
   "id": "7f6418d4",
   "metadata": {
    "tags": []
   },
   "outputs": [],
   "source": [
    "kili = Kili()"
   ]
  },
  {
   "cell_type": "markdown",
   "id": "c9a62300-056d-4028-9dfe-f6b1accdaa40",
   "metadata": {},
   "source": [
    "## ParsedLabel class"
   ]
  },
  {
   "cell_type": "markdown",
   "id": "967b4fb4-65ea-4d2a-961b-50105f0b78d6",
   "metadata": {},
   "source": [
    "The `ParsedLabel` class represents a Kili label.\n",
    "\n",
    "This class directly inherits from `dict`, and thus behaves like a dictionary."
   ]
  },
  {
   "cell_type": "code",
   "execution_count": null,
   "id": "d1a3afbe-9000-4a71-b8a9-6503a75e1748",
   "metadata": {
    "tags": []
   },
   "outputs": [
    {
     "name": "stdout",
     "output_type": "stream",
     "text": [
      "<class 'dict'>\n"
     ]
    }
   ],
   "source": [
    "print(ParsedLabel.__bases__[0])"
   ]
  },
  {
   "cell_type": "markdown",
   "id": "0d939a75",
   "metadata": {},
   "source": [
    "Converting a label to a `ParsedLabel` is as simple as:"
   ]
  },
  {
   "cell_type": "code",
   "execution_count": null,
   "id": "ec785471-8e12-4f59-a3c5-6921af449ce2",
   "metadata": {
    "tags": [
     "test_cell"
    ]
   },
   "outputs": [],
   "source": [
    "json_interface = {\n",
    "    \"jobs\": {\n",
    "        \"CLASSIFICATION_JOB\": {\n",
    "            \"content\": {\n",
    "                \"categories\": {\n",
    "                    \"A\": {\"children\": [], \"name\": \"A\"},\n",
    "                    \"B\": {\"children\": [], \"name\": \"B\"},\n",
    "                },\n",
    "                \"input\": \"radio\",\n",
    "            },\n",
    "            \"instruction\": \"Class\",\n",
    "            \"mlTask\": \"CLASSIFICATION\",\n",
    "            \"required\": 1,\n",
    "            \"isChild\": False,\n",
    "        }\n",
    "    }\n",
    "}"
   ]
  },
  {
   "cell_type": "code",
   "execution_count": null,
   "id": "daab1ca8",
   "metadata": {
    "tags": []
   },
   "outputs": [],
   "source": [
    "my_label = {\n",
    "    \"author\": {\"email\": \"first.last@kili-technology.com\", \"id\": \"123456\"},\n",
    "    \"id\": \"clh0fsi9u0tli0j666l4sfhpz\",\n",
    "    \"jsonResponse\": {\"CLASSIFICATION_JOB\": {\"categories\": [{\"confidence\": 100, \"name\": \"A\"}]}},\n",
    "    \"labelType\": \"DEFAULT\",\n",
    "    \"secondsToLabel\": 5,\n",
    "}\n",
    "\n",
    "my_parsed_label = ParsedLabel(my_label, json_interface=json_interface, input_type=\"IMAGE\")"
   ]
  },
  {
   "cell_type": "code",
   "execution_count": null,
   "id": "cd7c58ca",
   "metadata": {
    "tags": []
   },
   "outputs": [
    {
     "name": "stdout",
     "output_type": "stream",
     "text": [
      "first.last@kili-technology.com\n"
     ]
    }
   ],
   "source": [
    "print(my_parsed_label[\"author\"][\"email\"])"
   ]
  },
  {
   "cell_type": "markdown",
   "id": "c39c64b7",
   "metadata": {},
   "source": [
    "The `jsonResponse` dict key is not accessible anymore:"
   ]
  },
  {
   "cell_type": "code",
   "execution_count": null,
   "id": "7f9233a1-104e-4e09-8e3e-0496b90e8461",
   "metadata": {
    "tags": []
   },
   "outputs": [
    {
     "name": "stdout",
     "output_type": "stream",
     "text": [
      "The key 'jsonResponse' is not accessible anymore.\n"
     ]
    }
   ],
   "source": [
    "try:\n",
    "    my_parsed_label[\"jsonResponse\"]\n",
    "except KeyError as err:\n",
    "    print(f\"The key {err} is not accessible anymore.\")"
   ]
  },
  {
   "cell_type": "markdown",
   "id": "3bac29c1-9844-489b-9557-591690706999",
   "metadata": {},
   "source": [
    "It is replaced with the `.jobs` attribute instead."
   ]
  },
  {
   "cell_type": "markdown",
   "id": "736c81fe-b686-4967-87a1-3782d3b109c5",
   "metadata": {},
   "source": [
    "## .jobs attribute\n",
    "\n",
    "The `.jobs` attribute of a `ParsedLabel` class is a dictionary-like object that contains the parsed labels.\n",
    "\n",
    "The keys are the names of the jobs, and the values are the parsed job responses.\n",
    "\n",
    "Let's create a simple Kili project to illustrate this."
   ]
  },
  {
   "cell_type": "markdown",
   "id": "c3db3059-92c2-4b51-b173-cce787de23fb",
   "metadata": {},
   "source": [
    "## Classification job"
   ]
  },
  {
   "cell_type": "markdown",
   "id": "933e52a2",
   "metadata": {},
   "source": [
    "We define a json interface for a two classification jobs:\n",
    "\n",
    "- a single-class classification job, with name `SINGLE_CLASS_JOB` and three categories `A`, `B` and `C`\n",
    "- a multi-class classification job, with name `MULTI_CLASS_JOB` and three categories `D`, `E` and `F`."
   ]
  },
  {
   "cell_type": "code",
   "execution_count": null,
   "id": "3659363f-1a03-402f-9ed6-b993f06b96e2",
   "metadata": {
    "tags": []
   },
   "outputs": [],
   "source": [
    "json_interface = {\n",
    "    \"jobs\": {\n",
    "        \"SINGLE_CLASS_JOB\": {\n",
    "            \"content\": {\n",
    "                \"categories\": {\n",
    "                    \"A\": {\"children\": [], \"name\": \"A\"},\n",
    "                    \"B\": {\"children\": [], \"name\": \"B\"},\n",
    "                    \"C\": {\"children\": [], \"name\": \"C\"},\n",
    "                },\n",
    "                \"input\": \"radio\",\n",
    "            },\n",
    "            \"instruction\": \"Class\",\n",
    "            \"mlTask\": \"CLASSIFICATION\",\n",
    "            \"required\": 1,\n",
    "            \"isChild\": False,\n",
    "        },\n",
    "        \"MULTI_CLASS_JOB\": {\n",
    "            \"content\": {\n",
    "                \"categories\": {\n",
    "                    \"D\": {\"children\": [], \"name\": \"D\"},\n",
    "                    \"E\": {\"children\": [], \"name\": \"E\"},\n",
    "                    \"F\": {\"children\": [], \"name\": \"F\"},\n",
    "                },\n",
    "                \"input\": \"checkbox\",\n",
    "            },\n",
    "            \"instruction\": \"Class\",\n",
    "            \"mlTask\": \"CLASSIFICATION\",\n",
    "            \"required\": 1,\n",
    "            \"isChild\": False,\n",
    "        },\n",
    "    }\n",
    "}\n",
    "project_id = kili.create_project(\n",
    "    input_type=\"TEXT\", json_interface=json_interface, title=\"Label parsing tutorial\"\n",
    ")[\"id\"]"
   ]
  },
  {
   "cell_type": "markdown",
   "id": "82d8e18c",
   "metadata": {},
   "source": [
    "We also upload some assets to the project:"
   ]
  },
  {
   "cell_type": "code",
   "execution_count": null,
   "id": "2e563f8b",
   "metadata": {
    "tags": []
   },
   "outputs": [
    {
     "name": "stderr",
     "output_type": "stream",
     "text": [
      "100%|████████████████████████████████████████████████████████████████████████████████████████████████████████████████████████| 3/3 [00:01<00:00,  1.52it/s]\n"
     ]
    }
   ],
   "source": [
    "kili.append_many_to_dataset(\n",
    "    project_id,\n",
    "    content_array=[\"text1\", \"text2\", \"text3\"],\n",
    "    external_id_array=[\"asset1\", \"asset2\", \"asset3\"],\n",
    ");"
   ]
  },
  {
   "cell_type": "markdown",
   "id": "cdc461a1",
   "metadata": {},
   "source": [
    "Once the assets are uploaded, we can start labeling them manually through the Kili UI.\n",
    "\n",
    "For this tutorial, we will just upload already existing labels."
   ]
  },
  {
   "cell_type": "code",
   "execution_count": null,
   "id": "5b3a9fe1",
   "metadata": {
    "tags": []
   },
   "outputs": [
    {
     "name": "stderr",
     "output_type": "stream",
     "text": [
      "100%|████████████████████████████████████████████████████████████████████████████████████████████████████████████████████████| 3/3 [00:00<00:00,  3.95it/s]\n"
     ]
    }
   ],
   "source": [
    "labels_to_upload = [\n",
    "    {\n",
    "        \"SINGLE_CLASS_JOB\": {\"categories\": [{\"confidence\": 75, \"name\": \"A\"}]},\n",
    "        \"MULTI_CLASS_JOB\": {\n",
    "            \"categories\": [{\"confidence\": 1, \"name\": \"D\"}, {\"confidence\": 1, \"name\": \"E\"}]\n",
    "        },\n",
    "    },\n",
    "    {\n",
    "        \"SINGLE_CLASS_JOB\": {\"categories\": [{\"confidence\": 50, \"name\": \"B\"}]},\n",
    "        \"MULTI_CLASS_JOB\": {\n",
    "            \"categories\": [{\"confidence\": 2, \"name\": \"E\"}, {\"confidence\": 2, \"name\": \"F\"}]\n",
    "        },\n",
    "    },\n",
    "    {\n",
    "        \"SINGLE_CLASS_JOB\": {\"categories\": [{\"confidence\": 25, \"name\": \"C\"}]},\n",
    "        \"MULTI_CLASS_JOB\": {\n",
    "            \"categories\": [{\"confidence\": 3, \"name\": \"F\"}, {\"confidence\": 3, \"name\": \"D\"}]\n",
    "        },\n",
    "    },\n",
    "]\n",
    "kili.append_labels(\n",
    "    json_response_array=labels_to_upload,\n",
    "    project_id=project_id,\n",
    "    asset_external_id_array=[\"asset1\", \"asset2\", \"asset3\"],\n",
    ");"
   ]
  },
  {
   "cell_type": "markdown",
   "id": "f0c47a3e-500a-4555-9879-fa7cd7ee67c5",
   "metadata": {},
   "source": [
    "When querying labels using `kili.labels()`, it is possible to automatically parse the labels using the `output_format` argument:"
   ]
  },
  {
   "cell_type": "code",
   "execution_count": null,
   "id": "3ac9a2f2-5562-48b2-b241-2480acd52e59",
   "metadata": {
    "tags": []
   },
   "outputs": [
    {
     "name": "stderr",
     "output_type": "stream",
     "text": [
      "100%|████████████████████████████████████████████████████████████████████████████████████████████████████████████████████████| 3/3 [00:00<00:00, 11.86it/s]\n"
     ]
    }
   ],
   "source": [
    "# labels is a list of ParsedLabel object\n",
    "labels = kili.labels(project_id, output_format=\"parsed_label\")"
   ]
  },
  {
   "cell_type": "code",
   "execution_count": null,
   "id": "1855c97e-feff-4c76-becc-892303269225",
   "metadata": {
    "tags": []
   },
   "outputs": [
    {
     "name": "stdout",
     "output_type": "stream",
     "text": [
      "3\n"
     ]
    }
   ],
   "source": [
    "print(len(labels))"
   ]
  },
  {
   "cell_type": "code",
   "execution_count": null,
   "id": "b12599aa-73a1-4f7b-bade-40e29727a77e",
   "metadata": {
    "tags": []
   },
   "outputs": [
    {
     "name": "stdout",
     "output_type": "stream",
     "text": [
      "<class 'kili.utils.labels.parsing.ParsedLabel'>\n"
     ]
    }
   ],
   "source": [
    "print(type(labels[0]))"
   ]
  },
  {
   "cell_type": "markdown",
   "id": "397ed779-405e-4b17-91e2-ab0f3d4f0b3c",
   "metadata": {},
   "source": [
    "Using the `.jobs` attribute with the job name, one can access the label's data:"
   ]
  },
  {
   "cell_type": "code",
   "execution_count": null,
   "id": "3d3cb650-43a6-425b-8853-f907b7200c45",
   "metadata": {
    "tags": []
   },
   "outputs": [
    {
     "name": "stdout",
     "output_type": "stream",
     "text": [
      "{'categories': [{'name': 'A', 'confidence': 75}]}\n"
     ]
    }
   ],
   "source": [
    "print(labels[0].jobs[\"SINGLE_CLASS_JOB\"])"
   ]
  },
  {
   "cell_type": "code",
   "execution_count": null,
   "id": "7b32146a-c1e4-4670-8c0c-745b24b71002",
   "metadata": {
    "tags": []
   },
   "outputs": [
    {
     "name": "stdout",
     "output_type": "stream",
     "text": [
      "[{'name': 'A', 'confidence': 75}]\n"
     ]
    }
   ],
   "source": [
    "print(labels[0].jobs[\"SINGLE_CLASS_JOB\"].categories)"
   ]
  },
  {
   "cell_type": "code",
   "execution_count": null,
   "id": "01cd50ef-ccae-4aca-ae1a-2ed7208cc088",
   "metadata": {
    "tags": []
   },
   "outputs": [
    {
     "name": "stdout",
     "output_type": "stream",
     "text": [
      "A\n"
     ]
    }
   ],
   "source": [
    "print(labels[0].jobs[\"SINGLE_CLASS_JOB\"].categories[0].name)"
   ]
  },
  {
   "cell_type": "markdown",
   "id": "8897dcfb-daec-45c6-b7b0-47ee49598f36",
   "metadata": {},
   "source": [
    "Since `SINGLE_CLASS_JOB` is a single-category classification job, the `.category` attribute is available, and is an alias for `.categories[0]`:"
   ]
  },
  {
   "cell_type": "code",
   "execution_count": null,
   "id": "3e9ab315-6551-4e61-b479-abc8c558a606",
   "metadata": {
    "tags": []
   },
   "outputs": [
    {
     "name": "stdout",
     "output_type": "stream",
     "text": [
      "A\n",
      "75\n"
     ]
    }
   ],
   "source": [
    "print(labels[0].jobs[\"SINGLE_CLASS_JOB\"].category.name)\n",
    "print(labels[0].jobs[\"SINGLE_CLASS_JOB\"].category.confidence)"
   ]
  },
  {
   "cell_type": "markdown",
   "id": "f8081f2c-67a0-48de-97d1-6f3ba89255a6",
   "metadata": {},
   "source": [
    "The `.category` attribute is forbidden for multi-categories classification jobs:"
   ]
  },
  {
   "cell_type": "code",
   "execution_count": null,
   "id": "17fe3393-8be9-484b-8b37-6bc11be6b96c",
   "metadata": {
    "tags": []
   },
   "outputs": [
    {
     "name": "stdout",
     "output_type": "stream",
     "text": [
      "Error:  The attribute 'category' is not compatible with the job.\n"
     ]
    }
   ],
   "source": [
    "try:\n",
    "    print(labels[0].jobs[\"MULTI_CLASS_JOB\"].category.name)\n",
    "except Exception as err:\n",
    "    print(\"Error: \", err)"
   ]
  },
  {
   "cell_type": "markdown",
   "id": "0c651cc6-1fea-4fd5-8104-38b203d5d67c",
   "metadata": {},
   "source": [
    "It is also possible to iterate over the job names:"
   ]
  },
  {
   "cell_type": "code",
   "execution_count": null,
   "id": "f3804ffa-1e50-4b92-ab78-d79a891bf226",
   "metadata": {
    "tags": []
   },
   "outputs": [
    {
     "name": "stdout",
     "output_type": "stream",
     "text": [
      "\n",
      "Label 0\n",
      "job_name:  SINGLE_CLASS_JOB\n",
      "category:  A 75\n",
      "job_name:  MULTI_CLASS_JOB\n",
      "category:  D 1\n",
      "category:  E 1\n",
      "\n",
      "Label 1\n",
      "job_name:  SINGLE_CLASS_JOB\n",
      "category:  B 50\n",
      "job_name:  MULTI_CLASS_JOB\n",
      "category:  E 2\n",
      "category:  F 2\n",
      "\n",
      "Label 2\n",
      "job_name:  SINGLE_CLASS_JOB\n",
      "category:  C 25\n",
      "job_name:  MULTI_CLASS_JOB\n",
      "category:  F 3\n",
      "category:  D 3\n"
     ]
    }
   ],
   "source": [
    "for i, label in enumerate(labels):\n",
    "    print(f\"\\nLabel {i}\")\n",
    "    for job_name, job_data in label.jobs.items():\n",
    "        print(\"job_name: \", job_name)\n",
    "        for category in job_data.categories:\n",
    "            print(\"category: \", category.name, category.confidence)"
   ]
  },
  {
   "cell_type": "markdown",
   "id": "19567f86-b09d-4429-bd53-d9d36f5ac511",
   "metadata": {},
   "source": [
    "## Convert to Python dict\n",
    "\n",
    "A `ParsedLabel` is a custom class and is not serializable by default. However, it is possible to convert it to a Python dict using the `to_dict` method:"
   ]
  },
  {
   "cell_type": "code",
   "execution_count": null,
   "id": "7eb76010-fc45-423c-84e4-cf72fc4bfabe",
   "metadata": {
    "tags": []
   },
   "outputs": [
    {
     "name": "stdout",
     "output_type": "stream",
     "text": [
      "<class 'kili.utils.labels.parsing.ParsedLabel'>\n"
     ]
    }
   ],
   "source": [
    "label = labels[0]\n",
    "print(type(label))"
   ]
  },
  {
   "cell_type": "code",
   "execution_count": null,
   "id": "38f501f0-5be0-449d-bb46-b513347b86cb",
   "metadata": {
    "tags": []
   },
   "outputs": [
    {
     "name": "stdout",
     "output_type": "stream",
     "text": [
      "<class 'dict'>\n"
     ]
    }
   ],
   "source": [
    "label_as_dict = label.to_dict()\n",
    "print(type(label_as_dict))"
   ]
  },
  {
   "cell_type": "markdown",
   "id": "7429534b-c927-4b29-aa1d-8a0a8821b162",
   "metadata": {
    "tags": []
   },
   "source": [
    "## Transcription job"
   ]
  },
  {
   "cell_type": "markdown",
   "id": "7a26bf29-9fdb-43c4-b25c-48474714fee4",
   "metadata": {},
   "source": [
    "For a transcription job, the `.text` allows to access the label data:"
   ]
  },
  {
   "cell_type": "code",
   "execution_count": null,
   "id": "c549a193-3ccc-4e79-b876-0cc9b381ad6a",
   "metadata": {
    "tags": []
   },
   "outputs": [],
   "source": [
    "json_interface = {\n",
    "    \"jobs\": {\"TRANSCRIPTION_JOB\": {\"mlTask\": \"TRANSCRIPTION\", \"required\": 1, \"isChild\": False}}\n",
    "}\n",
    "\n",
    "dict_label = {\n",
    "    \"jsonResponse\": {\"TRANSCRIPTION_JOB\": {\"text\": \"This is a transcription annotation...\"}}\n",
    "}"
   ]
  },
  {
   "cell_type": "code",
   "execution_count": null,
   "id": "8c34583a-5ee7-4911-8588-fcf6cbde7588",
   "metadata": {
    "tags": []
   },
   "outputs": [],
   "source": [
    "label = ParsedLabel(dict_label, json_interface=json_interface, input_type=\"TEXT\")"
   ]
  },
  {
   "cell_type": "code",
   "execution_count": null,
   "id": "d02e4756-a76f-4485-b475-2a8ab313edf7",
   "metadata": {
    "tags": []
   },
   "outputs": [
    {
     "name": "stdout",
     "output_type": "stream",
     "text": [
      "This is a transcription annotation...\n"
     ]
    }
   ],
   "source": [
    "print(label.jobs[\"TRANSCRIPTION_JOB\"].text)"
   ]
  },
  {
   "cell_type": "markdown",
   "id": "cfe6eef3-6a74-42ea-85a9-a20569ef1174",
   "metadata": {
    "tags": []
   },
   "source": [
    "## Object detection job"
   ]
  },
  {
   "cell_type": "markdown",
   "id": "81912573-bfae-418c-8d52-b2617ff5a7e1",
   "metadata": {
    "tags": []
   },
   "source": [
    "For object detection jobs, a parsed label has a `.annotations` attribute:"
   ]
  },
  {
   "cell_type": "code",
   "execution_count": null,
   "id": "0ac58401-751d-40ba-a5bb-8bb7a387a20e",
   "metadata": {
    "tags": []
   },
   "outputs": [],
   "source": [
    "json_interface = {\n",
    "    \"jobs\": {\n",
    "        \"OBJECT_DETECTION_JOB\": {\n",
    "            \"mlTask\": \"OBJECT_DETECTION\",\n",
    "            \"tools\": [\"rectangle\"],\n",
    "            \"required\": 1,\n",
    "            \"isChild\": False,\n",
    "            \"content\": {\"categories\": {\"A\": {}, \"B\": {}}, \"input\": \"radio\"},\n",
    "        }\n",
    "    }\n",
    "}\n",
    "\n",
    "dict_label = {\n",
    "    \"jsonResponse\": {\n",
    "        \"OBJECT_DETECTION_JOB\": {\n",
    "            \"annotations\": [\n",
    "                {\n",
    "                    \"children\": {},\n",
    "                    \"boundingPoly\": [\n",
    "                        {\n",
    "                            \"normalizedVertices\": [\n",
    "                                {\"x\": 0.54, \"y\": 0.52},\n",
    "                                {\"x\": 0.54, \"y\": 0.33},\n",
    "                                {\"x\": 0.70, \"y\": 0.33},\n",
    "                                {\"x\": 0.70, \"y\": 0.52},\n",
    "                            ]\n",
    "                        }\n",
    "                    ],\n",
    "                    \"categories\": [{\"name\": \"B\"}],\n",
    "                    \"mid\": \"20230315142306286-25528\",\n",
    "                    \"type\": \"rectangle\",\n",
    "                }\n",
    "            ]\n",
    "        }\n",
    "    }\n",
    "}"
   ]
  },
  {
   "cell_type": "code",
   "execution_count": null,
   "id": "155adcee-c6ca-4194-be52-23933c1ce1a7",
   "metadata": {
    "tags": []
   },
   "outputs": [],
   "source": [
    "label = ParsedLabel(dict_label, json_interface=json_interface, input_type=\"IMAGE\")"
   ]
  },
  {
   "cell_type": "code",
   "execution_count": null,
   "id": "a2e1da27-aaf7-4022-85a2-719179a96093",
   "metadata": {
    "tags": []
   },
   "outputs": [
    {
     "name": "stdout",
     "output_type": "stream",
     "text": [
      "B\n"
     ]
    }
   ],
   "source": [
    "print(label.jobs[\"OBJECT_DETECTION_JOB\"].annotations[0].category.name)"
   ]
  },
  {
   "cell_type": "code",
   "execution_count": null,
   "id": "58e294d5-adac-4584-a4d5-07b9b3dc2905",
   "metadata": {
    "tags": []
   },
   "outputs": [
    {
     "name": "stdout",
     "output_type": "stream",
     "text": [
      "rectangle\n"
     ]
    }
   ],
   "source": [
    "print(label.jobs[\"OBJECT_DETECTION_JOB\"].annotations[0].type)"
   ]
  },
  {
   "cell_type": "code",
   "execution_count": null,
   "id": "20af0d11-8d6b-4d53-8a46-4e488b79638e",
   "metadata": {
    "tags": []
   },
   "outputs": [
    {
     "name": "stdout",
     "output_type": "stream",
     "text": [
      "[{'normalizedVertices': [{'x': 0.54, 'y': 0.52}, {'x': 0.54, 'y': 0.33}, {'x': 0.7, 'y': 0.33}, {'x': 0.7, 'y': 0.52}]}]\n"
     ]
    }
   ],
   "source": [
    "print(label.jobs[\"OBJECT_DETECTION_JOB\"].annotations[0].bounding_poly)"
   ]
  },
  {
   "cell_type": "code",
   "execution_count": null,
   "id": "9155b358-d494-408a-b699-ba251b6a451c",
   "metadata": {
    "tags": []
   },
   "outputs": [
    {
     "name": "stdout",
     "output_type": "stream",
     "text": [
      "[{'x': 0.54, 'y': 0.52}, {'x': 0.54, 'y': 0.33}, {'x': 0.7, 'y': 0.33}, {'x': 0.7, 'y': 0.52}]\n"
     ]
    }
   ],
   "source": [
    "print(label.jobs[\"OBJECT_DETECTION_JOB\"].annotations[0].bounding_poly[0].normalized_vertices)"
   ]
  },
  {
   "cell_type": "markdown",
   "id": "0d45a082-5368-415d-8343-d3390d1200b3",
   "metadata": {},
   "source": [
    "The `.bounding_poly_annotations` attribute is equivalent to `.annotations`:"
   ]
  },
  {
   "cell_type": "code",
   "execution_count": null,
   "id": "52cb97dd-e638-4cd3-a82f-ba7a92a313ca",
   "metadata": {
    "tags": []
   },
   "outputs": [
    {
     "name": "stdout",
     "output_type": "stream",
     "text": [
      "True\n"
     ]
    }
   ],
   "source": [
    "print(\n",
    "    label.jobs[\"OBJECT_DETECTION_JOB\"].annotations\n",
    "    == label.jobs[\"OBJECT_DETECTION_JOB\"].bounding_poly_annotations\n",
    ")"
   ]
  },
  {
   "cell_type": "markdown",
   "id": "284f40c3-e228-434c-b0c3-e469391ee36e",
   "metadata": {},
   "source": [
    "## Point detection job"
   ]
  },
  {
   "cell_type": "markdown",
   "id": "b4dec345-db1d-40bb-b0f5-9303f8eb6599",
   "metadata": {},
   "source": [
    "The point coordinates of a point detection label is accessible through the `.point` attribute:"
   ]
  },
  {
   "cell_type": "code",
   "execution_count": null,
   "id": "0151fe12-701c-4d29-a3db-f5bdf1752555",
   "metadata": {
    "tags": []
   },
   "outputs": [],
   "source": [
    "json_interface = {\n",
    "    \"jobs\": {\n",
    "        \"OBJECT_DETECTION_JOB\": {\n",
    "            \"content\": {\n",
    "                \"categories\": {\n",
    "                    \"A\": {\"children\": [], \"color\": \"#472CED\", \"name\": \"A\"},\n",
    "                    \"B\": {\"children\": [], \"name\": \"B\", \"color\": \"#5CE7B7\"},\n",
    "                },\n",
    "                \"input\": \"radio\",\n",
    "            },\n",
    "            \"instruction\": \"Class\",\n",
    "            \"mlTask\": \"OBJECT_DETECTION\",\n",
    "            \"required\": 1,\n",
    "            \"tools\": [\"marker\"],\n",
    "            \"isChild\": False,\n",
    "        }\n",
    "    }\n",
    "}\n",
    "\n",
    "dict_label = {\n",
    "    \"jsonResponse\": {\n",
    "        \"OBJECT_DETECTION_JOB\": {\n",
    "            \"annotations\": [\n",
    "                {\n",
    "                    \"children\": {},\n",
    "                    \"point\": {\"x\": 0.10, \"y\": 0.20},\n",
    "                    \"categories\": [{\"name\": \"A\"}],\n",
    "                    \"mid\": \"20230323113855529-11197\",\n",
    "                    \"type\": \"marker\",\n",
    "                },\n",
    "                {\n",
    "                    \"children\": {},\n",
    "                    \"point\": {\"x\": 0.30, \"y\": 0.40},\n",
    "                    \"categories\": [{\"name\": \"B\"}],\n",
    "                    \"mid\": \"20230323113857016-51829\",\n",
    "                    \"type\": \"marker\",\n",
    "                },\n",
    "            ]\n",
    "        }\n",
    "    }\n",
    "}"
   ]
  },
  {
   "cell_type": "code",
   "execution_count": null,
   "id": "d8030a8f-20b0-47e9-aa56-64ac7b529ccf",
   "metadata": {
    "tags": []
   },
   "outputs": [],
   "source": [
    "label = ParsedLabel(dict_label, json_interface=json_interface, input_type=\"IMAGE\")"
   ]
  },
  {
   "cell_type": "code",
   "execution_count": null,
   "id": "42b1e4f1-9279-42cd-8192-f704a083b351",
   "metadata": {
    "tags": []
   },
   "outputs": [
    {
     "name": "stdout",
     "output_type": "stream",
     "text": [
      "marker\n"
     ]
    }
   ],
   "source": [
    "print(label.jobs[\"OBJECT_DETECTION_JOB\"].annotations[1].type)"
   ]
  },
  {
   "cell_type": "code",
   "execution_count": null,
   "id": "f6c0aebf-c3a0-4774-84c6-81b8fe367201",
   "metadata": {
    "tags": []
   },
   "outputs": [
    {
     "name": "stdout",
     "output_type": "stream",
     "text": [
      "{'x': 0.3, 'y': 0.4}\n"
     ]
    }
   ],
   "source": [
    "print(label.jobs[\"OBJECT_DETECTION_JOB\"].annotations[1].point)"
   ]
  },
  {
   "cell_type": "code",
   "execution_count": null,
   "id": "eeb6c38b-b803-4fce-9554-99b8b1598071",
   "metadata": {
    "tags": []
   },
   "outputs": [
    {
     "name": "stdout",
     "output_type": "stream",
     "text": [
      "B\n"
     ]
    }
   ],
   "source": [
    "print(label.jobs[\"OBJECT_DETECTION_JOB\"].annotations[1].category.name)"
   ]
  },
  {
   "cell_type": "markdown",
   "id": "43ecf657-e204-4fae-b1e0-70602bd71e76",
   "metadata": {},
   "source": [
    "## Line detection job"
   ]
  },
  {
   "cell_type": "markdown",
   "id": "1da194b6-084d-4f0a-8126-7fa9e027524b",
   "metadata": {},
   "source": [
    "A polyline parsed label has a `.polyline` attribute."
   ]
  },
  {
   "cell_type": "code",
   "execution_count": null,
   "id": "c88096f2-94bc-4966-be48-c70e8f3c5e64",
   "metadata": {
    "tags": []
   },
   "outputs": [],
   "source": [
    "json_interface = {\n",
    "    \"jobs\": {\n",
    "        \"OBJECT_DETECTION_JOB\": {\n",
    "            \"content\": {\n",
    "                \"categories\": {\n",
    "                    \"A\": {\"children\": [], \"color\": \"#472CED\", \"name\": \"A\"},\n",
    "                    \"B\": {\"children\": [], \"name\": \"B\", \"color\": \"#5CE7B7\"},\n",
    "                },\n",
    "                \"input\": \"radio\",\n",
    "            },\n",
    "            \"instruction\": \"Job name\",\n",
    "            \"mlTask\": \"OBJECT_DETECTION\",\n",
    "            \"required\": 1,\n",
    "            \"tools\": [\"polyline\"],\n",
    "            \"isChild\": False,\n",
    "        }\n",
    "    }\n",
    "}\n",
    "\n",
    "dict_label = {\n",
    "    \"jsonResponse\": {\n",
    "        \"OBJECT_DETECTION_JOB\": {\n",
    "            \"annotations\": [\n",
    "                {\n",
    "                    \"children\": {},\n",
    "                    \"polyline\": [{\"x\": 0.59, \"y\": 0.40}, {\"x\": 0.25, \"y\": 0.30}],\n",
    "                    \"categories\": [{\"name\": \"A\"}],\n",
    "                    \"mid\": \"20230428163557647-23000\",\n",
    "                    \"type\": \"polyline\",\n",
    "                },\n",
    "                {\n",
    "                    \"children\": {},\n",
    "                    \"polyline\": [{\"x\": 0.70, \"y\": 0.50}, {\"x\": 0.40, \"y\": 0.70}],\n",
    "                    \"categories\": [{\"name\": \"B\"}],\n",
    "                    \"mid\": \"20230428163606237-86143\",\n",
    "                    \"type\": \"polyline\",\n",
    "                },\n",
    "            ]\n",
    "        }\n",
    "    }\n",
    "}"
   ]
  },
  {
   "cell_type": "code",
   "execution_count": null,
   "id": "7349a8c7-0a5c-4b29-8f70-79522d838a7a",
   "metadata": {
    "tags": []
   },
   "outputs": [],
   "source": [
    "label = ParsedLabel(dict_label, json_interface=json_interface, input_type=\"IMAGE\")"
   ]
  },
  {
   "cell_type": "code",
   "execution_count": null,
   "id": "047c17a4-3b62-418f-9cd6-29f69bdf69da",
   "metadata": {
    "tags": []
   },
   "outputs": [
    {
     "name": "stdout",
     "output_type": "stream",
     "text": [
      "2\n"
     ]
    }
   ],
   "source": [
    "print(len(label.jobs[\"OBJECT_DETECTION_JOB\"].annotations))"
   ]
  },
  {
   "cell_type": "code",
   "execution_count": null,
   "id": "29a76e4b-b2ba-45bb-8565-59cdb00b459d",
   "metadata": {
    "tags": []
   },
   "outputs": [
    {
     "data": {
      "text/plain": [
       "'A'"
      ]
     },
     "execution_count": null,
     "metadata": {},
     "output_type": "execute_result"
    }
   ],
   "source": [
    "print(label.jobs[\"OBJECT_DETECTION_JOB\"].annotations[0].category.name)"
   ]
  },
  {
   "cell_type": "code",
   "execution_count": null,
   "id": "85a075e1-7c16-48a6-bca5-698945f3c8d7",
   "metadata": {
    "tags": []
   },
   "outputs": [
    {
     "name": "stdout",
     "output_type": "stream",
     "text": [
      "[{'x': 0.59, 'y': 0.4}, {'x': 0.25, 'y': 0.3}]\n"
     ]
    }
   ],
   "source": [
    "print(label.jobs[\"OBJECT_DETECTION_JOB\"].annotations[0].polyline)"
   ]
  },
  {
   "cell_type": "markdown",
   "id": "de1e1079-fc62-487b-90c9-959311ee1575",
   "metadata": {},
   "source": [
    "## Video job"
   ]
  },
  {
   "cell_type": "markdown",
   "id": "4bcc7595-59e8-4b4a-83f3-6970f9bdb991",
   "metadata": {},
   "source": [
    "A video label has an additional attribute `.frames` that returns the annotations for each frame."
   ]
  },
  {
   "cell_type": "code",
   "execution_count": null,
   "id": "0841f402-c23b-4f52-b924-f1d8719af31a",
   "metadata": {
    "tags": []
   },
   "outputs": [],
   "source": [
    "json_interface = {\n",
    "    \"jobs\": {\n",
    "        \"FRAME_CLASSIF_JOB\": {\n",
    "            \"content\": {\n",
    "                \"categories\": {\n",
    "                    \"OBJECT_A\": {\"children\": [], \"name\": \"Object A\"},\n",
    "                    \"OBJECT_B\": {\"children\": [], \"name\": \"Object B\"},\n",
    "                },\n",
    "                \"input\": \"radio\",\n",
    "            },\n",
    "            \"instruction\": \"Categories\",\n",
    "            \"isChild\": False,\n",
    "            \"mlTask\": \"CLASSIFICATION\",\n",
    "            \"models\": {},\n",
    "            \"isVisible\": False,\n",
    "            \"required\": 1,\n",
    "        }\n",
    "    }\n",
    "}\n",
    "\n",
    "dict_label = {\n",
    "    \"jsonResponse\": {\n",
    "        \"0\": {},\n",
    "        \"1\": {},\n",
    "        \"2\": {},\n",
    "        \"3\": {},\n",
    "        \"4\": {},\n",
    "        \"5\": {\n",
    "            \"FRAME_CLASSIF_JOB\": {\n",
    "                \"categories\": [{\"confidence\": 100, \"name\": \"OBJECT_A\"}],\n",
    "                \"isKeyFrame\": True,\n",
    "                \"annotations\": [],\n",
    "            }\n",
    "        },\n",
    "        \"6\": {\n",
    "            \"FRAME_CLASSIF_JOB\": {\n",
    "                \"categories\": [{\"confidence\": 42, \"name\": \"OBJECT_B\"}],\n",
    "                \"isKeyFrame\": False,\n",
    "                \"annotations\": [],\n",
    "            }\n",
    "        },\n",
    "        \"7\": {},\n",
    "        \"8\": {},\n",
    "    }\n",
    "}"
   ]
  },
  {
   "cell_type": "code",
   "execution_count": null,
   "id": "cb70a788-e227-4dd4-a940-fb5a27f0b695",
   "metadata": {
    "tags": []
   },
   "outputs": [],
   "source": [
    "label = ParsedLabel(dict_label, json_interface=json_interface, input_type=\"VIDEO\")"
   ]
  },
  {
   "cell_type": "code",
   "execution_count": null,
   "id": "1e4f091c-4d12-4a33-97da-b506833df73f",
   "metadata": {
    "tags": []
   },
   "outputs": [
    {
     "name": "stdout",
     "output_type": "stream",
     "text": [
      "Frame 0: {}\n",
      "Frame 1: {}\n",
      "Frame 2: {}\n",
      "Frame 3: {}\n",
      "Frame 4: {}\n",
      "Frame 5: {'isKeyFrame': True, 'categories': [{'name': 'OBJECT_A', 'confidence': 100}], 'annotations': []}\n",
      "Frame 6: {'isKeyFrame': False, 'categories': [{'name': 'OBJECT_B', 'confidence': 42}], 'annotations': []}\n",
      "Frame 7: {}\n",
      "Frame 8: {}\n"
     ]
    }
   ],
   "source": [
    "for i, frame_annotations in enumerate(label.jobs[\"FRAME_CLASSIF_JOB\"].frames):\n",
    "    print(f\"Frame {i}: {frame_annotations}\")"
   ]
  },
  {
   "cell_type": "code",
   "execution_count": null,
   "id": "7df4a886-0ff1-44ac-93bf-e0a865c099b2",
   "metadata": {
    "tags": []
   },
   "outputs": [],
   "source": [
    "frame = label.jobs[\"FRAME_CLASSIF_JOB\"].frames[5]"
   ]
  },
  {
   "cell_type": "code",
   "execution_count": null,
   "id": "a99137d0-4afa-4dc1-8a20-a1689804864c",
   "metadata": {
    "tags": []
   },
   "outputs": [
    {
     "name": "stdout",
     "output_type": "stream",
     "text": [
      "OBJECT_A\n"
     ]
    }
   ],
   "source": [
    "print(frame.category.name)"
   ]
  },
  {
   "cell_type": "markdown",
   "id": "387b05de-39d4-42d3-a7d6-9838990e24aa",
   "metadata": {},
   "source": [
    "The syntax is similar for object detection jobs on video:"
   ]
  },
  {
   "cell_type": "code",
   "execution_count": null,
   "id": "2e4a8411-6a8a-4617-931e-84b44a8332c1",
   "metadata": {
    "tags": []
   },
   "outputs": [],
   "source": [
    "json_interface = {\n",
    "    \"jobs\": {\n",
    "        \"JOB_0\": {\n",
    "            \"content\": {\n",
    "                \"categories\": {\n",
    "                    \"OBJECT_A\": {\"children\": [], \"name\": \"Train\", \"color\": \"#733AFB\"},\n",
    "                    \"OBJECT_B\": {\"children\": [], \"name\": \"Car\", \"color\": \"#3CD876\"},\n",
    "                },\n",
    "                \"input\": \"radio\",\n",
    "            },\n",
    "            \"instruction\": \"Track objects A and B\",\n",
    "            \"isChild\": False,\n",
    "            \"tools\": [\"rectangle\"],\n",
    "            \"mlTask\": \"OBJECT_DETECTION\",\n",
    "            \"models\": {\"tracking\": {}},\n",
    "            \"isVisible\": True,\n",
    "            \"required\": 0,\n",
    "        }\n",
    "    }\n",
    "}\n",
    "\n",
    "dict_label = {\n",
    "    \"jsonResponse\": {\n",
    "        \"0\": {},\n",
    "        \"1\": {\n",
    "            \"JOB_0\": {\n",
    "                \"annotations\": [\n",
    "                    {\n",
    "                        \"children\": {},\n",
    "                        \"boundingPoly\": [\n",
    "                            {\n",
    "                                \"normalizedVertices\": [\n",
    "                                    {\"x\": 0.30, \"y\": 0.63},\n",
    "                                    {\"x\": 0.30, \"y\": 0.55},\n",
    "                                    {\"x\": 0.36, \"y\": 0.55},\n",
    "                                    {\"x\": 0.36, \"y\": 0.63},\n",
    "                                ]\n",
    "                            }\n",
    "                        ],\n",
    "                        \"categories\": [{\"name\": \"OBJECT_B\"}],\n",
    "                        \"mid\": \"20230407140827577-43802\",\n",
    "                        \"type\": \"rectangle\",\n",
    "                        \"isKeyFrame\": True,\n",
    "                    }\n",
    "                ]\n",
    "            }\n",
    "        },\n",
    "    }\n",
    "}"
   ]
  },
  {
   "cell_type": "code",
   "execution_count": null,
   "id": "a824fb14-aaf8-494f-8df4-97d91e1cc192",
   "metadata": {
    "tags": []
   },
   "outputs": [],
   "source": [
    "label = ParsedLabel(dict_label, json_interface=json_interface, input_type=\"VIDEO\")"
   ]
  },
  {
   "cell_type": "code",
   "execution_count": null,
   "id": "aa439899-bee6-4005-9e8e-dbffd942dd87",
   "metadata": {
    "tags": []
   },
   "outputs": [
    {
     "name": "stdout",
     "output_type": "stream",
     "text": [
      "OBJECT_B\n"
     ]
    }
   ],
   "source": [
    "print(label.jobs[\"JOB_0\"].frames[1].annotations[0].category.name)"
   ]
  },
  {
   "cell_type": "markdown",
   "id": "aaf3db05-978e-4702-86f0-2bb92107bf52",
   "metadata": {
    "tags": []
   },
   "source": [
    "## Named entities recognition job"
   ]
  },
  {
   "cell_type": "markdown",
   "id": "aae66133-c3cc-41ef-9b69-2e3ae21a5b5d",
   "metadata": {},
   "source": [
    "For NER jobs, the content of the job reponse is a list of annotations.\n",
    "\n",
    "Those annotations can be accessed through the `.annotations` or `.entity_annotations` attributes."
   ]
  },
  {
   "cell_type": "code",
   "execution_count": null,
   "id": "5b2a56de-182c-45c0-a19b-afe456a15067",
   "metadata": {
    "tags": []
   },
   "outputs": [],
   "source": [
    "json_interface = {\n",
    "    \"jobs\": {\n",
    "        \"NER_JOB\": {\n",
    "            \"mlTask\": \"NAMED_ENTITIES_RECOGNITION\",\n",
    "            \"required\": 1,\n",
    "            \"isChild\": False,\n",
    "            \"content\": {\n",
    "                \"categories\": {\"ORG\": {}, \"PERSON\": {}},\n",
    "                \"input\": \"radio\",\n",
    "            },\n",
    "        }\n",
    "    }\n",
    "}\n",
    "dict_label = {\n",
    "    \"jsonResponse\": {\n",
    "        \"NER_JOB\": {\n",
    "            \"annotations\": [\n",
    "                {\n",
    "                    \"categories\": [{\"name\": \"ORG\", \"confidence\": 42}],\n",
    "                    \"beginOffset\": 21,\n",
    "                    \"content\": \"this is the text for Kili\",\n",
    "                    \"mid\": \"mid_a\",\n",
    "                },\n",
    "                {\n",
    "                    \"categories\": [{\"name\": \"PERSON\", \"confidence\": 100}],\n",
    "                    \"beginOffset\": 8,\n",
    "                    \"content\": \"this is Toto's text\",\n",
    "                    \"mid\": \"mid_b\",\n",
    "                },\n",
    "            ]\n",
    "        }\n",
    "    }\n",
    "}"
   ]
  },
  {
   "cell_type": "code",
   "execution_count": null,
   "id": "babf4283-848e-4b0d-885b-3dcf859f8435",
   "metadata": {
    "tags": []
   },
   "outputs": [],
   "source": [
    "label = ParsedLabel(dict_label, json_interface=json_interface, input_type=\"TEXT\")"
   ]
  },
  {
   "cell_type": "code",
   "execution_count": null,
   "id": "49fc06dc-268c-40bc-ba1b-a36a4c633be7",
   "metadata": {
    "tags": []
   },
   "outputs": [
    {
     "name": "stdout",
     "output_type": "stream",
     "text": [
      "Number of annotations in this label:  2\n"
     ]
    }
   ],
   "source": [
    "print(\"Number of annotations in this label: \", len(label.jobs[\"NER_JOB\"].annotations))"
   ]
  },
  {
   "cell_type": "code",
   "execution_count": null,
   "id": "98007110-ef20-4583-a752-5275dfd7da7a",
   "metadata": {
    "tags": []
   },
   "outputs": [
    {
     "name": "stdout",
     "output_type": "stream",
     "text": [
      "{'name': 'ORG', 'confidence': 42}\n"
     ]
    }
   ],
   "source": [
    "print(label.jobs[\"NER_JOB\"].annotations[0].category)"
   ]
  },
  {
   "cell_type": "code",
   "execution_count": null,
   "id": "79c32d9a-5211-4a81-8268-7131e8685cde",
   "metadata": {
    "tags": []
   },
   "outputs": [
    {
     "name": "stdout",
     "output_type": "stream",
     "text": [
      "21\n"
     ]
    }
   ],
   "source": [
    "print(label.jobs[\"NER_JOB\"].annotations[0].begin_offset)"
   ]
  },
  {
   "cell_type": "code",
   "execution_count": null,
   "id": "51cac713-8fcd-4ed0-99c5-c8ad872fc0ce",
   "metadata": {
    "tags": []
   },
   "outputs": [
    {
     "name": "stdout",
     "output_type": "stream",
     "text": [
      "this is the text for Kili\n"
     ]
    }
   ],
   "source": [
    "print(label.jobs[\"NER_JOB\"].annotations[0].content)"
   ]
  },
  {
   "cell_type": "code",
   "execution_count": null,
   "id": "7855c824-a0c6-4c2c-bcf9-fc39804e692f",
   "metadata": {
    "tags": []
   },
   "outputs": [
    {
     "name": "stdout",
     "output_type": "stream",
     "text": [
      "mid_a\n"
     ]
    }
   ],
   "source": [
    "print(label.jobs[\"NER_JOB\"].annotations[0].mid)"
   ]
  },
  {
   "cell_type": "markdown",
   "id": "b43010c8-da9c-4c52-9b2f-9768698c6c93",
   "metadata": {},
   "source": [
    "It is also possible to iterate over the annotations of this label:"
   ]
  },
  {
   "cell_type": "code",
   "execution_count": null,
   "id": "fb58179f-6148-4e6b-a9cd-d06d49f00b5f",
   "metadata": {
    "tags": []
   },
   "outputs": [
    {
     "name": "stdout",
     "output_type": "stream",
     "text": [
      "{'categories': [{'name': 'ORG', 'confidence': 42}], 'beginOffset': 21, 'content': 'this is the text for Kili', 'mid': 'mid_a'}\n",
      "{'categories': [{'name': 'PERSON', 'confidence': 100}], 'beginOffset': 8, 'content': \"this is Toto's text\", 'mid': 'mid_b'}\n"
     ]
    }
   ],
   "source": [
    "for annotation in label.jobs[\"NER_JOB\"].annotations:\n",
    "    print(annotation)"
   ]
  },
  {
   "cell_type": "markdown",
   "id": "c4f34eb1-9fc6-48be-8630-d61c5864da42",
   "metadata": {},
   "source": [
    "## Named entities recognition in PDF job"
   ]
  },
  {
   "cell_type": "markdown",
   "id": "6196474a-aeb5-4970-a40c-2fb5def15cb7",
   "metadata": {
    "tags": []
   },
   "source": [
    "## Relation job"
   ]
  },
  {
   "cell_type": "markdown",
   "id": "9e521241-afb3-4002-9e46-30654a69d096",
   "metadata": {},
   "source": [
    "### Named entities relation job"
   ]
  },
  {
   "cell_type": "markdown",
   "id": "ee31c7e5-0090-4065-b3f8-c66418b436f6",
   "metadata": {},
   "source": [
    "### Object detection relation job"
   ]
  },
  {
   "cell_type": "markdown",
   "id": "7886c411-c8e0-4928-b061-4ddade569ab8",
   "metadata": {},
   "source": [
    "## Pose estimation job"
   ]
  },
  {
   "cell_type": "markdown",
   "id": "dfb521d2-fe49-4bf6-a845-712656e80f91",
   "metadata": {},
   "source": [
    "## Children jobs"
   ]
  }
 ],
 "metadata": {
  "language_info": {
   "name": "python"
  }
 },
 "nbformat": 4,
 "nbformat_minor": 5
}
