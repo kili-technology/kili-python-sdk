{
 "cells": [
  {
   "cell_type": "markdown",
   "id": "4e8a4f56-2e71-4680-904c-55c80bc7b0d6",
   "metadata": {},
   "source": [
    "<a href=\"https://colab.research.google.com/github/kili-technology/kili-python-sdk/blob/master/recipes/tutorials/plugins_example.ipynb\" target=\"_parent\"><img src=\"https://colab.research.google.com/assets/colab-badge.svg\" alt=\"Open In Colab\"/></a>"
   ]
  },
  {
   "attachments": {},
   "cell_type": "markdown",
   "id": "628e9dba",
   "metadata": {},
   "source": [
    "# Plugins Example"
   ]
  },
  {
   "cell_type": "markdown",
   "id": "b06a48a2",
   "metadata": {},
   "source": [
    "## Context\n",
    "\n",
    "This notebook is an end-to-end example that you can follow to: create a project, upload a first plugin and activate it on this project, and finally start monitoring it.\n",
    "\n",
    "**NB: The plugin capabilities of Kili are under active development, and compatible with version 2.125.2 and later of Kili. Don't hesitate to reach out via Github or the Kili support to provide feedback.**\n"
   ]
  },
  {
   "cell_type": "markdown",
   "id": "32b7bb39",
   "metadata": {},
   "source": [
    "## Step 1: Instantiate Kili"
   ]
  },
  {
   "cell_type": "code",
   "execution_count": null,
   "id": "2de776ee-17cf-41c7-a4d3-08af802f7e0f",
   "metadata": {},
   "outputs": [],
   "source": [
    "!pip install --upgrade kili"
   ]
  },
  {
   "cell_type": "code",
   "execution_count": 1,
   "id": "751f4b11",
   "metadata": {},
   "outputs": [],
   "source": [
    "from kili.client import Kili\n",
    "import os\n",
    "import time\n",
    "\n",
    "kili = Kili()"
   ]
  },
  {
   "cell_type": "markdown",
   "id": "7063407a",
   "metadata": {},
   "source": [
    "## Step 2: Create the project\n",
    "\n",
    "First, we need to create a new project. In our example, we will use an `IMAGE` type project with the following `jsonInterace`:"
   ]
  },
  {
   "cell_type": "code",
   "execution_count": 2,
   "id": "cc56bc57",
   "metadata": {},
   "outputs": [],
   "source": [
    "json_interface = {\n",
    "    \"jobs\": {\n",
    "        \"JOB_0\": {\n",
    "            \"content\": {\n",
    "                \"categories\": {\n",
    "                    \"OBJECT_A\": {\n",
    "                        \"children\": [],\n",
    "                        \"name\": \"Object A\",\n",
    "                        \"color\": \"#733AFB\",\n",
    "                        \"id\": \"category1\",\n",
    "                    },\n",
    "                    \"OBJECT_B\": {\n",
    "                        \"children\": [],\n",
    "                        \"name\": \"Object B\",\n",
    "                        \"color\": \"#3CD876\",\n",
    "                        \"id\": \"category2\",\n",
    "                    },\n",
    "                },\n",
    "                \"input\": \"radio\",\n",
    "            },\n",
    "            \"instruction\": \"Categories\",\n",
    "            \"isChild\": False,\n",
    "            \"tools\": [\"rectangle\"],\n",
    "            \"mlTask\": \"OBJECT_DETECTION\",\n",
    "            \"models\": {},\n",
    "            \"isVisible\": True,\n",
    "            \"required\": 1,\n",
    "            \"isNew\": False,\n",
    "        }\n",
    "    }\n",
    "}"
   ]
  },
  {
   "cell_type": "code",
   "execution_count": 3,
   "id": "b4ef53d4",
   "metadata": {},
   "outputs": [
    {
     "name": "stdout",
     "output_type": "stream",
     "text": [
      "Created project clcysbp9o2d7w0krfghuf7le1\n"
     ]
    }
   ],
   "source": [
    "title = \"Plugins test project\"\n",
    "description = \"My first project with a plugin\"\n",
    "input_type = \"IMAGE\"\n",
    "\n",
    "project = kili.create_project(\n",
    "    title=title, description=description, input_type=input_type, json_interface=json_interface\n",
    ")\n",
    "project_id = project[\"id\"]\n",
    "\n",
    "print(f\"Created project {project_id}\")"
   ]
  },
  {
   "cell_type": "markdown",
   "id": "8c08ec23-87e4-40ae-a94c-72adae734907",
   "metadata": {},
   "source": [
    "Upload an asset:"
   ]
  },
  {
   "cell_type": "code",
   "execution_count": 4,
   "id": "1fa60ef6",
   "metadata": {},
   "outputs": [
    {
     "name": "stderr",
     "output_type": "stream",
     "text": [
      "100%|████████████████████████████████████████████████████████████████████████████████████████████████████████████████████████| 1/1 [00:00<00:00,  2.01it/s]\n"
     ]
    }
   ],
   "source": [
    "content_array = [\"https://storage.googleapis.com/label-public-staging/car/car_1.jpg\"]\n",
    "names_array = [\"landscape\"]\n",
    "\n",
    "kili.append_many_to_dataset(\n",
    "    project_id=project_id, content_array=content_array, external_id_array=names_array\n",
    ")\n",
    "\n",
    "asset_id = list(kili.assets(project_id=project_id, fields=[\"id\"], disable_tqdm=True))[0][\"id\"]"
   ]
  },
  {
   "cell_type": "markdown",
   "id": "4d8490f2",
   "metadata": {},
   "source": [
    "This project has two jobs with several associated transcription tasks.\n",
    "\n",
    "We are interested in the *Payment information* job; more precisely the *IBAN* and the *Currency* sub-jobs.\n",
    "\n",
    "With our plugin, we want to make sure that the labelers type the correct values for the two transcriptions (so we are interested only in the `on_submit` handler of the plugin).\n",
    "\n",
    "The IBAN should start with *FR*, and that the currency should be *EUR* or *USD*.\n",
    "\n",
    "At the end, we want to calculate accuracy and insert the accuracy score in the `json_metadata` of the asset.\n",
    "\n",
    "To iterate on the plugin code, you can refer to the *plugins_development.ipynb* notebook."
   ]
  },
  {
   "cell_type": "markdown",
   "id": "67e3ab74",
   "metadata": {},
   "source": [
    "## Step 3: Write the plugin\n",
    "\n",
    "```python\n",
    "from kili.plugins import PluginCore\n",
    "from kili.types import Label\n",
    "\n",
    "def check_rules_on_label(label: Label):\n",
    "    #custom methods \n",
    "    print('Custom method - checking number of bboxes')\n",
    "\n",
    "    counter = 0\n",
    "    for annotation in label['jsonResponse'][\"JOB_0\"][\"annotations\"]:\n",
    "        if annotation[\"categories\"][0][\"name\"] == \"OBJECT_A\":\n",
    "            counter += 1\n",
    "\n",
    "    if counter == 0:\n",
    "        return []\n",
    "    return [f'There are too many BBox ({counter}) - Only 1 BBox of Object A accepted']\n",
    "\n",
    "class PluginHandler(PluginCore):\n",
    "    \"\"\"\n",
    "    Custom plugin instance\n",
    "    \"\"\"\n",
    "\n",
    "    def on_submit(self, label: Label, asset_id: str) -> None:\n",
    "        \"\"\"\n",
    "        Dedicated handler for Submit action \n",
    "        \"\"\"\n",
    "        self.logger.info(\"On submit called\")\n",
    "\n",
    "        issues_array = check_rules_on_label(label)\n",
    "\n",
    "        project_id = self.project_id\n",
    "\n",
    "        if len(issues_array) > 0:\n",
    "            print(\"Creating an issue...\")\n",
    "\n",
    "            for i, _ in enumerate(issues_array):\n",
    "\n",
    "                self.kili.append_to_issues(\n",
    "                    label_id=label['id'],\n",
    "                    project_id=project_id,\n",
    "                    text=issues_array[i],\n",
    "                )\n",
    "\n",
    "            print(\"Issue created!\")\n",
    "\n",
    "            self.kili.send_back_to_queue(asset_ids=[asset_id])\n",
    "\n",
    "```"
   ]
  },
  {
   "cell_type": "code",
   "execution_count": 5,
   "id": "8b7a123e-22b2-415a-8af0-aa6eaf0d8a40",
   "metadata": {},
   "outputs": [],
   "source": [
    "import urllib.request\n",
    "\n",
    "urllib.request.urlretrieve(\n",
    "    \"https://raw.githubusercontent.com/kili-technology/kili-python-sdk/master/recipes/datasets/plugins/plugin.py\",\n",
    "    \"plugin.py\",\n",
    ");"
   ]
  },
  {
   "cell_type": "markdown",
   "id": "fa10cdff",
   "metadata": {},
   "source": [
    "## Step 4: Upload the plugin\n",
    "\n",
    "With the plugin defined in a separate `Python` file, we can now upload it and activate it on our project.\n",
    "\n",
    "- The upload will create the necessary builds to execute the plugin (it will take a few minutes)\n",
    "- After the activation, you can start using your plugin right away."
   ]
  },
  {
   "cell_type": "code",
   "execution_count": 6,
   "id": "d25e7851",
   "metadata": {},
   "outputs": [
    {
     "name": "stdout",
     "output_type": "stream",
     "text": [
      "Hint: A plugin with this name already exist, if you want to override it you can use the command kili.update_plugin(plugin_path=\"plugin.py\", plugin_name=\"Plugin bbox count\")\n",
      "error: \"[pluginsError] An error occured handling your plugin -- This can be due to: 400: Bad Request: createPlugin: an entity Plugin already exists with value \"Plugin bbox count\" for field 'name' | trace : false\"\n"
     ]
    }
   ],
   "source": [
    "path_to_plugin = \"plugin.py\"\n",
    "plugin_name = \"Plugin bbox count\"\n",
    "\n",
    "from kili.exceptions import GraphQLError\n",
    "\n",
    "try:\n",
    "    kili.upload_plugin(path_to_plugin, plugin_name)\n",
    "except GraphQLError as error:\n",
    "    print(str(error))"
   ]
  },
  {
   "cell_type": "code",
   "execution_count": 7,
   "id": "2863c921-f2e6-4e7e-92e4-387747bd1582",
   "metadata": {},
   "outputs": [
    {
     "name": "stderr",
     "output_type": "stream",
     "text": [
      "Plugin with name \"Plugin bbox count\" activated on project \"clcysbp9o2d7w0krfghuf7le1\"\n"
     ]
    }
   ],
   "source": [
    "kili.activate_plugin_on_project(plugin_name, project_id=project_id);"
   ]
  },
  {
   "cell_type": "markdown",
   "id": "9402cd78",
   "metadata": {},
   "source": [
    "## Step 5: Plugin in action\n",
    "\n",
    "Wait for the plugin to be successfully deployed.\n",
    "\n",
    "After that, you can test it by labelling in the Kili interface or just by uploading the following label.\n",
    "\n",
    "When you add the label that contains errors, you will see a new issue automatically created in the Kili app."
   ]
  },
  {
   "cell_type": "code",
   "execution_count": 8,
   "id": "659dda38",
   "metadata": {},
   "outputs": [],
   "source": [
    "json_response = {\n",
    "    \"JOB_0\": {\n",
    "        \"annotations\": [\n",
    "            {\n",
    "                \"boundingPoly\": [\n",
    "                    {\n",
    "                        \"normalizedVertices\": [\n",
    "                            {\"x\": 0.15, \"y\": 0.84},\n",
    "                            {\"x\": 0.15, \"y\": 0.31},\n",
    "                            {\"x\": 0.82, \"y\": 0.31},\n",
    "                            {\"x\": 0.82, \"y\": 0.84},\n",
    "                        ]\n",
    "                    }\n",
    "                ],\n",
    "                \"categories\": [{\"name\": \"OBJECT_A\"}],\n",
    "                \"children\": {},\n",
    "                \"mid\": \"20221124161451411-13314\",\n",
    "                \"type\": \"rectangle\",\n",
    "            },\n",
    "            {\n",
    "                \"boundingPoly\": [\n",
    "                    {\n",
    "                        \"normalizedVertices\": [\n",
    "                            {\"x\": 0.79, \"y\": 0.20},\n",
    "                            {\"x\": 0.79, \"y\": 0.13},\n",
    "                            {\"x\": 0.91, \"y\": 0.13},\n",
    "                            {\"x\": 0.91, \"y\": 0.20},\n",
    "                        ]\n",
    "                    }\n",
    "                ],\n",
    "                \"categories\": [{\"name\": \"OBJECT_A\"}],\n",
    "                \"children\": {},\n",
    "                \"mid\": \"20221124161456406-47055\",\n",
    "                \"type\": \"rectangle\",\n",
    "            },\n",
    "            {\n",
    "                \"boundingPoly\": [\n",
    "                    {\n",
    "                        \"normalizedVertices\": [\n",
    "                            {\"x\": 0.87, \"y\": 0.36},\n",
    "                            {\"x\": 0.87, \"y\": 0.27},\n",
    "                            {\"x\": 0.99, \"y\": 0.27},\n",
    "                            {\"x\": 0.99, \"y\": 0.36},\n",
    "                        ]\n",
    "                    }\n",
    "                ],\n",
    "                \"categories\": [{\"name\": \"OBJECT_A\"}],\n",
    "                \"children\": {},\n",
    "                \"mid\": \"20221124161459298-45160\",\n",
    "                \"type\": \"rectangle\",\n",
    "            },\n",
    "        ]\n",
    "    }\n",
    "}"
   ]
  },
  {
   "cell_type": "code",
   "execution_count": 9,
   "id": "185c0155",
   "metadata": {},
   "outputs": [
    {
     "name": "stderr",
     "output_type": "stream",
     "text": [
      "100%|████████████████████████████████████████████████████████████████████████████████████████████████████████████████████████| 1/1 [00:01<00:00,  1.45s/it]\n"
     ]
    },
    {
     "data": {
      "text/plain": [
       "[{'id': 'clcysc83n2asf0lq483rlc5wv'}]"
      ]
     },
     "execution_count": 9,
     "metadata": {},
     "output_type": "execute_result"
    }
   ],
   "source": [
    "kili.append_labels(\n",
    "    json_response_array=[json_response], asset_id_array=[asset_id], label_type=\"DEFAULT\"\n",
    ")"
   ]
  },
  {
   "cell_type": "markdown",
   "id": "0586bbf0",
   "metadata": {},
   "source": [
    "If you use the base plugin provided, the plugin should:\n",
    "\n",
    " - Create an issue with information that three bboxes were found, instead of one\n",
    " - Send the asset back to the labeling queue (status `ONGOING`)"
   ]
  },
  {
   "cell_type": "code",
   "execution_count": 10,
   "id": "44657eb7",
   "metadata": {},
   "outputs": [
    {
     "name": "stderr",
     "output_type": "stream",
     "text": [
      "100%|████████████████████████████████████████████████████████████████████████████████████████████████████████████████████████| 1/1 [00:00<00:00,  2.01it/s]"
     ]
    },
    {
     "name": "stdout",
     "output_type": "stream",
     "text": [
      "[{'issues': [], 'status': 'LABELED'}]\n",
      "Go to my project: https://cloud.kili-technology.com/label/projects/clcysbp9o2d7w0krfghuf7le1/menu/queue\n"
     ]
    },
    {
     "name": "stderr",
     "output_type": "stream",
     "text": [
      "\n"
     ]
    }
   ],
   "source": [
    "print(\n",
    "    kili.assets(project_id=project_id, asset_id=asset_id, fields=[\"status\", \"issues.comments.text\"])\n",
    ")\n",
    "\n",
    "print(\n",
    "    f'Go to my project: {kili.auth.api_endpoint.split(\"/api\")[0]}/label/projects/{project_id}/menu/queue'\n",
    ")"
   ]
  },
  {
   "cell_type": "markdown",
   "id": "b79dabf4",
   "metadata": {},
   "source": [
    "Woah! Amazing! Well done :) 🚀\n",
    "\n",
    "Let's test now to post a proper label, this one for example:"
   ]
  },
  {
   "cell_type": "code",
   "execution_count": 11,
   "id": "65521b13",
   "metadata": {},
   "outputs": [
    {
     "name": "stderr",
     "output_type": "stream",
     "text": [
      "100%|████████████████████████████████████████████████████████████████████████████████████████████████████████████████████████| 1/1 [00:02<00:00,  2.88s/it]\n",
      "100%|████████████████████████████████████████████████████████████████████████████████████████████████████████████████████████| 1/1 [00:02<00:00,  2.06s/it]"
     ]
    },
    {
     "name": "stdout",
     "output_type": "stream",
     "text": [
      "[{'status': 'LABELED'}]\n",
      "Go to my project: https://cloud.kili-technology.com/label/projects/clcysbp9o2d7w0krfghuf7le1/menu/queue\n"
     ]
    },
    {
     "name": "stderr",
     "output_type": "stream",
     "text": [
      "\n"
     ]
    }
   ],
   "source": [
    "json_response = {\n",
    "    \"JOB_0\": {\n",
    "        \"annotations\": [\n",
    "            {\n",
    "                \"boundingPoly\": [\n",
    "                    {\n",
    "                        \"normalizedVertices\": [\n",
    "                            {\"x\": 0.15, \"y\": 0.84},\n",
    "                            {\"x\": 0.15, \"y\": 0.31},\n",
    "                            {\"x\": 0.82, \"y\": 0.31},\n",
    "                            {\"x\": 0.82, \"y\": 0.84},\n",
    "                        ]\n",
    "                    }\n",
    "                ],\n",
    "                \"categories\": [{\"name\": \"OBJECT_A\"}],\n",
    "                \"children\": {},\n",
    "                \"mid\": \"20221124161451411-13314\",\n",
    "                \"type\": \"rectangle\",\n",
    "            }\n",
    "        ]\n",
    "    }\n",
    "}\n",
    "kili.append_labels(\n",
    "    json_response_array=[json_response], asset_id_array=[asset_id], label_type=\"DEFAULT\"\n",
    ")\n",
    "\n",
    "print(kili.assets(project_id=project_id, asset_id=asset_id, fields=[\"status\"]))\n",
    "\n",
    "print(\n",
    "    f'Go to my project: {kili.auth.api_endpoint.split(\"/api\")[0]}/label/projects/{project_id}/menu/queue'\n",
    ")"
   ]
  },
  {
   "cell_type": "markdown",
   "id": "d9ecedd5",
   "metadata": {},
   "source": [
    "The status of your asset should have now changed to `LABELED`. In this plugin, previous issues remain but you can solve them through the API as well.\n",
    "\n",
    "\n",
    "Well done! You can now iterate on the script. To learn how to avoid latency when building and deploying your plugin, refer to the *plugins_development.ipynb* tutorial."
   ]
  },
  {
   "cell_type": "markdown",
   "id": "cd8b5800",
   "metadata": {},
   "source": [
    "## Step 6: Monitor the plugin\n",
    "To monitor a certain plugin, you can get its logs by using the following command:"
   ]
  },
  {
   "cell_type": "code",
   "execution_count": 12,
   "id": "dc645b76",
   "metadata": {},
   "outputs": [
    {
     "name": "stdout",
     "output_type": "stream",
     "text": [
      "[\n",
      "    {\n",
      "        \"content\": \"Issue created!\",\n",
      "        \"createdAt\": \"2023-01-16T12:31:27.633Z\",\n",
      "        \"logType\": \"info\",\n",
      "        \"metadata\": {\n",
      "            \"assetId\": \"clcysbre30000jevzat4b7k4d\",\n",
      "            \"labelId\": \"clcysc83n2asf0lq483rlc5wv\"\n",
      "        },\n",
      "        \"pluginName\": \"Plugin bbox count\",\n",
      "        \"projectId\": \"clcysbp9o2d7w0krfghuf7le1\",\n",
      "        \"runId\": \"clcysc93e07wv014z5nbc0kfc\"\n",
      "    },\n",
      "    {\n",
      "        \"content\": \"Creating an issue...\",\n",
      "        \"createdAt\": \"2023-01-16T12:31:26.620Z\",\n",
      "        \"logType\": \"info\",\n",
      "        \"metadata\": {\n",
      "            \"assetId\": \"clcysbre30000jevzat4b7k4d\",\n",
      "            \"labelId\": \"clcysc83n2asf0lq483rlc5wv\"\n",
      "        },\n",
      "        \"pluginName\": \"Plugin bbox count\",\n",
      "        \"projectId\": \"clcysbp9o2d7w0krfghuf7le1\",\n",
      "        \"runId\": \"clcysc93e07wv014z5nbc0kfc\"\n",
      "    },\n",
      "    {\n",
      "        \"content\": \"Custom method - checking number of bboxes\",\n",
      "        \"createdAt\": \"2023-01-16T12:31:26.619Z\",\n",
      "        \"logType\": \"info\",\n",
      "        \"metadata\": {\n",
      "            \"assetId\": \"clcysbre30000jevzat4b7k4d\",\n",
      "            \"labelId\": \"clcysc83n2asf0lq483rlc5wv\"\n",
      "        },\n",
      "        \"pluginName\": \"Plugin bbox count\",\n",
      "        \"projectId\": \"clcysbp9o2d7w0krfghuf7le1\",\n",
      "        \"runId\": \"clcysc93e07wv014z5nbc0kfc\"\n",
      "    },\n",
      "    {\n",
      "        \"content\": \"On submit called\",\n",
      "        \"createdAt\": \"2023-01-16T12:31:26.619Z\",\n",
      "        \"logType\": \"info\",\n",
      "        \"metadata\": {\n",
      "            \"assetId\": \"clcysbre30000jevzat4b7k4d\",\n",
      "            \"labelId\": \"clcysc83n2asf0lq483rlc5wv\"\n",
      "        },\n",
      "        \"pluginName\": \"Plugin bbox count\",\n",
      "        \"projectId\": \"clcysbp9o2d7w0krfghuf7le1\",\n",
      "        \"runId\": \"clcysc93e07wv014z5nbc0kfc\"\n",
      "    }\n",
      "]\n"
     ]
    }
   ],
   "source": [
    "import json\n",
    "from datetime import date\n",
    "from datetime import datetime\n",
    "\n",
    "dt = (\n",
    "    date.today()\n",
    ")  # You can change this date if needed, or omit it to set it at the plugin creation date\n",
    "start_date = datetime.combine(dt, datetime.min.time())\n",
    "\n",
    "logs = kili.get_plugin_logs(project_id=project_id, plugin_name=plugin_name, start_date=start_date)\n",
    "\n",
    "logs_json = json.loads(logs)\n",
    "print(json.dumps(logs_json, indent=4))"
   ]
  },
  {
   "cell_type": "markdown",
   "id": "1b463bfc",
   "metadata": {
    "tags": []
   },
   "source": [
    "## Step 7: Manage the plugin\n",
    "\n",
    "You also have several other methods to manage your plugins."
   ]
  },
  {
   "cell_type": "markdown",
   "id": "2b90951b-b12d-4400-a5cc-a1061e740449",
   "metadata": {},
   "source": [
    "Get the list of all uploaded plugins in your organization:"
   ]
  },
  {
   "cell_type": "code",
   "execution_count": 13,
   "id": "b44d0498",
   "metadata": {},
   "outputs": [],
   "source": [
    "plugins = kili.list_plugins()"
   ]
  },
  {
   "cell_type": "markdown",
   "id": "11fb8e73-cfb9-4260-b720-6217d5490d05",
   "metadata": {},
   "source": [
    "Update a plugin with new source code:"
   ]
  },
  {
   "cell_type": "code",
   "execution_count": 14,
   "id": "21ed1924",
   "metadata": {},
   "outputs": [],
   "source": [
    "new_path_to_plugin = \"plugin.py\"\n",
    "if new_path_to_plugin != path_to_plugin:\n",
    "    kili.update_plugin(plugin_name=plugin_name, plugin_path=new_path_to_plugin)"
   ]
  },
  {
   "cell_type": "markdown",
   "id": "b43528d7-e021-4119-95a4-7fd61506812b",
   "metadata": {},
   "source": [
    "Deactivate the plugin on a certain project (the plugin can still be active for other projects):"
   ]
  },
  {
   "cell_type": "code",
   "execution_count": 15,
   "id": "4962d0b7",
   "metadata": {},
   "outputs": [
    {
     "name": "stderr",
     "output_type": "stream",
     "text": [
      "Plugin Plugin bbox count deactivated on project clcysbp9o2d7w0krfghuf7le1\n"
     ]
    }
   ],
   "source": [
    "kili.deactivate_plugin_on_project(plugin_name=plugin_name, project_id=project_id);"
   ]
  },
  {
   "cell_type": "markdown",
   "id": "bede1709-de29-4783-a04f-f5e45e29e642",
   "metadata": {},
   "source": [
    "Delete the plugin completely (deactivates the plugin from all projects):"
   ]
  },
  {
   "cell_type": "code",
   "execution_count": 16,
   "id": "449dcc86-9a45-485f-a292-ae765a032642",
   "metadata": {
    "tags": [
     "skip"
    ]
   },
   "outputs": [],
   "source": [
    "delete_plugin_from_org = False"
   ]
  },
  {
   "cell_type": "code",
   "execution_count": 17,
   "id": "1d9605f4",
   "metadata": {},
   "outputs": [],
   "source": [
    "if delete_plugin_from_org:\n",
    "    kili.delete_plugin(plugin_name=plugin_name)"
   ]
  },
  {
   "cell_type": "markdown",
   "id": "4d21dec9-324c-4ce7-b8e9-8e356da4bf7d",
   "metadata": {
    "tags": [
     "skip"
    ]
   },
   "source": [
    "## Delete project"
   ]
  },
  {
   "cell_type": "code",
   "execution_count": 18,
   "id": "92e33fa6-5201-4d2d-82bd-ad4e3e5e6466",
   "metadata": {
    "tags": [
     "skip"
    ]
   },
   "outputs": [
    {
     "data": {
      "text/plain": [
       "'clcysbp9o2d7w0krfghuf7le1'"
      ]
     },
     "execution_count": 18,
     "metadata": {},
     "output_type": "execute_result"
    }
   ],
   "source": [
    "kili.delete_project(project_id)"
   ]
  }
 ],
 "metadata": {
  "kernelspec": {
   "display_name": "python37",
   "language": "python",
   "name": "python3"
  },
  "language_info": {
   "codemirror_mode": {
    "name": "ipython",
    "version": 3
   },
   "file_extension": ".py",
   "mimetype": "text/x-python",
   "name": "python",
   "nbconvert_exporter": "python",
   "pygments_lexer": "ipython3",
   "version": "3.7.15 (default, Nov 24 2022, 12:02:37) \n[Clang 14.0.6 ]"
  },
  "vscode": {
   "interpreter": {
    "hash": "ebcc9ab275a0b8333d76f3c9007aff6798cc23ea07d3b4c53c0b1df0392e66fe"
   }
  }
 },
 "nbformat": 4,
 "nbformat_minor": 5
}
