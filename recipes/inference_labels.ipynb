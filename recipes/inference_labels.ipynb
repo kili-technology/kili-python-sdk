{
 "cells": [
  {
   "attachments": {},
   "cell_type": "markdown",
   "metadata": {},
   "source": [
    "<a href=\"https://colab.research.google.com/github/kili-technology/kili-python-sdk/blob/main/recipes/inference_labels.ipynb\" target=\"_parent\"><img src=\"https://colab.research.google.com/assets/colab-badge.svg\" alt=\"Open In Colab\"/></a>"
   ]
  },
  {
   "attachments": {},
   "cell_type": "markdown",
   "metadata": {},
   "source": [
    "# How to import inference labels\n",
    "\n",
    "In this tutorial, we will walk through the process of using Kili to evaluate the performance of a machine learning model in production.\n",
    "\n",
    "We will learn how to push model-generated labels to Kili and how to visualize their quality."
   ]
  },
  {
   "cell_type": "code",
   "execution_count": null,
   "metadata": {
    "tags": []
   },
   "outputs": [],
   "source": [
    "%pip install kili"
   ]
  },
  {
   "cell_type": "code",
   "execution_count": null,
   "metadata": {
    "tags": [
     "remove_cell"
    ]
   },
   "outputs": [],
   "source": [
    "import time"
   ]
  },
  {
   "cell_type": "code",
   "execution_count": null,
   "metadata": {
    "tags": []
   },
   "outputs": [],
   "source": [
    "from kili.client import Kili"
   ]
  },
  {
   "cell_type": "code",
   "execution_count": null,
   "metadata": {},
   "outputs": [],
   "source": [
    "kili = Kili(\n",
    "    # api_endpoint=\"https://cloud.kili-technology.com/api/label/v2/graphql\",\n",
    "    # the line above can be uncommented and changed if you are working with an on-premise version of Kili\n",
    ")"
   ]
  },
  {
   "attachments": {},
   "cell_type": "markdown",
   "metadata": {},
   "source": [
    "## Context"
   ]
  },
  {
   "attachments": {},
   "cell_type": "markdown",
   "metadata": {},
   "source": [
    "### Agreement"
   ]
  },
  {
   "attachments": {},
   "cell_type": "markdown",
   "metadata": {},
   "source": [
    "Let's say you have a trained machine learning model $m$, which can, given data $x$, output a prediction (i.e., an inference label): $\\hat{y} = m(x)$.\n",
    "\n",
    "What you will probably want to do is monitor the quality of such predictions, as the model evolves.\n",
    "Kili allows you to better monitor and iterate on your model, thanks to the concept of agreement.\n",
    "An agreement is a quantitative measure of similarity between two different labels.\n",
    "In Kili, there are three main features derived from agreement: \n",
    "\n",
    "- [**Consensus**](https://docs.kili-technology.com/docs/consensus-overview), which is the agreement between two labelers.\n",
    "- [**Honeypot**](https://docs.kili-technology.com/docs/honeypot-overview), which is the agreement between a \"super human annotator\" and a labeler.\n",
    "- **Inference**, which is the agreement between a model-generated label and a human.\n",
    "\n",
    "Those numbers can be monitored from the [queue page](https://docs.kili-technology.com/docs/queue-page) or the [analytics page](https://docs.kili-technology.com/docs/analytics-page). You can find how the agreement is computed [here](https://docs.kili-technology.com/docs/calculation-rules-for-quality-metrics).\n",
    "\n",
    "In this tutorial, we will put an emphasis on **Inference**."
   ]
  },
  {
   "attachments": {},
   "cell_type": "markdown",
   "metadata": {},
   "source": [
    "### Use cases "
   ]
  },
  {
   "attachments": {},
   "cell_type": "markdown",
   "metadata": {},
   "source": [
    "We identify two main use cases for the use of **inference** labels.\n",
    "\n",
    "The first use case is when you have a model in production.\n",
    "When it receives assets, it automatically feeds a Kili project with both the asset and the predicted label.\n",
    "You also have human workforce whose job is to monitor the quality of the model.\n",
    "They manually label a portion of the data after it had been pre-labeled by the model.\n",
    "When a human submits a label, the inference score (model vs. human) for that label is automatically computed.\n",
    "Low inference scores can indicate either a model performing badly on some kind of data, or a disagreement between humans and the model.\n",
    "This can help you to:\n",
    "\n",
    "- Detect data drift.\n",
    "- Identify data on which the model needs improvement.\n",
    "      \n",
    "The second use case is when you used Kili to label data and you have the first iteration of your model.\n",
    "You can now use a part of the labeled dataset as testing data, and quickly get test scores.\n",
    "Of course, you could use your own metrics (rather than our own definition of agreement), but using Kili lets you quickly filter and indentify the assets where your model differs the most from the ground truth.\n",
    "\n",
    "- When you push an inference-type label to an asset, the inference score is automatically computed for the most recent label added to this asset.\n",
    "- You can filter on low inference score, to understand why your model is failing, and how to fix it (getting more data, splitting or merging categories, etc.).\n",
    "\n",
    "With Kili, you can quickly iterate on the data used to train your model, to get a better model faster."
   ]
  },
  {
   "attachments": {},
   "cell_type": "markdown",
   "metadata": {},
   "source": [
    "## In practice"
   ]
  },
  {
   "attachments": {},
   "cell_type": "markdown",
   "metadata": {},
   "source": [
    "### Use case 1"
   ]
  },
  {
   "attachments": {},
   "cell_type": "markdown",
   "metadata": {},
   "source": [
    "We start by creating a project and defining a model which, given an asset input $x$, returns a category (random in our example):"
   ]
  },
  {
   "cell_type": "code",
   "execution_count": null,
   "metadata": {
    "tags": []
   },
   "outputs": [],
   "source": [
    "json_interface = {\n",
    "    \"jobs\": {\n",
    "        \"CLASSIFICATION_JOB\": {\n",
    "            \"mlTask\": \"CLASSIFICATION\",\n",
    "            \"content\": {\n",
    "                \"categories\": {\n",
    "                    \"RED\": {\"name\": \"Red\"},\n",
    "                    \"BLACK\": {\"name\": \"Black\"},\n",
    "                    \"WHITE\": {\"name\": \"White\"},\n",
    "                    \"GREY\": {\"name\": \"Grey\"},\n",
    "                },\n",
    "                \"input\": \"radio\",\n",
    "            },\n",
    "            \"required\": 0,\n",
    "            \"isChild\": False,\n",
    "            \"instruction\": \"Color\",\n",
    "        }\n",
    "    }\n",
    "}\n",
    "\n",
    "project_id = kili.create_project(\n",
    "    title=\"[Kili SDK Notebook]: Project demo inference\",\n",
    "    input_type=\"IMAGE\",\n",
    "    json_interface=json_interface,\n",
    ")[\"id\"]"
   ]
  },
  {
   "attachments": {},
   "cell_type": "markdown",
   "metadata": {},
   "source": [
    "Then we can simulate that our model is in production.\n",
    "Each time it receives an asset, we upload it to Kili along with the predicted label."
   ]
  },
  {
   "cell_type": "code",
   "execution_count": null,
   "metadata": {
    "tags": []
   },
   "outputs": [],
   "source": [
    "stream_of_assets = [\n",
    "    {\n",
    "        \"url\": (\n",
    "            \"https://storage.googleapis.com/label-public-staging/recipes/inference/black_car.jpg\"\n",
    "        ),\n",
    "        \"external_id\": \"black_car.jpg\",\n",
    "    },\n",
    "    {\n",
    "        \"url\": \"https://storage.googleapis.com/label-public-staging/recipes/inference/grey_car.jpg\",\n",
    "        \"external_id\": \"grey_car.jpg\",\n",
    "    },\n",
    "    {\n",
    "        \"url\": (\n",
    "            \"https://storage.googleapis.com/label-public-staging/recipes/inference/white_car.jpg\"\n",
    "        ),\n",
    "        \"external_id\": \"white_car.jpg\",\n",
    "    },\n",
    "    {\n",
    "        \"url\": \"https://storage.googleapis.com/label-public-staging/recipes/inference/red_car.jpg\",\n",
    "        \"external_id\": \"red_car.jpg\",\n",
    "    },\n",
    "]"
   ]
  },
  {
   "attachments": {},
   "cell_type": "markdown",
   "metadata": {},
   "source": [
    "We import the assets into the Kili project:"
   ]
  },
  {
   "cell_type": "code",
   "execution_count": null,
   "metadata": {
    "tags": []
   },
   "outputs": [],
   "source": [
    "kili.append_many_to_dataset(\n",
    "    project_id=project_id,\n",
    "    content_array=[asset[\"url\"] for asset in stream_of_assets],\n",
    "    external_id_array=[asset[\"external_id\"] for asset in stream_of_assets],\n",
    ")"
   ]
  },
  {
   "attachments": {},
   "cell_type": "markdown",
   "metadata": {},
   "source": [
    "We simulate some model predictions:"
   ]
  },
  {
   "cell_type": "code",
   "execution_count": null,
   "metadata": {
    "tags": []
   },
   "outputs": [],
   "source": [
    "predictions = {\n",
    "    \"black_car.jpg\": \"WHITE\",\n",
    "    \"grey_car.jpg\": \"GREY\",\n",
    "    \"white_car.jpg\": \"RED\",\n",
    "    \"red_car.jpg\": \"BLACK\",\n",
    "}"
   ]
  },
  {
   "attachments": {},
   "cell_type": "markdown",
   "metadata": {},
   "source": [
    "And we upload those predictions to Kili:"
   ]
  },
  {
   "cell_type": "code",
   "execution_count": null,
   "metadata": {
    "tags": []
   },
   "outputs": [],
   "source": [
    "predicted_categories = [predictions[asset[\"external_id\"]] for asset in stream_of_assets]\n",
    "inference_labels = [\n",
    "    {\"CLASSIFICATION_JOB\": {\"categories\": [{\"name\": predicted_category}]}}\n",
    "    for predicted_category in predicted_categories\n",
    "]\n",
    "\n",
    "kili.append_labels(\n",
    "    project_id=project_id,\n",
    "    asset_external_id_array=[asset[\"external_id\"] for asset in stream_of_assets],\n",
    "    json_response_array=inference_labels,\n",
    "    label_type=\"INFERENCE\",  # We import model-generated labels as \"INFERENCE\" labels\n",
    "    model_name=\"my_model\",\n",
    ")"
   ]
  },
  {
   "attachments": {},
   "cell_type": "markdown",
   "metadata": {},
   "source": [
    "Then, human labelers can annotate a subsample of the assets pushed to Kili. \n",
    "\n",
    "Note: you can automatically [prioritize assets](https://docs.kili-technology.com/docs/queue-prioritization) to be reviewed by a human by using the model's certainty score. When the model is unsure of its predictions, this may indicate wrong labels."
   ]
  },
  {
   "cell_type": "code",
   "execution_count": null,
   "metadata": {
    "tags": []
   },
   "outputs": [],
   "source": [
    "ground_truths = {\n",
    "    \"black_car.jpg\": \"BLACK\",\n",
    "    \"grey_car.jpg\": \"GREY\",\n",
    "    \"white_car.jpg\": \"WHITE\",\n",
    "    \"red_car.jpg\": \"RED\",\n",
    "}\n",
    "\n",
    "human_labels = [\n",
    "    {\"CLASSIFICATION_JOB\": {\"categories\": [{\"name\": ground_truths[asset[\"external_id\"]]}]}}\n",
    "    for asset in stream_of_assets\n",
    "]\n",
    "kili.append_labels(\n",
    "    project_id=project_id,\n",
    "    json_response_array=human_labels,\n",
    "    asset_external_id_array=[asset[\"external_id\"] for asset in stream_of_assets],\n",
    "    label_type=\"DEFAULT\",\n",
    ")"
   ]
  },
  {
   "cell_type": "code",
   "execution_count": null,
   "metadata": {
    "tags": [
     "remove_cell"
    ]
   },
   "outputs": [],
   "source": [
    "time.sleep(40)"
   ]
  },
  {
   "cell_type": "markdown",
   "metadata": {},
   "source": [
    "Note: that the inference metric could appear as None at the beginning (as those calculs can be complex we choose to do it in a separate way and so the return could be delayed). Just wait a bit before trigger the fetch of the labels."
   ]
  },
  {
   "attachments": {},
   "cell_type": "markdown",
   "metadata": {},
   "source": [
    "You can now fetch the agreement between the human and the model, for human labels:"
   ]
  },
  {
   "cell_type": "code",
   "execution_count": null,
   "metadata": {
    "tags": []
   },
   "outputs": [
    {
     "name": "stderr",
     "output_type": "stream",
     "text": [
      "100%|████████████████████████████████████████████████████████████████████████████████████████████████████████████████████████| 4/4 [00:00<00:00, 16.43it/s]"
     ]
    },
    {
     "name": "stdout",
     "output_type": "stream",
     "text": [
      "[{'labelOf': {'id': 'cleoicx8s0000h8vzn0qu3mpz'}, 'inferenceMark': 0.5, 'id': 'cleoicz3b02eg0jx8cub2c6q6'}, {'labelOf': {'id': 'cleoicx8s0001h8vzh742in5x'}, 'inferenceMark': 1, 'id': 'cleoicz3b02eh0jx8fe1iap2a'}, {'labelOf': {'id': 'cleoicx8s0002h8vz0jhz2co8'}, 'inferenceMark': 0.5, 'id': 'cleoicz3b02ei0jx8bi4ifnkw'}, {'labelOf': {'id': 'cleoicx8s0003h8vzbiaawl1j'}, 'inferenceMark': 0.5, 'id': 'cleoicz3b02ej0jx86n5c2m0a'}]\n"
     ]
    },
    {
     "name": "stderr",
     "output_type": "stream",
     "text": [
      "\n"
     ]
    }
   ],
   "source": [
    "labels = kili.labels(\n",
    "    project_id=project_id, fields=[\"inferenceMark\", \"id\", \"labelOf.id\"], type_in=[\"DEFAULT\"]\n",
    ")\n",
    "print(labels)"
   ]
  },
  {
   "cell_type": "code",
   "execution_count": null,
   "metadata": {
    "tags": [
     "test_cell"
    ]
   },
   "outputs": [
    {
     "name": "stderr",
     "output_type": "stream",
     "text": [
      "100%|████████████████████████████████████████████████████████████████████████████████████████████████████████████████████████| 4/4 [00:00<00:00, 15.85it/s]"
     ]
    },
    {
     "name": "stdout",
     "output_type": "stream",
     "text": [
      "[{'labelOf': {'id': 'cleoicx8s0000h8vzn0qu3mpz'}, 'inferenceMark': 0.5, 'id': 'cleoicz3b02eg0jx8cub2c6q6'}, {'labelOf': {'id': 'cleoicx8s0001h8vzh742in5x'}, 'inferenceMark': 1, 'id': 'cleoicz3b02eh0jx8fe1iap2a'}, {'labelOf': {'id': 'cleoicx8s0002h8vz0jhz2co8'}, 'inferenceMark': 0.5, 'id': 'cleoicz3b02ei0jx8bi4ifnkw'}, {'labelOf': {'id': 'cleoicx8s0003h8vzbiaawl1j'}, 'inferenceMark': 0.5, 'id': 'cleoicz3b02ej0jx86n5c2m0a'}]\n"
     ]
    },
    {
     "name": "stderr",
     "output_type": "stream",
     "text": [
      "\n"
     ]
    }
   ],
   "source": [
    "# we test that label[\"inferenceMark\"] should always be <= 1\n",
    "\n",
    "assets = kili.assets(project_id=project_id)\n",
    "\n",
    "for label in labels:\n",
    "    external_id = [\n",
    "        asset[\"externalId\"] for asset in assets if asset[\"id\"] == label[\"labelOf\"][\"id\"]\n",
    "    ][0]\n",
    "\n",
    "    if predictions[external_id] == ground_truths[external_id]:\n",
    "        assert label[\"inferenceMark\"] == 1\n",
    "    else:\n",
    "        assert label[\"inferenceMark\"] < 1\n",
    "\n",
    "print(labels)"
   ]
  },
  {
   "attachments": {},
   "cell_type": "markdown",
   "metadata": {},
   "source": [
    "This allows you to identify problems:"
   ]
  },
  {
   "cell_type": "code",
   "execution_count": null,
   "metadata": {
    "tags": []
   },
   "outputs": [
    {
     "name": "stdout",
     "output_type": "stream",
     "text": [
      "The model predicted WHITE but the human predicted BLACK for asset with id cleoicx8s0000h8vzn0qu3mpz.\n",
      "The model predicted RED but the human predicted WHITE for asset with id cleoicx8s0002h8vz0jhz2co8.\n",
      "The model predicted BLACK but the human predicted RED for asset with id cleoicx8s0003h8vzbiaawl1j.\n"
     ]
    }
   ],
   "source": [
    "for label in labels:\n",
    "    # this label has disagreement between human and model\n",
    "    if label[\"inferenceMark\"] < 1:\n",
    "        asset_id = label[\"labelOf\"][\"id\"]\n",
    "        # get the model-generated label\n",
    "        inference_label = kili.labels(\n",
    "            project_id=project_id,\n",
    "            asset_id=asset_id,\n",
    "            type_in=[\"INFERENCE\"],\n",
    "            output_format=\"parsed_label\",\n",
    "            disable_tqdm=True,\n",
    "        )[0]\n",
    "        # get the human-made label\n",
    "        human_label = kili.labels(\n",
    "            project_id=project_id,\n",
    "            label_id=label[\"id\"],\n",
    "            output_format=\"parsed_label\",\n",
    "            disable_tqdm=True,\n",
    "        )[0]\n",
    "\n",
    "        inference_category = inference_label.jobs[\"CLASSIFICATION_JOB\"].category.name\n",
    "        human_category = human_label.jobs[\"CLASSIFICATION_JOB\"].category.name\n",
    "        print(\n",
    "            f\"The model predicted {inference_category} but the human predicted {human_category} for\"\n",
    "            f\" asset with id {asset_id}.\"\n",
    "        )"
   ]
  },
  {
   "attachments": {
    "089fe378-601d-453a-895e-ff869aa635ba.png": {
     "image/png": "[encoded data removed]"
    }
   },
   "cell_type": "markdown",
   "metadata": {},
   "source": [
    "You can also find the assets with most disagreement directly from the interface with the \"Human/Model IoU\" filter.\n",
    "\n",
    "Low IoU indicates low agreement:\n",
    "\n",
    "![image.png](attachment:089fe378-601d-453a-895e-ff869aa635ba.png)"
   ]
  },
  {
   "cell_type": "code",
   "execution_count": null,
   "metadata": {},
   "outputs": [],
   "source": [
    "kili.delete_project(project_id)"
   ]
  },
  {
   "attachments": {},
   "cell_type": "markdown",
   "metadata": {},
   "source": [
    "### Use case 2"
   ]
  },
  {
   "attachments": {},
   "cell_type": "markdown",
   "metadata": {},
   "source": [
    "We can invert the previous use case.\n",
    "\n",
    "We start with a human-labeled dataset and we insert model predictions to it, to simulate testing our model on test data."
   ]
  },
  {
   "cell_type": "code",
   "execution_count": null,
   "metadata": {},
   "outputs": [],
   "source": [
    "project_id = kili.create_project(\n",
    "    title=\"[Kili SDK Notebook]: Project demo inference 2\",\n",
    "    input_type=\"IMAGE\",\n",
    "    json_interface=json_interface,\n",
    ")[\"id\"]"
   ]
  },
  {
   "cell_type": "code",
   "execution_count": null,
   "metadata": {},
   "outputs": [],
   "source": [
    "labeled_assets = [\n",
    "    {\n",
    "        \"url\": (\n",
    "            \"https://storage.googleapis.com/label-public-staging/recipes/inference/black_car.jpg\"\n",
    "        ),\n",
    "        \"external_id\": \"black_car.jpg\",\n",
    "    },\n",
    "    {\n",
    "        \"url\": \"https://storage.googleapis.com/label-public-staging/recipes/inference/grey_car.jpg\",\n",
    "        \"external_id\": \"grey_car.jpg\",\n",
    "    },\n",
    "    {\n",
    "        \"url\": (\n",
    "            \"https://storage.googleapis.com/label-public-staging/recipes/inference/white_car.jpg\"\n",
    "        ),\n",
    "        \"external_id\": \"white_car.jpg\",\n",
    "    },\n",
    "    {\n",
    "        \"url\": \"https://storage.googleapis.com/label-public-staging/recipes/inference/red_car.jpg\",\n",
    "        \"external_id\": \"red_car.jpg\",\n",
    "    },\n",
    "]"
   ]
  },
  {
   "cell_type": "code",
   "execution_count": null,
   "metadata": {
    "tags": []
   },
   "outputs": [],
   "source": [
    "kili.append_many_to_dataset(\n",
    "    project_id=project_id,\n",
    "    content_array=[asset[\"url\"] for asset in labeled_assets],\n",
    "    external_id_array=[asset[\"external_id\"] for asset in labeled_assets],\n",
    ")"
   ]
  },
  {
   "attachments": {},
   "cell_type": "markdown",
   "metadata": {},
   "source": [
    "`ground_truths` represents labels made by human annotators:"
   ]
  },
  {
   "cell_type": "code",
   "execution_count": null,
   "metadata": {
    "tags": []
   },
   "outputs": [],
   "source": [
    "ground_truths = {\n",
    "    \"black_car.jpg\": \"BLACK\",\n",
    "    \"grey_car.jpg\": \"GREY\",\n",
    "    \"white_car.jpg\": \"WHITE\",\n",
    "    \"red_car.jpg\": \"RED\",\n",
    "}"
   ]
  },
  {
   "attachments": {},
   "cell_type": "markdown",
   "metadata": {},
   "source": [
    "Now, we import the human labels:"
   ]
  },
  {
   "cell_type": "code",
   "execution_count": null,
   "metadata": {},
   "outputs": [],
   "source": [
    "human_labels = [\n",
    "    {\"CLASSIFICATION_JOB\": {\"categories\": [{\"name\": ground_truths[asset[\"external_id\"]]}]}}\n",
    "    for asset in labeled_assets\n",
    "]\n",
    "\n",
    "kili.append_labels(\n",
    "    project_id=project_id,\n",
    "    json_response_array=human_labels,\n",
    "    asset_external_id_array=[asset[\"external_id\"] for asset in labeled_assets],\n",
    "    label_type=\"DEFAULT\",\n",
    ")"
   ]
  },
  {
   "attachments": {},
   "cell_type": "markdown",
   "metadata": {},
   "source": [
    "We take 80% of the training data and use it to train a model.\n",
    "\n",
    "We can then run the trained model against the remaining 20% of the labeled assets, and upload predictions to Kili:"
   ]
  },
  {
   "cell_type": "code",
   "execution_count": null,
   "metadata": {},
   "outputs": [],
   "source": [
    "test_labels = [\n",
    "    {\"CLASSIFICATION_JOB\": {\"categories\": [{\"name\": predictions[asset[\"external_id\"]]}]}}\n",
    "    for asset in labeled_assets\n",
    "]\n",
    "kili.append_labels(\n",
    "    project_id=project_id,\n",
    "    json_response_array=test_labels,\n",
    "    asset_external_id_array=[asset[\"external_id\"] for asset in labeled_assets],\n",
    "    label_type=\"INFERENCE\",\n",
    "    model_name=\"my_model\",\n",
    ")"
   ]
  },
  {
   "cell_type": "code",
   "execution_count": null,
   "metadata": {
    "tags": [
     "remove_cell",
     "remove"
    ]
   },
   "outputs": [],
   "source": [
    "time.sleep(40)"
   ]
  },
  {
   "cell_type": "code",
   "execution_count": null,
   "metadata": {},
   "outputs": [
    {
     "name": "stderr",
     "output_type": "stream",
     "text": [
      "100%|████████████████████████████████████████████████████████████████████████████████████████████████████████████████████████| 4/4 [00:00<00:00, 16.31it/s]"
     ]
    },
    {
     "name": "stdout",
     "output_type": "stream",
     "text": [
      "[{'labelOf': {'id': 'cleoid2lk0004h8vzyqb6bfp5'}, 'inferenceMark': 0.5, 'id': 'cleoid3m802fg0jx831mhak3l'}, {'labelOf': {'id': 'cleoid2lk0005h8vzmodn4ce8'}, 'inferenceMark': 1, 'id': 'cleoid3m802fh0jx893nia1og'}, {'labelOf': {'id': 'cleoid2lk0006h8vza2xtc6h5'}, 'inferenceMark': 0.5, 'id': 'cleoid3m802fi0jx861b52nd5'}, {'labelOf': {'id': 'cleoid2lk0007h8vzkp2yodiu'}, 'inferenceMark': 0.5, 'id': 'cleoid3m802fj0jx8g5xj0lt2'}]\n"
     ]
    },
    {
     "name": "stderr",
     "output_type": "stream",
     "text": [
      "\n"
     ]
    }
   ],
   "source": [
    "labels = kili.labels(\n",
    "    project_id=project_id, fields=[\"inferenceMark\", \"id\", \"labelOf.id\"], type_in=[\"DEFAULT\"]\n",
    ")\n",
    "print(labels)"
   ]
  },
  {
   "cell_type": "code",
   "execution_count": null,
   "metadata": {
    "tags": [
     "test_cell"
    ]
   },
   "outputs": [
    {
     "name": "stderr",
     "output_type": "stream",
     "text": [
      "100%|████████████████████████████████████████████████████████████████████████████████████████████████████████████████████████| 4/4 [00:00<00:00, 16.40it/s]\n"
     ]
    }
   ],
   "source": [
    "# we test that label[\"inferenceMark\"] should always be <= 1\n",
    "assets = kili.assets(project_id=project_id)\n",
    "\n",
    "for label in labels:\n",
    "    external_id = [\n",
    "        asset[\"externalId\"] for asset in assets if asset[\"id\"] == label[\"labelOf\"][\"id\"]\n",
    "    ][0]\n",
    "    if predictions[external_id] == ground_truths[external_id]:\n",
    "        assert label[\"inferenceMark\"] == 1\n",
    "    else:\n",
    "        assert label[\"inferenceMark\"] < 1"
   ]
  },
  {
   "attachments": {},
   "cell_type": "markdown",
   "metadata": {},
   "source": [
    "We can now print out a list of disagreements between human and machine labels:"
   ]
  },
  {
   "cell_type": "code",
   "execution_count": null,
   "metadata": {},
   "outputs": [
    {
     "name": "stdout",
     "output_type": "stream",
     "text": [
      "The human predicted BLACK but the model predicted WHITE for asset with id cleoicx8s0003h8vzbiaawl1j.\n",
      "The human predicted WHITE but the model predicted RED for asset with id cleoicx8s0003h8vzbiaawl1j.\n",
      "The human predicted RED but the model predicted BLACK for asset with id cleoicx8s0003h8vzbiaawl1j.\n"
     ]
    }
   ],
   "source": [
    "for label in labels:\n",
    "    if label[\"inferenceMark\"] < 1:\n",
    "        inference_label = list(\n",
    "            kili.labels(\n",
    "                project_id=project_id,\n",
    "                asset_id=label[\"labelOf\"][\"id\"],\n",
    "                type_in=[\"INFERENCE\"],\n",
    "                output_format=\"parsed_label\",\n",
    "                disable_tqdm=True,\n",
    "            )\n",
    "        )[0]\n",
    "        human_label = list(\n",
    "            kili.labels(\n",
    "                project_id=project_id,\n",
    "                label_id=label[\"id\"],\n",
    "                output_format=\"parsed_label\",\n",
    "                disable_tqdm=True,\n",
    "            )\n",
    "        )[0]\n",
    "\n",
    "        inference_category = inference_label.jobs[\"CLASSIFICATION_JOB\"].category.name\n",
    "        human_category = human_label.jobs[\"CLASSIFICATION_JOB\"].category.name\n",
    "\n",
    "        print(\n",
    "            f\"The human predicted {human_category} but the model predicted {inference_category} for\"\n",
    "            f\" asset with id {asset_id}.\"\n",
    "        )"
   ]
  },
  {
   "cell_type": "code",
   "execution_count": null,
   "metadata": {
    "tags": []
   },
   "outputs": [],
   "source": [
    "kili.delete_project(project_id)"
   ]
  },
  {
   "attachments": {},
   "cell_type": "markdown",
   "metadata": {
    "tags": []
   },
   "source": [
    "## Conclusion"
   ]
  },
  {
   "attachments": {},
   "cell_type": "markdown",
   "metadata": {
    "tags": []
   },
   "source": [
    "Congratulations! You can now upload your own inference labels to your Kili project 🚀."
   ]
  }
 ],
 "metadata": {
  "language_info": {
   "name": "python"
  }
 },
 "nbformat": 4,
 "nbformat_minor": 4
}
