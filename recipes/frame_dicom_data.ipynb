{
 "cells": [
  {
   "attachments": {},
   "cell_type": "markdown",
   "metadata": {},
   "source": [
    "# Kili Tutorial: Importing medical data into a video project "
   ]
  },
  {
   "attachments": {},
   "cell_type": "markdown",
   "metadata": {},
   "source": [
    "In this tutorial, we will show you how to import dicom data into a [Video Kili project](https://docs.kili-technology.com/docs/labeling-video-assets#grouping-objects-on-multiple-frames). Such projects allow you to annotate volumes of image data.\n",
    "\n",
    "The data we use comes from [The Cancer Genome Atlas Lung Adenocarcinoma (TCGA-LUAD) data collection](https://wiki.cancerimagingarchive.net/display/Public/TCGA-LUAD). We selected 3 scans out of this dataset."
   ]
  },
  {
   "attachments": {},
   "cell_type": "markdown",
   "metadata": {},
   "source": [
    "## Downloading data"
   ]
  },
  {
   "attachments": {},
   "cell_type": "markdown",
   "metadata": {},
   "source": [
    "Let's first import the scans. We host these files in a .zip on GDrive."
   ]
  },
  {
   "cell_type": "code",
   "execution_count": null,
   "metadata": {},
   "outputs": [],
   "source": [
    "import os\n",
    "import shutil\n",
    "import subprocess\n",
    "\n",
    "import requests\n",
    "import tqdm"
   ]
  },
  {
   "cell_type": "code",
   "execution_count": null,
   "metadata": {},
   "outputs": [],
   "source": [
    "if \"recipes\" in os.getcwd():\n",
    "    os.chdir(\"..\")"
   ]
  },
  {
   "cell_type": "code",
   "execution_count": null,
   "metadata": {},
   "outputs": [],
   "source": [
    "os.makedirs(os.path.expanduser(\"~/Downloads\"), exist_ok=True)"
   ]
  },
  {
   "attachments": {},
   "cell_type": "markdown",
   "metadata": {},
   "source": [
    "We will use a small package to help downloading the file hosted on Google Drive"
   ]
  },
  {
   "cell_type": "code",
   "execution_count": null,
   "metadata": {},
   "outputs": [],
   "source": [
    "content_url = \"https://storage.googleapis.com/label-public-staging/recipes/assets/TCGA-LUAD.zip\"\n",
    "with open(os.path.expanduser(\"~/Downloads/TCGA-LUAD.zip\"), \"wb\") as f:\n",
    "    content = requests.get(content_url).content\n",
    "    f.write(content)"
   ]
  },
  {
   "cell_type": "code",
   "execution_count": null,
   "metadata": {},
   "outputs": [],
   "source": [
    "shutil.unpack_archive(\n",
    "    os.path.expanduser(\"~/Downloads/TCGA-LUAD.zip\"), os.path.expanduser(\"~/Downloads/\")\n",
    ")"
   ]
  },
  {
   "attachments": {},
   "cell_type": "markdown",
   "metadata": {},
   "source": [
    "## Reading data"
   ]
  },
  {
   "attachments": {},
   "cell_type": "markdown",
   "metadata": {},
   "source": [
    "We can then read the dicom files with [pydicom](https://pydicom.github.io/pydicom/stable/)."
   ]
  },
  {
   "cell_type": "code",
   "execution_count": null,
   "metadata": {},
   "outputs": [],
   "source": [
    "ASSET_ROOT = os.path.expanduser(\"~/Downloads/TCGA-LUAD\")\n",
    "\n",
    "sorted_files = {}\n",
    "asset_number = 0\n",
    "for root, dirs, files in os.walk(ASSET_ROOT):\n",
    "    if len(files) > 0:\n",
    "        file_paths = list(map(lambda path: os.path.join(root, path), files))\n",
    "        sorted_files[f\"asset-{asset_number+1}\"] = sorted(\n",
    "            [fp for fp in file_paths if fp.endswith(\".dcm\")],\n",
    "            key=lambda path: int(os.path.split(path)[-1].split(\"-\")[1].split(\".\")[0]),\n",
    "        )\n",
    "        asset_number += 1"
   ]
  },
  {
   "attachments": {},
   "cell_type": "markdown",
   "metadata": {},
   "source": [
    "Let's see what is inside the dataset :"
   ]
  },
  {
   "cell_type": "code",
   "execution_count": null,
   "metadata": {},
   "outputs": [],
   "source": [
    "%pip install Pillow pydicom\n",
    "import pydicom\n",
    "from PIL import Image\n",
    "\n",
    "\n",
    "def read_dcm_image(path):\n",
    "    dicom = pydicom.dcmread(path)\n",
    "    image = dicom.pixel_array\n",
    "    # Currently, Kili does not support windowing in the application.\n",
    "    # This will soon change, but until then we advise you to reduce the range to 256 values.\n",
    "    image = (image - image.min()) / (image.max() - image.min()) * 256\n",
    "    return Image.fromarray(image).convert(\"RGB\")\n",
    "\n",
    "\n",
    "for asset_key in sorted_files.keys():\n",
    "    print(asset_key)\n",
    "    im = read_dcm_image(sorted_files[asset_key][20])\n",
    "    im.save(f\"./recipes/img/frame_dicom_data_{asset_key}.png\")"
   ]
  },
  {
   "attachments": {},
   "cell_type": "markdown",
   "metadata": {},
   "source": [
    "![asset-1](./img/frame_dicom_data_asset-1.png)"
   ]
  },
  {
   "attachments": {},
   "cell_type": "markdown",
   "metadata": {},
   "source": [
    "![asset-2](./img/frame_dicom_data_asset-2.png)"
   ]
  },
  {
   "attachments": {},
   "cell_type": "markdown",
   "metadata": {},
   "source": [
    "![asset-3](./img/frame_dicom_data_asset-3.png)"
   ]
  },
  {
   "attachments": {},
   "cell_type": "markdown",
   "metadata": {},
   "source": [
    "## Extracting and serving images"
   ]
  },
  {
   "attachments": {},
   "cell_type": "markdown",
   "metadata": {},
   "source": [
    "For each of the dicom `.dcm` files, let's extract its content (image) and save it into a `.jpeg` image."
   ]
  },
  {
   "cell_type": "code",
   "execution_count": null,
   "metadata": {},
   "outputs": [],
   "source": [
    "sorted_images = {}\n",
    "for asset_key, files in sorted_files.items():\n",
    "    images = []\n",
    "    for file in tqdm.tqdm(files):\n",
    "        print(file)\n",
    "        im = read_dcm_image(file)\n",
    "        im_file = file.replace(\".dcm\", \".jpeg\")\n",
    "        im.save(im_file, format=\"JPEG\")\n",
    "        images.append(im_file)\n",
    "    sorted_images[asset_key] = images"
   ]
  },
  {
   "attachments": {},
   "cell_type": "markdown",
   "metadata": {},
   "source": [
    "We now have extracted jpeg images processable by Kili."
   ]
  },
  {
   "attachments": {},
   "cell_type": "markdown",
   "metadata": {},
   "source": [
    "## Creating the project"
   ]
  },
  {
   "attachments": {},
   "cell_type": "markdown",
   "metadata": {},
   "source": [
    "We can now import those assets into a VIDEO project !\n",
    "\n",
    "Let's begin by creating a project"
   ]
  },
  {
   "cell_type": "code",
   "execution_count": null,
   "metadata": {},
   "outputs": [],
   "source": [
    "## You can also directly create the interface on the application.\n",
    "interface = {\n",
    "    \"jobs\": {\n",
    "        \"JOB_0\": {\n",
    "            \"mlTask\": \"OBJECT_DETECTION\",\n",
    "            \"tools\": [\"rectangle\"],\n",
    "            \"instruction\": \"Segment the right class\",\n",
    "            \"required\": 1,\n",
    "            \"isChild\": False,\n",
    "            \"content\": {\n",
    "                \"categories\": {\n",
    "                    \"BONE\": {\"name\": \"Bone\", \"children\": [], \"color\": \"#0755FF\"},\n",
    "                    \"LUNG\": {\"name\": \"Lung\", \"children\": [], \"color\": \"#EEBA00\"},\n",
    "                    \"TISSUE_0\": {\"name\": \"Tissue\", \"children\": [], \"color\": \"#941100\"},\n",
    "                },\n",
    "                \"input\": \"radio\",\n",
    "            },\n",
    "        }\n",
    "    }\n",
    "}"
   ]
  },
  {
   "cell_type": "code",
   "execution_count": null,
   "metadata": {},
   "outputs": [],
   "source": [
    "## Authentication\n",
    "from kili.client import Kili\n",
    "\n",
    "api_endpoint = os.getenv(\n",
    "    \"KILI_API_ENDPOINT\"\n",
    ")  # If you use Kili SaaS, use the url 'https://cloud.kili-technology.com/api/label/v2/graphql'\n",
    "kili = Kili(api_endpoint=api_endpoint)\n",
    "\n",
    "## Project creation\n",
    "project = kili.create_project(\n",
    "    description=\"Demo Video project\",\n",
    "    input_type=\"VIDEO\",\n",
    "    json_interface=interface,\n",
    "    title=\"[Kili SDK Notebook]: Frame DICOM data\",\n",
    ")\n",
    "project_id = project[\"id\"]"
   ]
  },
  {
   "attachments": {},
   "cell_type": "markdown",
   "metadata": {},
   "source": [
    "## Importing images"
   ]
  },
  {
   "attachments": {},
   "cell_type": "markdown",
   "metadata": {},
   "source": [
    "Finally, let's import the volumes using `appendManyToDataset` (see [link](https://staging.cloud.kili-technology.com/docs/python-graphql-api/python-api/#append_many_to_dataset)). The key argument is `json_content_array`, which is a list of list of strings. Each element is the list of urls or paths pointing to images of the volume considered.\n",
    " - Let's host these images locally to demonstrate how we would do it with cloud URLs for example :"
   ]
  },
  {
   "cell_type": "code",
   "execution_count": null,
   "metadata": {},
   "outputs": [],
   "source": [
    "subprocess.Popen(\n",
    "    f\"python -m http.server 8001 --directory {ASSET_ROOT}\",\n",
    "    shell=True,\n",
    "    stdin=None,\n",
    "    stdout=None,\n",
    "    stderr=None,\n",
    "    close_fds=True,\n",
    ")\n",
    "ROOT_URL = \"http://localhost:8001/\""
   ]
  },
  {
   "cell_type": "code",
   "execution_count": null,
   "metadata": {},
   "outputs": [],
   "source": [
    "def files_to_urls(files):\n",
    "    return list(map(lambda file: ROOT_URL + file.split(\"TCGA-LUAD\")[1], files))"
   ]
  },
  {
   "cell_type": "code",
   "execution_count": null,
   "metadata": {},
   "outputs": [],
   "source": [
    "kili.append_many_to_dataset(\n",
    "    project_id=project_id,\n",
    "    external_id_array=list(sorted_images.keys()),\n",
    "    json_content_array=list(map(files_to_urls, sorted_images.values())),\n",
    ")"
   ]
  },
  {
   "attachments": {},
   "cell_type": "markdown",
   "metadata": {},
   "source": [
    "Or, as mentionned, you can simply provide the paths to your images, and call the function like below : "
   ]
  },
  {
   "cell_type": "code",
   "execution_count": null,
   "metadata": {},
   "outputs": [],
   "source": [
    "kili.append_many_to_dataset(\n",
    "    project_id=project_id,\n",
    "    external_id_array=list(map(lambda key: f\"local-path-{key}\", sorted_images.keys())),\n",
    "    json_content_array=list(sorted_images.values()),\n",
    ")"
   ]
  },
  {
   "attachments": {},
   "cell_type": "markdown",
   "metadata": {},
   "source": [
    "## Back to the interface"
   ]
  },
  {
   "attachments": {},
   "cell_type": "markdown",
   "metadata": {},
   "source": [
    "We can see our assets were imported..."
   ]
  },
  {
   "cell_type": "code",
   "execution_count": null,
   "metadata": {},
   "outputs": [],
   "source": [
    "ds_size = kili.count_assets(project_id=project_id)\n",
    "print(ds_size)\n",
    "assert ds_size == 6"
   ]
  },
  {
   "attachments": {},
   "cell_type": "markdown",
   "metadata": {},
   "source": [
    "![assets_inserted](img/assets_inserted.png)"
   ]
  },
  {
   "attachments": {},
   "cell_type": "markdown",
   "metadata": {},
   "source": [
    "...we can now annotate those assets !"
   ]
  },
  {
   "attachments": {},
   "cell_type": "markdown",
   "metadata": {},
   "source": [
    "![frame_annotation](img/frame_annotation.png)"
   ]
  },
  {
   "cell_type": "code",
   "execution_count": null,
   "metadata": {},
   "outputs": [],
   "source": [
    "kili.delete_project(project_id=project_id)"
   ]
  }
 ],
 "metadata": {
  "language_info": {
   "name": "python"
  }
 },
 "nbformat": 4,
 "nbformat_minor": 4
}
