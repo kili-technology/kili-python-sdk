{
 "cells": [
  {
   "attachments": {},
   "cell_type": "markdown",
   "metadata": {},
   "source": [
    "<a href=\"https://colab.research.google.com/github/kili-technology/kili-python-sdk/blob/main/recipes/importing_coco.ipynb\" target=\"_parent\"><img src=\"https://colab.research.google.com/assets/colab-badge.svg\" alt=\"Open In Colab\"/></a>"
   ]
  },
  {
   "attachments": {},
   "cell_type": "markdown",
   "metadata": {},
   "source": [
    "# How to import COCO annotations into Kili"
   ]
  },
  {
   "attachments": {},
   "cell_type": "markdown",
   "metadata": {},
   "source": [
    "In this tutorial, we will demonstrate how to import [COCO](https://cocodataset.org/) annotations into Kili."
   ]
  },
  {
   "attachments": {},
   "cell_type": "markdown",
   "metadata": {},
   "source": [
    "## Setup\n",
    "\n",
    "Let's start by install Kili:"
   ]
  },
  {
   "cell_type": "code",
   "execution_count": null,
   "metadata": {},
   "outputs": [],
   "source": [
    "%pip install kili[image-utils] numpy"
   ]
  },
  {
   "cell_type": "code",
   "execution_count": null,
   "metadata": {},
   "outputs": [],
   "source": [
    "import getpass\n",
    "import json\n",
    "import os\n",
    "from pprint import pprint\n",
    "\n",
    "import numpy as np\n",
    "\n",
    "from kili.client import Kili"
   ]
  },
  {
   "attachments": {},
   "cell_type": "markdown",
   "metadata": {},
   "source": [
    "## Data collection\n",
    "\n",
    "We will use the [COCO dataset](https://cocodataset.org/#download) to illustrate how to import COCO annotations into Kili.\n",
    "\n",
    "For this tutorial, we will use a subset of the `val2017` dataset. The full dataset can be downloaded [here](https://cocodataset.org/#download)."
   ]
  },
  {
   "cell_type": "code",
   "execution_count": null,
   "metadata": {},
   "outputs": [],
   "source": [
    "!curl https://raw.githubusercontent.com/kili-technology/kili-python-sdk/main/recipes/datasets/coco2017/annotations/captions_val2017_filtered.json --output captions_val2017_filtered.json\n",
    "!curl https://raw.githubusercontent.com/kili-technology/kili-python-sdk/main/recipes/datasets/coco2017/annotations/instances_val2017_filtered.json --output instances_val2017_filtered.json\n",
    "!curl https://raw.githubusercontent.com/kili-technology/kili-python-sdk/main/recipes/datasets/coco2017/annotations/person_keypoints_val2017_filtered.json --output person_keypoints_val2017_filtered.json"
   ]
  },
  {
   "attachments": {},
   "cell_type": "markdown",
   "metadata": {},
   "source": [
    "## COCO format\n",
    "\n",
    "The format is described [here](https://cocodataset.org/#format-data).\n",
    "\n",
    "The file `instances_val2017_filtered.json` contains the following keys:"
   ]
  },
  {
   "cell_type": "code",
   "execution_count": null,
   "metadata": {},
   "outputs": [
    {
     "name": "stdout",
     "output_type": "stream",
     "text": [
      "dict_keys(['annotations', 'categories', 'images', 'info', 'licenses'])\n"
     ]
    }
   ],
   "source": [
    "instances_val2017 = json.load(open(\"instances_val2017_filtered.json\"))\n",
    "print(instances_val2017.keys())"
   ]
  },
  {
   "attachments": {},
   "cell_type": "markdown",
   "metadata": {},
   "source": [
    "Each annotation contains a the image id to which it belongs, the category id, the segmentation and the bounding box:"
   ]
  },
  {
   "cell_type": "code",
   "execution_count": null,
   "metadata": {},
   "outputs": [
    {
     "name": "stdout",
     "output_type": "stream",
     "text": [
      "{'area': 88.52115000000006,\n",
      " 'bbox': [102.49, 118.47, 7.9, 17.31],\n",
      " 'category_id': 64,\n",
      " 'id': 22328,\n",
      " 'image_id': 37777,\n",
      " 'iscrowd': 0,\n",
      " 'segmentation': [[110.39,\n",
      "                   135.78,\n",
      "                   110.39,\n",
      "                   127.62,\n",
      "                   110.01,\n",
      "                   119.6,\n",
      "                   106.87,\n",
      "                   118.47,\n",
      "                   104.37,\n",
      "                   120.1,\n",
      "                   102.49,\n",
      "                   122.73,\n",
      "                   103.74,\n",
      "                   125.49,\n",
      "                   105.24,\n",
      "                   128.88,\n",
      "                   106.87,\n",
      "                   132.39,\n",
      "                   107.38,\n",
      "                   135.78,\n",
      "                   110.39,\n",
      "                   135.65]]}\n"
     ]
    }
   ],
   "source": [
    "pprint(instances_val2017[\"annotations\"][0])"
   ]
  },
  {
   "attachments": {},
   "cell_type": "markdown",
   "metadata": {},
   "source": []
  },
  {
   "attachments": {},
   "cell_type": "markdown",
   "metadata": {},
   "source": [
    "We can print the categories of COCO this way:"
   ]
  },
  {
   "cell_type": "code",
   "execution_count": null,
   "metadata": {},
   "outputs": [
    {
     "name": "stdout",
     "output_type": "stream",
     "text": [
      "1 person\n",
      "2 bicycle\n",
      "3 car\n",
      "4 motorcycle\n",
      "5 airplane\n",
      "6 bus\n",
      "7 train\n",
      "8 truck\n",
      "9 boat\n",
      "10 traffic light\n",
      "11 fire hydrant\n",
      "13 stop sign\n",
      "14 parking meter\n",
      "15 bench\n",
      "16 bird\n",
      "17 cat\n",
      "18 dog\n",
      "19 horse\n",
      "20 sheep\n",
      "21 cow\n",
      "22 elephant\n",
      "23 bear\n",
      "24 zebra\n",
      "25 giraffe\n",
      "27 backpack\n",
      "28 umbrella\n",
      "31 handbag\n",
      "32 tie\n",
      "33 suitcase\n",
      "34 frisbee\n",
      "35 skis\n",
      "36 snowboard\n",
      "37 sports ball\n",
      "38 kite\n",
      "39 baseball bat\n",
      "40 baseball glove\n",
      "41 skateboard\n",
      "42 surfboard\n",
      "43 tennis racket\n",
      "44 bottle\n",
      "46 wine glass\n",
      "47 cup\n",
      "48 fork\n",
      "49 knife\n",
      "50 spoon\n",
      "51 bowl\n",
      "52 banana\n",
      "53 apple\n",
      "54 sandwich\n",
      "55 orange\n",
      "56 broccoli\n",
      "57 carrot\n",
      "58 hot dog\n",
      "59 pizza\n",
      "60 donut\n",
      "61 cake\n",
      "62 chair\n",
      "63 couch\n",
      "64 potted plant\n",
      "65 bed\n",
      "67 dining table\n",
      "70 toilet\n",
      "72 tv\n",
      "73 laptop\n",
      "74 mouse\n",
      "75 remote\n",
      "76 keyboard\n",
      "77 cell phone\n",
      "78 microwave\n",
      "79 oven\n",
      "80 toaster\n",
      "81 sink\n",
      "82 refrigerator\n",
      "84 book\n",
      "85 clock\n",
      "86 vase\n",
      "87 scissors\n",
      "88 teddy bear\n",
      "89 hair drier\n",
      "90 toothbrush\n"
     ]
    }
   ],
   "source": [
    "for category in instances_val2017[\"categories\"]:\n",
    "    print(category[\"id\"], category[\"name\"])"
   ]
  },
  {
   "attachments": {},
   "cell_type": "markdown",
   "metadata": {},
   "source": [
    "The file `captions_val2017_filtered.json` contains transcription data:"
   ]
  },
  {
   "cell_type": "code",
   "execution_count": null,
   "metadata": {},
   "outputs": [
    {
     "name": "stdout",
     "output_type": "stream",
     "text": [
      "dict_keys(['annotations', 'images', 'info', 'licenses'])\n"
     ]
    }
   ],
   "source": [
    "captions_val2017 = json.load(open(\"captions_val2017_filtered.json\"))\n",
    "print(captions_val2017.keys())"
   ]
  },
  {
   "cell_type": "code",
   "execution_count": null,
   "metadata": {},
   "outputs": [
    {
     "name": "stdout",
     "output_type": "stream",
     "text": [
      "{'caption': 'A small closed toilet in a cramped space.', 'id': 441, 'image_id': 331352}\n"
     ]
    }
   ],
   "source": [
    "print(captions_val2017[\"annotations\"][0])"
   ]
  },
  {
   "attachments": {},
   "cell_type": "markdown",
   "metadata": {},
   "source": [
    "In this dataset, each image has 5 captions given by different annotators."
   ]
  },
  {
   "attachments": {},
   "cell_type": "markdown",
   "metadata": {},
   "source": [
    "The file `person_keypoints_val2017_filtered.json` contains keypoints data:"
   ]
  },
  {
   "cell_type": "code",
   "execution_count": null,
   "metadata": {},
   "outputs": [
    {
     "name": "stdout",
     "output_type": "stream",
     "text": [
      "dict_keys(['annotations', 'categories', 'images', 'info', 'licenses'])\n"
     ]
    }
   ],
   "source": [
    "person_keypoints_val2017 = json.load(open(\"person_keypoints_val2017_filtered.json\"))\n",
    "print(person_keypoints_val2017.keys())"
   ]
  },
  {
   "cell_type": "code",
   "execution_count": null,
   "metadata": {},
   "outputs": [
    {
     "name": "stdout",
     "output_type": "stream",
     "text": [
      "{'area': 17376.91885,\n",
      " 'bbox': [388.66, 69.92, 109.41, 277.62],\n",
      " 'category_id': 1,\n",
      " 'id': 200887,\n",
      " 'image_id': 397133,\n",
      " 'iscrowd': 0,\n",
      " 'keypoints': [433,\n",
      "               94,\n",
      "               2,\n",
      "               434,\n",
      "               90,\n",
      "               2,\n",
      "               0,\n",
      "               0,\n",
      "               0,\n",
      "               443,\n",
      "               98,\n",
      "               2,\n",
      "               0,\n",
      "               0,\n",
      "               0,\n",
      "               420,\n",
      "               128,\n",
      "               2,\n",
      "               474,\n",
      "               133,\n",
      "               2,\n",
      "               396,\n",
      "               162,\n",
      "               2,\n",
      "               489,\n",
      "               173,\n",
      "               2,\n",
      "               0,\n",
      "               0,\n",
      "               0,\n",
      "               0,\n",
      "               0,\n",
      "               0,\n",
      "               419,\n",
      "               214,\n",
      "               2,\n",
      "               458,\n",
      "               215,\n",
      "               2,\n",
      "               411,\n",
      "               274,\n",
      "               2,\n",
      "               458,\n",
      "               273,\n",
      "               2,\n",
      "               402,\n",
      "               333,\n",
      "               2,\n",
      "               465,\n",
      "               334,\n",
      "               2],\n",
      " 'num_keypoints': 13,\n",
      " 'segmentation': [[446.71,\n",
      "                   70.66,\n",
      "                   466.07,\n",
      "                   72.89,\n",
      "                   471.28,\n",
      "                   78.85,\n",
      "                   473.51,\n",
      "                   88.52,\n",
      "                   473.51,\n",
      "                   98.2,\n",
      "                   462.34,\n",
      "                   111.6,\n",
      "                   475.74,\n",
      "                   126.48,\n",
      "                   484.67,\n",
      "                   136.16,\n",
      "                   494.35,\n",
      "                   157.74,\n",
      "                   496.58,\n",
      "                   174.12,\n",
      "                   498.07,\n",
      "                   182.31,\n",
      "                   485.42,\n",
      "                   189.75,\n",
      "                   474.25,\n",
      "                   189.01,\n",
      "                   470.53,\n",
      "                   202.4,\n",
      "                   475.74,\n",
      "                   337.12,\n",
      "                   469.04,\n",
      "                   347.54,\n",
      "                   455.65,\n",
      "                   343.08,\n",
      "                   450.44,\n",
      "                   323.72,\n",
      "                   441.5,\n",
      "                   255.99,\n",
      "                   433.32,\n",
      "                   250.04,\n",
      "                   406.52,\n",
      "                   340.1,\n",
      "                   397.59,\n",
      "                   344.56,\n",
      "                   388.66,\n",
      "                   330.42,\n",
      "                   408.01,\n",
      "                   182.31,\n",
      "                   396.85,\n",
      "                   186.77,\n",
      "                   392.38,\n",
      "                   177.84,\n",
      "                   389.4,\n",
      "                   166.68,\n",
      "                   390.89,\n",
      "                   147.32,\n",
      "                   418.43,\n",
      "                   119.04,\n",
      "                   434.06,\n",
      "                   111.6,\n",
      "                   429.6,\n",
      "                   98.94,\n",
      "                   428.85,\n",
      "                   81.08,\n",
      "                   441.5,\n",
      "                   72.89,\n",
      "                   443.74,\n",
      "                   69.92]]}\n"
     ]
    }
   ],
   "source": [
    "pprint(person_keypoints_val2017[\"annotations\"][0])"
   ]
  },
  {
   "attachments": {},
   "cell_type": "markdown",
   "metadata": {},
   "source": [
    "## Kili project creation"
   ]
  },
  {
   "attachments": {},
   "cell_type": "markdown",
   "metadata": {},
   "source": [
    "Let's create the Kili project that will contain the images and annotations of the COCO dataset."
   ]
  },
  {
   "cell_type": "code",
   "execution_count": null,
   "metadata": {},
   "outputs": [],
   "source": [
    "if \"KILI_API_KEY\" not in os.environ:\n",
    "    KILI_API_KEY = getpass.getpass(\"Please enter your API key: \")\n",
    "else:\n",
    "    KILI_API_KEY = os.environ[\"KILI_API_KEY\"]"
   ]
  },
  {
   "cell_type": "code",
   "execution_count": null,
   "metadata": {},
   "outputs": [],
   "source": [
    "kili = Kili(\n",
    "    api_key=KILI_API_KEY,  # no need to pass the API_KEY if it is already in your environment variables\n",
    "    # api_endpoint=\"https://cloud.kili-technology.com/api/label/v2/graphql\",\n",
    "    # the line above can be uncommented and changed if you are working with an on-premise version of Kili\n",
    ")"
   ]
  },
  {
   "cell_type": "code",
   "execution_count": null,
   "metadata": {},
   "outputs": [],
   "source": [
    "json_interface = {\"jobs\": {}}"
   ]
  },
  {
   "cell_type": "code",
   "execution_count": null,
   "metadata": {},
   "outputs": [],
   "source": [
    "json_interface[\"jobs\"][\"TRANSCRIPTION_JOB\"] = {\n",
    "    \"content\": {\"input\": \"textField\"},\n",
    "    \"instruction\": \"Caption\",\n",
    "    \"mlTask\": \"TRANSCRIPTION\",\n",
    "    \"required\": 1,\n",
    "    \"isChild\": False,\n",
    "}"
   ]
  },
  {
   "cell_type": "code",
   "execution_count": null,
   "metadata": {},
   "outputs": [],
   "source": [
    "category_id_to_name = {\n",
    "    category[\"id\"]: category[\"name\"] for category in instances_val2017[\"categories\"]\n",
    "}"
   ]
  },
  {
   "cell_type": "code",
   "execution_count": null,
   "metadata": {},
   "outputs": [
    {
     "name": "stdout",
     "output_type": "stream",
     "text": [
      "{'airplane': {'children': [], 'id': 5, 'name': 'airplane'},\n",
      " 'apple': {'children': [], 'id': 53, 'name': 'apple'},\n",
      " 'backpack': {'children': [], 'id': 27, 'name': 'backpack'},\n",
      " 'banana': {'children': [], 'id': 52, 'name': 'banana'},\n",
      " 'baseball bat': {'children': [], 'id': 39, 'name': 'baseball bat'},\n",
      " 'baseball glove': {'children': [], 'id': 40, 'name': 'baseball glove'},\n",
      " 'bear': {'children': [], 'id': 23, 'name': 'bear'},\n",
      " 'bed': {'children': [], 'id': 65, 'name': 'bed'},\n",
      " 'bench': {'children': [], 'id': 15, 'name': 'bench'},\n",
      " 'bicycle': {'children': [], 'id': 2, 'name': 'bicycle'},\n",
      " 'bird': {'children': [], 'id': 16, 'name': 'bird'},\n",
      " 'boat': {'children': [], 'id': 9, 'name': 'boat'},\n",
      " 'book': {'children': [], 'id': 84, 'name': 'book'},\n",
      " 'bottle': {'children': [], 'id': 44, 'name': 'bottle'},\n",
      " 'bowl': {'children': [], 'id': 51, 'name': 'bowl'},\n",
      " 'broccoli': {'children': [], 'id': 56, 'name': 'broccoli'},\n",
      " 'bus': {'children': [], 'id': 6, 'name': 'bus'},\n",
      " 'cake': {'children': [], 'id': 61, 'name': 'cake'},\n",
      " 'car': {'children': [], 'id': 3, 'name': 'car'},\n",
      " 'carrot': {'children': [], 'id': 57, 'name': 'carrot'},\n",
      " 'cat': {'children': [], 'id': 17, 'name': 'cat'},\n",
      " 'cell phone': {'children': [], 'id': 77, 'name': 'cell phone'},\n",
      " 'chair': {'children': [], 'id': 62, 'name': 'chair'},\n",
      " 'clock': {'children': [], 'id': 85, 'name': 'clock'},\n",
      " 'couch': {'children': [], 'id': 63, 'name': 'couch'},\n",
      " 'cow': {'children': [], 'id': 21, 'name': 'cow'},\n",
      " 'cup': {'children': [], 'id': 47, 'name': 'cup'},\n",
      " 'dining table': {'children': [], 'id': 67, 'name': 'dining table'},\n",
      " 'dog': {'children': [], 'id': 18, 'name': 'dog'},\n",
      " 'donut': {'children': [], 'id': 60, 'name': 'donut'},\n",
      " 'elephant': {'children': [], 'id': 22, 'name': 'elephant'},\n",
      " 'fire hydrant': {'children': [], 'id': 11, 'name': 'fire hydrant'},\n",
      " 'fork': {'children': [], 'id': 48, 'name': 'fork'},\n",
      " 'frisbee': {'children': [], 'id': 34, 'name': 'frisbee'},\n",
      " 'giraffe': {'children': [], 'id': 25, 'name': 'giraffe'},\n",
      " 'hair drier': {'children': [], 'id': 89, 'name': 'hair drier'},\n",
      " 'handbag': {'children': [], 'id': 31, 'name': 'handbag'},\n",
      " 'horse': {'children': [], 'id': 19, 'name': 'horse'},\n",
      " 'hot dog': {'children': [], 'id': 58, 'name': 'hot dog'},\n",
      " 'keyboard': {'children': [], 'id': 76, 'name': 'keyboard'},\n",
      " 'kite': {'children': [], 'id': 38, 'name': 'kite'},\n",
      " 'knife': {'children': [], 'id': 49, 'name': 'knife'},\n",
      " 'laptop': {'children': [], 'id': 73, 'name': 'laptop'},\n",
      " 'microwave': {'children': [], 'id': 78, 'name': 'microwave'},\n",
      " 'motorcycle': {'children': [], 'id': 4, 'name': 'motorcycle'},\n",
      " 'mouse': {'children': [], 'id': 74, 'name': 'mouse'},\n",
      " 'orange': {'children': [], 'id': 55, 'name': 'orange'},\n",
      " 'oven': {'children': [], 'id': 79, 'name': 'oven'},\n",
      " 'parking meter': {'children': [], 'id': 14, 'name': 'parking meter'},\n",
      " 'person': {'children': [], 'id': 1, 'name': 'person'},\n",
      " 'pizza': {'children': [], 'id': 59, 'name': 'pizza'},\n",
      " 'potted plant': {'children': [], 'id': 64, 'name': 'potted plant'},\n",
      " 'refrigerator': {'children': [], 'id': 82, 'name': 'refrigerator'},\n",
      " 'remote': {'children': [], 'id': 75, 'name': 'remote'},\n",
      " 'sandwich': {'children': [], 'id': 54, 'name': 'sandwich'},\n",
      " 'scissors': {'children': [], 'id': 87, 'name': 'scissors'},\n",
      " 'sheep': {'children': [], 'id': 20, 'name': 'sheep'},\n",
      " 'sink': {'children': [], 'id': 81, 'name': 'sink'},\n",
      " 'skateboard': {'children': [], 'id': 41, 'name': 'skateboard'},\n",
      " 'skis': {'children': [], 'id': 35, 'name': 'skis'},\n",
      " 'snowboard': {'children': [], 'id': 36, 'name': 'snowboard'},\n",
      " 'spoon': {'children': [], 'id': 50, 'name': 'spoon'},\n",
      " 'sports ball': {'children': [], 'id': 37, 'name': 'sports ball'},\n",
      " 'stop sign': {'children': [], 'id': 13, 'name': 'stop sign'},\n",
      " 'suitcase': {'children': [], 'id': 33, 'name': 'suitcase'},\n",
      " 'surfboard': {'children': [], 'id': 42, 'name': 'surfboard'},\n",
      " 'teddy bear': {'children': [], 'id': 88, 'name': 'teddy bear'},\n",
      " 'tennis racket': {'children': [], 'id': 43, 'name': 'tennis racket'},\n",
      " 'tie': {'children': [], 'id': 32, 'name': 'tie'},\n",
      " 'toaster': {'children': [], 'id': 80, 'name': 'toaster'},\n",
      " 'toilet': {'children': [], 'id': 70, 'name': 'toilet'},\n",
      " 'toothbrush': {'children': [], 'id': 90, 'name': 'toothbrush'},\n",
      " 'traffic light': {'children': [], 'id': 10, 'name': 'traffic light'},\n",
      " 'train': {'children': [], 'id': 7, 'name': 'train'},\n",
      " 'truck': {'children': [], 'id': 8, 'name': 'truck'},\n",
      " 'tv': {'children': [], 'id': 72, 'name': 'tv'},\n",
      " 'umbrella': {'children': [], 'id': 28, 'name': 'umbrella'},\n",
      " 'vase': {'children': [], 'id': 86, 'name': 'vase'},\n",
      " 'wine glass': {'children': [], 'id': 46, 'name': 'wine glass'},\n",
      " 'zebra': {'children': [], 'id': 24, 'name': 'zebra'}}\n"
     ]
    }
   ],
   "source": [
    "categories = {\n",
    "    category[\"name\"]: {\"children\": [], \"name\": category[\"name\"], \"id\": category[\"id\"]}\n",
    "    for category in instances_val2017[\"categories\"]\n",
    "}\n",
    "pprint(categories)"
   ]
  },
  {
   "cell_type": "code",
   "execution_count": null,
   "metadata": {},
   "outputs": [],
   "source": [
    "json_interface[\"jobs\"][\"OBJECT_DETECTION_JOB\"] = {\n",
    "    \"content\": {\"categories\": categories, \"input\": \"radio\"},\n",
    "    \"instruction\": \"BBox\",\n",
    "    \"mlTask\": \"OBJECT_DETECTION\",\n",
    "    \"required\": 0,\n",
    "    \"tools\": [\"rectangle\"],\n",
    "    \"isChild\": False,\n",
    "}"
   ]
  },
  {
   "cell_type": "code",
   "execution_count": null,
   "metadata": {},
   "outputs": [],
   "source": [
    "json_interface[\"jobs\"][\"SEGMENTATION_JOB\"] = {\n",
    "    \"content\": {\"categories\": categories, \"input\": \"radio\"},\n",
    "    \"instruction\": \"Segment\",\n",
    "    \"mlTask\": \"OBJECT_DETECTION\",\n",
    "    \"required\": 0,\n",
    "    \"tools\": [\"semantic\"],\n",
    "    \"isChild\": False,\n",
    "}"
   ]
  },
  {
   "cell_type": "code",
   "execution_count": null,
   "metadata": {},
   "outputs": [],
   "source": [
    "project = kili.create_project(\n",
    "    title=\"[Kili SDK Notebook]: COCO 2017\",\n",
    "    input_type=\"IMAGE\",\n",
    "    json_interface=json_interface,\n",
    ")"
   ]
  },
  {
   "attachments": {},
   "cell_type": "markdown",
   "metadata": {},
   "source": [
    "## Importing images"
   ]
  },
  {
   "attachments": {},
   "cell_type": "markdown",
   "metadata": {},
   "source": [
    "Now that our project is created, let's import the images:"
   ]
  },
  {
   "cell_type": "code",
   "execution_count": null,
   "metadata": {},
   "outputs": [],
   "source": [
    "content_array = []\n",
    "external_id_array = []\n",
    "for image in instances_val2017[\"images\"]:\n",
    "    content_array.append(image[\"flickr_url\"].replace(\"http://\", \"https://\"))\n",
    "    external_id_array.append(str(image[\"id\"]))"
   ]
  },
  {
   "cell_type": "code",
   "execution_count": null,
   "metadata": {},
   "outputs": [
    {
     "name": "stderr",
     "output_type": "stream",
     "text": [
      "100%|██████████| 10/10 [00:01<00:00,  8.93it/s]\n"
     ]
    },
    {
     "data": {
      "text/plain": [
       "{'id': 'cljilughf00kc0j5yh367gp3v'}"
      ]
     },
     "execution_count": null,
     "metadata": {},
     "output_type": "execute_result"
    }
   ],
   "source": [
    "kili.append_many_to_dataset(\n",
    "    project[\"id\"], content_array=content_array, external_id_array=external_id_array\n",
    ")"
   ]
  },
  {
   "attachments": {
    "02ee1a22-27b9-4889-a87b-2b31a91aa8fa.png": {
     "image/png": "[encoded data removed]"
    }
   },
   "cell_type": "markdown",
   "metadata": {},
   "source": [
    "![image.png](attachment:02ee1a22-27b9-4889-a87b-2b31a91aa8fa.png)"
   ]
  },
  {
   "attachments": {},
   "cell_type": "markdown",
   "metadata": {},
   "source": [
    "## Importing annotations"
   ]
  },
  {
   "cell_type": "code",
   "execution_count": null,
   "metadata": {},
   "outputs": [],
   "source": [
    "import itertools\n",
    "\n",
    "from kili.utils.labels.bbox import (\n",
    "    bbox_points_to_normalized_vertices,\n",
    "    point_to_normalized_point,\n",
    ")\n",
    "from kili.utils.labels.image import mask_to_normalized_vertices"
   ]
  },
  {
   "cell_type": "code",
   "execution_count": null,
   "metadata": {},
   "outputs": [],
   "source": [
    "json_response_array = []\n",
    "\n",
    "for image_id in external_id_array:\n",
    "    img_info = [img for img in instances_val2017[\"images\"] if img[\"id\"] == int(image_id)][0]\n",
    "    img_width = img_info[\"width\"]\n",
    "    img_height = img_info[\"height\"]\n",
    "\n",
    "    # json response contains the label data for the image\n",
    "    json_resp = {}\n",
    "\n",
    "    # Transcription job\n",
    "    img_captions = [\n",
    "        ann for ann in captions_val2017[\"annotations\"] if ann[\"image_id\"] == int(image_id)\n",
    "    ]\n",
    "    json_resp[\"TRANSCRIPTION_JOB\"] = {\n",
    "        \"text\": img_captions[0][\"caption\"]  # only take the 1st caption\n",
    "    }\n",
    "\n",
    "    # Object detection and segmentation jobs\n",
    "    coco_annotations = [\n",
    "        ann for ann in instances_val2017[\"annotations\"] if ann[\"image_id\"] == int(image_id)\n",
    "    ]\n",
    "    kili_annotations_bbox = []\n",
    "    kili_annotations_segm = []\n",
    "    for coco_ann in coco_annotations:\n",
    "        # Object detection job\n",
    "        x, y, width, height = coco_ann[\"bbox\"]\n",
    "        kili_ann_bbox = {\n",
    "            \"children\": {},\n",
    "            \"boundingPoly\": [\n",
    "                {\n",
    "                    \"normalizedVertices\": bbox_points_to_normalized_vertices(\n",
    "                        bottom_left={\"x\": x, \"y\": y + height},\n",
    "                        bottom_right={\"x\": x + width, \"y\": y + height},\n",
    "                        top_right={\"x\": x + width, \"y\": y},\n",
    "                        top_left={\"x\": x, \"y\": y},\n",
    "                        img_height=img_height,\n",
    "                        img_width=img_width,\n",
    "                        origin_location=\"top_left\",\n",
    "                    )\n",
    "                }\n",
    "            ],\n",
    "            \"categories\": [{\"name\": category_id_to_name[coco_ann[\"category_id\"]]}],\n",
    "            \"type\": \"rectangle\",\n",
    "            \"mid\": str(coco_ann[\"id\"]) + \"_bbox\",\n",
    "        }\n",
    "        kili_annotations_bbox.append(kili_ann_bbox)\n",
    "\n",
    "        # Segmentation job\n",
    "        coco_segmentations = coco_ann[\"segmentation\"]\n",
    "        if coco_ann[\"iscrowd\"] == 0:\n",
    "            # a single object (iscrowd=0 in which case polygons are used)\n",
    "            for coco_segm in coco_segmentations:\n",
    "                kili_ann_segm = {\n",
    "                    \"children\": {},\n",
    "                    \"boundingPoly\": [\n",
    "                        {\n",
    "                            \"normalizedVertices\": [\n",
    "                                point_to_normalized_point(\n",
    "                                    point={\"x\": x, \"y\": y},\n",
    "                                    img_height=img_height,\n",
    "                                    img_width=img_width,\n",
    "                                    origin_location=\"top_left\",\n",
    "                                )\n",
    "                                for x, y in itertools.zip_longest(*[iter(coco_segm)] * 2)\n",
    "                            ]\n",
    "                        }\n",
    "                    ],\n",
    "                    \"categories\": [{\"name\": category_id_to_name[coco_ann[\"category_id\"]]}],\n",
    "                    \"type\": \"semantic\",\n",
    "                    \"mid\": str(coco_ann[\"id\"]) + \"_segm\",\n",
    "                }\n",
    "                kili_annotations_segm.append(kili_ann_segm)\n",
    "        else:\n",
    "            # a crowd (iscrowd=1 in which case RLE (run-length encoding) is used)\n",
    "            rle_counts = coco_segmentations[\"counts\"]\n",
    "            # we work with a flat image to simplify the code\n",
    "            mask = np.zeros(img_height * img_width, dtype=np.uint8)\n",
    "            pixel_index = 0\n",
    "            for i, count in enumerate(rle_counts):\n",
    "                if i % 2 == 0:\n",
    "                    # we skip pixels\n",
    "                    pixel_index += count\n",
    "                else:\n",
    "                    # we set pixels' value\n",
    "                    mask[pixel_index : pixel_index + count] = 255\n",
    "                    pixel_index += count\n",
    "\n",
    "            # we reshape the mask to its original shape\n",
    "            # and we transpose it to have the same shape as the image\n",
    "            # (i.e. (height, width))\n",
    "            mask = mask.reshape((img_width, img_height)).T\n",
    "\n",
    "            # we convert the mask to normalized vertices\n",
    "            # hierarchy is not used here. It is used for polygons with holes.\n",
    "            normalized_vertices, hierarchy = mask_to_normalized_vertices(mask)\n",
    "            for contour in normalized_vertices:\n",
    "                kili_ann_segm = {\n",
    "                    \"children\": {},\n",
    "                    \"boundingPoly\": [{\"normalizedVertices\": contour}],\n",
    "                    \"categories\": [{\"name\": category_id_to_name[coco_ann[\"category_id\"]]}],\n",
    "                    \"type\": \"semantic\",\n",
    "                    \"mid\": str(coco_ann[\"id\"]) + \"_segm_crowd\",\n",
    "                }\n",
    "                kili_annotations_segm.append(kili_ann_segm)\n",
    "\n",
    "    json_resp[\"OBJECT_DETECTION_JOB\"] = {\"annotations\": kili_annotations_bbox}\n",
    "    json_resp[\"SEGMENTATION_JOB\"] = {\"annotations\": kili_annotations_segm}\n",
    "\n",
    "    json_response_array.append(json_resp)"
   ]
  },
  {
   "cell_type": "code",
   "execution_count": null,
   "metadata": {},
   "outputs": [
    {
     "name": "stderr",
     "output_type": "stream",
     "text": [
      "100%|██████████| 10/10 [00:01<00:00,  9.32it/s]\n"
     ]
    },
    {
     "data": {
      "text/plain": [
       "[{'id': 'cljinqsjc00050jb98m9c58j7'},\n",
       " {'id': 'cljinqsjc00060jb90cgb68bs'},\n",
       " {'id': 'cljinqsjd00070jb99t2bg1po'},\n",
       " {'id': 'cljinqsjd00080jb947f6et8k'},\n",
       " {'id': 'cljinqsjd00090jb9d6nl4mj9'},\n",
       " {'id': 'cljinqsjd000a0jb98k28cdmu'},\n",
       " {'id': 'cljinqsjd000b0jb98hoofpwf'},\n",
       " {'id': 'cljinqsjd000c0jb9elhih8la'},\n",
       " {'id': 'cljinqsjd000d0jb9733ldicu'},\n",
       " {'id': 'cljinqsjd000e0jb9emvuclwn'}]"
      ]
     },
     "execution_count": null,
     "metadata": {},
     "output_type": "execute_result"
    }
   ],
   "source": [
    "kili.append_labels(\n",
    "    asset_external_id_array=external_id_array,\n",
    "    project_id=project[\"id\"],\n",
    "    json_response_array=json_response_array,\n",
    ")"
   ]
  },
  {
   "cell_type": "code",
   "execution_count": null,
   "metadata": {},
   "outputs": [],
   "source": []
  }
 ],
 "metadata": {
  "language_info": {
   "name": "python"
  }
 },
 "nbformat": 4,
 "nbformat_minor": 4
}
