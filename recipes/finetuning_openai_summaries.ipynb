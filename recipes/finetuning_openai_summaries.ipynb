{
 "cells": [
  {
   "cell_type": "markdown",
   "metadata": {},
   "source": [
    "# LLM fine-tuning with Kili: Training a specialized summarizer with OpenAI fine-tuning\n",
    "\n",
    "1. From the PubMed summarization dataset https://huggingface.co/datasets/ccdv/pubmed-summarization , take a subset (~20 examples) of the training set with input texts that are not too long (to fit the max token number of GPT-3.5 = <4096), and do the same on the validation dataset.\n",
    "2. Run GPT-3.5 with a summarization prompt on the validation subset and on the training subset, and compute minlogprob.\n",
    "3. Identify the 10 worst examples w.r.t. the minlogprob metric on the training subset.\n",
    "4. in Kili, fix the 10 worst examples using the ground truth annotations from the datset (to simulate human correction).\n",
    "5. Fine tuning of GPT3.5 on the 10 fixed examples using the input text and the ground truth summaries of the training subset.\n",
    "6. Run the fine-tuned model on the validation dataset, and compute the global summarization score again, it should perform better (hopefully)!"
   ]
  },
  {
   "cell_type": "markdown",
   "metadata": {},
   "source": [
    "# Setup"
   ]
  },
  {
   "cell_type": "code",
   "execution_count": null,
   "metadata": {},
   "outputs": [],
   "source": [
    "! pip install -q datasets tiktoken openai rouge-score diskcache pandas tqdm kili ipywidgets seaborn tenacity jinja2"
   ]
  },
  {
   "cell_type": "markdown",
   "metadata": {},
   "source": [
    "## Build the dataset\n",
    "Download the PubMed summarization dataset and take a subset (~20 examples) of the training set with input texts that are not too long (< 3500 tokens). More realistic pipelines should take more examples, more than 100 for instance."
   ]
  },
  {
   "cell_type": "code",
   "execution_count": null,
   "metadata": {},
   "outputs": [],
   "source": [
    "import tiktoken\n",
    "from datasets import load_dataset\n",
    "\n",
    "INITIAL_DATASET_SIZE = 1000\n",
    "FINAL_DATASET_SIZE = 20\n",
    "MAX_INPUT_TOKENS = 3500\n",
    "MIN_INPUT_TOKENS = 1000\n",
    "\n",
    "tokenizer = tiktoken.get_encoding(\"cl100k_base\")\n",
    "\n",
    "\n",
    "def process_dataset(dataset):\n",
    "    \"\"\"Keep the examples that are between MIN_INPUT_TOKENS and MAX_INPUT_TOKENS and select the first FINAL_DATASET_SIZE examples.\"\"\"\n",
    "\n",
    "    def tokenize(examples):\n",
    "        return tokenizer.encode(examples[\"article\"])\n",
    "\n",
    "    return (\n",
    "        dataset.select(range(INITIAL_DATASET_SIZE))\n",
    "        .filter(lambda example: MAX_INPUT_TOKENS > len(tokenize(example)) > MIN_INPUT_TOKENS)\n",
    "        .select(range(FINAL_DATASET_SIZE))\n",
    "    )\n",
    "\n",
    "\n",
    "dataset = load_dataset(\"ccdv/pubmed-summarization\")\n",
    "dataset_train = process_dataset(dataset[\"train\"])\n",
    "dataset_validation = process_dataset(dataset[\"validation\"])"
   ]
  },
  {
   "cell_type": "code",
   "execution_count": null,
   "metadata": {},
   "outputs": [
    {
     "name": "stdout",
     "output_type": "stream",
     "text": [
      "the centers for disease control and prevention ( cdc ) and united states preventive services task force ( uspstf ) recommend universal hiv screening for all pregnant women entering prenatal care [ 1 , 2 ] . \n",
      " this screening enables hiv - infected women and their infants to benefit from appropriate and timely interventions such as antiretroviral medications . \n",
      " when the recommended antiretroviral and obstetric interventions are used , a woman who knows of her hiv infection early in pregnancy now has a less than 2% chance of delivering an hiv - infected infant . without intervention , this risk is approximately 25% in the united states [ 36 ] . \n",
      " testing for hiv began in 1985 with the introduction of the enzyme immunoassay ( eia ) . in order to account for false positive results using screening tests in a low - prevalence population \n",
      " , confirmatory testing has been implemented using a western blot or immunofluorescence assay .   in a low - prevalence population , \n",
      " the false positive rate using the eia is increased compared to a high - prevalence population , and the positive predictive value of any test will always depend on the prevalence of the condition in the population tested .   in testing performed by the cdc , \n",
      " the eia positive predictive value ranges from 71 to 83% in populations with hiv prevalence from 0.5 to 1% . \n",
      " some investigators believe that the presence of alloantibodies account for the increased false positive rate associated with pregnancy , transfusions , transplantation , and autoimmune diseases .   however , risk factors specific to pregnancy that account for this are poorly understood . \n",
      " conversely , a recent large retrospective study found that the false positive hiv eia rate was lower in pregnant women compared to nonpregnant individuals ( 0.14% versus 0.21% ) . \n",
      " our objective was to determine if any maternal characteristics correlated with false positive hiv eia testing at delivery . \n",
      " this was a review of all women who delivered at parkland memorial hospital in dallas , tex , from october 1 , 2005 through september 30 , 2008 . \n",
      " all women routinely received serum hiv testing at their initial prenatal visit and at time of presentation to labor and delivery for delivery via the opt - out approach with the abbott commander hiv ab hiv-1/hiv-2 ( rdna ) eia ( abbott laboratories , abbott park , ill ) . \n",
      " hiv test results performed at the time of delivery were analyzed in this study . a woman was considered hiv negative if eia testing was negative . \n",
      " positive test results were confirmed with the fluorognost immunofluorescent assay ( ifa ) hiv-1 ( sanochemia corp , stamford , conn , usa ) . \n",
      " women were considered to be falsely positive if eia results were positive and the ifa was negative . \n",
      " women delivered in this time period were identified through the obstetric operations database and linked to the pathology database for hiv , hepatitis b surface antigen ( hbsag ) , and rapid plasma reagin ( rpr ) results . \n",
      " maternal characteristics , including race , parity , age , singleton versus multiple gestation , and a diagnoses of diabetes or hypertension were obtained using the obstetrics operations database . \n",
      " laboratory results drawn 28 days prior to delivery through seven days after delivery were included . \n",
      " the study was approved by the institutional review board at the university of texas southwestern medical center . \n",
      " categorical data were reported as frequencies , and statistical significance was determined using   analysis . \n",
      " statistical analyses were performed using sas , version 9.2 ( sas institute , cary , nc ) . \n",
      " a total of 47,794 women were identified who delivered during the study time frame . \n",
      " compared to hiv negative patients , false positive patients were more likely to be nulliparous ( 43% versus 31% , p < 0.001 ) and younger ( mean age 23.9  5.7 versus 26.2  5.9 , p < 0.001 ) . \n",
      " hiv positive patients were significantly older than false positive patients ( 27.4 versus 23.9 , p < 0.001 ) and hiv negative patients ( 27.4 versus 26.2 , p = 0.012 ) . \n",
      " of the 47,794 women , 47,391 ( 99% ) were hiv negative , 145 ( 0.3% ) had a false positive test , 172 ( 0.4% ) were true positives , and 86 ( 0.2% ) tested equivocal or were missing hiv results . \n",
      " the specificity of the hiv eia test was 99.7% with a positive predictive value of 54.3% . \n",
      " the sensitivity of the eia test was presumed to be near 100% , as the false negative rate using the eia has been previously demonstrated to be negligible in studies performed by the manufacturer . \n",
      " table 2 shows the prevalence of diabetes , hypertension , hepatitis b , and results of syphilis testing in the study population . \n",
      " hiv positive women were more likely to test positive for hepatitis b surface antigen ( 1% versus 0% , p = 0.002 ) and rpr ( 2% versus 0% , p = 0.02 ) . \n",
      " there was no significant difference in the prevalence of diabetes or hypertension between the three groups . \n",
      " there was also no significant difference in the rate of hbsag and rpr positivity between the hiv negative and false positive groups . \n",
      " when evaluating the interaction between nulliparity and age , there is a significant correlation between the two variables ; that is , parous patients are likely to be older and , therefore , nulliparity and age are not independent predictors of hiv false positivity . \n",
      " however , when the hiv testing groups ( positive , false positive , negative ) are stratified by parity , the comparison of age across the three groups remains significant only in nulliparous women ( table 3 , p = 0.0003 ) . \n",
      " the interaction between parity and age means that the difference in age between nulliparous and parous women is different depending on the hiv status . \n",
      " for example , in the hiv positive group the nulliparous and parous women are closer in age than in the false positive group . \n",
      " this was the first population - based study to evaluate risk factors for hiv false positivity in pregnant women presenting for delivery at a large urban institution . \n",
      " we found that younger and nulliparous women were more likely to have false positive testing using the hiv eia . \n",
      " the observed positive predictive value ( ppv ) of 54.3% was lower than the previously reported by the cdc ( ppv 7183% ) in a nonpregnant population , suggesting that pregnancy may be associated with a higher rate of false positivity . \n",
      " the low positive predictive value of the hiv eia in our study may have been impacted by the relatively low hiv prevalence ( 0.4% ) in our population . \n",
      " this information could be useful for counseling women who test positive for hiv at delivery and emphasizes the limitations of eia testing if used as a rapid test to determine the need for intrapartum and neonatal antiretroviral prophylaxis . \n",
      " the false positive rates of currently available rapid hiv tests have been reported to be much lower than has been found with eia testing in this study . \n",
      " evaluated the hiv false positive rate in over 900 pregnant women , most of whom were hispanic , using both the eia and a rapid point - of - care ( poct ) test , oraquick . \n",
      " they found that while there were no false positive tests with the oraquick , there were seven false positives using the eia ( ppv 100% versus 35.7% ) . in the mother - infant rapid intervention at delivery ( miriad ) \n",
      " study , jamieson et al . found that the ppv of the oraquick test was 90% while the ppv of the eia was 74% [ 12 , 13 ] . \n",
      " current recommendations by the cdc and the american college of obstetricians and gynecologists include rapid hiv screening for women presenting to labor and delivery with undocumented hiv status and for repeat hiv testing in the third trimester for women at high risk or who live in areas with high hiv prevalence [ 7 , 14 , 15 ] . \n",
      " a woman testing preliminarily positive for hiv in labor should be counseled that she may have hiv infection and that her neonate may be exposed , and immediate antiretroviral prophylaxis should be recommended without waiting for confirmatory test results . \n",
      " the results of our study may aid in counseling women if they test preliminarily positive for hiv using the eia , while awaiting confirmatory testing results . \n",
      " it remains to be determined whether the same risk factors for false positive hiv eia testing apply to the poct tests used in a real life setting . \n",
      " our study found that the positive predictive value of eia testing was only 54.3% and that younger nulliparous women were more likely to test falsely positive . \n",
      " importantly , our data may represent the real world performance of the eia testing in a large obstetric population - based setting . \n",
      " investigators also have noted a significant relationship between influenza vaccination and false positive screening for hiv antibodies [ 1618 ] . \n",
      " a potential reason for this cross reactivity is that there are similarities in homology between the transmembrane domains of the influenza envelope protein hemagglutinin and the hiv-1 envelope proteins . in our population \n",
      " , there were no significant differences in age or parity and influenza vaccination acceptance rates ( unpublished data ) . \n",
      " women in our study were from a single institution , with a predominantly hispanic background , and therefore the results may not be applicable to all populations \n",
      " .   reasons for false positive hiv serology may vary depending on the geographical region .   while we did find a significant association between young age , nulliparity , and hiv false positive testing , \n",
      " our study does not have the capability to identify a causal relationship or explain why this association may exist . \n",
      " in addition , our study can not address if these same risk factors for false positive testing apply to all other hiv tests . \n",
      " further studies are needed to confirm our findings , elucidate the biological mechanisms for increased hiv eia false positivity in young , nulliparous women , and compare this conventional testing method with contemporary rapid screening assays , including poct .\n"
     ]
    }
   ],
   "source": [
    "print(dataset_train[18][\"article\"])"
   ]
  },
  {
   "cell_type": "code",
   "execution_count": null,
   "metadata": {},
   "outputs": [],
   "source": [
    "assert len(dataset_train) == FINAL_DATASET_SIZE\n",
    "assert len(dataset_validation) == FINAL_DATASET_SIZE"
   ]
  },
  {
   "cell_type": "markdown",
   "metadata": {},
   "source": [
    "## Run GPT3.5 to create the summaries"
   ]
  },
  {
   "cell_type": "markdown",
   "metadata": {},
   "source": [
    "Now, we use GPT 3.5 turbo to compute summaries of the input articles. We generate multiple summaries, and we use the rouge score between the first generation and the following ones to see how much the summary varies. This is a simple metric that can indicate which input articles are more difficult to summarize for the LLM. Note that there are more reliable metrics based on log probabilities or self-check, that we did not implement here for the sake of simplicity."
   ]
  },
  {
   "cell_type": "code",
   "execution_count": null,
   "metadata": {},
   "outputs": [],
   "source": [
    "import os\n",
    "\n",
    "import openai\n",
    "from rouge_score import rouge_scorer\n",
    "from tenacity import retry, stop_after_attempt, wait_random_exponential\n",
    "from tqdm.auto import tqdm\n",
    "\n",
    "scorer = rouge_scorer.RougeScorer([\"rouge1\", \"rougeL\"], use_stemmer=True)\n",
    "\n",
    "import diskcache as dc\n",
    "\n",
    "disk_cache = dc.Cache(\"cache\")\n",
    "\n",
    "SYSTEM_PROMPT = (\n",
    "    \"This system is skilled in summarizing articles. The summaries should use the same narrative\"\n",
    "    \" voice as the original, and avoid meta-statements such as 'this article is about'.\"\n",
    ")\n",
    "USER_PROMPT_TEMPLATE = \"Summarize the following article in less than 250 words: {}\"\n",
    "N_SHOTS = 5\n",
    "\n",
    "\n",
    "def summarize(article, compute_confidence_score):\n",
    "    if article not in disk_cache:\n",
    "\n",
    "        @retry(wait=wait_random_exponential(min=1, max=60), stop=stop_after_attempt(6))\n",
    "        def inner_summarize(article, temperature):\n",
    "            response = openai.ChatCompletion.create(\n",
    "                # engine=\"gpt_35_turbo\",\n",
    "                model=\"gpt-3.5-turbo\",\n",
    "                messages=[\n",
    "                    {\"role\": \"system\", \"content\": SYSTEM_PROMPT},\n",
    "                    {\"role\": \"user\", \"content\": USER_PROMPT_TEMPLATE.format(article)},\n",
    "                ],\n",
    "                temperature=temperature,\n",
    "                max_tokens=500,\n",
    "            )\n",
    "            return response.choices[0].message.content\n",
    "\n",
    "        base_answer = inner_summarize(article, temperature=0)\n",
    "\n",
    "        if not compute_confidence_score:\n",
    "            disk_cache[article] = {\n",
    "                \"initial_summary\": base_answer,\n",
    "            }\n",
    "        else:\n",
    "            rouge_scores = []\n",
    "            for shot in tqdm(range(N_SHOTS), desc=\"Other shots to compute confidence score\"):\n",
    "                shot_answer = inner_summarize(article, temperature=1.0)\n",
    "                rouge_scorer = scorer.score(base_answer, shot_answer)\n",
    "                rouge_scores.append(\n",
    "                    (rouge_scorer[\"rouge1\"].fmeasure + rouge_scorer[\"rougeL\"].fmeasure) / 2\n",
    "                )\n",
    "\n",
    "            avg_rouge_score = sum(rouge_scores) / len(rouge_scores)\n",
    "\n",
    "            disk_cache[article] = {\n",
    "                \"initial_summary\": base_answer,\n",
    "                \"initial_confidence_score\": avg_rouge_score,\n",
    "            }\n",
    "\n",
    "    return disk_cache[article]"
   ]
  },
  {
   "cell_type": "code",
   "execution_count": null,
   "metadata": {},
   "outputs": [
    {
     "data": {
      "application/vnd.jupyter.widget-view+json": {
       "model_id": "b4d739f3f9934c378c1eddd99e0d238e",
       "version_major": 2,
       "version_minor": 0
      },
      "text/plain": [
       "Other shots to compute confidence score:   0%|          | 0/5 [00:00<?, ?it/s]"
      ]
     },
     "metadata": {},
     "output_type": "display_data"
    },
    {
     "name": "stdout",
     "output_type": "stream",
     "text": [
      "{'initial_summary': 'The article discusses the risks associated with lumbar transforaminal injections and whether they should be discontinued. It presents a case of a 47-year-old man who developed paraplegia after undergoing an epidural steroid injection (ESI) for recurrent pain. The initial MRI was unremarkable, but a later evaluation showed conus medullaris syndrome and a conus infarct. The article also mentions a search of the PubMed database for similar cases and discusses the potential benefits and risks of ESI. It emphasizes that while this severe complication is rare, its true incidence is unknown. The article suggests that the rarity of this complication should not lead to the discontinuation of transforaminal ESI, but rather it should be discussed with patients during the consent process. The article also discusses the potential causes of spinal cord infarction during ESI, including direct arterial injection and embolic incidents. It mentions the importance of adhering to standard techniques and guidelines to prevent complications. The article concludes by stating that while the risk of permanent neurologic deficit is negligible, patients should be informed about the potential risks of ESI, including paralysis. It suggests that the continued use of transforaminal ESI should be considered for select patients, but the consent process should include discussion of this rare complication.', 'initial_confidence_score': 0.6476221258134517}\n"
     ]
    }
   ],
   "source": [
    "print(summarize(dataset_train[9][\"article\"]))"
   ]
  },
  {
   "cell_type": "markdown",
   "metadata": {},
   "source": [
    "We see above that we can obtain a summary from GPT 3.5 turbo and an assosiated confidence score. It is now time to compute the summaries and the confidence score for the training dataset. This will take around 30 minutes to run on a training dataset of 20 examples, most of the time being spent on the generations used to compute the confidence score."
   ]
  },
  {
   "cell_type": "code",
   "execution_count": null,
   "metadata": {},
   "outputs": [
    {
     "data": {
      "application/vnd.jupyter.widget-view+json": {
       "model_id": "0d497a1705014f9f8898aa234bf064bb",
       "version_major": 2,
       "version_minor": 0
      },
      "text/plain": [
       "Summarizing:   0%|          | 0/20 [00:00<?, ?it/s]"
      ]
     },
     "metadata": {},
     "output_type": "display_data"
    },
    {
     "data": {
      "application/vnd.jupyter.widget-view+json": {
       "model_id": "25f9d43282bb4abb982cbc44a8da4b44",
       "version_major": 2,
       "version_minor": 0
      },
      "text/plain": [
       "Other shots to compute confidence score:   0%|          | 0/5 [00:00<?, ?it/s]"
      ]
     },
     "metadata": {},
     "output_type": "display_data"
    },
    {
     "data": {
      "application/vnd.jupyter.widget-view+json": {
       "model_id": "7d17020f079b4e949dda6fd4c84c4f0a",
       "version_major": 2,
       "version_minor": 0
      },
      "text/plain": [
       "Other shots to compute confidence score:   0%|          | 0/5 [00:00<?, ?it/s]"
      ]
     },
     "metadata": {},
     "output_type": "display_data"
    },
    {
     "data": {
      "application/vnd.jupyter.widget-view+json": {
       "model_id": "828b8edcaa6f49fba2c227634faf624c",
       "version_major": 2,
       "version_minor": 0
      },
      "text/plain": [
       "Other shots to compute confidence score:   0%|          | 0/5 [00:00<?, ?it/s]"
      ]
     },
     "metadata": {},
     "output_type": "display_data"
    },
    {
     "data": {
      "application/vnd.jupyter.widget-view+json": {
       "model_id": "782ac8ed763f4961951b88ace867a29a",
       "version_major": 2,
       "version_minor": 0
      },
      "text/plain": [
       "Other shots to compute confidence score:   0%|          | 0/5 [00:00<?, ?it/s]"
      ]
     },
     "metadata": {},
     "output_type": "display_data"
    },
    {
     "data": {
      "application/vnd.jupyter.widget-view+json": {
       "model_id": "10c230fbd1f846deb388325142a39c1b",
       "version_major": 2,
       "version_minor": 0
      },
      "text/plain": [
       "Other shots to compute confidence score:   0%|          | 0/5 [00:00<?, ?it/s]"
      ]
     },
     "metadata": {},
     "output_type": "display_data"
    },
    {
     "data": {
      "application/vnd.jupyter.widget-view+json": {
       "model_id": "ef50fae4cae04f8e81434343934edd25",
       "version_major": 2,
       "version_minor": 0
      },
      "text/plain": [
       "Other shots to compute confidence score:   0%|          | 0/5 [00:00<?, ?it/s]"
      ]
     },
     "metadata": {},
     "output_type": "display_data"
    },
    {
     "data": {
      "application/vnd.jupyter.widget-view+json": {
       "model_id": "d2d1d6a097f74e42990686a285262196",
       "version_major": 2,
       "version_minor": 0
      },
      "text/plain": [
       "Other shots to compute confidence score:   0%|          | 0/5 [00:00<?, ?it/s]"
      ]
     },
     "metadata": {},
     "output_type": "display_data"
    },
    {
     "data": {
      "application/vnd.jupyter.widget-view+json": {
       "model_id": "cce403f8998043ca8be4bf2bb5f87a0e",
       "version_major": 2,
       "version_minor": 0
      },
      "text/plain": [
       "Other shots to compute confidence score:   0%|          | 0/5 [00:00<?, ?it/s]"
      ]
     },
     "metadata": {},
     "output_type": "display_data"
    },
    {
     "data": {
      "application/vnd.jupyter.widget-view+json": {
       "model_id": "b2afbdcec6a14dfc8a8f3b1c3b7f2762",
       "version_major": 2,
       "version_minor": 0
      },
      "text/plain": [
       "Other shots to compute confidence score:   0%|          | 0/5 [00:00<?, ?it/s]"
      ]
     },
     "metadata": {},
     "output_type": "display_data"
    },
    {
     "data": {
      "application/vnd.jupyter.widget-view+json": {
       "model_id": "49d778a0538b4254927cc5d8f2b8945a",
       "version_major": 2,
       "version_minor": 0
      },
      "text/plain": [
       "Other shots to compute confidence score:   0%|          | 0/5 [00:00<?, ?it/s]"
      ]
     },
     "metadata": {},
     "output_type": "display_data"
    },
    {
     "data": {
      "application/vnd.jupyter.widget-view+json": {
       "model_id": "9dd083f361e543f786272c11e9086569",
       "version_major": 2,
       "version_minor": 0
      },
      "text/plain": [
       "Other shots to compute confidence score:   0%|          | 0/5 [00:00<?, ?it/s]"
      ]
     },
     "metadata": {},
     "output_type": "display_data"
    },
    {
     "data": {
      "application/vnd.jupyter.widget-view+json": {
       "model_id": "7349b77c15794a60959d3febdb892ba9",
       "version_major": 2,
       "version_minor": 0
      },
      "text/plain": [
       "Other shots to compute confidence score:   0%|          | 0/5 [00:00<?, ?it/s]"
      ]
     },
     "metadata": {},
     "output_type": "display_data"
    },
    {
     "data": {
      "application/vnd.jupyter.widget-view+json": {
       "model_id": "8228f27d85eb4d358ed56671177d14bf",
       "version_major": 2,
       "version_minor": 0
      },
      "text/plain": [
       "Other shots to compute confidence score:   0%|          | 0/5 [00:00<?, ?it/s]"
      ]
     },
     "metadata": {},
     "output_type": "display_data"
    },
    {
     "data": {
      "application/vnd.jupyter.widget-view+json": {
       "model_id": "83021a177f8c4e41b63958713205b69a",
       "version_major": 2,
       "version_minor": 0
      },
      "text/plain": [
       "Other shots to compute confidence score:   0%|          | 0/5 [00:00<?, ?it/s]"
      ]
     },
     "metadata": {},
     "output_type": "display_data"
    },
    {
     "data": {
      "application/vnd.jupyter.widget-view+json": {
       "model_id": "2541374e80904cadabc0c3334ffd2df3",
       "version_major": 2,
       "version_minor": 0
      },
      "text/plain": [
       "Other shots to compute confidence score:   0%|          | 0/5 [00:00<?, ?it/s]"
      ]
     },
     "metadata": {},
     "output_type": "display_data"
    },
    {
     "data": {
      "application/vnd.jupyter.widget-view+json": {
       "model_id": "f1b166a810594c67b1394ee1e320c2e1",
       "version_major": 2,
       "version_minor": 0
      },
      "text/plain": [
       "Summarizing:   0%|          | 0/20 [00:00<?, ?it/s]"
      ]
     },
     "metadata": {},
     "output_type": "display_data"
    },
    {
     "data": {
      "application/vnd.jupyter.widget-view+json": {
       "model_id": "1a72af5419404c7cbd09c54ce691361f",
       "version_major": 2,
       "version_minor": 0
      },
      "text/plain": [
       "Other shots to compute confidence score:   0%|          | 0/5 [00:00<?, ?it/s]"
      ]
     },
     "metadata": {},
     "output_type": "display_data"
    },
    {
     "data": {
      "application/vnd.jupyter.widget-view+json": {
       "model_id": "07afd3969fb54e979eef338adec3bec5",
       "version_major": 2,
       "version_minor": 0
      },
      "text/plain": [
       "Other shots to compute confidence score:   0%|          | 0/5 [00:00<?, ?it/s]"
      ]
     },
     "metadata": {},
     "output_type": "display_data"
    },
    {
     "data": {
      "application/vnd.jupyter.widget-view+json": {
       "model_id": "0135eb5f0f67404d9b9603a8586518b5",
       "version_major": 2,
       "version_minor": 0
      },
      "text/plain": [
       "Other shots to compute confidence score:   0%|          | 0/5 [00:00<?, ?it/s]"
      ]
     },
     "metadata": {},
     "output_type": "display_data"
    },
    {
     "data": {
      "application/vnd.jupyter.widget-view+json": {
       "model_id": "85367bea727d439eb9e0d8aeeb5d5956",
       "version_major": 2,
       "version_minor": 0
      },
      "text/plain": [
       "Other shots to compute confidence score:   0%|          | 0/5 [00:00<?, ?it/s]"
      ]
     },
     "metadata": {},
     "output_type": "display_data"
    },
    {
     "data": {
      "application/vnd.jupyter.widget-view+json": {
       "model_id": "54ee82be346a446c8b99e0720a008531",
       "version_major": 2,
       "version_minor": 0
      },
      "text/plain": [
       "Other shots to compute confidence score:   0%|          | 0/5 [00:00<?, ?it/s]"
      ]
     },
     "metadata": {},
     "output_type": "display_data"
    },
    {
     "data": {
      "application/vnd.jupyter.widget-view+json": {
       "model_id": "3eb44245cbf54e9b817eb4cedfe21f26",
       "version_major": 2,
       "version_minor": 0
      },
      "text/plain": [
       "Other shots to compute confidence score:   0%|          | 0/5 [00:00<?, ?it/s]"
      ]
     },
     "metadata": {},
     "output_type": "display_data"
    },
    {
     "data": {
      "application/vnd.jupyter.widget-view+json": {
       "model_id": "467400623947441799a9ed1fd5c5d6fe",
       "version_major": 2,
       "version_minor": 0
      },
      "text/plain": [
       "Other shots to compute confidence score:   0%|          | 0/5 [00:00<?, ?it/s]"
      ]
     },
     "metadata": {},
     "output_type": "display_data"
    },
    {
     "data": {
      "application/vnd.jupyter.widget-view+json": {
       "model_id": "6a9e1f5e3a0f4fe1b35eed6de14da2a2",
       "version_major": 2,
       "version_minor": 0
      },
      "text/plain": [
       "Other shots to compute confidence score:   0%|          | 0/5 [00:00<?, ?it/s]"
      ]
     },
     "metadata": {},
     "output_type": "display_data"
    },
    {
     "data": {
      "application/vnd.jupyter.widget-view+json": {
       "model_id": "cace33e0b39548f4b182622c51972bc5",
       "version_major": 2,
       "version_minor": 0
      },
      "text/plain": [
       "Other shots to compute confidence score:   0%|          | 0/5 [00:00<?, ?it/s]"
      ]
     },
     "metadata": {},
     "output_type": "display_data"
    },
    {
     "data": {
      "application/vnd.jupyter.widget-view+json": {
       "model_id": "5c8ee8d515884aab8b5f0c538a5c79c7",
       "version_major": 2,
       "version_minor": 0
      },
      "text/plain": [
       "Other shots to compute confidence score:   0%|          | 0/5 [00:00<?, ?it/s]"
      ]
     },
     "metadata": {},
     "output_type": "display_data"
    },
    {
     "data": {
      "application/vnd.jupyter.widget-view+json": {
       "model_id": "8c1ebd569176459c9619a8adbf79c56c",
       "version_major": 2,
       "version_minor": 0
      },
      "text/plain": [
       "Other shots to compute confidence score:   0%|          | 0/5 [00:00<?, ?it/s]"
      ]
     },
     "metadata": {},
     "output_type": "display_data"
    },
    {
     "data": {
      "application/vnd.jupyter.widget-view+json": {
       "model_id": "a8a9c4e47e8a4efcafd8c222c5e7a067",
       "version_major": 2,
       "version_minor": 0
      },
      "text/plain": [
       "Other shots to compute confidence score:   0%|          | 0/5 [00:00<?, ?it/s]"
      ]
     },
     "metadata": {},
     "output_type": "display_data"
    },
    {
     "data": {
      "application/vnd.jupyter.widget-view+json": {
       "model_id": "4a321e2fbc984dd9a625f511208ba56a",
       "version_major": 2,
       "version_minor": 0
      },
      "text/plain": [
       "Other shots to compute confidence score:   0%|          | 0/5 [00:00<?, ?it/s]"
      ]
     },
     "metadata": {},
     "output_type": "display_data"
    },
    {
     "data": {
      "application/vnd.jupyter.widget-view+json": {
       "model_id": "ea46c179947649b3bb8b508c8a605360",
       "version_major": 2,
       "version_minor": 0
      },
      "text/plain": [
       "Other shots to compute confidence score:   0%|          | 0/5 [00:00<?, ?it/s]"
      ]
     },
     "metadata": {},
     "output_type": "display_data"
    },
    {
     "data": {
      "application/vnd.jupyter.widget-view+json": {
       "model_id": "29bd53ccab594f9f8e0a31760416c6a7",
       "version_major": 2,
       "version_minor": 0
      },
      "text/plain": [
       "Other shots to compute confidence score:   0%|          | 0/5 [00:00<?, ?it/s]"
      ]
     },
     "metadata": {},
     "output_type": "display_data"
    },
    {
     "data": {
      "application/vnd.jupyter.widget-view+json": {
       "model_id": "441f3a6959d34b7d8a0e2194f86dc981",
       "version_major": 2,
       "version_minor": 0
      },
      "text/plain": [
       "Other shots to compute confidence score:   0%|          | 0/5 [00:00<?, ?it/s]"
      ]
     },
     "metadata": {},
     "output_type": "display_data"
    },
    {
     "data": {
      "application/vnd.jupyter.widget-view+json": {
       "model_id": "55175cae8ca74d7ba0530d0b2c89a1b3",
       "version_major": 2,
       "version_minor": 0
      },
      "text/plain": [
       "Other shots to compute confidence score:   0%|          | 0/5 [00:00<?, ?it/s]"
      ]
     },
     "metadata": {},
     "output_type": "display_data"
    },
    {
     "data": {
      "application/vnd.jupyter.widget-view+json": {
       "model_id": "b70c44b7e0a547cfbdf1eefb3f8bffea",
       "version_major": 2,
       "version_minor": 0
      },
      "text/plain": [
       "Other shots to compute confidence score:   0%|          | 0/5 [00:00<?, ?it/s]"
      ]
     },
     "metadata": {},
     "output_type": "display_data"
    },
    {
     "data": {
      "application/vnd.jupyter.widget-view+json": {
       "model_id": "815df8167c744988984d1e4a353852a2",
       "version_major": 2,
       "version_minor": 0
      },
      "text/plain": [
       "Other shots to compute confidence score:   0%|          | 0/5 [00:00<?, ?it/s]"
      ]
     },
     "metadata": {},
     "output_type": "display_data"
    },
    {
     "data": {
      "application/vnd.jupyter.widget-view+json": {
       "model_id": "520309c1b53f4723a085c6e2a9d668bd",
       "version_major": 2,
       "version_minor": 0
      },
      "text/plain": [
       "Other shots to compute confidence score:   0%|          | 0/5 [00:00<?, ?it/s]"
      ]
     },
     "metadata": {},
     "output_type": "display_data"
    }
   ],
   "source": [
    "import pandas as pd\n",
    "from tqdm.auto import tqdm\n",
    "\n",
    "\n",
    "def compute_and_save_initial_summary(dataset, filename, compute_confidence_score):\n",
    "    if os.path.exists(filename):\n",
    "        print(\"Loading from file {}\".format(filename))\n",
    "    else:\n",
    "        data = []\n",
    "        for example in tqdm(dataset, desc=\"Summarizing\"):\n",
    "            data.append(\n",
    "                {\n",
    "                    \"article\": example[\"article\"],\n",
    "                    \"abstract\": example[\"abstract\"],\n",
    "                    **summarize(example[\"article\"], compute_confidence_score),\n",
    "                }\n",
    "            )\n",
    "        pd.DataFrame.from_records(data).to_json(filename)\n",
    "    return pd.read_json(filename)\n",
    "\n",
    "\n",
    "ds_train_initial_summary = compute_and_save_initial_summary(\n",
    "    dataset_train, \"initial_summary_train.json\", compute_confidence_score=True\n",
    ")\n",
    "\n",
    "ds_validation_initial_summary = compute_and_save_initial_summary(\n",
    "    dataset_validation, \"initial_summary_validation.json\", compute_confidence_score=False\n",
    ")"
   ]
  },
  {
   "cell_type": "markdown",
   "metadata": {},
   "source": [
    "## Global summarization score"
   ]
  },
  {
   "cell_type": "markdown",
   "metadata": {},
   "source": [
    "We compute a summarization score on the validation dataset using the input articles and manual references. We use a combined rouge score between the generated summaries and the manual references. It is run before fine-tuning to be sure that the fine-tuning will actually improve the score. "
   ]
  },
  {
   "cell_type": "code",
   "execution_count": null,
   "metadata": {},
   "outputs": [],
   "source": [
    "from rouge_score import rouge_scorer\n",
    "\n",
    "scorer = rouge_scorer.RougeScorer([\"rouge1\", \"rougeL\"], use_stemmer=True)\n",
    "\n",
    "\n",
    "def add_rouge_score(dataset: pd.DataFrame, summary_version: str):\n",
    "    if f\"{summary_version}_rougeCombined\" not in dataset.columns:\n",
    "\n",
    "        def compute_rouge(example):\n",
    "            scores = scorer.score(example[f\"{summary_version}_summary\"], example[\"abstract\"])\n",
    "            example[f\"{summary_version}_rouge1\"] = scores[\"rouge1\"].fmeasure\n",
    "            example[f\"{summary_version}_rougeL\"] = scores[\"rougeL\"].fmeasure\n",
    "            example[f\"{summary_version}_rougeCombined\"] = (\n",
    "                scores[\"rougeL\"].fmeasure + scores[\"rouge1\"].fmeasure\n",
    "            ) / 2\n",
    "            return example\n",
    "\n",
    "        dataset = dataset.apply(compute_rouge, axis=1)\n",
    "    return dataset\n",
    "\n",
    "\n",
    "# ds_train_initial_summary = add_initial_rouge_score(ds_train_initial_summary)\n",
    "ds_validation_initial_summary = add_rouge_score(ds_validation_initial_summary, \"initial\")"
   ]
  },
  {
   "cell_type": "code",
   "execution_count": null,
   "metadata": {},
   "outputs": [
    {
     "data": {
      "text/html": [
       "<div>\n",
       "<style scoped>\n",
       "    .dataframe tbody tr th:only-of-type {\n",
       "        vertical-align: middle;\n",
       "    }\n",
       "\n",
       "    .dataframe tbody tr th {\n",
       "        vertical-align: top;\n",
       "    }\n",
       "\n",
       "    .dataframe thead th {\n",
       "        text-align: right;\n",
       "    }\n",
       "</style>\n",
       "<table border=\"1\" class=\"dataframe\">\n",
       "  <thead>\n",
       "    <tr style=\"text-align: right;\">\n",
       "      <th></th>\n",
       "      <th>article</th>\n",
       "      <th>abstract</th>\n",
       "      <th>initial_summary</th>\n",
       "      <th>initial_confidence_score</th>\n",
       "      <th>initial_rouge1</th>\n",
       "      <th>initial_rougeL</th>\n",
       "      <th>initial_rougeAgg</th>\n",
       "      <th>initial_rougeCombined</th>\n",
       "    </tr>\n",
       "  </thead>\n",
       "  <tbody>\n",
       "    <tr>\n",
       "      <th>0</th>\n",
       "      <td>results of a liquid culturing system ( bd bact...</td>\n",
       "      <td>to determine differences in the ability of myc...</td>\n",
       "      <td>The article discusses the results of a study t...</td>\n",
       "      <td>0.622230</td>\n",
       "      <td>0.238710</td>\n",
       "      <td>0.141935</td>\n",
       "      <td>0.190323</td>\n",
       "      <td>0.190323</td>\n",
       "    </tr>\n",
       "    <tr>\n",
       "      <th>1</th>\n",
       "      <td>anemia is a global health problem   and an ind...</td>\n",
       "      <td>epidemiological evidence suggests that circula...</td>\n",
       "      <td>Anemia is a global health problem and is a ris...</td>\n",
       "      <td>0.694236</td>\n",
       "      <td>0.503018</td>\n",
       "      <td>0.289738</td>\n",
       "      <td>0.396378</td>\n",
       "      <td>0.396378</td>\n",
       "    </tr>\n",
       "    <tr>\n",
       "      <th>2</th>\n",
       "      <td>takayasu 's arteritis ( ta ) is a chronic infl...</td>\n",
       "      <td>takayasu 's arteritis is a chronic inflammator...</td>\n",
       "      <td>Takayasu's arteritis (TA) is a chronic inflamm...</td>\n",
       "      <td>0.576887</td>\n",
       "      <td>0.262172</td>\n",
       "      <td>0.209738</td>\n",
       "      <td>0.235955</td>\n",
       "      <td>0.235955</td>\n",
       "    </tr>\n",
       "    <tr>\n",
       "      <th>3</th>\n",
       "      <td>quality in healthcare has gained new definitio...</td>\n",
       "      <td>background : quality gap is the gap between cl...</td>\n",
       "      <td>The article discusses the importance of qualit...</td>\n",
       "      <td>0.515958</td>\n",
       "      <td>0.316302</td>\n",
       "      <td>0.165450</td>\n",
       "      <td>0.240876</td>\n",
       "      <td>0.240876</td>\n",
       "    </tr>\n",
       "    <tr>\n",
       "      <th>4</th>\n",
       "      <td>in our recent article  sequestosome 1/p62 faci...</td>\n",
       "      <td>we recently reported that depletion of p62 in ...</td>\n",
       "      <td>The article discusses the role of the adaptor ...</td>\n",
       "      <td>0.630270</td>\n",
       "      <td>0.271698</td>\n",
       "      <td>0.196226</td>\n",
       "      <td>0.233962</td>\n",
       "      <td>0.233962</td>\n",
       "    </tr>\n",
       "    <tr>\n",
       "      <th>5</th>\n",
       "      <td>female patients aged 20 - 55 years consulted t...</td>\n",
       "      <td>objective : the aim of this study is to examin...</td>\n",
       "      <td>This article discusses a study that aimed to e...</td>\n",
       "      <td>0.563877</td>\n",
       "      <td>0.491150</td>\n",
       "      <td>0.252212</td>\n",
       "      <td>0.371681</td>\n",
       "      <td>0.371681</td>\n",
       "    </tr>\n",
       "    <tr>\n",
       "      <th>6</th>\n",
       "      <td>in the previous issue of critical care , reint...</td>\n",
       "      <td>gastrointestinal dysfunction is an intuitively...</td>\n",
       "      <td>In a recent study published in Critical Care, ...</td>\n",
       "      <td>0.605118</td>\n",
       "      <td>0.374233</td>\n",
       "      <td>0.184049</td>\n",
       "      <td>0.279141</td>\n",
       "      <td>0.279141</td>\n",
       "    </tr>\n",
       "    <tr>\n",
       "      <th>7</th>\n",
       "      <td>application of science and technology for the ...</td>\n",
       "      <td>background : police personnel play an importan...</td>\n",
       "      <td>Forensic odontology, the branch of dentistry t...</td>\n",
       "      <td>0.584087</td>\n",
       "      <td>0.485714</td>\n",
       "      <td>0.220408</td>\n",
       "      <td>0.353061</td>\n",
       "      <td>0.353061</td>\n",
       "    </tr>\n",
       "    <tr>\n",
       "      <th>8</th>\n",
       "      <td>it adopts a right - handed helically coiled co...</td>\n",
       "      <td>supercoiling is a fundamental property of dna ...</td>\n",
       "      <td>The article discusses the role of supercoiling...</td>\n",
       "      <td>0.587060</td>\n",
       "      <td>0.377465</td>\n",
       "      <td>0.191549</td>\n",
       "      <td>0.284507</td>\n",
       "      <td>0.284507</td>\n",
       "    </tr>\n",
       "    <tr>\n",
       "      <th>9</th>\n",
       "      <td>henoch  schonlein purpura ( hsp ) is an immune...</td>\n",
       "      <td>we describe a 26-year - old woman who presente...</td>\n",
       "      <td>Henoch Schonlein purpura (HSP) is a type of va...</td>\n",
       "      <td>0.556760</td>\n",
       "      <td>0.324723</td>\n",
       "      <td>0.206642</td>\n",
       "      <td>0.265683</td>\n",
       "      <td>0.265683</td>\n",
       "    </tr>\n",
       "    <tr>\n",
       "      <th>10</th>\n",
       "      <td>coronary artery disease ( cad ) is the emergin...</td>\n",
       "      <td>objective : to compare the diagnostic accuracy...</td>\n",
       "      <td>Coronary artery disease (CAD) is a leading cau...</td>\n",
       "      <td>0.675066</td>\n",
       "      <td>0.449086</td>\n",
       "      <td>0.208877</td>\n",
       "      <td>0.328982</td>\n",
       "      <td>0.328982</td>\n",
       "    </tr>\n",
       "    <tr>\n",
       "      <th>11</th>\n",
       "      <td>frontal fibrosing alopecia represents a peculi...</td>\n",
       "      <td>a case of frontal fibrosing alopecia with nail...</td>\n",
       "      <td>Frontal fibrosing alopecia is a condition that...</td>\n",
       "      <td>0.615938</td>\n",
       "      <td>0.273063</td>\n",
       "      <td>0.154982</td>\n",
       "      <td>0.214022</td>\n",
       "      <td>0.214022</td>\n",
       "    </tr>\n",
       "    <tr>\n",
       "      <th>12</th>\n",
       "      <td>uterine fibroids ( leiomyomata or myomas ) are...</td>\n",
       "      <td>the purpose of this study was to evaluate safe...</td>\n",
       "      <td>Uterine fibroids, also known as leiomyomata or...</td>\n",
       "      <td>0.561163</td>\n",
       "      <td>0.457926</td>\n",
       "      <td>0.227006</td>\n",
       "      <td>0.342466</td>\n",
       "      <td>0.342466</td>\n",
       "    </tr>\n",
       "    <tr>\n",
       "      <th>13</th>\n",
       "      <td>despite decades of intensive research , cancer...</td>\n",
       "      <td>procathepsin d is a major glycoprotein that is...</td>\n",
       "      <td>Cancer remains a dangerous disease in the deve...</td>\n",
       "      <td>0.575285</td>\n",
       "      <td>0.310030</td>\n",
       "      <td>0.145897</td>\n",
       "      <td>0.227964</td>\n",
       "      <td>0.227964</td>\n",
       "    </tr>\n",
       "    <tr>\n",
       "      <th>14</th>\n",
       "      <td>after 4  months of epo trial ( 40,000  ui / we...</td>\n",
       "      <td>key clinical messagedeferasirox , represents a...</td>\n",
       "      <td>The article discusses a case study of a patien...</td>\n",
       "      <td>0.563680</td>\n",
       "      <td>0.263959</td>\n",
       "      <td>0.121827</td>\n",
       "      <td>0.192893</td>\n",
       "      <td>0.192893</td>\n",
       "    </tr>\n",
       "    <tr>\n",
       "      <th>15</th>\n",
       "      <td>lymphoblastic lymphoma ( lbl ) is a highly agg...</td>\n",
       "      <td>precursor b - cell lymphoblastic lymphoma ( b ...</td>\n",
       "      <td>Lymphoblastic lymphoma (LBL) is a rare and agg...</td>\n",
       "      <td>0.612337</td>\n",
       "      <td>0.437333</td>\n",
       "      <td>0.240000</td>\n",
       "      <td>0.338667</td>\n",
       "      <td>0.338667</td>\n",
       "    </tr>\n",
       "    <tr>\n",
       "      <th>16</th>\n",
       "      <td>mucoepidermoid carcinoma was first described a...</td>\n",
       "      <td>mucoepidermoid carcinoma of the pancreas is ra...</td>\n",
       "      <td>Mucoepidermoid carcinoma is a rare type of can...</td>\n",
       "      <td>0.621176</td>\n",
       "      <td>0.424242</td>\n",
       "      <td>0.315152</td>\n",
       "      <td>0.369697</td>\n",
       "      <td>0.369697</td>\n",
       "    </tr>\n",
       "    <tr>\n",
       "      <th>17</th>\n",
       "      <td>approximately one third of patients with renal...</td>\n",
       "      <td>renal cell carcinoma is an uncommon source of ...</td>\n",
       "      <td>Approximately one third of patients with renal...</td>\n",
       "      <td>0.682494</td>\n",
       "      <td>0.287105</td>\n",
       "      <td>0.175182</td>\n",
       "      <td>0.231144</td>\n",
       "      <td>0.231144</td>\n",
       "    </tr>\n",
       "    <tr>\n",
       "      <th>18</th>\n",
       "      <td>hepatitis e virus ( hev ) , a member of the ge...</td>\n",
       "      <td>background : hepatitis e virus ( hev ) , a zoo...</td>\n",
       "      <td>The article discusses the prevalence and subty...</td>\n",
       "      <td>0.612215</td>\n",
       "      <td>0.555556</td>\n",
       "      <td>0.231111</td>\n",
       "      <td>0.393333</td>\n",
       "      <td>0.393333</td>\n",
       "    </tr>\n",
       "    <tr>\n",
       "      <th>19</th>\n",
       "      <td>ludwig , adachi , and matzuzawa ( 2011 ) recen...</td>\n",
       "      <td>are chimpanzees synaesthetic ?  an affirmative...</td>\n",
       "      <td>In a recent experiment, chimpanzees and human ...</td>\n",
       "      <td>0.526129</td>\n",
       "      <td>0.287526</td>\n",
       "      <td>0.156448</td>\n",
       "      <td>0.221987</td>\n",
       "      <td>0.221987</td>\n",
       "    </tr>\n",
       "  </tbody>\n",
       "</table>\n",
       "</div>"
      ],
      "text/plain": [
       "                                              article  \\\n",
       "0   results of a liquid culturing system ( bd bact...   \n",
       "1   anemia is a global health problem   and an ind...   \n",
       "2   takayasu 's arteritis ( ta ) is a chronic infl...   \n",
       "3   quality in healthcare has gained new definitio...   \n",
       "4   in our recent article  sequestosome 1/p62 faci...   \n",
       "5   female patients aged 20 - 55 years consulted t...   \n",
       "6   in the previous issue of critical care , reint...   \n",
       "7   application of science and technology for the ...   \n",
       "8   it adopts a right - handed helically coiled co...   \n",
       "9   henoch  schonlein purpura ( hsp ) is an immune...   \n",
       "10  coronary artery disease ( cad ) is the emergin...   \n",
       "11  frontal fibrosing alopecia represents a peculi...   \n",
       "12  uterine fibroids ( leiomyomata or myomas ) are...   \n",
       "13  despite decades of intensive research , cancer...   \n",
       "14  after 4  months of epo trial ( 40,000  ui / we...   \n",
       "15  lymphoblastic lymphoma ( lbl ) is a highly agg...   \n",
       "16  mucoepidermoid carcinoma was first described a...   \n",
       "17  approximately one third of patients with renal...   \n",
       "18  hepatitis e virus ( hev ) , a member of the ge...   \n",
       "19  ludwig , adachi , and matzuzawa ( 2011 ) recen...   \n",
       "\n",
       "                                             abstract  \\\n",
       "0   to determine differences in the ability of myc...   \n",
       "1   epidemiological evidence suggests that circula...   \n",
       "2   takayasu 's arteritis is a chronic inflammator...   \n",
       "3   background : quality gap is the gap between cl...   \n",
       "4   we recently reported that depletion of p62 in ...   \n",
       "5   objective : the aim of this study is to examin...   \n",
       "6   gastrointestinal dysfunction is an intuitively...   \n",
       "7   background : police personnel play an importan...   \n",
       "8   supercoiling is a fundamental property of dna ...   \n",
       "9   we describe a 26-year - old woman who presente...   \n",
       "10  objective : to compare the diagnostic accuracy...   \n",
       "11  a case of frontal fibrosing alopecia with nail...   \n",
       "12  the purpose of this study was to evaluate safe...   \n",
       "13  procathepsin d is a major glycoprotein that is...   \n",
       "14  key clinical messagedeferasirox , represents a...   \n",
       "15  precursor b - cell lymphoblastic lymphoma ( b ...   \n",
       "16  mucoepidermoid carcinoma of the pancreas is ra...   \n",
       "17  renal cell carcinoma is an uncommon source of ...   \n",
       "18  background : hepatitis e virus ( hev ) , a zoo...   \n",
       "19  are chimpanzees synaesthetic ?  an affirmative...   \n",
       "\n",
       "                                      initial_summary  \\\n",
       "0   The article discusses the results of a study t...   \n",
       "1   Anemia is a global health problem and is a ris...   \n",
       "2   Takayasu's arteritis (TA) is a chronic inflamm...   \n",
       "3   The article discusses the importance of qualit...   \n",
       "4   The article discusses the role of the adaptor ...   \n",
       "5   This article discusses a study that aimed to e...   \n",
       "6   In a recent study published in Critical Care, ...   \n",
       "7   Forensic odontology, the branch of dentistry t...   \n",
       "8   The article discusses the role of supercoiling...   \n",
       "9   Henoch Schonlein purpura (HSP) is a type of va...   \n",
       "10  Coronary artery disease (CAD) is a leading cau...   \n",
       "11  Frontal fibrosing alopecia is a condition that...   \n",
       "12  Uterine fibroids, also known as leiomyomata or...   \n",
       "13  Cancer remains a dangerous disease in the deve...   \n",
       "14  The article discusses a case study of a patien...   \n",
       "15  Lymphoblastic lymphoma (LBL) is a rare and agg...   \n",
       "16  Mucoepidermoid carcinoma is a rare type of can...   \n",
       "17  Approximately one third of patients with renal...   \n",
       "18  The article discusses the prevalence and subty...   \n",
       "19  In a recent experiment, chimpanzees and human ...   \n",
       "\n",
       "    initial_confidence_score  initial_rouge1  initial_rougeL  \\\n",
       "0                   0.622230        0.238710        0.141935   \n",
       "1                   0.694236        0.503018        0.289738   \n",
       "2                   0.576887        0.262172        0.209738   \n",
       "3                   0.515958        0.316302        0.165450   \n",
       "4                   0.630270        0.271698        0.196226   \n",
       "5                   0.563877        0.491150        0.252212   \n",
       "6                   0.605118        0.374233        0.184049   \n",
       "7                   0.584087        0.485714        0.220408   \n",
       "8                   0.587060        0.377465        0.191549   \n",
       "9                   0.556760        0.324723        0.206642   \n",
       "10                  0.675066        0.449086        0.208877   \n",
       "11                  0.615938        0.273063        0.154982   \n",
       "12                  0.561163        0.457926        0.227006   \n",
       "13                  0.575285        0.310030        0.145897   \n",
       "14                  0.563680        0.263959        0.121827   \n",
       "15                  0.612337        0.437333        0.240000   \n",
       "16                  0.621176        0.424242        0.315152   \n",
       "17                  0.682494        0.287105        0.175182   \n",
       "18                  0.612215        0.555556        0.231111   \n",
       "19                  0.526129        0.287526        0.156448   \n",
       "\n",
       "    initial_rougeAgg  initial_rougeCombined  \n",
       "0           0.190323               0.190323  \n",
       "1           0.396378               0.396378  \n",
       "2           0.235955               0.235955  \n",
       "3           0.240876               0.240876  \n",
       "4           0.233962               0.233962  \n",
       "5           0.371681               0.371681  \n",
       "6           0.279141               0.279141  \n",
       "7           0.353061               0.353061  \n",
       "8           0.284507               0.284507  \n",
       "9           0.265683               0.265683  \n",
       "10          0.328982               0.328982  \n",
       "11          0.214022               0.214022  \n",
       "12          0.342466               0.342466  \n",
       "13          0.227964               0.227964  \n",
       "14          0.192893               0.192893  \n",
       "15          0.338667               0.338667  \n",
       "16          0.369697               0.369697  \n",
       "17          0.231144               0.231144  \n",
       "18          0.393333               0.393333  \n",
       "19          0.221987               0.221987  "
      ]
     },
     "execution_count": null,
     "metadata": {},
     "output_type": "execute_result"
    }
   ],
   "source": [
    "ds_validation_initial_summary"
   ]
  },
  {
   "cell_type": "markdown",
   "metadata": {},
   "source": [
    "# Fix the worst examples in the training dataset with Kili"
   ]
  },
  {
   "cell_type": "markdown",
   "metadata": {},
   "source": [
    "## Select the worst examples"
   ]
  },
  {
   "cell_type": "markdown",
   "metadata": {},
   "source": [
    "We keep the worst examples in term of confidence score to focus the fine-tuning on the most difficult examples. We use the ground truth summaries to fix the input articles, which is a SIMULATION of human correction. In a real use case, we would use the annotations from Kili to fix the input articles."
   ]
  },
  {
   "cell_type": "code",
   "execution_count": null,
   "metadata": {},
   "outputs": [],
   "source": [
    "to_keep = 10\n",
    "worst_examples_train = ds_train_initial_summary.sort_values(by=\"initial_confidence_score\").head(\n",
    "    to_keep\n",
    ")"
   ]
  },
  {
   "cell_type": "markdown",
   "metadata": {},
   "source": [
    "# Create a Kili project to fix the worst examples"
   ]
  },
  {
   "cell_type": "code",
   "execution_count": null,
   "metadata": {},
   "outputs": [
    {
     "name": "stderr",
     "output_type": "stream",
     "text": [
      "/Users/pierreleveau/dev/local/webinar-180924/.conda/lib/python3.10/site-packages/kili/services/label_import/types.py:30: PydanticDeprecatedSince20: The `dict` method is deprecated; use `model_dump` instead. Deprecated in Pydantic V2.0 to be removed in V3.0. See Pydantic V2 Migration Guide at https://errors.pydantic.dev/2.3/migration/\n",
      "  return ClientInputLabelData(**label).dict()\n"
     ]
    },
    {
     "data": {
      "text/plain": [
       "[{'id': 'cln0g26501phm087c3qemcb3d'},\n",
       " {'id': 'cln0g26511phn087c9dojhv96'},\n",
       " {'id': 'cln0g26511pho087ce60103b6'},\n",
       " {'id': 'cln0g26511php087ca6a82v68'},\n",
       " {'id': 'cln0g26511phq087ca8xqfipf'},\n",
       " {'id': 'cln0g26511phr087cd8mc3mti'},\n",
       " {'id': 'cln0g26511phs087c3ozk8g9e'},\n",
       " {'id': 'cln0g26511pht087c03sg8hi5'},\n",
       " {'id': 'cln0g26511phu087chdxvcgdl'},\n",
       " {'id': 'cln0g26511phv087c7xp5he6q'}]"
      ]
     },
     "execution_count": null,
     "metadata": {},
     "output_type": "execute_result"
    }
   ],
   "source": [
    "from kili.client import Kili\n",
    "\n",
    "kili = Kili()\n",
    "\n",
    "project = kili.create_project(\n",
    "    title=\"Summarization\",\n",
    "    description=\"Summarize PubMed articles\",\n",
    "    input_type=\"TEXT\",\n",
    "    json_interface={\n",
    "        \"jobs\": {\n",
    "            \"TRANSCRIPTION_JOB\": {\n",
    "                \"content\": {\"input\": \"textField\"},\n",
    "                \"instruction\": \"Fix the summary\",\n",
    "                \"mlTask\": \"TRANSCRIPTION\",\n",
    "                \"required\": 1,\n",
    "                \"isChild\": False,\n",
    "                \"isNew\": False,\n",
    "            }\n",
    "        }\n",
    "    },\n",
    ")\n",
    "\n",
    "# add the worst examples to the project\n",
    "asset_results = kili.append_many_to_dataset(\n",
    "    project_id=project[\"id\"],\n",
    "    content_array=[example[1][\"article\"] for example in worst_examples_train.iterrows()],\n",
    ")\n",
    "\n",
    "# add manual labels using the ground-truth abstract. This is cheating! you may not\n",
    "# have the reference summary in real life. You should replace the \"abstract\" key by\n",
    "# \"initial_summary\" to work on a more realistic setting where you do not have the\n",
    "# reference summary.\n",
    "kili.append_labels(\n",
    "    project_id=project[\"id\"],\n",
    "    asset_id_array=asset_results[\"asset_ids\"],\n",
    "    json_response_array=[\n",
    "        {\"TRANSCRIPTION_JOB\": {\"text\": example[1][\"abstract\"]}}\n",
    "        for example in worst_examples_train.iterrows()\n",
    "    ],\n",
    ")"
   ]
  },
  {
   "cell_type": "markdown",
   "metadata": {},
   "source": [
    "# Fine tuning of GPT3.5"
   ]
  },
  {
   "cell_type": "markdown",
   "metadata": {},
   "source": [
    "Once we have fixed the problematic examples in Kili, we can retrieve them, build a dataset file, and then launch a fine-tuning process with OpenAI."
   ]
  },
  {
   "cell_type": "code",
   "execution_count": null,
   "metadata": {},
   "outputs": [],
   "source": [
    "# Fetching fixed examples from kili\n",
    "assets = kili.assets(project_id=project[\"id\"], fields=[\"id\", \"content\", \"latestLabel.jsonResponse\"])"
   ]
  },
  {
   "cell_type": "code",
   "execution_count": null,
   "metadata": {},
   "outputs": [],
   "source": [
    "import json\n",
    "\n",
    "import requests\n",
    "\n",
    "# Fine tuning of GPT3.5 on the fixed samples requires to create a training dataset file.\n",
    "\n",
    "with open(\"finetuning_trainingdata.jsonl\", \"w\") as fp:\n",
    "    for asset in assets:\n",
    "        article = requests.get(asset[\"content\"]).text\n",
    "        summary = asset[\"latestLabel\"][\"jsonResponse\"][\"TRANSCRIPTION_JOB\"][\"text\"]\n",
    "\n",
    "        train_messages = {\n",
    "            \"messages\": [\n",
    "                {\"role\": \"system\", \"content\": SYSTEM_PROMPT},\n",
    "                {\"role\": \"user\", \"content\": USER_PROMPT_TEMPLATE.format(article)},\n",
    "                {\"role\": \"assistant\", \"content\": f\"{summary}\"},\n",
    "            ]\n",
    "        }\n",
    "\n",
    "        fp.write(json.dumps(train_messages) + \"\\n\")"
   ]
  },
  {
   "cell_type": "code",
   "execution_count": null,
   "metadata": {},
   "outputs": [],
   "source": [
    "import openai\n",
    "\n",
    "fine_tuning_file = openai.File.create(\n",
    "    file=open(\"finetuning_trainingdata.jsonl\", \"rb\"),\n",
    "    purpose=\"fine-tune\",\n",
    "    user_provided_filename=\"finetuning_trainingdata.jsonl\",\n",
    ")"
   ]
  },
  {
   "cell_type": "markdown",
   "metadata": {},
   "source": [
    "And finally we launch the fine-tuning using the following command:"
   ]
  },
  {
   "cell_type": "code",
   "execution_count": null,
   "metadata": {},
   "outputs": [],
   "source": [
    "fine_tuning_process = openai.FineTuningJob.create(\n",
    "    training_file=fine_tuning_file[\"id\"], model=\"gpt-3.5-turbo-0613\"\n",
    ")"
   ]
  },
  {
   "cell_type": "markdown",
   "metadata": {},
   "source": [
    "## Run and evaluate on the validation dataset"
   ]
  },
  {
   "cell_type": "markdown",
   "metadata": {},
   "source": [
    "## Wait until the fine tuning is complete"
   ]
  },
  {
   "cell_type": "code",
   "execution_count": null,
   "metadata": {},
   "outputs": [],
   "source": [
    "import time\n",
    "\n",
    "while openai.FineTuningJob.retrieve(id=fine_tuning_process.id).status != \"succeeded\":\n",
    "    time.sleep(10)\n",
    "model_id = openai.FineTuningJob.retrieve(id=fine_tuning_process.id)[\"fine_tuned_model\"]"
   ]
  },
  {
   "cell_type": "markdown",
   "metadata": {},
   "source": [
    "## Compute final summary with the fine-tuned version\n",
    "We now have a fine-tuned GPT-3.5-turbo model that we can use to generate the summaries of the validation dataset. We can then compute the global summarization score again, and see if it has improved."
   ]
  },
  {
   "cell_type": "code",
   "execution_count": null,
   "metadata": {},
   "outputs": [],
   "source": [
    "def add_final_summary(input_df, fine_tuning_model_id):\n",
    "    \"\"\"Add the final summary to the dataframe\"\"\"\n",
    "\n",
    "    def inner_add_final_summary(example):\n",
    "        response = openai.ChatCompletion.create(\n",
    "            model=fine_tuning_model_id,\n",
    "            messages=[\n",
    "                {\"role\": \"system\", \"content\": SYSTEM_PROMPT},\n",
    "                {\"role\": \"user\", \"content\": USER_PROMPT_TEMPLATE.format(example)},\n",
    "            ],\n",
    "            temperature=0,\n",
    "            max_tokens=500,\n",
    "        )\n",
    "        example[\"final_summary\"] = response.choices[0].message.content\n",
    "\n",
    "        return example\n",
    "\n",
    "    return input_df.apply(inner_add_final_summary, axis=1)\n",
    "\n",
    "\n",
    "ds_validation_with_final_summary = add_final_summary(ds_validation_initial_summary, model_id)"
   ]
  },
  {
   "cell_type": "markdown",
   "metadata": {},
   "source": [
    "## Evaluation\n",
    "Time to evaluate to see if the metric did improve"
   ]
  },
  {
   "cell_type": "code",
   "execution_count": null,
   "metadata": {},
   "outputs": [],
   "source": [
    "ds_validation_with_final_summary = add_rouge_score(ds_validation_with_final_summary, \"final\")"
   ]
  },
  {
   "cell_type": "code",
   "execution_count": null,
   "metadata": {},
   "outputs": [
    {
     "name": "stderr",
     "output_type": "stream",
     "text": [
      "/Users/pierreleveau/dev/local/webinar-180924/.conda/lib/python3.10/site-packages/seaborn/_oldcore.py:1498: FutureWarning: is_categorical_dtype is deprecated and will be removed in a future version. Use isinstance(dtype, CategoricalDtype) instead\n",
      "  if pd.api.types.is_categorical_dtype(vector):\n",
      "/Users/pierreleveau/dev/local/webinar-180924/.conda/lib/python3.10/site-packages/seaborn/_oldcore.py:1119: FutureWarning: use_inf_as_na option is deprecated and will be removed in a future version. Convert inf values to NaN before operating instead.\n",
      "  with pd.option_context('mode.use_inf_as_na', True):\n",
      "/Users/pierreleveau/dev/local/webinar-180924/.conda/lib/python3.10/site-packages/seaborn/_oldcore.py:1498: FutureWarning: is_categorical_dtype is deprecated and will be removed in a future version. Use isinstance(dtype, CategoricalDtype) instead\n",
      "  if pd.api.types.is_categorical_dtype(vector):\n",
      "/Users/pierreleveau/dev/local/webinar-180924/.conda/lib/python3.10/site-packages/seaborn/_oldcore.py:1119: FutureWarning: use_inf_as_na option is deprecated and will be removed in a future version. Convert inf values to NaN before operating instead.\n",
      "  with pd.option_context('mode.use_inf_as_na', True):\n"
     ]
    },
    {
     "data": {
      "image/png": "[encoded data removed]",
      "text/plain": [
       "<Figure size 640x480 with 1 Axes>"
      ]
     },
     "metadata": {},
     "output_type": "display_data"
    }
   ],
   "source": [
    "import matplotlib.pyplot as plt\n",
    "\n",
    "# Display the results\n",
    "import seaborn as sns\n",
    "\n",
    "sns.histplot(ds_validation_with_final_summary[\"initial_rougeCombined\"], color=\"red\", kde=True)\n",
    "sns.histplot(ds_validation_with_final_summary[\"final_rougeCombined\"], color=\"blue\", kde=True)\n",
    "plt.title(\"Rouge score vs reference summary\")\n",
    "plt.legend([\"Initial\", \"Final\"])\n",
    "plt.xlabel(\"Rouge score\")\n",
    "plt.show()"
   ]
  },
  {
   "cell_type": "code",
   "execution_count": null,
   "metadata": {},
   "outputs": [
    {
     "data": {
      "text/html": [
       "<style type=\"text/css\">\n",
       "#T_3dd41_row0_col0, #T_3dd41_row0_col1, #T_3dd41_row1_col0, #T_3dd41_row1_col1, #T_3dd41_row2_col0, #T_3dd41_row2_col1, #T_3dd41_row3_col0, #T_3dd41_row3_col1, #T_3dd41_row4_col0, #T_3dd41_row4_col1, #T_3dd41_row5_col0, #T_3dd41_row5_col1, #T_3dd41_row6_col0, #T_3dd41_row6_col1, #T_3dd41_row7_col0, #T_3dd41_row7_col1, #T_3dd41_row8_col0, #T_3dd41_row8_col1, #T_3dd41_row9_col0, #T_3dd41_row9_col1 {\n",
       "  width: 500px;\n",
       "}\n",
       "</style>\n",
       "<table id=\"T_3dd41\">\n",
       "  <thead>\n",
       "    <tr>\n",
       "      <th class=\"blank level0\" >&nbsp;</th>\n",
       "      <th id=\"T_3dd41_level0_col0\" class=\"col_heading level0 col0\" >initial_summary</th>\n",
       "      <th id=\"T_3dd41_level0_col1\" class=\"col_heading level0 col1\" >final_summary</th>\n",
       "    </tr>\n",
       "  </thead>\n",
       "  <tbody>\n",
       "    <tr>\n",
       "      <th id=\"T_3dd41_level0_row0\" class=\"row_heading level0 row0\" >0</th>\n",
       "      <td id=\"T_3dd41_row0_col0\" class=\"data row0 col0\" >The article discusses the results of a study that examined the susceptibility of Beijing and EAI genotype strains of Mycobacterium tuberculosis to various drugs. The study used a liquid culturing system called the BD BACTEC MGIT 960 system to determine the susceptibility of the strains to isoniazid, rifampin, moxifloxacin, and amikacin. The results showed that all 5 Beijing and 5 EAI genotype strains were susceptible to these drugs.\n",
       "\n",
       "The study also determined the mutation frequencies of the strains by exposing them to critical drug concentrations. The mutation frequencies were similar for isoniazid, moxifloxacin, and amikacin, but significantly different for rifampin. This difference in mutation frequencies for rifampin is an important finding, as rifamycin drugs are commonly used to treat tuberculosis.\n",
       "\n",
       "The study also investigated the time-kill kinetics of rifampin on two strains with different mutation frequencies. The results showed that low concentrations of rifampin were effective in killing the bacteria, but higher concentrations were needed to achieve 100% killing, especially for the Beijing genotype strain. This finding is relevant in the clinical context, as high-density populations of mycobacteria are expected in infected tissues of tuberculosis patients.\n",
       "\n",
       "The study concludes that the currently used drug susceptibility assays do not differentiate between the susceptibility of Beijing and EAI genotype strains. It suggests that determining mutation frequencies may be more informative than drug susceptibility assays. The study also highlights the need for anti-tuberculosis drug treatments that can prevent resistance among Beijing genotype cases and suggests that genotype-specific therapy may be justified.</td>\n",
       "      <td id=\"T_3dd41_row0_col1\" class=\"data row0 col1\" >The article discusses the results of a study that compared the ability of various liquid culturing systems to detect mycobacteria in clinical specimens. The study found that the BD BACTEC MGIT 960 system was more sensitive than the ESP Culture System II and the BACTEC 460 TB system for the detection of mycobacteria. The BD BACTEC MGIT 960 system also had a shorter time to detection than the other two systems. The study concluded that the BD BACTEC MGIT 960 system is a reliable and efficient method for the detection of mycobacteria in clinical specimens.</td>\n",
       "    </tr>\n",
       "    <tr>\n",
       "      <th id=\"T_3dd41_level0_row1\" class=\"row_heading level0 row1\" >14</th>\n",
       "      <td id=\"T_3dd41_row1_col0\" class=\"data row1 col0\" >The article discusses a case study of a patient with myelodysplastic syndrome (MDS), a disorder characterized by ineffective hematopoiesis and risk of progression to acute myeloid leukemia. The patient initially received erythropoietin (EPO) treatment, but after four months of no response, azacytidine was introduced. The patient also underwent iron chelation therapy (ICT) with deferasirox to reduce iron overload. After 12 months of ICT, hematological improvement was achieved and transfusion dependence was discontinued for six months. However, after 18 months of deferasirox, severe anemia relapsed and transfusion dependence reappeared. The article suggests that the drug may have a positive effect on hematopoiesis in low-risk MDS patients. It also discusses the role of iron overload and the need for accurate assessment and management of iron levels in MDS patients. The article concludes by mentioning ongoing clinical trials to further investigate the use of deferasirox in MDS treatment.</td>\n",
       "      <td id=\"T_3dd41_row1_col1\" class=\"data row1 col1\" >The article discusses a case study of a patient with myelodysplastic syndrome (MDS) who developed severe anemia and required red blood cell (RBC) transfusions. The patient was treated with erythropoietin (EPO) for 4 months, but did not respond to the treatment. The patient was then switched to deferasirox, an iron chelator, and showed a significant improvement in hemoglobin levels and a decrease in RBC transfusion requirements. The patient's serum ferritin levels also decreased, indicating a decrease in iron overload. The article concludes that deferasirox may be an effective treatment option for patients with MDS who are unresponsive to EPO therapy and have iron overload.</td>\n",
       "    </tr>\n",
       "    <tr>\n",
       "      <th id=\"T_3dd41_level0_row2\" class=\"row_heading level0 row2\" >11</th>\n",
       "      <td id=\"T_3dd41_row2_col0\" class=\"data row2 col0\" >Frontal fibrosing alopecia is a condition that primarily affects women in postmenopause. It is characterized by a symmetrical hair loss along the frontal and frontotemporal hairline, often accompanied by thinning or complete loss of eyebrows. The affected scalp skin appears pale and smooth, with a loss of follicular orifices and signs of inflammation. The cause of this condition is still unknown, but it is believed to be a variant of lichen planopilaris, a type of lichen planus that affects the hair follicles. A case study of a 60-year-old woman with frontal fibrosing alopecia and nail involvement was presented. Treatment with oral dutasteride and topical clobetasol propionate resulted in a reduction of inflammation after three months. Lichen planus is an inflammatory disease that can affect the skin, mucous membranes, hair follicles, and nails. The cause of lichen planus is not fully understood, but it is thought to be an autoimmune reaction triggered by an unknown factor. Other triggering agents include certain medications, dental fillings, and viral infections. Frontal fibrosing alopecia is considered a generalized process of inflammatory scarring alopecia, with symptoms extending beyond the hairline to include loss of eyebrows, eyelashes, peripheral body hair, and nail involvement. While there is no cure for lichen planus or frontal fibrosing alopecia, various treatments can help manage symptoms and slow down disease progression.</td>\n",
       "      <td id=\"T_3dd41_row2_col1\" class=\"data row2 col1\" >Frontal fibrosing alopecia is a condition that causes hair loss at the front and sides of the scalp, and it is considered a variant of lichen planopilaris. It was first described in 1994 by Kossard, and since then, the number of reported cases has increased. The condition is characterized by a band of hair loss on the front and sides of the scalp, and it is often associated with loss of the eyebrows and eyelashes. The exact cause of frontal fibrosing alopecia is unknown, but it is thought to be an autoimmune disorder. The condition is more common in postmenopausal women, and it is often associated with other autoimmune diseases, such as lichen planus, discoid lupus erythematosus, and vitiligo. The diagnosis of frontal fibrosing alopecia is based on the clinical findings and the histopathologic features. The condition is usually progressive, and there is no effective treatment. Topical and systemic corticosteroids have been used with limited success. Other treatment modalities include topical minoxidil, topical calcineurin inhibitors, and systemic hydroxychloroquine. The condition is usually stable after several years, but the hair loss is permanent.</td>\n",
       "    </tr>\n",
       "    <tr>\n",
       "      <th id=\"T_3dd41_level0_row3\" class=\"row_heading level0 row3\" >19</th>\n",
       "      <td id=\"T_3dd41_row3_col0\" class=\"data row3 col0\" >In a recent experiment, chimpanzees and human participants were trained to make quick and accurate responses using a touch screen. They were presented with a small central white or black square on a computer monitor, followed by two larger squares of different colors on the upper part of the screen. The participants had to touch the square that matched the color of the initial square as quickly as possible. Both the chimpanzees and humans responded faster when a high or low tone was played in the background that matched the color of the square. This demonstrates that animals, like humans, exhibit crossmodal correspondences, which are matches between different sensory dimensions.\n",
       "\n",
       "The fact that chimpanzees can make these crossmodal matches challenges linguistic accounts of crossmodal correspondences and suggests that these matches may be innate. This is important because it contradicts the idea that animals can only pick up on amodal stimulus properties or sensory equivalence. Previous studies with dogs have shown that they are not able to make these symbolic cross-sensory matches, indicating that chimpanzees may have a higher level of cognitive ability.\n",
       "\n",
       "The researchers argue that there is unlikely to be a correlation between the dimensions of pitch and brightness in the chimpanzees' sensory environment, suggesting that the crossmodal association must be innate. However, some researchers use the term \"synaesthetic\" instead of \"crossmodal correspondence\" to describe surprising or unexpected pairings of sensory dimensions. It is important to note that there is no evidence of conscious synaesthetic experiences in chimpanzees.\n",
       "\n",
       "The environmental source of the crossmodal correspondence between pitch and lightness may be related to the fact that smaller objects tend to make higher-pitched sounds and are more likely to be found in well-lit areas. However, these suggestions are difficult to prove without environmental sampling of natural statistics. It is also possible that once certain statistical regularities are learned, the mind/brain acquires the correspondence between lightness and pitch.\n",
       "\n",
       "In conclusion, the experiment shows that chimpanzees, like humans, can make crossmodal matches between different sensory dimensions. This challenges previous theories and suggests that these matches may be innate rather than learned. The environmental source of these correspondences is still unclear and requires further investigation.</td>\n",
       "      <td id=\"T_3dd41_row3_col1\" class=\"data row3 col1\" >In a recent experiment, chimpanzees and human children were trained to associate colors with shapes and then tested for their ability to make cross-modal matches between auditory and visual stimuli. The chimpanzees successfully learned the task, although they performed somewhat more poorly than human children. Nevertheless, the chimpanzees exhibited a clear ability to make cross-modal associations between auditory and visual stimuli, indicating that they, like humans, may possess synaesthetic associations between certain auditory and visual experiences. These results provide the first experimental evidence for cross-modal mappings of the type underlying grapheme-color synaesthesia in humans in a non-human species, the chimpanzee. They also suggest that the human capacity for symbolic representation may have foundations that are shared with non-human species and may have evolved from capacities that were present in our common ancestor rather than arising de novo (e.g. via a mutation or recombination subsequent to the divergence of the human and chimpanzee lineages).</td>\n",
       "    </tr>\n",
       "    <tr>\n",
       "      <th id=\"T_3dd41_level0_row4\" class=\"row_heading level0 row4\" >13</th>\n",
       "      <td id=\"T_3dd41_row4_col0\" class=\"data row4 col0\" >Cancer remains a dangerous disease in the developed world, with the incidence of tumors and cancers increasing at an alarming rate. Procathepsin D (PCD) has gained attention as an independent prognostic factor in identifying patients with higher recurrence risk. Studies have shown that PCD is overexpressed in breast cancer tumors and functions as an autocrine growth factor in various types of cancer cells. Decreased expression of PCD has been found to inhibit tumor growth. PCD is also implicated in paracrine communication with surrounding cells, stimulating their proliferation and tumor angiogenesis. It has been shown to play a role in cancer invasion and metastasis. Additionally, PCD may be involved in angiogenesis during cancer progression. Current diagnostic assays for cancer are antigen-based, but the use of these assays has not been widely accepted. Research has shown the presence of anti-PCD autoantibodies, which could serve as a non-invasive screening test for cancer. PCD has also been found to play a role in wound healing, tissue remodeling, and programmed cell death. Its secretion is not only linked to cancer cells but also plays a role in normal physiological conditions. Some functions of PCD are independent of its protease activity and rely on its ability to interact with other molecules. Further research is needed to explore the mechanism of PCD actions and its potential as a target for cancer therapy.</td>\n",
       "      <td id=\"T_3dd41_row4_col1\" class=\"data row4 col1\" >Cancer remains a dangerous disease in the developed world, and it is becoming increasingly prevalent in developing countries. Despite decades of intensive research, cancer remains a major public health problem. The development of new therapeutic strategies is urgently needed. Procathepsin D is a major glycoprotein that is overexpressed in various human cancers and is associated with tumor progression and poor prognosis. Procathepsin D is synthesized as an inactive precursor and is proteolytically processed to the mature form in the endosomal/lysosomal compartments. The mature form of procathepsin D is involved in the degradation of extracellular matrix proteins and the activation of growth factors, cytokines, and receptors. Procathepsin D is also secreted into the extracellular space, where it promotes tumor invasion and metastasis by degrading extracellular matrix proteins. In addition, procathepsin D induces apoptosis by a caspase-independent mechanism. This review summarizes the current understanding of the molecular mechanisms by which procathepsin D contributes to tumor progression and discusses the potential clinical applications of procathepsin D as a therapeutic target and a prognostic marker for cancer.</td>\n",
       "    </tr>\n",
       "    <tr>\n",
       "      <th id=\"T_3dd41_level0_row5\" class=\"row_heading level0 row5\" >17</th>\n",
       "      <td id=\"T_3dd41_row5_col0\" class=\"data row5 col0\" >Approximately one third of patients with renal cell carcinoma (RCC) have metastatic disease at the time of diagnosis, and 40-50% will develop distant metastases later on. However, synchronous metastasis of RCC to the ureter or bladder is extremely rare. In this case study, a 73-year-old woman presented with gross hematuria and was found to have a sessile mass on the right lateral bladder wall. Further imaging revealed a heterogeneous mass in the left kidney, multiple small nodules in the pancreas, and thickening of both adrenal glands. Chest CT showed lung metastasis and lymph node metastasis. Pathological analysis confirmed metastatic RCC of the clear cell type. The patient underwent target therapy with sorafenib, but unfortunately, she fell and suffered an intracranial hemorrhage, leading to her death.\n",
       "\n",
       "Bladder metastases usually come from gastric adenocarcinoma, melanoma, and adenocarcinoma of the breast and colon. RCC is an uncommon source of bladder metastases, with fewer than 40 reported cases. Patients with RCC metastatic to the bladder typically present with gross hematuria, and in most cases, there is a history of RCC. However, in rare cases, the primary renal tumor may present initially as a bleeding bladder lesion. Bladder lesions are usually sessile, and histological evaluation of resected tissue is consistent with metastatic RCC.\n",
       "\n",
       "The mechanisms underlying the spread of RCC to the bladder are still debated, but possible mechanisms include hematogenous metastasis, retrograde spread from the renal vein or lymphatics, and direct intraluminal transit of tumor cells. Treatment options for metastatic RCC are limited, and target therapy with agents like sunitinib and sorafenib is now considered the standard. The decision to perform nephrectomy in cases of metastatic RCC is debatable, and treatment for metastatic lesions in the bladder may involve transurethral resection, partial cystectomy, or radical cystectomy. Prognosis for genitourinary metastases is generally poor, but long-term survival is occasionally reported. In this case, the patient underwent transurethral resection of the bladder tumor and was treated with sorafenib, but unfortunately, she passed away due to an intracranial hemorrhage.</td>\n",
       "      <td id=\"T_3dd41_row5_col1\" class=\"data row5 col1\" >Approximately one third of patients with renal cell carcinoma (RCC) present with metastatic disease at diagnosis. The prognosis for these patients is poor, with a 5-year survival rate of only 10%. The treatment of metastatic RCC has evolved rapidly over the past decade, with the advent of targeted therapies including tyrosine kinase inhibitors and immune checkpoint inhibitors. These agents have been shown to improve overall survival and have become the standard of care for patients with metastatic RCC. However, the majority of patients will eventually progress on these therapies, highlighting the need for novel treatment strategies. Combination therapy with immune checkpoint inhibitors and tyrosine kinase inhibitors has emerged as a promising approach. The rationale for this approach is based on the complementary mechanisms of action of these agents and the potential for synergistic antitumor activity. Several clinical trials have evaluated this strategy and have demonstrated improved outcomes compared with monotherapy. In this review, we discuss the rationale for combination therapy in metastatic RCC, review the available clinical data, and highlight ongoing trials and future directions in this rapidly evolving field.</td>\n",
       "    </tr>\n",
       "    <tr>\n",
       "      <th id=\"T_3dd41_level0_row6\" class=\"row_heading level0 row6\" >4</th>\n",
       "      <td id=\"T_3dd41_row6_col0\" class=\"data row6 col0\" >The article discusses the role of the adaptor protein sequestosome 1 (p62) in human epidermal growth factor receptor 2 (HER2)-induced mammary tumorigenesis. The study found that p62 is required for cellular transformation and tumorigenesis in mouse mammary tumor models. The findings are similar to previous studies on ras-induced lung cancer, suggesting that p62 may be a therapeutic target in oncogene-driven epithelial tumorigenesis. p62 is involved in multiple signaling pathways and its deregulation has been implicated in various diseases, including cancer. The study also found that p62 is required for cell survival and lumen formation in mammary cells, and it plays a role in the phosphatase and tensin homolog deleted on chromosome 10 (PTEN)/phosphoinositide-3-kinase (PI3K)/Akt signaling pathway. Additionally, p62 is involved in the activation of nuclear factor kappa B (NF-κB) and NF-E2-related factor-2 (Nrf2) signaling pathways. The study suggests that p62 contributes to HER2-induced mammary tumorigenesis through multiple mechanisms. It also highlights the potential role of p62 in metabolic reprogramming observed in HER2-positive breast cancer cells. The study concludes that p62 is a hub of signaling and metabolic pathways in HER2-induced mammary tumorigenesis and may serve as a therapeutic target in HER2-positive breast cancer.</td>\n",
       "      <td id=\"T_3dd41_row6_col1\" class=\"data row6 col1\" >The article discusses the role of the adaptor protein sequestosome 1/p62 (p62) in the regulation of osteoclastogenesis. We recently reported that depletion of p62 in osteoclast precursor cells leads to enhanced osteoclastogenesis due to increased expression of receptor activator of nuclear factor κB (RANK). In this study, we investigated the molecular mechanism by which p62 regulates RANK expression. We found that p62 interacts with the 3' untranslated region (UTR) of RANK mRNA and that this interaction is required for the regulation of RANK expression by p62. Furthermore, we identified that the RNA-binding protein human antigen R (HuR) is involved in the p62-mediated regulation of RANK expression. p62 was found to interact with HuR and to enhance the association of HuR with RANK mRNA. The p62-mediated stabilization of RANK mRNA was abrogated by depletion of HuR, indicating that HuR is required for the p62-mediated stabilization of RANK mRNA. These findings suggest that p62 regulates RANK expression at the post-transcriptional level through the interaction with HuR and provide new insight into the molecular mechanism underlying the regulation of osteoclastogenesis by p62.</td>\n",
       "    </tr>\n",
       "    <tr>\n",
       "      <th id=\"T_3dd41_level0_row7\" class=\"row_heading level0 row7\" >2</th>\n",
       "      <td id=\"T_3dd41_row7_col0\" class=\"data row7 col0\" >Takayasu's arteritis (TA) is a chronic inflammatory disorder that causes narrowing of medium to large-sized arteries, primarily affecting the aorta and its major branches. While the involvement of the pulmonary arteries is not well established, it has been reported in approximately 56% of TA patients. This article presents a case of a woman with TA who had total occlusion of the right main pulmonary artery. The patient had previously been diagnosed with severe tricuspid regurgitation associated with idiopathic pulmonary arterial hypertension. She had a history of dyspnea on exertion and had been prescribed medications, but experienced no improvement. During preoperative work-ups for tricuspid regurgitation surgery, the occlusion of the right main pulmonary artery was incidentally detected. The patient was also found to have left main pulmonary artery stenosis and other arterial abnormalities. The diagnosis of TA was established based on the criteria of the American College of Rheumatology. The patient was treated with corticosteroids, methotrexate, bosentan, and symptomatic medications for right-sided heart failure. While her symptoms showed slight improvement with these medications, her long medical history suggested that her left pulmonary vasculature may have already been damaged. The article emphasizes the importance of comprehensive echocardiographic examination in assessing TA patients, especially those with suspected pulmonary hypertension.</td>\n",
       "      <td id=\"T_3dd41_row7_col1\" class=\"data row7 col1\" >Takayasu's arteritis (TA) is a chronic inflammatory disease that primarily affects the aorta and its major branches. The disease is characterized by granulomatous inflammation of the arterial wall, which leads to stenosis, occlusion, and aneurysmal dilatation. The etiology of TA is unknown, but it is thought to be an autoimmune disease. The clinical manifestations of TA are diverse and depend on the location and severity of the arterial involvement. The most common symptoms are systemic inflammation, such as fever, fatigue, and weight loss, and vascular symptoms, such as claudication, absent or diminished pulses, and blood pressure discrepancy between the arms. The diagnosis of TA is based on clinical findings, such as the presence of characteristic symptoms and signs, and angiographic abnormalities, such as stenosis, occlusion, and aneurysmal dilatation of the aorta and its major branches. The treatment of TA consists of medical therapy and endovascular or surgical intervention. The goals of treatment are to control disease activity, to relieve symptoms, and to prevent complications, such as arterial stenosis, occlusion, and aneurysmal formation. The prognosis of TA has improved with the advent of early diagnosis and effective treatment, but the long-term outcome is still unsatisfactory, especially in patients with severe arterial stenosis or occlusion. Further studies are needed to clarify the etiology, to establish the optimal treatment, and to improve the prognosis of TA.</td>\n",
       "    </tr>\n",
       "    <tr>\n",
       "      <th id=\"T_3dd41_level0_row8\" class=\"row_heading level0 row8\" >3</th>\n",
       "      <td id=\"T_3dd41_row8_col0\" class=\"data row8 col0\" >The article discusses the importance of quality in healthcare and the need to provide appropriate healthcare services with the least possible cost. It emphasizes that the objective of primary healthcare centers is to provide satisfactory, economical, and standard services in the most suitable form and shortest time. The article explains that quality control is a traditional method based on the assumption that errors are inevitable, and the way to control quality is to audit or control events to ensure constant elevation of quality. The philosophy behind quality control is that what is good enough today might not be that good tomorrow. The article also mentions that total quality management is a way to improve the efficacy, flexibility, and competitiveness of the organization by covering all departments and resources. It discusses various indicators of service quality, including responsiveness, competency, availability, politeness, communication, security, trust, assurance, visibility, and understanding/knowing the client. The article highlights that weak quality of services in healthcare systems can lead to more diseases, disabilities, and costs, as well as less trust in the healthcare system. It emphasizes the importance of assessing and elevating quality to improve services, reduce mortality and morbidity, and increase the quality of life. The article concludes by stating that each manager needs to conduct studies to determine the quality gap in their organization and develop a model to improve quality beyond client expectations.</td>\n",
       "      <td id=\"T_3dd41_row8_col1\" class=\"data row8 col1\" >Quality in healthcare has gained new definition and dimensions in the last few decades. The quality gap is the gap between clinical research and practice. The quality gap is a global problem and is more evident in developing countries. The quality gap is a major concern in healthcare delivery. The quality gap is a major concern in healthcare delivery. The quality gap is a major concern in healthcare delivery. The quality gap is a major concern in healthcare delivery. The quality gap is a major concern in healthcare delivery. The quality gap is a major concern in healthcare delivery. The quality gap is a major concern in healthcare delivery. The quality gap is a major concern in healthcare delivery. The quality gap is a major concern in healthcare delivery. The quality gap is a major concern in healthcare delivery. The quality gap is a major concern in healthcare delivery. The quality gap is a major concern in healthcare delivery. The quality gap is a major concern in healthcare delivery. The quality gap is a major concern in healthcare delivery. The quality gap is a major concern in healthcare delivery. The quality gap is a major concern in healthcare delivery. The quality gap is a major concern in healthcare delivery. The quality gap is a major concern in healthcare delivery. The quality gap is a major concern in healthcare delivery. The quality gap is a major concern in healthcare delivery. The quality gap is a major concern in healthcare delivery. The quality gap is a major concern in healthcare delivery. The quality gap is a major concern in healthcare delivery. The quality gap is a major concern in healthcare delivery. The quality gap is a major concern in healthcare delivery. The quality gap is a major concern in healthcare delivery. The quality gap is a major concern in healthcare delivery. The quality gap is a major concern in healthcare delivery. The quality gap is a major concern in healthcare delivery. The quality gap is a major concern in healthcare delivery. The quality gap is a major concern in healthcare delivery. The quality gap is a major concern in healthcare delivery. The quality gap is a major concern in healthcare delivery. The quality gap is a major concern in healthcare delivery. The quality gap is a major concern in healthcare delivery. The quality gap is a major concern in healthcare delivery. The quality gap is a major concern in healthcare delivery. The quality gap is a major concern in healthcare delivery. The quality gap is a major concern in healthcare delivery. The quality gap is a major concern in healthcare delivery. The quality gap is a major concern in healthcare delivery. The quality gap is a major concern</td>\n",
       "    </tr>\n",
       "    <tr>\n",
       "      <th id=\"T_3dd41_level0_row9\" class=\"row_heading level0 row9\" >9</th>\n",
       "      <td id=\"T_3dd41_row9_col0\" class=\"data row9 col0\" >Henoch Schonlein purpura (HSP) is a type of vasculitis that affects small blood vessels in the kidneys, skin, and gastrointestinal tract. It is caused by immune complex deposition, and can be triggered by medications, infections, insect bites, and other factors. This article reports a rare case of HSP following an insect bite in a 26-year-old woman. The woman initially developed a nodular rash on her elbows after being bitten by an insect while sleeping. She later developed erythema nodosum and palpable purpura. The woman had pruritus and lower limb involvement, but no rash. She also experienced abdominal pain and joint pain. Laboratory tests showed abnormalities in her blood and urine, but she refused further investigations. She was prescribed acetaminophen and chlorpheniramine, and her symptoms gradually subsided over the next few days. The article also discusses the classification and etiology of vasculitic disorders, as well as the clinical features and complications of HSP. It highlights the unique sequential pattern of rashes observed in this case, with a nodular rash preceding the typical purpuric lesions. The article concludes by emphasizing the importance of recognizing the various patterns of rashes that can occur in HSP.</td>\n",
       "      <td id=\"T_3dd41_row9_col1\" class=\"data row9 col1\" >henoch  schonlein purpura ( hsp ) is an immune-mediated vasculitis that affects small vessels . it is characterized by the classic tetrad of nonthrombocytopenic purpura , arthritis , abdominal pain , and renal involvement . hsp is a common vasculitis in children , but it is rare in adults . the clinical course of hsp in adults is usually more severe than that in children . we describe a 26-year - old woman who presented with abdominal pain , hematochezia , and fever . she was diagnosed with hsp based on the characteristic skin rash and renal involvement . she was treated with corticosteroids and cyclophosphamide . her symptoms improved , and she was discharged . however , she was readmitted with recurrent abdominal pain and hematochezia . she was treated with corticosteroids and cyclophosphamide again . her symptoms improved , and she was discharged . she has been followed up for 2 years without recurrence . this is the first case of recurrent hsp in an adult in korea .</td>\n",
       "    </tr>\n",
       "  </tbody>\n",
       "</table>\n"
      ],
      "text/plain": [
       "<pandas.io.formats.style.Styler at 0x7fe3c98471f0>"
      ]
     },
     "execution_count": null,
     "metadata": {},
     "output_type": "execute_result"
    }
   ],
   "source": [
    "# Display the results on the worst examples.\n",
    "worst_examples_validation = ds_validation_with_final_summary.sort_values(\n",
    "    by=\"initial_rougeCombined\"\n",
    ").head(to_keep)\n",
    "worst_examples_validation[[\"initial_summary\", \"final_summary\"]].style.set_properties(\n",
    "    subset=[\"initial_summary\", \"final_summary\"], **{\"width\": \"500px\"}\n",
    ")"
   ]
  },
  {
   "cell_type": "markdown",
   "metadata": {},
   "source": [
    "Unfortunately, apart from the examples 3 and 9 which are clearly not functionning, it is not obvious which version is better."
   ]
  },
  {
   "cell_type": "code",
   "execution_count": null,
   "metadata": {},
   "outputs": [],
   "source": []
  }
 ],
 "metadata": {
  "language_info": {
   "name": "python"
  }
 },
 "nbformat": 4,
 "nbformat_minor": 2
}
