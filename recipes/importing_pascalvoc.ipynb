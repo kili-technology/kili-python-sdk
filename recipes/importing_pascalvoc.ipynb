{
 "cells": [
  {
   "cell_type": "markdown",
   "metadata": {},
   "source": [
    "# How to import PascalVOC annotations into Kili\n",
    "\n",
    "---\n",
    "\n"
   ]
  },
  {
   "cell_type": "markdown",
   "metadata": {},
   "source": [
    "In this tutorial, we will demonstrate how to import PascalVOC annotations into Kili."
   ]
  },
  {
   "cell_type": "markdown",
   "metadata": {},
   "source": [
    "## Setup\n",
    "\n",
    "Let's start by installing Kili and other packages"
   ]
  },
  {
   "cell_type": "code",
   "execution_count": null,
   "metadata": {},
   "outputs": [
    {
     "name": "stdout",
     "output_type": "stream",
     "text": [
      "Requirement already satisfied: kili in /usr/local/lib/python3.10/dist-packages (2.142.1)\n",
      "Requirement already satisfied: xmltodict in /usr/local/lib/python3.10/dist-packages (0.13.0)\n",
      "Requirement already satisfied: pandas<3.0.0,>=1.0.0 in /usr/local/lib/python3.10/dist-packages (from kili) (1.5.3)\n",
      "Requirement already satisfied: click<9.0.0,>=8.0.0 in /usr/local/lib/python3.10/dist-packages (from kili) (8.1.6)\n",
      "Requirement already satisfied: requests<3.0.0,>=2.0.0 in /usr/local/lib/python3.10/dist-packages (from kili) (2.31.0)\n",
      "Requirement already satisfied: tabulate<0.10.0,>=0.9.0 in /usr/local/lib/python3.10/dist-packages (from kili) (0.9.0)\n",
      "Requirement already satisfied: tenacity<9.0.0,>=8.0.0 in /usr/local/lib/python3.10/dist-packages (from kili) (8.2.2)\n",
      "Requirement already satisfied: tqdm<5.0.0,>=4.0.0 in /usr/local/lib/python3.10/dist-packages (from kili) (4.66.1)\n",
      "Requirement already satisfied: typeguard<3.0.0,>=2.0.0 in /usr/local/lib/python3.10/dist-packages (from kili) (2.13.3)\n",
      "Requirement already satisfied: typing-extensions<5.0.0,>=4.1.0 in /usr/local/lib/python3.10/dist-packages (from kili) (4.7.1)\n",
      "Requirement already satisfied: pyparsing<4.0.0,>=3.0.0 in /usr/local/lib/python3.10/dist-packages (from kili) (3.1.1)\n",
      "Requirement already satisfied: websocket-client<2.0.0,>=1.0.0 in /usr/local/lib/python3.10/dist-packages (from kili) (1.6.1)\n",
      "Requirement already satisfied: pyyaml<7.0,>=6.0 in /usr/local/lib/python3.10/dist-packages (from kili) (6.0.1)\n",
      "Requirement already satisfied: Pillow<10.1.0,>=9.0.0 in /usr/local/lib/python3.10/dist-packages (from kili) (9.4.0)\n",
      "Requirement already satisfied: cuid<0.5,>=0.4 in /usr/local/lib/python3.10/dist-packages (from kili) (0.4)\n",
      "Requirement already satisfied: pydantic<3,>=1.0 in /usr/local/lib/python3.10/dist-packages (from kili) (2.1.1)\n",
      "Requirement already satisfied: urllib3<3,>=1.26 in /usr/local/lib/python3.10/dist-packages (from kili) (1.26.16)\n",
      "Requirement already satisfied: ffmpeg-python<0.3.0,>=0.2.0 in /usr/local/lib/python3.10/dist-packages (from kili) (0.2.0)\n",
      "Requirement already satisfied: gql[requests,websockets]<4.0.0,>=3.5.0b5 in /usr/local/lib/python3.10/dist-packages (from kili) (3.5.0b5)\n",
      "Requirement already satisfied: filelock<4.0.0,>=3.0.0 in /usr/local/lib/python3.10/dist-packages (from kili) (3.12.2)\n",
      "Requirement already satisfied: pyrate-limiter<3,>=2 in /usr/local/lib/python3.10/dist-packages (from kili) (2.10.0)\n",
      "Requirement already satisfied: future in /usr/local/lib/python3.10/dist-packages (from ffmpeg-python<0.3.0,>=0.2.0->kili) (0.18.3)\n",
      "Requirement already satisfied: graphql-core<3.4,>=3.3.0a3 in /usr/local/lib/python3.10/dist-packages (from gql[requests,websockets]<4.0.0,>=3.5.0b5->kili) (3.3.0a3)\n",
      "Requirement already satisfied: yarl<2.0,>=1.6 in /usr/local/lib/python3.10/dist-packages (from gql[requests,websockets]<4.0.0,>=3.5.0b5->kili) (1.9.2)\n",
      "Requirement already satisfied: backoff<3.0,>=1.11.1 in /usr/local/lib/python3.10/dist-packages (from gql[requests,websockets]<4.0.0,>=3.5.0b5->kili) (2.2.1)\n",
      "Requirement already satisfied: requests-toolbelt<1,>=0.9.1 in /usr/local/lib/python3.10/dist-packages (from gql[requests,websockets]<4.0.0,>=3.5.0b5->kili) (0.10.1)\n",
      "Requirement already satisfied: websockets<12,>=10 in /usr/local/lib/python3.10/dist-packages (from gql[requests,websockets]<4.0.0,>=3.5.0b5->kili) (11.0.3)\n",
      "Requirement already satisfied: python-dateutil>=2.8.1 in /usr/local/lib/python3.10/dist-packages (from pandas<3.0.0,>=1.0.0->kili) (2.8.2)\n",
      "Requirement already satisfied: pytz>=2020.1 in /usr/local/lib/python3.10/dist-packages (from pandas<3.0.0,>=1.0.0->kili) (2023.3)\n",
      "Requirement already satisfied: numpy>=1.21.0 in /usr/local/lib/python3.10/dist-packages (from pandas<3.0.0,>=1.0.0->kili) (1.23.5)\n",
      "Requirement already satisfied: annotated-types>=0.4.0 in /usr/local/lib/python3.10/dist-packages (from pydantic<3,>=1.0->kili) (0.5.0)\n",
      "Requirement already satisfied: pydantic-core==2.4.0 in /usr/local/lib/python3.10/dist-packages (from pydantic<3,>=1.0->kili) (2.4.0)\n",
      "Requirement already satisfied: charset-normalizer<4,>=2 in /usr/local/lib/python3.10/dist-packages (from requests<3.0.0,>=2.0.0->kili) (3.2.0)\n",
      "Requirement already satisfied: idna<4,>=2.5 in /usr/local/lib/python3.10/dist-packages (from requests<3.0.0,>=2.0.0->kili) (3.4)\n",
      "Requirement already satisfied: certifi>=2017.4.17 in /usr/local/lib/python3.10/dist-packages (from requests<3.0.0,>=2.0.0->kili) (2023.7.22)\n",
      "Requirement already satisfied: six>=1.5 in /usr/local/lib/python3.10/dist-packages (from python-dateutil>=2.8.1->pandas<3.0.0,>=1.0.0->kili) (1.16.0)\n",
      "Requirement already satisfied: multidict>=4.0 in /usr/local/lib/python3.10/dist-packages (from yarl<2.0,>=1.6->gql[requests,websockets]<4.0.0,>=3.5.0b5->kili) (6.0.4)\n"
     ]
    }
   ],
   "source": [
    "%pip install kili xmltodict"
   ]
  },
  {
   "cell_type": "code",
   "execution_count": null,
   "metadata": {},
   "outputs": [],
   "source": [
    "import getpass\n",
    "import os\n",
    "import tarfile\n",
    "\n",
    "import xmltodict\n",
    "\n",
    "from kili.client import Kili"
   ]
  },
  {
   "cell_type": "markdown",
   "metadata": {},
   "source": [
    "## Download Pascal VOC format\n",
    "\n",
    "The format and download for the full dataset is found [here](http://host.robots.ox.ac.uk/pascal/VOC/)\n",
    "\n",
    "For this tutorial we will use a subset from the test set from 2012\n"
   ]
  },
  {
   "cell_type": "code",
   "execution_count": null,
   "metadata": {},
   "outputs": [],
   "source": [
    "images_names = [\n",
    "    \"2007_000027\",\n",
    "    \"2010_001121\",\n",
    "    \"2010_001140\",\n",
    "    \"2011_004772\",\n",
    "    \"2012_003624\",\n",
    "    \"2012_004328\",\n",
    "]\n",
    "annos_folder = \"Annotations\"\n",
    "images_folder = \"JPEGImages\"\n",
    "images_extension = \".jpg\""
   ]
  },
  {
   "cell_type": "code",
   "execution_count": null,
   "metadata": {},
   "outputs": [],
   "source": [
    "def check_create_dir(pth):\n",
    "    if not os.path.exists(pth):\n",
    "        os.mkdir(pth)\n",
    "\n",
    "\n",
    "check_create_dir(images_folder)\n",
    "check_create_dir(annos_folder)"
   ]
  },
  {
   "cell_type": "code",
   "execution_count": null,
   "metadata": {},
   "outputs": [
    {
     "name": "stdout",
     "output_type": "stream",
     "text": [
      "  % Total    % Received % Xferd  Average Speed   Time    Time     Time  Current\n",
      "                                 Dload  Upload   Total   Spent    Left  Speed\n",
      "100  142k  100  142k    0     0   417k      0 --:--:-- --:--:-- --:--:--  417k\n",
      "  % Total    % Received % Xferd  Average Speed   Time    Time     Time  Current\n",
      "                                 Dload  Upload   Total   Spent    Left  Speed\n",
      "100  1151  100  1151    0     0   2247      0 --:--:-- --:--:-- --:--:--  2248\n",
      "  % Total    % Received % Xferd  Average Speed   Time    Time     Time  Current\n",
      "                                 Dload  Upload   Total   Spent    Left  Speed\n",
      "100  174k  100  174k    0     0   551k      0 --:--:-- --:--:-- --:--:--  549k\n",
      "  % Total    % Received % Xferd  Average Speed   Time    Time     Time  Current\n",
      "                                 Dload  Upload   Total   Spent    Left  Speed\n",
      "100  1055  100  1055    0     0   3834      0 --:--:-- --:--:-- --:--:--  3850\n",
      "  % Total    % Received % Xferd  Average Speed   Time    Time     Time  Current\n",
      "                                 Dload  Upload   Total   Spent    Left  Speed\n",
      "100 86429  100 86429    0     0   265k      0 --:--:-- --:--:-- --:--:--  264k\n",
      "  % Total    % Received % Xferd  Average Speed   Time    Time     Time  Current\n",
      "                                 Dload  Upload   Total   Spent    Left  Speed\n",
      "100   821  100   821    0     0    622      0  0:00:01  0:00:01 --:--:--   622\n",
      "  % Total    % Received % Xferd  Average Speed   Time    Time     Time  Current\n",
      "                                 Dload  Upload   Total   Spent    Left  Speed\n",
      "100  131k  100  131k    0     0   401k      0 --:--:-- --:--:-- --:--:--  402k\n",
      "  % Total    % Received % Xferd  Average Speed   Time    Time     Time  Current\n",
      "                                 Dload  Upload   Total   Spent    Left  Speed\n",
      "100  2675  100  2675    0     0   9392      0 --:--:-- --:--:-- --:--:--  9385\n",
      "  % Total    % Received % Xferd  Average Speed   Time    Time     Time  Current\n",
      "                                 Dload  Upload   Total   Spent    Left  Speed\n",
      "100  103k  100  103k    0     0   331k      0 --:--:-- --:--:-- --:--:--  331k\n",
      "  % Total    % Received % Xferd  Average Speed   Time    Time     Time  Current\n",
      "                                 Dload  Upload   Total   Spent    Left  Speed\n",
      "100   916  100   916    0     0   3295      0 --:--:-- --:--:-- --:--:--  3294\n",
      "  % Total    % Received % Xferd  Average Speed   Time    Time     Time  Current\n",
      "                                 Dload  Upload   Total   Spent    Left  Speed\n",
      "100 98919  100 98919    0     0   255k      0 --:--:-- --:--:-- --:--:--  256k\n",
      "  % Total    % Received % Xferd  Average Speed   Time    Time     Time  Current\n",
      "                                 Dload  Upload   Total   Spent    Left  Speed\n",
      "100  1502  100  1502    0     0   5144      0 --:--:-- --:--:-- --:--:--  5161\n"
     ]
    }
   ],
   "source": [
    "for image_name in images_names:\n",
    "    for fld, img_ext in zip([images_folder, annos_folder], [images_extension, \".xml\"]):\n",
    "        !curl https://raw.githubusercontent.com/kili-technology/kili-python-sdk/main/recipes/datasets/pascalVOC2012/valsubset/{fld}/{image_name}{img_ext} --output {fld}/{image_name}{img_ext}"
   ]
  },
  {
   "cell_type": "markdown",
   "metadata": {},
   "source": [
    "## Reading xml files"
   ]
  },
  {
   "cell_type": "code",
   "execution_count": null,
   "metadata": {},
   "outputs": [],
   "source": [
    "def xml_to_dict(xml_file: str):\n",
    "    with open(xml_file, \"r\") as file:\n",
    "        xml_data = file.read()\n",
    "        xml_dict = xmltodict.parse(xml_data)\n",
    "    return xml_dict"
   ]
  },
  {
   "cell_type": "code",
   "execution_count": null,
   "metadata": {},
   "outputs": [],
   "source": [
    "images_annotations = []\n",
    "for image_name in images_names:\n",
    "    images_annotations.append(xml_to_dict(os.path.join(annos_folder, image_name + \".xml\")))"
   ]
  },
  {
   "cell_type": "markdown",
   "metadata": {},
   "source": [
    "## Create a Kili project"
   ]
  },
  {
   "cell_type": "code",
   "execution_count": null,
   "metadata": {},
   "outputs": [
    {
     "name": "stdout",
     "output_type": "stream",
     "text": [
      "Please enter your API key: ··········\n"
     ]
    }
   ],
   "source": [
    "if \"KILI_API_KEY\" not in os.environ:\n",
    "    KILI_API_KEY = getpass.getpass(\"Please enter your API key: \")\n",
    "else:\n",
    "    KILI_API_KEY = os.environ[\"KILI_API_KEY\"]"
   ]
  },
  {
   "cell_type": "markdown",
   "metadata": {},
   "source": [
    "Initialize the Kili client"
   ]
  },
  {
   "cell_type": "code",
   "execution_count": null,
   "metadata": {},
   "outputs": [],
   "source": [
    "kili = Kili(\n",
    "    api_key=KILI_API_KEY,\n",
    ")"
   ]
  },
  {
   "cell_type": "markdown",
   "metadata": {},
   "source": [
    "In the dictionary below, we map the category ids to the category names from all annotation files:"
   ]
  },
  {
   "cell_type": "code",
   "execution_count": null,
   "metadata": {},
   "outputs": [],
   "source": [
    "category_names = set()\n",
    "for image_annos in images_annotations:\n",
    "    pascalvoc_annos = image_annos[\"annotation\"][\"object\"]\n",
    "    if isinstance(pascalvoc_annos, dict):\n",
    "        category_names.add(pascalvoc_annos[\"name\"])\n",
    "    else:\n",
    "        for anno in image_annos[\"annotation\"][\"object\"]:\n",
    "            category_names.add(anno[\"name\"])\n",
    "category_names = list(category_names)\n",
    "categories = {\n",
    "    cat_name: {\"children\": [], \"name\": cat_name, \"id\": i}\n",
    "    for i, cat_name in enumerate(category_names)\n",
    "}"
   ]
  },
  {
   "cell_type": "markdown",
   "metadata": {},
   "source": [
    "We can take a look at all the categories found with their respective ids"
   ]
  },
  {
   "cell_type": "code",
   "execution_count": null,
   "metadata": {},
   "outputs": [
    {
     "name": "stdout",
     "output_type": "stream",
     "text": [
      "0 : car\n",
      "1 : sofa\n",
      "2 : person\n",
      "3 : cat\n"
     ]
    }
   ],
   "source": [
    "for category in categories.values():\n",
    "    print(category[\"id\"], \":\", category[\"name\"])"
   ]
  },
  {
   "cell_type": "markdown",
   "metadata": {},
   "source": [
    "The `json_interface` variable contains the ontology of the project.\n"
   ]
  },
  {
   "cell_type": "code",
   "execution_count": null,
   "metadata": {},
   "outputs": [],
   "source": [
    "json_interface = {\"jobs\": {}}\n",
    "\n",
    "json_interface[\"jobs\"][\"OBJECT_DETECTION_JOB\"] = {\n",
    "    \"content\": {\"categories\": categories, \"input\": \"radio\"},\n",
    "    \"instruction\": \"BBox\",\n",
    "    \"mlTask\": \"OBJECT_DETECTION\",\n",
    "    \"required\": 0,\n",
    "    \"tools\": [\"rectangle\"],\n",
    "    \"isChild\": False,\n",
    "}"
   ]
  },
  {
   "cell_type": "markdown",
   "metadata": {},
   "source": [
    "Create a Kili project using the json interface"
   ]
  },
  {
   "cell_type": "code",
   "execution_count": null,
   "metadata": {},
   "outputs": [],
   "source": [
    "project = kili.create_project(\n",
    "    title=\"[Kili SDK Notebook]: PascalVOC 2023\",\n",
    "    input_type=\"IMAGE\",\n",
    "    json_interface=json_interface,\n",
    ")"
   ]
  },
  {
   "cell_type": "markdown",
   "metadata": {},
   "source": [
    "# Importing images\n",
    "\n",
    "Now that the project is imported, lets import the images"
   ]
  },
  {
   "cell_type": "code",
   "execution_count": null,
   "metadata": {},
   "outputs": [],
   "source": [
    "content_array = []\n",
    "external_id_array = []\n",
    "for image_id, image_name in enumerate(images_names):\n",
    "    content_array.append(os.path.join(images_folder, image_name + images_extension))\n",
    "    external_id_array.append(str(image_id))"
   ]
  },
  {
   "cell_type": "code",
   "execution_count": null,
   "metadata": {},
   "outputs": [
    {
     "name": "stderr",
     "output_type": "stream",
     "text": [
      "100%|██████████| 6/6 [00:02<00:00,  2.14it/s]\n"
     ]
    },
    {
     "data": {
      "text/plain": [
       "{'id': 'cllfay162uymd0j7vc67rhanl'}"
      ]
     },
     "execution_count": null,
     "metadata": {},
     "output_type": "execute_result"
    }
   ],
   "source": [
    "kili.append_many_to_dataset(\n",
    "    project[\"id\"], content_array=content_array, external_id_array=external_id_array\n",
    ")"
   ]
  },
  {
   "cell_type": "markdown",
   "metadata": {},
   "source": [
    "# Importing annotations to Kili"
   ]
  },
  {
   "cell_type": "markdown",
   "metadata": {},
   "source": [
    "Below, we import some useful functions to convert annotations to Kili label format"
   ]
  },
  {
   "cell_type": "code",
   "execution_count": null,
   "metadata": {},
   "outputs": [],
   "source": [
    "from typing import Dict, List\n",
    "\n",
    "from kili.utils.labels.bbox import (\n",
    "    bbox_points_to_normalized_vertices,\n",
    "    point_to_normalized_point,\n",
    ")"
   ]
  },
  {
   "cell_type": "code",
   "execution_count": null,
   "metadata": {},
   "outputs": [],
   "source": [
    "def pascal_bbox_to_kili_normalized_vertices(\n",
    "    pascal_bbox: Dict, img_width: int, img_height: int\n",
    ") -> List[Dict]:\n",
    "    x1, y1, x2, y2 = (\n",
    "        pascal_bbox[\"xmin\"],\n",
    "        pascal_bbox[\"ymin\"],\n",
    "        pascal_bbox[\"xmax\"],\n",
    "        pascal_bbox[\"ymax\"],\n",
    "    )\n",
    "    x1, y1, x2, y2 = int(x1), int(y1), int(x2), int(y2)\n",
    "    kili_normalized_vertices = bbox_points_to_normalized_vertices(\n",
    "        bottom_left={\"x\": x1, \"y\": y2},\n",
    "        bottom_right={\"x\": x2, \"y\": y2},\n",
    "        top_right={\"x\": x2, \"y\": y1},\n",
    "        top_left={\"x\": x1, \"y\": y1},\n",
    "        img_height=img_height,\n",
    "        img_width=img_width,\n",
    "        origin_location=\"top_left\",\n",
    "    )\n",
    "    return kili_normalized_vertices"
   ]
  },
  {
   "cell_type": "code",
   "execution_count": null,
   "metadata": {},
   "outputs": [],
   "source": [
    "json_response_array = []\n",
    "for image_id, image_name in enumerate(images_names):\n",
    "    image_annos = images_annotations[image_id][\"annotation\"]\n",
    "    img_width, img_height = int(image_annos[\"size\"][\"width\"]), int(image_annos[\"size\"][\"height\"])\n",
    "\n",
    "    json_resp = {}\n",
    "    kili_bbox_annotations = []\n",
    "    if isinstance(image_annos[\"object\"], dict):\n",
    "        image_annos[\"object\"] = [image_annos[\"object\"]]\n",
    "    for ann in image_annos[\"object\"]:\n",
    "        kili_bbox_ann = {\n",
    "            \"children\": {},\n",
    "            \"boundingPoly\": [\n",
    "                {\n",
    "                    \"normalizedVertices\": pascal_bbox_to_kili_normalized_vertices(\n",
    "                        ann[\"bndbox\"], img_width=img_width, img_height=img_height\n",
    "                    )\n",
    "                }\n",
    "            ],\n",
    "            \"categories\": [{\"name\": ann[\"name\"]}],\n",
    "            \"type\": \"rectangle\",\n",
    "        }\n",
    "        kili_bbox_annotations.append(kili_bbox_ann)\n",
    "\n",
    "    json_resp[\"OBJECT_DETECTION_JOB\"] = {\"annotations\": kili_bbox_annotations}\n",
    "    json_response_array.append(json_resp)"
   ]
  },
  {
   "cell_type": "code",
   "execution_count": null,
   "metadata": {},
   "outputs": [
    {
     "name": "stderr",
     "output_type": "stream",
     "text": [
      "/usr/local/lib/python3.10/dist-packages/kili/services/label_import/types.py:30: PydanticDeprecatedSince20: The `dict` method is deprecated; use `model_dump` instead. Deprecated in Pydantic V2.0 to be removed in V3.0. See Pydantic V2 Migration Guide at https://errors.pydantic.dev/2.1.1/migration/\n",
      "  return ClientInputLabelData(**label).dict()\n",
      "100%|██████████| 6/6 [00:00<00:00,  7.74it/s]\n"
     ]
    },
    {
     "data": {
      "text/plain": [
       "[{'id': 'cllfb5561ubwo0ja95kyu9y2k'},\n",
       " {'id': 'cllfb5561ubwp0ja92bql6jeo'},\n",
       " {'id': 'cllfb5561ubwq0ja9dofhdwcv'},\n",
       " {'id': 'cllfb5561ubwr0ja9365nej9p'},\n",
       " {'id': 'cllfb5561ubws0ja918jx9f14'},\n",
       " {'id': 'cllfb5561ubwt0ja9gbi00r6w'}]"
      ]
     },
     "execution_count": null,
     "metadata": {},
     "output_type": "execute_result"
    }
   ],
   "source": [
    "kili.append_labels(\n",
    "    asset_external_id_array=external_id_array,\n",
    "    project_id=project[\"id\"],\n",
    "    json_response_array=json_response_array,\n",
    ")"
   ]
  },
  {
   "cell_type": "markdown",
   "metadata": {},
   "source": [
    "In the Kili labeling interface, we can see the images and the annotations:\n",
    "\n",
    "**add image**"
   ]
  },
  {
   "cell_type": "markdown",
   "metadata": {},
   "source": [
    "\n",
    "# Conclusion\n",
    "\n",
    "In this tutorial, we have seen how to import Pascal VOC annotations into Kili.\n",
    "\n",
    "You can now use Kili to refine and review your annotations, in order to train your machine learning models on high quality data.\n",
    "\n"
   ]
  },
  {
   "cell_type": "markdown",
   "metadata": {},
   "source": [
    "# Clean up\n",
    "\n",
    "Remove the project from your Kili projects\n",
    "\n"
   ]
  },
  {
   "cell_type": "code",
   "execution_count": null,
   "metadata": {},
   "outputs": [
    {
     "data": {
      "application/vnd.google.colaboratory.intrinsic+json": {
       "type": "string"
      },
      "text/plain": [
       "'cllfay162uymd0j7vc67rhanl'"
      ]
     },
     "execution_count": null,
     "metadata": {},
     "output_type": "execute_result"
    }
   ],
   "source": [
    "kili.delete_project(project_id=project[\"id\"])"
   ]
  }
 ],
 "metadata": {
  "language_info": {
   "name": "python"
  }
 },
 "nbformat": 4,
 "nbformat_minor": 0
}
