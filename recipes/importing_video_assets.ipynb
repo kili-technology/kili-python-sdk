{
 "cells": [
  {
   "cell_type": "markdown",
   "metadata": {},
   "source": [
    "<a href=\"https://colab.research.google.com/github/kili-technology/kili-python-sdk/blob/main/recipes/importing_video_assets.ipynb\" target=\"_parent\"><img src=\"https://colab.research.google.com/assets/colab-badge.svg\" alt=\"Open In Colab\"/></a>"
   ]
  },
  {
   "cell_type": "markdown",
   "metadata": {},
   "source": [
    "# How to import video assets to a Kili project"
   ]
  },
  {
   "cell_type": "markdown",
   "metadata": {},
   "source": [
    "In this tutorial, we will learn how to import video assets to Kili.\n",
    "\n",
    "Here are the steps that we will follow:\n",
    "\n",
    "1. Setting up a simple Kili project to work with\n",
    "2. Importing video assets to Kili\n",
    "  1. Uploading a video asset using a path to a local file\n",
    "  2. Uploading a video asset using an URL\n",
    "  3. Uploading a video asset to label each frame separately\n",
    "  4. Uploading a list of local images as one video asset\n",
    "  5. Uploading a list of image URLs as one video asset\n",
    "  6. Uploading a video asset with a custom sampling rate\n",
    "3. Cleanup"
   ]
  },
  {
   "cell_type": "markdown",
   "metadata": {},
   "source": [
    "## Setting up a simple Kili project to work with"
   ]
  },
  {
   "cell_type": "markdown",
   "metadata": {},
   "source": [
    "### Installing and instantiating Kili"
   ]
  },
  {
   "cell_type": "markdown",
   "metadata": {},
   "source": [
    "First, let's install and import the required modules."
   ]
  },
  {
   "cell_type": "code",
   "execution_count": null,
   "metadata": {},
   "outputs": [],
   "source": [
    "!pip install  kili"
   ]
  },
  {
   "cell_type": "code",
   "execution_count": null,
   "metadata": {},
   "outputs": [],
   "source": [
    "import getpass\n",
    "import os\n",
    "\n",
    "from kili.client import Kili"
   ]
  },
  {
   "cell_type": "markdown",
   "metadata": {},
   "source": [
    "Now, let's set up variables needed to create an instance of the Kili object.\n",
    "\n",
    "We will need your API key and Kili's API endpoint.\n",
    "\n",
    "If you are unsure how to look up your API key, refer to [https://docs.kili-technology.com/docs/creating-an-api-key](https://docs.kili-technology.com/docs/creating-an-api-key)."
   ]
  },
  {
   "cell_type": "code",
   "execution_count": null,
   "metadata": {},
   "outputs": [],
   "source": [
    "if \"KILI_API_KEY\" not in os.environ:\n",
    "    KILI_API_KEY = getpass.getpass(\"Please enter your API key: \")\n",
    "else:\n",
    "    KILI_API_KEY = os.environ[\"KILI_API_KEY\"]"
   ]
  },
  {
   "cell_type": "markdown",
   "metadata": {},
   "source": [
    "With variables set up, we can now create an instance of the Kili object."
   ]
  },
  {
   "cell_type": "code",
   "execution_count": null,
   "metadata": {},
   "outputs": [],
   "source": [
    "kili = Kili(\n",
    "    api_key=KILI_API_KEY,  # no need to pass the API_KEY if it is already in your environment variables\n",
    "    # api_endpoint=\"https://cloud.kili-technology.com/api/label/v2/graphql\",\n",
    "    # the line above can be uncommented and changed if you are working with an on-premise version of Kili\n",
    ")"
   ]
  },
  {
   "cell_type": "markdown",
   "metadata": {},
   "source": [
    "### Creating a basic Kili project"
   ]
  },
  {
   "cell_type": "markdown",
   "metadata": {},
   "source": [
    "To create a Kili project, you must first set up its interface.\n",
    "\n",
    "We will create a video project with just one simple classification job and two categories: `OBJECT_A` and `OBJECT_B`.\n",
    "\n",
    "To learn more about Kili project interfaces, refer to [https://docs.kili-technology.com/docs/customizing-project-interface](https://docs.kili-technology.com/docs/customizing-project-interface)."
   ]
  },
  {
   "cell_type": "code",
   "execution_count": null,
   "metadata": {},
   "outputs": [],
   "source": [
    "interface = {\n",
    "    \"jobs\": {\n",
    "        \"JOB_0\": {\n",
    "            \"content\": {\n",
    "                \"categories\": {\n",
    "                    \"OBJECT_A\": {\"children\": [], \"name\": \"Object A\", \"id\": \"category3\"},\n",
    "                    \"OBJECT_B\": {\"children\": [], \"name\": \"Object B\", \"id\": \"category4\"},\n",
    "                },\n",
    "                \"input\": \"radio\",\n",
    "            },\n",
    "            \"instruction\": \"Categories\",\n",
    "            \"isChild\": False,\n",
    "            \"mlTask\": \"CLASSIFICATION\",\n",
    "            \"models\": {},\n",
    "            \"isVisible\": True,\n",
    "            \"required\": 1,\n",
    "            \"isNew\": False,\n",
    "        }\n",
    "    }\n",
    "}\n",
    "\n",
    "result = kili.create_project(\n",
    "    title=\"Test Project\",\n",
    "    description=\"Project Description\",\n",
    "    input_type=\"VIDEO\",\n",
    "    json_interface=interface,\n",
    ")"
   ]
  },
  {
   "cell_type": "markdown",
   "metadata": {},
   "source": [
    "For further processing, we will need to find out what our project ID is.\n",
    "\n",
    "We can easily retrieve it from the project creation response message:"
   ]
  },
  {
   "cell_type": "code",
   "execution_count": null,
   "metadata": {},
   "outputs": [
    {
     "name": "stdout",
     "output_type": "stream",
     "text": [
      "Project ID:  cld90h71d0ha50jptd28xfjg1\n"
     ]
    }
   ],
   "source": [
    "project_id = result[\"id\"]\n",
    "print(\"Project ID: \", project_id)"
   ]
  },
  {
   "cell_type": "markdown",
   "metadata": {},
   "source": [
    "## Importing video assets to Kili"
   ]
  },
  {
   "cell_type": "markdown",
   "metadata": {},
   "source": [
    "Now, let's add some video assets to be labeled.\n",
    "You can videos using URLs or use your local assets.\n",
    "\n",
    "We will use a free off-the-shelf asset from the Internet."
   ]
  },
  {
   "cell_type": "markdown",
   "metadata": {},
   "source": [
    "### Uploading a video asset using a path to a local file"
   ]
  },
  {
   "cell_type": "markdown",
   "metadata": {},
   "source": [
    "To show an example of how to upload a local video, we must first download it:"
   ]
  },
  {
   "cell_type": "code",
   "execution_count": null,
   "metadata": {},
   "outputs": [],
   "source": [
    "import urllib.request\n",
    "\n",
    "urllib.request.urlretrieve(\n",
    "    \"https://storage.googleapis.com/label-public-staging/asset-test-sample/video/short_video.mp4\",\n",
    "    \"test.mp4\",\n",
    ")"
   ]
  },
  {
   "cell_type": "markdown",
   "metadata": {},
   "source": [
    "Now, we can easily upload the video to our project:"
   ]
  },
  {
   "cell_type": "code",
   "execution_count": null,
   "metadata": {},
   "outputs": [],
   "source": [
    "assets = kili.append_many_to_dataset(\n",
    "    project_id=project_id, content_array=[\"./test.mp4\"], external_id_array=[\"video_1_from_local\"]\n",
    ")"
   ]
  },
  {
   "cell_type": "markdown",
   "metadata": {},
   "source": [
    "### Uploading a video asset using an URL"
   ]
  },
  {
   "cell_type": "markdown",
   "metadata": {},
   "source": [
    "You can of course upload videos using URLs as well. To do so, simply replace `'./test.mp4'` with the URL of the video that you want to upload."
   ]
  },
  {
   "cell_type": "code",
   "execution_count": null,
   "metadata": {},
   "outputs": [],
   "source": [
    "url = \"https://storage.googleapis.com/label-public-staging/asset-test-sample/video/short_video.mp4\"\n",
    "\n",
    "assets = kili.append_many_to_dataset(\n",
    "    project_id=project_id, content_array=[url], external_id_array=[\"video_2_from_url\"]\n",
    ")"
   ]
  },
  {
   "cell_type": "markdown",
   "metadata": {},
   "source": [
    "### Uploading a video asset to label each frame separately"
   ]
  },
  {
   "cell_type": "markdown",
   "metadata": {},
   "source": [
    "To upload your video and be able to label frames separately, as individual images, refer to this code:"
   ]
  },
  {
   "cell_type": "code",
   "execution_count": null,
   "metadata": {},
   "outputs": [],
   "source": [
    "url = \"https://storage.googleapis.com/label-public-staging/asset-test-sample/video/short_video.mp4\"\n",
    "\n",
    "assets = kili.append_many_to_dataset(\n",
    "    project_id=project_id,\n",
    "    content_array=[url],\n",
    "    external_id_array=[\"video_2_from_url_split_frames\"],\n",
    "    json_metadata_array=[{\"processingParameters\": {\"shouldUseNativeVideo\": False}}],\n",
    ")"
   ]
  },
  {
   "cell_type": "markdown",
   "metadata": {},
   "source": [
    "### Uploading a list of local images as one video asset"
   ]
  },
  {
   "cell_type": "markdown",
   "metadata": {},
   "source": [
    "We can create a video, by using local images as frames. Let's first download some images from the Internet:"
   ]
  },
  {
   "cell_type": "code",
   "execution_count": null,
   "metadata": {},
   "outputs": [],
   "source": [
    "urllib.request.urlretrieve(\n",
    "    \"https://storage.googleapis.com/label-public-staging/Frame/vid2_frame/video2-img000001.jpg\",\n",
    "    \"image_1.jpg\",\n",
    ")\n",
    "urllib.request.urlretrieve(\n",
    "    \"https://storage.googleapis.com/label-public-staging/Frame/vid2_frame/video2-img000002.jpg\",\n",
    "    \"image_2.jpg\",\n",
    ")\n",
    "urllib.request.urlretrieve(\n",
    "    \"https://storage.googleapis.com/label-public-staging/Frame/vid2_frame/video2-img000003.jpg\",\n",
    "    \"image_3.jpg\",\n",
    ")"
   ]
  },
  {
   "cell_type": "markdown",
   "metadata": {},
   "source": [
    "Now, let's put them together as one video:"
   ]
  },
  {
   "cell_type": "code",
   "execution_count": null,
   "metadata": {},
   "outputs": [],
   "source": [
    "assets = kili.append_many_to_dataset(\n",
    "    project_id=project_id,\n",
    "    json_content_array=[[\"./image_1.jpg\", \"./image_2.jpg\", \"./image_3.jpg\"]],\n",
    "    external_id_array=[\"video_3_from_local_images\"],\n",
    "    json_metadata_array=[{\"processingParameters\": {\"shouldUseNativeVideo\": False}}],\n",
    ")"
   ]
  },
  {
   "cell_type": "markdown",
   "metadata": {},
   "source": [
    "### Uploading a list of image URLs as one video asset"
   ]
  },
  {
   "cell_type": "markdown",
   "metadata": {},
   "source": [
    "You can of course upload videos using URLs as well. To do so, simply replace `'./test.mp4'` with a set of URLs of images that you want to upload as a video."
   ]
  },
  {
   "cell_type": "code",
   "execution_count": null,
   "metadata": {},
   "outputs": [],
   "source": [
    "url1 = \"https://storage.googleapis.com/label-public-staging/Frame/vid2_frame/video2-img000001.jpg\"\n",
    "url2 = \"https://storage.googleapis.com/label-public-staging/Frame/vid2_frame/video2-img000002.jpg\"\n",
    "url3 = \"https://storage.googleapis.com/label-public-staging/Frame/vid2_frame/video2-img000003.jpg\"\n",
    "\n",
    "assets = kili.append_many_to_dataset(\n",
    "    project_id=project_id,\n",
    "    json_content_array=[[url1, url2, url3]],\n",
    "    external_id_array=[\"video_4_from_image_urls\"],\n",
    "    json_metadata_array=[{\"processingParameters\": {\"shouldUseNativeVideo\": False}}],\n",
    ")"
   ]
  },
  {
   "cell_type": "markdown",
   "metadata": {},
   "source": [
    "### Uploading a video asset with a custom sampling rate"
   ]
  },
  {
   "cell_type": "markdown",
   "metadata": {},
   "source": [
    "To upload a video with a custom sampling rate (let's say, 10 frames per second), use this code:"
   ]
  },
  {
   "cell_type": "code",
   "execution_count": null,
   "metadata": {},
   "outputs": [],
   "source": [
    "assets = kili.append_many_to_dataset(\n",
    "    project_id=project_id,\n",
    "    content_array=[\"./test.mp4\"],\n",
    "    external_id_array=[\"video_5_custom\"],\n",
    "    json_metadata_array=[{\"processingParameters\": {\"framesPlayedPerSecond\": 10}}],\n",
    ")"
   ]
  },
  {
   "cell_type": "markdown",
   "metadata": {},
   "source": [
    "## Cleanup"
   ]
  },
  {
   "cell_type": "markdown",
   "metadata": {},
   "source": [
    "We can remove the project that we created:"
   ]
  },
  {
   "cell_type": "code",
   "execution_count": null,
   "metadata": {},
   "outputs": [],
   "source": [
    "kili.delete_project(project_id);"
   ]
  },
  {
   "cell_type": "markdown",
   "metadata": {},
   "source": [
    "## Summary"
   ]
  },
  {
   "cell_type": "markdown",
   "metadata": {},
   "source": [
    "Done. We've successfully set up a video project, defined its interface, and uploaded a bunch of assets to it, using various Kili's upload methods. Well done!"
   ]
  }
 ],
 "metadata": {
  "language_info": {
   "name": "python"
  }
 },
 "nbformat": 4,
 "nbformat_minor": 4
}
