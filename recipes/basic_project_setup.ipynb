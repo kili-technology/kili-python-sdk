{
 "cells": [
  {
   "attachments": {},
   "cell_type": "markdown",
   "metadata": {},
   "source": [
    "<a href=\"https://colab.research.google.com/github/kili-technology/kili-python-sdk/blob/main/recipes/basic_project_setup.ipynb\" target=\"_parent\"><img src=\"https://colab.research.google.com/assets/colab-badge.svg\" alt=\"Open In Colab\"/></a>"
   ]
  },
  {
   "attachments": {},
   "cell_type": "markdown",
   "metadata": {},
   "source": [
    "# How to set up a basic Kili project"
   ]
  },
  {
   "attachments": {},
   "cell_type": "markdown",
   "metadata": {},
   "source": [
    "In this tutorial, we will learn how to set up a basic Kili project.\n",
    "\n",
    "Here are the steps that we will follow:\n",
    "\n",
    "1. Installing and instantiating Kili\n",
    "2. Creating a basic Kili project\n",
    "3. Adding assets to project\n",
    "4. Adding users to project"
   ]
  },
  {
   "attachments": {},
   "cell_type": "markdown",
   "metadata": {},
   "source": [
    "## Installing and instantiating Kili"
   ]
  },
  {
   "attachments": {},
   "cell_type": "markdown",
   "metadata": {},
   "source": [
    "First, let's install and import the required modules."
   ]
  },
  {
   "cell_type": "code",
   "execution_count": null,
   "metadata": {},
   "outputs": [],
   "source": [
    "%pip install kili"
   ]
  },
  {
   "cell_type": "code",
   "execution_count": null,
   "metadata": {},
   "outputs": [],
   "source": [
    "import os\n",
    "\n",
    "from kili.client import Kili"
   ]
  },
  {
   "attachments": {},
   "cell_type": "markdown",
   "metadata": {},
   "source": [
    "Now, let's set up variables needed to create an instance of the Kili object.\n",
    "\n",
    "We will need your API key and Kili's API endpoint.\n",
    "\n",
    "If you are unsure how to look up your API key, refer to [https://docs.kili-technology.com/docs/creating-an-api-key](https://docs.kili-technology.com/docs/creating-an-api-key)."
   ]
  },
  {
   "cell_type": "code",
   "execution_count": null,
   "metadata": {},
   "outputs": [],
   "source": [
    "kili = Kili(\n",
    "    # api_endpoint=\"https://cloud.kili-technology.com/api/label/v2/graphql\",\n",
    "    # the line above can be uncommented and changed if you are working with an on-premise version of Kili\n",
    ")"
   ]
  },
  {
   "attachments": {},
   "cell_type": "markdown",
   "metadata": {},
   "source": [
    "## Creating a basic Kili project"
   ]
  },
  {
   "attachments": {},
   "cell_type": "markdown",
   "metadata": {},
   "source": [
    "To create a Kili project, you must first set up its interface.\n",
    "\n",
    "We will create a simple image project with just one simple classification job and two categories: `OBJECT_A` and `OBJECT_B`.\n",
    "\n",
    "To learn more about Kili project interfaces, refer to [https://docs.kili-technology.com/docs/customizing-project-interface](https://docs.kili-technology.com/docs/customizing-project-interface)."
   ]
  },
  {
   "cell_type": "code",
   "execution_count": null,
   "metadata": {},
   "outputs": [],
   "source": [
    "interface = {\n",
    "    \"jobs\": {\n",
    "        \"JOB_0\": {\n",
    "            \"mlTask\": \"CLASSIFICATION\",\n",
    "            \"required\": 1,\n",
    "            \"isChild\": False,\n",
    "            \"content\": {\n",
    "                \"categories\": {\"OBJECT_A\": {\"name\": \"Object A\"}, \"OBJECT_B\": {\"name\": \"Object B\"}},\n",
    "                \"input\": \"radio\",\n",
    "            },\n",
    "        }\n",
    "    }\n",
    "}\n",
    "\n",
    "result = kili.create_project(\n",
    "    title=\"[Kili SDK Notebook]: Basic Project Setup\",\n",
    "    description=\"Project Description\",\n",
    "    input_type=\"IMAGE\",\n",
    "    json_interface=interface,\n",
    ")"
   ]
  },
  {
   "attachments": {},
   "cell_type": "markdown",
   "metadata": {},
   "source": [
    "For further processing, we will need to find out what our project ID is.\n",
    "\n",
    "We can easily retrieve it from the project creation response message:"
   ]
  },
  {
   "cell_type": "code",
   "execution_count": null,
   "metadata": {},
   "outputs": [
    {
     "name": "stdout",
     "output_type": "stream",
     "text": [
      "Project ID:  clcun99cn15wx0lq4c15a4dj7\n"
     ]
    }
   ],
   "source": [
    "project_id = result[\"id\"]\n",
    "print(\"Project ID: \", project_id)"
   ]
  },
  {
   "attachments": {},
   "cell_type": "markdown",
   "metadata": {},
   "source": [
    "Now, let's add some assets to be labeled.\n",
    "\n",
    "We will use some free off-the-shelf examples from the Internet."
   ]
  },
  {
   "attachments": {},
   "cell_type": "markdown",
   "metadata": {},
   "source": [
    "## Adding assets to project"
   ]
  },
  {
   "cell_type": "code",
   "execution_count": null,
   "metadata": {},
   "outputs": [],
   "source": [
    "# Image urls\n",
    "url1 = \"https://storage.googleapis.com/label-public-staging/car/car_2.jpg\"\n",
    "url2 = \"https://storage.googleapis.com/label-public-staging/car/car_1.jpg\"\n",
    "url3 = \"https://storage.googleapis.com/label-public-staging/recipes/inference/black_car.jpg\"\n",
    "\n",
    "assets = kili.append_many_to_dataset(\n",
    "    project_id=project_id,\n",
    "    content_array=[url1, url2, url3],\n",
    "    external_id_array=[\"image_1\", \"image_2\", \"image_3\"],\n",
    ")"
   ]
  },
  {
   "attachments": {},
   "cell_type": "markdown",
   "metadata": {},
   "source": [
    "## Adding users to project"
   ]
  },
  {
   "attachments": {},
   "cell_type": "markdown",
   "metadata": {},
   "source": [
    "Now we need to add users to our project. Before we do that, we have to add them to our organization. **Note that you have to be an org admin to be able to do that**.\n",
    "\n",
    "For more info on roles in an organization, refer to [https://docs.kili-technology.com/docs/user-roles-in-organization](https://docs.kili-technology.com/docs/user-roles-in-organization)."
   ]
  },
  {
   "cell_type": "code",
   "execution_count": null,
   "metadata": {},
   "outputs": [
    {
     "name": "stdout",
     "output_type": "stream",
     "text": [
      "error: \"[noOrganizationRights] You cannot use this function because it seems that you do not have access to this organization. Please contact you organization admin. -- This can be due to: User isn't admin from the organization | trace : false\"\n"
     ]
    }
   ],
   "source": [
    "firstname = \"Jane\"\n",
    "lastname = \"Doe\"\n",
    "email = \"no.such.email@no.such.domain.com\"\n",
    "password = \"12345\"\n",
    "organization_role = \"USER\"\n",
    "\n",
    "from kili.exceptions import GraphQLError\n",
    "\n",
    "try:\n",
    "    kili.create_user(email, password, organization_role, firstname, lastname)\n",
    "except GraphQLError as err:\n",
    "    print(str(err))"
   ]
  },
  {
   "attachments": {},
   "cell_type": "markdown",
   "metadata": {},
   "source": [
    "If you already have users in your organization, here's how you can easily access their IDs:\n",
    "\n",
    "1) First, retrieve your organization ID:"
   ]
  },
  {
   "cell_type": "code",
   "execution_count": null,
   "metadata": {},
   "outputs": [],
   "source": [
    "org_id = kili.organizations()[0][\"id\"]"
   ]
  },
  {
   "attachments": {},
   "cell_type": "markdown",
   "metadata": {},
   "source": [
    "2) Then, based on your org ID, retrieve the full list of org users, with their e-mails:"
   ]
  },
  {
   "cell_type": "code",
   "execution_count": null,
   "metadata": {},
   "outputs": [],
   "source": [
    "all_org_users = kili.users(organization_id=org_id)\n",
    "\n",
    "all_emails = [i[\"email\"] for i in all_org_users]"
   ]
  },
  {
   "attachments": {},
   "cell_type": "markdown",
   "metadata": {},
   "source": [
    "3) We will use the e-mail of the new user to add our new user to our project:"
   ]
  },
  {
   "cell_type": "code",
   "execution_count": null,
   "metadata": {},
   "outputs": [
    {
     "name": "stdout",
     "output_type": "stream",
     "text": [
      "{'user': {'id': 'clcumy1fx15ci0lre0k21fnu7', 'email': 'no.such.email@no.such.domain.com'}, 'role': 'LABELER'}\n"
     ]
    }
   ],
   "source": [
    "user = kili.append_to_roles(project_id, \"no.such.email@no.such.domain.com\", role=\"LABELER\")\n",
    "print(user)"
   ]
  },
  {
   "attachments": {},
   "cell_type": "markdown",
   "metadata": {},
   "source": [
    "## Cleanup"
   ]
  },
  {
   "attachments": {},
   "cell_type": "markdown",
   "metadata": {},
   "source": [
    "We can remove the project that we created:"
   ]
  },
  {
   "cell_type": "code",
   "execution_count": null,
   "metadata": {},
   "outputs": [],
   "source": [
    "kili.delete_project(project_id);"
   ]
  },
  {
   "attachments": {},
   "cell_type": "markdown",
   "metadata": {},
   "source": [
    "## Summary"
   ]
  },
  {
   "attachments": {},
   "cell_type": "markdown",
   "metadata": {},
   "source": [
    "Done. We've successfully set up a Kili project, defined its interface, created a brand new user, and finally added our new user to the new project. Well done!"
   ]
  }
 ],
 "metadata": {
  "language_info": {
   "name": "python"
  }
 },
 "nbformat": 4,
 "nbformat_minor": 4
}
