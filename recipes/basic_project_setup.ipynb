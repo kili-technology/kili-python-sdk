{
 "cells": [
  {
   "cell_type": "markdown",
   "metadata": {},
   "source": [
    "# How to set up a basic Kili project"
   ]
  },
  {
   "cell_type": "markdown",
   "metadata": {},
   "source": [
    "In this tutorial, we'll learn how to set up a basic Kili project.\n",
    "\n",
    "Here are the steps that we must follow:\n",
    "\n",
    "1. [Installing and instantiating Kili](#-Installing-and-instantiating-Kili)\n",
    "2. [Creating a basic Kili project](#-Creating-a-basic-Kili-project)\n",
    "3. [Adding assets to project](#-Adding-assets-to-project)\n",
    "4. [Adding users to project](#-Adding-users-to-project)"
   ]
  },
  {
   "cell_type": "markdown",
   "metadata": {},
   "source": [
    "## Installing and instantiating Kili"
   ]
  },
  {
   "cell_type": "markdown",
   "metadata": {},
   "source": [
    "First, let's install and import the required modules."
   ]
  },
  {
   "cell_type": "code",
   "execution_count": 1,
   "metadata": {},
   "outputs": [
    {
     "name": "stdout",
     "output_type": "stream",
     "text": [
      "Requirement already satisfied: kili in /Users/pierreleveau/dev/github.com/kili-technology/kili-python-sdk/src (2.124.3)\n",
      "Collecting kili\n",
      "  Downloading kili-2.125.2-py3-none-any.whl (150 kB)\n",
      "\u001b[K     |████████████████████████████████| 150 kB 8.2 MB/s eta 0:00:01\n",
      "\u001b[?25hRequirement already satisfied: Pillow in /usr/local/Caskroom/miniconda/base/envs/python-sdk/lib/python3.7/site-packages (from kili) (9.3.0)\n",
      "Requirement already satisfied: click in /usr/local/Caskroom/miniconda/base/envs/python-sdk/lib/python3.7/site-packages (from kili) (8.1.3)\n",
      "Requirement already satisfied: typing-extensions>=4.1.0 in /usr/local/Caskroom/miniconda/base/envs/python-sdk/lib/python3.7/site-packages (from kili) (4.2.0)\n",
      "Requirement already satisfied: pyparsing in /usr/local/Caskroom/miniconda/base/envs/python-sdk/lib/python3.7/site-packages (from kili) (3.0.9)\n",
      "Requirement already satisfied: urllib3>=1.26 in /usr/local/Caskroom/miniconda/base/envs/python-sdk/lib/python3.7/site-packages (from kili) (1.26.9)\n",
      "Requirement already satisfied: typeguard in /usr/local/Caskroom/miniconda/base/envs/python-sdk/lib/python3.7/site-packages (from kili) (2.13.3)\n",
      "Requirement already satisfied: pyyaml in /usr/local/Caskroom/miniconda/base/envs/python-sdk/lib/python3.7/site-packages (from kili) (6.0)\n",
      "Requirement already satisfied: tqdm in /usr/local/Caskroom/miniconda/base/envs/python-sdk/lib/python3.7/site-packages (from kili) (4.64.0)\n",
      "Requirement already satisfied: websocket-client in /usr/local/Caskroom/miniconda/base/envs/python-sdk/lib/python3.7/site-packages (from kili) (1.3.2)\n",
      "Requirement already satisfied: cuid in /usr/local/Caskroom/miniconda/base/envs/python-sdk/lib/python3.7/site-packages (from kili) (0.3)\n",
      "Requirement already satisfied: tabulate in /usr/local/Caskroom/miniconda/base/envs/python-sdk/lib/python3.7/site-packages (from kili) (0.8.9)\n",
      "Requirement already satisfied: requests in /usr/local/Caskroom/miniconda/base/envs/python-sdk/lib/python3.7/site-packages (from kili) (2.27.1)\n",
      "Requirement already satisfied: pandas in /usr/local/Caskroom/miniconda/base/envs/python-sdk/lib/python3.7/site-packages (from kili) (1.3.5)\n",
      "Requirement already satisfied: tenacity in /usr/local/Caskroom/miniconda/base/envs/python-sdk/lib/python3.7/site-packages (from kili) (8.1.0)\n",
      "Requirement already satisfied: pydantic in /usr/local/Caskroom/miniconda/base/envs/python-sdk/lib/python3.7/site-packages (from kili) (1.9.2)\n",
      "Requirement already satisfied: importlib-metadata in /usr/local/Caskroom/miniconda/base/envs/python-sdk/lib/python3.7/site-packages (from click->kili) (4.12.0)\n",
      "Requirement already satisfied: zipp>=0.5 in /usr/local/Caskroom/miniconda/base/envs/python-sdk/lib/python3.7/site-packages (from importlib-metadata->click->kili) (3.8.0)\n",
      "Requirement already satisfied: numpy>=1.17.3 in /usr/local/Caskroom/miniconda/base/envs/python-sdk/lib/python3.7/site-packages (from pandas->kili) (1.21.6)\n",
      "Requirement already satisfied: pytz>=2017.3 in /usr/local/Caskroom/miniconda/base/envs/python-sdk/lib/python3.7/site-packages (from pandas->kili) (2022.1)\n",
      "Requirement already satisfied: python-dateutil>=2.7.3 in /usr/local/Caskroom/miniconda/base/envs/python-sdk/lib/python3.7/site-packages (from pandas->kili) (2.8.2)\n",
      "Requirement already satisfied: six>=1.5 in /usr/local/Caskroom/miniconda/base/envs/python-sdk/lib/python3.7/site-packages (from python-dateutil>=2.7.3->pandas->kili) (1.16.0)\n",
      "Requirement already satisfied: charset-normalizer~=2.0.0 in /usr/local/Caskroom/miniconda/base/envs/python-sdk/lib/python3.7/site-packages (from requests->kili) (2.0.12)\n",
      "Requirement already satisfied: certifi>=2017.4.17 in /usr/local/Caskroom/miniconda/base/envs/python-sdk/lib/python3.7/site-packages (from requests->kili) (2022.5.18.1)\n",
      "Requirement already satisfied: idna<4,>=2.5 in /usr/local/Caskroom/miniconda/base/envs/python-sdk/lib/python3.7/site-packages (from requests->kili) (3.3)\n",
      "Installing collected packages: kili\n",
      "  Attempting uninstall: kili\n",
      "    Found existing installation: kili 2.124.3\n",
      "    Uninstalling kili-2.124.3:\n",
      "      Successfully uninstalled kili-2.124.3\n",
      "Successfully installed kili-2.125.2\n"
     ]
    }
   ],
   "source": [
    "!pip install --upgrade kili\n",
    "from kili.client import Kili\n",
    "import getpass"
   ]
  },
  {
   "cell_type": "markdown",
   "metadata": {},
   "source": [
    "Now, let's set up variables needed to create an instance of the Kili object.\n",
    "We'll need your API key and Kili's API endpoint.\n",
    "If you're unsure how to look up your API key, refer to https://docs.kili-technology.com/docs/creating-an-api-key."
   ]
  },
  {
   "cell_type": "code",
   "execution_count": 3,
   "metadata": {},
   "outputs": [],
   "source": [
    "KILI_API_KEY = getpass.getpass(\"Please enter your API key: \")"
   ]
  },
  {
   "cell_type": "markdown",
   "metadata": {},
   "source": [
    "With variables set up, we can now create an instance of the Kili object."
   ]
  },
  {
   "cell_type": "code",
   "execution_count": 4,
   "metadata": {},
   "outputs": [],
   "source": [
    "kili = Kili(\n",
    "    api_key=KILI_API_KEY,\n",
    "    # api_endpoint=\"https://cloud.kili-technology.com/api/label/v2/graphql\",\n",
    "    # the line above can be uncommented and changed if you are working with an on-premise version of Kili\n",
    ")"
   ]
  },
  {
   "cell_type": "markdown",
   "metadata": {},
   "source": [
    "## Creating a basic Kili project"
   ]
  },
  {
   "cell_type": "markdown",
   "metadata": {},
   "source": [
    "To create a Kili project, you must first set up its interface.\n",
    "We'll create a simple image project with just one simple classification job and two categories: `OBJECT_A` and `OBJECT_B`.\n",
    "\n",
    "To learn more about Kili project interfaces, refer to https://docs.kili-technology.com/docs/customizing-project-interface"
   ]
  },
  {
   "cell_type": "code",
   "execution_count": 5,
   "metadata": {},
   "outputs": [],
   "source": [
    "interface = {\n",
    "    \"jobs\": {\n",
    "        \"JOB_0\": {\n",
    "            \"mlTask\": \"CLASSIFICATION\",\n",
    "            \"required\": 1,\n",
    "            \"content\": {\n",
    "                \"categories\": {\"OBJECT_A\": {\"name\": \"Object A\"}, \"OBJECT_B\": {\"name\": \"Object B\"}},\n",
    "                \"input\": \"radio\",\n",
    "            },\n",
    "        }\n",
    "    }\n",
    "}\n",
    "\n",
    "result = kili.create_project(\n",
    "    title=\"Test Project\",\n",
    "    description=\"Project Description\",\n",
    "    input_type=\"IMAGE\",\n",
    "    json_interface=interface,\n",
    ")"
   ]
  },
  {
   "cell_type": "markdown",
   "metadata": {},
   "source": [
    "For further processing, we'll need to find out what our project ID is. We can easily retrieve it from the project creation response message."
   ]
  },
  {
   "cell_type": "code",
   "execution_count": 6,
   "metadata": {},
   "outputs": [],
   "source": [
    "project_id = result[\"id\"]"
   ]
  },
  {
   "cell_type": "markdown",
   "metadata": {},
   "source": [
    "Now, let's add some assets to be labeled. We'll use some free off-the-shelf examples from the Internet."
   ]
  },
  {
   "cell_type": "markdown",
   "metadata": {},
   "source": [
    "## Adding assets to project"
   ]
  },
  {
   "cell_type": "code",
   "execution_count": 7,
   "metadata": {},
   "outputs": [
    {
     "name": "stderr",
     "output_type": "stream",
     "text": [
      "100%|██████████| 3/3 [00:00<00:00,  6.21it/s]\n"
     ]
    }
   ],
   "source": [
    "# Image url\n",
    "url1 = \"https://images.unsplash.com/photo-1546069901-ba9599a7e63c?ixlib=rb-4.0.3&ixid=MnwxMjA3fDB8MHxwaG90by1wYWdlfHx8fGVufDB8fHx8&auto=format&fit=crop&w=1480&q=80\"\n",
    "url2 = \"https://images.unsplash.com/photo-1565958011703-44f9829ba187?ixlib=rb-4.0.3&ixid=MnwxMjA3fDB8MHxwaG90by1wYWdlfHx8fGVufDB8fHx8&auto=format&fit=crop&w=1065&q=80\"\n",
    "url3 = \"https://images.unsplash.com/photo-1609951651556-5334e2706168?ixlib=rb-4.0.3&ixid=MnwxMjA3fDB8MHxwaG90by1wYWdlfHx8fGVufDB8fHx8&auto=format&fit=crop&w=987&q=80\"\n",
    "\n",
    "assets = kili.append_many_to_dataset(\n",
    "    project_id=project_id,\n",
    "    content_array=[url1, url2, url3],\n",
    "    external_id_array=[\"image_1\", \"image_2\", \"image_3\"],\n",
    ")"
   ]
  },
  {
   "cell_type": "markdown",
   "metadata": {},
   "source": [
    "## Adding users to project"
   ]
  },
  {
   "cell_type": "markdown",
   "metadata": {},
   "source": [
    "Now we need to add users to our project. Before we do that, we have to add them to our organization. **Note that you have to be an org admin to be able to do that**.\n",
    "For more info on roles in an organization, refer to https://docs.kili-technology.com/docs/user-roles-in-organization."
   ]
  },
  {
   "cell_type": "code",
   "execution_count": null,
   "metadata": {},
   "outputs": [],
   "source": [
    "firstname = \"Jane\"\n",
    "lastname = \"Doe\"\n",
    "email = \"no.such.email@no.such.domain.com\"\n",
    "password = \"12345\"\n",
    "organization_role = \"USER\"\n",
    "\n",
    "response = kili.create_user(email, password, organization_role, firstname, lastname)"
   ]
  },
  {
   "cell_type": "markdown",
   "metadata": {},
   "source": [
    "If you already have users in your organization, here's how you can easily access their IDs:\n",
    "First, retrieve your organization ID:"
   ]
  },
  {
   "cell_type": "code",
   "execution_count": 9,
   "metadata": {},
   "outputs": [
    {
     "name": "stderr",
     "output_type": "stream",
     "text": [
      "100%|██████████| 1/1 [00:00<00:00,  2.06it/s]\n"
     ]
    },
    {
     "data": {
      "text/plain": [
       "[{'id': 'cjx0vz05w0tmq08390mrl76bd', 'name': 'Kili Technology'}]"
      ]
     },
     "execution_count": 9,
     "metadata": {},
     "output_type": "execute_result"
    }
   ],
   "source": [
    "kili.organizations()"
   ]
  },
  {
   "cell_type": "markdown",
   "metadata": {},
   "source": [
    "Then, based on your org ID, retrieve the full list of org users, with their e-mails:"
   ]
  },
  {
   "cell_type": "code",
   "execution_count": 11,
   "metadata": {},
   "outputs": [
    {
     "name": "stderr",
     "output_type": "stream",
     "text": [
      "100%|██████████| 393/393 [00:01<00:00, 323.80it/s]\n"
     ]
    }
   ],
   "source": [
    "all_org_users = kili.users(organization_id=\"cjx0vz05w0tmq08390mrl76bd\")\n",
    "\n",
    "all_emails = [i[\"email\"] for i in all_org_users]"
   ]
  },
  {
   "cell_type": "markdown",
   "metadata": {},
   "source": [
    "We'll use the e-mail of the new user to add our new user to our project:"
   ]
  },
  {
   "cell_type": "code",
   "execution_count": null,
   "metadata": {},
   "outputs": [],
   "source": [
    "kili.append_to_roles(project_id, \"no.such.email@no.such.domain.com\", role=\"LABELER\")"
   ]
  },
  {
   "cell_type": "markdown",
   "metadata": {},
   "source": [
    "## Cleanup"
   ]
  },
  {
   "cell_type": "markdown",
   "metadata": {},
   "source": [
    "To clean up, we need to simply remove the project that we created."
   ]
  },
  {
   "cell_type": "code",
   "execution_count": null,
   "metadata": {},
   "outputs": [],
   "source": [
    "kili.delete_project(project_id)"
   ]
  },
  {
   "cell_type": "markdown",
   "metadata": {},
   "source": [
    "## Summary"
   ]
  },
  {
   "cell_type": "markdown",
   "metadata": {},
   "source": [
    "Done. We've successfully set up a Kili project, defined its interface, created a brand new user, and finally added our new user to the new project. Well done!"
   ]
  }
 ],
 "metadata": {
  "kernelspec": {
   "display_name": "Python 3.7.13 ('python-sdk')",
   "language": "python",
   "name": "python3"
  },
  "language_info": {
   "codemirror_mode": {
    "name": "ipython",
    "version": 3
   },
   "file_extension": ".py",
   "mimetype": "text/x-python",
   "name": "python",
   "nbconvert_exporter": "python",
   "pygments_lexer": "ipython3",
   "version": "3.7.13"
  },
  "orig_nbformat": 4,
  "vscode": {
   "interpreter": {
    "hash": "de396e6bb0ca1b0abec04a877b6eb6711952a215fc7f5dc02d30f83999f7a5a6"
   }
  }
 },
 "nbformat": 4,
 "nbformat_minor": 2
}
