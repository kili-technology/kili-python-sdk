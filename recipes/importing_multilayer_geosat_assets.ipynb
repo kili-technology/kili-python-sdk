{
 "cells": [
  {
   "cell_type": "markdown",
   "metadata": {},
   "source": [
    "<a href=\"https://colab.research.google.com/github/kili-technology/kili-python-sdk/blob/main/recipes/importing_multilayer_geosat_assets.ipynb\" target=\"_parent\"><img src=\"https://colab.research.google.com/assets/colab-badge.svg\" alt=\"Open In Colab\"/></a>"
   ]
  },
  {
   "cell_type": "markdown",
   "metadata": {},
   "source": [
    "# How to import multi-layer geosat assets to a Kili project\n",
    "\n",
    "In this tutorial, we will learn how to import multi-layer geosat assets to your project.\n",
    "\n",
    "Here are the steps that we will follow:\n",
    "\n",
    "1. Setting up an image project.\n",
    "2. Importing some multi-layer assets to Kili with GEOTIFFs and layers from a public tile server.\n",
    "\n",
    "## Setting up a Kili image project to work with\n",
    "\n",
    "### Installing and instantiating Kili\n",
    "\n",
    "First, let's install and import the required modules."
   ]
  },
  {
   "cell_type": "code",
   "execution_count": null,
   "metadata": {},
   "outputs": [],
   "source": [
    "%pip install kili"
   ]
  },
  {
   "cell_type": "code",
   "execution_count": null,
   "metadata": {},
   "outputs": [],
   "source": [
    "from kili.client import Kili"
   ]
  },
  {
   "cell_type": "markdown",
   "metadata": {},
   "source": [
    "Now, let's set up variables needed to create an instance of the Kili object.\n",
    "\n",
    "We will need your API key and Kili's API endpoint.\n",
    "\n",
    "If you are unsure how to look up your API key, refer to [https://docs.kili-technology.com/docs/creating-an-api-key](https://docs.kili-technology.com/docs/creating-an-api-key)."
   ]
  },
  {
   "cell_type": "code",
   "execution_count": null,
   "metadata": {},
   "outputs": [],
   "source": [
    "api_key = \"YOUR_API_KEY\"\n",
    "api_endpoint = \"https://cloud.kili-technology.com/api/label/v2/graphql\"\n",
    "kili = Kili(\n",
    "    # api_endpoint=api_endpoint, api_key=api_key, verify=True\n",
    "    # the line above can be uncommented and changed if you are working with an on-premise version of Kili\n",
    ")"
   ]
  },
  {
   "cell_type": "markdown",
   "metadata": {},
   "source": [
    "### Creating an image Kili project\n",
    "\n",
    "To create an IMAGE Kili project, you must first set up its ontology.\n",
    "\n",
    "Here, we will only add a classification task:"
   ]
  },
  {
   "cell_type": "code",
   "execution_count": null,
   "metadata": {},
   "outputs": [],
   "source": [
    "interface = {\n",
    "    \"jobs\": {\n",
    "        \"OBJECT_DETECTION_JOB\": {\n",
    "            \"content\": {\n",
    "                \"categories\": {\n",
    "                    \"PLANE\": {\n",
    "                        \"children\": [],\n",
    "                        \"color\": \"#472CED\",\n",
    "                        \"name\": \"Plane\",\n",
    "                        \"id\": \"category3\",\n",
    "                    }\n",
    "                },\n",
    "                \"input\": \"radio\",\n",
    "            },\n",
    "            \"instruction\": \"BBOX\",\n",
    "            \"mlTask\": \"OBJECT_DETECTION\",\n",
    "            \"required\": 0,\n",
    "            \"tools\": [\"rectangle\"],\n",
    "            \"isChild\": False,\n",
    "            \"isNew\": False,\n",
    "        }\n",
    "    }\n",
    "}\n",
    "\n",
    "project = kili.create_project(\n",
    "    title=\"[Kili SDK Notebook]: Importing multi-layer Geosatellite asset\",\n",
    "    description=\"Project Description\",\n",
    "    input_type=\"IMAGE\",\n",
    "    json_interface=interface,\n",
    ")"
   ]
  },
  {
   "cell_type": "markdown",
   "metadata": {},
   "source": [
    "## Importing your assets\n",
    "\n",
    "### Download geotiff file examples\n",
    "\n",
    "Before adding assets you need to download our geotiff examples and add them in a geosat folder, created in the same folder as where you run your python script. It is mandatory to use local files and not urls for geosatellite files."
   ]
  },
  {
   "cell_type": "code",
   "execution_count": null,
   "metadata": {},
   "outputs": [],
   "source": [
    "import os\n",
    "import urllib.request\n",
    "\n",
    "if not os.path.exists(\"geosat\"):\n",
    "    os.makedirs(\"geosat\")\n",
    "urllib.request.urlretrieve(\n",
    "    \"https://storage.googleapis.com/label-public-staging/asset-test-sample/geosat/a.tiff\",\n",
    "    \"geosat/a.tiff\",\n",
    ")\n",
    "urllib.request.urlretrieve(\n",
    "    \"https://storage.googleapis.com/label-public-staging/asset-test-sample/geosat/b.tiff\",\n",
    "    \"geosat/b.tiff\",\n",
    ")"
   ]
  },
  {
   "cell_type": "markdown",
   "metadata": {},
   "source": [
    "### Add Multi-Layer assets to your project\n",
    "\n",
    "You can now add assets. Here is an example to add 2 geotiffs and a public layer coming from the openstreetmap tile server."
   ]
  },
  {
   "cell_type": "code",
   "execution_count": null,
   "metadata": {},
   "outputs": [],
   "source": [
    "project_id = project[\"id\"]\n",
    "json_metadata_array = [{\"processingParameters\": {\"epsg\": 3857}}]\n",
    "multi_layer_content_array = [\n",
    "    [\n",
    "        {\n",
    "            \"path\": \"geosat/a.tiff\",\n",
    "            \"name\": \"Layer 1\",\n",
    "            \"isBaseLayer\": False,\n",
    "        },\n",
    "        {\n",
    "            \"path\": \"geosat/b.tiff\",\n",
    "            \"name\": \"Layer 2\",\n",
    "            \"isBaseLayer\": False,\n",
    "        },\n",
    "    ],\n",
    "]\n",
    "json_content_array = [\n",
    "    [\n",
    "        {\n",
    "            \"name\": \"osm\",\n",
    "            \"tileLayerUrl\": \"https://b.tile.openstreetmap.org/{z}/{x}/{y}.png\",\n",
    "            \"epsg\": \"EPSG3857\",\n",
    "            \"bounds\": [\n",
    "                [11.17010498046875, 44.308941579503745],\n",
    "                [13.67478942871094, 46.542667432984864],\n",
    "            ],\n",
    "            \"useClassicCoordinates\": False,\n",
    "            \"minZoom\": 10,\n",
    "            \"maxZoom\": 18,\n",
    "            \"isBaseLayer\": True,\n",
    "        }\n",
    "    ]\n",
    "]\n",
    "\n",
    "kili.append_many_to_dataset(\n",
    "    project_id=project_id,\n",
    "    multi_layer_content_array=multi_layer_content_array,\n",
    "    json_metadata_array=json_metadata_array,\n",
    "    json_content_array=json_content_array,\n",
    ")"
   ]
  },
  {
   "cell_type": "markdown",
   "metadata": {},
   "source": [
    "In this example 4 arguments are used for the `append_many_to_dataset` function :\n",
    "\n",
    "1. `project_id`: the id of the project to which you want to add the asset\n",
    "1. `multi_layer_content_array`: it is a list of dictionnaries representing the layers created from geosatellite files like GEOTIFFS. For each GEOTIFF you have to set the `path` to the GEOTIFF, the `name` that will be used in kili for the layer and the boolean `isBaseLayer` to define if it's a base layer (only one visible at a time) or an overlay layer (a layer that will be displayed on top of the base layer). This last one is optional and by default if no parameter is set, we consider it is a base layer.\n",
    "1. `json_metadata_array`: This one contains the processing parameters that will be used when processing the files. 3 parameters can be set there :\n",
    "    1. `epsg`: This one defines the projection (<https://en.wikipedia.org/wiki/EPSG_Geodetic_Parameter_Dataset>) to which we will reproject the dataset. Our frontend supports only two projections : `EPSG:4326` and `EPSG:3857`. If this parameter is not set we will keep the projection of the initial file if it is one of these two, else we will reproject it by default to `EPSG:3857`. By default, we advise to not set this parameter but if you need to use your GEOTIFFS with some tile server (as with openstreetmap here) you will need to reproject it to the same EPSG as the one used by the tile server as our application supports only one EPSG for the whole asset. For your information most of the well known tile server (openstreetmap, googlemaps, etc) are using `EPSG:3857`.\n",
    "    1. `maxZoom` and `minZoom`: these defines limits of zoom for your GEOTIFF files. This is especially useful for files that will be tiled by our server (file size > 30MB). By default we generate all the zooms until the one of the original file but if you want to limit to specific zoom levels you can constrain them with these parameters.\n",
    "1. `json_content_array`: It has to be used when you need to add public tile layers to your asset. You can find the same arguments as for GEOTIFF layers `name`, `minZoom`, `maxZoom`, `isBaseLayer`. You also need to specify the `epsg` but with the format `EPSG{number}` (this one correspond to the EPSG used by the tile server, we will not reproject anything). And then, you have to provide the url to the tile server with the parameter `tileLayerUrl` and the `bounds`, corresponding to the minimum and maximum latitude and longitude for which you want to request tiles (use the following format `[[min_lng, min_lat],[max_lng, max_lat]]`). Finally, the `useClassicCoordinates: False` has always to be provided to explain that geospatial coordinates are used.\n",
    "\n",
    "## Cleanup\n",
    "\n",
    "We can remove the project that we created if needed:"
   ]
  },
  {
   "cell_type": "code",
   "execution_count": null,
   "metadata": {},
   "outputs": [],
   "source": [
    "kili.delete_project(project_id)"
   ]
  }
 ],
 "metadata": {
  "language_info": {
   "name": "python"
  }
 },
 "nbformat": 4,
 "nbformat_minor": 2
}
