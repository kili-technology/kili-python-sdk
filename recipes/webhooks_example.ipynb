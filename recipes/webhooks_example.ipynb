{
 "cells": [
  {
   "cell_type": "markdown",
   "id": "4e8a4f56-2e71-4680-904c-55c80bc7b0d6",
   "metadata": {},
   "source": [
    "<a href=\"https://colab.research.google.com/github/kili-technology/kili-python-sdk/blob/master/recipes/plugins_example.ipynb\" target=\"_parent\"><img src=\"https://colab.research.google.com/assets/colab-badge.svg\" alt=\"Open In Colab\"/></a>"
   ]
  },
  {
   "attachments": {},
   "cell_type": "markdown",
   "id": "628e9dba",
   "metadata": {},
   "source": [
    "# How to develop a Kili Webhook - example"
   ]
  },
  {
   "attachments": {},
   "cell_type": "markdown",
   "id": "b06a48a2",
   "metadata": {},
   "source": [
    "## Context\n",
    "\n",
    "This notebook is an end-to-end example that you can follow to: create a project, register a first webhook and activate it on this project for the corresponding events in Kili. For more info on available events, please refer to [the doc](https://python-sdk-docs.kili-technology.com/2.129/sdk/plugins/)\n",
    "\n",
    "Webhooks are really similar to the plugins, except they are self hosted, and will require a webservice deployed on your premise, callable by Kili (You can implement a header-based security).\n",
    "If you are a Europe SaaS user, plugins & webhooks are available for paying-customers in beta for now. \n",
    "If you are a US/ On Premise customer, only webhooks are available as of version 1.128.0.\n",
    "\n",
    "Webhook allow you to easily access your custom code, manage the CI/CD of the version of the plugin deployed, & easily integrate with your own stack.\n",
    "If you are looking for a more of-the-shelf capability, you can have a look at `plugin_development` notebook\n",
    "\n",
    "**NB: The webhook capabilities of Kili are under active development, and compatible with version 2.128.0 and later of Kili. Don't hesitate to reach out via Github or the Kili support to provide feedback.**\n"
   ]
  },
  {
   "cell_type": "markdown",
   "id": "32b7bb39",
   "metadata": {},
   "source": [
    "## Step 1: Instantiate Kili"
   ]
  },
  {
   "cell_type": "code",
   "execution_count": null,
   "id": "2de776ee-17cf-41c7-a4d3-08af802f7e0f",
   "metadata": {},
   "outputs": [],
   "source": [
    "!pip install kili"
   ]
  },
  {
   "cell_type": "code",
   "execution_count": null,
   "id": "751f4b11",
   "metadata": {},
   "outputs": [],
   "source": [
    "from kili.client import Kili\n",
    "import os\n",
    "\n",
    "kili = Kili()"
   ]
  },
  {
   "cell_type": "markdown",
   "id": "7063407a",
   "metadata": {},
   "source": [
    "## Step 2: Create the project\n",
    "\n",
    "First, we need to create a new project. In our example, we will use an `IMAGE` type project with the following `jsonInterace`:"
   ]
  },
  {
   "cell_type": "code",
   "execution_count": null,
   "id": "cc56bc57",
   "metadata": {},
   "outputs": [],
   "source": [
    "json_interface = {\n",
    "    \"jobs\": {\n",
    "        \"JOB_0\": {\n",
    "            \"content\": {\n",
    "                \"categories\": {\n",
    "                    \"OBJECT_A\": {\n",
    "                        \"children\": [],\n",
    "                        \"name\": \"Object A\",\n",
    "                        \"color\": \"#733AFB\",\n",
    "                        \"id\": \"category1\",\n",
    "                    },\n",
    "                    \"OBJECT_B\": {\n",
    "                        \"children\": [],\n",
    "                        \"name\": \"Object B\",\n",
    "                        \"color\": \"#3CD876\",\n",
    "                        \"id\": \"category2\",\n",
    "                    },\n",
    "                },\n",
    "                \"input\": \"radio\",\n",
    "            },\n",
    "            \"instruction\": \"Categories\",\n",
    "            \"isChild\": False,\n",
    "            \"tools\": [\"rectangle\"],\n",
    "            \"mlTask\": \"OBJECT_DETECTION\",\n",
    "            \"models\": {},\n",
    "            \"isVisible\": True,\n",
    "            \"required\": 1,\n",
    "            \"isNew\": False,\n",
    "        }\n",
    "    }\n",
    "}"
   ]
  },
  {
   "cell_type": "code",
   "execution_count": null,
   "id": "b4ef53d4",
   "metadata": {},
   "outputs": [],
   "source": [
    "title = \"Webhooks test project\"\n",
    "description = \"My first project with a webhook\"\n",
    "input_type = \"IMAGE\"\n",
    "\n",
    "project = kili.create_project(\n",
    "    title=title, description=description, input_type=input_type, json_interface=json_interface\n",
    ")\n",
    "project_id = project[\"id\"]\n",
    "\n",
    "print(f\"Created project {project_id}\")"
   ]
  },
  {
   "cell_type": "markdown",
   "id": "8c08ec23-87e4-40ae-a94c-72adae734907",
   "metadata": {},
   "source": [
    "Upload an asset:"
   ]
  },
  {
   "cell_type": "code",
   "execution_count": null,
   "id": "1fa60ef6",
   "metadata": {},
   "outputs": [],
   "source": [
    "content_array = [\"https://storage.googleapis.com/label-public-staging/car/car_1.jpg\"]\n",
    "names_array = [\"landscape2\"]\n",
    "\n",
    "kili.append_many_to_dataset(\n",
    "    project_id=project_id,\n",
    "    content_array=content_array,\n",
    "    external_id_array=names_array,\n",
    "    disable_tqdm=True,\n",
    ")\n",
    "\n",
    "asset_id = list(kili.assets(project_id=project_id, fields=[\"id\"], disable_tqdm=True))[0][\"id\"]"
   ]
  },
  {
   "cell_type": "markdown",
   "id": "4d8490f2",
   "metadata": {},
   "source": [
    "This project has one job of bounding box creation with two categories.\n",
    "\n",
    "With our plugin, we want to make sure that the labelers don't create more than one bounding box of category A.\n",
    "\n",
    "To iterate on the plugin code, you can refer to the plugins_development.ipynb notebook."
   ]
  },
  {
   "attachments": {},
   "cell_type": "markdown",
   "id": "67e3ab74",
   "metadata": {},
   "source": [
    "## Step 3: Write & host the webhook\n",
    "\n",
    "The webhook rely on the same handlers provided by the plugins. For maximum compatibility, we encourage you to define it with the same base class. Below is an example with FastAPI webservice.\n",
    "\n",
    "```python\n",
    "# file plugin.py\n",
    "from kili.plugins import PluginCore\n",
    "from typing import Dict\n",
    "\n",
    "def check_rules_on_label(label: Dict):\n",
    "    #custom methods \n",
    "    print('Custom method - checking number of bboxes')\n",
    "\n",
    "    counter = 0\n",
    "    for annotation in label['jsonResponse'][\"JOB_0\"][\"annotations\"]:\n",
    "        if annotation[\"categories\"][0][\"name\"] == \"OBJECT_A\":\n",
    "            counter += 1\n",
    "\n",
    "    if counter == 0:\n",
    "        return []\n",
    "    return [f'There are too many BBox ({counter}) - Only 1 BBox of Object A accepted']\n",
    "\n",
    "class PluginHandler(PluginCore):\n",
    "    \"\"\"\n",
    "    Custom plugin instance\n",
    "    \"\"\"\n",
    "\n",
    "    def on_submit(self, label: Dict, asset_id: str) -> None:\n",
    "        \"\"\"\n",
    "        Dedicated handler for Submit action \n",
    "        \"\"\"\n",
    "        self.logger.info(\"On submit called\")\n",
    "\n",
    "        issues_array = check_rules_on_label(label)\n",
    "\n",
    "        project_id = self.project_id\n",
    "\n",
    "        if len(issues_array) > 0:\n",
    "            print(\"Creating an issue...\")\n",
    "\n",
    "            for i, _ in enumerate(issues_array):\n",
    "\n",
    "                self.kili.append_to_issues(\n",
    "                    label_id=label['id'],\n",
    "                    project_id=project_id,\n",
    "                    text=issues_array[i],\n",
    "                )\n",
    "\n",
    "            print(\"Issue created!\")\n",
    "\n",
    "            self.kili.send_back_to_queue(asset_ids=[asset_id])\n",
    "\n",
    "```"
   ]
  },
  {
   "attachments": {},
   "cell_type": "markdown",
   "id": "57b991ca",
   "metadata": {},
   "source": [
    "You will need to deploy this on your premise for this to work. Easy solutions are [FastAPI](https://fastapi.tiangolo.com/), with a few lines of codes.\n",
    "For this demo, we will use https://webhook.site that will allow us to explore the payload of the calls.\n",
    "\n",
    "```python\n",
    "# file main.py\n",
    "from fastapi import FastAPI\n",
    "from .plugin import PluginHandler\n",
    "\n",
    "app = FastAPI()\n",
    "kili = Kili()\n",
    "\n",
    "@app.post(\"/\")\n",
    "def main(raw_payload):\n",
    "    event_type = raw_payload.get('eventType')\n",
    "    project_id = raw_payload.get('logPayload').get('projectId')\n",
    "\n",
    "    if (not project_id):\n",
    "        print('Invalid projectId')\n",
    "        return\n",
    "    \n",
    "    plugin = PluginHandler(kili, project_id)\n",
    "\n",
    "    if (not event_type):\n",
    "        print('Invalid event')\n",
    "        return\n",
    "\n",
    "    payload = raw_payload.get('payload')\n",
    "    label = payload.get('label')\n",
    "    asset_id = payload.get('asset_id')\n",
    "    \n",
    "    if (event_type == 'onSubmit'):\n",
    "        plugin.on_submit(label, asset_id)\n",
    "\n",
    "    if (event_type == 'onReview'):\n",
    "        plugin.on_review(label, asset_id)\n",
    "\n",
    "```"
   ]
  },
  {
   "attachments": {},
   "cell_type": "markdown",
   "id": "1022571a",
   "metadata": {},
   "source": [
    "## Step 4: Register & activate the webhook"
   ]
  },
  {
   "cell_type": "code",
   "execution_count": null,
   "id": "d25e7851",
   "metadata": {},
   "outputs": [],
   "source": [
    "from kili.exceptions import GraphQLError\n",
    "import requests\n",
    "\n",
    "\n",
    "# we get a new webhook listener\n",
    "res = requests.post(\"https://webhook.site/token\")\n",
    "uuid = res.json()[\"uuid\"]\n",
    "webhook_url_from_browser = f\"https://webhook.site/#!/{uuid}\"\n",
    "\n",
    "webhook_name = \"Webhook bbox count\"\n",
    "webhook_url = f\"https://webhook.site/{uuid}\"\n",
    "print(webhook_url_from_browser)\n",
    "webhook_security_header = \"custom header\"\n",
    "\n",
    "try:\n",
    "    kili.create_webhook(\n",
    "        plugin_name=webhook_name, webhook_url=webhook_url, header=webhook_security_header\n",
    "    )\n",
    "except GraphQLError as error:\n",
    "    print(str(error))"
   ]
  },
  {
   "cell_type": "code",
   "execution_count": null,
   "id": "2863c921-f2e6-4e7e-92e4-387747bd1582",
   "metadata": {},
   "outputs": [],
   "source": [
    "kili.activate_plugin_on_project(plugin_name=webhook_name, project_id=project_id)"
   ]
  },
  {
   "attachments": {},
   "cell_type": "markdown",
   "id": "76e1c0cf",
   "metadata": {},
   "source": [
    "**Note**: Similar to plugins, you have access to the methods `kili.update_webhook` & `kili.deactivate_plugin_on_project` for iterations on your code."
   ]
  },
  {
   "attachments": {},
   "cell_type": "markdown",
   "id": "9402cd78",
   "metadata": {},
   "source": [
    "## Step 5: Webhook in action\n",
    "\n",
    "After that, you can test it by labelling in the Kili interface or just by uploading the following label.\n",
    "\n",
    "When you add the label that contains errors, you will see a new issue automatically created in the Kili app, if you have deployed the webhook.\n",
    "Else, you can visit the webhook site to check incoming events."
   ]
  },
  {
   "cell_type": "code",
   "execution_count": null,
   "id": "659dda38",
   "metadata": {},
   "outputs": [],
   "source": [
    "json_response = {\n",
    "    \"JOB_0\": {\n",
    "        \"annotations\": [\n",
    "            {\n",
    "                \"boundingPoly\": [\n",
    "                    {\n",
    "                        \"normalizedVertices\": [\n",
    "                            {\"x\": 0.15, \"y\": 0.84},\n",
    "                            {\"x\": 0.15, \"y\": 0.31},\n",
    "                            {\"x\": 0.82, \"y\": 0.31},\n",
    "                            {\"x\": 0.82, \"y\": 0.84},\n",
    "                        ]\n",
    "                    }\n",
    "                ],\n",
    "                \"categories\": [{\"name\": \"OBJECT_A\"}],\n",
    "                \"children\": {},\n",
    "                \"mid\": \"20221124161451411-13314\",\n",
    "                \"type\": \"rectangle\",\n",
    "            },\n",
    "            {\n",
    "                \"boundingPoly\": [\n",
    "                    {\n",
    "                        \"normalizedVertices\": [\n",
    "                            {\"x\": 0.79, \"y\": 0.20},\n",
    "                            {\"x\": 0.79, \"y\": 0.13},\n",
    "                            {\"x\": 0.91, \"y\": 0.13},\n",
    "                            {\"x\": 0.91, \"y\": 0.20},\n",
    "                        ]\n",
    "                    }\n",
    "                ],\n",
    "                \"categories\": [{\"name\": \"OBJECT_A\"}],\n",
    "                \"children\": {},\n",
    "                \"mid\": \"20221124161456406-47055\",\n",
    "                \"type\": \"rectangle\",\n",
    "            },\n",
    "            {\n",
    "                \"boundingPoly\": [\n",
    "                    {\n",
    "                        \"normalizedVertices\": [\n",
    "                            {\"x\": 0.87, \"y\": 0.36},\n",
    "                            {\"x\": 0.87, \"y\": 0.27},\n",
    "                            {\"x\": 0.99, \"y\": 0.27},\n",
    "                            {\"x\": 0.99, \"y\": 0.36},\n",
    "                        ]\n",
    "                    }\n",
    "                ],\n",
    "                \"categories\": [{\"name\": \"OBJECT_A\"}],\n",
    "                \"children\": {},\n",
    "                \"mid\": \"20221124161459298-45160\",\n",
    "                \"type\": \"rectangle\",\n",
    "            },\n",
    "        ]\n",
    "    }\n",
    "}"
   ]
  },
  {
   "cell_type": "code",
   "execution_count": null,
   "id": "185c0155",
   "metadata": {},
   "outputs": [],
   "source": [
    "kili.append_labels(\n",
    "    json_response_array=[json_response], asset_id_array=[asset_id], label_type=\"DEFAULT\"\n",
    ")"
   ]
  },
  {
   "attachments": {},
   "cell_type": "markdown",
   "id": "0586bbf0",
   "metadata": {},
   "source": [
    "If you used & hosted the base webhook provided, the webhook should:\n",
    "\n",
    " - Create an issue with information that three bboxes were found, instead of one\n",
    " - Send the asset back to the labeling queue (status `ONGOING`)\n",
    "\n",
    "If you haven't just yet, you can still visit the address here : "
   ]
  },
  {
   "cell_type": "code",
   "execution_count": null,
   "id": "44657eb7",
   "metadata": {},
   "outputs": [],
   "source": [
    "print(f\"Go to my webhook: {webhook_url_from_browser}\")"
   ]
  },
  {
   "cell_type": "markdown",
   "id": "b79dabf4",
   "metadata": {},
   "source": [
    "Woah! Amazing! Well done :) 🚀\n",
    "\n",
    "Let's test now to post a proper label, this one for example:"
   ]
  },
  {
   "cell_type": "code",
   "execution_count": null,
   "id": "65521b13",
   "metadata": {},
   "outputs": [],
   "source": [
    "json_response = {\n",
    "    \"JOB_0\": {\n",
    "        \"annotations\": [\n",
    "            {\n",
    "                \"boundingPoly\": [\n",
    "                    {\n",
    "                        \"normalizedVertices\": [\n",
    "                            {\"x\": 0.15, \"y\": 0.84},\n",
    "                            {\"x\": 0.15, \"y\": 0.31},\n",
    "                            {\"x\": 0.82, \"y\": 0.31},\n",
    "                            {\"x\": 0.82, \"y\": 0.84},\n",
    "                        ]\n",
    "                    }\n",
    "                ],\n",
    "                \"categories\": [{\"name\": \"OBJECT_A\"}],\n",
    "                \"children\": {},\n",
    "                \"mid\": \"20221124161451411-13314\",\n",
    "                \"type\": \"rectangle\",\n",
    "            }\n",
    "        ]\n",
    "    }\n",
    "}\n",
    "kili.append_labels(\n",
    "    json_response_array=[json_response], asset_id_array=[asset_id], label_type=\"DEFAULT\"\n",
    ")\n",
    "\n",
    "print(f\"Go to my webhook: {webhook_url_from_browser}\")"
   ]
  },
  {
   "attachments": {},
   "cell_type": "markdown",
   "id": "d9ecedd5",
   "metadata": {},
   "source": [
    "The status of your asset should have now changed to `LABELED`. In this webhook, previous issues remain but you can solve them through the API as well.\n",
    "\n",
    "Well done! You can now iterate on the script. To learn how to avoid latency when building and deploying your plugin, refer to the *plugins_development.ipynb* tutorial."
   ]
  }
 ],
 "metadata": {
  "language_info": {
   "name": "python"
  }
 },
 "nbformat": 4,
 "nbformat_minor": 5
}
