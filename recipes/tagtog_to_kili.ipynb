{
 "cells": [
  {
   "attachments": {},
   "cell_type": "markdown",
   "metadata": {},
   "source": [
    "<a href=\"https://colab.research.google.com/github/kili-technology/kili-python-sdk/blob/master/recipes/tagtog_to_kili.ipynb\" target=\"_parent\"><img src=\"https://colab.research.google.com/assets/colab-badge.svg\" alt=\"Open In Colab\"/></a>"
   ]
  },
  {
   "attachments": {},
   "cell_type": "markdown",
   "metadata": {},
   "source": [
    "# How to convert a Tagtog project to Kili"
   ]
  },
  {
   "attachments": {},
   "cell_type": "markdown",
   "metadata": {},
   "source": [
    "## Setup"
   ]
  },
  {
   "cell_type": "code",
   "execution_count": null,
   "metadata": {},
   "outputs": [],
   "source": [
    "%pip install kili rich beautifulsoup4"
   ]
  },
  {
   "cell_type": "code",
   "execution_count": null,
   "metadata": {
    "tags": []
   },
   "outputs": [],
   "source": [
    "from kili.client import Kili\n",
    "from pathlib import Path\n",
    "from rich import print_json\n",
    "import pprint\n",
    "from bs4 import BeautifulSoup\n",
    "import json\n",
    "import os"
   ]
  },
  {
   "cell_type": "code",
   "execution_count": null,
   "metadata": {},
   "outputs": [],
   "source": [
    "kili = Kili()"
   ]
  },
  {
   "attachments": {},
   "cell_type": "markdown",
   "metadata": {},
   "source": [
    "## Get data\n",
    "\n",
    "For this recipe, we will use data from the [Apartment reviews](https://tagtog.com/JaqenNLP/ApartmentReviews) project made by Jennifer D. Ames.\n",
    "\n",
    "The dataset consists in guests' reviews of apartments/houses for short-term lodging and tourism-related activities. The reviews have been obtained from Inside Airbnb. Each review has been manually annotated in tagtog."
   ]
  },
  {
   "attachments": {},
   "cell_type": "markdown",
   "metadata": {},
   "source": [
    "To download the project data, it is required to be logged in to tagtog. Then, you can download the project data.\n",
    "\n",
    "Once the .zip file is downloaded, we can unzip it:"
   ]
  },
  {
   "cell_type": "code",
   "execution_count": null,
   "metadata": {},
   "outputs": [],
   "source": [
    "!tar -xvf tagtog_ApartmentReviews.zip"
   ]
  },
  {
   "cell_type": "code",
   "execution_count": null,
   "metadata": {},
   "outputs": [
    {
     "name": "stdout",
     "output_type": "stream",
     "text": [
      "This dataset lives in: https://tagtog.com/JaqenNLP/ApartmentReviews\n",
      "\n",
      "This zip was generated with:\n",
      "  * date: _2023-05-10T11:25:54.902Z_\n",
      "  * search: `*`\n",
      "  * total found documents: **228**\n",
      "\n",
      "The dataset is here written in the [anndoc format](https://docs.tagtog.com/anndoc.html). Use the `annotations-legend.json` file to help you interpret the annotations.\n",
      "\n",
      "\n",
      "What great things will you do with the dataset? :-) Enjoy!\n",
      "\n"
     ]
    }
   ],
   "source": [
    "print(Path(\"ApartmentReviews/README.md\").read_text(encoding=\"utf-8\"))"
   ]
  },
  {
   "attachments": {},
   "cell_type": "markdown",
   "metadata": {},
   "source": [
    "Let's take a look at the ontology:"
   ]
  },
  {
   "cell_type": "code",
   "execution_count": null,
   "metadata": {},
   "outputs": [
    {
     "name": "stdout",
     "output_type": "stream",
     "text": [
      "{'e_1': 'Loyalty',\n",
      " 'e_13': 'TechOpinion',\n",
      " 'e_14': 'FoodOpinion',\n",
      " 'e_2': 'RoomOpinion',\n",
      " 'e_4': 'ApartmentOpinion',\n",
      " 'e_5': 'Location',\n",
      " 'e_6': 'KitchenOpinion',\n",
      " 'e_7': 'BathroomOpinion',\n",
      " 'e_8': 'HostOpinion',\n",
      " 'e_9': 'PricePayment',\n",
      " 'f_10': 'RoomItem',\n",
      " 'f_11': 'OutdoorFeature',\n",
      " 'f_12': 'BathroomFeature',\n",
      " 'f_15': 'TechFeature',\n",
      " 'f_16': 'FoodFeature',\n",
      " 'f_17': 'LocationFeature',\n",
      " 'f_19': 'LoyaltyFeature',\n",
      " 'f_20': 'ApartmentFeature',\n",
      " 'f_21': 'HostCharacter',\n",
      " 'f_22': 'isLocationQuiet',\n",
      " 'f_23': 'Sentiment',\n",
      " 'f_24': 'isCriticalProblem',\n",
      " 'f_25': 'KitchenFeature',\n",
      " 'f_26': 'PaymentFeature',\n",
      " 'm_18': 'Sentiment'}\n"
     ]
    }
   ],
   "source": [
    "tagtog_class_id_to_class_name = json.loads(\n",
    "    Path(\"ApartmentReviews/annotations-legend.json\").read_text(encoding=\"utf-8\")\n",
    ")\n",
    "pprint.pprint(tagtog_class_id_to_class_name)"
   ]
  },
  {
   "attachments": {},
   "cell_type": "markdown",
   "metadata": {},
   "source": [
    "The ontology shows:\n",
    "\n",
    "- 10 entity types (keys starting with `e_`)\n",
    "\n",
    "<img src=\"https://raw.githubusercontent.com/kili-technology/kili-python-sdk/master/recipes/img/tagtog_1.png\" width=\"600\">\n",
    "\n",
    "- 1 document label (key starting with `m_`)\n",
    "\n",
    "<img src=\"https://raw.githubusercontent.com/kili-technology/kili-python-sdk/master/recipes/img/tagtog_2.png\" width=\"700\">\n",
    "\n",
    "- 14 entity labels (keys starting with `f_`)\n",
    "\n",
    "<img src=\"https://raw.githubusercontent.com/kili-technology/kili-python-sdk/master/recipes/img/tagtog_3.png\" width=\"700\">\n",
    "\n",
    "An entity label is used to tag an entity type, and aims at giving more information about the entity being annotated. For example, the `\"f_17\": \"LocationFeature\"` label can be used to tag a `\"e_5\": \"Location\"` entity type.\n",
    "\n",
    "\n",
    "\n",
    "Read more about this project ontology [here](https://tagtog.com/JaqenNLP/ApartmentReviews/-settings)."
   ]
  },
  {
   "attachments": {},
   "cell_type": "markdown",
   "metadata": {},
   "source": [
    "The `plain.html/pool` folder contains the reviews in HTML format:"
   ]
  },
  {
   "cell_type": "code",
   "execution_count": null,
   "metadata": {},
   "outputs": [
    {
     "name": "stdout",
     "output_type": "stream",
     "text": [
      "<!DOCTYPE html >\n",
      "<html id=\"a.km05GoV2Uh1mw9QR.UNiNXWUL8-text\" data-origid=\"text\" class=\"anndoc\" data-anndoc-version=\"3.6\" lang=\"\" xml:lang=\"\" xmlns=\"http://www.w3.org/1999/xhtml\">\n",
      "  <head>\n",
      "    <meta charset=\"UTF-8\"/>\n",
      "    <meta name=\"generator\" content=\"net.tagtog.anndoc.v3.parsers.general.PlainTextParser_NewParagraphAfter1Newline_v2_0_0\"/>\n",
      "    <title>a.km05GoV2Uh1mw9QR.UNiNXWUL8-text</title>\n",
      "  </head>\n",
      "  <body>\n",
      "    <article>\n",
      "      <section data-type=\"\">\n",
      "        <div class=\"content\">\n",
      "          <p id=\"s1p1\">The house is beautiful, but it is next to 2 very busy roads. There are no aircons in any rooms and to open the windows you hear the cars and trucks pass - very loud. There is no braai facilities and when we asked x 2 we were told the owner had to approve... still waiting! The rooms on the lower floor is empty and depressing, very hot! Kids slept on couches with sliding doors open, so we could not arm the alarm at night. The aircons on the upper level leaks water onto table and electrical wires. I think it is over priced, for that price the basics should be in place. AIRCONS AND BRAAI</p>\n",
      "        </div>\n",
      "      </section>\n",
      "    </article>\n",
      "  </body>\n",
      "</html>\n",
      "\n"
     ]
    }
   ],
   "source": [
    "print(\n",
    "    Path(\"ApartmentReviews/plain.html/pool/a.km05GoV2Uh1mw9QR.UNiNXWUL8-text.plain.html\").read_text(\n",
    "        encoding=\"utf-8\"\n",
    "    )\n",
    ")"
   ]
  },
  {
   "attachments": {},
   "cell_type": "markdown",
   "metadata": {},
   "source": [
    "The annotations are stored in the folder `ann.json/master/pool`:"
   ]
  },
  {
   "cell_type": "code",
   "execution_count": null,
   "metadata": {
    "tags": []
   },
   "outputs": [
    {
     "name": "stdout",
     "output_type": "stream",
     "text": [
      "{'anncomplete': True,\n",
      " 'annotatable': {'parts': ['s1p1']},\n",
      " 'entities': [{'classId': 'e_4',\n",
      "               'confidence': {'prob': 1,\n",
      "                              'state': 'pre-added',\n",
      "                              'who': ['user:Mrdenho']},\n",
      "               'coordinates': [],\n",
      "               'fields': {'f_23': {'confidence': {'prob': 1,\n",
      "                                                  'state': 'pre-added',\n",
      "                                                  'who': ['user:Mrdenho']},\n",
      "                                   'value': 'positive'}},\n",
      "               'normalizations': {},\n",
      "               'offsets': [{'start': 0, 'text': 'The house is beautiful'}],\n",
      "               'part': 's1p1'},\n",
      "              {'classId': 'e_5',\n",
      "               'confidence': {'prob': 1,\n",
      "                              'state': 'pre-added',\n",
      "                              'who': ['user:Mrdenho']},\n",
      "               'coordinates': [],\n",
      "               'fields': {'f_22': {'confidence': {'prob': 1,\n",
      "                                                  'state': 'pre-added',\n",
      "                                                  'who': ['user:Mrdenho']},\n",
      "                                   'value': False},\n",
      "                          'f_23': {'confidence': {'prob': 1,\n",
      "                                                  'state': 'pre-added',\n",
      "                                                  'who': ['user:Mrdenho']},\n",
      "                                   'value': 'negative'},\n",
      "                          'f_24': {'confidence': {'prob': 1,\n",
      "                                                  'state': 'pre-added',\n",
      "                                                  'who': ['user:Mrdenho']},\n",
      "                                   'value': True}},\n",
      "               'normalizations': {},\n",
      "               'offsets': [{'start': 24,\n",
      "                            'text': 'but it is next to 2 very busy roads'}],\n",
      "               'part': 's1p1'}],\n",
      " 'metas': {'m_18': {'confidence': {'prob': 1,\n",
      "                                   'state': 'pre-added',\n",
      "                                   'who': ['user:Mrdenho']},\n",
      "                    'value': 'negative'}},\n",
      " 'relations': [],\n",
      " 'sources': []}\n"
     ]
    }
   ],
   "source": [
    "annotation_sample = json.loads(\n",
    "    Path(\n",
    "        \"ApartmentReviews/ann.json/master/pool/a.km05GoV2Uh1mw9QR.UNiNXWUL8-text.ann.json\"\n",
    "    ).read_text(encoding=\"utf-8\")\n",
    ")\n",
    "# select only two entities for visualization\n",
    "annotation_sample[\"entities\"] = annotation_sample[\"entities\"][:2]\n",
    "pprint.pprint(annotation_sample)"
   ]
  },
  {
   "attachments": {},
   "cell_type": "markdown",
   "metadata": {},
   "source": [
    "## Create the Kili project\n",
    "\n",
    "We can start creating the Named Entity Recognition (NER) Kili project.\n",
    "\n",
    "To do so, we will need to define a json interface that follows the ontology of the `annotations-legend.json` file.\n",
    "\n",
    "Note that with Kili, the json interface can be created directly from the [Kili UI](https://docs.kili-technology.com/docs/customizing-project-interface).\n",
    "\n",
    "Here, we will use a `json_interface` variable that will be passed to `kili.create_project()`.\n",
    "\n",
    "We have two main jobs:\n",
    "\n",
    "- `SENTIMENT_CLASSIFICATION_JOB` for classifying the review as positive, negative or neutral\n",
    "- `NAMED_ENTITIES_RECOGNITION_JOB` for the entity type.\n",
    "\n",
    "We also have several child jobs representing the entity labels."
   ]
  },
  {
   "cell_type": "code",
   "execution_count": null,
   "metadata": {},
   "outputs": [],
   "source": [
    "# fmt: off\n",
    "json_interface = {\n",
    "    \"jobs\": {\n",
    "        \"SENTIMENT_CLASSIFICATION_JOB\": {\n",
    "            \"content\": {\n",
    "                \"categories\": {\n",
    "                    \"positive\": {\"children\": [], \"name\": \"positive\"},\n",
    "                    \"neutral\": {\"children\": [], \"name\": \"neutral\"},\n",
    "                    \"negative\": {\"children\": [], \"name\": \"negative\"},\n",
    "                },\n",
    "                \"input\": \"radio\",\n",
    "            },\n",
    "            \"instruction\": \"Sentiment\",\n",
    "            \"mlTask\": \"CLASSIFICATION\",\n",
    "            \"required\": 0,\n",
    "            \"isChild\": False,\n",
    "        },\n",
    "        \"NAMED_ENTITIES_RECOGNITION_JOB\": {\n",
    "            \"content\": {\n",
    "                \"categories\": {\n",
    "                    \"HostOpinion\": {\n",
    "                        \"children\": [\"isCriticalProblem\", \"HostCharacter\", \"Sentiment\"],\n",
    "                        \"color\": \"#472CED\",\n",
    "                        \"name\": \"HostOpinion\",\n",
    "                    },\n",
    "                    \"RoomOpinion\": {\n",
    "                        \"children\": [\"isCriticalProblem\", \"RoomItem\", \"Sentiment\"],\n",
    "                        \"name\": \"RoomOpinion\",\n",
    "                        \"color\": \"#5CE7B7\",\n",
    "                    },\n",
    "                    \"BathroomOpinion\": {\n",
    "                        \"children\": [\"isCriticalProblem\", \"Sentiment\", \"BathroomFeature\"],\n",
    "                        \"name\": \"BathroomOpinion\",\n",
    "                        \"color\": \"#D33BCE\",\n",
    "                    },\n",
    "                    \"FoodOpinion\": {\n",
    "                        \"children\": [\"isCriticalProblem\", \"FoodFeature\", \"Sentiment\"],\n",
    "                        \"name\": \"FoodOpinion\",\n",
    "                        \"color\": \"#FB753C\",\n",
    "                    },\n",
    "                    \"Location\": {\n",
    "                        \"children\": [\"LocationFeature\", \"isCriticalProblem\", \"Sentiment\", \"isLocationQuiet\"],\n",
    "                        \"name\": \"Location\",\n",
    "                        \"color\": \"#3BCADB\"\n",
    "                    },\n",
    "                    \"KitchenOpinion\": {\n",
    "                        \"children\": [\"isCriticalProblem\", \"Sentiment\", \"KitchenFeature\"],\n",
    "                        \"name\": \"KitchenOpinion\",\n",
    "                        \"color\": \"#199CFC\",\n",
    "                    },\n",
    "                    \"PricePayment\": {\n",
    "                        \"children\": [\"isCriticalProblem\", \"Sentiment\", \"PaymentFeature\"],\n",
    "                        \"name\": \"PricePayment\",\n",
    "                        \"color\": \"#FA484A\",\n",
    "                    },\n",
    "                    \"ApartmentOpinion\": {\n",
    "                        \"children\": [\"isCriticalProblem\", \"ApartmentFeature\", \"Sentiment\", \"KitchenFeature\"],\n",
    "                        \"name\": \"ApartmentOpinion\",\n",
    "                        \"color\": \"#ECB82A\"\n",
    "                    },\n",
    "                    \"Loyalty\": {\n",
    "                        \"children\": [\"isCriticalProblem\", \"LoyaltyFeature\", \"Sentiment\"],\n",
    "                        \"name\": \"Loyalty\",\n",
    "                        \"color\": \"#3CD876\",\n",
    "                    },\n",
    "                    \"TechOpinion\": {\n",
    "                        \"children\": [\"isCriticalProblem\", \"Sentiment\", \"TechFeature\"],\n",
    "                        \"name\": \"TechOpinion\",\n",
    "                        \"color\": \"#733AFB\",\n",
    "                    },\n",
    "                },\n",
    "                \"input\": \"radio\",\n",
    "            },\n",
    "            \"instruction\": \"Entity type\",\n",
    "            \"mlTask\": \"NAMED_ENTITIES_RECOGNITION\",\n",
    "            \"required\": 1,\n",
    "            \"isChild\": False,\n",
    "        },\n",
    "        \"LocationFeature\": {\n",
    "            \"content\": {\n",
    "                \"categories\": {\n",
    "                    \"center\": {\"children\": [], \"name\": \"center\"},\n",
    "                    \"airport\": {\"children\": [], \"name\": \"airport\"},\n",
    "                    \"underground\": {\"children\": [], \"name\": \"underground\"},\n",
    "                    \"tram\": {\"children\": [], \"name\": \"tram\"},\n",
    "                    \"bus\": {\"children\": [], \"name\": \"bus\"},\n",
    "                    \"train\": {\"children\": [], \"name\": \"train\"},\n",
    "                    \"highway\": {\"children\": [], \"name\": \"highway\"},\n",
    "                    \"parking\": {\"children\": [], \"name\": \"parking\"},\n",
    "                    \"shopping\": {\"children\": [], \"name\": \"shopping\"},\n",
    "                    \"tourism\": {\"children\": [], \"name\": \"tourism\"},\n",
    "                    \"restaurants\": {\"children\": [], \"name\": \"restaurants\"},\n",
    "                    \"pubs\": {\"children\": [], \"name\": \"pubs\"},\n",
    "                    \"nature\": {\"children\": [], \"name\": \"nature\"},\n",
    "                    \"arrival\": {\"children\": [], \"name\": \"arrival\"},\n",
    "                    \"safety\": {\"children\": [], \"name\": \"safety\"},\n",
    "                    \"ownvehicle\": {\"children\": [], \"name\": \"ownvehicle\"},\n",
    "                    \"taxi\": {\"children\": [], \"name\": \"taxi\"},\n",
    "                },\n",
    "                \"input\": \"checkbox\",\n",
    "            },\n",
    "            \"instruction\": \"LocationFeature\",\n",
    "            \"mlTask\": \"CLASSIFICATION\",\n",
    "            \"required\": 0,\n",
    "            \"isChild\": True,\n",
    "        },\n",
    "        \"isCriticalProblem\": {\n",
    "            \"content\": {\n",
    "                \"categories\": {\n",
    "                    \"yes\": {\"children\": [], \"name\": \"yes\"},\n",
    "                    \"no\": {\"children\": [], \"name\": \"no\"},\n",
    "                },\n",
    "                \"input\": \"radio\",\n",
    "            },\n",
    "            \"instruction\": \"isCriticalProblem\",\n",
    "            \"mlTask\": \"CLASSIFICATION\",\n",
    "            \"required\": 0,\n",
    "            \"isChild\": True,\n",
    "        },\n",
    "        \"ApartmentFeature\": {\n",
    "            \"content\": {\n",
    "                \"categories\": {\n",
    "                    \"cleanliness\": {\"children\": [], \"name\": \"cleanliness\"},\n",
    "                    \"stairs\": {\"children\": [], \"name\": \"stairs\"},\n",
    "                    \"compliantDescription\": {\"children\": [], \"name\": \"compliantDescription\"},\n",
    "                    \"look\": {\"children\": [], \"name\": \"look\"},\n",
    "                    \"space\": {\"children\": [], \"name\": \"space\"},\n",
    "                    \"climate\": {\"children\": [], \"name\": \"climate\"},\n",
    "                    \"pets\": {\"children\": [], \"name\": \"pets\"},\n",
    "                    \"gym\": {\"children\": [], \"name\": \"gym\"},\n",
    "                    \"safety\": {\"children\": [], \"name\": \"safety\"},\n",
    "                },\n",
    "                \"input\": \"checkbox\",\n",
    "            },\n",
    "            \"instruction\": \"ApartmentFeature\",\n",
    "            \"mlTask\": \"CLASSIFICATION\",\n",
    "            \"required\": 0,\n",
    "            \"isChild\": True,\n",
    "        },\n",
    "        \"FoodFeature\": {\n",
    "            \"content\": {\n",
    "                \"categories\": {\n",
    "                    \"breakfast\": {\"children\": [], \"name\": \"breakfast\"},\n",
    "                    \"drinks\": {\"children\": [], \"name\": \"drinks\"},\n",
    "                    \"snacks\": {\"children\": [], \"name\": \"snacks\"},\n",
    "                },\n",
    "                \"input\": \"checkbox\",\n",
    "            },\n",
    "            \"instruction\": \"FoodFeature\",\n",
    "            \"mlTask\": \"CLASSIFICATION\",\n",
    "            \"required\": 0,\n",
    "            \"isChild\": True,\n",
    "        },\n",
    "        \"LoyaltyFeature\": {\n",
    "            \"content\": {\n",
    "                \"categories\": {\n",
    "                    \"solo\": {\"children\": [], \"name\": \"solo\"},\n",
    "                    \"couples\": {\"children\": [], \"name\": \"couples\"},\n",
    "                    \"family\": {\"children\": [], \"name\": \"family\"},\n",
    "                    \"friends\": {\"children\": [], \"name\": \"friends\"},\n",
    "                    \"repeat\": {\"children\": [], \"name\": \"repeat\"},\n",
    "                },\n",
    "                \"input\": \"checkbox\",\n",
    "            },\n",
    "            \"instruction\": \"LoyaltyFeature\",\n",
    "            \"mlTask\": \"CLASSIFICATION\",\n",
    "            \"required\": 0,\n",
    "            \"isChild\": True,\n",
    "        },\n",
    "        \"HostCharacter\": {\n",
    "            \"content\": {\n",
    "                \"categories\": {\n",
    "                    \"friendliness\": {\"children\": [], \"name\": \"friendliness\"},\n",
    "                    \"politeness\": {\"children\": [], \"name\": \"politeness\"},\n",
    "                    \"communication\": {\"children\": [], \"name\": \"communication\"},\n",
    "                },\n",
    "                \"input\": \"checkbox\",\n",
    "            },\n",
    "            \"instruction\": \"HostCharacter\",\n",
    "            \"mlTask\": \"CLASSIFICATION\",\n",
    "            \"required\": 0,\n",
    "            \"isChild\": True,\n",
    "        },\n",
    "        \"RoomItem\": {\n",
    "            \"content\": {\n",
    "                \"categories\": {\n",
    "                    \"bed\": {\"children\": [], \"name\": \"bed\"},\n",
    "                    \"wardrobe\": {\"children\": [], \"name\": \"wardrobe\"},\n",
    "                    \"chair\": {\"children\": [], \"name\": \"chair\"},\n",
    "                    \"desk\": {\"children\": [], \"name\": \"desk\"},\n",
    "                },\n",
    "                \"input\": \"checkbox\",\n",
    "            },\n",
    "            \"instruction\": \"RoomItem\",\n",
    "            \"mlTask\": \"CLASSIFICATION\",\n",
    "            \"required\": 0,\n",
    "            \"isChild\": True,\n",
    "        },\n",
    "        \"Sentiment\": {\n",
    "            \"content\": {\n",
    "                \"categories\": {\n",
    "                    \"positive\": {\"children\": [], \"name\": \"positive\"},\n",
    "                    \"negative\": {\"children\": [], \"name\": \"negative\"},\n",
    "                },\n",
    "                \"input\": \"radio\",\n",
    "            },\n",
    "            \"instruction\": \"Sentiment\",\n",
    "            \"mlTask\": \"CLASSIFICATION\",\n",
    "            \"required\": 0,\n",
    "            \"isChild\": True,\n",
    "        },\n",
    "        \"TechFeature\": {\n",
    "            \"content\": {\n",
    "                \"categories\": {\n",
    "                    \"wifi\": {\"children\": [], \"name\": \"wifi\"},\n",
    "                    \"keypad\": {\"children\": [], \"name\": \"keypad\"},\n",
    "                    \"smarthome\": {\"children\": [], \"name\": \"smarthome\"},\n",
    "                    \"mobile\": {\"children\": [], \"name\": \"mobile\"},\n",
    "                    \"tv\": {\"children\": [], \"name\": \"tv\"},\n",
    "                    \"videogames\": {\"children\": [], \"name\": \"videogames\"},\n",
    "                },\n",
    "                \"input\": \"checkbox\",\n",
    "            },\n",
    "            \"instruction\": \"TechFeature\",\n",
    "            \"mlTask\": \"CLASSIFICATION\",\n",
    "            \"required\": 0,\n",
    "            \"isChild\": True,\n",
    "        },\n",
    "        \"BathroomFeature\": {\n",
    "            \"content\": {\n",
    "                \"categories\": {\n",
    "                    \"shower\": {\"children\": [], \"name\": \"shower\"},\n",
    "                    \"bathtub\": {\"children\": [], \"name\": \"bathtub\"},\n",
    "                    \"wc\": {\"children\": [], \"name\": \"wc\"},\n",
    "                    \"amenities\": {\"children\": [], \"name\": \"amenities\"},\n",
    "                    \"hairdryer\": {\"children\": [], \"name\": \"hairdryer\"},\n",
    "                },\n",
    "                \"input\": \"checkbox\",\n",
    "            },\n",
    "            \"instruction\": \"BathroomFeature\",\n",
    "            \"mlTask\": \"CLASSIFICATION\",\n",
    "            \"required\": 0,\n",
    "            \"isChild\": True,\n",
    "        },\n",
    "        \"PaymentFeature\": {\n",
    "            \"content\": {\n",
    "                \"categories\": {\n",
    "                    \"refund\": {\"children\": [], \"name\": \"refund\"},\n",
    "                    \"deposit\": {\"children\": [], \"name\": \"deposit\"},\n",
    "                    \"payment_methods\": {\"children\": [], \"name\": \"payment methods\"},\n",
    "                    \"extra_charges\": {\"children\": [], \"name\": \"extra charges\"},\n",
    "                },\n",
    "                \"input\": \"checkbox\",\n",
    "            },\n",
    "            \"instruction\": \"PaymentFeature\",\n",
    "            \"mlTask\": \"CLASSIFICATION\",\n",
    "            \"required\": 0,\n",
    "            \"isChild\": True,\n",
    "        },\n",
    "        \"isLocationQuiet\": {\n",
    "            \"content\": {\n",
    "                \"categories\": {\n",
    "                    \"Quiet\": {\"children\": [], \"name\": \"Quiet\"},\n",
    "                    \"Noisy\": {\"children\": [], \"name\": \"Noisy\"},\n",
    "                },\n",
    "                \"input\": \"radio\",\n",
    "            },\n",
    "            \"instruction\": \"isLocationQuiet\",\n",
    "            \"mlTask\": \"CLASSIFICATION\",\n",
    "            \"required\": 0,\n",
    "            \"isChild\": True,\n",
    "        },\n",
    "        \"OutdoorFeature\": {\n",
    "            \"content\": {\n",
    "                \"categories\": {\n",
    "                    \"garden\": {\"children\": [], \"name\": \"garden\"},\n",
    "                    \"patio\": {\"children\": [], \"name\": \"patio\"},\n",
    "                    \"balcon\": {\"children\": [], \"name\": \"balcon\"},\n",
    "                    \"terrace\": {\"children\": [], \"name\": \"terrace\"},\n",
    "                    \"view\": {\"children\": [], \"name\": \"view\"},\n",
    "                    \"pool\": {\"children\": [], \"name\": \"pool\"},\n",
    "                    \"barbecue\": {\"children\": [], \"name\": \"barbecue\"},\n",
    "                },\n",
    "                \"input\": \"checkbox\",\n",
    "            },\n",
    "            \"instruction\": \"OutdoorFeature\",\n",
    "            \"mlTask\": \"CLASSIFICATION\",\n",
    "            \"required\": 0,\n",
    "            \"isChild\": True,\n",
    "        },\n",
    "        \"KitchenFeature\": {\n",
    "            \"content\": {\n",
    "                \"categories\": {\"appliances\": {\"children\": [], \"name\": \"appliances\"}},\n",
    "                \"input\": \"checkbox\",\n",
    "            },\n",
    "            \"instruction\": \"KitchenFeature\",\n",
    "            \"mlTask\": \"CLASSIFICATION\",\n",
    "            \"required\": 0,\n",
    "            \"isChild\": True,\n",
    "        },\n",
    "    }\n",
    "}\n",
    "# fmt: on"
   ]
  },
  {
   "attachments": {},
   "cell_type": "markdown",
   "metadata": {},
   "source": [
    "Let's create the text project with our ontology:"
   ]
  },
  {
   "cell_type": "code",
   "execution_count": null,
   "metadata": {},
   "outputs": [],
   "source": [
    "project_id = kili.create_project(\n",
    "    input_type=\"TEXT\", json_interface=json_interface, title=\"Tagtog to Kili recipe\"\n",
    ")[\"id\"]"
   ]
  },
  {
   "attachments": {},
   "cell_type": "markdown",
   "metadata": {},
   "source": [
    "In the Kili project created, we can see the ontology that follows the same structure as the one in tagtog:\n",
    "\n",
    "<img src=\"https://raw.githubusercontent.com/kili-technology/kili-python-sdk/master/recipes/img/tagtog_4.png\" width=\"700\">"
   ]
  },
  {
   "attachments": {},
   "cell_type": "markdown",
   "metadata": {},
   "source": [
    "## Upload assets\n",
    "\n",
    "Now that the project is created, we can upload our assets."
   ]
  },
  {
   "cell_type": "code",
   "execution_count": null,
   "metadata": {},
   "outputs": [
    {
     "name": "stdout",
     "output_type": "stream",
     "text": [
      "228\n"
     ]
    }
   ],
   "source": [
    "filepaths = [\n",
    "    Path(\"ApartmentReviews/plain.html/pool/\") / filepath\n",
    "    for filepath in os.listdir(\"ApartmentReviews/plain.html/pool/\")\n",
    "]\n",
    "print(len(filepaths))"
   ]
  },
  {
   "cell_type": "code",
   "execution_count": null,
   "metadata": {},
   "outputs": [],
   "source": [
    "external_ids = [filepath.name.replace(\".plain.html\", \"\") for filepath in filepaths]\n",
    "assets = [\n",
    "    BeautifulSoup(file.read_text(encoding=\"utf-8\"), \"html.parser\").find(\"body\").get_text().strip()\n",
    "    for file in filepaths\n",
    "]"
   ]
  },
  {
   "cell_type": "code",
   "execution_count": null,
   "metadata": {},
   "outputs": [
    {
     "name": "stdout",
     "output_type": "stream",
     "text": [
      "aKRwFKFHhO5FoLBBCEUJl8gkQoBS-text\n",
      "Jason was great! He welcomed us with cold waters and fully explained the apartment and its many amenities. He provided anything we could have forgotten and made sure to answer the many questions we had. He was quick to answer any additional questions throughout the stay as well. The apartment is located on a quiet hutong right off a main street that is right in the center of the old town and is just a short walk to the metro. The shower is a bit hard to get in and out of, and would be difficult if you have mobility issues. But the apartment was great and we really enjoyed a little bit of local living while in Beijing. Thanks Jason!\n"
     ]
    }
   ],
   "source": [
    "print(external_ids[0])\n",
    "print(assets[0])"
   ]
  },
  {
   "cell_type": "code",
   "execution_count": null,
   "metadata": {},
   "outputs": [],
   "source": [
    "kili.append_many_to_dataset(project_id, content_array=assets, external_id_array=external_ids)"
   ]
  },
  {
   "attachments": {},
   "cell_type": "markdown",
   "metadata": {},
   "source": [
    "Our assets have been successfully uploaded to Kili:\n",
    "\n",
    "<img src=\"https://raw.githubusercontent.com/kili-technology/kili-python-sdk/master/recipes/img/tagtog_5.png\" width=\"700\">"
   ]
  },
  {
   "attachments": {},
   "cell_type": "markdown",
   "metadata": {},
   "source": [
    "## Upload existing annotations\n",
    "\n",
    "Now that our project is created with its assets, we can upload the annotations we made in tagtog.\n",
    "\n",
    "But first we need to convert the tagtog annotations to the Kili format."
   ]
  },
  {
   "cell_type": "code",
   "execution_count": null,
   "metadata": {},
   "outputs": [],
   "source": [
    "json_response_array = []\n",
    "\n",
    "for asset_name, asset in zip(external_ids, assets):\n",
    "    # load the tagtog json annotation\n",
    "    annotation_path = Path(\"ApartmentReviews/ann.json/master/pool/\") / (asset_name + \".ann.json\")\n",
    "    tagtog_annotation = json.loads(annotation_path.read_text(encoding=\"utf-8\"))\n",
    "\n",
    "    # skip if not annotated\n",
    "    if not tagtog_annotation[\"anncomplete\"]:\n",
    "        continue\n",
    "\n",
    "    # kili json response\n",
    "    json_response = {}\n",
    "\n",
    "    # overall review sentiment classification\n",
    "    try:\n",
    "        sentiment_class = tagtog_annotation[\"metas\"][\"m_18\"][\"value\"]\n",
    "    except KeyError:\n",
    "        pass  # the asset is not annotated for sentiment\n",
    "    else:\n",
    "        assert sentiment_class in (\"positive\", \"negative\", \"neutral\"), sentiment_class\n",
    "        sentiment_confidence = int(\n",
    "            round(tagtog_annotation[\"metas\"][\"m_18\"][\"confidence\"][\"prob\"] * 100)\n",
    "        )\n",
    "\n",
    "        # we add the sentiment classification to the json response\n",
    "        json_response[\"SENTIMENT_CLASSIFICATION_JOB\"] = {}\n",
    "        json_response[\"SENTIMENT_CLASSIFICATION_JOB\"][\"categories\"] = [\n",
    "            {\"name\": sentiment_class, \"confidence\": sentiment_confidence}\n",
    "        ]\n",
    "\n",
    "    # we skip assets with complex html for the sake of clarity\n",
    "    if len(tagtog_annotation[\"annotatable\"][\"parts\"]) > 1:\n",
    "        json_response_array.append(json_response)\n",
    "        continue\n",
    "\n",
    "    # Named entities recognition job\n",
    "    json_response[\"NAMED_ENTITIES_RECOGNITION_JOB\"] = {\"annotations\": []}\n",
    "    for entity in tagtog_annotation[\"entities\"]:\n",
    "        ner_class = tagtog_class_id_to_class_name[entity[\"classId\"]]\n",
    "\n",
    "        # make sure the class is in the json interface\n",
    "        assert (\n",
    "            ner_class\n",
    "            in json_interface[\"jobs\"][\"NAMED_ENTITIES_RECOGNITION_JOB\"][\"content\"][\"categories\"]\n",
    "        ), ner_class\n",
    "\n",
    "        confidence = int(round(entity[\"confidence\"][\"prob\"] * 100))\n",
    "\n",
    "        # get the begin offset and the content of the entity\n",
    "        assert len(entity[\"offsets\"]) == 1, entity[\"offsets\"]\n",
    "        begin_offset = entity[\"offsets\"][0][\"start\"]\n",
    "        content = entity[\"offsets\"][0][\"text\"]\n",
    "\n",
    "        # we verify that the content and begin_offset match the asset content\n",
    "        assert content == asset[begin_offset : begin_offset + len(content)], (\n",
    "            content,\n",
    "            asset[begin_offset : begin_offset + len(content)],\n",
    "        )\n",
    "\n",
    "        entity_annotation = {\n",
    "            \"children\": {},\n",
    "            \"beginOffset\": begin_offset,\n",
    "            \"categories\": [{\"name\": ner_class, \"confidence\": confidence}],\n",
    "            \"content\": content,\n",
    "        }\n",
    "\n",
    "        # an named entity can have tagtog entity labels\n",
    "        # we convert them to Kili children annotations\n",
    "        for field_id in entity[\"fields\"]:\n",
    "            entity_label = tagtog_class_id_to_class_name[field_id]\n",
    "            job_interface = json_interface[\"jobs\"][entity_label]\n",
    "            confidence = int(round(entity[\"fields\"][field_id][\"confidence\"][\"prob\"] * 100))\n",
    "            label_class = entity[\"fields\"][field_id][\"value\"]\n",
    "\n",
    "            # we convert boolean fields to match our json interface\n",
    "            if entity_label == \"isLocationQuiet\":\n",
    "                label_class = \"Quiet\" if label_class else \"Noisy\"\n",
    "\n",
    "            if entity_label == \"isCriticalProblem\":\n",
    "                label_class = \"yes\" if label_class else \"no\"\n",
    "\n",
    "            if entity_label == \"HostCharacter\" and label_class == \"friendly\":\n",
    "                label_class = \"friendliness\"\n",
    "\n",
    "            # some job names have spaces that we converted to \"_\" in our json interface\n",
    "            label_class = label_class.replace(\" \", \"_\")\n",
    "            assert label_class in job_interface[\"content\"][\"categories\"], f\"{label_class} {entity}\"\n",
    "\n",
    "            if entity_label not in entity_annotation[\"children\"]:\n",
    "                entity_annotation[\"children\"][entity_label] = {\"categories\": []}\n",
    "\n",
    "            # we add the child annotations to the NER annotation\n",
    "            entity_annotation[\"children\"][entity_label][\"categories\"].append(\n",
    "                {\"name\": label_class, \"confidence\": confidence}\n",
    "            )\n",
    "\n",
    "        json_response[\"NAMED_ENTITIES_RECOGNITION_JOB\"][\"annotations\"].append(entity_annotation)\n",
    "\n",
    "    json_response_array.append(json_response)"
   ]
  },
  {
   "attachments": {},
   "cell_type": "markdown",
   "metadata": {},
   "source": [
    "We can now upload the Kili annotations to our project:"
   ]
  },
  {
   "cell_type": "code",
   "execution_count": null,
   "metadata": {},
   "outputs": [],
   "source": [
    "kili.append_labels(\n",
    "    json_response_array=json_response_array,\n",
    "    project_id=project_id,\n",
    "    asset_external_id_array=external_ids,\n",
    ")"
   ]
  },
  {
   "attachments": {},
   "cell_type": "markdown",
   "metadata": {},
   "source": [
    "We can see that this asset's labels in tagtog labeling interface:\n",
    "\n",
    "<img src=\"https://raw.githubusercontent.com/kili-technology/kili-python-sdk/master/recipes/img/tagtog_6.png\" width=\"600\">\n",
    "\n",
    "match the Kili labels we converted previously:\n",
    "\n",
    "<img src=\"https://raw.githubusercontent.com/kili-technology/kili-python-sdk/master/recipes/img/tagtog_7.png\" width=\"800\">\n",
    "\n",
    "We also see that the entity labels (child annotations in Kili) are shown in the labeling interface:\n",
    "\n",
    "<img src=\"https://raw.githubusercontent.com/kili-technology/kili-python-sdk/master/recipes/img/tagtog_8.png\" width=\"800\">"
   ]
  },
  {
   "attachments": {},
   "cell_type": "markdown",
   "metadata": {},
   "source": [
    "## Conclusion\n",
    "\n",
    "In this recipe, we saw how to convert a tagtog project to Kili.\n",
    "\n",
    "As you can see, the Kili json interface and the json response formats are really flexible and can be adapted to a lot of use cases."
   ]
  },
  {
   "attachments": {},
   "cell_type": "markdown",
   "metadata": {},
   "source": [
    "## Project cleanup"
   ]
  },
  {
   "cell_type": "code",
   "execution_count": null,
   "metadata": {
    "tags": []
   },
   "outputs": [],
   "source": [
    "kili.delete_project(project_id)"
   ]
  }
 ],
 "metadata": {
  "language_info": {
   "name": "python"
  }
 },
 "nbformat": 4,
 "nbformat_minor": 4
}
