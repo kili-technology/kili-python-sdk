{
 "cells": [
  {
   "cell_type": "markdown",
   "id": "b06a48a2",
   "metadata": {},
   "source": [
    "## Context\n",
    "\n",
    "This notebook is an end-to-end example that you can follow to create a project, upload a first plugin and activate it on this project, and later see the plugin in action and monitor it.\n",
    "\n",
    "**NB: The plugin capabilities of Kili are under active development, and compatible with version 2.125.2 & superior of kili. don't hesitate to reach out via github or the support to provide feedbacks.**\n"
   ]
  },
  {
   "cell_type": "markdown",
   "id": "32b7bb39",
   "metadata": {},
   "source": [
    "## Step 1 : Instantiate Kili with your API_KEY"
   ]
  },
  {
   "cell_type": "code",
   "execution_count": null,
   "id": "751f4b11",
   "metadata": {},
   "outputs": [],
   "source": [
    "#%pip install kili\n",
    "\n",
    "from kili.client import Kili\n",
    "import os\n",
    "import time\n",
    "\n",
    "api_endpoint = os.getenv('KILI_API_ENDPOINT')\n",
    "# If you use Kili SaaS, use the url 'https://cloud.kili-technology.com/api/label/v2/graphql'\n",
    "api_endpoint = 'https://cloud.kili-technology.com/api/label/v2/graphql'\n",
    "\n",
    "api_key = os.getenv('MY_KILI_API_KEY')\n",
    "\n",
    "kili = Kili(api_endpoint=api_endpoint, api_key=api_key)"
   ]
  },
  {
   "cell_type": "markdown",
   "id": "7063407a",
   "metadata": {},
   "source": [
    "## Step 2 : Create the project\n",
    "\n",
    "First, we need to create a new project. For our example, it will be a project of type `IMAGE` and it will have the following `jsonInterace` :"
   ]
  },
  {
   "cell_type": "code",
   "execution_count": null,
   "id": "cc56bc57",
   "metadata": {},
   "outputs": [],
   "source": [
    "json_interface = {\n",
    "  \"jobs\": {\n",
    "    \"JOB_0\": {\n",
    "      \"content\": {\n",
    "        \"categories\": {\n",
    "          \"OBJECT_A\": {\n",
    "            \"children\": [],\n",
    "            \"name\": \"Object A\",\n",
    "            \"color\": \"#733AFB\",\n",
    "            \"id\": \"category1\"\n",
    "          },\n",
    "          \"OBJECT_B\": {\n",
    "            \"children\": [],\n",
    "            \"name\": \"Object B\",\n",
    "            \"color\": \"#3CD876\",\n",
    "            \"id\": \"category2\"\n",
    "          }\n",
    "        },\n",
    "        \"input\": \"radio\"\n",
    "      },\n",
    "      \"instruction\": \"Categories\",\n",
    "      \"isChild\": False,\n",
    "      \"tools\": [\n",
    "        \"rectangle\"\n",
    "      ],\n",
    "      \"mlTask\": \"OBJECT_DETECTION\",\n",
    "      \"models\": {},\n",
    "      \"isVisible\": True,\n",
    "      \"required\": 1,\n",
    "      \"isNew\": False\n",
    "    }\n",
    "  }\n",
    "}"
   ]
  },
  {
   "cell_type": "code",
   "execution_count": null,
   "id": "b4ef53d4",
   "metadata": {},
   "outputs": [],
   "source": [
    "# Create the project \n",
    "\n",
    "title = 'Plugins test project'\n",
    "description = 'My first project with a plugin'\n",
    "input_type = 'IMAGE'\n",
    "\n",
    "project = kili.create_project(\n",
    "    title=title,\n",
    "    description=description,\n",
    "    input_type=input_type,\n",
    "    json_interface=json_interface\n",
    ")\n",
    "project_id = project[\"id\"]\n",
    "\n",
    "print(f'Created project {project_id}')"
   ]
  },
  {
   "cell_type": "code",
   "execution_count": null,
   "id": "1fa60ef6",
   "metadata": {},
   "outputs": [],
   "source": [
    "# Upload an asset\n",
    "\n",
    "content_array = ['./datasets/plugins/landscape.jpg']\n",
    "names_array = ['landscape']\n",
    "\n",
    "kili.append_many_to_dataset(\n",
    "    project_id=project_id,\n",
    "    content_array=content_array,\n",
    "    external_id_array=names_array\n",
    ")\n",
    "\n",
    "asset_id = list(kili.assets(project_id=project_id, fields=[\"id\"], disable_tqdm=True))[0][\"id\"]\n"
   ]
  },
  {
   "cell_type": "markdown",
   "id": "4d8490f2",
   "metadata": {},
   "source": [
    "This project has two jobs with several tasks of transcription associated. We will be interested in the *Payment information* job, and more precisely the *IBAN* and the *Currency* sub-jobs. With our plugin, we want to be sure that the labelers write the correct values for the two transcriptions (so we are interested only in the `on_submit` handler of the plugin), since we know for sure that the IBAN should start with the 2 letters *FR*, and that the currency should be one of : *EUR*, *USD*. At then end, we also calculate an accuracy and we insert it in the `json_metadata` of the asset.\n",
    "\n",
    "To iterate on the plugin code, you can refer to *plugins_development.ipynb* notebook"
   ]
  },
  {
   "cell_type": "markdown",
   "id": "67e3ab74",
   "metadata": {},
   "source": [
    "## The plugin\n",
    "The final plugin is in the `./datasets/plugins/plugin.py` file and its content is the following :\n",
    "\n",
    "```python\n",
    "from kili.plugins import PluginCore\n",
    "from kili.types import Label\n",
    "\n",
    "def check_rules_on_label(label: Label):\n",
    "    #custom methods \n",
    "    print('Custom method - checking number of bboxes')\n",
    "\n",
    "    counter = 0\n",
    "    for annotation in label['jsonResponse'][\"JOB_0\"][\"annotations\"]:\n",
    "        if annotation[\"categories\"][0][\"name\"] == \"OBJECT_A\":\n",
    "            counter += 1\n",
    "\n",
    "    if counter == 0:\n",
    "        return []\n",
    "    return [f'There are too many BBox ({counter}) - Only 1 BBox of Object A accepted']\n",
    "\n",
    "class PluginHandler(PluginCore):\n",
    "    \"\"\"\n",
    "    Custom plugin instance\n",
    "    \"\"\"\n",
    "\n",
    "    def on_submit(self, label: Label, asset_id: str) -> None:\n",
    "        \"\"\"\n",
    "        Dedicated handler for Submit action \n",
    "        \"\"\"\n",
    "        self.logger.info(\"On submit called\")\n",
    "\n",
    "        issues_array = check_rules_on_label(label)\n",
    "\n",
    "        project_id = self.project_id\n",
    "\n",
    "        if len(issues_array) > 0:\n",
    "            print(\"Creating an issue...\")\n",
    "\n",
    "            for i, _ in enumerate(issues_array):\n",
    "\n",
    "                self.kili.append_to_issues(\n",
    "                    label_id=label['id'],\n",
    "                    project_id=project_id,\n",
    "                    text=issues_array[i],\n",
    "                )\n",
    "\n",
    "            print(\"Issue created!\")\n",
    "\n",
    "            self.kili.send_back_to_queue(asset_ids=[asset_id])\n",
    "\n",
    "```"
   ]
  },
  {
   "cell_type": "markdown",
   "id": "fa10cdff",
   "metadata": {},
   "source": [
    "## Step 3 : Uploading the plugin\n",
    "\n",
    "With the plugin defined in a separate `python` file, we can now upload it and activate it on our project.\n",
    "\n",
    "- the upload will create the necessary builds to execute the plugin, it will take a few minutes.\n",
    "- After the activation, you can start using it right away."
   ]
  },
  {
   "cell_type": "code",
   "execution_count": null,
   "id": "d25e7851",
   "metadata": {},
   "outputs": [],
   "source": [
    "path_to_plugin = './datasets/plugins/plugin.py'\n",
    "plugin_name = 'Plugin bbox count'\n",
    "\n",
    "kili.upload_plugin(path_to_plugin, plugin_name)\n",
    "\n",
    "kili.activate_plugin_on_project(plugin_name, project_id=project_id)"
   ]
  },
  {
   "cell_type": "markdown",
   "id": "9402cd78",
   "metadata": {},
   "source": [
    "## Step 4 : Seeing the plugin in action\n",
    "You should wait for the plugin to be successfully deployed. After that, you can test it by labelling in the Kili interface or just by uploading the following label. You can see after that in the Kili app the issues created by the plugin (in case there are some errors)."
   ]
  },
  {
   "cell_type": "code",
   "execution_count": null,
   "id": "659dda38",
   "metadata": {},
   "outputs": [],
   "source": [
    "json_response = {\n",
    "    \"JOB_0\": {\n",
    "        \"annotations\": [\n",
    "            {\n",
    "                \"boundingPoly\": [\n",
    "                    {\n",
    "                        \"normalizedVertices\": [\n",
    "                            {\"x\": 0.15, \"y\": 0.84},\n",
    "                            {\"x\": 0.15, \"y\": 0.31},\n",
    "                            {\"x\": 0.82, \"y\": 0.31},\n",
    "                            {\"x\": 0.82, \"y\": 0.84}\n",
    "                        ]\n",
    "                    }\n",
    "                ],\n",
    "                \"categories\": [\n",
    "                    {\"name\": \"OBJECT_A\"}\n",
    "                ],\n",
    "                \"children\": {},\n",
    "                \"mid\": \"20221124161451411-13314\",\n",
    "                \"type\": \"rectangle\"\n",
    "            },\n",
    "            {\n",
    "                \"boundingPoly\": [\n",
    "                    {\n",
    "                        \"normalizedVertices\": [\n",
    "                            {\"x\": 0.79, \"y\": 0.20},\n",
    "                            {\"x\": 0.79, \"y\": 0.13},\n",
    "                            {\"x\": 0.91, \"y\": 0.13},\n",
    "                            {\"x\": 0.91, \"y\": 0.20}\n",
    "                        ]\n",
    "                    }\n",
    "                ],\n",
    "                \"categories\": [\n",
    "                    {\"name\": \"OBJECT_A\"}\n",
    "                ],\n",
    "                \"children\": {},\n",
    "                \"mid\": \"20221124161456406-47055\",\n",
    "                \"type\": \"rectangle\"\n",
    "            },\n",
    "            {\n",
    "                \"boundingPoly\": [\n",
    "                    {\n",
    "                        \"normalizedVertices\": [\n",
    "                            {\"x\": 0.87, \"y\": 0.36},\n",
    "                            {\"x\": 0.87, \"y\": 0.27},\n",
    "                            {\"x\": 0.99, \"y\": 0.27},\n",
    "                            {\"x\": 0.99, \"y\": 0.36}\n",
    "                        ]\n",
    "                    }\n",
    "                ],\n",
    "                \"categories\": [\n",
    "                    {\"name\": \"OBJECT_A\"}\n",
    "                ],\n",
    "                \"children\": {},\n",
    "                \"mid\": \"20221124161459298-45160\",\n",
    "                \"type\": \"rectangle\"\n",
    "            }\n",
    "        ]\n",
    "    }\n",
    "}"
   ]
  },
  {
   "cell_type": "code",
   "execution_count": null,
   "id": "185c0155",
   "metadata": {},
   "outputs": [],
   "source": [
    "kili.append_labels(\n",
    "   json_response_array=[json_response],\n",
    "   asset_id_array=[asset_id],\n",
    "   label_type='DEFAULT'\n",
    ")"
   ]
  },
  {
   "cell_type": "markdown",
   "id": "0586bbf0",
   "metadata": {},
   "source": [
    "If you use the base plugin provided, the plugin should : \n",
    " - create an issue with 1 comments precising that 3 bbox were encountered instead of one.\n",
    " - send back the asset back to the labeling queue (status `ONGOING`)"
   ]
  },
  {
   "cell_type": "code",
   "execution_count": null,
   "id": "44657eb7",
   "metadata": {},
   "outputs": [],
   "source": [
    "# Let's check : \n",
    "print(kili.assets(project_id=project_id, asset_id=asset_id, fields=['status', 'issues.comments.text']))\n",
    "\n",
    "# You can also access the app at the link \n",
    "print(f'Go to my project {api_endpoint.split(\"/api\")[0]}/label/projects/{project_id}/menu/queue')"
   ]
  },
  {
   "cell_type": "markdown",
   "id": "b79dabf4",
   "metadata": {},
   "source": [
    "Woah amazing !! Well done :) 🚀\n",
    "Let's test now to post a proper label, this one for example : "
   ]
  },
  {
   "cell_type": "code",
   "execution_count": null,
   "id": "65521b13",
   "metadata": {},
   "outputs": [],
   "source": [
    "json_response = {\n",
    "    \"JOB_0\": {\n",
    "        \"annotations\": [\n",
    "            {\n",
    "                \"boundingPoly\": [\n",
    "                    {\n",
    "                        \"normalizedVertices\": [\n",
    "                            {\"x\": 0.15, \"y\": 0.84},\n",
    "                            {\"x\": 0.15, \"y\": 0.31},\n",
    "                            {\"x\": 0.82, \"y\": 0.31},\n",
    "                            {\"x\": 0.82, \"y\": 0.84}\n",
    "                        ]\n",
    "                    }\n",
    "                ],\n",
    "                \"categories\": [\n",
    "                    {\"name\": \"OBJECT_A\"}\n",
    "                ],\n",
    "                \"children\": {},\n",
    "                \"mid\": \"20221124161451411-13314\",\n",
    "                \"type\": \"rectangle\"\n",
    "            }\n",
    "        ]\n",
    "    }\n",
    "}\n",
    "kili.append_labels(\n",
    "   json_response_array=[json_response],\n",
    "   asset_id_array=[asset_id],\n",
    "   label_type='DEFAULT'\n",
    ")\n",
    "\n",
    "time.sleep(10)\n",
    "# Let's check : \n",
    "print(kili.assets(project_id=project_id, asset_id=asset_id, fields=['status']))\n",
    "\n",
    "# You can also access the app at the link \n",
    "print(f'Go to my project {api_endpoint.split(\"/api\")[0]}/label/projects/{project_id}/menu/queue')"
   ]
  },
  {
   "cell_type": "markdown",
   "id": "d9ecedd5",
   "metadata": {},
   "source": [
    "Now you should see the status `LABELED` for your asset. In this plugin, former issues remain but could be solved through the api as well ! \n",
    "\n",
    "\n",
    "Well done, you can iterate on the script now, for this, to avoid the latency necessary to build & deploy your plugin, don't hesitate to use [this notebook](./plugins_development.ipynb)"
   ]
  },
  {
   "cell_type": "markdown",
   "id": "cd8b5800",
   "metadata": {},
   "source": [
    "## Step 5 : Monitoring the plugin\n",
    "In order to monitor a certain plugin, you can get its logs by using the following command :"
   ]
  },
  {
   "cell_type": "code",
   "execution_count": null,
   "id": "dc645b76",
   "metadata": {},
   "outputs": [],
   "source": [
    "import json\n",
    "from datetime import date\n",
    "from datetime import datetime\n",
    "dt = date.today()  # You can change this date if needed, or omit it to set it at the plugin creation date\n",
    "start_date = datetime.combine(dt, datetime.min.time())\n",
    "\n",
    "logs = kili.get_plugin_logs(project_id=project_id, plugin_name=plugin_name, start_date=start_date)\n",
    "\n",
    "logs_json = json.loads(logs)\n",
    "print(json.dumps(logs_json, indent=4))"
   ]
  },
  {
   "cell_type": "markdown",
   "id": "1b463bfc",
   "metadata": {},
   "source": [
    "## Step 6 : Managing the plugin\n",
    "You can also use the following methods to better manage your plugins"
   ]
  },
  {
   "cell_type": "code",
   "execution_count": null,
   "id": "b44d0498",
   "metadata": {},
   "outputs": [],
   "source": [
    "# Get the list of all uploaded plugins in your organization\n",
    "plugins = kili.list_plugins()"
   ]
  },
  {
   "cell_type": "code",
   "execution_count": null,
   "id": "21ed1924",
   "metadata": {},
   "outputs": [],
   "source": [
    "# Update a plugin with new source code\n",
    "kili.update_plugin(plugin_name=plugin_name, file_path=path_to_plugin)"
   ]
  },
  {
   "cell_type": "code",
   "execution_count": null,
   "id": "4962d0b7",
   "metadata": {},
   "outputs": [],
   "source": [
    "# Deactivate the plugin on a certain project (the plugin can still be active for other projects)\n",
    "kili.deactivate_plugin_on_project(plugin_name=plugin_name, project_id=project_id)"
   ]
  },
  {
   "cell_type": "code",
   "execution_count": null,
   "id": "1d9605f4",
   "metadata": {},
   "outputs": [],
   "source": [
    "# Delete the plugin completely (deactivates automatically the plugin from all projects)\n",
    "kili.delete_plugin(plugin_name=plugin_name)"
   ]
  }
 ],
 "metadata": {
  "kernelspec": {
   "display_name": "Python 3.8.13 ('plugins')",
   "language": "python",
   "name": "python3"
  },
  "language_info": {
   "codemirror_mode": {
    "name": "ipython",
    "version": 3
   },
   "file_extension": ".py",
   "mimetype": "text/x-python",
   "name": "python",
   "nbconvert_exporter": "python",
   "pygments_lexer": "ipython3",
   "version": "3.8.15"
  },
  "vscode": {
   "interpreter": {
    "hash": "4b35b7b18c0ab6f6c98a05129e5c1ef751b6356b18056bdc8c680d7f4a0d63d2"
   }
  }
 },
 "nbformat": 4,
 "nbformat_minor": 5
}
