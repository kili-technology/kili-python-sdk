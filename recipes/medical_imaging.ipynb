{
 "cells": [
   {
    "cell_type": "markdown",
    "metadata": {
    "colab_type": "text",
    "id": "view-in-github"
   },
    "source": [
    "<a href=\"https://colab.research.google.com/github/kili-technology/kili-python-sdk/blob/2.45.0/recipes/medical_imaging.ipynb\" target=\"_parent\"><img src=\"https://colab.research.google.com/assets/colab-badge.svg\" alt=\"Open In Colab\"/>"
   ]
  },
  {
   "cell_type": "markdown",
   "metadata": {},
   "source": [
    "# Kili Tutorial: Reading and uploading dicom image data\n",
    "\n",
    "In this tutorial, we will show you how to upload medical images to Kili Technology. We will use [pydicom](https://pydicom.github.io/pydicom/stable/), a Python package that reads medical data in Dicom format.\n",
    "\n",
    "Data used in this tutorial comes from the [RSNA Pneumonia Detection Challenge](https://www.kaggle.com/c/rsna-pneumonia-detection-challenge/data) hosted on Kaggle in 2018.\n",
    "\n",
    "First of all, let us import the packages, and install pydicom in case you don't have it installed."
   ]
  },
  {
   "cell_type": "code",
   "execution_count": null,
   "metadata": {},
   "outputs": [],
   "source": [
    "!pip install pydicom matplotlib Pillow\n",
    "!pip install wget\n",
    "import os\n",
    "import glob\n",
    "from collections import defaultdict\n",
    "import pickle\n",
    "import pydicom\n",
    "import matplotlib.pyplot as plt\n",
    "import matplotlib.patches\n",
    "from PIL import Image\n",
    "import numpy as np\n",
    "import pandas as pd\n",
    "import wget"
   ]
  },
  {
   "cell_type": "markdown",
   "metadata": {},
   "source": [
    "We'll upload the images, extract DICOM metadata, and generate jpeg images from the dicom images.\n",
    "Then we'll upload your generated jpegs."
   ]
  },
  {
   "cell_type": "code",
   "execution_count": null,
   "metadata": {},
   "outputs": [],
   "source": [
    "# If you're running this code from the downloaded Kili repo, run this code:\n",
    "\n",
    "# if 'recipes' in os.getcwd():\n",
    "#     os.chdir('..')\n",
    "# data_folder = \"./recipes/datasets\"\n",
    "\n",
    "# Otherwise, run this code:\n",
    "\n",
    "wget.download(\"https://github.com/kili-technology/kili-python-sdk/blob/master/recipes/datasets/0000a175-0e68-4ca4-b1af-167204a7e0bc.dcm?raw=true\")\n",
    "wget.download(\"https://github.com/kili-technology/kili-python-sdk/blob/master/recipes/datasets/0005d3cc-3c3f-40b9-93c3-46231c3eb813.dcm?raw=true\")\n",
    "wget.download(\"https://github.com/kili-technology/kili-python-sdk/blob/master/recipes/conf/medical-labels.pkl?raw=true\")\n",
    "\n",
    "data_folder = \".\"\n",
    "\n",
    "\n",
    "files = glob.glob(f'{data_folder}/*.dcm')\n",
    "files\n"
   ]
  },
  {
   "cell_type": "code",
   "execution_count": null,
   "metadata": {},
   "outputs": [],
   "source": [
    "def dcm2metadata(sample):\n",
    "    metadata = {}\n",
    "    for key in sample.keys():\n",
    "        if key.group < 50:\n",
    "            item = sample.get(key)\n",
    "            if hasattr(item, 'description') and hasattr(item, 'value'):\n",
    "                metadata[item.description()] = str(item.value)\n",
    "    return metadata\n",
    "\n",
    "processed_imgs = []\n",
    "metadata_array = []\n",
    "for file in files:\n",
    "    fname = file.split('/')[-1].split('.')[0]\n",
    "    sample = pydicom.dcmread(file)\n",
    "    im = Image.fromarray(sample.pixel_array)\n",
    "    fpath = f'{data_folder}/{fname}.jpeg'\n",
    "    im.save(fpath)\n",
    "    processed_imgs.append(fpath)\n",
    "    metadata_array.append(dcm2metadata(sample))"
   ]
  },
  {
   "cell_type": "markdown",
   "metadata": {},
   "source": [
    "Next, we just need to connect to Kili, create a project, and define the annotation interface. You can also refine the interface in the Kili app."
   ]
  },
  {
   "cell_type": "code",
   "execution_count": null,
   "metadata": {},
   "outputs": [],
   "source": [
    "!pip install --upgrade kili\n",
    "from kili.client import Kili\n",
    "\n",
    "# Don't forget to set your 'KILI_API_KEY' environment variable with your API Key: os.environ['KILI_API_KEY'] = \"<YOUR_API_KEY>\"\n",
    "# If you use Kili on-premise, be sure to set your 'KILI_API_ENDPOINT' environment variable.\n",
    "\n",
    "kili = Kili()"
   ]
  },
  {
   "cell_type": "code",
   "execution_count": null,
   "metadata": {},
   "outputs": [],
   "source": [
    "# JSON interface\n",
    "job_id = 'JOB_0'\n",
    "json_interface = {\n",
    "    \"jobs\": {\n",
    "        \"CLASSIFICATION_JOB\": {\n",
    "            \"mlTask\": \"CLASSIFICATION\",\n",
    "            \"content\": {\n",
    "                \"categories\": {\n",
    "                    \"YES\": {\n",
    "                        \"name\": \"Yes\"\n",
    "                    },\n",
    "                    \"NO\": {\n",
    "                        \"name\": \"No\"\n",
    "                    }\n",
    "                },\n",
    "                \"input\": \"radio\"\n",
    "            },\n",
    "            \"required\": 1,\n",
    "            \"isChild\": False,\n",
    "            \"instruction\": \"Healthy ?\"\n",
    "        },\n",
    "        \"JOB_0\": {\n",
    "            \"mlTask\": \"OBJECT_DETECTION\",\n",
    "            \"content\": {\n",
    "                \"categories\": {\n",
    "                    \"BONE\": {\n",
    "                        \"name\": \"bone\"\n",
    "                    },\n",
    "                    \"TISSUE\": {\n",
    "                        \"name\": \"tissue\"\n",
    "                    },\n",
    "                    \"LUNG\": {\n",
    "                        \"name\": \"lung\"\n",
    "                    },\n",
    "                    \"RIB\": {\n",
    "                        \"name\": \"rib\"\n",
    "                    }\n",
    "                },\n",
    "                \"input\": \"radio\"\n",
    "            },\n",
    "            \"required\": True,\n",
    "            \"tools\": [\n",
    "                \"semantic\"\n",
    "            ],\n",
    "            \"instruction\": \"Segmentation\"\n",
    "        }\n",
    "    }\n",
    "}       "
   ]
  },
  {
   "cell_type": "markdown",
   "metadata": {},
   "source": [
    "We can now use the API to create our project and upload our images to the project."
   ]
  },
  {
   "cell_type": "code",
   "execution_count": null,
   "metadata": {},
   "outputs": [],
   "source": [
    "title = 'Medical Imaging with Kili Technology'\n",
    "description = 'This is a test project'\n",
    "input_type = 'IMAGE'\n",
    "\n",
    "project = kili.create_project(\n",
    "    title=title,\n",
    "    description=description,\n",
    "    input_type=input_type,\n",
    "    json_interface=json_interface\n",
    ")\n",
    "project_id = project['id']"
   ]
  },
  {
   "cell_type": "code",
   "execution_count": null,
   "metadata": {},
   "outputs": [],
   "source": [
    "content_array = ['https://drive.google.com/uc?id=18tEnN9lsKlp1tcd0WnfknZJq7d5v5Tod',\n",
    "                  'https://drive.google.com/uc?id=1jvt_LzZAvSr8wyRiwlibXdEszVvyQxjK']\n",
    "external_id_array = ['01',\n",
    "                     '02']\n",
    "kili.append_many_to_dataset(project_id=project_id,\n",
    "                                   content_array=content_array,\n",
    "                                   external_id_array=external_id_array,\n",
    "                                   json_metadata_array=metadata_array)"
   ]
  },
  {
   "cell_type": "markdown",
   "metadata": {},
   "source": [
    "Done ! Your data is in the project. All that remains is to start labeling!\n",
    "Below, we'll show you how you can visualize labels with Python, after downloading.\n",
    "Here we do it with pre-saved labels but it could be done with your own labels using this [recipe](https://github.com/kili-technology/kili-python-sdk/blob/master/recipes/export_labels.ipynb)"
   ]
  },
  {
   "cell_type": "code",
   "execution_count": null,
   "metadata": {},
   "outputs": [],
   "source": [
    "# If you're running this code from the downloaded Kili repo, run this code:\n",
    "\n",
    "# with open('./recipes/conf/medical-labels.pkl', 'rb') as f:\n",
    "#         labels = pickle.load(f)\n",
    "# with open('./recipes/conf/medical-labels.pkl', 'wb') as f:\n",
    "#     pickle.dump(labels, f)\n",
    "\n",
    "# Otherwise, run this code:\n",
    "\n",
    "with open('medical-labels.pkl', 'rb') as f:\n",
    "        labels = pickle.load(f)\n",
    "with open('medical-labels.pkl', 'wb') as f:\n",
    "    pickle.dump(labels, f)\n",
    "\n",
    "healthy = labels['CLASSIFICATION_JOB']['categories'][0]['name']\n",
    "semantic = labels['JOB_0']['annotations']\n"
   ]
  },
  {
   "cell_type": "markdown",
   "metadata": {},
   "source": [
    "We'll convert those labels to a Python format, and plot them using matplotlib : "
   ]
  },
  {
   "cell_type": "code",
   "execution_count": null,
   "metadata": {},
   "outputs": [],
   "source": [
    "points = pd.DataFrame(semantic[0]['boundingPoly'][0]['normalizedVertices']).values\n",
    "def transform2image(points, shape):\n",
    "    newpoints = np.zeros(points.shape)\n",
    "    newpoints[:, 0] = points[:, 0] * shape[0]\n",
    "    newpoints[:, 1] = points[:, 1] * shape[1]\n",
    "    return newpoints\n",
    "\n",
    "category2points = defaultdict(list)\n",
    "for annotation in semantic:\n",
    "    category = annotation['categories'][0]['name']\n",
    "    points = pd.DataFrame(annotation['boundingPoly'][0]['normalizedVertices']).values\n",
    "    category2points[category].append(points)\n",
    "    \n",
    "fname = files[0].split('/')[-1].split('.')[0]\n",
    "im = Image.open(f'{data_folder}/{fname}.jpeg')"
   ]
  },
  {
   "cell_type": "code",
   "execution_count": null,
   "metadata": {},
   "outputs": [],
   "source": [
    "fig, ax = plt.subplots(figsize=(10, 10))\n",
    "ax.imshow(im, cmap=plt.cm.bone)\n",
    "colors = plt.rcParams['axes.prop_cycle'].by_key()['color']\n",
    "for i, (category, shapes) in enumerate(category2points.items()):\n",
    "    for j, shape in enumerate(shapes):\n",
    "        if j == 0:\n",
    "            poly = matplotlib.patches.Polygon(transform2image(shape, im.size),\n",
    "                                              color=colors[i], alpha=0.5, label=category)\n",
    "        else:\n",
    "            poly = matplotlib.patches.Polygon(transform2image(shape, im.size),\n",
    "                                              color=colors[i], alpha=0.5)\n",
    "        ax.add_patch(poly)\n",
    "ax.legend(fontsize=16)\n",
    "ax.set_title(f'Healthy : {healthy}')"
   ]
  },
  {
   "cell_type": "markdown",
   "metadata": {},
   "source": [
    "## Cleanup"
   ]
  },
  {
   "cell_type": "code",
   "execution_count": null,
   "metadata": {},
   "outputs": [],
   "source": [
    "kili.delete_project(project_id)"
   ]
  }
 ],
 "metadata": {
  "kernelspec": {
   "display_name": "Python 3",
   "language": "python",
   "name": "python3"
  },
  "language_info": {
   "codemirror_mode": {
    "name": "ipython",
    "version": 3
   },
   "file_extension": ".py",
   "mimetype": "text/x-python",
   "name": "python",
   "nbconvert_exporter": "python",
   "pygments_lexer": "ipython3",
   "version": "3.10.2"
  }
 },
 "nbformat": 4,
 "nbformat_minor": 4
}
