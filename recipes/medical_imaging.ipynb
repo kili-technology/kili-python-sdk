{
 "cells": [
  {
   "cell_type": "markdown",
   "metadata": {},
   "source": [
    "# Kili Tutorial: Reading and uploading dicom image data\n",
    "\n",
    "In this tutorial, we will show you how to upload medical images to Kili Technology. We will use [pydicom](https://pydicom.github.io/pydicom/stable/), a python package, to read medical data in a Dicom format.\n",
    "\n",
    "Data used in this tutorial comes from the [RSNA Pneumonia Detection Challenge](https://www.kaggle.com/c/rsna-pneumonia-detection-challenge/data) hosted on Kaggle in 2018.\n",
    "\n",
    "First of all, let us import the packages, and install pydicom in case you did not install it. It's a Dicom reader and writer for python."
   ]
  },
  {
   "cell_type": "markdown",
   "metadata": {},
   "source": []
  },
  {
   "cell_type": "code",
   "execution_count": null,
   "metadata": {},
   "outputs": [],
   "source": [
    "!pip install pydicom matplotlib Pillow\n",
    "import os\n",
    "import glob\n",
    "from collections import defaultdict\n",
    "import pickle\n",
    "import pydicom\n",
    "import matplotlib.pyplot as plt\n",
    "import matplotlib.patches\n",
    "from PIL import Image\n",
    "import numpy as np\n",
    "import pandas as pd"
   ]
  },
  {
   "cell_type": "markdown",
   "metadata": {},
   "source": [
    "We upload the images on Python, extract DICOM metadata and generate jpeg from the dicom image field.\n",
    "you should then upload your generated jpegs."
   ]
  },
  {
   "cell_type": "code",
   "execution_count": null,
   "metadata": {},
   "outputs": [],
   "source": [
    "if 'recipes' in os.getcwd():\n",
    "    os.chdir('..')"
   ]
  },
  {
   "cell_type": "code",
   "execution_count": null,
   "metadata": {},
   "outputs": [],
   "source": [
    "data_folder = \"./recipes/datasets\"\n",
    "files = glob.glob(f'{data_folder}/*.dcm')\n",
    "files"
   ]
  },
  {
   "cell_type": "code",
   "execution_count": null,
   "metadata": {},
   "outputs": [],
   "source": [
    "def dcm2metadata(sample):\n",
    "    metadata = {}\n",
    "    for key in sample.keys():\n",
    "        if key.group < 50:\n",
    "            item = sample.get(key)\n",
    "            if hasattr(item, 'description') and hasattr(item, 'value'):\n",
    "                metadata[item.description()] = str(item.value)\n",
    "    return metadata\n",
    "\n",
    "processed_imgs = []\n",
    "metadata_array = []\n",
    "for file in files:\n",
    "    fname = file.split('/')[-1].split('.')[0]\n",
    "    sample = pydicom.dcmread(file)\n",
    "    im = Image.fromarray(sample.pixel_array)\n",
    "    fpath = f'{data_folder}/{fname}.jpeg'\n",
    "    im.save(fpath)\n",
    "    processed_imgs.append(fpath)\n",
    "    metadata_array.append(dcm2metadata(sample))"
   ]
  },
  {
   "cell_type": "markdown",
   "metadata": {},
   "source": [
    "Next, we just need to connect to Kili , and create and define the annotation interface. You can also refine it in the app."
   ]
  },
  {
   "cell_type": "code",
   "execution_count": null,
   "metadata": {},
   "outputs": [],
   "source": [
    "# !pip install kili # uncomment if you don't have kili installed already\n",
    "from kili.client import Kili\n",
    "\n",
    "api_endpoint = os.getenv('KILI_API_ENDPOINT') # If you use Kili SaaS, use 'https://cloud.kili-technology.com/api/label/v2/graphql'\n",
    "\n",
    "kili = Kili(api_endpoint=api_endpoint)"
   ]
  },
  {
   "cell_type": "code",
   "execution_count": null,
   "metadata": {},
   "outputs": [],
   "source": [
    "# JSON interface\n",
    "job_id = 'JOB_0'\n",
    "json_interface = {\n",
    "    \"jobs\": {\n",
    "        \"CLASSIFICATION_JOB\": {\n",
    "            \"mlTask\": \"CLASSIFICATION\",\n",
    "            \"content\": {\n",
    "                \"categories\": {\n",
    "                    \"YES\": {\n",
    "                        \"name\": \"Yes\"\n",
    "                    },\n",
    "                    \"NO\": {\n",
    "                        \"name\": \"No\"\n",
    "                    }\n",
    "                },\n",
    "                \"input\": \"radio\"\n",
    "            },\n",
    "            \"required\": 1,\n",
    "            \"isChild\": False,\n",
    "            \"instruction\": \"Healthy ?\"\n",
    "        },\n",
    "        \"JOB_0\": {\n",
    "            \"mlTask\": \"OBJECT_DETECTION\",\n",
    "            \"content\": {\n",
    "                \"categories\": {\n",
    "                    \"BONE\": {\n",
    "                        \"name\": \"bone\"\n",
    "                    },\n",
    "                    \"TISSUE\": {\n",
    "                        \"name\": \"tissue\"\n",
    "                    },\n",
    "                    \"LUNG\": {\n",
    "                        \"name\": \"lung\"\n",
    "                    },\n",
    "                    \"RIB\": {\n",
    "                        \"name\": \"rib\"\n",
    "                    }\n",
    "                },\n",
    "                \"input\": \"radio\"\n",
    "            },\n",
    "            \"required\": True,\n",
    "            \"tools\": [\n",
    "                \"semantic\"\n",
    "            ],\n",
    "            \"instruction\": \"Segmentation\"\n",
    "        }\n",
    "    }\n",
    "}       "
   ]
  },
  {
   "cell_type": "markdown",
   "metadata": {},
   "source": [
    "We can then use the API to create our project, and upload our images on the project, with the jpeg. Here we previously uploaded those on Google drive, feel free to test out with those."
   ]
  },
  {
   "cell_type": "code",
   "execution_count": null,
   "metadata": {},
   "outputs": [],
   "source": [
    "title = 'Medical Imaging with Kili Technology'\n",
    "description = 'This is a test project'\n",
    "input_type = 'IMAGE'\n",
    "\n",
    "project = kili.create_project(\n",
    "    title=title,\n",
    "    description=description,\n",
    "    input_type=input_type,\n",
    "    json_interface=json_interface\n",
    ")\n",
    "project_id = project['id']"
   ]
  },
  {
   "cell_type": "code",
   "execution_count": null,
   "metadata": {},
   "outputs": [],
   "source": [
    "content_array = ['https://drive.google.com/uc?id=18tEnN9lsKlp1tcd0WnfknZJq7d5v5Tod',\n",
    "                  'https://drive.google.com/uc?id=1jvt_LzZAvSr8wyRiwlibXdEszVvyQxjK']\n",
    "external_id_array = ['01',\n",
    "                     '02']\n",
    "kili.append_many_to_dataset(project_id=project_id,\n",
    "                                   content_array=content_array,\n",
    "                                   external_id_array=external_id_array,\n",
    "                                   json_metadata_array=metadata_array)"
   ]
  },
  {
   "cell_type": "markdown",
   "metadata": {},
   "source": [
    "Done ! Your data is on the project, all that remains is to start labeling !\n",
    "Below, we'll show you how you can visualize it on Python after downloading, here with pre-saved labels but it could be done with your own using this [recipe](https://github.com/kili-technology/kili-python-sdk/blob/master/recipes/export_labels.ipynb)\n",
    "\n",
    "\n",
    "![alt text](./img/kili-annot.png)"
   ]
  },
  {
   "cell_type": "code",
   "execution_count": null,
   "metadata": {},
   "outputs": [],
   "source": [
    "# if 'labels' in labeled_assets[0].keys():\n",
    "if False:\n",
    "    labeled_assets = kili.assets(project_id=project_id, external_id_contains=['01'], fields=['labels.jsonResponse'])\n",
    "    labels = labeled_assets[0]['labels'][0]['jsonResponse']\n",
    "else:\n",
    "    with open('./recipes/conf/medical-labels.pkl', 'rb') as f:\n",
    "        labels = pickle.load(f)\n",
    "with open('./recipes/conf/medical-labels.pkl', 'wb') as f:\n",
    "    pickle.dump(labels, f)\n",
    "healthy = labels['CLASSIFICATION_JOB']['categories'][0]['name']\n",
    "semantic = labels['JOB_0']['annotations']\n",
    "os.chdir"
   ]
  },
  {
   "cell_type": "markdown",
   "metadata": {},
   "source": [
    "We'll convert those labels to a python format, and plot them using matplotlib : "
   ]
  },
  {
   "cell_type": "code",
   "execution_count": null,
   "metadata": {},
   "outputs": [],
   "source": [
    "points = pd.DataFrame(semantic[0]['boundingPoly'][0]['normalizedVertices']).values\n",
    "def transform2image(points, shape):\n",
    "    newpoints = np.zeros(points.shape)\n",
    "    newpoints[:, 0] = points[:, 0] * shape[0]\n",
    "    newpoints[:, 1] = points[:, 1] * shape[1]\n",
    "    return newpoints\n",
    "\n",
    "category2points = defaultdict(list)\n",
    "for annotation in semantic:\n",
    "    category = annotation['categories'][0]['name']\n",
    "    points = pd.DataFrame(annotation['boundingPoly'][0]['normalizedVertices']).values\n",
    "    category2points[category].append(points)\n",
    "    \n",
    "fname = files[0].split('/')[-1].split('.')[0]\n",
    "im = Image.open(f'{data_folder}/{fname}.jpeg')"
   ]
  },
  {
   "cell_type": "code",
   "execution_count": null,
   "metadata": {},
   "outputs": [],
   "source": [
    "fig, ax = plt.subplots(figsize=(10, 10))\n",
    "ax.imshow(im, cmap=plt.cm.bone)\n",
    "colors = plt.rcParams['axes.prop_cycle'].by_key()['color']\n",
    "for i, (category, shapes) in enumerate(category2points.items()):\n",
    "    for j, shape in enumerate(shapes):\n",
    "        if j == 0:\n",
    "            poly = matplotlib.patches.Polygon(transform2image(shape, im.size),\n",
    "                                              color=colors[i], alpha=0.5, label=category)\n",
    "        else:\n",
    "            poly = matplotlib.patches.Polygon(transform2image(shape, im.size),\n",
    "                                              color=colors[i], alpha=0.5)\n",
    "        ax.add_patch(poly)\n",
    "ax.legend(fontsize=16)\n",
    "ax.set_title(f'Healthy : {healthy}')"
   ]
  },
  {
   "cell_type": "markdown",
   "metadata": {},
   "source": [
    "![labels](./img/annotation_dicom.png)"
   ]
  }
 ],
 "metadata": {
  "kernelspec": {
   "display_name": "Python 3",
   "language": "python",
   "name": "python3"
  },
  "language_info": {
   "codemirror_mode": {
    "name": "ipython",
    "version": 3
   },
   "file_extension": ".py",
   "mimetype": "text/x-python",
   "name": "python",
   "nbconvert_exporter": "python",
   "pygments_lexer": "ipython3",
   "version": "3.7.6"
  }
 },
 "nbformat": 4,
 "nbformat_minor": 4
}
