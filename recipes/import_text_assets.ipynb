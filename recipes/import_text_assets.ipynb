{
 "cells": [
  {
   "cell_type": "markdown",
   "metadata": {},
   "source": [
    "# Kili Tutorial: Import rich-text assets\n",
    "When dealing with textual data, style can convey a lot of meaning. If you annotate a long list or a legal text, displaying structured text instead of plain boring text allows your annotator to rapidly grasp patterns within the document."
   ]
  },
  {
   "cell_type": "code",
   "execution_count": null,
   "metadata": {},
   "outputs": [],
   "source": [
    "import os\n",
    "\n",
    "# !pip install kili # uncomment if you don't have kili installed already\n",
    "from kili.client import Kili\n",
    "\n",
    "api_endpoint = os.getenv(\n",
    "    \"KILI_API_ENDPOINT\"\n",
    ")  # If you use Kili SaaS, use the url 'https://cloud.kili-technology.com/api/label/v2/graphql'\n",
    "\n",
    "kili = Kili(api_endpoint=api_endpoint)"
   ]
  },
  {
   "cell_type": "markdown",
   "metadata": {},
   "source": [
    "## 1. Discover rich-text Kili format\n",
    "\n",
    "Let's create a named-entity recognition project. We are going to label American law texts:"
   ]
  },
  {
   "cell_type": "code",
   "execution_count": null,
   "metadata": {},
   "outputs": [],
   "source": [
    "json_interface = {\n",
    "    \"jobs\": {\n",
    "        \"JOB_0\": {\n",
    "            \"mlTask\": \"NAMED_ENTITIES_RECOGNITION\",\n",
    "            \"instruction\": \"Categories\",\n",
    "            \"required\": 1,\n",
    "            \"isChild\": False,\n",
    "            \"isVisible\": True,\n",
    "            \"content\": {\n",
    "                \"categories\": {\n",
    "                    \"INSTRUCTIONS\": {\"name\": \"Instructions\", \"children\": [], \"color\": \"#cc4125\"},\n",
    "                    \"PREAMBULE\": {\"name\": \"Preambule\", \"children\": [], \"color\": \"#ffd966\"},\n",
    "                    \"RIGHTS\": {\"name\": \"Rights\", \"children\": [], \"color\": \"#76a5af\"},\n",
    "                    \"REFERENCE_TO_GOD\": {\n",
    "                        \"name\": \"Reference to God\",\n",
    "                        \"children\": [],\n",
    "                        \"color\": \"#c27ba0\",\n",
    "                    },\n",
    "                },\n",
    "                \"input\": \"radio\",\n",
    "            },\n",
    "        }\n",
    "    }\n",
    "}\n",
    "project = kili.create_project(json_interface=json_interface, input_type=\"TEXT\", title=\"massive\")\n",
    "project_id = project[\"id\"]\n",
    "project = kili.update_properties_in_project(\n",
    "    project_id=project_id, consensus_tot_coverage=100, min_consensus_size=2\n",
    ")"
   ]
  },
  {
   "cell_type": "markdown",
   "metadata": {},
   "source": [
    "When you insert normal text in Kili, you provide a `content` array. In case of rich text, you provide a `json_content` array. Given a JSON content, let's write a function that inserts a new asset:"
   ]
  },
  {
   "cell_type": "code",
   "execution_count": null,
   "metadata": {},
   "outputs": [],
   "source": [
    "from random import random\n",
    "\n",
    "\n",
    "def create_asset_from_json_content(json_content):\n",
    "    json_content_array = [json_content]\n",
    "    kili.append_many_to_dataset(\n",
    "        project_id=project_id, content_array=[\"\"], json_content_array=json_content_array\n",
    "    )"
   ]
  },
  {
   "cell_type": "markdown",
   "metadata": {},
   "source": [
    "`json_content` contains nodes. Nodes can be either element nodes or text nodes.\n",
    "\n",
    "- An element node can have children (that is a list of other element or text nodes).\n",
    "  - By default, element nodes are `<div />`.\n",
    "  - Possible types for an element node are:\n",
    "    - `blockquote`\n",
    "    - `h1`\n",
    "    - `h2`\n",
    "    - `h3`\n",
    "    - `h4`\n",
    "    - `li`\n",
    "    - `ol`\n",
    "    - `p`\n",
    "    - `table`\n",
    "    - `tbody`\n",
    "    - `td`\n",
    "    - `thead`\n",
    "    - `tr`\n",
    "    - `ul`\n",
    "  - Possible styles for a node are (see [Mozilla reference](https://developer.mozilla.org/fr/docs/Web/CSS) to learn more on CSS):\n",
    "    - `alignItems`\n",
    "    - `alignSelf`\n",
    "    - `background`\n",
    "    - `backgroundColor`\n",
    "    - `border`\n",
    "    - `borderBottom`\n",
    "    - `borderLeft`\n",
    "    - `borderRadius`\n",
    "    - `borderRight`\n",
    "    - `borderTop`\n",
    "    - `color`\n",
    "    - `display`\n",
    "    - `flexDirection`\n",
    "    - `float`\n",
    "    - `fontWeight`\n",
    "    - `height`\n",
    "    - `margin`\n",
    "    - `marginBottom`\n",
    "    - `marginLeft`\n",
    "    - `marginRight`\n",
    "    - `marginTop`\n",
    "    - `maxHeight`\n",
    "    - `maxWidth`\n",
    "    - `minHeight`\n",
    "    - `minWidth`\n",
    "    - `padding`\n",
    "    - `paddingBottom`\n",
    "    - `paddingLeft`\n",
    "    - `paddingRight`\n",
    "    - `paddingTop`\n",
    "    - `textAlign`\n",
    "    - `textDecoration`\n",
    "    - `textIndent`\n",
    "    - `width`\n",
    "\n",
    "- A text node can contain text.\n",
    "  - By default, text nodes are `<span />`.\n",
    "  - Text nodes are identified by an `id`. The ID must be unique accross all the document. This will allow for overlapping entities between two or more text nodes.\n",
    "  - Possible styles for a text node are:\n",
    "    - `bold: true`\n",
    "    - `code: true`\n",
    "    - `italic: true`\n",
    "    - `underline: true`\n",
    "    - `display`\n",
    "    - `float`\n",
    "    - `fontWeight`\n",
    "    - `margin`\n",
    "    - `marginBottom`\n",
    "    - `marginLeft`\n",
    "    - `marginRight`\n",
    "    - `marginTop`\n",
    "    - `padding`\n",
    "    - `paddingBottom`\n",
    "    - `paddingLeft`\n",
    "    - `paddingRight`\n",
    "    - `paddingTop`\n",
    "    - `textAlign`\n",
    "    - `textDecoration`\n",
    "    - `textIndent`"
   ]
  },
  {
   "cell_type": "markdown",
   "metadata": {},
   "source": [
    "Let's see some real examples with the corresponding result in Kili's interface!\n",
    "\n",
    "**WARNING**: Here, IDs are randomly generated, but you probably do not want this!"
   ]
  },
  {
   "cell_type": "code",
   "execution_count": null,
   "metadata": {},
   "outputs": [],
   "source": [
    "# One simple text node\n",
    "json_content = [\n",
    "    {\n",
    "        \"children\": [\n",
    "            {\n",
    "                \"id\": f\"{random()}\",\n",
    "                \"text\": \"The unanimous Declaration of the thirteen United States of America.\",\n",
    "            }\n",
    "        ]\n",
    "    }\n",
    "]\n",
    "create_asset_from_json_content(json_content)"
   ]
  },
  {
   "cell_type": "markdown",
   "metadata": {},
   "source": [
    "<img src=\"./img/rich_text_1.png\">"
   ]
  },
  {
   "cell_type": "code",
   "execution_count": null,
   "metadata": {},
   "outputs": [],
   "source": [
    "# Some basic text style\n",
    "json_content = [\n",
    "    {\n",
    "        \"children\": [\n",
    "            {\n",
    "                \"id\": f\"{random()}\",\n",
    "                \"bold\": True,\n",
    "                \"underline\": True,\n",
    "                \"text\": \"The unanimous Declaration of the thirteen United States of America.\",\n",
    "            }\n",
    "        ]\n",
    "    }\n",
    "]\n",
    "create_asset_from_json_content(json_content)"
   ]
  },
  {
   "cell_type": "markdown",
   "metadata": {},
   "source": [
    "<img src=\"./img/rich_text_2.png\">"
   ]
  },
  {
   "cell_type": "code",
   "execution_count": null,
   "metadata": {},
   "outputs": [],
   "source": [
    "# You can mix styled text nodes with plain-text nodes\n",
    "json_content = [\n",
    "    {\n",
    "        \"children\": [\n",
    "            {\n",
    "                \"type\": \"p\",\n",
    "                \"children\": [\n",
    "                    {\n",
    "                        \"id\": f\"{random()}\",\n",
    "                        \"bold\": True,\n",
    "                        \"underline\": True,\n",
    "                        \"text\": \"The unanimous Declaration\",\n",
    "                    },\n",
    "                    {\n",
    "                        \"id\": f\"{random()}\",\n",
    "                        \"bold\": True,\n",
    "                        \"text\": \" of the thirteen United States of America.\",\n",
    "                    },\n",
    "                    {\n",
    "                        \"id\": f\"{random()}\",\n",
    "                        \"text\": \"When in the Course of human events, it becomes necessary for one people to dissolve the political bands which have connected them with another, and to assume among the powers of the earth, the separate and equal station to which the Laws of Nature and of Nature's God entitle them, a decent respect to the opinions of mankind requires that they should declare the causes which impel them to the separation.\",\n",
    "                    },\n",
    "                ],\n",
    "            }\n",
    "        ]\n",
    "    }\n",
    "]\n",
    "create_asset_from_json_content(json_content)"
   ]
  },
  {
   "cell_type": "markdown",
   "metadata": {},
   "source": [
    "<img src=\"./img/rich_text_3.png\">"
   ]
  },
  {
   "cell_type": "code",
   "execution_count": null,
   "metadata": {},
   "outputs": [],
   "source": [
    "# Finalize with a title, a sub title and proper margins\n",
    "json_content = [\n",
    "    {\n",
    "        \"children\": [\n",
    "            {\n",
    "                \"type\": \"h1\",\n",
    "                \"children\": [\n",
    "                    {\n",
    "                        \"border\": \"1px solid black\",\n",
    "                        \"textAlign\": \"center\",\n",
    "                        \"children\": [{\"id\": f\"{random()}\", \"text\": \"Declaration of Independence\"}],\n",
    "                    },\n",
    "                ],\n",
    "            },\n",
    "            {\n",
    "                \"type\": \"h2\",\n",
    "                \"children\": [{\"id\": f\"{random()}\", \"text\": \"In Congress, July 4, 1776\"}],\n",
    "            },\n",
    "            {\n",
    "                \"type\": \"p\",\n",
    "                \"children\": [\n",
    "                    {\n",
    "                        \"id\": f\"{random()}\",\n",
    "                        \"bold\": True,\n",
    "                        \"underline\": True,\n",
    "                        \"text\": \"The unanimous Declaration\",\n",
    "                    },\n",
    "                    {\n",
    "                        \"id\": f\"{random()}\",\n",
    "                        \"bold\": True,\n",
    "                        \"text\": \" of the thirteen United States of America.\",\n",
    "                    },\n",
    "                    {\n",
    "                        \"id\": f\"{random()}\",\n",
    "                        \"text\": \"When in the Course of human events, it becomes necessary for one people to dissolve the political bands which have connected them with another, and to assume among the powers of the earth, the separate and equal station to which the Laws of Nature and of Nature's God entitle them, a decent respect to the opinions of mankind requires that they should declare the causes which impel them to the separation.\",\n",
    "                    },\n",
    "                ],\n",
    "            },\n",
    "            {\n",
    "                \"type\": \"p\",\n",
    "                \"marginLeft\": \"30px\",\n",
    "                \"marginRight\": \"30px\",\n",
    "                \"border\": \"red\",\n",
    "                \"children\": [\n",
    "                    {\n",
    "                        \"id\": f\"{random()}\",\n",
    "                        \"text\": \"We hold these truths to be self-evident, that all men are created equal, that they are endowed by their Creator with certain unalienable Rights, that among these are Life, Liberty and the pursuit of Happiness.\",\n",
    "                    },\n",
    "                    {\n",
    "                        \"type\": \"ul\",\n",
    "                        \"children\": [\n",
    "                            {\n",
    "                                \"type\": \"li\",\n",
    "                                \"children\": [\n",
    "                                    {\n",
    "                                        \"id\": f\"{random()}\",\n",
    "                                        \"text\": \"That to secure these rights, Governments are instituted among Men, deriving their just powers from the consent of the governed,\",\n",
    "                                    },\n",
    "                                ],\n",
    "                            },\n",
    "                            {\n",
    "                                \"type\": \"li\",\n",
    "                                \"children\": [\n",
    "                                    {\n",
    "                                        \"id\": f\"{random()}\",\n",
    "                                        \"text\": \"That whenever any Form of Government becomes destructive of these ends, it is the Right of the People to alter or to abolish it, and to institute new Government, laying its foundation on such principles and organizing its powers in such form, as to them shall seem most likely to effect their Safety and Happiness.\",\n",
    "                                    },\n",
    "                                ],\n",
    "                            },\n",
    "                        ],\n",
    "                    },\n",
    "                    {\n",
    "                        \"id\": f\"{random()}\",\n",
    "                        \"text\": \"Prudence, indeed, will dictate that Governments long established should not be changed for light and transient causes; and accordingly all experience hath shewn, that mankind are more disposed to suffer, while evils are sufferable, than to right themselves by abolishing the forms to which they are accustomed. But when a long train of abuses and usurpations, pursuing invariably the same Object evinces a design to reduce them under absolute Despotism, it is their right, it is their duty, to throw off such Government, and to provide new Guards for their future security.--Such has been the patient sufferance of these Colonies; and such is now the necessity which constrains them to alter their former Systems of Government. The history of the present King of Great Britain is a history of repeated injuries and usurpations, all having in direct object the establishment of an absolute Tyranny over these States. To prove this, let Facts be submitted to a candid world.\",\n",
    "                    },\n",
    "                ],\n",
    "            },\n",
    "        ],\n",
    "    },\n",
    "]\n",
    "create_asset_from_json_content(json_content)"
   ]
  },
  {
   "cell_type": "markdown",
   "metadata": {},
   "source": [
    "<img src=\"./img/rich_text_4.png\">"
   ]
  },
  {
   "cell_type": "markdown",
   "metadata": {},
   "source": [
    "## 2. Convert HTML to rich-text Kili format\n",
    "\n",
    "To get a better grasp of rich-text Kili format, you can transform raw snippets of HTML directly into Kili format. For that purpose, we will use [BeautifulSoup 4](https://www.crummy.com/software/BeautifulSoup/bs4/doc/), and will try to convert [a simple table from Mozilla doc](https://developer.mozilla.org/en-US/docs/Web/HTML/Element/table):"
   ]
  },
  {
   "cell_type": "code",
   "execution_count": null,
   "metadata": {},
   "outputs": [],
   "source": [
    "!pip install beautifulsoup4"
   ]
  },
  {
   "cell_type": "code",
   "execution_count": null,
   "metadata": {},
   "outputs": [],
   "source": [
    "html_doc = \"\"\"\n",
    "<table>\n",
    "    <thead>\n",
    "        <tr>\n",
    "            <th colspan=\"2\">The table header</th>\n",
    "        </tr>\n",
    "    </thead>\n",
    "    <tbody>\n",
    "        <tr>\n",
    "            <td>The table body</td>\n",
    "            <td border=\"1px solid #333\">with two columns</td>\n",
    "        </tr>\n",
    "    </tbody>\n",
    "</table>\n",
    "\"\"\""
   ]
  },
  {
   "cell_type": "code",
   "execution_count": null,
   "metadata": {},
   "outputs": [],
   "source": [
    "styles = {\n",
    "    \"table\": {\"border\": \"1px solid #333\"},\n",
    "    \"td\": {\"border\": \"1px solid #333\"},\n",
    "    \"th\": {\"backgroundColor\": \"#333\", \"color\": \"#fff\"},\n",
    "}\n",
    "\n",
    "\n",
    "def from_html_to_kili(html):\n",
    "    if html is None:\n",
    "        return html\n",
    "    attributes = dict(styles[html.name]) if html.name in styles else {}\n",
    "    children = [from_html_to_kili(child) for child in html.findChildren(recursive=False)]\n",
    "    if len(children) == 0:\n",
    "        children.append({\"id\": f\"{random()}\", \"text\": html.text.strip(\"\\n\").strip()})\n",
    "    if len(children) != 0:\n",
    "        attributes[\"children\"] = children\n",
    "        if html.name != \"[document]\":\n",
    "            attributes[\"type\"] = html.name\n",
    "    return attributes"
   ]
  },
  {
   "cell_type": "code",
   "execution_count": null,
   "metadata": {},
   "outputs": [],
   "source": [
    "from bs4 import BeautifulSoup\n",
    "import pprint\n",
    "\n",
    "soup = BeautifulSoup(html_doc, \"html.parser\")\n",
    "json_content = from_html_to_kili(soup)\n",
    "print(\"Inserted JSON content:\")\n",
    "pprint.pprint([json_content])\n",
    "create_asset_from_json_content([json_content])"
   ]
  },
  {
   "cell_type": "markdown",
   "metadata": {},
   "source": [
    "Once inserted in Kili, the table looks like this:\n",
    "\n",
    "<img src=\"./img/rich_text_5.png\">"
   ]
  },
  {
   "cell_type": "code",
   "execution_count": null,
   "metadata": {},
   "outputs": [],
   "source": [
    "assets = kili.assets(project_id=project_id)\n",
    "assert len(assets) == 5"
   ]
  },
  {
   "cell_type": "code",
   "execution_count": null,
   "metadata": {},
   "outputs": [],
   "source": []
  }
 ],
 "metadata": {
  "kernelspec": {
   "display_name": "kili-python-sdk",
   "language": "python",
   "name": "python3"
  },
  "language_info": {
   "codemirror_mode": {
    "name": "ipython",
    "version": 3
   },
   "file_extension": ".py",
   "mimetype": "text/x-python",
   "name": "python",
   "nbconvert_exporter": "python",
   "pygments_lexer": "ipython3",
   "version": "3.10.4"
  },
  "vscode": {
   "interpreter": {
    "hash": "d33841ec8232dd9499f6185d11ad4b869ae96fbec62e64101cd3d9c14f967e3c"
   }
  }
 },
 "nbformat": 4,
 "nbformat_minor": 2
}
