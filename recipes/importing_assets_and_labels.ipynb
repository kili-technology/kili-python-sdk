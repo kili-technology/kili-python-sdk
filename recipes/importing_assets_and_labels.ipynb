{
 "cells": [
  {
   "cell_type": "markdown",
   "metadata": {},
   "source": [
    "<a href=\"https://colab.research.google.com/github/kili-technology/kili-python-sdk/blob/master/recipes/importing_assets_and_labels.ipynb\" target=\"_parent\"><img src=\"https://colab.research.google.com/assets/colab-badge.svg\" alt=\"Open In Colab\"/></a>"
   ]
  },
  {
   "cell_type": "markdown",
   "metadata": {},
   "source": [
    "# How to import assets and labels to a Kili project"
   ]
  },
  {
   "cell_type": "markdown",
   "metadata": {},
   "source": [
    "In this tutorial, we will learn how to import assets, add metadata to them, and then import labels to your project.\n",
    "\n",
    "Here are the steps that we will follow:\n",
    "\n",
    "1. Setting up a simple Kili project to work with\n",
    "2. Importing assets to Kili\n",
    "3. Adding metadata to assets\n",
    "4. Importing model-based pre-annotations into your project\n",
    "6. Importing pre-existing labels into your project"
   ]
  },
  {
   "cell_type": "markdown",
   "metadata": {},
   "source": [
    "## Setting up a simple Kili project to work with"
   ]
  },
  {
   "cell_type": "markdown",
   "metadata": {},
   "source": [
    "### Installing and instantiating Kili"
   ]
  },
  {
   "cell_type": "markdown",
   "metadata": {},
   "source": [
    "First, let's install and import the required modules."
   ]
  },
  {
   "cell_type": "code",
   "execution_count": null,
   "metadata": {},
   "outputs": [],
   "source": [
    "!pip install  kili"
   ]
  },
  {
   "cell_type": "code",
   "execution_count": null,
   "metadata": {},
   "outputs": [],
   "source": [
    "from kili.client import Kili\n",
    "import getpass\n",
    "import os"
   ]
  },
  {
   "cell_type": "markdown",
   "metadata": {},
   "source": [
    "Now, let's set up variables needed to create an instance of the Kili object.\n",
    "\n",
    "We will need your API key and Kili's API endpoint.\n",
    "\n",
    "If you are unsure how to look up your API key, refer to [https://docs.kili-technology.com/docs/creating-an-api-key](https://docs.kili-technology.com/docs/creating-an-api-key)."
   ]
  },
  {
   "cell_type": "code",
   "execution_count": null,
   "metadata": {},
   "outputs": [],
   "source": [
    "if \"KILI_API_KEY\" not in os.environ:\n",
    "    KILI_API_KEY = getpass.getpass(\"Please enter your API key: \")\n",
    "else:\n",
    "    KILI_API_KEY = os.environ[\"KILI_API_KEY\"]"
   ]
  },
  {
   "cell_type": "markdown",
   "metadata": {},
   "source": [
    "With variables set up, we can now create an instance of the Kili object."
   ]
  },
  {
   "cell_type": "code",
   "execution_count": null,
   "metadata": {},
   "outputs": [],
   "source": [
    "kili = Kili(\n",
    "    api_key=KILI_API_KEY,  # no need to pass the API_KEY if it is already in your environment variables\n",
    "    # api_endpoint=\"https://cloud.kili-technology.com/api/label/v2/graphql\",\n",
    "    # the line above can be uncommented and changed if you are working with an on-premise version of Kili\n",
    ")"
   ]
  },
  {
   "cell_type": "markdown",
   "metadata": {},
   "source": [
    "### Creating a basic Kili project"
   ]
  },
  {
   "cell_type": "markdown",
   "metadata": {},
   "source": [
    "To create a Kili project, you must first set up its interface.\n",
    "\n",
    "We will create a simple image project with just one simple classification job and two categories: `OBJECT_A` and `OBJECT_B`.\n",
    "\n",
    "To learn more about Kili project interfaces, refer to [https://docs.kili-technology.com/docs/customizing-project-interface](https://docs.kili-technology.com/docs/customizing-project-interface)."
   ]
  },
  {
   "cell_type": "code",
   "execution_count": null,
   "metadata": {},
   "outputs": [],
   "source": [
    "interface = {\n",
    "    \"jobs\": {\n",
    "        \"JOB_0\": {\n",
    "            \"mlTask\": \"CLASSIFICATION\",\n",
    "            \"required\": 1,\n",
    "            \"content\": {\n",
    "                \"categories\": {\"OBJECT_A\": {\"name\": \"Object A\"}, \"OBJECT_B\": {\"name\": \"Object B\"}},\n",
    "                \"input\": \"radio\",\n",
    "            },\n",
    "        }\n",
    "    }\n",
    "}\n",
    "\n",
    "result = kili.create_project(\n",
    "    title=\"Test Project\",\n",
    "    description=\"Project Description\",\n",
    "    input_type=\"IMAGE\",\n",
    "    json_interface=interface,\n",
    ")"
   ]
  },
  {
   "cell_type": "markdown",
   "metadata": {},
   "source": [
    "For further processing, we will need to find out what our project ID is.\n",
    "\n",
    "We can easily retrieve it from the project creation response message:"
   ]
  },
  {
   "cell_type": "code",
   "execution_count": null,
   "metadata": {},
   "outputs": [
    {
     "name": "stdout",
     "output_type": "stream",
     "text": [
      "Project ID:  cld90ffe80l8b0jn9d4vb44tn\n"
     ]
    }
   ],
   "source": [
    "project_id = result[\"id\"]\n",
    "print(\"Project ID: \", project_id)"
   ]
  },
  {
   "cell_type": "markdown",
   "metadata": {},
   "source": [
    "## Importing assets to Kili"
   ]
  },
  {
   "cell_type": "markdown",
   "metadata": {},
   "source": [
    "Now, let's add some assets to be labeled.\n",
    "\n",
    "We will use some free off-the-shelf examples from the Internet."
   ]
  },
  {
   "cell_type": "code",
   "execution_count": null,
   "metadata": {},
   "outputs": [],
   "source": [
    "url1 = \"https://storage.googleapis.com/label-public-staging/car/car_2.jpg\"\n",
    "url2 = \"https://storage.googleapis.com/label-public-staging/car/car_1.jpg\"\n",
    "url3 = \"https://storage.googleapis.com/label-public-staging/recipes/inference/black_car.jpg\"\n",
    "\n",
    "assets = kili.append_many_to_dataset(\n",
    "    project_id=project_id,\n",
    "    content_array=[url1, url2, url3],\n",
    "    external_id_array=[\"image_1\", \"image_2\", \"image_3\"],\n",
    ")"
   ]
  },
  {
   "cell_type": "markdown",
   "metadata": {},
   "source": [
    "If you prefer to add your own images, you can use a local file. The code to do that would looks similar to this:\n",
    "\n",
    "```python\n",
    "# Path to local image\n",
    "project_id = 'project_id'\n",
    "assets = kili.append_many_to_dataset(\n",
    "    project_id=project_id,\n",
    "    content_array=['./image_1.jpeg'],\n",
    "    external_id_array=['image_1']\n",
    ")\n",
    "```"
   ]
  },
  {
   "cell_type": "markdown",
   "metadata": {},
   "source": [
    "The procedure looks the same for most of other data types, like PDFs or text. For more information on supported file formats, refer to [our documentation](https://docs.kili-technology.com/docs/supported-file-formats).\n",
    "\n",
    "Because videos and Rich Text assets may be more complex to import, we've created separate tutorials devoted to them:\n",
    "\n",
    "- For information on importing video assets, refer to [this tutorial](https://python-sdk-docs.kili-technology.com/latest/sdk/tutorials/importing_video_assets/).\n",
    "- For information on importing Rich Text assets, see [here](https://github.com/kili-technology/kili-python-sdk/blob/master/recipes/import_text_assets.ipynb).\n",
    "\n",
    "For more information on importing assets, refer to [our documentation](https://docs.kili-technology.com/docs/adding-assets-to-project)."
   ]
  },
  {
   "cell_type": "markdown",
   "metadata": {},
   "source": [
    "## Adding metadata to assets"
   ]
  },
  {
   "cell_type": "markdown",
   "metadata": {},
   "source": [
    "In Kili, you can add extra information to an asset by using asset metadata. This can be information on document language, custom quality metrics, agreement metrics and so on that you can use, for example when using Kili's advanced filters or for Optical Character Recognition.\n",
    "\n",
    "Additionally, three specific metadata types can be used as information presented to labelers in Kili interface:\n",
    "\n",
    "- `imageUrl`\n",
    "- `text`\n",
    "- `url`"
   ]
  },
  {
   "cell_type": "markdown",
   "metadata": {},
   "source": [
    "First, let's set data types for each type of our metadata. The default data type is `string`, so you can skip this step, but setting some of your metadata as numbers can really help when you want to filter your assets later.\n",
    "\n",
    "Note that we don't need to set data types for `imageUrl`, `text`, and `url`."
   ]
  },
  {
   "cell_type": "code",
   "execution_count": null,
   "metadata": {},
   "outputs": [
    {
     "data": {
      "text/plain": [
       "{'id': 'cld90ffe80l8b0jn9d4vb44tn',\n",
       " 'metadataTypes': {'sensitiveData': 'string',\n",
       "  'customConsensus': 'number',\n",
       "  'uploadedFromCloud': 'string',\n",
       "  'modelLabelErrorScore': 'number'}}"
      ]
     },
     "execution_count": null,
     "metadata": {},
     "output_type": "execute_result"
    }
   ],
   "source": [
    "kili.update_properties_in_project(\n",
    "    project_id=project_id,\n",
    "    metadata_types={\n",
    "        \"customConsensus\": \"number\",\n",
    "        \"sensitiveData\": \"string\",\n",
    "        \"uploadedFromCloud\": \"string\",\n",
    "        \"modelLabelErrorScore\": \"number\",\n",
    "    },\n",
    ")"
   ]
  },
  {
   "cell_type": "markdown",
   "metadata": {},
   "source": [
    "Now we can add metadata to our assets:"
   ]
  },
  {
   "cell_type": "code",
   "execution_count": null,
   "metadata": {},
   "outputs": [
    {
     "data": {
      "text/plain": [
       "[{'id': 'cld90fmg100009nvzbjvf73jx'}, {'id': 'cld90fmg100019nvzirlsutxz'}]"
      ]
     },
     "execution_count": null,
     "metadata": {},
     "output_type": "execute_result"
    }
   ],
   "source": [
    "external_ids = [\"image_1\", \"image_2\"]\n",
    "\n",
    "kili.update_properties_in_assets(\n",
    "    project_id=project_id,\n",
    "    external_ids=external_ids,\n",
    "    json_metadatas=[\n",
    "        {\n",
    "            \"customConsensus\": 10,\n",
    "            \"sensitiveData\": \"yes\",\n",
    "            \"uploadedFromCloud\": \"no\",\n",
    "            \"modelLabelErrorScore\": 50,\n",
    "        },\n",
    "        {\n",
    "            \"customConsensus\": 40,\n",
    "            \"sensitiveData\": \"no\",\n",
    "            \"uploadedFromCloud\": \"yes\",\n",
    "            \"modelLabelErrorScore\": 30,\n",
    "        },\n",
    "    ],\n",
    ")\n",
    "\n",
    "# Add metadata that will be visible to labelers in the labeling interface:\n",
    "kili.update_properties_in_assets(\n",
    "    project_id=project_id,\n",
    "    external_ids=external_ids,\n",
    "    json_metadatas=[\n",
    "        {\"imageUrl\": \"www.example.com/image.png\", \"text\": \"some text\", \"url\": \"www.example.com\"},\n",
    "        {\"imageUrl\": \"www.example.com/image.png\", \"text\": \"some text\", \"url\": \"www.example.com\"},\n",
    "    ],\n",
    ")"
   ]
  },
  {
   "cell_type": "markdown",
   "metadata": {},
   "source": [
    "If you want to add metadata based on Optical Character Recognition, the process is slightly more complex. To help you with it, we've created a [separate tutorial](https://github.com/kili-technology/kili-python-sdk/blob/master/recipes/ocr_pre_annotations.ipynb).\n",
    "\n",
    "For more information on adding asset metadata, refer to our [documentation](https://docs.kili-technology.com/docs/adding-asset-metadata)."
   ]
  },
  {
   "cell_type": "markdown",
   "metadata": {},
   "source": [
    "## Importing model-based pre-annotations into your project"
   ]
  },
  {
   "cell_type": "markdown",
   "metadata": {},
   "source": [
    "When you import pre-annotations, you can use two types of labels: `PREDICTION` and `INFERENCE`.\n",
    "\n",
    "`PREDICTION`-type annotations will be displayed on the asset during the labeling process. Labelers will be able to confirm what model produced, edit, and/or add new annotations.\n",
    "\n",
    "Unlike with `PREDICTIONS`, `INFERENCE`-type annotations are not displayed on the asset during the labeling process.\n",
    "`INFERENCE`-type labels are used for IoU (intersection over union) calculation if you want to benchmark your model predictions, or labelers' work quality against ground truth.\n",
    "\n",
    "For more information on Kili label types, refer to [our documentation](https://docs.kili-technology.com/docs/asset-lifecycle#label-types-and-definitions-throughout-an-asset-lifecycle)."
   ]
  },
  {
   "cell_type": "markdown",
   "metadata": {},
   "source": [
    "First, let's prepare some fake predictions:"
   ]
  },
  {
   "cell_type": "code",
   "execution_count": null,
   "metadata": {},
   "outputs": [],
   "source": [
    "json_response_array = [\n",
    "    {\"JOB_0\": {\"categories\": [{\"confidence\": 95, \"name\": \"OBJECT_B\"}]}},\n",
    "    {\"JOB_0\": {\"categories\": [{\"confidence\": 79, \"name\": \"OBJECT_A\"}]}},\n",
    "    {\"JOB_0\": {\"categories\": [{\"confidence\": 83, \"name\": \"OBJECT_B\"}]}},\n",
    "]"
   ]
  },
  {
   "cell_type": "markdown",
   "metadata": {},
   "source": [
    "Now, we'll upload them:"
   ]
  },
  {
   "cell_type": "code",
   "execution_count": null,
   "metadata": {},
   "outputs": [
    {
     "name": "stderr",
     "output_type": "stream",
     "text": [
      "100%|████████████████████████████████████████████████████████████████████████████████████████████████████████████████████████| 3/3 [00:00<00:00, 12.26it/s]\n",
      "100%|████████████████████████████████████████████████████████████████████████████████████████████████████████████████████████| 3/3 [00:01<00:00,  2.12it/s]\n"
     ]
    },
    {
     "data": {
      "text/plain": [
       "[{'id': 'cld90g9tu0l690joi5hnbc3rj'},\n",
       " {'id': 'cld90g9tu0l6a0joidtsk09q4'},\n",
       " {'id': 'cld90g9tu0l6b0joi1qp69ipz'}]"
      ]
     },
     "execution_count": null,
     "metadata": {},
     "output_type": "execute_result"
    }
   ],
   "source": [
    "asset_external_id_array = [\"image_1\", \"image_2\", \"image_3\"]\n",
    "\n",
    "kili.append_labels(\n",
    "    json_response_array=json_response_array,\n",
    "    model_name=\"MyModel\",\n",
    "    label_type=\"PREDICTION\",\n",
    "    project_id=project_id,\n",
    "    asset_external_id_array=asset_external_id_array,\n",
    ")\n",
    "\n",
    "\n",
    "kili.append_labels(\n",
    "    json_response_array=json_response_array,\n",
    "    model_name=\"MyModel\",\n",
    "    label_type=\"INFERENCE\",\n",
    "    project_id=project_id,\n",
    "    asset_external_id_array=asset_external_id_array,\n",
    ")"
   ]
  },
  {
   "cell_type": "markdown",
   "metadata": {},
   "source": [
    "You can add prediction-type labels directly, using the `create_predictions` method. The `label_type` will be assigned automatically as `PREDICTION`:"
   ]
  },
  {
   "cell_type": "code",
   "execution_count": null,
   "metadata": {},
   "outputs": [
    {
     "name": "stderr",
     "output_type": "stream",
     "text": [
      "100%|████████████████████████████████████████████████████████████████████████████████████████████████████████████████████████| 3/3 [00:00<00:00,  7.03it/s]\n"
     ]
    },
    {
     "data": {
      "text/plain": [
       "{'id': 'cld90ffe80l8b0jn9d4vb44tn'}"
      ]
     },
     "execution_count": null,
     "metadata": {},
     "output_type": "execute_result"
    }
   ],
   "source": [
    "external_id_array = [\"image_1\", \"image_2\", \"image_3\"]\n",
    "\n",
    "kili.create_predictions(\n",
    "    project_id=project_id,\n",
    "    external_id_array=external_id_array,\n",
    "    json_response_array=json_response_array,\n",
    "    model_name=\"MyModel\",\n",
    ")"
   ]
  },
  {
   "cell_type": "markdown",
   "metadata": {},
   "source": [
    "## Importing pre-existing labels into your project"
   ]
  },
  {
   "cell_type": "markdown",
   "metadata": {},
   "source": [
    "You can also use existing labels to add them to assets. Here, we'll use existing labels and add them to our assets only if their external IDs match."
   ]
  },
  {
   "cell_type": "code",
   "execution_count": null,
   "metadata": {},
   "outputs": [],
   "source": [
    "external_id_array = [\"image_1\", \"image_2\", \"image_3\"]\n",
    "\n",
    "assets_list = kili.assets(project_id=project_id)\n",
    "for asset in assets_list:\n",
    "    if asset[\"externalId\"] in external_id_array:\n",
    "        kili.append_labels(\n",
    "            json_response_array=[asset[\"labels\"][-1][\"jsonResponse\"]],\n",
    "            label_type=\"DEFAULT\",\n",
    "            project_id=project_id,\n",
    "            asset_external_id_array=[asset[\"externalId\"]],\n",
    "        )"
   ]
  },
  {
   "cell_type": "markdown",
   "metadata": {},
   "source": [
    "## Cleanup"
   ]
  },
  {
   "cell_type": "markdown",
   "metadata": {},
   "source": [
    "To clean up, we need to simply remove the project that we created."
   ]
  },
  {
   "cell_type": "code",
   "execution_count": null,
   "metadata": {},
   "outputs": [],
   "source": [
    "kili.delete_project(project_id);"
   ]
  },
  {
   "cell_type": "markdown",
   "metadata": {},
   "source": [
    "## Summary"
   ]
  },
  {
   "cell_type": "markdown",
   "metadata": {},
   "source": [
    "Done. We've successfully set up a Kili project, imported assets to it, added metadata to our assets, and then imported various types of labels to our project. Well done!"
   ]
  }
 ],
 "metadata": {
  "language_info": {
   "name": "python"
  }
 },
 "nbformat": 4,
 "nbformat_minor": 4
}
