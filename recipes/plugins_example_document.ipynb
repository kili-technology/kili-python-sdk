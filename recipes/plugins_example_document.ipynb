{
 "cells": [
  {
   "cell_type": "markdown",
   "id": "b06a48a2",
   "metadata": {},
   "source": [
    "## Context\n",
    "\n",
    "This notebook is an end-to-end example that you can follow to create a project, upload a first plugin and activate it on this project, and later see the plugin in action and monitor it.\n",
    "\n",
    "**NB: The plugin capabilities of Kili are under active development, and compatible with version 2.125.2 & superior of kili. don't hesitate to reach out via github or the support to provide feedbacks.**\n"
   ]
  },
  {
   "cell_type": "markdown",
   "id": "32b7bb39",
   "metadata": {},
   "source": [
    "## Step 1 : Instantiate Kili with your API_KEY"
   ]
  },
  {
   "cell_type": "code",
   "execution_count": null,
   "id": "f1acd5fe",
   "metadata": {},
   "outputs": [],
   "source": [
    "!pip install --upgrade kili"
   ]
  },
  {
   "cell_type": "code",
   "execution_count": null,
   "id": "751f4b11",
   "metadata": {},
   "outputs": [],
   "source": [
    "from kili.client import Kili\n",
    "import os\n",
    "import time\n",
    "import json\n",
    "import glob\n",
    "\n",
    "kili = Kili()"
   ]
  },
  {
   "cell_type": "markdown",
   "id": "7063407a",
   "metadata": {},
   "source": [
    "## Step 2 : Create the project\n",
    "\n",
    "First, we need to create a new project. For our example, it will be a project of type `IMAGE` and it will have the following `jsonInterace` :"
   ]
  },
  {
   "cell_type": "code",
   "execution_count": null,
   "id": "cc56bc57",
   "metadata": {},
   "outputs": [],
   "source": [
    "# Create the project\n",
    "\n",
    "title = \"Programmatic QA - Invoices processing\"\n",
    "description = \"Programmatic QA - Invoices processing\"\n",
    "input_type = \"IMAGE\"\n",
    "\n",
    "\n",
    "filename = \"./datasets/document_plugin_data/jsoninterface.json\"\n",
    "\n",
    "with open(filename, \"r\") as f:\n",
    "    json_interface = json.load(f)\n",
    "\n",
    "project = kili.create_project(\n",
    "    title=title, description=description, input_type=input_type, json_interface=json_interface\n",
    ")\n",
    "\n",
    "project_id = project[\"id\"]"
   ]
  },
  {
   "cell_type": "code",
   "execution_count": null,
   "id": "b4ef53d4",
   "metadata": {},
   "outputs": [],
   "source": [
    "# Add assets\n",
    "\n",
    "path = \"./datasets/document_plugin_data/\"\n",
    "\n",
    "content_array = glob.glob(os.path.join(path, \"*.png\"))\n",
    "names_array = [os.path.basename(f) for f in content_array]\n",
    "\n",
    "\n",
    "project = kili.append_many_to_dataset(\n",
    "    project_id=project_id, content_array=content_array, external_id_array=names_array\n",
    ")\n",
    "\n",
    "\n",
    "kili.update_properties_in_project(\n",
    "    project_id=project[\"id\"],\n",
    "    metadata_types={\n",
    "        \"accuracy\": \"number\",\n",
    "    },\n",
    ")"
   ]
  },
  {
   "attachments": {},
   "cell_type": "markdown",
   "id": "4d8490f2",
   "metadata": {},
   "source": [
    "This project has two jobs with several tasks of transcription associated. We will be interested in the *Payment information* job, and more precisely the *IBAN* and the *Currency* sub-jobs. With our plugin, we want to be sure that the labelers write the correct values for the two transcriptions (so we are interested only in the `on_submit` handler of the plugin), since we know for sure that the IBAN should start with the 2 letters *FR*, and that the currency should be one of : *EURO*, *DOLLAR*. At then end, we also calculate an accuracy and we insert it in the `json_metadata` of the asset.\n",
    "\n",
    "To iterate on the plugin code, you can refer to *plugins_development.ipynb* notebook"
   ]
  },
  {
   "cell_type": "markdown",
   "id": "67e3ab74",
   "metadata": {},
   "source": [
    "\n",
    "```python\n",
    "from kili.plugins import PluginCore\n",
    "from kili.types import Label\n",
    "\n",
    "\n",
    "class PluginHandler(PluginCore):\n",
    "    \"\"\"\n",
    "    Custom plugin instance\n",
    "    \"\"\"\n",
    "\n",
    "       \n",
    "    def check_rules_on_label(self, label: Label):\n",
    "    \n",
    "        issues_array=[]\n",
    "        mid_issues_array=[]\n",
    "\n",
    "        for bbox in label['jsonResponse']['JOB_0']['annotations']:\n",
    "\n",
    "            #Rule 1 - Check IBAN starts by FR\n",
    "            if bbox['categories'][0]['name'] == \"IBAN\":\n",
    "                tva = bbox['children']['TRANSCRIPTION_JOB']['text']\n",
    "                \n",
    "                if tva[0:2] != \"FR\":\n",
    "                    issues_array.append(\"IBAN number should start by FR\")\n",
    "                    mid_issues_array.append(bbox['mid'])\n",
    "            \n",
    "            #Rule 2 - Check if Currency is in list of fields\n",
    "            if bbox['categories'][0]['name'] == \"CURRENCY\":\n",
    "                currency = bbox['children']['TRANSCRIPTION_JOB_2']['text']\n",
    "                \n",
    "                if currency not in [\"DOLLAR\", \"EURO\"]:\n",
    "                    issues_array.append(\"Authorized currency are only Euro and Dollar\")\n",
    "                    mid_issues_array.append(bbox['mid'])\n",
    "\n",
    "        return issues_array, mid_issues_array\n",
    "\n",
    "    def on_submit(self, label: Label, asset_id: str) -> None:\n",
    "        \"\"\"\n",
    "        Dedicated handler for Submit action \n",
    "        \"\"\"\n",
    "        self.logger.info(\"On submit called\")\n",
    "\n",
    "        issues_array=[]\n",
    "        mid_issues_array=[]\n",
    "\n",
    "        issues_array, mid_issues_array = check_rules_on_label(label)\n",
    "\n",
    "        project_id = self.project_id\n",
    "\n",
    "        if len(issues_array) > 0:\n",
    "            print(\"Creating an issue...\")\n",
    "\n",
    "            for i, _ in enumerate(issues_array):\n",
    "\n",
    "                self.kili.append_to_issues(\n",
    "                    label_id=label['id'],\n",
    "                    project_id=project_id,\n",
    "                    text=issues_array[i],\n",
    "                    mid = mid_issues_array[i]\n",
    "                )\n",
    "\n",
    "            print(\"Issue created!\")\n",
    "\n",
    "            self.kili.add_to_review(asset_ids=[asset_id])\n",
    "\n",
    "            print(\"Asset added to review\")\n",
    "\n",
    "            \n",
    "        accuracy = 100 - len(issues_array) / len(annotations_for_job0)*100\n",
    "\n",
    "        print(\"Accuracy score computed\")\n",
    "\n",
    "        kili.update_properties_in_assets(asset_ids=[asset_id], json_metadatas=[{'accuracy': accuracy}])"
   ]
  },
  {
   "cell_type": "markdown",
   "id": "fa10cdff",
   "metadata": {},
   "source": [
    "## Step 3 : Uploading the plugin\n",
    "\n",
    "With the plugin defined in a separate `python` file, we can now upload it and activate it on our project.\n",
    "\n",
    "- the upload will create the necessary builds to execute the plugin, it will take a few minutes.\n",
    "- After the activation, you can start using it right away."
   ]
  },
  {
   "cell_type": "code",
   "execution_count": null,
   "id": "d25e7851",
   "metadata": {},
   "outputs": [],
   "source": [
    "path_to_plugin = \"./datasets/plugins/plugin_document.py\"\n",
    "plugin_name = \"Plugin - Programmatic QA invoices\"\n",
    "\n",
    "kili.upload_plugin(path_to_plugin, plugin_name)\n",
    "\n",
    "kili.activate_plugin_on_project(plugin_name, project_id=project_id)"
   ]
  }
 ],
 "metadata": {
  "language_info": {
   "name": "python"
  }
 },
 "nbformat": 4,
 "nbformat_minor": 5
}
