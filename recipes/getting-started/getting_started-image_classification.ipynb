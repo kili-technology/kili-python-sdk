{
 "cells": [
  {
   "cell_type": "markdown",
   "metadata": {},
   "source": [
    "# Image Classification"
   ]
  },
  {
   "cell_type": "markdown",
   "metadata": {},
   "source": [
    "In this tutorial, we show you how to start with an image classification project.\n",
    "\n",
    "You can classify any kind of asset: image, text, video, PDF, etc. For the sake of clarity, we will use images in this tutorial. Here are the main steps:\n",
    "\n",
    "1. [What is classification](#classification)\n",
    "2. [Connection to Kili](#connect)\n",
    "3. [Creating the project, setting up the interface](#project)\n",
    "4. [Importing data](#data)\n",
    "5. [Labeling](#labeling)\n",
    "6. [Exporting labels](#export)\n",
    "7. [Quality management](#quality)\n",
    "8. [More advanced concepts](#concepts)"
   ]
  },
  {
   "cell_type": "markdown",
   "metadata": {},
   "source": [
    "# What is classification<a id='classification'></a>"
   ]
  },
  {
   "cell_type": "markdown",
   "metadata": {},
   "source": [
    "The first important concept to understand is classification. The idea of classification is to assign categories to assets from a fixed set of categories. To make things more concrete, let's examine an example. Suppose that we want to classify the car shown below:\n",
    "\n",
    "![](../img/asset_viewer.png)\n",
    "\n",
    "\n",
    "First we have the asset we want to classify—in this case an image of a car—then we have the possible classes. The interface shows two possible classes: *Object A* and *Object B*. This could be customized to be for example *Car* or *Cat*; the important thing about classification is to know that we have a fixed set of possible classes.\n",
    "\n",
    "A human can easily classify this image as a car; however, in many situations, it can be useful to automate this process. With this in mind, we could also train a machine learning model to classify our image. To train a powerful model; however, we would need large quantities of labeled data (in this case, images with classes already assigned). Kili provides an excellent way to classify your data. The next step of this tutorial will walk you through the creation of your first classification project at Kili."
   ]
  },
  {
   "cell_type": "markdown",
   "metadata": {},
   "source": [
    "# Connecting to Kili <a id='connect'></a>"
   ]
  },
  {
   "cell_type": "markdown",
   "metadata": {},
   "source": [
    "The first step is to connect to the platform.\n",
    "\n",
    "If you use the SaaS version of Kili (see [here](https://cloud.kili-technology.com/docs/hosting/saas/)), you’ll be using by default the Auth0 login identification, or your company's authentication, if it has been implemented.\n",
    "\n",
    "<img src=\"../img/auth0.png\" width=\"400\" />\n",
    "\n",
    "If you use Kili on-premises (see [here](https://cloud.kili-technology.com/docs/hosting/on-premise-entreprise/)), you will probably use our own authentication:\n",
    "\n",
    "<img src=\"../img/noauth0.png\" width=400 />\n",
    "\n",
    "You need your organization admin to create your profile. Depending on the authentication implementation, you can sign up and set your password, or use the temporary one provided to you by the admin.\n",
    "\n",
    "If everything succeeds, you should arrive at the projects page shown in the beginning of the next section."
   ]
  },
  {
   "cell_type": "markdown",
   "metadata": {},
   "source": [
    "# Creating the project <a id='project'></a>"
   ]
  },
  {
   "cell_type": "markdown",
   "metadata": {},
   "source": [
    "## List of projects"
   ]
  },
  {
   "cell_type": "markdown",
   "metadata": {},
   "source": [
    "You'll arrive on a list of projects.\n",
    "\n",
    "![](../img/project_list.png)\n",
    "\n",
    "You can refer to this [document](https://cloud.kili-technology.com/docs/concepts/definitions/) to find the definitions of key concepts at Kili. One of them is a project, which is a combination of:\n",
    "- a dataset (a list of assets)\n",
    "- members (project users; each can have different roles)\n",
    "- an interface (describing the annotation plan)"
   ]
  },
  {
   "cell_type": "markdown",
   "metadata": {},
   "source": [
    "## Create the project "
   ]
  },
  {
   "cell_type": "markdown",
   "metadata": {},
   "source": [
    "You can either create a project [from the interface](https://cloud.kili-technology.com/docs/projects/new-project/#docsNav) or from the API](https://github.com/kili-technology/kili-playground/blob/master/recipes/create_project.ipynb).\n",
    "\n",
    "\n",
    "To create a project from the interface,select `Create New` from the list of projects. Type your project's name and a description, then select `Image Classification (single-class)`. Finally, select `Save` as shown below:\n",
    "\n",
    "![](../img/getting_started/create_new_classification_project.gif)"
   ]
  },
  {
   "cell_type": "markdown",
   "metadata": {},
   "source": [
    "<details>\n",
    "<summary style=\"display: list-item;\"> Follow these instructions to create a project from the API. </summary>\n",
    "\n",
    "From the API, you can create a project with a single call, which allows you to store and share project interfaces : \n",
    "- First, [connect to Kili](https://github.com/kili-technology/kili-playground/blob/master/README.md#get-started)\n",
    "\n",
    "\n",
    "```python\n",
    "# Authentication\n",
    "import os\n",
    "\n",
    "# !pip install kili # uncomment if you don't have kili installed already\n",
    "from kili.client import Kili\n",
    "\n",
    "api_key = os.getenv('KILI_USER_API_KEY')\n",
    "api_endpoint = os.getenv('KILI_API_ENDPOINT') # If you use Kili SaaS, use the url 'https://cloud.kili-technology.com/api/label/v2/graphql'\n",
    "\n",
    "kili = Kili(api_key=api_key, api_endpoint=api_endpoint)\n",
    "```\n",
    "\n",
    "- Then call the method `create_project`: <a id='command'></a>\n",
    "```python\n",
    "kili.create_project(\n",
    "    title='Project Title',\n",
    "    description='Project Description',\n",
    "    input_type='IMAGE',\n",
    "    json_interface=interface\n",
    ")\n",
    "```\n",
    "\n",
    "with `interface` such as:\n",
    "\n",
    "\n",
    "```python\n",
    "interface = {\n",
    "  \"jobRendererWidth\": 0.17,\n",
    "  \"jobs\": {\n",
    "    \"JOB_0\": {\n",
    "      \"mlTask\": \"CLASSIFICATION\",\n",
    "      \"required\": 1,\n",
    "      \"content\": {\n",
    "        \"categories\": {\n",
    "          \"OBJECT_A\": {\n",
    "            \"name\": \"Object A\"\n",
    "          },\n",
    "          \"OBJECT_B\": {\n",
    "            \"name\": \"Object B\"\n",
    "          }\n",
    "        },\n",
    "        \"input\": \"radio\"\n",
    "      }\n",
    "    }\n",
    "  }\n",
    "}\n",
    "```\n",
    "\n",
    "\n",
    "```python\n",
    "result = kili.create_project(\n",
    "    title='Project Title',\n",
    "    description='Project Description',\n",
    "    input_type='IMAGE',\n",
    "    json_interface=interface\n",
    ")\n",
    "print(result)\n",
    "```\n",
    "\n",
    "```python\n",
    "Out: {'id': 'ckm4pmqmk0000d49k6ewu2um5'}\n",
    "```\n",
    "</details>"
   ]
  },
  {
   "cell_type": "markdown",
   "metadata": {},
   "source": [
    "## Access your project"
   ]
  },
  {
   "cell_type": "markdown",
   "metadata": {},
   "source": [
    "This creates a project with a simple interface, a radio button, and two categories: `Object A` and `Object B`.\n",
    "Once logged in, you can see your project in the list of projects:\n",
    "\n",
    "![](../img/project_in_list.png)"
   ]
  },
  {
   "cell_type": "markdown",
   "metadata": {},
   "source": [
    "Click on it: you arrive on the overview of the project:\n",
    "\n",
    "![](../img/project_overview.png)\n",
    "\n",
    "If you want to modify or view the interface, go to the Settings tab. First, click on the Settings button in the sidebar:\n",
    "\n",
    "<img src=\"../img/sidebar_settings.png\" width=100/>\n",
    "\n",
    "You can find both the form and the JSON versions of the interface:\n",
    "\n",
    "![](../img/project_settings.png)\n",
    "\n",
    "[Find out how to modify the interface dynamically.](https://cloud.kili-technology.com/docs/projects/customize-interface/#docsNav)\n",
    "\n",
    "If you want to go back to the list of projects, either click on `Kili Technology` in the top bar, or click on the list of projects in the sidebar:\n",
    "\n",
    "<img src=\"../img/sidebar_listprojects.png\" width=100>"
   ]
  },
  {
   "cell_type": "markdown",
   "metadata": {},
   "source": [
    "<details class=\"mydetails\">\n",
    "<summary style=\"display: list-item;\"> Follow these instructions to create a project from the API. </summary>\n",
    "\n",
    "When you run the [command](#command) to create a project, it outputs a unique identifier of the project. This identifier is used to recognize, access, and modify the project from the API.\n",
    "\n",
    "<a id=\"command\"></a>\n",
    "```python\n",
    "kili.create_project(\n",
    "    title='Project Title',\n",
    "    description='Project Description',\n",
    "    input_type='IMAGE',\n",
    "    json_interface=interface\n",
    ")\n",
    "```\n",
    "\n",
    "Example of such an output:\n",
    "\n",
    "```python\n",
    "{'id': 'ckkpj7stx1bxc0jvk1gn9cu5v'}\n",
    "```\n",
    "\n",
    "Another way to get this project identifier is to look at the URL you're in:\n",
    "\n",
    "![](../img/url_project.png)\n",
    "</details>"
   ]
  },
  {
   "cell_type": "markdown",
   "metadata": {},
   "source": [
    "# Importing data <a id='data'></a>"
   ]
  },
  {
   "cell_type": "markdown",
   "metadata": {},
   "source": [
    "The next step is to import data.\n",
    "\n",
    "You can import data either [from the interface](https://cloud.kili-technology.com/docs/data-ingestion/data-ingestion-made-easy/) or [from the API](https://cloud.kili-technology.com/docs/python-graphql-api/recipes/import_assets/#kili-tutorial-importing-assets). \n",
    "\n",
    "\n",
    "To import data from the interface, go to the `Dataset` tab in your project, then click on `Add New`. There you'll have two tabs. From the first tab called `Uplod Local Data`, you'll be able to select files from your local computer to upload. From the second table called `Connect Cloud Data`, you should provide a `.csv` file containing the URLs to your data stored in the cloud. These steps are shown below:\n",
    "\n",
    "![](../img/import_assets.gif)"
   ]
  },
  {
   "cell_type": "markdown",
   "metadata": {},
   "source": [
    "<details>\n",
    "<summary style=\"display: list-item;\"> Follow these instructions to import data from the API </summary>\n",
    "\n",
    "Next, simply call this [this function](https://cloud.kili-technology.com/docs/python-graphql-api/python-api/#append_many_to_dataset):\n",
    "\n",
    "```python\n",
    "kili.append_many_to_dataset(\n",
    "    project_id=\"ckkpj7stx1bxc0jvk1gn9cu5v\", \n",
    "    content_array=[\"path-to-local-image OR url-to-image\"],\n",
    "    external_id_array=[\"your-identifier-of-the-image\"]\n",
    ")\n",
    "```\n",
    "\n",
    "\n",
    "```python\n",
    "# Example\n",
    "\n",
    "project_id = result['id']\n",
    "\n",
    "kili.append_many_to_dataset(\n",
    "    project_id=project_id, \n",
    "    content_array=[\"https://raw.githubusercontent.com/kili-technology/kili-playground/master/recipes/img/car_2.jpg\"],\n",
    "    external_id_array=[\"car_2.jpg\"]\n",
    ")\n",
    "```\n",
    "    \n",
    "```python\n",
    "Out: {'id': 'ckm4pmqmk0000d49k6ewu2um5'}\n",
    "```\n",
    "</details>"
   ]
  },
  {
   "cell_type": "markdown",
   "metadata": {},
   "source": [
    "# Labeling <a id='labeling'></a>"
   ]
  },
  {
   "cell_type": "markdown",
   "metadata": {},
   "source": [
    "When you create a project, you automatically become an admin of the project. This enables you to directly label. If you want to add members to the project, follow [](https://cloud.kili-technology.com/docs/projects/settings/#manage-project-members)."
   ]
  },
  {
   "cell_type": "markdown",
   "metadata": {},
   "source": [
    "## Label a specific asset"
   ]
  },
  {
   "cell_type": "markdown",
   "metadata": {},
   "source": [
    "To annotate a specific asset, you can go to the Dataset tab (in the side panel):\n",
    "\n",
    "<img src=\"../img/sidebar_dataset.png\" width=100>\n",
    "\n",
    "![](../img/project_dataset.png)\n",
    "\n",
    "On the table of the assets, simply click on the line/asset (i.e., image here) you want to annotate."
   ]
  },
  {
   "cell_type": "markdown",
   "metadata": {},
   "source": [
    "## Label the first asset in the queue"
   ]
  },
  {
   "cell_type": "markdown",
   "metadata": {},
   "source": [
    "Otherwise, you can start to annotate right away by selecting `Start Labeling`."
   ]
  },
  {
   "cell_type": "markdown",
   "metadata": {},
   "source": [
    "## How to label ?"
   ]
  },
  {
   "cell_type": "markdown",
   "metadata": {},
   "source": [
    "You arrive on the asset `car_2.jpg`: \n",
    "\n",
    "![](../img/asset_viewer.png)\n",
    "\n",
    "Select the category you want by clicking on the right radio button, or by pressing the key underlined in the class name \"o\" for Object A and \"b\" for Object B.\n",
    "\n",
    "Then, click on submit to send the label."
   ]
  },
  {
   "cell_type": "markdown",
   "metadata": {},
   "source": [
    "If you want to select more than one class (multiclass classification), you can choose a checkbox as the input. Simply create a new classification job then select the checkbox as the input.\n",
    "\n",
    "![](../img/input_choices.png)"
   ]
  },
  {
   "cell_type": "markdown",
   "metadata": {},
   "source": [
    "If you have long lists of classes, we recommend using the dropdown inputs (either single choice or multiple choice) whether you use multiclass classification or not. For more information on classification, [click here](https://cloud.kili-technology.com/docs/interfaces-image/classification/)."
   ]
  },
  {
   "cell_type": "markdown",
   "metadata": {},
   "source": [
    "<details>\n",
    "<summary style=\"display: list-item;\"> Follow these instructions to add a label from the API </summary>\n",
    "\n",
    "For this, you need to know the identifier of the asset (image) — either from the URL when you are on an asset:\n",
    "\n",
    "![](https://raw.githubusercontent.com/kili-technology/kili-playground/master/recipes/img/asset_id_url.png)\n",
    "\n",
    "or, from the API, retrieving the assets of the project:\n",
    "\n",
    "\n",
    "```python\n",
    "assets = kili.assets(\n",
    "    project_id=project_id,\n",
    "    fields=['id']\n",
    ")\n",
    "asset_id = assets[0]['id']\n",
    "print(asset_id)\n",
    "```\n",
    "\n",
    "    100%|██████████| 1/1 [00:00<00:00, 27.40it/s]\n",
    "\n",
    "    ckm4pmuy30006d49kh0q64i0g\n",
    "\n",
    "\n",
    "    \n",
    "\n",
    "\n",
    "\n",
    "```python\n",
    "kili.append_to_labels(\n",
    "    json_response={'JOB_0': {'categories': [{'name': 'OBJECT_A'}]}},\n",
    "    label_asset_id=asset_id,\n",
    "    project_id=project_id\n",
    ")\n",
    "```\n",
    "\n",
    "\n",
    "\n",
    "\n",
    "    {'id': 'ckm4pmzlj0009d49k1avaeubv'}\n",
    "</details>"
   ]
  },
  {
   "cell_type": "markdown",
   "metadata": {},
   "source": [
    "# Exporting labels <a id='export'></a>"
   ]
  },
  {
   "cell_type": "markdown",
   "metadata": {},
   "source": [
    "## Through the interface"
   ]
  },
  {
   "cell_type": "markdown",
   "metadata": {},
   "source": [
    "In the Dataset tab, you can export your labels. \n",
    "\n",
    "![](../img/dataset_labeled.png)\n",
    "\n",
    "1. Choose your format and click on download. An asynchronous job is triggered, preparing your data. \n",
    "2. Next you will see a notification. Click on it, and click on the download button to download your data.\n",
    "\n",
    "Notification appears | Notification list\n",
    ":--:|:--:\n",
    "![](../img/notification_appears.png) | <img src=\"../img/notification_opened.png\" width=400>"
   ]
  },
  {
   "cell_type": "markdown",
   "metadata": {},
   "source": [
    "If you choose Kili's classic API format, you get this file:\n",
    "\n",
    "```json\n",
    "[\n",
    "  {\n",
    "    \"content\": \"https://cloud.kili-technology.com/api/label/v2/files?id=f436f198-cede-4380-a119-f5d827f8a8fa\",\n",
    "    \"externalId\": \"car_2.jpg\",\n",
    "    \"id\": \"ckm0ligy900uuc49k1idydxsk\",\n",
    "    \"jsonMetadata\": {},\n",
    "    \"labels\": [\n",
    "      {\n",
    "        \"author\": {\n",
    "          \"email\": \"email of the author of the label\",\n",
    "          \"id\": \"id of the author of the label\",\n",
    "        },\n",
    "        \"createdAt\": \"2021-03-08T14:32:09.063Z\",\n",
    "        \"isLatestLabelForUser\": true,\n",
    "        \"jsonResponse\": {\n",
    "          \"JOB_0\": { \"categories\": [{ \"confidence\": 100, \"name\": \"OBJECT_A\" }] }\n",
    "        },\n",
    "        \"labelType\": \"DEFAULT\",\n",
    "        \"modelName\": null,\n",
    "        \"skipped\": false\n",
    "      }\n",
    "    ]\n",
    "  }\n",
    "]\n",
    "```\n",
    "\n",
    "[For details on the data export, click here](https://cloud.kili-technology.com/docs/data-export/data-export/#docsNav)"
   ]
  },
  {
   "cell_type": "markdown",
   "metadata": {},
   "source": [
    "<details>\n",
    "<summary style=\"display: list-item;\"> Follow these instructions to export labels from the API </summary>\n",
    "\n",
    "```python\n",
    "labels = kili.labels(\n",
    "    project_id=project_id\n",
    ")\n",
    "\n",
    "def hide_sensitive(label):\n",
    "    label['author'] = {\n",
    "        'email': 'email of the author of the label',\n",
    "        'id': 'identifier of the author of the label',\n",
    "    }\n",
    "    return label\n",
    "\n",
    "result_hidden = [hide_sensitive(label) for label in labels]\n",
    "result_hidden\n",
    "```\n",
    "\n",
    "\n",
    "\n",
    "\n",
    "    [{'author': {'email': 'email of the author of the label',\n",
    "       'id': 'identifier of the author of the label',\n",
    "      'id': 'ckm4pmzlj0009d49k1avaeubv',\n",
    "      'jsonResponse': {'JOB_0': {'categories': [{'name': 'OBJECT_A'}]}},\n",
    "      'labelType': 'DEFAULT',\n",
    "      'secondsToLabel': 0,\n",
    "      'skipped': False}]\n",
    "\n",
    "\n",
    "\n",
    "Our API uses GraphQL; You can simply choose in the fields you want to fetch by specifying a list:\n",
    "\n",
    "\n",
    "```python\n",
    "labels = kili.labels(\n",
    "    project_id=project_id,\n",
    "    fields=['id', 'createdAt', 'labelOf.externalId']\n",
    ")\n",
    "assert len(labels) > 0\n",
    "labels\n",
    "```\n",
    "\n",
    "\n",
    "\n",
    "\n",
    "    [{'labelOf': {'externalId': 'car_2.jpg'},\n",
    "      'id': 'ckm4pmzlj0009d49k1avaeubv',\n",
    "      'createdAt': '2021-03-11T10:10:20.984Z'}]\n",
    "\n",
    "\n",
    "\n",
    "Of course, you have plenty more options/filters \n",
    "\n",
    "\n",
    "```python\n",
    "help(kili.labels)\n",
    "```\n",
    "\n",
    "    Help on method labels in module kili.queries.label:\n",
    "    \n",
    "    labels(asset_id: str = None, asset_status_in: List[str] = None, asset_external_id_in: List[str] = None, author_in: List[str] = None, created_at: str = None, created_at_gte: str = None, created_at_lte: str = None, fields: list = ['author.email', 'author.id', 'id', 'jsonResponse', 'labelType', 'secondsToLabel', 'skipped'], first: int = None, honeypot_mark_gte: float = None, honeypot_mark_lte: float = None, id_contains: List[str] = None, json_response_contains: List[str] = None, label_id: str = None, project_id: str = None, skip: int = 0, skipped: bool = None, type_in: List[str] = None, user_id: str = None) method of kili.playground.Playground instance\n",
    "        Get an array of labels from a project given a set of criteria\n",
    "        \n",
    "        Parameters\n",
    "        ----------\n",
    "        - asset_id : str, optional (default = None)\n",
    "            Identifier of the asset.\n",
    "        - asset_status_in : list of str, optional (default = None)\n",
    "            Returned labels should have a status that belongs to that list, if given.\n",
    "            Possible choices : {'TODO', 'ONGOING', 'LABELED', 'REVIEWED'}\n",
    "        - asset_external_id_in : list of str, optional (default = None)\n",
    "            Returned labels should have an external id that belongs to that list, if given.\n",
    "        - author_in : list of str, optional (default = None)\n",
    "            Returned labels should have a label whose status belongs to that list, if given.\n",
    "        - created_at : string, optional (default = None)\n",
    "            Returned labels should have a label whose creation date is equal to this date.\n",
    "            Formatted string should have format : \"YYYY-MM-DD\"\n",
    "        - created_at_gt : string, optional (default = None)\n",
    "            Returned labels should have a label whose creation date is greater than this date.\n",
    "            Formatted string should have format : \"YYYY-MM-DD\"\n",
    "        - created_at_lt : string, optional (default = None)\n",
    "            Returned labels should have a label whose creation date is lower than this date.\n",
    "            Formatted string should have format : \"YYYY-MM-DD\"\n",
    "        - fields : list of string, optional (default = ['author.email', 'author.id', 'id', 'jsonResponse', 'labelType', 'secondsToLabel', 'skipped'])\n",
    "            All the fields to request among the possible fields for the labels.\n",
    "            See [the documentation](https://cloud.kili-technology.com/docs/python-graphql-api/graphql-api/#label) for all possible fields.\n",
    "        - first : int, optional (default = None)\n",
    "            Maximum number of labels to return.  Can only be between 0 and 100.\n",
    "        - honeypot_mark_gt : float, optional (default = None)\n",
    "            Returned labels should have a label whose honeypot is greater than this number.\n",
    "        - honeypot_mark_lt : float, optional (default = None)\n",
    "            Returned labels should have a label whose honeypot is lower than this number.\n",
    "        - id_contains : list of str, optional (default = None)\n",
    "            Filters out labels not belonging to that list. If empty, no filtering is applied.\n",
    "        - json_response_contains : list of str, optional (default = None)\n",
    "            Returned labels should have a substring of the jsonResponse that belongs to that list, if given.\n",
    "        - label_id : str\n",
    "            Identifier of the label.\n",
    "        - project_id : str\n",
    "            Identifier of the project.\n",
    "        - skip : int, optional (default = None)\n",
    "            Number of labels to skip (they are ordered by their date of creation, first to last).\n",
    "        - skipped : bool, optional (default = None)\n",
    "            Returned labels should have a label which is skipped\n",
    "        - type_in : list of str, optional (default = None)\n",
    "            Returned labels should have a label whose type belongs to that list, if given.\n",
    "        - user_id : str\n",
    "            Identifier of the user.\n",
    "        \n",
    "        \n",
    "        Returns\n",
    "        -------\n",
    "        - a result object which contains the query if it was successful, or an error message else.\n",
    "        \n",
    "        Examples\n",
    "        -------\n",
    "        >>> # List all labels of a project and their assets external ID\n",
    "        >>> playground.labels(project_id=project_id, fields=['jsonResponse', 'labelOf.externalId'])\n",
    "    \n",
    "</details>"
   ]
  },
  {
   "cell_type": "markdown",
   "metadata": {},
   "source": [
    "# Quality Management<a id='quality'></a>"
   ]
  },
  {
   "cell_type": "markdown",
   "metadata": {},
   "source": [
    "To ensure your model performs well, it's essential that your annotations are good quality. Using Kili, you have two main ways to measure the quality of the annotations: consensus and honeypot. Consensus basically is the measure of agreement between annotations from different annotators. Honeypot is measured by comparing the annotations of your annotators to a specified gold standard that you should provide beforehand.\n",
    "\n",
    "To access the quality management tab, go to “Settings” (gear icon), then “Quality Management”, as shown below:\n",
    "\n",
    "![](../img/access_quality_management.png)\n",
    "\n",
    "See more detailed information on each area:\n",
    "- [Quality management](https://cloud.kili-technology.com/docs/quality/quality-management/#docsNav)\n",
    "- Settings up quality metrics: [Consensus](https://cloud.kili-technology.com/docs/quality/consensus/#docsNav) and [Honeypot](https://cloud.kili-technology.com/docs/quality/honeypot/)"
   ]
  },
  {
   "cell_type": "markdown",
   "metadata": {},
   "source": [
    "# More advanced concepts <a id='concepts'></a>"
   ]
  },
  {
   "cell_type": "markdown",
   "metadata": {},
   "source": [
    "Additionally, following are more advanced features:\n",
    "\n",
    "- [Importing predictions](https://cloud.kili-technology.com/docs/python-graphql-api/recipes/import_predictions/#docsNav)\n",
    "- [Reviewing the labels](https://cloud.kili-technology.com/docs/quality/review-process/#docsNav)\n",
    "- [Issue/Question system](https://cloud.kili-technology.com/docs/quality/question-issue/#docsNav)\n",
    "\n",
    "[The full API definition can be found here](https://cloud.kili-technology.com/docs/python-graphql-api/python-api/#docsNav)"
   ]
  }
 ],
 "metadata": {
  "kernelspec": {
   "display_name": "Python 3",
   "language": "python",
   "name": "python3"
  },
  "language_info": {
   "codemirror_mode": {
    "name": "ipython",
    "version": 3
   },
   "file_extension": ".py",
   "mimetype": "text/x-python",
   "name": "python",
   "nbconvert_exporter": "python",
   "pygments_lexer": "ipython3",
   "version": "3.8.8"
  }
 },
 "nbformat": 4,
 "nbformat_minor": 4
}
