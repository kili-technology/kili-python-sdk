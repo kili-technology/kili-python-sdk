{
 "cells": [
  {
   "cell_type": "markdown",
   "metadata": {},
   "source": [
    "# Named Entity Recognition"
   ]
  },
  {
   "cell_type": "markdown",
   "metadata": {},
   "source": [
    "In this tutorial we show you how to start with a Named Entity Recognition (NER) project.\n",
    "\n",
    "Here are the steps in this tutorial:\n",
    "\n",
    "1. [What is Named Entity Recognition (NER)?](#ner)\n",
    "2. [Connection to Kili](#connect)\n",
    "3. [Creating the project, setting up the interface](#project)\n",
    "4. [Importing data](#data)\n",
    "5. [Labeling](#labeling)\n",
    "6. [Exporting labels](#export)\n",
    "7. [Quality Management](#quality)\n",
    "8. [More advanced concepts](#concepts)"
   ]
  },
  {
   "cell_type": "markdown",
   "metadata": {},
   "source": [
    "# What is Named Entity Recognition (NER)?<a id='ner'></a>"
   ]
  },
  {
   "cell_type": "markdown",
   "metadata": {},
   "source": [
    "The first key concept to understand is what is Named Entity Recognition (NER). NER is a sub-task of information extraction that seeks to locate and classify named entities mentioned in unstructured text into predefined categories such as names, organizations, locations, medical codes, time expressions, quantities, etc. NER has many use cases, such as anonymisation of documents containing personal data. This is especially applicable to use cases involving protected data such as medical documents or court decisions. To make things more concrete, let's examine an example. Let's say we have the text below:\n",
    "\n",
    "![](../img/asset_ner.png)\n",
    "\n",
    "We want to specify in this document which includes names, nouns, adjectives, and verbs. We’ll Kili in this tutorial, and afterwards, the document will look like this:\n",
    "\n",
    "![](../img/asset_ner_annotated.png)\n",
    "\n",
    "This task is easy for a human: recognizing nouns, adjectives, and verbs. But this process is actually helpful for a machine to learn to recognize nouns and other things in a document. Training a machine learning model requires large quantities of annotated assets. With Kili, you can label your data efficiently. In this tutorial, we will create our project on NER step-by-step."
   ]
  },
  {
   "cell_type": "markdown",
   "metadata": {},
   "source": [
    "# Connecting to Kili <a id='connect'></a>"
   ]
  },
  {
   "cell_type": "markdown",
   "metadata": {},
   "source": [
    "The first step is to be able to connect to the platform.\n",
    "\n",
    "If you use the SaaS version of Kili (see [here](https://cloud.kili-technology.com/docs/hosting/saas/)), you use by default the Auth0 login identification, or your company's authentication if it has been implemented. \n",
    "\n",
    "<img src=\"../img/auth0.png\" width=\"400\" />\n",
    "\n",
    "If you use Kili on-premise (see [here](https://cloud.kili-technology.com/docs/hosting/on-premise-entreprise/)), you will probably use our own authentication:\n",
    "\n",
    "<img src=\"../img/noauth0.png\" width=\"400\" />\n",
    "\n",
    "You need your organization admin to create your profile, and depending on the authentication implementation, you can sign up and set your password, or use the temporary one provided to you by the admin. \n",
    "\n",
    "If everything succeeds, you should arrive at the Projects page shown in the beginning of the next section."
   ]
  },
  {
   "cell_type": "markdown",
   "metadata": {},
   "source": [
    "# Creating the project <a id='project'></a>"
   ]
  },
  {
   "cell_type": "markdown",
   "metadata": {},
   "source": [
    "## List of projects"
   ]
  },
  {
   "cell_type": "markdown",
   "metadata": {},
   "source": [
    "You arrive on a list of projects. The list can be empty if you created nothing.\n",
    "\n",
    "![](../img/project_list.png)\n",
    "\n",
    "You can refer to this [document](https://cloud.kili-technology.com/docs/concepts/definitions/) to find the definitions of key concepts at Kili. One of them is a project, which is a combination of:\n",
    "- a dataset (a list of assets)\n",
    "- members (project users; each can have different roles)\n",
    "- an interface, describing the annotation plan."
   ]
  },
  {
   "cell_type": "markdown",
   "metadata": {},
   "source": [
    "## Create the project "
   ]
  },
  {
   "cell_type": "markdown",
   "metadata": {},
   "source": [
    "You can either create a project [from the interface](https://cloud.kili-technology.com/docs/projects/new-project/#docsNav) or [from the API](https://github.com/kili-technology/kili-playground/blob/master/recipes/create_project.ipynb).\n",
    "\n",
    "To create a project from the interface, select `Create New` from the list of projects. Next, type your project's name and a description, and select `Text Named-Entities Recognition`. Finally, press `Save` as shown below:\n",
    "\n",
    "![](../img/getting_started/create_ner_project.gif)"
   ]
  },
  {
   "cell_type": "markdown",
   "metadata": {},
   "source": [
    "<details>\n",
    "<summary style=\"display: list-item;\"> Follow these instructions to create a NER project from the API </summary>\n",
    "\n",
    "From the API, you can create a project with a single call, which allows you to store and share project interfaces:\n",
    "- First, [connect to Kili](https://github.com/kili-technology/kili-playground/blob/master/README.md#get-started)\n",
    "\n",
    "\n",
    "```python\n",
    "# Authentication\n",
    "import os\n",
    "\n",
    "# !pip install kili # uncomment if you don't have kili installed already\n",
    "from kili.client import Kili\n",
    "\n",
    "api_key = os.getenv('KILI_USER_API_KEY')\n",
    "api_endpoint = os.getenv('KILI_API_ENDPOINT') # If you use Kili SaaS, use the url 'https://cloud.kili-technology.com/api/label/v2/graphql'\n",
    "\n",
    "kili = Kili(api_key=api_key, api_endpoint=api_endpoint)\n",
    "```\n",
    "\n",
    "- Then call the method `create_project` : <a id='command'></a>\n",
    "```python\n",
    "kili.create_project(\n",
    "    title='Project Title',\n",
    "    description='Project Description',\n",
    "    input_type='TEXT',\n",
    "    json_interface=interface\n",
    ")\n",
    "```\n",
    "\n",
    "with `interface` such as:\n",
    "\n",
    "\n",
    "```python\n",
    "interface = {\n",
    "\t\"jobRendererWidth\": 0.25,\n",
    "\t\"jobs\": {\n",
    "\t\t\"JOB_0\": {\n",
    "\t\t\t\"mlTask\": \"NAMED_ENTITIES_RECOGNITION\",\n",
    "\t\t\t\"instruction\": \"Categories\",\n",
    "\t\t\t\"required\": 1,\n",
    "\t\t\t\"isChild\": false,\n",
    "\t\t\t\"isVisible\": true,\n",
    "\t\t\t\"content\": {\n",
    "\t\t\t\t\"categories\": {\n",
    "\t\t\t\t\t\"INTERJECTION\": {\n",
    "\t\t\t\t\t\t\"name\": \"Interjection\",\n",
    "\t\t\t\t\t\t\"children\": [],\n",
    "\t\t\t\t\t\t\"color\": \"#0755FF\"\n",
    "\t\t\t\t\t},\n",
    "\t\t\t\t\t\"NOUN\": {\n",
    "\t\t\t\t\t\t\"name\": \"Noun\",\n",
    "\t\t\t\t\t\t\"children\": [],\n",
    "\t\t\t\t\t\t\"color\": \"#EEBA00\"\n",
    "\t\t\t\t\t}\n",
    "\t\t\t\t},\n",
    "\t\t\t\t\"input\": \"radio\"\n",
    "\t\t\t}\n",
    "\t\t}\n",
    "\t}\n",
    "}\n",
    "```\n",
    "\n",
    "\n",
    "```python\n",
    "result = kili.create_project(\n",
    "    title='Project Title',\n",
    "    description='Project Description',\n",
    "    input_type='TEXT',\n",
    "    json_interface=interface\n",
    ")\n",
    "print(result)\n",
    "```\n",
    "\n",
    "```python\n",
    "Out: {'id': 'ckm4pmqmk0000d49k6ewu2um5'}\n",
    "```\n",
    "</details>"
   ]
  },
  {
   "cell_type": "markdown",
   "metadata": {},
   "source": [
    "## Access your project"
   ]
  },
  {
   "cell_type": "markdown",
   "metadata": {},
   "source": [
    "This creates a project with a simple interface with two types of Named Entities: \"Interjection\" and \"Noun\". Once logged in, you can see your project in the list of projects: \n",
    "\n",
    "![](../img/project_ner_in_list.png)\n",
    "\n",
    "Click on it. You arrive on the overview of the project:\n",
    "\n",
    "![](../img/project_overview.png)\n",
    "\n",
    "If you want to modify or view the interface, go to the “Settings” tab.\n",
    "\n",
    "<img src=\"../img/sidebar_settings.png\" width=100/>\n",
    "\n",
    "You can find both the form and the JSON versions of the interface:\n",
    "\n",
    "![](../img/project_ner_jobs.png)\n",
    "\n",
    "Furthermore, you can also do Named Entities Relation, another task relative to information extraction. Essentially, you can create relationships between your named entities. Currently, it's only possible to establish relationships for type “One to Many” on the Kili platform. To set things up, you have to go back to the settings of the project and select the `Add a new job` button. You should see a model. Click on `Named Entities Relations` and after this, choose `Radio Button`.\n",
    "\n",
    "![](../img/ner_relation_setting_up.png)\n",
    "\n",
    "The `Named Entities Relations` job will be added to your project. It will look like this:\n",
    "\n",
    "![](../img/ner_relation_settings.png)\n",
    "\n",
    "You can now create relationships between the named entities you already created. Choose the name of your relation on the left and select which entities are in a \"One to Many\" relationship.\n",
    "\n",
    "[Find out how to modify the interface dynamically!](https://cloud.kili-technology.com/docs/projects/customize-interface/#docsNav)\n",
    "\n",
    "If you want to go back to the list of projects, either click on Kili Technology in the top bar, or on the list of projects in the sidebar:\n",
    "\n",
    "<img src=\"../img/sidebar_listprojects.png\" width=100>"
   ]
  },
  {
   "cell_type": "markdown",
   "metadata": {},
   "source": [
    "<summary style=\"display: list-item;\"> Follow these instructions to create a project from the API </summary>\n",
    "\n",
    "When you run the [command](#command) to create a project, it outputs a unique identifier of the project. This identifier is used to recognize, access, and modify the project from the API.\n",
    "\n",
    "<a id=\"command\"></a>\n",
    "```python\n",
    "kili.create_project(\n",
    "    title='Project Title',\n",
    "    description='Project Description',\n",
    "    input_type='IMAGE',\n",
    "    json_interface=interface\n",
    ")\n",
    "```\n",
    "\n",
    "Example of such an output:\n",
    "\n",
    "```python\n",
    "{'id': 'ckkpj7stx1bxc0jvk1gn9cu5v'}\n",
    "```\n",
    "\n",
    "Another way to get this project identifier is to look at the URL you're in:\n",
    "\n",
    "![](../img/url_project.png)\n",
    "</details>"
   ]
  },
  {
   "cell_type": "markdown",
   "metadata": {},
   "source": [
    "# Importing data <a id='data'></a>"
   ]
  },
  {
   "cell_type": "markdown",
   "metadata": {},
   "source": [
    "The next step is to import data.\n",
    "\n",
    "You can import data either [from the interface](https://cloud.kili-technology.com/docs/data-ingestion/data-ingestion-made-easy/) or [from the API](https://cloud.kili-technology.com/docs/python-graphql-api/recipes/import_assets/#kili-tutorial-importing-assets). \n",
    "\n",
    "\n",
    "To import data from the interface, go to the `Dataset` section in your project and then click on `Add New`. There you'll see two tabs. From the first one called `Uplod Local Data`, you'll be able to upload files stored on your computer. From the second tab called “Connect Cloud Data,” you should provide a .csv file containing the URLs to your data stored in the cloud. These steps are shown below:\n",
    "\n",
    "![](../img/import_assets.gif)"
   ]
  },
  {
   "cell_type": "markdown",
   "metadata": {},
   "source": [
    "# Labeling <a id='labeling'></a>"
   ]
  },
  {
   "cell_type": "markdown",
   "metadata": {},
   "source": [
    "When you create a project, you automatically become an admin of the project. This means that you can directly label. If you want to add members to the project, follow [](https://cloud.kili-technology.com/docs/projects/settings/#manage-project-members)."
   ]
  },
  {
   "cell_type": "markdown",
   "metadata": {},
   "source": [
    "To annotate a specific asset, you can go to the “Dataset” tab (in the side panel):\n",
    "\n",
    "<img src=\"../img/sidebar_dataset.png\" width=100>\n",
    "\n",
    "![](../img/ner_dataset.png)\n",
    "\n",
    "On the table of the assets, simply click on the line/asset (i.e., image here) you want to annotate."
   ]
  },
  {
   "cell_type": "markdown",
   "metadata": {},
   "source": [
    "## Label the first asset in the queue"
   ]
  },
  {
   "cell_type": "markdown",
   "metadata": {},
   "source": [
    "You can start to annotate right away with the `Start Labeling` button. "
   ]
  },
  {
   "cell_type": "markdown",
   "metadata": {},
   "source": [
    "## How to label ?"
   ]
  },
  {
   "cell_type": "markdown",
   "metadata": {},
   "source": [
    "You arrive on the asset `txt - 1`: \n",
    "\n",
    "![](../img/text1.png)\n",
    "\n",
    "Select the category (noun or interjections) you want by clicking on the right radio button, or by pressing the key underlined in the class name \"i\" for Interjections and \"n\" for Noun.\n",
    "\n",
    "You annotate by clicking on the radio button of a class and selecting the word you want to annotate in your text.\n",
    "\n",
    "![](../img/getting_started/ner_annotation.gif)\n",
    "\n",
    "Then, click on submit to send the label."
   ]
  },
  {
   "cell_type": "markdown",
   "metadata": {},
   "source": [
    "<details>\n",
    "    <summary style=\"display: list-item;\"> Follow these instructions to add a label from the API </summary>\n",
    "\n",
    "    For that, you need to know the identifier of the asset (image). Either from the url when you are on an asset\n",
    "\n",
    "    ![](https://raw.githubusercontent.com/kili-technology/kili-playground/master/recipes/img/asset_id_url.png)\n",
    "\n",
    "    or from the API, retrieving the assets of the project:\n",
    "\n",
    "\n",
    "    ```python\n",
    "    assets = kili.assets(\n",
    "        project_id=project_id,\n",
    "        fields=['id']\n",
    "    )\n",
    "    asset_id = assets[0]['id']\n",
    "    print(asset_id)\n",
    "    ```\n",
    "\n",
    "    ```python\n",
    "    kili.append_to_labels(\n",
    "        json_response=json_response,\n",
    "        label_asset_id=asset_id,\n",
    "        project_id=project_id\n",
    "    )\n",
    "    ```\n",
    "\n",
    "    {'id': 'ckm4pmzlj0009d49k1avaeubv'}\n",
    "\n",
    "    With a `json_response` such as :\n",
    "\n",
    "    ```\n",
    "    jsonResponse: {\n",
    "            JOB_0: {\n",
    "            annotations: [\n",
    "                {\n",
    "                beginId: '__default__',\n",
    "                beginOffset: 252,\n",
    "                categories: [\n",
    "                    {\n",
    "                    name: 'NOUN',\n",
    "                    confidence: 100\n",
    "                    }\n",
    "                ],\n",
    "                content: 'Proin',\n",
    "                endId: '__default__',\n",
    "                endOffset: 257,\n",
    "                mid: '2021050514450488-34689'\n",
    "                }\n",
    "            ]\n",
    "            }\n",
    "        },\n",
    "    ```\n",
    "    \n",
    "</details>"
   ]
  },
  {
   "cell_type": "markdown",
   "metadata": {},
   "source": [
    "# Exporting labels <a id='export'></a>"
   ]
  },
  {
   "cell_type": "markdown",
   "metadata": {},
   "source": [
    "## Through the interface"
   ]
  },
  {
   "cell_type": "markdown",
   "metadata": {},
   "source": [
    "In the Dataset tab, you can export your labels. \n",
    "\n",
    "![](../img/ner_labeled.png)\n",
    "\n",
    "1. Choose your format and click on “Download.” An asynchronous job is triggered, preparing your data.\n",
    "2. Next, you get a notification. Click on it, then click on the “Download\" button to download your data.\n",
    "\n",
    "Notification appears | Notification list\n",
    ":--:|:--:\n",
    "![](../img/notification_appears.png) | <img src=\"../img/notification_opened.png\" width=400>\n",
    "\n",
    "If you chose the Kili API Format, you get this file:\n",
    "\n",
    "```\n",
    "[\n",
    "    {\n",
    "        \"content\": \"https://staging.cloud.kili-technology.com/api/label/v2/files?id=2dd1efbd-20f9-4b1e-8da5-75758562f62f\", \n",
    "        \"externalId\": \"txt 1\", \"id\": \"ckob8lwha00070j2118gr55ld\", \n",
    "        \"jsonMetadata\": {}, \n",
    "        \"labels\": [\n",
    "            {\n",
    "                \"author\": \n",
    "                {\n",
    "                    \"email\": \"email of the author of the label\",\n",
    "                    \"id\": \"id of the author of the label\",\n",
    "                    \"createdAt\": \"2021-05-05T14:29:09.020Z\", \n",
    "                    \"isLatestLabelForUser\": true, \n",
    "                    \"jsonResponse\": \n",
    "                    {\n",
    "                        \"JOB_0\": \n",
    "                        {\n",
    "                            \"annotations\": [\n",
    "                                {\n",
    "                                    \"beginId\": \"__default__\", \n",
    "                                    \"beginOffset\": 252, \n",
    "                                    \"categories\": \n",
    "                                    [\n",
    "                                        {\n",
    "                                            \"confidence\": 100, \n",
    "                                            \"name\": \"NOUN\"\n",
    "                                        }\n",
    "                                    ], \n",
    "                                    \"content\": \"Proin\", \n",
    "                                    \"endId\": \"__default__\", \n",
    "                                    \"endOffset\": 257, \n",
    "                                    \"mid\": \"2021050514450488-34689\"\n",
    "                                }\n",
    "                            ]\n",
    "                        }\n",
    "                    }, \n",
    "                    \"labelType\": \"DEFAULT\", \n",
    "                    \"modelName\": null, \n",
    "                    \"skipped\": false\n",
    "                }\n",
    "            ]\n",
    "        }\n",
    "```\n",
    "\n",
    "[For details on the data export, click here](https://cloud.kili-technology.com/docs/data-export/data-export/#docsNav)"
   ]
  },
  {
   "cell_type": "markdown",
   "metadata": {},
   "source": [
    "<details>\n",
    "<summary style=\"display: list-item;\"> Follow these instructions to export labels from the API </summary>\n",
    "\n",
    "\n",
    "Our API uses GraphQL. Simply choose the fields you want to fetch by specifying a list:\n",
    "\n",
    "\n",
    "```python\n",
    "labels = kili.labels(\n",
    "    project_id=project_id,\n",
    "    fields=['id', 'createdAt', 'labelOf.externalId']\n",
    ")\n",
    "assert len(labels) > 0\n",
    "labels\n",
    "```\n",
    "\n",
    "\n",
    "\n",
    "\n",
    "    [{'labelOf': {'externalId': 'txt 1'},\n",
    "      'id': 'ckm4pmzlj0009d49k1avaeubv',\n",
    "      'createdAt': '2021-03-11T10:10:20.984Z'}]\n",
    "\n",
    "\n",
    "\n",
    "Of course, you have plenty more options/filters:\n",
    "\n",
    "\n",
    "```python\n",
    "help(kili.labels)\n",
    "```\n",
    "\n",
    "    Help on method labels in module kili.queries.label:\n",
    "    \n",
    "    labels(asset_id: str = None, asset_status_in: List[str] = None, asset_external_id_in: List[str] = None, author_in: List[str] = None, created_at: str = None, created_at_gte: str = None, created_at_lte: str = None, fields: list = ['author.email', 'author.id', 'id', 'jsonResponse', 'labelType', 'secondsToLabel', 'skipped'], first: int = None, honeypot_mark_gte: float = None, honeypot_mark_lte: float = None, id_contains: List[str] = None, json_response_contains: List[str] = None, label_id: str = None, project_id: str = None, skip: int = 0, skipped: bool = None, type_in: List[str] = None, user_id: str = None) method of kili.playground.Playground instance\n",
    "        Get an array of labels from a project given a set of criteria\n",
    "        \n",
    "        Parameters\n",
    "        ----------\n",
    "        - asset_id : str, optional (default = None)\n",
    "            Identifier of the asset.\n",
    "        - asset_status_in : list of str, optional (default = None)\n",
    "            Returned labels should have a status that belongs to that list, if given.\n",
    "            Possible choices : {'TODO', 'ONGOING', 'LABELED', 'REVIEWED'}\n",
    "        - asset_external_id_in : list of str, optional (default = None)\n",
    "            Returned labels should have an external id that belongs to that list, if given.\n",
    "        - author_in : list of str, optional (default = None)\n",
    "            Returned labels should have a label whose status belongs to that list, if given.\n",
    "        - created_at : string, optional (default = None)\n",
    "            Returned labels should have a label whose creation date is equal to this date.\n",
    "            Formatted string should have format : \"YYYY-MM-DD\"\n",
    "        - created_at_gt : string, optional (default = None)\n",
    "            Returned labels should have a label whose creation date is greater than this date.\n",
    "            Formatted string should have format : \"YYYY-MM-DD\"\n",
    "        - created_at_lt : string, optional (default = None)\n",
    "            Returned labels should have a label whose creation date is lower than this date.\n",
    "            Formatted string should have format : \"YYYY-MM-DD\"\n",
    "        - fields : list of string, optional (default = ['author.email', 'author.id', 'id', 'jsonResponse', 'labelType', 'secondsToLabel', 'skipped'])\n",
    "            All the fields to request among the possible fields for the labels.\n",
    "            See [the documentation](https://cloud.kili-technology.com/docs/python-graphql-api/graphql-api/#label) for all possible fields.\n",
    "        - first : int, optional (default = None)\n",
    "            Maximum number of labels to return.  Can only be between 0 and 100.\n",
    "        - honeypot_mark_gt : float, optional (default = None)\n",
    "            Returned labels should have a label whose honeypot is greater than this number.\n",
    "        - honeypot_mark_lt : float, optional (default = None)\n",
    "            Returned labels should have a label whose honeypot is lower than this number.\n",
    "        - id_contains : list of str, optional (default = None)\n",
    "            Filters out labels not belonging to that list. If empty, no filtering is applied.\n",
    "        - json_response_contains : list of str, optional (default = None)\n",
    "            Returned labels should have a substring of the jsonResponse that belongs to that list, if given.\n",
    "        - label_id : str\n",
    "            Identifier of the label.\n",
    "        - project_id : str\n",
    "            Identifier of the project.\n",
    "        - skip : int, optional (default = None)\n",
    "            Number of labels to skip (they are ordered by their date of creation, first to last).\n",
    "        - skipped : bool, optional (default = None)\n",
    "            Returned labels should have a label which is skipped\n",
    "        - type_in : list of str, optional (default = None)\n",
    "            Returned labels should have a label whose type belongs to that list, if given.\n",
    "        - user_id : str\n",
    "            Identifier of the user.\n",
    "        \n",
    "        \n",
    "        Returns\n",
    "        -------\n",
    "        - a result object which contains the query if it was successful, or an error message else.\n",
    "        \n",
    "        Examples\n",
    "        -------\n",
    "        >>> # List all labels of a project and their assets external ID\n",
    "        >>> playground.labels(project_id=project_id, fields=['jsonResponse', 'labelOf.externalId'])\n",
    "    \n",
    "</details>"
   ]
  },
  {
   "cell_type": "markdown",
   "metadata": {},
   "source": [
    "# Quality Management<a id='quality'></a>"
   ]
  },
  {
   "cell_type": "markdown",
   "metadata": {},
   "source": [
    "To ensure that your model performs well, it's essential that your annotations are good quality. Using Kili, you have two main ways to measure the quality of the annotations: consensus and honeypot. Consensus basically is the measure of agreement between annotations from different annotators. Honeypot is measured by comparing the annotations of your annotators to a gold standard that you should provide beforehand.\n",
    "\n",
    "To access the quality management tab, go to ”Settings”, then “Quality Management” as shown below:\n",
    "\n",
    "![](../img/access_quality_management.png)\n",
    "\n",
    "Plase follow the links below for detailed information:\n",
    "- [Quality management](https://cloud.kili-technology.com/docs/quality/quality-management/#docsNav)\n",
    "- Settings up quality metrics: [Consensus](https://cloud.kili-technology.com/docs/quality/consensus/#docsNav) and [Honeypot](https://cloud.kili-technology.com/docs/quality/honeypot/)"
   ]
  },
  {
   "cell_type": "markdown",
   "metadata": {},
   "source": [
    "# More advanced concepts <a id='concepts'></a>"
   ]
  },
  {
   "cell_type": "markdown",
   "metadata": {},
   "source": [
    "Here we list some of the more advanced features:\n",
    "\n",
    "- [Importing predictions](https://cloud.kili-technology.com/docs/python-graphql-api/recipes/import_predictions/#docsNav)\n",
    "- [Reviewing the labels](https://cloud.kili-technology.com/docs/quality/review-process/#docsNav)\n",
    "- [Issue/Question system](https://cloud.kili-technology.com/docs/quality/question-issue/#docsNav)\n",
    "- [More on Named Entities Recognition](https://cloud.kili-technology.com/docs/interfaces-text-pdf/named-entities-recognition/)\n",
    "\n",
    "[The full API definition can be found here](https://cloud.kili-technology.com/docs/python-graphql-api/python-api/#docsNav)"
   ]
  }
 ],
 "metadata": {
  "kernelspec": {
   "display_name": "Python 3 (ipykernel)",
   "language": "python",
   "name": "python3"
  },
  "language_info": {
   "codemirror_mode": {
    "name": "ipython",
    "version": 3
   },
   "file_extension": ".py",
   "mimetype": "text/x-python",
   "name": "python",
   "nbconvert_exporter": "python",
   "pygments_lexer": "ipython3",
   "version": "3.8.12"
  }
 },
 "nbformat": 4,
 "nbformat_minor": 4
}
