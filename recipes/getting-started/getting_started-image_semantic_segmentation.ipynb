{
 "cells": [
  {
   "cell_type": "markdown",
   "metadata": {},
   "source": [
    "# Image Semantic Segmentation"
   ]
  },
  {
   "cell_type": "markdown",
   "metadata": {},
   "source": [
    "In this tutorial, we show you how to start with an image semantic segmentation project. Following are the steps in this tutorial; feel free to jump ahead some steps if you've already done some previous tutorials:\n",
    "\n",
    "1. [What is semantic segmentation?](#intro)\n",
    "2. [Connection to Kili](#connect)\n",
    "3. [Creating the project, setting up the interface](#project)\n",
    "4. [Importing data](#data)\n",
    "5. [Labeling](#labeling)\n",
    "6. [Exporting labels](#export)\n",
    "7. [Quality Management](#quality)\n",
    "8. [More advanced concepts](#concepts)"
   ]
  },
  {
   "cell_type": "markdown",
   "metadata": {},
   "source": [
    "# What is semantic segmentation<a id='intro'></a>"
   ]
  },
  {
   "cell_type": "markdown",
   "metadata": {},
   "source": [
    "The task of image semantic segmentation consists of detecting specific regions of objects within an image. In concrete terms, this means detecting the shape of objects of different categories in images. Each category is composed of objects that all have common features. For example, we will consider the task of image semantic segmentation for the categories “Circle” and “Square.” We'll then try to identify these objects in our images knowing that circles are round and squares have four edges.\n",
    "\n",
    "In image semantic segmentation, our goal is not only to identify the presence of given objects, but also to identify their positions, dimensions, and shape. This requires work at the pixel level in order to classify every single pixel of the object. This can be achieved in an approximate way by drawing the shape of the object.\n",
    "\n",
    "In the image below, you'll find an example of Kili's interface for image semantic segmentation for an image of a Tesla car.\n",
    "\n",
    "![](../img/getting_started/semantic-segmentation.png)\n",
    "\n",
    "Using image object detection can be very helpful in domains such as facial recognition, medicine, self-driving cars, etc. It's especially interesting to be able to automate this process, but to achieve good performance it's generally necessary to have large quantities of labeled data. A great way to label your data efficiently is using Kili. The next steps of this tutorial will walk you through the creation of your first image object detection project at Kili."
   ]
  },
  {
   "cell_type": "markdown",
   "metadata": {},
   "source": [
    "# Connecting to Kili <a id='connect'></a>"
   ]
  },
  {
   "cell_type": "markdown",
   "metadata": {},
   "source": [
    "The first step is to be able to connect to the platform.\n",
    "\n",
    "If you use the SaaS version of Kili (see [here](https://cloud.kili-technology.com/docs/hosting/saas/)), you use by default the Auth0 login identification, or your company's authentication if it has been implemented. \n",
    "\n",
    "<img src=\"../img/auth0.png\" width=\"400\" />\n",
    "\n",
    "If you use Kili on-premise (see [here](https://cloud.kili-technology.com/docs/hosting/on-premise-entreprise/)), you will probably use our own authentication :\n",
    "\n",
    "<img src=\"../img/noauth0.png\" width=\"400\" />\n",
    "\n",
    "You need your organization admin to create your profile, and depending on the authentication implementation, you can sign up and set your password, or use the temporary one provided to you by the admin.\n",
    "\n",
    "If everything succeeds, you should arrive at the Projects page shown in the beginning of the next section."
   ]
  },
  {
   "cell_type": "markdown",
   "metadata": {},
   "source": [
    "# Creating the project <a id='project'></a>"
   ]
  },
  {
   "cell_type": "markdown",
   "metadata": {},
   "source": [
    "## List of projects"
   ]
  },
  {
   "cell_type": "markdown",
   "metadata": {},
   "source": [
    "You arrive on a list of projects.\n",
    "\n",
    "![](../img/project_list.png)\n",
    "\n",
    "You can refer to this [document](https://cloud.kili-technology.com/docs/concepts/definitions/) to find the definitions of key concepts at Kili. One of them is a project, which is a combination of:\n",
    "- a dataset (a list of assets)\n",
    "- members (project users; each can have different roles)\n",
    "- an interface, describing the annotation plan."
   ]
  },
  {
   "cell_type": "markdown",
   "metadata": {},
   "source": [
    "## Create the project "
   ]
  },
  {
   "cell_type": "markdown",
   "metadata": {},
   "source": [
    "You can either create a project [from the interface](https://cloud.kili-technology.com/docs/projects/new-project/#docsNav) or [from the API](https://github.com/kili-technology/kili-playground/blob/master/recipes/create_project.ipynb).\n",
    "\n",
    "To create a project from the interface, from the list of projects, select \"Create New\". Next, type your project's name and a description and select `Image Object Detection (semantic)`. Next, press \"Save\" as shown below:\n",
    "\n",
    "![](../img/getting_started/semantic-segmentation.gif)"
   ]
  },
  {
   "cell_type": "markdown",
   "metadata": {},
   "source": [
    "<details>\n",
    "<summary style=\"display: list-item;\"> Follow these instructions to create a project from the API </summary>\n",
    "\n",
    "From the API, you can create a project with a single call, which allows you to store and share project interfaces:\n",
    "- First, [connect to Kili](https://github.com/kili-technology/kili-playground/blob/master/README.md#get-started)\n",
    "\n",
    "\n",
    "```python\n",
    "# Authentication\n",
    "import os\n",
    "\n",
    "# !pip install kili # uncomment if you don't have kili installed already\n",
    "from kili.client import Kili\n",
    "\n",
    "api_key = os.getenv('KILI_USER_API_KEY')\n",
    "api_endpoint = os.getenv('KILI_API_ENDPOINT') # If you use Kili SaaS, use the url 'https://cloud.kili-technology.com/api/label/v2/graphql'\n",
    "\n",
    "kili = Kili(api_key=api_key, api_endpoint=api_endpoint)\n",
    "```\n",
    "\n",
    "- Then call the method `create_project`: <a id='command'></a>\n",
    "\n",
    "```python\n",
    "kili.create_project(\n",
    "    title='Project Title',\n",
    "    description='Project Description',\n",
    "    input_type='IMAGE',\n",
    "    json_interface=interface\n",
    ")\n",
    "```\n",
    "\n",
    "with `interface` such as:\n",
    "\n",
    "\n",
    "```python\n",
    "{\n",
    "\t\"jobRendererWidth\": 0.17,\n",
    "\t\"jobs\": {\n",
    "\t\t\"JOB_0\": {\n",
    "\t\t\t\"mlTask\": \"OBJECT_DETECTION\",\n",
    "\t\t\t\"tools\": [\n",
    "\t\t\t\t\"semantic\"\n",
    "\t\t\t],\n",
    "\t\t\t\"instruction\": \"Categories\",\n",
    "\t\t\t\"required\": 1,\n",
    "\t\t\t\"isChild\": false,\n",
    "\t\t\t\"isVisible\": true,\n",
    "\t\t\t\"content\": {\n",
    "\t\t\t\t\"categories\": {\n",
    "\t\t\t\t\t\"OBJECT_A\": {\n",
    "\t\t\t\t\t\t\"name\": \"Object A\",\n",
    "\t\t\t\t\t\t\"children\": [],\n",
    "\t\t\t\t\t\t\"color\": \"#0755FF\"\n",
    "\t\t\t\t\t},\n",
    "\t\t\t\t\t\"OBJECT_B\": {\n",
    "\t\t\t\t\t\t\"name\": \"Object B\",\n",
    "\t\t\t\t\t\t\"children\": [],\n",
    "\t\t\t\t\t\t\"color\": \"#EEBA00\"\n",
    "\t\t\t\t\t}\n",
    "\t\t\t\t},\n",
    "\t\t\t\t\"input\": \"radio\"\n",
    "\t\t\t}\n",
    "\t\t}\n",
    "\t}\n",
    "}\n",
    "```\n",
    "\n",
    "\n",
    "```python\n",
    "result = kili.create_project(\n",
    "    title='Project Title',\n",
    "    description='Project Description',\n",
    "    input_type='IMAGE',\n",
    "    json_interface=interface\n",
    ")\n",
    "print(result)\n",
    "```\n",
    "\n",
    "```python\n",
    "Out: {'id': 'ckm4pmqmk0000d49k6ewu2um5'}\n",
    "```\n",
    "</details>"
   ]
  },
  {
   "cell_type": "markdown",
   "metadata": {},
   "source": [
    "## Access your project"
   ]
  },
  {
   "cell_type": "markdown",
   "metadata": {},
   "source": [
    "You've just created a project with a simple interface with a radio button and two categories: Object A and Object B. Once logged in, you should now be able to see your project in the list of projects. Click on it and you should arrive on the overview of the project:\n",
    "\n",
    "![](../img/getting_started/project-overview-semantic-segmentation.png)\n",
    "\n",
    "If you want to modify or view the interface, you can go to the \"Settings\" tab. First, click on the \"Settings\" button in the sidebar.\n",
    "\n",
    "<img src=\"../img/sidebar_settings.png\" width=100/>\n",
    "\n",
    "You can find both the form and the JSON version of the interface:\n",
    "\n",
    "![](../img/project_settings.png)\n",
    "\n",
    "[Find out how to modify the interface dynamically](https://cloud.kili-technology.com/docs/projects/customize-interface/#docsNav).\n",
    "\n",
    "If you want to go back to the list of projects, either click on Kili Technology in the top bar, or on the list of projects in the sidebar:\n",
    "\n",
    "<img src=\"../img/sidebar_listprojects.png\" width=100>"
   ]
  },
  {
   "cell_type": "markdown",
   "metadata": {},
   "source": [
    "<details class=\"mydetails\">\n",
    "<summary style=\"display: list-item;\"> Follow these instructions to create a project from the API </summary>\n",
    "\n",
    "When you run the [command](#command) to create a project, it outputs a unique identifier of the project. This identifier is used to recognize, access, and modify the project from the API.\n",
    "\n",
    "<a id=\"command\"></a>\n",
    "```python\n",
    "kili.create_project(\n",
    "    title='Project Title',\n",
    "    description='Project Description',\n",
    "    input_type='IMAGE',\n",
    "    json_interface=interface\n",
    ")\n",
    "```\n",
    "\n",
    "Example of such an output:\n",
    "\n",
    "```python\n",
    "{'id': 'ckkpj7stx1bxc0jvk1gn9cu5v'}\n",
    "```\n",
    "\n",
    "Another way to get this project identifier is to look at the URL you're in:\n",
    "\n",
    "![](../img/url_project.png)\n",
    "</details>"
   ]
  },
  {
   "cell_type": "markdown",
   "metadata": {},
   "source": [
    "# Importing data <a id='data'></a>"
   ]
  },
  {
   "cell_type": "markdown",
   "metadata": {},
   "source": [
    "The next step is to import data.\n",
    "\n",
    "You can import data either [from the interface](https://cloud.kili-technology.com/docs/data-ingestion/data-ingestion-made-easy/) or [from the API](https://cloud.kili-technology.com/docs/python-graphql-api/recipes/import_assets/#kili-tutorial-importing-assets). \n",
    "\n",
    "\n",
    "To import data from the interface, go to the “Dataset” tab in your project and then click on “Add New”. There you'll see two tabs. From the first one called “Upload Local Data”, you'll be able to upload files stored on your computer. From the second tab called “Connect Cloud Data”, you should provide a `.csv` file containing the URLs to your data stored in the cloud. These steps are shown below:\n",
    "\n",
    "![](../img/import_assets.gif)"
   ]
  },
  {
   "cell_type": "markdown",
   "metadata": {},
   "source": [
    "<details>\n",
    "<summary style=\"display: list-item;\"> Follow these instructions to import data from the API </summary>\n",
    "\n",
    "You should simply call [this function](https://cloud.kili-technology.com/docs/python-graphql-api/python-api/#append_many_to_dataset) :\n",
    "\n",
    "```python\n",
    "kili.append_many_to_dataset(\n",
    "    project_id=\"ckkpj7stx1bxc0jvk1gn9cu5v\", \n",
    "    content_array=[\"path-to-local-image OR url-to-image\"],\n",
    "    external_id_array=[\"your-identifier-of-the-image\"]\n",
    ")\n",
    "```\n",
    "\n",
    "\n",
    "```python\n",
    "# Example\n",
    "\n",
    "project_id = result['id']\n",
    "\n",
    "kili.append_many_to_dataset(\n",
    "    project_id=project_id, \n",
    "    content_array=[\"https://raw.githubusercontent.com/kili-technology/kili-playground/master/recipes/img/car_2.jpg\"],\n",
    "    external_id_array=[\"car_2.jpg\"]\n",
    ")\n",
    "```\n",
    "    \n",
    "```python\n",
    "Out: {'id': 'ckm4pmqmk0000d49k6ewu2um5'}\n",
    "```\n",
    "</details>"
   ]
  },
  {
   "cell_type": "markdown",
   "metadata": {},
   "source": [
    "# Labeling <a id='labeling'></a>"
   ]
  },
  {
   "cell_type": "markdown",
   "metadata": {},
   "source": [
    "When you create a project, you automatically become an admin of the project. This means that you can directly label. If you want to add members to the project, follow [](https://cloud.kili-technology.com/docs/projects/settings/#manage-project-members)."
   ]
  },
  {
   "cell_type": "markdown",
   "metadata": {},
   "source": [
    "## Label a specific asset"
   ]
  },
  {
   "cell_type": "markdown",
   "metadata": {},
   "source": [
    "To annotate a specific asset, you can go to the dataset tab (in the side panel) :\n",
    "\n",
    "<img src=\"../img/sidebar_dataset.png\" width=100>\n",
    "\n",
    "![](../img/project_dataset.png)\n",
    "\n",
    "On the table of the assets, simply click on the line/asset (i.e., image here) you want to annotate."
   ]
  },
  {
   "cell_type": "markdown",
   "metadata": {},
   "source": [
    "## Label the first asset in the queue"
   ]
  },
  {
   "cell_type": "markdown",
   "metadata": {},
   "source": [
    "Otherwise, you can start to annotate right away with the “Start Labeling” button."
   ]
  },
  {
   "cell_type": "markdown",
   "metadata": {},
   "source": [
    "## How to label ?"
   ]
  },
  {
   "cell_type": "markdown",
   "metadata": {},
   "source": [
    "Suppose that you've created a simple project as described in [Creating the project](#project). Now, to annotate, go to “Overview” and click on “Start Labeling.” You should arrive at the image of a car. Now just select a class (Object A or Object B) and drag-and-drop your bounding box. You should use the red lines as guides while annotating.\n",
    "\n",
    "![](../img/getting_started/semantic-segmentation-annotation.gif)\n",
    "\n",
    "Select the category you want by clicking on the right radio button, or by pressing the key underlined in the class name \"d\" for *Door*, \"w\" for *Wheel* and \"c\" for *Car*.\n",
    "\n",
    "Then, click on Submit to send the label.\n",
    "\n",
    "In addition, Kili has smart tools in order to make the annotation of semantic segmentation easier. You can use the [Interactive Segmentation](https://cloud.kili-technology.com/docs/interfaces-image/segmentation/#interactive-segmentation) model:\n",
    "\n",
    "![](../img/getting_started/interactive-segmentation.gif)\n",
    "\n",
    "You can use the [Superpixel](https://cloud.kili-technology.com/docs/interfaces-image/segmentation/#superpixel) model:\n",
    "\n",
    "![](../img/getting_started/superpixel_size_grid.gif)"
   ]
  },
  {
   "cell_type": "markdown",
   "metadata": {},
   "source": [
    "<details>\n",
    "<summary style=\"display: list-item;\"> Follow these instructions to add a label from the API </summary>\n",
    "\n",
    "For this, you need to know the identifier of the asset (image) — either from the  URL when you are on an asset:\n",
    "\n",
    "![](https://raw.githubusercontent.com/kili-technology/kili-playground/master/recipes/img/asset_id_url.png)\n",
    "\n",
    "or, from the API, retrieving the assets of the project:\n",
    "\n",
    "```python\n",
    "assets = kili.assets(\n",
    "    project_id=project_id,\n",
    "    fields=['id']\n",
    ")\n",
    "asset_id = assets[0]['id']\n",
    "print(asset_id)\n",
    "```\n",
    "\n",
    "    100%|██████████| 1/1 [00:00<00:00, 27.40it/s]\n",
    "\n",
    "    ckm4pmuy30006d49kh0q64i0g\n",
    "\n",
    "```python\n",
    "kili.append_to_labels(\n",
    "    json_response=json_response,\n",
    "    label_asset_id=asset_id,\n",
    "    project_id=project_id\n",
    ")\n",
    "```\n",
    "\n",
    "Output: {'id': 'ckm4pmzlj0009d49k1avaeubv'}\n",
    "\n",
    "with `json_response` as:\n",
    "\n",
    "```python\n",
    "json_response = {\n",
    "    'JOB_0': {\n",
    "        'annotations': [\n",
    "            {\n",
    "                'boundingPoly': [\n",
    "                    {\n",
    "                        'normalizedVertices': [\n",
    "                            {'x': 0.551976, 'y': 0.7230524444444444},\n",
    "                            {'x': 0.557258, 'y': 0.6025742222222222},\n",
    "                            {'x': 0.553737, 'y': 0.4836586666666667},\n",
    "                            {'x': 0.554617, 'y': 0.43046044444444453},\n",
    "                            {'x': 0.58807, 'y': 0.38351999999999997},\n",
    "                            {'x': 0.616241, 'y': 0.3600497777777778},\n",
    "                            {'x': 0.617122, 'y': 0.3600497777777778},\n",
    "                            {'x': 0.647053, 'y': 0.3490968888888889},\n",
    "                            {'x': 0.656737, 'y': 0.3506613333333334},\n",
    "                            {'x': 0.662019, 'y': 0.3490968888888889},\n",
    "                            {'x': 0.674344, 'y': 0.4711413333333334},\n",
    "                            {'x': 0.680506, 'y': 0.507128888888889},\n",
    "                            {'x': 0.683147, 'y': 0.5274702222222223},\n",
    "                            {'x': 0.680506, 'y': 0.5759733333333333},\n",
    "                            {'x': 0.672583, 'y': 0.6495128888888889},\n",
    "                            {'x': 0.673464, 'y': 0.6776782222222222},\n",
    "                            {'x': 0.675224, 'y': 0.6917599999999999},\n",
    "                            {'x': 0.669942, 'y': 0.7074062222222222},\n",
    "                            {'x': 0.553737, 'y': 0.7246186666666666}\n",
    "                        ]\n",
    "                    }\n",
    "                ],\n",
    "                'categories': [{'name': 'OBJECT_A', 'confidence': 100}],\n",
    "                'mid': '2021051016131241-77347',\n",
    "                'score': None,\n",
    "                'type': 'polygon'\n",
    "            }\n",
    "        ]\n",
    "    }\n",
    "}\n",
    "```\n",
    "\n",
    "</details>"
   ]
  },
  {
   "cell_type": "markdown",
   "metadata": {},
   "source": [
    "# Exporting labels <a id='export'></a>"
   ]
  },
  {
   "cell_type": "markdown",
   "metadata": {},
   "source": [
    "## Through the interface"
   ]
  },
  {
   "cell_type": "markdown",
   "metadata": {},
   "source": [
    "In the dataset tab, you can export your labels. \n",
    "\n",
    "![](../img/dataset_labeled.png)\n",
    "\n",
    "1. Choose your format and click on download : an asynchronous job is triggered, preparing your data \n",
    "2. A few moments later, you get a notification: click on it, and click on the download button to download your data.\n",
    "\n",
    "Notification appears | Notification list\n",
    ":--:|:--:\n",
    "![](../img/notification_appears.png) | <img src=\"../img/notification_opened.png\" width=400>"
   ]
  },
  {
   "cell_type": "markdown",
   "metadata": {},
   "source": [
    "If you choose Kili's classic API format, you get this file:\n",
    "\n",
    "```json\n",
    "[\n",
    "  {\n",
    "    \"content\": \"https://storage.googleapis.com/label-public-staging/car/car_1.jpg\",\n",
    "    \"externalId\": \"img 1\",\n",
    "    \"id\": \"ckoioq1s104nu0j1700e20s2x\",\n",
    "    \"jsonMetadata\": {},\n",
    "    \"labels\": [\n",
    "      {\n",
    "        \"author\": {\n",
    "          \"email\": \"email of the author of the label\",\n",
    "          \"id\": \"id of the author of the label\",\n",
    "        },\n",
    "        \"createdAt\": \"2021-05-10T14:14:08.752Z\",\n",
    "        \"isLatestLabelForUser\": true,\n",
    "        \"jsonResponse\": [\n",
    "          [\n",
    "            \"OBJECT_A\",\n",
    "            [\n",
    "              { \"x\": 0.551976, \"y\": 0.7230524444444444 },\n",
    "              { \"x\": 0.557258, \"y\": 0.6025742222222222 },\n",
    "              { \"x\": 0.553737, \"y\": 0.4836586666666667 },\n",
    "              { \"x\": 0.554617, \"y\": 0.43046044444444453 },\n",
    "              { \"x\": 0.58807, \"y\": 0.38351999999999997 },\n",
    "              { \"x\": 0.616241, \"y\": 0.3600497777777778 },\n",
    "              { \"x\": 0.617122, \"y\": 0.3600497777777778 },\n",
    "              { \"x\": 0.647053, \"y\": 0.3490968888888889 },\n",
    "              { \"x\": 0.656737, \"y\": 0.3506613333333334 },\n",
    "              { \"x\": 0.662019, \"y\": 0.3490968888888889 },\n",
    "              { \"x\": 0.674344, \"y\": 0.4711413333333334 },\n",
    "              { \"x\": 0.680506, \"y\": 0.507128888888889 },\n",
    "              { \"x\": 0.683147, \"y\": 0.5274702222222223 },\n",
    "              { \"x\": 0.680506, \"y\": 0.5759733333333333 },\n",
    "              { \"x\": 0.672583, \"y\": 0.6495128888888889 },\n",
    "              { \"x\": 0.673464, \"y\": 0.6776782222222222 },\n",
    "              { \"x\": 0.675224, \"y\": 0.6917599999999999 },\n",
    "              { \"x\": 0.669942, \"y\": 0.7074062222222222 },\n",
    "              { \"x\": 0.553737, \"y\": 0.7246186666666666 }\n",
    "            ]\n",
    "          ]\n",
    "        ],\n",
    "        \"labelType\": \"DEFAULT\",\n",
    "        \"modelName\": null,\n",
    "        \"skipped\": false\n",
    "      }\n",
    "    ]\n",
    "  }\n",
    "]\n",
    "```\n",
    "\n",
    "For details on the data export, [click here](https://cloud.kili-technology.com/docs/data-export/data-export/#docsNav)."
   ]
  },
  {
   "cell_type": "markdown",
   "metadata": {},
   "source": [
    "<details>\n",
    "<summary style=\"display: list-item;\"> Follow these instructions to export labels from the API </summary>\n",
    "\n",
    "```python\n",
    "labels = kili.labels(\n",
    "    project_id=project_id\n",
    ")\n",
    "\n",
    "def hide_sensitive(label):\n",
    "    label['author'] = {\n",
    "        'email': 'email of the author of the label',\n",
    "        'id': 'identifier of the author of the label',\n",
    "    }\n",
    "    return label\n",
    "\n",
    "result_hidden = [hide_sensitive(label) for label in labels]\n",
    "result_hidden\n",
    "```\n",
    "\n",
    "```json\n",
    "    [{\n",
    "        \"author\": {\n",
    "          \"email\": \"email of the author of the label\",\n",
    "          \"id\": \"id of the author of the label\",\n",
    "        },\n",
    "        \"createdAt\": \"2021-05-10T14:14:08.752Z\",\n",
    "        \"isLatestLabelForUser\": true,\n",
    "        \"jsonResponse\": [\n",
    "          [\n",
    "            \"OBJECT_A\",\n",
    "            [\n",
    "              { \"x\": 0.551976, \"y\": 0.7230524444444444 },\n",
    "              { \"x\": 0.557258, \"y\": 0.6025742222222222 },\n",
    "              { \"x\": 0.553737, \"y\": 0.4836586666666667 },\n",
    "              { \"x\": 0.554617, \"y\": 0.43046044444444453 },\n",
    "              { \"x\": 0.58807, \"y\": 0.38351999999999997 },\n",
    "              { \"x\": 0.616241, \"y\": 0.3600497777777778 },\n",
    "              { \"x\": 0.617122, \"y\": 0.3600497777777778 },\n",
    "              { \"x\": 0.647053, \"y\": 0.3490968888888889 },\n",
    "              { \"x\": 0.656737, \"y\": 0.3506613333333334 },\n",
    "              { \"x\": 0.662019, \"y\": 0.3490968888888889 },\n",
    "              { \"x\": 0.674344, \"y\": 0.4711413333333334 },\n",
    "              { \"x\": 0.680506, \"y\": 0.507128888888889 },\n",
    "              { \"x\": 0.683147, \"y\": 0.5274702222222223 },\n",
    "              { \"x\": 0.680506, \"y\": 0.5759733333333333 },\n",
    "              { \"x\": 0.672583, \"y\": 0.6495128888888889 },\n",
    "              { \"x\": 0.673464, \"y\": 0.6776782222222222 },\n",
    "              { \"x\": 0.675224, \"y\": 0.6917599999999999 },\n",
    "              { \"x\": 0.669942, \"y\": 0.7074062222222222 },\n",
    "              { \"x\": 0.553737, \"y\": 0.7246186666666666 }\n",
    "            ]\n",
    "          ]\n",
    "        ],\n",
    "        \"labelType\": \"DEFAULT\",\n",
    "        \"modelName\": null,\n",
    "        \"skipped\": false\n",
    "    }]\n",
    "```\n",
    "    \n",
    "    \n",
    "Our API uses GraphQL. Simply choose the fields you want to fetch by specifying a list:\n",
    "\n",
    "```python\n",
    "labels = kili.labels(\n",
    "    project_id=project_id,\n",
    "    fields=['id', 'createdAt', 'labelOf.externalId']\n",
    ")\n",
    "assert len(labels) > 0\n",
    "labels\n",
    "```\n",
    "\n",
    "\n",
    "\n",
    "\n",
    "    [{'labelOf': {'externalId': 'car_2.jpg'},\n",
    "      'id': 'ckm4pmzlj0009d49k1avaeubv',\n",
    "      'createdAt': '2021-03-11T10:10:20.984Z'}]\n",
    "\n",
    "\n",
    "\n",
    "Of course, you have plenty more options/filters:\n",
    "\n",
    "\n",
    "```python\n",
    "help(kili.labels)\n",
    "\n",
    "\n",
    "    Help on method labels in module kili.queries.label:\n",
    "    \n",
    "    labels(asset_id: str = None, asset_status_in: List[str] = None, asset_external_id_in: List[str] = None, author_in: List[str] = None, created_at: str = None, created_at_gte: str = None, created_at_lte: str = None, fields: list = ['author.email', 'author.id', 'id', 'jsonResponse', 'labelType', 'secondsToLabel', 'skipped'], first: int = None, honeypot_mark_gte: float = None, honeypot_mark_lte: float = None, id_contains: List[str] = None, json_response_contains: List[str] = None, label_id: str = None, project_id: str = None, skip: int = 0, skipped: bool = None, type_in: List[str] = None, user_id: str = None) method of kili.playground.Playground instance\n",
    "        Get an array of labels from a project given a set of criteria\n",
    "        \n",
    "        Parameters\n",
    "        ----------\n",
    "        - asset_id : str, optional (default = None)\n",
    "            Identifier of the asset.\n",
    "        - asset_status_in : list of str, optional (default = None)\n",
    "            Returned labels should have a status that belongs to that list, if given.\n",
    "            Possible choices : {'TODO', 'ONGOING', 'LABELED', 'REVIEWED'}\n",
    "        - asset_external_id_in : list of str, optional (default = None)\n",
    "            Returned labels should have an external id that belongs to that list, if given.\n",
    "        - author_in : list of str, optional (default = None)\n",
    "            Returned labels should have a label whose status belongs to that list, if given.\n",
    "        - created_at : string, optional (default = None)\n",
    "            Returned labels should have a label whose creation date is equal to this date.\n",
    "            Formatted string should have format : \"YYYY-MM-DD\"\n",
    "        - created_at_gt : string, optional (default = None)\n",
    "            Returned labels should have a label whose creation date is greater than this date.\n",
    "            Formatted string should have format : \"YYYY-MM-DD\"\n",
    "        - created_at_lt : string, optional (default = None)\n",
    "            Returned labels should have a label whose creation date is lower than this date.\n",
    "            Formatted string should have format : \"YYYY-MM-DD\"\n",
    "        - fields : list of string, optional (default = ['author.email', 'author.id', 'id', 'jsonResponse', 'labelType', 'secondsToLabel', 'skipped'])\n",
    "            All the fields to request among the possible fields for the labels.\n",
    "            See [the documentation](https://cloud.kili-technology.com/docs/python-graphql-api/graphql-api/#label) for all possible fields.\n",
    "        - first : int, optional (default = None)\n",
    "            Maximum number of labels to return.  Can only be between 0 and 100.\n",
    "        - honeypot_mark_gt : float, optional (default = None)\n",
    "            Returned labels should have a label whose honeypot is greater than this number.\n",
    "        - honeypot_mark_lt : float, optional (default = None)\n",
    "            Returned labels should have a label whose honeypot is lower than this number.\n",
    "        - id_contains : list of str, optional (default = None)\n",
    "            Filters out labels not belonging to that list. If empty, no filtering is applied.\n",
    "        - json_response_contains : list of str, optional (default = None)\n",
    "            Returned labels should have a substring of the jsonResponse that belongs to that list, if given.\n",
    "        - label_id : str\n",
    "            Identifier of the label.\n",
    "        - project_id : str\n",
    "            Identifier of the project.\n",
    "        - skip : int, optional (default = None)\n",
    "            Number of labels to skip (they are ordered by their date of creation, first to last).\n",
    "        - skipped : bool, optional (default = None)\n",
    "            Returned labels should have a label which is skipped\n",
    "        - type_in : list of str, optional (default = None)\n",
    "            Returned labels should have a label whose type belongs to that list, if given.\n",
    "        - user_id : str\n",
    "            Identifier of the user.\n",
    "        \n",
    "        \n",
    "        Returns\n",
    "        -------\n",
    "        - a result object which contains the query if it was successful, or an error message else.\n",
    "        \n",
    "        Examples\n",
    "        -------\n",
    "        >>> # List all labels of a project and their assets external ID\n",
    "        >>> playground.labels(project_id=project_id, fields=['jsonResponse', 'labelOf.externalId'])\n",
    "```\n",
    "</details>"
   ]
  },
  {
   "cell_type": "markdown",
   "metadata": {},
   "source": [
    "# Quality Management<a id='quality'></a>"
   ]
  },
  {
   "cell_type": "markdown",
   "metadata": {},
   "source": [
    "To ensure that your model performs well, it's essential that your annotations are good quality. Using Kili, you have two main ways to measure the quality of the annotations: consensus and honeypot. Consensus basically is the measure of agreement between annotations from different annotators. Honeypot is measured by comparing the annotations of your annotators to a gold standard that you should provide beforehand.\n",
    "\n",
    "To access the quality management tab, go to `Settings` (gear icon), then `Quality Management` as shown below:\n",
    "\n",
    "![](../img/access_quality_management.png)\n",
    "\n",
    "Please follow the links below for detailed information:\n",
    "\n",
    "- [Quality management](https://cloud.kili-technology.com/docs/quality/quality-management/#docsNav)\n",
    "- Settings up quality metrics: [Consensus](https://cloud.kili-technology.com/docs/quality/consensus/#docsNav) and [Honeypot](https://cloud.kili-technology.com/docs/quality/honeypot/)"
   ]
  },
  {
   "cell_type": "markdown",
   "metadata": {},
   "source": [
    "# More advanced concepts <a id='concepts'></a>"
   ]
  },
  {
   "cell_type": "markdown",
   "metadata": {},
   "source": [
    "Here we list some of the more advanced features:\n",
    "\n",
    "- [Importing predictions](https://cloud.kili-technology.com/docs/python-graphql-api/recipes/import_predictions/#docsNav)\n",
    "- [Reviewing the labels](https://cloud.kili-technology.com/docs/quality/review-process/#docsNav)\n",
    "- [Issue/Question system](https://cloud.kili-technology.com/docs/quality/question-issue/#docsNav)\n",
    "\n",
    "[The full API definition can be found here](https://cloud.kili-technology.com/docs/python-graphql-api/python-api/#docsNav)"
   ]
  }
 ],
 "metadata": {
  "kernelspec": {
   "display_name": "Python 3 (ipykernel)",
   "language": "python",
   "name": "python3"
  },
  "language_info": {
   "codemirror_mode": {
    "name": "ipython",
    "version": 3
   },
   "file_extension": ".py",
   "mimetype": "text/x-python",
   "name": "python",
   "nbconvert_exporter": "python",
   "pygments_lexer": "ipython3",
   "version": "3.8.12"
  },
  "varInspector": {
   "cols": {
    "lenName": 16,
    "lenType": 16,
    "lenVar": 40
   },
   "kernels_config": {
    "python": {
     "delete_cmd_postfix": "",
     "delete_cmd_prefix": "del ",
     "library": "var_list.py",
     "varRefreshCmd": "print(var_dic_list())"
    },
    "r": {
     "delete_cmd_postfix": ") ",
     "delete_cmd_prefix": "rm(",
     "library": "var_list.r",
     "varRefreshCmd": "cat(var_dic_list()) "
    }
   },
   "types_to_exclude": [
    "module",
    "function",
    "builtin_function_or_method",
    "instance",
    "_Feature"
   ],
   "window_display": false
  }
 },
 "nbformat": 4,
 "nbformat_minor": 4
}
