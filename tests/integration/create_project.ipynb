{
    "cells": [
        {
            "cell_type": "markdown",
            "metadata": {},
            "source": [
                "# Kili Tutorial: Create a project\n",
                "\n",
                "In this tutorial, we will show **how to create a mock-project through Kili's API**, interacting directly with the database. All objects will be modified directly in the app, allowing you to check that everything has been properly executed.\n",
                "\n",
                "Interested in wine ? Well, sure, everyone is. And you probably know that quality control is a primary concern. We don't want the nectar spoiled by some young or rotten grapes. Let's build a project to classify our grapes according to its quality : \n",
                "\n",
                "![grapes classification](img/create_project-labelling_interface.png)\n",
                "\n",
                "You are just 4 steps away from your first Kili project : \n",
                "1. Understand the interface\n",
                "2. Create the project and fill it\n",
                "3. Invite collaborators onto the project\n",
                "4. Load the first assets onto the project\n",
                "\n",
                "Additionally, for an overview of Kili, visit the [website](https://kili-technology.com), you can also check out the Kili [documentation](https://docs.kili-technology.com/docs), or some other recipes."
            ]
        },
        {
            "cell_type": "markdown",
            "metadata": {},
            "source": [
                "## 1. `jsonInterface` of the project\n",
                "\n",
                "Projects details regarding all the annotating tasks are pushed in Kili in the form of python dictionaries. The format of the dictionary to be pushed depends on the type of data (text, image, audio), the machine learning task(s) the project is about (e.g. simple, multiple classification, transcription, named entity recognition, object detection, etc.) and their order.\n",
                "\n",
                "The following cell shows you how to write this JSON for a project, and will describe every field."
            ]
        },
        {
            "cell_type": "code",
            "execution_count": null,
            "metadata": {},
            "outputs": [],
            "source": [
                "title = 'Grapes classification'\n",
                "description = 'Identification and qualification of grapes'\n",
                "input_type = 'IMAGE'\n",
                "json_interface = {\n",
                "    \"jobs\": {\n",
                "        \"CLASSIFICATION_JOB\": {\n",
                "            \"mlTask\": \"CLASSIFICATION\",\n",
                "            \"content\": {\n",
                "                \"categories\": {\n",
                "                    \"FULLY_GROWN\": {\n",
                "                        \"name\": \"Fully grown\"\n",
                "                    },\n",
                "                    \"PARTIALLY_GROWN\": {\n",
                "                        \"name\": \"Partially grown\"\n",
                "                    },\n",
                "                    \"ROTTEN\": {\n",
                "                        \"name\": \"Rotten\"\n",
                "                    }\n",
                "                },\n",
                "                \"input\": \"checkbox\"\n",
                "            },\n",
                "            \"required\": 1,\n",
                "            \"isChild\": True,\n",
                "            \"instruction\": \"Quality\"\n",
                "        },\n",
                "        \"OBJECT_DETECTION_JOB\": {\n",
                "            \"mlTask\": \"OBJECT_DETECTION\",\n",
                "            \"content\": {\n",
                "                \"categories\": {\n",
                "                    \"RED_GRAPES\": {\n",
                "                        \"name\": \"Red grapes\",\n",
                "                        \"color\": \"#941100\",\n",
                "                        \"children\": [\n",
                "                            \"CLASSIFICATION_JOB\"\n",
                "                        ]\n",
                "                    },\n",
                "                    \"WHITE_GRAPES\": {\n",
                "                        \"name\": \"White grapes\",\n",
                "                        \"color\": \"#73FDFF\",\n",
                "                        \"children\": [\n",
                "                            \"CLASSIFICATION_JOB\"\n",
                "                        ]\n",
                "                    }\n",
                "                },\n",
                "                \"input\": \"radio\"\n",
                "            },\n",
                "            \"required\": 1,\n",
                "            \"tools\": [\n",
                "                \"rectangle\"\n",
                "            ],\n",
                "            \"isChild\": False,\n",
                "            \"instruction\": \"Color\"\n",
                "        }\n",
                "    }\n",
                "}"
            ]
        },
        {
            "cell_type": "markdown",
            "metadata": {},
            "source": [
                "The different fields of the JSON interface are :\n",
                "- `jobs`: List of the annotations tasks, consisting in dictionnaries as well, with their unique name as key. Each job has the following attributes :\n",
                " - `mlTask`: The task, either CLASSIFICATION, TRANSCRIPTION or OBJECT DESCRIPTION for image. You can find a more comprehensive list in the doc, section Simple and intuitive interfaces.\n",
                " - `content` : A list of different choices for the task : \n",
                "  - `categories`: Category the Asset belongs to\n",
                "   - `name`: Name of the category.\n",
                "   - `color`: Color chosen for this category\n",
                "   - `children`: Can be empty, or is a list of nested tasks, to fill-in if this category is selected.\n",
                "  - `input`: Button type, radio or checkbox, depending if the classes are mutually exclusive.\n",
                " - `required`: Is this task mandatory?\n",
                " - `isChild`: Is this task nested in another?\n",
                " - `tools`: Different types of tools are available for object detection\n",
                " - `instruction`: Instruction given to the labeler\n",
                " \n",
                " The input type argument allows you to specify the type of the project's assets, between AUDIO, IMAGE, PDF, TEXT, URL, VIDEO and VIDEO_LEGACY. It will thus choose the correct representation in the database.\n",
                " \n",
                " Now that every field is cristal clear, we just have to sign-in and let the app understand what we want !"
            ]
        },
        {
            "cell_type": "markdown",
            "metadata": {},
            "source": [
                "## 2. Create the project itself\n",
                "\n",
                "You're almost set to create your projects, the last thing you need to be cautious about is authenticating properly.\n",
                "You need to **update the credentials** `api_key` and `api_endpoint` before, or to have set those as global environement variables."
            ]
        },
        {
            "cell_type": "code",
            "execution_count": null,
            "metadata": {},
            "outputs": [],
            "source": [
                "# Authentication\n",
                "import os\n",
                "\n",
                "# !pip install kili # uncomment if you don't have kili installed already\n",
                "from kili.client import Kili\n",
                "\n",
                "api_endpoint = os.getenv('KILI_API_ENDPOINT') # If you use Kili SaaS, use the url 'https://cloud.kili-technology.com/api/label/v2/graphql'\n",
                "\n",
                "kili = Kili(api_endpoint=api_endpoint)"
            ]
        },
        {
            "cell_type": "code",
            "execution_count": null,
            "metadata": {},
            "outputs": [],
            "source": [
                "project = kili.create_project(title=title,\n",
                "                                    description=description,\n",
                "                                    input_type=input_type,\n",
                "                                    json_interface=json_interface)\n",
                "print(f'Created project {project[\"id\"]}')"
            ]
        },
        {
            "cell_type": "markdown",
            "metadata": {},
            "source": [
                "**Well done, your project is up-and-running !**. You can take a quick look [here](https://cloud.kili-technology.com/label/projects) to see the interface ready for your tasks to begin."
            ]
        },
        {
            "cell_type": "markdown",
            "metadata": {},
            "source": [
                "## 3. Get your project running \n",
                "Before starting labelling, you might still be wondering about inviting collaborators onboard, so you don't do all the work alone.\n",
                "Just remember to select the adapted role for each personn, between ADMIN, LABELER or REVIEWER.\n",
                "This can be easily done just with their email address and the following snippet, for every project you have :"
            ]
        },
        {
            "cell_type": "code",
            "execution_count": null,
            "metadata": {},
            "outputs": [],
            "source": [
                "emails = ['collaborator1@kili-technology.com',\n",
                "          'collaborator2@kili-technology.com']\n",
                "for email in emails:\n",
                "    kili.append_to_roles(\n",
                "        project_id=project['id'], user_email=email, role='ADMIN') "
            ]
        },
        {
            "cell_type": "markdown",
            "metadata": {},
            "source": [
                "## 4. At last, start the work !\n",
                "You're there, you just have to import your assets now, annd you will be set. \n",
                "Those must be provided to the function `append_many_to_dataset`, that takes in argument all your data as an array, as well as the names they will have inside the app"
            ]
        },
        {
            "cell_type": "code",
            "execution_count": null,
            "metadata": {},
            "outputs": [],
            "source": [
                "assets_to_import = [\"https://www.gourmetodyssey.fr/blog/medias/Pictures/Grappe_300_225.JPG\",\n",
                "                    \"https://www.dovepress.com/cr_data/article_submission_image/s1000\" + \\\n",
                "                    \"00/100653/magyar-soos_fig290.jpg\", \"https://i-reg.unimedias.fr/s\" + \\\n",
                "                    \"ites/art-de-vivre/files/styles/large/public/Import/raisin-blanc-\" + \\\n",
                "                    \"grappe-vigne_istock.jpg?auto=compress%2Cformat&crop=faces%2Cedge\" + \\\n",
                "                    \"s&cs=srgb&fit=crop\",\"https://encrypted-tbn0.gstatic.com/images?q\" + \\\n",
                "                    \"=tbn%3AANd9GcRNGko3BcU2cu4ZJ2VjMM8cO1ktSndft2E2LnDiVkQMaZm-Ptq7&\" + \\\n",
                "                    \"usqp=CAU\",\"https://www.syngenta.fr/sites/g/files/zhg141/f/styles\" + \\\n",
                "                    \"/syngenta_large/public/2016/07/29/grappes-raisin-stade-fermeture\" + \\\n",
                "                    \"-de-grappe-1024.jpg?itok=BoTOgbC4\",\"https://previews.123rf.com/i\" + \\\n",
                "                    \"mages/stegarau/stegarau1708/stegarau170800038/84770765-grappes-d\" + \\\n",
                "                    \"e-raisin-dans-les-rang%C3%A9es-de-vignes-au-coucher-du-soleil.jpg\"]"
            ]
        },
        {
            "cell_type": "code",
            "execution_count": null,
            "metadata": {},
            "outputs": [],
            "source": [
                "id_assets = kili.append_many_to_dataset(\n",
                "    project_id=project['id'],\n",
                "    content_array=assets_to_import,\n",
                "    external_id_array=['grappes' + str(k) for k in range(len(assets_to_import))])"
            ]
        },
        {
            "cell_type": "markdown",
            "metadata": {},
            "source": [
                "## Summary\n",
                "\n",
                "In this tutorial, we introduced the concept of Kili interface settings, and we've seen in detail how to create a project. If you enjoyed this tutorial, check out the other recipes for other tutorials that you may find interesting, including demonstrations of how to use Kili.\n",
                "\n",
                "You can also visit the [website](https://kili-technology.com) or the [documentation](https://docs.kili-technology.com/docs) for more info!"
            ]
        },
        {
            "cell_type": "code",
            "execution_count": null,
            "metadata": {},
            "outputs": [],
            "source": [
                "assert(id_assets['id']== project['id']) #just a check to assert that everything is running"
            ]
        }
    ],
    "metadata": {
        "kernelspec": {
            "display_name": "Python 3.7.13 ('python-sdk')",
            "language": "python",
            "name": "python3"
        },
        "language_info": {
            "codemirror_mode": {
                "name": "ipython",
                "version": 3
            },
            "file_extension": ".py",
            "mimetype": "text/x-python",
            "name": "python",
            "nbconvert_exporter": "python",
            "pygments_lexer": "ipython3",
            "version": "3.7.13"
        },
        "vscode": {
            "interpreter": {
                "hash": "de396e6bb0ca1b0abec04a877b6eb6711952a215fc7f5dc02d30f83999f7a5a6"
            }
        }
    },
    "nbformat": 4,
    "nbformat_minor": 4
}
