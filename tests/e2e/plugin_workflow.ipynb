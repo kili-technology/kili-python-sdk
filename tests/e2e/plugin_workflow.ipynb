{
 "cells": [
  {
   "cell_type": "markdown",
   "id": "4504f27b",
   "metadata": {},
   "source": [
    "# End to End test of the plugin workflow"
   ]
  },
  {
   "cell_type": "code",
   "execution_count": null,
   "id": "2420d312",
   "metadata": {},
   "outputs": [],
   "source": [
    "from pathlib import Path\n",
    "\n",
    "from cuid import cuid\n",
    "\n",
    "from kili.client import Kili"
   ]
  },
  {
   "cell_type": "code",
   "execution_count": null,
   "id": "d9a40612",
   "metadata": {},
   "outputs": [],
   "source": [
    "kili = Kili()"
   ]
  },
  {
   "cell_type": "markdown",
   "id": "6f1b13fa",
   "metadata": {},
   "source": [
    "## Plugin creation"
   ]
  },
  {
   "cell_type": "code",
   "execution_count": null,
   "id": "55954360",
   "metadata": {},
   "outputs": [],
   "source": [
    "plugin_name = f\"test-plugin-{cuid()}\"\n",
    "plugin_path = Path(\"tests/unit/services/plugins/plugin_folder\")\n",
    "\n",
    "kili.upload_plugin(plugin_path=str(plugin_path), plugin_name=plugin_name)"
   ]
  },
  {
   "cell_type": "code",
   "execution_count": null,
   "id": "2279045e",
   "metadata": {},
   "outputs": [],
   "source": [
    "plugins = [plugin for plugin in kili.list_plugins() if plugin[\"name\"] == plugin_name]\n",
    "assert len(plugins) == 1"
   ]
  },
  {
   "cell_type": "markdown",
   "id": "dc7e23fe",
   "metadata": {},
   "source": [
    "## Project creation"
   ]
  },
  {
   "cell_type": "code",
   "execution_count": null,
   "id": "1617d14c",
   "metadata": {},
   "outputs": [],
   "source": [
    "title = \"Project to test plugins\"\n",
    "input_type = \"IMAGE\"\n",
    "\n",
    "project = kili.create_project(\n",
    "    title=title,\n",
    "    input_type=input_type,\n",
    "    json_interface={},\n",
    "    project_type=\"IMAGE_CLASSIFICATION_SINGLE\",\n",
    ")"
   ]
  },
  {
   "cell_type": "markdown",
   "id": "f6bbdfce",
   "metadata": {},
   "source": [
    "## Plugin activation"
   ]
  },
  {
   "cell_type": "code",
   "execution_count": null,
   "id": "c83b7011",
   "metadata": {},
   "outputs": [],
   "source": [
    "project_id = project.get(\"id\")\n",
    "kili.activate_plugin_on_project(plugin_name, project_id)"
   ]
  },
  {
   "cell_type": "code",
   "execution_count": null,
   "id": "484f3835",
   "metadata": {},
   "outputs": [],
   "source": [
    "plugins = [plugin for plugin in kili.list_plugins() if plugin[\"name\"] == plugin_name]\n",
    "assert len(plugins) == 1\n",
    "\n",
    "plugin = plugins[0]\n",
    "projectIds = plugin.get(\"projectIds\")\n",
    "\n",
    "assert len(projectIds) == 1\n",
    "\n",
    "assert projectIds[0] == project_id"
   ]
  },
  {
   "cell_type": "markdown",
   "id": "12c96698",
   "metadata": {},
   "source": [
    "## Plugin deactivation"
   ]
  },
  {
   "cell_type": "code",
   "execution_count": null,
   "id": "b80b3bee",
   "metadata": {},
   "outputs": [],
   "source": [
    "kili.deactivate_plugin_on_project(plugin_name, project_id)"
   ]
  },
  {
   "cell_type": "code",
   "execution_count": null,
   "id": "7263ecce",
   "metadata": {},
   "outputs": [],
   "source": [
    "plugins = [plugin for plugin in kili.list_plugins() if plugin[\"name\"] == plugin_name]\n",
    "assert len(plugins) == 1\n",
    "\n",
    "plugin = plugins[0]\n",
    "projectIds = plugin.get(\"projectIds\")\n",
    "\n",
    "assert len(projectIds) == 0"
   ]
  },
  {
   "cell_type": "markdown",
   "id": "977bae99",
   "metadata": {},
   "source": [
    "## Plugin deletion"
   ]
  },
  {
   "cell_type": "code",
   "execution_count": null,
   "id": "2250810b",
   "metadata": {},
   "outputs": [],
   "source": [
    "message = kili.delete_plugin(plugin_name)"
   ]
  },
  {
   "cell_type": "code",
   "execution_count": null,
   "id": "2a6c6f83",
   "metadata": {},
   "outputs": [],
   "source": [
    "plugins = [plugin for plugin in kili.list_plugins() if plugin[\"name\"] == plugin_name]\n",
    "assert len(plugins) == 0"
   ]
  },
  {
   "cell_type": "markdown",
   "id": "5f26bdfb",
   "metadata": {},
   "source": [
    "## Project deletion"
   ]
  },
  {
   "cell_type": "code",
   "execution_count": null,
   "id": "74f8203a",
   "metadata": {},
   "outputs": [],
   "source": [
    "kili.delete_project(project_id)"
   ]
  },
  {
   "cell_type": "code",
   "execution_count": null,
   "id": "2f4558ef",
   "metadata": {},
   "outputs": [],
   "source": []
  }
 ],
 "metadata": {
  "language_info": {
   "name": "python"
  }
 },
 "nbformat": 4,
 "nbformat_minor": 5
}
