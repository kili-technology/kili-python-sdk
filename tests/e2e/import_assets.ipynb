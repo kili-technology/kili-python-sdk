{
 "cells": [
  {
   "attachments": {},
   "cell_type": "markdown",
   "metadata": {},
   "source": [
    "# Kili Tutorial: Importing assets\n",
    "\n",
    "In this tutorial, we will walk through the process of using Kili to import assets. The goal of this tutorial is to illustrate some basic components and concepts of Kili in a simple way.\n",
    "\n",
    "Additionally:\n",
    "\n",
    "For an overview of Kili, visit https://kili-technology.com. You can also check out the Kili documentation https://docs.kili-technology.com/docs.\n",
    "\n",
    "The tutorial is divided into three parts:\n",
    "\n",
    "1. Importing assets\n",
    "2. Setting up a labeling priority\n",
    "3. Setting up who can label the asset\n",
    "\n",
    "This next cell connects the notebook to the Kili API. You need to update the credentials `api_key` before."
   ]
  },
  {
   "cell_type": "code",
   "execution_count": null,
   "metadata": {},
   "outputs": [],
   "source": [
    "import os\n",
    "\n",
    "# %pip install kili\n",
    "from kili.client import Kili\n",
    "\n",
    "api_endpoint = os.getenv(\"KILI_API_ENDPOINT\")\n",
    "# If you use Kili SaaS, use the url 'https://cloud.kili-technology.com/api/label/v2/graphql'\n",
    "\n",
    "kili = Kili(api_endpoint=api_endpoint)"
   ]
  },
  {
   "cell_type": "code",
   "execution_count": null,
   "metadata": {},
   "outputs": [],
   "source": [
    "if \"recipes\" in os.getcwd():\n",
    "    os.chdir(\"..\")"
   ]
  },
  {
   "attachments": {},
   "cell_type": "markdown",
   "metadata": {},
   "source": [
    "## Importing assets\n",
    "\n",
    "An Asset is the smallest piece of information we want to label. It can be: a text, an image, a sound, etc...\n",
    "\n",
    "To insert an asset in Kili, you need two essential pieces of information:\n",
    "\n",
    "- The content of the asset (i.e. the text for a text document, or an url that points to the document, or the path to the image file on the hard drive).\n",
    "- The name of the asset in Kili to be able to recognize it once inserted: `externalId`. **This name must be unique within the same project**.\n",
    "\n",
    "It is also possible to associate **meta information** to certain assets that can be displayed in certain interfaces. \n",
    "The metadata takes the form of a dictionary with three keys : `imageUrl`, `text` and `url`. You can see the metadata by clicking on a `!` on the labelling interface.\n",
    "See below for examples and at the end of the recipe for a preview on Kili.\n",
    "\n",
    "The cell below inserts three image files: two are in the form of image urls and one is in the form of a file on the hard drive. **Warning, before running this snippet, make sure you have cloned this repo, or have an image called man_on_a_bike.jpeg in a folder img**"
   ]
  },
  {
   "cell_type": "code",
   "execution_count": null,
   "metadata": {},
   "outputs": [],
   "source": [
    "from tqdm import tqdm\n",
    "\n",
    "CHUNK_SIZE = 100\n",
    "\n",
    "\n",
    "def chunks(l, n):\n",
    "    \"\"\"Yield successive n-sized chunks from l.\"\"\"\n",
    "    for i in range(0, len(l), n):\n",
    "        yield l[i : i + n]\n",
    "\n",
    "\n",
    "assets = [\n",
    "    {\n",
    "        \"externalId\": \"example 1\",\n",
    "        \"content\": \"https://images.caradisiac.com/logos/3/8/6/7/253867/S0-tesla-enregistre-d-importantes-pertes-au-premier-trimestre-175948.jpg\",\n",
    "        \"metadata\": {\n",
    "            \"imageUrl\": \"https://i.pinimg.com/474x/f5/5e/95/f55e95f5677d2cb3bea922599667b6db--tesla-logo-car-logo-design.jpg\",\n",
    "            \"text\": \"Tesla Company\",\n",
    "            \"url\": \"https://www.tesla.com/fr_fr\",\n",
    "        },\n",
    "        \"toBeLabeledBy\": [\"test@kili-technology.com\"],\n",
    "    },\n",
    "    {\n",
    "        \"externalId\": \"example 2\",\n",
    "        \"content\": \"https://img.sportauto.fr/news/2018/11/28/1533574/1920%7C1280%7Cc096243e5460db3e5e70c773.jpg\",\n",
    "        \"metadata\": {\n",
    "            \"imageUrl\": \"https://upload.wikimedia.org/wikipedia/fr/thumb/e/e7/Logo_Porsche.svg/langfr-560px-Logo_Porsche.svg.png\",\n",
    "            \"text\": \"Porsche Company\",\n",
    "            \"url\": \"https://www.porsche.com/france/\",\n",
    "        },\n",
    "        \"priority\": 1,\n",
    "    },\n",
    "]\n",
    "json_interface = {\n",
    "    \"jobs\": {\n",
    "        \"CLASSIFICATION_JOB\": {\n",
    "            \"mlTask\": \"CLASSIFICATION\",\n",
    "            \"content\": {\n",
    "                \"categories\": {\n",
    "                    \"RED\": {\"name\": \"Red\"},\n",
    "                    \"BLACK\": {\"name\": \"Black\"},\n",
    "                    \"WHITE\": {\"name\": \"White\"},\n",
    "                    \"GREY\": {\"name\": \"Grey\"},\n",
    "                },\n",
    "                \"input\": \"checkbox\",\n",
    "            },\n",
    "            \"required\": 0,\n",
    "            \"isChild\": False,\n",
    "            \"instruction\": \"Color\",\n",
    "        }\n",
    "    }\n",
    "}\n",
    "\n",
    "project_id = kili.create_project(\n",
    "    title=\"Project import assets\",\n",
    "    description=\"Import assets onto the app\",\n",
    "    input_type=\"IMAGE\",\n",
    "    json_interface=json_interface,\n",
    ")[\"id\"]\n",
    "\n",
    "for asset_chunk in tqdm(list(chunks(assets, CHUNK_SIZE))):\n",
    "    external_id_array = [a.get(\"externalId\") for a in asset_chunk]\n",
    "    content_array = [a.get(\"content\") for a in asset_chunk]\n",
    "    json_metadata_array = [a.get(\"metadata\") for a in asset_chunk]\n",
    "    kili.append_many_to_dataset(\n",
    "        project_id=project_id,\n",
    "        content_array=content_array,\n",
    "        external_id_array=external_id_array,\n",
    "        json_metadata_array=json_metadata_array,\n",
    "    )"
   ]
  },
  {
   "attachments": {},
   "cell_type": "markdown",
   "metadata": {},
   "source": [
    "The code provided also cuts into chunks the list of arrays to upload, as Kili only allows to upload 100 assets at a time onto the app. You can nevertheless such a loop structure to upload all your data."
   ]
  },
  {
   "attachments": {},
   "cell_type": "markdown",
   "metadata": {},
   "source": [
    "## Setting up a labeling priority\n",
    "In Kili, by default, the order in which the assets are labeled is the order in which they are inserted in Kili.\n",
    "\n",
    "It is possible to change this order at any time, for example for active learning. To put an asset at the beginning of the stack, just change its `priority` property, which by default is 0, to a higher value. The higher the `priority` property, the higher the priority of the asset.\n",
    "\n",
    "The cell below will put the asset `example 2` at the top of the stack."
   ]
  },
  {
   "cell_type": "code",
   "execution_count": null,
   "metadata": {},
   "outputs": [],
   "source": [
    "for asset in assets:\n",
    "    if \"priority\" not in asset:\n",
    "        continue\n",
    "    asset_id = kili.assets(\n",
    "        project_id=project_id, external_id_strictly_in=[asset.get(\"externalId\")]\n",
    "    )[0][\"id\"]\n",
    "    kili.update_properties_in_assets(asset_ids=[asset_id], priorities=[asset.get(\"priority\")])"
   ]
  },
  {
   "attachments": {},
   "cell_type": "markdown",
   "metadata": {},
   "source": [
    "## Setting up who can label the asset\n",
    "In some cases we also want to be able to choose who among the annotators will label the assets. To do this, simply pass to the asset the list of emails from the annotators in question with the `toBeLabeledBy` property.\n",
    "\n",
    "The cell below will allow asset `example 1` to be only seen by test@kili-technology.com."
   ]
  },
  {
   "attachments": {},
   "cell_type": "markdown",
   "metadata": {},
   "source": [
    "First we will need to add the user to our project."
   ]
  },
  {
   "cell_type": "code",
   "execution_count": null,
   "metadata": {},
   "outputs": [],
   "source": [
    "kili.append_to_roles(project_id=project_id, user_email=\"test@kili-technology.com\", role=\"LABELER\")"
   ]
  },
  {
   "cell_type": "code",
   "execution_count": null,
   "metadata": {},
   "outputs": [],
   "source": [
    "for asset in assets:\n",
    "    if \"toBeLabeledBy\" not in asset:\n",
    "        continue\n",
    "    asset_id = kili.assets(\n",
    "        project_id=project_id, external_id_strictly_in=[asset.get(\"externalId\")]\n",
    "    )[0][\"id\"]\n",
    "    kili.update_properties_in_assets(\n",
    "        asset_ids=[asset_id], to_be_labeled_by_array=[asset.get(\"toBeLabeledBy\")]\n",
    "    )"
   ]
  },
  {
   "attachments": {},
   "cell_type": "markdown",
   "metadata": {},
   "source": [
    "![json metadata](./img/json_metadata.gif)"
   ]
  },
  {
   "attachments": {},
   "cell_type": "markdown",
   "metadata": {},
   "source": [
    "In this tutorial, we accomplished the following:\n",
    "\n",
    "We introduced the concept of Kili asset content and asset external ID. We demonstrated how to append an asset to a project with the API.\n",
    "We showed that an an asset can have a priority and a list a labelers.\n",
    "If you enjoyed this tutorial, check out the other recipes for other tutorials that you may find interesting, including demonstrations of how to use Kili.\n",
    "\n",
    "You can also visit the [Kili website](https://kili-technology.com) or [Kili documentation](https://docs.kili-technology.com/docs) for more info!"
   ]
  },
  {
   "cell_type": "code",
   "execution_count": null,
   "metadata": {},
   "outputs": [],
   "source": [
    "kili.delete_project(project_id)"
   ]
  }
 ],
 "metadata": {
  "language_info": {
   "name": "python"
  }
 },
 "nbformat": 4,
 "nbformat_minor": 2
}
