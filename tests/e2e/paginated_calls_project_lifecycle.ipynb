{
 "cells": [
  {
   "cell_type": "code",
   "execution_count": null,
   "metadata": {},
   "outputs": [],
   "source": [
    "import kili\n",
    "from kili.client import Kili\n",
    "\n",
    "kili = Kili()"
   ]
  },
  {
   "cell_type": "code",
   "execution_count": null,
   "metadata": {},
   "outputs": [],
   "source": [
    "\n",
    "json_interface = {\n",
    "  \"jobs\": {\n",
    "    \"JOB_0\": {\n",
    "      \"content\": {\n",
    "        \"categories\": {\n",
    "          \"OBJECT_A\": {\n",
    "            \"children\": [],\n",
    "            \"name\": \"Object A\",\n",
    "            \"color\": \"#733AFB\",\n",
    "            \"points\": [],\n",
    "            \"id\": \"category1\"\n",
    "          },\n",
    "          \"OBJECT_B\": {\n",
    "            \"children\": [],\n",
    "            \"name\": \"Object B\",\n",
    "            \"color\": \"#3CD876\",\n",
    "            \"points\": [],\n",
    "            \"id\": \"category2\"\n",
    "          }\n",
    "        },\n",
    "        \"input\": \"radio\"\n",
    "      },\n",
    "      \"instruction\": \"Categories\",\n",
    "      \"isChild\": False,\n",
    "      \"tools\": [\n",
    "        \"polygon\"\n",
    "      ],\n",
    "      \"mlTask\": \"OBJECT_DETECTION\",\n",
    "      \"models\": {},\n",
    "      \"isVisible\": True,\n",
    "      \"required\": 1\n",
    "    },\n",
    "    \"CLASSIFICATION_JOB\": {\n",
    "      \"content\": {\n",
    "        \"categories\": {\n",
    "          \"CAS_1\": {\n",
    "            \"children\": [],\n",
    "            \"name\": \"cas 1\",\n",
    "            \"points\": [],\n",
    "            \"id\": \"category3\"\n",
    "          },\n",
    "          \"CAS_2\": {\n",
    "            \"name\": \"cas 2\",\n",
    "            \"children\": [],\n",
    "            \"points\": [],\n",
    "            \"id\": \"category4\"\n",
    "          },\n",
    "          \"CAS_3\": {\n",
    "            \"name\": \"cas 3\",\n",
    "            \"children\": [],\n",
    "            \"points\": [],\n",
    "            \"id\": \"category5\"\n",
    "          }\n",
    "        },\n",
    "        \"input\": \"radio\"\n",
    "      },\n",
    "      \"instruction\": \"tets\",\n",
    "      \"mlTask\": \"CLASSIFICATION\",\n",
    "      \"required\": 1,\n",
    "      \"isChild\": False\n",
    "    }\n",
    "  }\n",
    "}\n",
    "\n",
    "project = kili.create_project(input_type='IMAGE', json_interface=json_interface, title='Example')\n",
    "project_id = project[\"id\"]"
   ]
  },
  {
   "cell_type": "code",
   "execution_count": null,
   "metadata": {},
   "outputs": [],
   "source": [
    "#import assets through inner paginated calls\n",
    "url=\"https://images.caradisiac.com/logos/3/8/6/7/253867/S0-tesla-enregistre-d-importantes-pertes-au-premier-trimestre-175948.jpg\" \n",
    "nb_assets = 600\n",
    "\n",
    "result = kili.append_many_to_dataset(\n",
    "    project_id=project_id, \n",
    "    content_array=[url for i in range(nb_assets)],\n",
    "    external_id_array=[str(i) for i in range(nb_assets)],\n",
    "    json_content_array=None)\n",
    "assert result == {'id': project_id}\n",
    "assert kili.count_assets(project_id=project_id) == nb_assets"
   ]
  },
  {
   "cell_type": "code",
   "execution_count": null,
   "metadata": {},
   "outputs": [],
   "source": [
    "#query assets though inner paginated calls\n",
    "asset_ids=[asset['id'] for asset in kili.assets(project_id=project_id)]\n",
    "assert len(asset_ids)==nb_assets"
   ]
  },
  {
   "cell_type": "code",
   "execution_count": null,
   "metadata": {},
   "outputs": [],
   "source": [
    "#update asset external_ids\n",
    "new_external_ids = [f'modified_name_{i}' for i in range(nb_assets)]\n",
    "result = kili.change_asset_external_ids(asset_ids=asset_ids, new_external_ids=new_external_ids)\n",
    "assert len(result) == nb_assets\n",
    "new_assets_external_ids =[asset['externalId'] for asset in kili.assets(project_id=project_id)]\n",
    "assert 'modified_name' in new_assets_external_ids[0]\n",
    "assert 'modified_name' in new_assets_external_ids[550]"
   ]
  },
  {
   "cell_type": "code",
   "execution_count": null,
   "metadata": {},
   "outputs": [],
   "source": [
    "# create predictions from paginated calls\n",
    "json_response= {\n",
    "    \"JOB_0\": {\n",
    "        \"annotations\": [{\n",
    "            \"boundingPoly\": [{\n",
    "                \"normalizedVertices\": [\n",
    "                    { \"x\": 0.16, \"y\": 0.82},\n",
    "                    { \"x\": 0.16, \"y\": 0.32 },\n",
    "                    { \"x\": 0.82, \"y\": 0.32 },\n",
    "                    { \"x\": 0.82, \"y\": 0.82 }\n",
    "                ]}\n",
    "            ],\n",
    "            \"categories\": [{ \"name\": \"TESLA\", \"confidence\": 100 }],\n",
    "            \"mid\": \"unique-tesla\",\n",
    "            \"type\": \"rectangle\",\n",
    "        },\n",
    "        {\n",
    "            \"boundingPoly\": [{\n",
    "                \"normalizedVertices\": [\n",
    "                    { \"x\": 0.34, \"y\": 0.73},\n",
    "                    { \"x\": 0.34, \"y\": 0.12 },\n",
    "                    { \"x\": 0.73, \"y\": 0.12 },\n",
    "                    { \"x\": 0.73, \"y\": 0.73 }\n",
    "                ]}\n",
    "            ],\n",
    "            \"categories\": [{ \"name\": \"TESLA\", \"confidence\": 100 }],\n",
    "            \"mid\": \"second\",\n",
    "            \"type\": \"rectangle\",\n",
    "        }]\n",
    "    }\n",
    "}"
   ]
  },
  {
   "cell_type": "code",
   "execution_count": null,
   "metadata": {},
   "outputs": [],
   "source": [
    "result = kili.create_predictions(\n",
    "            project_id=project_id,\n",
    "            external_id_array=new_external_ids,\n",
    "            model_name='model_demo',\n",
    "            json_response_array=[json_response]*nb_assets)\n",
    "assert result == {'id': project_id}\n",
    "assert kili.count_labels(project_id=project_id) == nb_assets"
   ]
  },
  {
   "cell_type": "code",
   "execution_count": null,
   "metadata": {},
   "outputs": [],
   "source": [
    "kili.delete_many_from_dataset(asset_ids)\n",
    "assert result == {'id': project_id}\n",
    "assert kili.count_assets(project_id=project_id) == 0"
   ]
  },
  {
   "cell_type": "code",
   "execution_count": null,
   "metadata": {},
   "outputs": [],
   "source": [
    "kili.delete_project(project_id)"
   ]
  }
 ],
 "metadata": {
  "kernelspec": {
   "display_name": "kili-python-sdk",
   "language": "python",
   "name": "python3"
  },
  "language_info": {
   "codemirror_mode": {
    "name": "ipython",
    "version": 3
   },
   "file_extension": ".py",
   "mimetype": "text/x-python",
   "name": "python",
   "nbconvert_exporter": "python",
   "pygments_lexer": "ipython3",
   "version": "3.10.4"
  },
  "orig_nbformat": 4,
  "vscode": {
   "interpreter": {
    "hash": "d33841ec8232dd9499f6185d11ad4b869ae96fbec62e64101cd3d9c14f967e3c"
   }
  }
 },
 "nbformat": 4,
 "nbformat_minor": 2
}
