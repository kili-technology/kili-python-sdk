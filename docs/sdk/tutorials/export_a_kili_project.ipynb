{
 "cells": [
  {
   "cell_type": "markdown",
   "metadata": {},
   "source": [
    "# How to export a Kili project"
   ]
  },
  {
   "cell_type": "markdown",
   "metadata": {},
   "source": [
    "## Outline\n",
    "\n",
    "This tutorial explains the multiple ways to export a Kili project. It describes:\n",
    "\n",
    " * Methods to export the labels one by one, after filtering\n",
    " * The solutions for performing a full-project export\n",
    "\n",
    "The methods are illustrated with code snippets."
   ]
  },
  {
   "cell_type": "markdown",
   "metadata": {},
   "source": [
    "## Export methods\n",
    "\n",
    "With Kili, once you have annotated enough assets, you can export the data programmatically to train a machine learning algorithm with it. There are several ways to do it:\n",
    "\n",
    " * Fetch the assets and/or the labels one by one using [`.assets`](https://python-sdk-docs.kili-technology.com/latest/sdk/asset/#kili.queries.asset.__init__.QueriesAsset.assets) or [`.labels`](https://python-sdk-docs.kili-technology.com/latest/sdk/label/#kili.queries.label.__init__.QueriesLabel.labels), perform the data transformation yourself and then write the data to one or several output files.\n",
    " * Export the whole project as a dataset. To do that, use the [`.export_labels`](https://python-sdk-docs.kili-technology.com/latest/sdk/label/#kili.queries.label.__init__.QueriesLabel.export_labels) method that creates an archive containing the labels in your chosen format."
   ]
  },
  {
   "cell_type": "markdown",
   "metadata": {},
   "source": [
    "## Preliminary steps"
   ]
  },
  {
   "cell_type": "markdown",
   "metadata": {},
   "source": [
    "1. Fetch the project ID from the Kili UI (in Settings / Admin):\n",
    "![Get Project ID from UI](../../assets/get_project_id.jpg)"
   ]
  },
  {
   "cell_type": "markdown",
   "metadata": {},
   "source": [
    "2. Ensure that your Kili API key has been set as an environment variable:\n",
    "```bash\n",
    "export KILI_API_KEY=<YOUR_API_KEY>\n",
    "```"
   ]
  },
  {
   "cell_type": "markdown",
   "metadata": {},
   "source": [
    "3) If Kili has not been installed yet, install Kili."
   ]
  },
  {
   "cell_type": "code",
   "execution_count": null,
   "metadata": {},
   "outputs": [],
   "source": [
    "!pip install --upgrade kili"
   ]
  },
  {
   "cell_type": "markdown",
   "metadata": {},
   "source": [
    "4) Import packages and instantiate `Kili`:"
   ]
  },
  {
   "cell_type": "code",
   "execution_count": 1,
   "metadata": {},
   "outputs": [],
   "source": [
    "from kili.client import Kili\n",
    "from pathlib import Path\n",
    "\n",
    "kili = Kili()"
   ]
  },
  {
   "cell_type": "markdown",
   "metadata": {},
   "source": [
    "## Exporting assets and labels one by one\n",
    "\n",
    "To retrieve all assets of a project one by one, perform the following steps:"
   ]
  },
  {
   "cell_type": "markdown",
   "metadata": {},
   "source": [
    "### Exporting the latest labels per asset"
   ]
  },
  {
   "cell_type": "code",
   "execution_count": 36,
   "metadata": {
    "tags": [
     "test"
    ]
   },
   "outputs": [
    {
     "data": {
      "text/plain": [
       "[{'id': 'clcrn7fm7040v0lph1d4b1f0k'}, {'id': 'clcrn7fm8040w0lphebsae6m8'}]"
      ]
     },
     "execution_count": 36,
     "metadata": {},
     "output_type": "execute_result"
    }
   ],
   "source": [
    "json_interface_object_detection = {\"jobs\":{\"JOB_0\":{\"content\":{\"categories\":{\"OBJECT_A\":{\"children\":[],\"name\":\"Object A\",\"color\":\"#733AFB\"},\"OBJECT_B\":{\"children\":[],\"name\":\"Object B\",\"color\":\"#3CD876\"}},\"input\":\"radio\"},\"instruction\":\"Categories\",\"isChild\":False,\"tools\":[\"rectangle\"],\"mlTask\":\"OBJECT_DETECTION\",\"models\":{},\"isVisible\":True,\"required\":1}}}\n",
    "your_project_id = kili.create_project(input_type=\"IMAGE\", json_interface=json_interface_object_detection, title=\"export kili project tutorial\")[\"id\"]\n",
    "\n",
    "kili.append_many_to_dataset(\n",
    "        project_id=your_project_id,\n",
    "        content_array=[\n",
    "            \"https://storage.googleapis.com/label-public-staging/car/car_1.jpg\",\n",
    "            \"https://storage.googleapis.com/label-public-staging/car/car_2.jpg\",\n",
    "        ],\n",
    "        external_id_array=[\"car_1\", \"car_2\"],disable_tqdm=True\n",
    "    )\n",
    "\n",
    "assets = kili.assets(project_id=your_project_id, fields=[\"externalId\", \"id\"],disable_tqdm=True)\n",
    "asset_id_array = [x[\"id\"] for x in assets]\n",
    "\n",
    "roles = kili.append_to_roles(\n",
    "        project_id=your_project_id, user_email=\"john.doe@kili-technology.com\", role=\"LABELER\"\n",
    "    )\n",
    "john_doe_id = [user for user in roles[\"roles\"] if user[\"user\"][\"email\"] == \"john.doe@kili-technology.com\"][0][\"user\"][\"id\"]\n",
    "\n",
    "json_response = {'JOB_0': {'annotations': [{'boundingPoly': [{'normalizedVertices': [{'x': 0.437473570026755, 'y': 0.662407024077585}, {'x': 0.437473570026755, 'y': 0.28769191191267807}, {'x': 0.7235387616200971, 'y': 0.28769191191267807}, {'x': 0.7235387616200971, 'y': 0.662407024077585}]}], 'categories': [{'name': 'OBJECT_A'}], 'mid': '20230111125258113-44528', 'type': 'rectangle', 'children': {}}]}}\n",
    "kili.append_labels(\n",
    "    asset_id_array,\n",
    "    json_response_array=[json_response, json_response],disable_tqdm=True,\n",
    "    author_id_array=[john_doe_id, None],\n",
    ");"
   ]
  },
  {
   "cell_type": "markdown",
   "metadata": {},
   "source": [
    "First, fetch the assets:"
   ]
  },
  {
   "cell_type": "code",
   "execution_count": 6,
   "metadata": {},
   "outputs": [],
   "source": [
    "assets = kili.assets(your_project_id, fields=[\"externalId\", \"latestLabel.jsonResponse\"])"
   ]
  },
  {
   "cell_type": "markdown",
   "metadata": {},
   "source": [
    "Now if you print an asset, you will see that you can access its `latestLabel`:"
   ]
  },
  {
   "cell_type": "code",
   "execution_count": 7,
   "metadata": {},
   "outputs": [
    {
     "name": "stdout",
     "output_type": "stream",
     "text": [
      "{'latestLabel': {'jsonResponse': {'JOB_0': {'annotations': [{'boundingPoly': [{'normalizedVertices': [{'x': 0.437473570026755, 'y': 0.662407024077585}, {'x': 0.437473570026755, 'y': 0.28769191191267807}, {'x': 0.7235387616200971, 'y': 0.28769191191267807}, {'x': 0.7235387616200971, 'y': 0.662407024077585}]}], 'categories': [{'name': 'OBJECT_A'}], 'mid': '20230111125258113-44528', 'type': 'rectangle', 'children': {}}]}}}, 'externalId': 'car_1'}\n"
     ]
    }
   ],
   "source": [
    "print(assets[0])"
   ]
  },
  {
   "cell_type": "markdown",
   "metadata": {},
   "source": [
    "You can now get your label, and write the category name into a text file for example:"
   ]
  },
  {
   "cell_type": "code",
   "execution_count": 12,
   "metadata": {},
   "outputs": [],
   "source": [
    "for asset in assets:\n",
    "    if asset[\"latestLabel\"]: # check if asset has annotations\n",
    "        class_ = asset[\"latestLabel\"][\"jsonResponse\"][\"JOB_0\"][\"annotations\"][0][\"categories\"][0][\"name\"]\n",
    "        with Path(asset[\"externalId\"] + \".txt\").open(\"w\", encoding=\"utf-8\") as f:\n",
    "            f.write(class_)"
   ]
  },
  {
   "cell_type": "markdown",
   "metadata": {},
   "source": [
    "### Filtering specific labels per asset through the method filters\n",
    "\n",
    "You can specify label filters directly in the [`.assets`](https://python-sdk-docs.kili-technology.com/latest/sdk/asset/#kili.queries.asset.__init__.QueriesAsset.assets) and the [`.labels`](https://python-sdk-docs.kili-technology.com/latest/sdk/label/#kili.queries.label.__init__.QueriesLabel.labels) methods. The available filters are listed in the arguments list\n",
    "for each one of these methods.\n",
    "\n",
    "When done, you can write the conversion code to get the data in the format that you need."
   ]
  },
  {
   "cell_type": "markdown",
   "metadata": {},
   "source": [
    "**Get only the assets that have labels with a consensus mark above 0.7:**"
   ]
  },
  {
   "cell_type": "code",
   "execution_count": 17,
   "metadata": {},
   "outputs": [
    {
     "name": "stdout",
     "output_type": "stream",
     "text": [
      "[{'externalId': 'car_1'}, {'externalId': 'car_2'}]\n"
     ]
    }
   ],
   "source": [
    "assets = kili.assets(your_project_id, fields=[\"externalId\"], label_consensus_mark_gt=0.7)\n",
    "print(assets)\n",
    "# + asset conversion code"
   ]
  },
  {
   "cell_type": "markdown",
   "metadata": {},
   "source": [
    "**Get all the labels with a consensus mark above 0.7:**"
   ]
  },
  {
   "cell_type": "code",
   "execution_count": 18,
   "metadata": {},
   "outputs": [
    {
     "ename": "TypeError",
     "evalue": "got an unexpected keyword argument 'consensus_mark_gt'",
     "output_type": "error",
     "traceback": [
      "\u001b[0;31m---------------------------------------------------------------------------\u001b[0m",
      "\u001b[0;31mTypeError\u001b[0m                                 Traceback (most recent call last)",
      "\u001b[0;32m/var/folders/gw/r92vzp2s29s0lznwrqrmsl2m0000gn/T/ipykernel_8928/1418403468.py\u001b[0m in \u001b[0;36m<module>\u001b[0;34m\u001b[0m\n\u001b[0;32m----> 1\u001b[0;31m \u001b[0mlabels\u001b[0m \u001b[0;34m=\u001b[0m \u001b[0mkili\u001b[0m\u001b[0;34m.\u001b[0m\u001b[0mlabels\u001b[0m\u001b[0;34m(\u001b[0m\u001b[0myour_project_id\u001b[0m\u001b[0;34m,\u001b[0m \u001b[0mfields\u001b[0m\u001b[0;34m=\u001b[0m\u001b[0;34m[\u001b[0m\u001b[0;34m\"labelOf.externalId\"\u001b[0m\u001b[0;34m,\u001b[0m \u001b[0;34m\"jsonResponse\"\u001b[0m\u001b[0;34m]\u001b[0m\u001b[0;34m,\u001b[0m \u001b[0mconsensus_mark_gt\u001b[0m\u001b[0;34m=\u001b[0m\u001b[0;36m0.7\u001b[0m\u001b[0;34m)\u001b[0m\u001b[0;34m\u001b[0m\u001b[0;34m\u001b[0m\u001b[0m\n\u001b[0m\u001b[1;32m      2\u001b[0m \u001b[0;31m# + label conversion code\u001b[0m\u001b[0;34m\u001b[0m\u001b[0;34m\u001b[0m\u001b[0;34m\u001b[0m\u001b[0m\n",
      "\u001b[0;32m/opt/anaconda3/envs/python37/lib/python3.7/site-packages/typeguard/__init__.py\u001b[0m in \u001b[0;36mwrapper\u001b[0;34m(*args, **kwargs)\u001b[0m\n\u001b[1;32m   1029\u001b[0m \u001b[0;34m\u001b[0m\u001b[0m\n\u001b[1;32m   1030\u001b[0m     \u001b[0;32mdef\u001b[0m \u001b[0mwrapper\u001b[0m\u001b[0;34m(\u001b[0m\u001b[0;34m*\u001b[0m\u001b[0margs\u001b[0m\u001b[0;34m,\u001b[0m \u001b[0;34m**\u001b[0m\u001b[0mkwargs\u001b[0m\u001b[0;34m)\u001b[0m\u001b[0;34m:\u001b[0m\u001b[0;34m\u001b[0m\u001b[0;34m\u001b[0m\u001b[0m\n\u001b[0;32m-> 1031\u001b[0;31m         \u001b[0mmemo\u001b[0m \u001b[0;34m=\u001b[0m \u001b[0m_CallMemo\u001b[0m\u001b[0;34m(\u001b[0m\u001b[0mpython_func\u001b[0m\u001b[0;34m,\u001b[0m \u001b[0m_localns\u001b[0m\u001b[0;34m,\u001b[0m \u001b[0margs\u001b[0m\u001b[0;34m=\u001b[0m\u001b[0margs\u001b[0m\u001b[0;34m,\u001b[0m \u001b[0mkwargs\u001b[0m\u001b[0;34m=\u001b[0m\u001b[0mkwargs\u001b[0m\u001b[0;34m)\u001b[0m\u001b[0;34m\u001b[0m\u001b[0;34m\u001b[0m\u001b[0m\n\u001b[0m\u001b[1;32m   1032\u001b[0m         \u001b[0mcheck_argument_types\u001b[0m\u001b[0;34m(\u001b[0m\u001b[0mmemo\u001b[0m\u001b[0;34m)\u001b[0m\u001b[0;34m\u001b[0m\u001b[0;34m\u001b[0m\u001b[0m\n\u001b[1;32m   1033\u001b[0m         \u001b[0mretval\u001b[0m \u001b[0;34m=\u001b[0m \u001b[0mfunc\u001b[0m\u001b[0;34m(\u001b[0m\u001b[0;34m*\u001b[0m\u001b[0margs\u001b[0m\u001b[0;34m,\u001b[0m \u001b[0;34m**\u001b[0m\u001b[0mkwargs\u001b[0m\u001b[0;34m)\u001b[0m\u001b[0;34m\u001b[0m\u001b[0;34m\u001b[0m\u001b[0m\n",
      "\u001b[0;32m/opt/anaconda3/envs/python37/lib/python3.7/site-packages/typeguard/__init__.py\u001b[0m in \u001b[0;36m__init__\u001b[0;34m(self, func, frame_locals, args, kwargs, forward_refs_policy)\u001b[0m\n\u001b[1;32m    196\u001b[0m \u001b[0;34m\u001b[0m\u001b[0m\n\u001b[1;32m    197\u001b[0m         \u001b[0;32mif\u001b[0m \u001b[0margs\u001b[0m \u001b[0;32mis\u001b[0m \u001b[0;32mnot\u001b[0m \u001b[0;32mNone\u001b[0m \u001b[0;32mand\u001b[0m \u001b[0mkwargs\u001b[0m \u001b[0;32mis\u001b[0m \u001b[0;32mnot\u001b[0m \u001b[0;32mNone\u001b[0m\u001b[0;34m:\u001b[0m\u001b[0;34m\u001b[0m\u001b[0;34m\u001b[0m\u001b[0m\n\u001b[0;32m--> 198\u001b[0;31m             \u001b[0mself\u001b[0m\u001b[0;34m.\u001b[0m\u001b[0marguments\u001b[0m \u001b[0;34m=\u001b[0m \u001b[0msignature\u001b[0m\u001b[0;34m.\u001b[0m\u001b[0mbind\u001b[0m\u001b[0;34m(\u001b[0m\u001b[0;34m*\u001b[0m\u001b[0margs\u001b[0m\u001b[0;34m,\u001b[0m \u001b[0;34m**\u001b[0m\u001b[0mkwargs\u001b[0m\u001b[0;34m)\u001b[0m\u001b[0;34m.\u001b[0m\u001b[0marguments\u001b[0m\u001b[0;34m\u001b[0m\u001b[0;34m\u001b[0m\u001b[0m\n\u001b[0m\u001b[1;32m    199\u001b[0m         \u001b[0;32melse\u001b[0m\u001b[0;34m:\u001b[0m\u001b[0;34m\u001b[0m\u001b[0;34m\u001b[0m\u001b[0m\n\u001b[1;32m    200\u001b[0m             \u001b[0;32massert\u001b[0m \u001b[0mframe_locals\u001b[0m \u001b[0;32mis\u001b[0m \u001b[0;32mnot\u001b[0m \u001b[0;32mNone\u001b[0m\u001b[0;34m,\u001b[0m \u001b[0;34m'frame must be specified if args or kwargs is None'\u001b[0m\u001b[0;34m\u001b[0m\u001b[0;34m\u001b[0m\u001b[0m\n",
      "\u001b[0;32m/opt/anaconda3/envs/python37/lib/python3.7/inspect.py\u001b[0m in \u001b[0;36mbind\u001b[0;34m(*args, **kwargs)\u001b[0m\n\u001b[1;32m   3013\u001b[0m         \u001b[0;32mif\u001b[0m \u001b[0mthe\u001b[0m \u001b[0mpassed\u001b[0m \u001b[0marguments\u001b[0m \u001b[0mcan\u001b[0m \u001b[0;32mnot\u001b[0m \u001b[0mbe\u001b[0m \u001b[0mbound\u001b[0m\u001b[0;34m.\u001b[0m\u001b[0;34m\u001b[0m\u001b[0;34m\u001b[0m\u001b[0m\n\u001b[1;32m   3014\u001b[0m         \"\"\"\n\u001b[0;32m-> 3015\u001b[0;31m         \u001b[0;32mreturn\u001b[0m \u001b[0margs\u001b[0m\u001b[0;34m[\u001b[0m\u001b[0;36m0\u001b[0m\u001b[0;34m]\u001b[0m\u001b[0;34m.\u001b[0m\u001b[0m_bind\u001b[0m\u001b[0;34m(\u001b[0m\u001b[0margs\u001b[0m\u001b[0;34m[\u001b[0m\u001b[0;36m1\u001b[0m\u001b[0;34m:\u001b[0m\u001b[0;34m]\u001b[0m\u001b[0;34m,\u001b[0m \u001b[0mkwargs\u001b[0m\u001b[0;34m)\u001b[0m\u001b[0;34m\u001b[0m\u001b[0;34m\u001b[0m\u001b[0m\n\u001b[0m\u001b[1;32m   3016\u001b[0m \u001b[0;34m\u001b[0m\u001b[0m\n\u001b[1;32m   3017\u001b[0m     \u001b[0;32mdef\u001b[0m \u001b[0mbind_partial\u001b[0m\u001b[0;34m(\u001b[0m\u001b[0;34m*\u001b[0m\u001b[0margs\u001b[0m\u001b[0;34m,\u001b[0m \u001b[0;34m**\u001b[0m\u001b[0mkwargs\u001b[0m\u001b[0;34m)\u001b[0m\u001b[0;34m:\u001b[0m\u001b[0;34m\u001b[0m\u001b[0;34m\u001b[0m\u001b[0m\n",
      "\u001b[0;32m/opt/anaconda3/envs/python37/lib/python3.7/inspect.py\u001b[0m in \u001b[0;36m_bind\u001b[0;34m(self, args, kwargs, partial)\u001b[0m\n\u001b[1;32m   3004\u001b[0m                 raise TypeError(\n\u001b[1;32m   3005\u001b[0m                     'got an unexpected keyword argument {arg!r}'.format(\n\u001b[0;32m-> 3006\u001b[0;31m                         arg=next(iter(kwargs))))\n\u001b[0m\u001b[1;32m   3007\u001b[0m \u001b[0;34m\u001b[0m\u001b[0m\n\u001b[1;32m   3008\u001b[0m         \u001b[0;32mreturn\u001b[0m \u001b[0mself\u001b[0m\u001b[0;34m.\u001b[0m\u001b[0m_bound_arguments_cls\u001b[0m\u001b[0;34m(\u001b[0m\u001b[0mself\u001b[0m\u001b[0;34m,\u001b[0m \u001b[0marguments\u001b[0m\u001b[0;34m)\u001b[0m\u001b[0;34m\u001b[0m\u001b[0;34m\u001b[0m\u001b[0m\n",
      "\u001b[0;31mTypeError\u001b[0m: got an unexpected keyword argument 'consensus_mark_gt'"
     ]
    }
   ],
   "source": [
    "labels = kili.labels(your_project_id, fields=[\"labelOf.externalId\", \"jsonResponse\"], consensus_mark_gt=0.7)\n",
    "print(labels)\n",
    "# + label conversion code"
   ]
  },
  {
   "cell_type": "markdown",
   "metadata": {},
   "source": [
    "**Get all the labels added by a specific project member:**"
   ]
  },
  {
   "cell_type": "code",
   "execution_count": 40,
   "metadata": {},
   "outputs": [
    {
     "name": "stderr",
     "output_type": "stream",
     "text": [
      "100%|████████████████████████████████████████████████████████████████████████████████████████████████████████████████████████| 1/1 [00:00<00:00,  4.03it/s]"
     ]
    },
    {
     "name": "stdout",
     "output_type": "stream",
     "text": [
      "[{'author': {'email': 'john.doe@kili-technology.com'}, 'labelOf': {'externalId': 'car_1'}, 'jsonResponse': {'JOB_0': {'annotations': [{'boundingPoly': [{'normalizedVertices': [{'x': 0.437473570026755, 'y': 0.662407024077585}, {'x': 0.437473570026755, 'y': 0.28769191191267807}, {'x': 0.7235387616200971, 'y': 0.28769191191267807}, {'x': 0.7235387616200971, 'y': 0.662407024077585}]}], 'categories': [{'name': 'OBJECT_A'}], 'mid': '20230111125258113-44528', 'type': 'rectangle', 'children': {}}]}}}]\n"
     ]
    },
    {
     "name": "stderr",
     "output_type": "stream",
     "text": [
      "\n"
     ]
    }
   ],
   "source": [
    "labels = kili.labels(your_project_id, fields=[\"labelOf.externalId\", \"jsonResponse\", 'author.email'], user_id=john_doe_id)\n",
    "print(labels)\n",
    "# + label conversion code"
   ]
  },
  {
   "cell_type": "markdown",
   "metadata": {},
   "source": [
    "This code will return a list of labels authored by John Doe.\n",
    "\n",
    "One can also use the `author_in` parameter to filter by name directly."
   ]
  },
  {
   "cell_type": "markdown",
   "metadata": {},
   "source": [
    "### Filtering specific labels per asset through the label properties\n",
    "\n",
    "You can also look for specific labels, for example the last \"review\" status label per user, and dump the result into a json file. You can use the field `\"labels.isLatestReviewLabelForUser\"` to check if the label is the latest per user."
   ]
  },
  {
   "cell_type": "code",
   "execution_count": 42,
   "metadata": {},
   "outputs": [
    {
     "name": "stderr",
     "output_type": "stream",
     "text": [
      "100%|████████████████████████████████████████████████████████████████████████████████████████████████████████████████████████| 2/2 [00:00<00:00,  3.99it/s]\n"
     ]
    }
   ],
   "source": [
    "from pathlib import Path\n",
    "import json\n",
    "\n",
    "assets = kili.assets(your_project_id, fields=[\"externalId\", \"labels.jsonResponse\", \"labels.isLatestReviewLabelForUser\"])\n",
    "\n",
    "for asset in assets:\n",
    "    if asset[\"labels\"]: # check if asset has annotations\n",
    "        for label in asset[\"labels\"]:\n",
    "            if label[\"isLatestReviewLabelForUser\"] and \"JOB_0\" in label[\"jsonResponse\"]:\n",
    "                annotation = label[\"jsonResponse\"][\"JOB_0\"]\n",
    "                with Path(asset[\"externalId\"] + \".json\").open(\"w\", encoding=\"utf-8\") as f:\n",
    "                    f.write(json.dumps(annotation))\n",
    "                break # once we find a latest label done by a reviewer, we move on to the next asset."
   ]
  },
  {
   "cell_type": "markdown",
   "metadata": {},
   "source": [
    "### Filtering the latest label per annotator\n",
    "\n",
    "When working on project with [consensus](https://docs.kili-technology.com/docs/consensus-overview) enabled, it can be useful to export the latest label made by each annotator:"
   ]
  },
  {
   "cell_type": "code",
   "execution_count": 10,
   "metadata": {},
   "outputs": [
    {
     "ename": "NameError",
     "evalue": "name 'Kili' is not defined",
     "output_type": "error",
     "traceback": [
      "\u001b[0;31m---------------------------------------------------------------------------\u001b[0m",
      "\u001b[0;31mNameError\u001b[0m                                 Traceback (most recent call last)",
      "\u001b[0;32m/var/folders/gw/r92vzp2s29s0lznwrqrmsl2m0000gn/T/ipykernel_3300/2055109811.py\u001b[0m in \u001b[0;36m<module>\u001b[0;34m\u001b[0m\n\u001b[1;32m      1\u001b[0m \u001b[0;32mfrom\u001b[0m \u001b[0mcollections\u001b[0m \u001b[0;32mimport\u001b[0m \u001b[0mdefaultdict\u001b[0m\u001b[0;34m\u001b[0m\u001b[0;34m\u001b[0m\u001b[0m\n\u001b[1;32m      2\u001b[0m \u001b[0;34m\u001b[0m\u001b[0m\n\u001b[0;32m----> 3\u001b[0;31m \u001b[0mkili\u001b[0m \u001b[0;34m=\u001b[0m \u001b[0mKili\u001b[0m\u001b[0;34m(\u001b[0m\u001b[0;34m)\u001b[0m\u001b[0;34m\u001b[0m\u001b[0;34m\u001b[0m\u001b[0m\n\u001b[0m\u001b[1;32m      4\u001b[0m assets = kili.assets(\n\u001b[1;32m      5\u001b[0m     \u001b[0;34m\"clb54wfkn01zb0kyadscgaf5j\"\u001b[0m\u001b[0;34m,\u001b[0m\u001b[0;34m\u001b[0m\u001b[0;34m\u001b[0m\u001b[0m\n",
      "\u001b[0;31mNameError\u001b[0m: name 'Kili' is not defined"
     ]
    }
   ],
   "source": [
    "from collections import defaultdict\n",
    "\n",
    "assets = kili.assets(\n",
    "    \"clb54wfkn01zb0kyadscgaf5j\",\n",
    "    fields=[\n",
    "        \"externalId\",\n",
    "        \"labels.author.email\",\n",
    "        \"labels.createdAt\",\n",
    "        \"labels.labelType\",\n",
    "        \"labels.jsonResponse\",\n",
    "    ],\n",
    ")\n",
    "\n",
    "for asset in assets:\n",
    "    if asset[\"labels\"]:\n",
    "        latest_label_by_user = defaultdict(list)\n",
    "        for label in asset[\"labels\"]:\n",
    "            if label[\"labelType\"] == \"DEFAULT\":\n",
    "                latest_label_by_user[label[\"author\"][\"email\"]].append(label)\n",
    "        latest_label_per_user = {\n",
    "            email: max(labels, key=lambda x: x[\"createdAt\"])\n",
    "            for email, labels in latest_label_by_user.items()\n",
    "        }\n",
    "        with (Path(\"/tmp\") / (asset[\"externalId\"] + \".json\")).open(\"w\", encoding=\"utf-8\") as f:\n",
    "            f.write(json.dumps(latest_label_per_user))"
   ]
  },
  {
   "cell_type": "markdown",
   "metadata": {},
   "source": [
    "## Exporting a whole project\n",
    "\n",
    "Kili has a method to export the whole project into specific export formats. It can be useful when your goal is to use one of the standard output formats."
   ]
  },
  {
   "cell_type": "markdown",
   "metadata": {},
   "source": [
    "### Available formats\n",
    "\n",
    "\n",
    "| Format        | UI  | Python Client | Command Line Interface |\n",
    "| ------------- | --- | ------------- | ---------------------- |\n",
    "| Kili (raw)    | ✅   | ✅             | ✅                      |\n",
    "| Kili (simple) | ✅   | ❌             | ❌                      |\n",
    "| YOLO V4       | ✅   | ✅             | ✅                      |\n",
    "| YOLO V5       | ✅   | ✅             | ✅                      |\n",
    "| YOLO V7       | ❌   | ✅             | ✅                      |\n",
    "| Pascal VOC    | ✅   | ✅             | ✅                      |\n",
    "| COCO          | ❌   | ✅             | ✅                      |"
   ]
  },
  {
   "cell_type": "markdown",
   "metadata": {},
   "source": [
    "### The `.export_labels` method\n",
    "\n",
    "The [`.export_labels`](https://python-sdk-docs.kili-technology.com/latest/sdk/label/#kili.queries.label.__init__.QueriesLabel.export_labels) method enables the export of a full project. It does the following preprocessing:\n",
    "\n",
    "* Only fetches the labels of types `\"DEFAULT\"` and `\"REVIEW\"` (see the [label types explanations](https://docs.kili-technology.com/docs/asset-lifecycle#label-types-and-definitions-throughout-an-asset-lifecycle)).\n",
    "* If specified, selects a subset of asset ids.\n",
    "* Exports labels to one of the standard formats (only available for a restricted set of ML tasks).\n",
    "* Using various method arguments, you can decide:\n",
    "    * Whether or not to include the assets in the export\n",
    "    * Whether to export just the latest label or all the labels\n",
    "    * Whether to create one folder for all the jobs or one folder per job\n",
    "    * Whether or not to export the label-related data into one single file\n",
    "\n",
    "Note that some formats are by default single-file, while others use many files:\n",
    "\n",
    "|Format|Single file|Multiple files|\n",
    "|---|---|---|\n",
    "|Kili|✅ |✅ |\n",
    "|Yolo|❌|✅ |\n",
    "|Pascal VOC|❌|✅ |\n",
    "|COCO|✅|❌|\n",
    "\n",
    "For all the formats, in the output archive, a `README.kili.txt` file is also created. Here is an example of its contents:\n",
    "```\n",
    "Exported Labels from KILI\n",
    "=========================\n",
    "\n",
    "- Project name: Awesome annotation project\n",
    "- Project identifier: abcdefghijklmnop\n",
    "- Project description: This project contains labels, most of which are awesome.\n",
    "- Export date: 20221125-093324\n",
    "- Exported format: kili\n",
    "- Exported labels: latest\n",
    "```\n"
   ]
  },
  {
   "cell_type": "markdown",
   "metadata": {},
   "source": [
    "### Kili format, one file per asset\n",
    "\n",
    "The following code snippet exports the whole asset payload and the associated labels, with one json file per asset, into the `/tmp/export.zip` folder."
   ]
  },
  {
   "cell_type": "code",
   "execution_count": null,
   "metadata": {},
   "outputs": [],
   "source": [
    "kili.export_labels(\n",
    "    project_id = \"<your_project_id>\",\n",
    "    filename = \"/tmp/export.zip\",\n",
    "    fmt = \"kili\",\n",
    ")"
   ]
  },
  {
   "cell_type": "markdown",
   "metadata": {},
   "source": [
    "### Kili format, one file for the whole project\n",
    "\n",
    "This code snippet exports the whole asset payload and the associated labels as one file for the whole project, into the `/tmp/export.zip` folder."
   ]
  },
  {
   "cell_type": "code",
   "execution_count": 14,
   "metadata": {},
   "outputs": [
    {
     "ename": "NameError",
     "evalue": "name 'kili' is not defined",
     "output_type": "error",
     "traceback": [
      "\u001b[0;31m---------------------------------------------------------------------------\u001b[0m",
      "\u001b[0;31mNameError\u001b[0m                                 Traceback (most recent call last)",
      "\u001b[0;32m/var/folders/gw/r92vzp2s29s0lznwrqrmsl2m0000gn/T/ipykernel_3300/2716844688.py\u001b[0m in \u001b[0;36m<module>\u001b[0;34m\u001b[0m\n\u001b[0;32m----> 1\u001b[0;31m kili.export_labels(\n\u001b[0m\u001b[1;32m      2\u001b[0m     \u001b[0mproject_id\u001b[0m \u001b[0;34m=\u001b[0m \u001b[0;34m\"<your_project_id>\"\u001b[0m\u001b[0;34m,\u001b[0m\u001b[0;34m\u001b[0m\u001b[0;34m\u001b[0m\u001b[0m\n\u001b[1;32m      3\u001b[0m     \u001b[0mfilename\u001b[0m \u001b[0;34m=\u001b[0m \u001b[0;34m\"/tmp/export.zip\"\u001b[0m\u001b[0;34m,\u001b[0m\u001b[0;34m\u001b[0m\u001b[0;34m\u001b[0m\u001b[0m\n\u001b[1;32m      4\u001b[0m     \u001b[0mfmt\u001b[0m \u001b[0;34m=\u001b[0m \u001b[0;34m\"kili\"\u001b[0m\u001b[0;34m,\u001b[0m\u001b[0;34m\u001b[0m\u001b[0;34m\u001b[0m\u001b[0m\n\u001b[1;32m      5\u001b[0m     \u001b[0msingle_file\u001b[0m \u001b[0;34m=\u001b[0m \u001b[0;32mTrue\u001b[0m\u001b[0;34m,\u001b[0m\u001b[0;34m\u001b[0m\u001b[0;34m\u001b[0m\u001b[0m\n",
      "\u001b[0;31mNameError\u001b[0m: name 'kili' is not defined"
     ]
    }
   ],
   "source": [
    "kili.export_labels(\n",
    "    project_id = \"<your_project_id>\",\n",
    "    filename = \"/tmp/export.zip\",\n",
    "    fmt = \"kili\",\n",
    "    single_file = True,\n",
    ")"
   ]
  },
  {
   "cell_type": "markdown",
   "metadata": {},
   "source": [
    "### YOLO formats\n",
    "\n",
    "When you have at least one Object Detection job with bounding boxes, you can also export to one of the YOLO formats. You can choose `\"yolo_v4\"`, `\"yolo_v5\"` or `\"yolo_v7\"`. The difference between each format is the structure of the metadata YAML file, which specifies the object classes. In all the cases, one file per asset is produced, containing the last created `DEFAULT` or `REVIEW` label. Each YOLO label has the following shape:\n",
    "```\n",
    "2        0.25 0.67 0.26 0.34\n",
    "^        ^    ^    ^    ^\n",
    "class    x    y    w    h\n",
    "```\n",
    "where:\n",
    "\n",
    "   * `class` is the class index in the classes list contained in the YOLO metadata file.\n",
    "   * `x` is the x-coordinate relative to the image width (between 0.0 and 1.0) of the center of the bounding box.\n",
    "   * `y` is the y-coordinate relative to the image height (between 0.0 and 1.0) of the center of the bounding box.\n",
    "   * `w` is the width relative to the image width (between 0.0 and 1.0) of the bounding box.\n",
    "   * `h` is the height relative to the image height (between 0.0 and 1.0) of the bounding box.\n",
    "\n",
    "Here is an example of a YOLO annotation over an image:\n",
    "<br>\n",
    "<img src=\"../../assets/teslabb.jpg\" alt=\"yolo on an image\" width=\"400\"/>\n",
    "\n",
    "Here is how to export to YOLO (in this example, YOLOv5):"
   ]
  },
  {
   "cell_type": "code",
   "execution_count": 15,
   "metadata": {},
   "outputs": [
    {
     "ename": "NameError",
     "evalue": "name 'kili' is not defined",
     "output_type": "error",
     "traceback": [
      "\u001b[0;31m---------------------------------------------------------------------------\u001b[0m",
      "\u001b[0;31mNameError\u001b[0m                                 Traceback (most recent call last)",
      "\u001b[0;32m/var/folders/gw/r92vzp2s29s0lznwrqrmsl2m0000gn/T/ipykernel_3300/1267657524.py\u001b[0m in \u001b[0;36m<module>\u001b[0;34m\u001b[0m\n\u001b[0;32m----> 1\u001b[0;31m kili.export_labels(\n\u001b[0m\u001b[1;32m      2\u001b[0m     \u001b[0mproject_id\u001b[0m \u001b[0;34m=\u001b[0m \u001b[0;34m\"<your_project_id>\"\u001b[0m\u001b[0;34m,\u001b[0m\u001b[0;34m\u001b[0m\u001b[0;34m\u001b[0m\u001b[0m\n\u001b[1;32m      3\u001b[0m     \u001b[0mfilename\u001b[0m \u001b[0;34m=\u001b[0m \u001b[0;34m\"/tmp/export.zip\"\u001b[0m\u001b[0;34m,\u001b[0m\u001b[0;34m\u001b[0m\u001b[0;34m\u001b[0m\u001b[0m\n\u001b[1;32m      4\u001b[0m     \u001b[0mfmt\u001b[0m \u001b[0;34m=\u001b[0m \u001b[0;34m\"yolo_v5\"\u001b[0m\u001b[0;34m,\u001b[0m\u001b[0;34m\u001b[0m\u001b[0;34m\u001b[0m\u001b[0m\n\u001b[1;32m      5\u001b[0m )\n",
      "\u001b[0;31mNameError\u001b[0m: name 'kili' is not defined"
     ]
    }
   ],
   "source": [
    "kili.export_labels(\n",
    "    project_id = \"<your_project_id>\",\n",
    "    filename = \"/tmp/export.zip\",\n",
    "    fmt = \"yolo_v5\",\n",
    ")"
   ]
  },
  {
   "cell_type": "markdown",
   "metadata": {},
   "source": [
    "Note that a standard YOLO file format must also include:\n",
    "\n",
    "* The path root to the assets\n",
    "* The `train`, `val` and `test` subfolders\n",
    "\n",
    "Placing specific data in specific folders is the decision of an ML engineer or a Data scientist, so we are not providing a code snippet here."
   ]
  },
  {
   "cell_type": "markdown",
   "metadata": {},
   "source": [
    "### COCO format\n",
    "\n",
    "To export your data into the COCO format, run the following code:"
   ]
  },
  {
   "cell_type": "code",
   "execution_count": 16,
   "metadata": {},
   "outputs": [
    {
     "ename": "NameError",
     "evalue": "name 'kili' is not defined",
     "output_type": "error",
     "traceback": [
      "\u001b[0;31m---------------------------------------------------------------------------\u001b[0m",
      "\u001b[0;31mNameError\u001b[0m                                 Traceback (most recent call last)",
      "\u001b[0;32m/var/folders/gw/r92vzp2s29s0lznwrqrmsl2m0000gn/T/ipykernel_3300/2062963922.py\u001b[0m in \u001b[0;36m<module>\u001b[0;34m\u001b[0m\n\u001b[0;32m----> 1\u001b[0;31m kili.export_labels(\n\u001b[0m\u001b[1;32m      2\u001b[0m     \u001b[0mproject_id\u001b[0m \u001b[0;34m=\u001b[0m \u001b[0;34m\"<your_project_id>\"\u001b[0m\u001b[0;34m,\u001b[0m\u001b[0;34m\u001b[0m\u001b[0;34m\u001b[0m\u001b[0m\n\u001b[1;32m      3\u001b[0m     \u001b[0mfilename\u001b[0m \u001b[0;34m=\u001b[0m \u001b[0;34m\"/tmp/export.zip\"\u001b[0m\u001b[0;34m,\u001b[0m\u001b[0;34m\u001b[0m\u001b[0;34m\u001b[0m\u001b[0m\n\u001b[1;32m      4\u001b[0m     \u001b[0mfmt\u001b[0m \u001b[0;34m=\u001b[0m \u001b[0;34m\"coco\"\u001b[0m\u001b[0;34m,\u001b[0m\u001b[0;34m\u001b[0m\u001b[0;34m\u001b[0m\u001b[0m\n\u001b[1;32m      5\u001b[0m )\n",
      "\u001b[0;31mNameError\u001b[0m: name 'kili' is not defined"
     ]
    }
   ],
   "source": [
    "kili.export_labels(\n",
    "    project_id = \"<your_project_id>\",\n",
    "    filename = \"/tmp/export.zip\",\n",
    "    fmt = \"coco\",\n",
    ")"
   ]
  },
  {
   "cell_type": "markdown",
   "metadata": {},
   "source": [
    "This will create an archive containing both:\n",
    "\n",
    " * The COCO annotation file\n",
    " * The `data/` folder with all the assets\n"
   ]
  },
  {
   "cell_type": "markdown",
   "metadata": {},
   "source": [
    "## Summary\n",
    "\n",
    "In this tutorial, we have seen several ways to export labels from a Kili project:\n",
    "\n",
    "* Using [`.assets`](https://python-sdk-docs.kili-technology.com/latest/sdk/asset/#kili.queries.asset.__init__.QueriesAsset.assets) and [`.labels`](https://python-sdk-docs.kili-technology.com/latest/sdk/label/#kili.queries.label.__init__.QueriesLabel.labels) and their filtering arguments, a subset of assets or labels can be selected and then exported.\n",
    "* Using [`.export_labels`](https://python-sdk-docs.kili-technology.com/latest/sdk/label/#kili.queries.label.__init__.QueriesLabel.export_labels), the whole project can be exported into a standard output format."
   ]
  }
 ],
 "metadata": {
  "kernelspec": {
   "display_name": "Python 3 (ipykernel)",
   "language": "python",
   "name": "python3"
  },
  "language_info": {
   "codemirror_mode": {
    "name": "ipython",
    "version": 3
   },
   "file_extension": ".py",
   "mimetype": "text/x-python",
   "name": "python",
   "nbconvert_exporter": "python",
   "pygments_lexer": "ipython3",
   "version": "3.7.15"
  },
  "vscode": {
   "interpreter": {
    "hash": "ebcc9ab275a0b8333d76f3c9007aff6798cc23ea07d3b4c53c0b1df0392e66fe"
   }
  }
 },
 "nbformat": 4,
 "nbformat_minor": 4
}
