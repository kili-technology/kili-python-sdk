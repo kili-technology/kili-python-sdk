{
 "cells": [
  {
   "cell_type": "markdown",
   "metadata": {},
   "source": [
    "# How to set up workflows with Kili"
   ]
  },
  {
   "cell_type": "markdown",
   "metadata": {},
   "source": [
    "In this tutorial, we'll learn how to set up basic Kili workflows:\n",
    "\n",
    "1. [Managing reviews](#-Managing-reviews)\n",
    "    1. [Placing a specific percentage of project assets in the review queue](#-Placing-a-specific-percentage-of-project-assets-in-the-review-queue)\n",
    "    1. [Placing specific assets in the review queue](#-Placing-specific-assets-in-the-review-queue)\n",
    "    1. [Sending an asset back to the labeling queue](#-Sending-an-asset-back-to-the-labeling-queue)\n",
    "1. [Setting up consensus](#-Setting-up-consensus)\n",
    "    1. [Setting consensus for a specific percentage of project assets](#-Setting-consensus-for-a-specific-percentage-of-project-assets)\n",
    "    1. [Setting consensus for specific assets to compute consensus KPIs](#-Setting-consensus-for-specific-assets-to-compute-consensus-KPIs)\n",
    "1. [Setting up honeypot](#-Setting-up-honeypot)\n",
    "1. [Assigning labelers to assets](#-Assigning-labelers-to-assets)\n",
    "1. [Prioritizing assets in the labeling queue](#-Prioritizing-assets-in-the-labeling-queue)"
   ]
  },
  {
   "cell_type": "markdown",
   "metadata": {},
   "source": [
    "To work with this notebook, you'll have to install and instantiate Kili."
   ]
  },
  {
   "cell_type": "code",
   "execution_count": null,
   "metadata": {},
   "outputs": [],
   "source": [
    "!pip install --upgrade kili\n",
    "from kili.client import Kili\n",
    "import getpass"
   ]
  },
  {
   "cell_type": "code",
   "execution_count": null,
   "metadata": {},
   "outputs": [],
   "source": [
    "KILI_API_KEY = getpass.getpass(\"Please enter your API key: \")"
   ]
  },
  {
   "cell_type": "code",
   "execution_count": null,
   "metadata": {},
   "outputs": [],
   "source": [
    "kili = Kili(\n",
    "    api_key=KILI_API_KEY,\n",
    "    # api_endpoint=\"https://cloud.kili-technology.com/api/label/v2/graphql\", \n",
    "    # the line above can be uncommented and changed if you are working with an on-premise version of Kili\n",
    ")"
   ]
  },
  {
   "cell_type": "code",
   "execution_count": null,
   "metadata": {},
   "outputs": [],
   "source": [
    "project_id = <TYPE_YOUR_PROJECT_ID_HERE>"
   ]
  },
  {
   "cell_type": "markdown",
   "metadata": {},
   "source": [
    "For information on how to set up a Kili project, refer to the `basic_project_setup.ipynb` tutorial."
   ]
  },
  {
   "cell_type": "markdown",
   "metadata": {},
   "source": [
    "## Managing reviews"
   ]
  },
  {
   "cell_type": "markdown",
   "metadata": {},
   "source": [
    "### Placing a specific percentage of project assets in the review queue "
   ]
  },
  {
   "cell_type": "markdown",
   "metadata": {},
   "source": [
    "You can set up the percentage of assets that will automatically appear in the review queue (1-100%)."
   ]
  },
  {
   "cell_type": "code",
   "execution_count": 327,
   "metadata": {},
   "outputs": [
    {
     "name": "stderr",
     "output_type": "stream",
     "text": [
      "100%|██████████| 1/1 [00:00<00:00,  2.04it/s]"
     ]
    },
    {
     "name": "stdout",
     "output_type": "stream",
     "text": [
      "The review coverage set up for project id clbqdvzhy10i60lqb822o3ahr is 50%.\n"
     ]
    },
    {
     "name": "stderr",
     "output_type": "stream",
     "text": [
      "\n"
     ]
    }
   ],
   "source": [
    "def set_rev_queue_percentage(project_id: str, percentage: int) -> str:\n",
    "    assert type(project_id) == str, \"Project type must be a string!\"\n",
    "    assert type(percentage) == int, \"Percentage must be an integer!\"\n",
    "\n",
    "    kili.update_properties_in_project(project_id=project_id, review_coverage=percentage)\n",
    "    \n",
    "    review_coverage = kili.projects(project_id=project_id, fields=['reviewCoverage'])\n",
    "    print(f'The review coverage set up for project id {project_id} is {review_coverage[0][\"reviewCoverage\"]}%.')\n",
    "\n",
    "set_rev_queue_percentage(project_id=project_id, percentage=50)"
   ]
  },
  {
   "cell_type": "markdown",
   "metadata": {},
   "source": [
    "### Placing specific assets in the review queue"
   ]
  },
  {
   "cell_type": "markdown",
   "metadata": {},
   "source": [
    "You can choose to set specific assets to be placed in the review queue.\n",
    "First, let's simulate adding labels to some of our assets:"
   ]
  },
  {
   "cell_type": "code",
   "execution_count": null,
   "metadata": {},
   "outputs": [],
   "source": [
    "def add_mock_labels_to_assets(project_id: str, asset_range: tuple) -> str:\n",
    "    assert type(project_id) == str, \"Project type must be a string!\"\n",
    "    assert type(asset_range) == tuple, \"Asset range must be a tuple marking start and end asset numbers, for example: '(0, 40)'!\"\n",
    "    asset_id_array = []\n",
    "    \n",
    "    for asset_number in range(asset_range[0], asset_range[1]+1):\n",
    "        try:\n",
    "            asset_id = kili.assets(project_id=project_id)[asset_number]['id']\n",
    "            asset_id_array.append(asset_id)\n",
    "        except IndexError as e:\n",
    "            available_assets = kili.count_assets(project_id=project_id)\n",
    "            print(f\"Asset number: {asset_number} does not exist in project id {project_id}. Available assets: 0 -> {available_assets-1}.\")\n",
    "            continue\n",
    "    json_response_array = [{'JOB_0': {'categories': [{'confidence': 100, 'name': 'OBJECT_B'}]}} for i in range(asset_range[0], asset_range[1]+1)]\n",
    "\n",
    "    kili.append_labels(asset_id_array=asset_id_array, json_response_array=json_response_array, label_type='DEFAULT')\n",
    "    \n",
    "    for asset_id in asset_id_array:\n",
    "        current_asset_labels = kili.assets(project_id=project_id, asset_id=asset_id, fields=['labels.jsonResponse'])\n",
    "        print(f\"Current labels added to asset id: {asset_id}:\\n{current_asset_labels}\")\n",
    "\n",
    "add_mock_labels_to_assets(project_id = project_id, asset_range = (0, 3))"
   ]
  },
  {
   "cell_type": "markdown",
   "metadata": {},
   "source": [
    "Now, let's place some assets in the review queue:"
   ]
  },
  {
   "cell_type": "code",
   "execution_count": 326,
   "metadata": {},
   "outputs": [
    {
     "name": "stderr",
     "output_type": "stream",
     "text": [
      "100%|██████████| 5/5 [00:00<00:00, 10.17it/s]\n",
      "100%|██████████| 1/1 [00:00<00:00,  2.05it/s]\n"
     ]
    },
    {
     "name": "stdout",
     "output_type": "stream",
     "text": [
      "Asset number: 0, asset id clbqdwqv300003b6gbepg5xop: current status is TO_REVIEW. Skipping.\n"
     ]
    },
    {
     "name": "stderr",
     "output_type": "stream",
     "text": [
      "100%|██████████| 5/5 [00:01<00:00,  3.76it/s]\n",
      "100%|██████████| 1/1 [00:00<00:00,  2.04it/s]\n"
     ]
    },
    {
     "name": "stdout",
     "output_type": "stream",
     "text": [
      "Asset number: 1, asset id clbqdwqv300013b6gzpz47bat: current status is TO_REVIEW. Skipping.\n"
     ]
    },
    {
     "name": "stderr",
     "output_type": "stream",
     "text": [
      "100%|██████████| 5/5 [00:00<00:00, 10.28it/s]\n",
      "100%|██████████| 1/1 [00:01<00:00,  1.41s/it]\n"
     ]
    },
    {
     "name": "stdout",
     "output_type": "stream",
     "text": [
      "Asset number: 2, asset id clbqdwqv300023b6gycknzs90: current status is TO_REVIEW. Skipping.\n"
     ]
    },
    {
     "name": "stderr",
     "output_type": "stream",
     "text": [
      "100%|██████████| 5/5 [00:00<00:00, 10.30it/s]\n",
      "100%|██████████| 1/1 [00:00<00:00,  2.04it/s]\n",
      "100%|██████████| 1/1 [00:00<00:00,  1.47it/s]"
     ]
    },
    {
     "name": "stdout",
     "output_type": "stream",
     "text": [
      "The status for asset ID: 3 is now TO_REVIEW.\n"
     ]
    },
    {
     "name": "stderr",
     "output_type": "stream",
     "text": [
      "\n"
     ]
    }
   ],
   "source": [
    "def put_assets_in_rev_queue(project_id: str, asset_range: tuple) -> str:\n",
    "    assert type(project_id) == str, \"Project type must be a string!\"\n",
    "    assert type(asset_range) == tuple, \"Asset range must be a tuple marking start and end asset numbers, for example: '(0, 40)'!\"\n",
    "    summary = []\n",
    "    \n",
    "    for asset_number in range(asset_range[0], asset_range[1]+1):\n",
    "        try:\n",
    "            asset_id = kili.assets(project_id=project_id)[asset_number]['id']\n",
    "        except IndexError as e:\n",
    "            available_assets = kili.count_assets(project_id=project_id)\n",
    "            print(f\"Asset number: {asset_number} does not exist in project id {project_id}. Available assets: 0 -> {available_assets-1}.\")\n",
    "            continue\n",
    "        asset_status = kili.assets(project_id=project_id, asset_id=asset_id, fields=['status'])\n",
    "        if asset_status[0][\"status\"] != \"LABELED\":\n",
    "            print(f\"Asset number: {asset_number}, asset id {asset_id}: current status is {asset_status[0]['status']}. Skipping.\")\n",
    "            continue\n",
    "\n",
    "        kili.add_to_review([asset_id])\n",
    "\n",
    "        asset_status = kili.assets(project_id=project_id, asset_id=asset_id, fields=['status'])\n",
    "        summary.append((asset_number, asset_status[0][\"status\"]))\n",
    "    for item in summary:\n",
    "        print(f'The status for asset ID: {item[0]} is now {item[1]}.')\n",
    "\n",
    "put_assets_in_rev_queue(project_id = project_id, asset_range = (0, 3))"
   ]
  },
  {
   "cell_type": "markdown",
   "metadata": {},
   "source": [
    "For more information on asset statuses, refer to our [documentation](https://docs.kili-technology.com/docs/asset-lifecycle)."
   ]
  },
  {
   "cell_type": "markdown",
   "metadata": {},
   "source": [
    "### Sending an asset back to the labeling queue"
   ]
  },
  {
   "cell_type": "markdown",
   "metadata": {},
   "source": [
    "You can send specific labeled assets back to the labeling queue.\n",
    "First, let's simulate adding labels to some of our assets:"
   ]
  },
  {
   "cell_type": "code",
   "execution_count": 325,
   "metadata": {},
   "outputs": [
    {
     "name": "stderr",
     "output_type": "stream",
     "text": [
      "100%|██████████| 5/5 [00:00<00:00, 10.17it/s]\n",
      "100%|██████████| 5/5 [00:00<00:00, 10.16it/s]\n",
      "100%|██████████| 5/5 [00:00<00:00,  9.46it/s]\n",
      "100%|██████████| 5/5 [00:00<00:00, 10.18it/s]\n",
      "100%|██████████| 1/1 [00:00<00:00,  2.04it/s]\n"
     ]
    },
    {
     "name": "stdout",
     "output_type": "stream",
     "text": [
      "Current labels added to asset id: clbqdwqv300003b6gbepg5xop:\n",
      "[{'labels': [{'jsonResponse': {'JOB_0': {'categories': [{'confidence': 100, 'name': 'OBJECT_B'}]}}}]}]\n"
     ]
    },
    {
     "name": "stderr",
     "output_type": "stream",
     "text": [
      "100%|██████████| 1/1 [00:00<00:00,  2.05it/s]\n"
     ]
    },
    {
     "name": "stdout",
     "output_type": "stream",
     "text": [
      "Current labels added to asset id: clbqdwqv300013b6gzpz47bat:\n",
      "[{'labels': [{'jsonResponse': {'JOB_0': {'categories': [{'confidence': 100, 'name': 'OBJECT_B'}]}}}]}]\n"
     ]
    },
    {
     "name": "stderr",
     "output_type": "stream",
     "text": [
      "100%|██████████| 1/1 [00:00<00:00,  2.03it/s]\n"
     ]
    },
    {
     "name": "stdout",
     "output_type": "stream",
     "text": [
      "Current labels added to asset id: clbqdwqv300023b6gycknzs90:\n",
      "[{'labels': [{'jsonResponse': {'JOB_0': {'categories': [{'confidence': 100, 'name': 'OBJECT_B'}]}}}]}]\n"
     ]
    },
    {
     "name": "stderr",
     "output_type": "stream",
     "text": [
      "100%|██████████| 1/1 [00:00<00:00,  2.04it/s]"
     ]
    },
    {
     "name": "stdout",
     "output_type": "stream",
     "text": [
      "Current labels added to asset id: clbqdwqv300033b6gien5hmlt:\n",
      "[{'labels': [{'jsonResponse': {'JOB_0': {'categories': [{'confidence': 100, 'name': 'OBJECT_B'}]}}}]}]\n"
     ]
    },
    {
     "name": "stderr",
     "output_type": "stream",
     "text": [
      "\n"
     ]
    }
   ],
   "source": [
    "def add_mock_labels_to_assets(project_id: str, asset_range: tuple) -> str:\n",
    "    assert type(project_id) == str, \"Project type must be a string!\"\n",
    "    assert type(asset_range) == tuple, \"Asset range must be a tuple marking start and end asset numbers, for example: '(0, 40)'!\"\n",
    "    asset_id_array = []\n",
    "    \n",
    "    for asset_number in range(asset_range[0], asset_range[1]+1):\n",
    "        try:\n",
    "            asset_id = kili.assets(project_id=project_id)[asset_number]['id']\n",
    "            asset_id_array.append(asset_id)\n",
    "        except IndexError as e:\n",
    "            available_assets = kili.count_assets(project_id=project_id)\n",
    "            print(f\"Asset number: {asset_number} does not exist in project id {project_id}. Available assets: 0 -> {available_assets-1}.\")\n",
    "            continue\n",
    "    json_response_array = [{'JOB_0': {'categories': [{'confidence': 100, 'name': 'OBJECT_B'}]}} for i in range(asset_range[0], asset_range[1]+1)]\n",
    "\n",
    "    kili.append_labels(asset_id_array=asset_id_array, json_response_array=json_response_array, label_type='DEFAULT')\n",
    "    \n",
    "    for asset_id in asset_id_array:\n",
    "        current_asset_labels = kili.assets(project_id=project_id, asset_id=asset_id, fields=['labels.jsonResponse'])\n",
    "        print(f\"Current labels added to asset id: {asset_id}:\\n{current_asset_labels}\")\n",
    "\n",
    "add_mock_labels_to_assets(project_id = project_id, asset_range = (0, 3))"
   ]
  },
  {
   "cell_type": "markdown",
   "metadata": {},
   "source": [
    "Now, we'll send some of our assets back to the labeling queue. The new status for the asset should be \"ONGOING\". "
   ]
  },
  {
   "cell_type": "code",
   "execution_count": 324,
   "metadata": {},
   "outputs": [
    {
     "name": "stderr",
     "output_type": "stream",
     "text": [
      "100%|██████████| 5/5 [00:01<00:00,  3.25it/s]\n",
      "100%|██████████| 5/5 [00:00<00:00,  7.62it/s]\n",
      "100%|██████████| 5/5 [00:00<00:00,  7.85it/s]\n",
      "100%|██████████| 5/5 [00:00<00:00,  9.78it/s]\n",
      "100%|██████████| 1/1 [00:00<00:00,  2.04it/s]\n",
      "100%|██████████| 1/1 [00:00<00:00,  2.04it/s]\n",
      "100%|██████████| 1/1 [00:00<00:00,  2.04it/s]\n",
      "100%|██████████| 1/1 [00:00<00:00,  2.05it/s]"
     ]
    },
    {
     "name": "stdout",
     "output_type": "stream",
     "text": [
      "The status for asset number: 0, asset ID: clbqdwqv300003b6gbepg5xop is now ONGOING.\n",
      "The status for asset number: 1, asset ID: clbqdwqv300013b6gzpz47bat is now ONGOING.\n",
      "The status for asset number: 2, asset ID: clbqdwqv300023b6gycknzs90 is now ONGOING.\n",
      "The status for asset number: 3, asset ID: clbqdwqv300033b6gien5hmlt is now ONGOING.\n"
     ]
    },
    {
     "name": "stderr",
     "output_type": "stream",
     "text": [
      "\n"
     ]
    }
   ],
   "source": [
    "def send_assets_back_to_queue(project_id: str, asset_range: tuple) -> str:\n",
    "    assert type(project_id) == str, \"Project type must be a string!\"\n",
    "    assert type(asset_range) == tuple, \"Asset range must be a tuple marking start and end asset numbers, for example: '(0, 40)'!\"\n",
    "    asset_id_array = []\n",
    "    summary = []\n",
    "\n",
    "    for asset_number in range(asset_range[0], asset_range[1]+1):\n",
    "        try:\n",
    "            asset_id = kili.assets(project_id=project_id)[asset_number]['id']\n",
    "            asset_id_array.append(asset_id)\n",
    "        except IndexError as e:\n",
    "            available_assets = kili.count_assets(project_id=project_id)\n",
    "            print(f\"Asset number: {asset_number} does not exist in project id {project_id}. Available assets: 0 -> {available_assets-1}.\")\n",
    "            continue\n",
    "\n",
    "        kili.send_back_to_queue(asset_ids=asset_id_array)\n",
    "\n",
    "    asset_info = zip(range(asset_range[0], asset_range[1]+1), asset_id_array)\n",
    "    asset_info_list = list(asset_info)\n",
    "    \n",
    "    for asset_item in asset_info_list:\n",
    "        asset_status = kili.assets(project_id=project_id, asset_id=asset_item[1], fields=['status'])\n",
    "        summary.append((asset_item[0], asset_item[1], asset_status[0][\"status\"]))\n",
    "    for item in summary:\n",
    "        print(f'The status for asset number: {item[0]}, asset ID: {item[1]} is now {item[2]}.')\n",
    "\n",
    "send_assets_back_to_queue(project_id = project_id, asset_range = (0, 3))"
   ]
  },
  {
   "cell_type": "markdown",
   "metadata": {},
   "source": [
    "For more information on asset statuses, refer to our [documentation](https://docs.kili-technology.com/docs/asset-lifecycle)."
   ]
  },
  {
   "cell_type": "markdown",
   "metadata": {},
   "source": [
    "## Setting up consensus"
   ]
  },
  {
   "cell_type": "markdown",
   "metadata": {},
   "source": [
    "Consensus works by having more than one labeler annotate the same asset. When the asset is labeled, a consensus score is calculated to measure the agreement level between the different annotations for a given asset.\n",
    "This is a key measure for controlling label production quality.\n",
    "\n",
    "To set up consensus, you'll need to have at least two project members.\n",
    "For information on how to add users and assign them to your project, refer to the `basic_project_setup.ipynb` tutorial."
   ]
  },
  {
   "cell_type": "code",
   "execution_count": null,
   "metadata": {},
   "outputs": [],
   "source": [
    "kili.count_project_users(project_id=project_id)"
   ]
  },
  {
   "cell_type": "markdown",
   "metadata": {},
   "source": [
    "### Setting consensus for a specific percentage of project assets"
   ]
  },
  {
   "cell_type": "code",
   "execution_count": 323,
   "metadata": {},
   "outputs": [
    {
     "name": "stderr",
     "output_type": "stream",
     "text": [
      "100%|██████████| 1/1 [00:00<00:00,  2.03it/s]"
     ]
    },
    {
     "name": "stdout",
     "output_type": "stream",
     "text": [
      "The consensus coverage for project ID clbqdvzhy10i60lqb822o3ahr is now 100%.\n"
     ]
    },
    {
     "name": "stderr",
     "output_type": "stream",
     "text": [
      "\n"
     ]
    }
   ],
   "source": [
    "def set_consensus_percentage(project_id: str, percentage: int) -> str:\n",
    "    assert type(project_id) == str, \"Project type must be a string!\"\n",
    "    assert type(percentage) == int, \"Percentage must be an integer!\"\n",
    "\n",
    "    kili.update_properties_in_project(project_id=project_id, consensus_tot_coverage=percentage)\n",
    "    \n",
    "    cons_tot_coverage = kili.projects(project_id=project_id, fields=[\"consensusTotCoverage\"])\n",
    "    print(f'The consensus coverage for project ID {project_id} is now {cons_tot_coverage[0][\"consensusTotCoverage\"]}%.')\n",
    "\n",
    "set_consensus_percentage(project_id=project_id, percentage=100)"
   ]
  },
  {
   "cell_type": "markdown",
   "metadata": {},
   "source": [
    "### Setting consensus for specific assets to compute consensus KPIs"
   ]
  },
  {
   "cell_type": "markdown",
   "metadata": {},
   "source": [
    "You can manually select specific project assets to be used for computing consensus KPIs:"
   ]
  },
  {
   "cell_type": "code",
   "execution_count": 322,
   "metadata": {},
   "outputs": [
    {
     "name": "stderr",
     "output_type": "stream",
     "text": [
      "100%|██████████| 5/5 [00:00<00:00,  7.19it/s]\n",
      "100%|██████████| 1/1 [00:00<00:00,  2.04it/s]\n",
      "100%|██████████| 1/1 [00:00<00:00,  2.06it/s]\n",
      "100%|██████████| 1/1 [00:00<00:00,  1.98it/s]\n",
      "100%|██████████| 1/1 [00:00<00:00,  2.03it/s]"
     ]
    },
    {
     "name": "stdout",
     "output_type": "stream",
     "text": [
      "AssetID: clbqdwqv300013b6gzpz47bat, asset name: 2.jpg is used for consensus: True.\n",
      "AssetID: clbqdwqv300023b6gycknzs90, asset name: 3.jpg is used for consensus: True.\n",
      "AssetID: clbqdwqv300033b6gien5hmlt, asset name: 4.jpg is used for consensus: False.\n",
      "AssetID: clbqdwqv300043b6gbifi2ovx, asset name: 5.jpg is used for consensus: False.\n"
     ]
    },
    {
     "name": "stderr",
     "output_type": "stream",
     "text": [
      "\n"
     ]
    }
   ],
   "source": [
    "def set_consensus_for_assets(project_id: str, asset_consensus_dict: dict) -> str:\n",
    "\n",
    "    assert type(project_id) == str, \"Project type must be a string!\"\n",
    "    assert type(asset_consensus_dict) == dict, \"'asset_consensus_dict' must be a dict. Dict keys are are tuples marking start and end asset numbers, for example: '(0, 40)' and values are consensus values (True or False).\"\n",
    "\n",
    "    summary = []\n",
    "    mutation_dict = {}\n",
    "    list_of_updated_assets = []\n",
    "    all_project_assets = kili.assets(project_id=project_id)\n",
    "\n",
    "    for asset_list in asset_consensus_dict.keys():\n",
    "        assert type(asset_list) == tuple, \"Asset range must be a tuple marking start and end asset numbers, for example: '(0, 40)'!\"\n",
    "        consensus = asset_consensus_dict[asset_list]\n",
    "        assert type(consensus) == bool, \"Asset consensus value must be a True or False!\"\n",
    "\n",
    "        all_project_external_ids = {}\n",
    "        for i in range(len(all_project_assets)):\n",
    "            all_project_external_ids[all_project_assets[i][\"externalId\"]] = i\n",
    "        for asset_name in asset_list:\n",
    "            if asset_name not in all_project_external_ids.keys():\n",
    "                print(f\"Asset name {asset_name} not found in project. Skipping...\")\n",
    "                continue\n",
    "            else:\n",
    "                asset_id = all_project_assets[all_project_external_ids[asset_name]]['id']\n",
    "                list_of_updated_assets.append((asset_id, asset_name))\n",
    "            if asset_id not in mutation_dict.keys():\n",
    "                mutation_dict[asset_id] = consensus\n",
    "            else:\n",
    "                print(f\"Warning! Two consensus values set for one asset: {asset_id}. Using the latter.\")\n",
    "                mutation_dict[asset_id] = consensus\n",
    "\n",
    "    asset_ids = [i for i in mutation_dict.keys()]\n",
    "    is_used_for_consensus_array = [mutation_dict[key] for key in mutation_dict.keys()]\n",
    "    \n",
    "    kili.update_properties_in_assets(asset_ids=asset_ids, is_used_for_consensus_array=is_used_for_consensus_array)\n",
    "\n",
    "    for asset in list_of_updated_assets:\n",
    "        is_used_for_consensus = kili.assets(project_id=project_id, asset_id=asset[0], fields=[\"isUsedForConsensus\"])\n",
    "        summary.append((asset[0], asset[1], is_used_for_consensus[0][\"isUsedForConsensus\"]))\n",
    "    for item in summary:\n",
    "        print(f'AssetID: {item[0]}, asset name: {item[1]} is used for consensus: {item[2]}.')\n",
    "\n",
    "asset_consensus_dict = {\n",
    "    (\"2.jpg\", \"3.jpg\"): True,\n",
    "    (\"4.jpg\", \"5.jpg\"): False\n",
    "}\n",
    "\n",
    "set_consensus_for_assets(project_id = project_id, asset_consensus_dict = asset_consensus_dict)"
   ]
  },
  {
   "cell_type": "markdown",
   "metadata": {},
   "source": [
    "For more information on consensus, refer to our [documentation](https://docs.kili-technology.com/docs/consensus-overview)."
   ]
  },
  {
   "cell_type": "markdown",
   "metadata": {},
   "source": [
    "## Setting up honeypot"
   ]
  },
  {
   "cell_type": "markdown",
   "metadata": {},
   "source": [
    "Honeypot (or __gold standard__) is a tool for auditing the work of labelers by measuring the accuracy of their annotations.\n",
    "Honeypot works by interspersing assets with defined ground truth label in the annotation queue. This way you can measure the agreement level between your ground truth and the annotations made by labelers.\n",
    "\n",
    "You can manually select specific project assets to be used as honeypots:"
   ]
  },
  {
   "cell_type": "code",
   "execution_count": 321,
   "metadata": {},
   "outputs": [
    {
     "name": "stderr",
     "output_type": "stream",
     "text": [
      "100%|██████████| 5/5 [00:00<00:00,  8.89it/s]\n",
      "100%|██████████| 1/1 [00:00<00:00,  2.06it/s]\n",
      "100%|██████████| 1/1 [00:00<00:00,  2.03it/s]\n",
      "100%|██████████| 1/1 [00:00<00:00,  2.04it/s]\n",
      "100%|██████████| 1/1 [00:00<00:00,  1.95it/s]"
     ]
    },
    {
     "name": "stdout",
     "output_type": "stream",
     "text": [
      "AssetID: clbqdwqv300013b6gzpz47bat, asset name: 2.jpg is used as honeypot: 2.jpg.\n",
      "AssetID: clbqdwqv300023b6gycknzs90, asset name: 3.jpg is used as honeypot: 3.jpg.\n",
      "AssetID: clbqdwqv300033b6gien5hmlt, asset name: 4.jpg is used as honeypot: 4.jpg.\n",
      "AssetID: clbqdwqv300043b6gbifi2ovx, asset name: 5.jpg is used as honeypot: 5.jpg.\n"
     ]
    },
    {
     "name": "stderr",
     "output_type": "stream",
     "text": [
      "\n"
     ]
    }
   ],
   "source": [
    "def set_honeypot_for_assets(project_id: str, asset_honeypot_dict: dict) -> str:\n",
    "    assert type(project_id) == str, \"Project type must be a string!\"\n",
    "    assert type(asset_honeypot_dict) == dict, \"'asset_honeypot_dict' must be a dict. Dict keys are are tuples marking start and end asset numbers, for example: '(0, 40)' and values are honeypot values (True or False).\"\n",
    "\n",
    "    summary = []\n",
    "    mutation_dict = {}\n",
    "    list_of_updated_assets = []\n",
    "    all_project_assets = kili.assets(project_id=project_id)\n",
    "\n",
    "    for asset_list in asset_honeypot_dict.keys():\n",
    "        assert type(asset_list) == tuple, \"Asset range must be a tuple containing asset names, for example: '0001.jpg, 0002.jpg'!\"\n",
    "        honeypot = asset_honeypot_dict[asset_list]\n",
    "        assert type(honeypot) == bool, \"Asset honeypot value must be a True or False!\"\n",
    "\n",
    "        all_project_external_ids = {}\n",
    "        for i in range(len(all_project_assets)):\n",
    "            all_project_external_ids[all_project_assets[i][\"externalId\"]] = i\n",
    "        for asset_name in asset_list:\n",
    "            if asset_name not in all_project_external_ids.keys():\n",
    "                print(f\"Asset name {asset_name} not found in project. Skipping...\")\n",
    "                continue\n",
    "            else:\n",
    "                asset_id = all_project_assets[all_project_external_ids[asset_name]]['id']\n",
    "                list_of_updated_assets.append((asset_id, asset_name))\n",
    "            if asset_id not in mutation_dict.keys():\n",
    "                mutation_dict[asset_id] = honeypot\n",
    "            else:\n",
    "                print(f\"Warning! Two honeypot values set for one asset: {asset_id}. Using the latter.\")\n",
    "                mutation_dict[asset_id] = honeypot\n",
    "\n",
    "    asset_ids = [i for i in mutation_dict.keys()]\n",
    "    is_honeypot_array = [mutation_dict[key] for key in mutation_dict.keys()]\n",
    "\n",
    "    kili.update_properties_in_assets(asset_ids=asset_ids, is_honeypot_array=is_honeypot_array)\n",
    "\n",
    "    for asset in list_of_updated_assets:\n",
    "        is_used_for_hp = kili.assets(project_id=project_id, asset_id=asset[0], fields=[\"isHoneypot\"])\n",
    "        summary.append((asset[0], asset[1], is_used_for_hp[0][\"isHoneypot\"]))\n",
    "    for item in summary:\n",
    "        print(f'AssetID: {item[0]}, asset name: {item[1]} is used as honeypot: {item[2]}.')\n",
    "\n",
    "\n",
    "asset_honeypot_dict = {\n",
    "    (\"2.jpg\", \"3.jpg\"): True,\n",
    "    (\"4.jpg\", \"5.jpg\"): False\n",
    "}\n",
    "\n",
    "set_honeypot_for_assets(project_id = project_id, asset_honeypot_dict = asset_honeypot_dict)"
   ]
  },
  {
   "cell_type": "markdown",
   "metadata": {},
   "source": [
    "For more information on honeypot, refer to our [documentation](https://docs.kili-technology.com/docs/consensus-overview)."
   ]
  },
  {
   "cell_type": "markdown",
   "metadata": {},
   "source": [
    "## Assigning labelers to assets"
   ]
  },
  {
   "cell_type": "markdown",
   "metadata": {},
   "source": [
    "You can assign specific labelers to specific assets in your project. You can do tht by assigning users' emails to the selected asset IDs:"
   ]
  },
  {
   "cell_type": "code",
   "execution_count": 320,
   "metadata": {},
   "outputs": [
    {
     "name": "stderr",
     "output_type": "stream",
     "text": [
      "100%|██████████| 5/5 [00:00<00:00, 10.19it/s]\n",
      "100%|██████████| 1/1 [00:00<00:00,  2.04it/s]\n",
      "100%|██████████| 1/1 [00:00<00:00,  1.90it/s]\n",
      "100%|██████████| 1/1 [00:00<00:00,  2.07it/s]\n",
      "100%|██████████| 1/1 [00:00<00:00,  2.04it/s]"
     ]
    },
    {
     "name": "stdout",
     "output_type": "stream",
     "text": [
      "AssetID: clbqdwqv300013b6gzpz47bat, asset name: 2.jpg is set to be labeled by: przemyslaw.czuba@kili-technology.com.\n",
      "AssetID: clbqdwqv300023b6gycknzs90, asset name: 3.jpg is set to be labeled by: przemyslaw.czuba@kili-technology.com.\n",
      "AssetID: clbqdwqv300033b6gien5hmlt, asset name: 4.jpg is set to be labeled by: przemyslaw.czuba@kili-technology.com.\n",
      "AssetID: clbqdwqv300043b6gbifi2ovx, asset name: 5.jpg is set to be labeled by: przemyslaw.czuba@kili-technology.com.\n"
     ]
    },
    {
     "name": "stderr",
     "output_type": "stream",
     "text": [
      "\n"
     ]
    }
   ],
   "source": [
    "def assign_labeler_to_assets(project_id: str, asset_email_dict: dict) -> str:\n",
    "\n",
    "    assert type(project_id) == str, \"Project type must be a string!\"\n",
    "    assert type(asset_email_dict) == dict, \"'asset_email_dict' must be a dict. Dict keys are are tuples marking start and end asset numbers, for example: '(0, 40)' and values are user e-mails.\"\n",
    "\n",
    "    summary = []\n",
    "    mutation_dict = {}\n",
    "    list_of_updated_assets = []\n",
    "    all_project_assets = kili.assets(project_id=project_id)\n",
    "\n",
    "    for asset_list in asset_email_dict.keys():\n",
    "        assert type(asset_list) == tuple, \"Asset range must be a tuple containing asset names, for example: '0001.jpg, 0002.jpg'!\"\n",
    "        email = asset_email_dict[asset_list]\n",
    "        assert type(email) == str, \"User email must be a string!\"\n",
    "        assert \"@\" in email, f\"'@' missing in email address {email}. Check email address!\"\n",
    "        \n",
    "        all_project_external_ids = {}\n",
    "        for i in range(len(all_project_assets)):\n",
    "            all_project_external_ids[all_project_assets[i][\"externalId\"]] = i\n",
    "        for asset_name in asset_list:\n",
    "            if asset_name not in all_project_external_ids.keys():\n",
    "                print(f\"Asset name {asset_name} not found in project. Skipping...\")\n",
    "                continue\n",
    "            else:\n",
    "                asset_id = all_project_assets[all_project_external_ids[asset_name]]['id']\n",
    "                list_of_updated_assets.append((asset_id, asset_name))\n",
    "                if asset_id not in mutation_dict.keys():\n",
    "                    mutation_dict[asset_id] = [email]\n",
    "                else:\n",
    "                    mutation_dict[asset_id].append(email)\n",
    "\n",
    "    asset_ids = [i for i in mutation_dict.keys()]\n",
    "    to_be_labeled_by_array = [mutation_dict[key] for key in mutation_dict.keys()]\n",
    "\n",
    "    kili.update_properties_in_assets(asset_ids=asset_ids, to_be_labeled_by_array=to_be_labeled_by_array)\n",
    "\n",
    "    for asset in list_of_updated_assets:\n",
    "        to_be_labeled_by = kili.assets(project_id=project_id, asset_id=asset[0], fields=[\"toBeLabeledBy.user.email\"])\n",
    "        list_of_labelers = to_be_labeled_by[0][\"toBeLabeledBy\"]\n",
    "        to_be_labeled_by = list_of_labelers[0][\"user\"][\"email\"]\n",
    "        if len(list_of_labelers) > 1:\n",
    "            for i in range(1, len(list_of_labelers)):\n",
    "                to_be_labeled_by += f\", {list_of_labelers[i]['user']['email']}\"\n",
    "        summary.append((asset[0], asset[1], to_be_labeled_by))\n",
    "    for item in summary:\n",
    "        print(f'AssetID: {item[0]}, asset name: {item[1]} is set to be labeled by: {item[2]}.')\n",
    "\n",
    "asset_email_dict = {\n",
    "    (\"2.jpg\", \"3.jpg\"): \"some.email@kili-technology.com\",\n",
    "    (\"4.jpg\", \"5.jpg\"): \"some.email@kili-technology.com\"\n",
    "}\n",
    "\n",
    "assign_labeler_to_assets(project_id = project_id, asset_email_dict = asset_email_dict)"
   ]
  },
  {
   "cell_type": "markdown",
   "metadata": {},
   "source": [
    "For information on how to add users and assign them to your project, refer to the `basic_project_setup.ipynb` tutorial.\n",
    "For information on assigning assets to users, refer to our [documentation](https://docs.kili-technology.com/docs/queue-prioritization)."
   ]
  },
  {
   "cell_type": "markdown",
   "metadata": {},
   "source": [
    "## Prioritizing assets in the labeling queue"
   ]
  },
  {
   "cell_type": "markdown",
   "metadata": {},
   "source": [
    "If you have certain assets that you need to have labeled earlier than the rest, you can use Kili's asset prioritization methods."
   ]
  },
  {
   "cell_type": "code",
   "execution_count": 319,
   "metadata": {},
   "outputs": [
    {
     "name": "stderr",
     "output_type": "stream",
     "text": [
      "100%|██████████| 5/5 [00:00<00:00, 10.18it/s]\n",
      "100%|██████████| 1/1 [00:00<00:00,  2.04it/s]\n",
      "100%|██████████| 1/1 [00:00<00:00,  2.04it/s]\n",
      "100%|██████████| 1/1 [00:00<00:00,  2.03it/s]\n",
      "100%|██████████| 1/1 [00:00<00:00,  2.04it/s]"
     ]
    },
    {
     "name": "stdout",
     "output_type": "stream",
     "text": [
      "Asset ID: clbqdwqv300003b6gbepg5xop, asset name: 1.jpg is set to priority: 0.\n",
      "Asset ID: clbqdwqv300013b6gzpz47bat, asset name: 2.jpg is set to priority: 0.\n",
      "Asset ID: clbqdwqv300023b6gycknzs90, asset name: 3.jpg is set to priority: 2.\n",
      "Asset ID: clbqdwqv300033b6gien5hmlt, asset name: 4.jpg is set to priority: 2.\n"
     ]
    },
    {
     "name": "stderr",
     "output_type": "stream",
     "text": [
      "\n"
     ]
    }
   ],
   "source": [
    "def set_priorities_for_assets(project_id: str, asset_priority_dict: dict) -> str:\n",
    "\n",
    "    assert type(project_id) == str, \"Project type must be a string!\"\n",
    "    assert type(asset_priority_dict) == dict, \"'asset_priority_dict' must be a dict. Dict keys are lists containing asset names, for example: '0001.jpg' and values are specific priorities.\"\n",
    "\n",
    "    summary = []\n",
    "    mutation_dict = {}\n",
    "    list_of_updated_assets = []\n",
    "    all_project_assets = kili.assets(project_id=project_id)\n",
    "\n",
    "    for asset_list in asset_priority_dict.keys():\n",
    "        assert type(asset_list) == tuple, \"Asset range must be a tuple containing asset names, for example: '0001.jpg, 0002.jpg'!\"\n",
    "        priority = asset_priority_dict[asset_list]\n",
    "        assert type(priority) == int, \"Asser priority must be an integer!\"\n",
    "        \n",
    "        all_project_external_ids = {}\n",
    "        for i in range(len(all_project_assets)):\n",
    "            all_project_external_ids[all_project_assets[i][\"externalId\"]] = i\n",
    "        for asset_name in asset_list:\n",
    "            if asset_name not in all_project_external_ids.keys():\n",
    "                print(f\"Asset name {asset_name} not found in project. Skipping...\")\n",
    "                continue\n",
    "            else:\n",
    "                asset_id = all_project_assets[all_project_external_ids[asset_name]]['id']\n",
    "                list_of_updated_assets.append((asset_id, asset_name))\n",
    "            if asset_id not in mutation_dict.keys():\n",
    "                mutation_dict[asset_id] = priority\n",
    "            else:\n",
    "                print(f\"Warning! Two priorities set for one asset: {asset_id}. Using the latter.\")\n",
    "                mutation_dict[asset_id] = priority\n",
    "\n",
    "    asset_ids = [i for i in mutation_dict.keys()]\n",
    "    priorities = [mutation_dict[key] for key in mutation_dict.keys()]\n",
    "\n",
    "    kili.update_properties_in_assets(asset_ids=asset_ids, priorities=priorities)\n",
    "\n",
    "    for asset in list_of_updated_assets:\n",
    "        priority = kili.assets(project_id=project_id, asset_id=asset[0], fields=[\"priority\"])\n",
    "        summary.append((asset[0], asset[1], priority[0][\"priority\"]))\n",
    "    for item in summary:\n",
    "        print(f'Asset ID: {item[0]}, asset name: {item[1]} is set to priority: {item[2]}.')\n",
    "\n",
    "asset_priority_dict = {\n",
    "    (\"1.jpg\", \"2.jpg\"): 0,\n",
    "    (\"3.jpg\", \"4.jpg\"): 2\n",
    "}\n",
    "\n",
    "set_priorities_for_assets(project_id = project_id, asset_priority_dict = asset_priority_dict)"
   ]
  },
  {
   "cell_type": "markdown",
   "metadata": {},
   "source": [
    "For information on setting asset priorities, refer to our [documentation](https://docs.kili-technology.com/docs/queue-prioritization)."
   ]
  },
  {
   "cell_type": "markdown",
   "metadata": {},
   "source": [
    "## Summary"
   ]
  },
  {
   "cell_type": "markdown",
   "metadata": {},
   "source": [
    "Done. We've learned how to handle the review workflow, set up consensus and honeypot in a project, assign specific labelers to specific assets, and how to prioritize assets in the labeling queue. Well done!"
   ]
  }
 ],
 "metadata": {
  "kernelspec": {
   "display_name": "Python 3.7.13 ('python-sdk')",
   "language": "python",
   "name": "python3"
  },
  "language_info": {
   "codemirror_mode": {
    "name": "ipython",
    "version": 3
   },
   "file_extension": ".py",
   "mimetype": "text/x-python",
   "name": "python",
   "nbconvert_exporter": "python",
   "pygments_lexer": "ipython3",
   "version": "3.7.13 (default, Mar 28 2022, 07:24:34) \n[Clang 12.0.0 ]"
  },
  "orig_nbformat": 4,
  "vscode": {
   "interpreter": {
    "hash": "de396e6bb0ca1b0abec04a877b6eb6711952a215fc7f5dc02d30f83999f7a5a6"
   }
  }
 },
 "nbformat": 4,
 "nbformat_minor": 2
}
